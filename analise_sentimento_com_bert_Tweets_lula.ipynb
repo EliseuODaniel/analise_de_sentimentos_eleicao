{
  "nbformat": 4,
  "nbformat_minor": 0,
  "metadata": {
    "colab": {
      "provenance": [],
      "collapsed_sections": [],
      "include_colab_link": true
    },
    "kernelspec": {
      "name": "python3",
      "display_name": "Python 3"
    },
    "language_info": {
      "name": "python"
    },
    "gpuClass": "standard",
    "widgets": {
      "application/vnd.jupyter.widget-state+json": {
        "080acac1067c4075acf27b64efa363ce": {
          "model_module": "@jupyter-widgets/controls",
          "model_name": "HBoxModel",
          "model_module_version": "1.5.0",
          "state": {
            "_dom_classes": [],
            "_model_module": "@jupyter-widgets/controls",
            "_model_module_version": "1.5.0",
            "_model_name": "HBoxModel",
            "_view_count": null,
            "_view_module": "@jupyter-widgets/controls",
            "_view_module_version": "1.5.0",
            "_view_name": "HBoxView",
            "box_style": "",
            "children": [
              "IPY_MODEL_d2a5a46b830640beb707d64d05633594",
              "IPY_MODEL_2c88b6533f5740fcb9f6d2bb41af13bb",
              "IPY_MODEL_76f2a5891ffd4a98a1313f1f52f82f26"
            ],
            "layout": "IPY_MODEL_a1d8a483b42b4131bb28dbce496f97e8"
          }
        },
        "d2a5a46b830640beb707d64d05633594": {
          "model_module": "@jupyter-widgets/controls",
          "model_name": "HTMLModel",
          "model_module_version": "1.5.0",
          "state": {
            "_dom_classes": [],
            "_model_module": "@jupyter-widgets/controls",
            "_model_module_version": "1.5.0",
            "_model_name": "HTMLModel",
            "_view_count": null,
            "_view_module": "@jupyter-widgets/controls",
            "_view_module_version": "1.5.0",
            "_view_name": "HTMLView",
            "description": "",
            "description_tooltip": null,
            "layout": "IPY_MODEL_1134fc04e69c4e57a322630291379fdd",
            "placeholder": "​",
            "style": "IPY_MODEL_ea6946335a4e457bb28eeb420f421996",
            "value": "Downloading: 100%"
          }
        },
        "2c88b6533f5740fcb9f6d2bb41af13bb": {
          "model_module": "@jupyter-widgets/controls",
          "model_name": "FloatProgressModel",
          "model_module_version": "1.5.0",
          "state": {
            "_dom_classes": [],
            "_model_module": "@jupyter-widgets/controls",
            "_model_module_version": "1.5.0",
            "_model_name": "FloatProgressModel",
            "_view_count": null,
            "_view_module": "@jupyter-widgets/controls",
            "_view_module_version": "1.5.0",
            "_view_name": "ProgressView",
            "bar_style": "success",
            "description": "",
            "description_tooltip": null,
            "layout": "IPY_MODEL_7c9bde15d0024aaa87d7d4b363dc9872",
            "max": 155,
            "min": 0,
            "orientation": "horizontal",
            "style": "IPY_MODEL_598fe156e8774d72bf08e01a87765524",
            "value": 155
          }
        },
        "76f2a5891ffd4a98a1313f1f52f82f26": {
          "model_module": "@jupyter-widgets/controls",
          "model_name": "HTMLModel",
          "model_module_version": "1.5.0",
          "state": {
            "_dom_classes": [],
            "_model_module": "@jupyter-widgets/controls",
            "_model_module_version": "1.5.0",
            "_model_name": "HTMLModel",
            "_view_count": null,
            "_view_module": "@jupyter-widgets/controls",
            "_view_module_version": "1.5.0",
            "_view_name": "HTMLView",
            "description": "",
            "description_tooltip": null,
            "layout": "IPY_MODEL_ba76065f288b4cbcacc263d91190cd35",
            "placeholder": "​",
            "style": "IPY_MODEL_acf3361aaf384bd592bddd600c887a3f",
            "value": " 155/155 [00:00&lt;00:00, 2.35kB/s]"
          }
        },
        "a1d8a483b42b4131bb28dbce496f97e8": {
          "model_module": "@jupyter-widgets/base",
          "model_name": "LayoutModel",
          "model_module_version": "1.2.0",
          "state": {
            "_model_module": "@jupyter-widgets/base",
            "_model_module_version": "1.2.0",
            "_model_name": "LayoutModel",
            "_view_count": null,
            "_view_module": "@jupyter-widgets/base",
            "_view_module_version": "1.2.0",
            "_view_name": "LayoutView",
            "align_content": null,
            "align_items": null,
            "align_self": null,
            "border": null,
            "bottom": null,
            "display": null,
            "flex": null,
            "flex_flow": null,
            "grid_area": null,
            "grid_auto_columns": null,
            "grid_auto_flow": null,
            "grid_auto_rows": null,
            "grid_column": null,
            "grid_gap": null,
            "grid_row": null,
            "grid_template_areas": null,
            "grid_template_columns": null,
            "grid_template_rows": null,
            "height": null,
            "justify_content": null,
            "justify_items": null,
            "left": null,
            "margin": null,
            "max_height": null,
            "max_width": null,
            "min_height": null,
            "min_width": null,
            "object_fit": null,
            "object_position": null,
            "order": null,
            "overflow": null,
            "overflow_x": null,
            "overflow_y": null,
            "padding": null,
            "right": null,
            "top": null,
            "visibility": null,
            "width": null
          }
        },
        "1134fc04e69c4e57a322630291379fdd": {
          "model_module": "@jupyter-widgets/base",
          "model_name": "LayoutModel",
          "model_module_version": "1.2.0",
          "state": {
            "_model_module": "@jupyter-widgets/base",
            "_model_module_version": "1.2.0",
            "_model_name": "LayoutModel",
            "_view_count": null,
            "_view_module": "@jupyter-widgets/base",
            "_view_module_version": "1.2.0",
            "_view_name": "LayoutView",
            "align_content": null,
            "align_items": null,
            "align_self": null,
            "border": null,
            "bottom": null,
            "display": null,
            "flex": null,
            "flex_flow": null,
            "grid_area": null,
            "grid_auto_columns": null,
            "grid_auto_flow": null,
            "grid_auto_rows": null,
            "grid_column": null,
            "grid_gap": null,
            "grid_row": null,
            "grid_template_areas": null,
            "grid_template_columns": null,
            "grid_template_rows": null,
            "height": null,
            "justify_content": null,
            "justify_items": null,
            "left": null,
            "margin": null,
            "max_height": null,
            "max_width": null,
            "min_height": null,
            "min_width": null,
            "object_fit": null,
            "object_position": null,
            "order": null,
            "overflow": null,
            "overflow_x": null,
            "overflow_y": null,
            "padding": null,
            "right": null,
            "top": null,
            "visibility": null,
            "width": null
          }
        },
        "ea6946335a4e457bb28eeb420f421996": {
          "model_module": "@jupyter-widgets/controls",
          "model_name": "DescriptionStyleModel",
          "model_module_version": "1.5.0",
          "state": {
            "_model_module": "@jupyter-widgets/controls",
            "_model_module_version": "1.5.0",
            "_model_name": "DescriptionStyleModel",
            "_view_count": null,
            "_view_module": "@jupyter-widgets/base",
            "_view_module_version": "1.2.0",
            "_view_name": "StyleView",
            "description_width": ""
          }
        },
        "7c9bde15d0024aaa87d7d4b363dc9872": {
          "model_module": "@jupyter-widgets/base",
          "model_name": "LayoutModel",
          "model_module_version": "1.2.0",
          "state": {
            "_model_module": "@jupyter-widgets/base",
            "_model_module_version": "1.2.0",
            "_model_name": "LayoutModel",
            "_view_count": null,
            "_view_module": "@jupyter-widgets/base",
            "_view_module_version": "1.2.0",
            "_view_name": "LayoutView",
            "align_content": null,
            "align_items": null,
            "align_self": null,
            "border": null,
            "bottom": null,
            "display": null,
            "flex": null,
            "flex_flow": null,
            "grid_area": null,
            "grid_auto_columns": null,
            "grid_auto_flow": null,
            "grid_auto_rows": null,
            "grid_column": null,
            "grid_gap": null,
            "grid_row": null,
            "grid_template_areas": null,
            "grid_template_columns": null,
            "grid_template_rows": null,
            "height": null,
            "justify_content": null,
            "justify_items": null,
            "left": null,
            "margin": null,
            "max_height": null,
            "max_width": null,
            "min_height": null,
            "min_width": null,
            "object_fit": null,
            "object_position": null,
            "order": null,
            "overflow": null,
            "overflow_x": null,
            "overflow_y": null,
            "padding": null,
            "right": null,
            "top": null,
            "visibility": null,
            "width": null
          }
        },
        "598fe156e8774d72bf08e01a87765524": {
          "model_module": "@jupyter-widgets/controls",
          "model_name": "ProgressStyleModel",
          "model_module_version": "1.5.0",
          "state": {
            "_model_module": "@jupyter-widgets/controls",
            "_model_module_version": "1.5.0",
            "_model_name": "ProgressStyleModel",
            "_view_count": null,
            "_view_module": "@jupyter-widgets/base",
            "_view_module_version": "1.2.0",
            "_view_name": "StyleView",
            "bar_color": null,
            "description_width": ""
          }
        },
        "ba76065f288b4cbcacc263d91190cd35": {
          "model_module": "@jupyter-widgets/base",
          "model_name": "LayoutModel",
          "model_module_version": "1.2.0",
          "state": {
            "_model_module": "@jupyter-widgets/base",
            "_model_module_version": "1.2.0",
            "_model_name": "LayoutModel",
            "_view_count": null,
            "_view_module": "@jupyter-widgets/base",
            "_view_module_version": "1.2.0",
            "_view_name": "LayoutView",
            "align_content": null,
            "align_items": null,
            "align_self": null,
            "border": null,
            "bottom": null,
            "display": null,
            "flex": null,
            "flex_flow": null,
            "grid_area": null,
            "grid_auto_columns": null,
            "grid_auto_flow": null,
            "grid_auto_rows": null,
            "grid_column": null,
            "grid_gap": null,
            "grid_row": null,
            "grid_template_areas": null,
            "grid_template_columns": null,
            "grid_template_rows": null,
            "height": null,
            "justify_content": null,
            "justify_items": null,
            "left": null,
            "margin": null,
            "max_height": null,
            "max_width": null,
            "min_height": null,
            "min_width": null,
            "object_fit": null,
            "object_position": null,
            "order": null,
            "overflow": null,
            "overflow_x": null,
            "overflow_y": null,
            "padding": null,
            "right": null,
            "top": null,
            "visibility": null,
            "width": null
          }
        },
        "acf3361aaf384bd592bddd600c887a3f": {
          "model_module": "@jupyter-widgets/controls",
          "model_name": "DescriptionStyleModel",
          "model_module_version": "1.5.0",
          "state": {
            "_model_module": "@jupyter-widgets/controls",
            "_model_module_version": "1.5.0",
            "_model_name": "DescriptionStyleModel",
            "_view_count": null,
            "_view_module": "@jupyter-widgets/base",
            "_view_module_version": "1.2.0",
            "_view_name": "StyleView",
            "description_width": ""
          }
        },
        "08ca495c1186427787e247f948f19e97": {
          "model_module": "@jupyter-widgets/controls",
          "model_name": "HBoxModel",
          "model_module_version": "1.5.0",
          "state": {
            "_dom_classes": [],
            "_model_module": "@jupyter-widgets/controls",
            "_model_module_version": "1.5.0",
            "_model_name": "HBoxModel",
            "_view_count": null,
            "_view_module": "@jupyter-widgets/controls",
            "_view_module_version": "1.5.0",
            "_view_name": "HBoxView",
            "box_style": "",
            "children": [
              "IPY_MODEL_9e8a5f656a3e48bb8f64c4d572004d7f",
              "IPY_MODEL_f674bef3ae574983aabe75f560699aa8",
              "IPY_MODEL_e5570b1af8124014ac93eef64669dfd9"
            ],
            "layout": "IPY_MODEL_7d7a9b312b4147959f2ab6c43985728d"
          }
        },
        "9e8a5f656a3e48bb8f64c4d572004d7f": {
          "model_module": "@jupyter-widgets/controls",
          "model_name": "HTMLModel",
          "model_module_version": "1.5.0",
          "state": {
            "_dom_classes": [],
            "_model_module": "@jupyter-widgets/controls",
            "_model_module_version": "1.5.0",
            "_model_name": "HTMLModel",
            "_view_count": null,
            "_view_module": "@jupyter-widgets/controls",
            "_view_module_version": "1.5.0",
            "_view_name": "HTMLView",
            "description": "",
            "description_tooltip": null,
            "layout": "IPY_MODEL_46ed4852ef3841a58af890bea264b92c",
            "placeholder": "​",
            "style": "IPY_MODEL_c3d6d98a45314e82bdc220233ee29d1a",
            "value": "Downloading: 100%"
          }
        },
        "f674bef3ae574983aabe75f560699aa8": {
          "model_module": "@jupyter-widgets/controls",
          "model_name": "FloatProgressModel",
          "model_module_version": "1.5.0",
          "state": {
            "_dom_classes": [],
            "_model_module": "@jupyter-widgets/controls",
            "_model_module_version": "1.5.0",
            "_model_name": "FloatProgressModel",
            "_view_count": null,
            "_view_module": "@jupyter-widgets/controls",
            "_view_module_version": "1.5.0",
            "_view_name": "ProgressView",
            "bar_style": "success",
            "description": "",
            "description_tooltip": null,
            "layout": "IPY_MODEL_cb107ef9d6564c2e9e25839358e53999",
            "max": 648,
            "min": 0,
            "orientation": "horizontal",
            "style": "IPY_MODEL_991ed9b42f094252ac4f99d2fd6e7d8d",
            "value": 648
          }
        },
        "e5570b1af8124014ac93eef64669dfd9": {
          "model_module": "@jupyter-widgets/controls",
          "model_name": "HTMLModel",
          "model_module_version": "1.5.0",
          "state": {
            "_dom_classes": [],
            "_model_module": "@jupyter-widgets/controls",
            "_model_module_version": "1.5.0",
            "_model_name": "HTMLModel",
            "_view_count": null,
            "_view_module": "@jupyter-widgets/controls",
            "_view_module_version": "1.5.0",
            "_view_name": "HTMLView",
            "description": "",
            "description_tooltip": null,
            "layout": "IPY_MODEL_5ee0ac4b202544dcaa836b7d57d8fc2d",
            "placeholder": "​",
            "style": "IPY_MODEL_795aac4e42674f5ea9794d358dfeaf8f",
            "value": " 648/648 [00:00&lt;00:00, 4.82kB/s]"
          }
        },
        "7d7a9b312b4147959f2ab6c43985728d": {
          "model_module": "@jupyter-widgets/base",
          "model_name": "LayoutModel",
          "model_module_version": "1.2.0",
          "state": {
            "_model_module": "@jupyter-widgets/base",
            "_model_module_version": "1.2.0",
            "_model_name": "LayoutModel",
            "_view_count": null,
            "_view_module": "@jupyter-widgets/base",
            "_view_module_version": "1.2.0",
            "_view_name": "LayoutView",
            "align_content": null,
            "align_items": null,
            "align_self": null,
            "border": null,
            "bottom": null,
            "display": null,
            "flex": null,
            "flex_flow": null,
            "grid_area": null,
            "grid_auto_columns": null,
            "grid_auto_flow": null,
            "grid_auto_rows": null,
            "grid_column": null,
            "grid_gap": null,
            "grid_row": null,
            "grid_template_areas": null,
            "grid_template_columns": null,
            "grid_template_rows": null,
            "height": null,
            "justify_content": null,
            "justify_items": null,
            "left": null,
            "margin": null,
            "max_height": null,
            "max_width": null,
            "min_height": null,
            "min_width": null,
            "object_fit": null,
            "object_position": null,
            "order": null,
            "overflow": null,
            "overflow_x": null,
            "overflow_y": null,
            "padding": null,
            "right": null,
            "top": null,
            "visibility": null,
            "width": null
          }
        },
        "46ed4852ef3841a58af890bea264b92c": {
          "model_module": "@jupyter-widgets/base",
          "model_name": "LayoutModel",
          "model_module_version": "1.2.0",
          "state": {
            "_model_module": "@jupyter-widgets/base",
            "_model_module_version": "1.2.0",
            "_model_name": "LayoutModel",
            "_view_count": null,
            "_view_module": "@jupyter-widgets/base",
            "_view_module_version": "1.2.0",
            "_view_name": "LayoutView",
            "align_content": null,
            "align_items": null,
            "align_self": null,
            "border": null,
            "bottom": null,
            "display": null,
            "flex": null,
            "flex_flow": null,
            "grid_area": null,
            "grid_auto_columns": null,
            "grid_auto_flow": null,
            "grid_auto_rows": null,
            "grid_column": null,
            "grid_gap": null,
            "grid_row": null,
            "grid_template_areas": null,
            "grid_template_columns": null,
            "grid_template_rows": null,
            "height": null,
            "justify_content": null,
            "justify_items": null,
            "left": null,
            "margin": null,
            "max_height": null,
            "max_width": null,
            "min_height": null,
            "min_width": null,
            "object_fit": null,
            "object_position": null,
            "order": null,
            "overflow": null,
            "overflow_x": null,
            "overflow_y": null,
            "padding": null,
            "right": null,
            "top": null,
            "visibility": null,
            "width": null
          }
        },
        "c3d6d98a45314e82bdc220233ee29d1a": {
          "model_module": "@jupyter-widgets/controls",
          "model_name": "DescriptionStyleModel",
          "model_module_version": "1.5.0",
          "state": {
            "_model_module": "@jupyter-widgets/controls",
            "_model_module_version": "1.5.0",
            "_model_name": "DescriptionStyleModel",
            "_view_count": null,
            "_view_module": "@jupyter-widgets/base",
            "_view_module_version": "1.2.0",
            "_view_name": "StyleView",
            "description_width": ""
          }
        },
        "cb107ef9d6564c2e9e25839358e53999": {
          "model_module": "@jupyter-widgets/base",
          "model_name": "LayoutModel",
          "model_module_version": "1.2.0",
          "state": {
            "_model_module": "@jupyter-widgets/base",
            "_model_module_version": "1.2.0",
            "_model_name": "LayoutModel",
            "_view_count": null,
            "_view_module": "@jupyter-widgets/base",
            "_view_module_version": "1.2.0",
            "_view_name": "LayoutView",
            "align_content": null,
            "align_items": null,
            "align_self": null,
            "border": null,
            "bottom": null,
            "display": null,
            "flex": null,
            "flex_flow": null,
            "grid_area": null,
            "grid_auto_columns": null,
            "grid_auto_flow": null,
            "grid_auto_rows": null,
            "grid_column": null,
            "grid_gap": null,
            "grid_row": null,
            "grid_template_areas": null,
            "grid_template_columns": null,
            "grid_template_rows": null,
            "height": null,
            "justify_content": null,
            "justify_items": null,
            "left": null,
            "margin": null,
            "max_height": null,
            "max_width": null,
            "min_height": null,
            "min_width": null,
            "object_fit": null,
            "object_position": null,
            "order": null,
            "overflow": null,
            "overflow_x": null,
            "overflow_y": null,
            "padding": null,
            "right": null,
            "top": null,
            "visibility": null,
            "width": null
          }
        },
        "991ed9b42f094252ac4f99d2fd6e7d8d": {
          "model_module": "@jupyter-widgets/controls",
          "model_name": "ProgressStyleModel",
          "model_module_version": "1.5.0",
          "state": {
            "_model_module": "@jupyter-widgets/controls",
            "_model_module_version": "1.5.0",
            "_model_name": "ProgressStyleModel",
            "_view_count": null,
            "_view_module": "@jupyter-widgets/base",
            "_view_module_version": "1.2.0",
            "_view_name": "StyleView",
            "bar_color": null,
            "description_width": ""
          }
        },
        "5ee0ac4b202544dcaa836b7d57d8fc2d": {
          "model_module": "@jupyter-widgets/base",
          "model_name": "LayoutModel",
          "model_module_version": "1.2.0",
          "state": {
            "_model_module": "@jupyter-widgets/base",
            "_model_module_version": "1.2.0",
            "_model_name": "LayoutModel",
            "_view_count": null,
            "_view_module": "@jupyter-widgets/base",
            "_view_module_version": "1.2.0",
            "_view_name": "LayoutView",
            "align_content": null,
            "align_items": null,
            "align_self": null,
            "border": null,
            "bottom": null,
            "display": null,
            "flex": null,
            "flex_flow": null,
            "grid_area": null,
            "grid_auto_columns": null,
            "grid_auto_flow": null,
            "grid_auto_rows": null,
            "grid_column": null,
            "grid_gap": null,
            "grid_row": null,
            "grid_template_areas": null,
            "grid_template_columns": null,
            "grid_template_rows": null,
            "height": null,
            "justify_content": null,
            "justify_items": null,
            "left": null,
            "margin": null,
            "max_height": null,
            "max_width": null,
            "min_height": null,
            "min_width": null,
            "object_fit": null,
            "object_position": null,
            "order": null,
            "overflow": null,
            "overflow_x": null,
            "overflow_y": null,
            "padding": null,
            "right": null,
            "top": null,
            "visibility": null,
            "width": null
          }
        },
        "795aac4e42674f5ea9794d358dfeaf8f": {
          "model_module": "@jupyter-widgets/controls",
          "model_name": "DescriptionStyleModel",
          "model_module_version": "1.5.0",
          "state": {
            "_model_module": "@jupyter-widgets/controls",
            "_model_module_version": "1.5.0",
            "_model_name": "DescriptionStyleModel",
            "_view_count": null,
            "_view_module": "@jupyter-widgets/base",
            "_view_module_version": "1.2.0",
            "_view_name": "StyleView",
            "description_width": ""
          }
        },
        "1443d0d2cb444b95ac51e818ce7a4dd5": {
          "model_module": "@jupyter-widgets/controls",
          "model_name": "HBoxModel",
          "model_module_version": "1.5.0",
          "state": {
            "_dom_classes": [],
            "_model_module": "@jupyter-widgets/controls",
            "_model_module_version": "1.5.0",
            "_model_name": "HBoxModel",
            "_view_count": null,
            "_view_module": "@jupyter-widgets/controls",
            "_view_module_version": "1.5.0",
            "_view_name": "HBoxView",
            "box_style": "",
            "children": [
              "IPY_MODEL_61185c3b3cac41a4b9eaa72888c313bd",
              "IPY_MODEL_7aae66efcc38453f978b1252dace6c21",
              "IPY_MODEL_4c97d5723fee4b6ba700b8e8085e8f73"
            ],
            "layout": "IPY_MODEL_e29b5b1c2624413fa7115fb3e92d0408"
          }
        },
        "61185c3b3cac41a4b9eaa72888c313bd": {
          "model_module": "@jupyter-widgets/controls",
          "model_name": "HTMLModel",
          "model_module_version": "1.5.0",
          "state": {
            "_dom_classes": [],
            "_model_module": "@jupyter-widgets/controls",
            "_model_module_version": "1.5.0",
            "_model_name": "HTMLModel",
            "_view_count": null,
            "_view_module": "@jupyter-widgets/controls",
            "_view_module_version": "1.5.0",
            "_view_name": "HTMLView",
            "description": "",
            "description_tooltip": null,
            "layout": "IPY_MODEL_bb29aede45e54a0798e740af7ece0477",
            "placeholder": "​",
            "style": "IPY_MODEL_f03b844984e6492c8fc68e353f09f972",
            "value": "Downloading: 100%"
          }
        },
        "7aae66efcc38453f978b1252dace6c21": {
          "model_module": "@jupyter-widgets/controls",
          "model_name": "FloatProgressModel",
          "model_module_version": "1.5.0",
          "state": {
            "_dom_classes": [],
            "_model_module": "@jupyter-widgets/controls",
            "_model_module_version": "1.5.0",
            "_model_name": "FloatProgressModel",
            "_view_count": null,
            "_view_module": "@jupyter-widgets/controls",
            "_view_module_version": "1.5.0",
            "_view_name": "ProgressView",
            "bar_style": "success",
            "description": "",
            "description_tooltip": null,
            "layout": "IPY_MODEL_8d3df6c3722b4336b0e27445a0de45be",
            "max": 209528,
            "min": 0,
            "orientation": "horizontal",
            "style": "IPY_MODEL_fd63382924f14a6cba347249a95ac9ae",
            "value": 209528
          }
        },
        "4c97d5723fee4b6ba700b8e8085e8f73": {
          "model_module": "@jupyter-widgets/controls",
          "model_name": "HTMLModel",
          "model_module_version": "1.5.0",
          "state": {
            "_dom_classes": [],
            "_model_module": "@jupyter-widgets/controls",
            "_model_module_version": "1.5.0",
            "_model_name": "HTMLModel",
            "_view_count": null,
            "_view_module": "@jupyter-widgets/controls",
            "_view_module_version": "1.5.0",
            "_view_name": "HTMLView",
            "description": "",
            "description_tooltip": null,
            "layout": "IPY_MODEL_2c275857130f4b61b4dfc633b8b16726",
            "placeholder": "​",
            "style": "IPY_MODEL_35ab4cf6b9484d268e5a61899370d981",
            "value": " 210k/210k [00:00&lt;00:00, 259kB/s]"
          }
        },
        "e29b5b1c2624413fa7115fb3e92d0408": {
          "model_module": "@jupyter-widgets/base",
          "model_name": "LayoutModel",
          "model_module_version": "1.2.0",
          "state": {
            "_model_module": "@jupyter-widgets/base",
            "_model_module_version": "1.2.0",
            "_model_name": "LayoutModel",
            "_view_count": null,
            "_view_module": "@jupyter-widgets/base",
            "_view_module_version": "1.2.0",
            "_view_name": "LayoutView",
            "align_content": null,
            "align_items": null,
            "align_self": null,
            "border": null,
            "bottom": null,
            "display": null,
            "flex": null,
            "flex_flow": null,
            "grid_area": null,
            "grid_auto_columns": null,
            "grid_auto_flow": null,
            "grid_auto_rows": null,
            "grid_column": null,
            "grid_gap": null,
            "grid_row": null,
            "grid_template_areas": null,
            "grid_template_columns": null,
            "grid_template_rows": null,
            "height": null,
            "justify_content": null,
            "justify_items": null,
            "left": null,
            "margin": null,
            "max_height": null,
            "max_width": null,
            "min_height": null,
            "min_width": null,
            "object_fit": null,
            "object_position": null,
            "order": null,
            "overflow": null,
            "overflow_x": null,
            "overflow_y": null,
            "padding": null,
            "right": null,
            "top": null,
            "visibility": null,
            "width": null
          }
        },
        "bb29aede45e54a0798e740af7ece0477": {
          "model_module": "@jupyter-widgets/base",
          "model_name": "LayoutModel",
          "model_module_version": "1.2.0",
          "state": {
            "_model_module": "@jupyter-widgets/base",
            "_model_module_version": "1.2.0",
            "_model_name": "LayoutModel",
            "_view_count": null,
            "_view_module": "@jupyter-widgets/base",
            "_view_module_version": "1.2.0",
            "_view_name": "LayoutView",
            "align_content": null,
            "align_items": null,
            "align_self": null,
            "border": null,
            "bottom": null,
            "display": null,
            "flex": null,
            "flex_flow": null,
            "grid_area": null,
            "grid_auto_columns": null,
            "grid_auto_flow": null,
            "grid_auto_rows": null,
            "grid_column": null,
            "grid_gap": null,
            "grid_row": null,
            "grid_template_areas": null,
            "grid_template_columns": null,
            "grid_template_rows": null,
            "height": null,
            "justify_content": null,
            "justify_items": null,
            "left": null,
            "margin": null,
            "max_height": null,
            "max_width": null,
            "min_height": null,
            "min_width": null,
            "object_fit": null,
            "object_position": null,
            "order": null,
            "overflow": null,
            "overflow_x": null,
            "overflow_y": null,
            "padding": null,
            "right": null,
            "top": null,
            "visibility": null,
            "width": null
          }
        },
        "f03b844984e6492c8fc68e353f09f972": {
          "model_module": "@jupyter-widgets/controls",
          "model_name": "DescriptionStyleModel",
          "model_module_version": "1.5.0",
          "state": {
            "_model_module": "@jupyter-widgets/controls",
            "_model_module_version": "1.5.0",
            "_model_name": "DescriptionStyleModel",
            "_view_count": null,
            "_view_module": "@jupyter-widgets/base",
            "_view_module_version": "1.2.0",
            "_view_name": "StyleView",
            "description_width": ""
          }
        },
        "8d3df6c3722b4336b0e27445a0de45be": {
          "model_module": "@jupyter-widgets/base",
          "model_name": "LayoutModel",
          "model_module_version": "1.2.0",
          "state": {
            "_model_module": "@jupyter-widgets/base",
            "_model_module_version": "1.2.0",
            "_model_name": "LayoutModel",
            "_view_count": null,
            "_view_module": "@jupyter-widgets/base",
            "_view_module_version": "1.2.0",
            "_view_name": "LayoutView",
            "align_content": null,
            "align_items": null,
            "align_self": null,
            "border": null,
            "bottom": null,
            "display": null,
            "flex": null,
            "flex_flow": null,
            "grid_area": null,
            "grid_auto_columns": null,
            "grid_auto_flow": null,
            "grid_auto_rows": null,
            "grid_column": null,
            "grid_gap": null,
            "grid_row": null,
            "grid_template_areas": null,
            "grid_template_columns": null,
            "grid_template_rows": null,
            "height": null,
            "justify_content": null,
            "justify_items": null,
            "left": null,
            "margin": null,
            "max_height": null,
            "max_width": null,
            "min_height": null,
            "min_width": null,
            "object_fit": null,
            "object_position": null,
            "order": null,
            "overflow": null,
            "overflow_x": null,
            "overflow_y": null,
            "padding": null,
            "right": null,
            "top": null,
            "visibility": null,
            "width": null
          }
        },
        "fd63382924f14a6cba347249a95ac9ae": {
          "model_module": "@jupyter-widgets/controls",
          "model_name": "ProgressStyleModel",
          "model_module_version": "1.5.0",
          "state": {
            "_model_module": "@jupyter-widgets/controls",
            "_model_module_version": "1.5.0",
            "_model_name": "ProgressStyleModel",
            "_view_count": null,
            "_view_module": "@jupyter-widgets/base",
            "_view_module_version": "1.2.0",
            "_view_name": "StyleView",
            "bar_color": null,
            "description_width": ""
          }
        },
        "2c275857130f4b61b4dfc633b8b16726": {
          "model_module": "@jupyter-widgets/base",
          "model_name": "LayoutModel",
          "model_module_version": "1.2.0",
          "state": {
            "_model_module": "@jupyter-widgets/base",
            "_model_module_version": "1.2.0",
            "_model_name": "LayoutModel",
            "_view_count": null,
            "_view_module": "@jupyter-widgets/base",
            "_view_module_version": "1.2.0",
            "_view_name": "LayoutView",
            "align_content": null,
            "align_items": null,
            "align_self": null,
            "border": null,
            "bottom": null,
            "display": null,
            "flex": null,
            "flex_flow": null,
            "grid_area": null,
            "grid_auto_columns": null,
            "grid_auto_flow": null,
            "grid_auto_rows": null,
            "grid_column": null,
            "grid_gap": null,
            "grid_row": null,
            "grid_template_areas": null,
            "grid_template_columns": null,
            "grid_template_rows": null,
            "height": null,
            "justify_content": null,
            "justify_items": null,
            "left": null,
            "margin": null,
            "max_height": null,
            "max_width": null,
            "min_height": null,
            "min_width": null,
            "object_fit": null,
            "object_position": null,
            "order": null,
            "overflow": null,
            "overflow_x": null,
            "overflow_y": null,
            "padding": null,
            "right": null,
            "top": null,
            "visibility": null,
            "width": null
          }
        },
        "35ab4cf6b9484d268e5a61899370d981": {
          "model_module": "@jupyter-widgets/controls",
          "model_name": "DescriptionStyleModel",
          "model_module_version": "1.5.0",
          "state": {
            "_model_module": "@jupyter-widgets/controls",
            "_model_module_version": "1.5.0",
            "_model_name": "DescriptionStyleModel",
            "_view_count": null,
            "_view_module": "@jupyter-widgets/base",
            "_view_module_version": "1.2.0",
            "_view_name": "StyleView",
            "description_width": ""
          }
        },
        "4da140d06602413b9c2da360d1b646bd": {
          "model_module": "@jupyter-widgets/controls",
          "model_name": "HBoxModel",
          "model_module_version": "1.5.0",
          "state": {
            "_dom_classes": [],
            "_model_module": "@jupyter-widgets/controls",
            "_model_module_version": "1.5.0",
            "_model_name": "HBoxModel",
            "_view_count": null,
            "_view_module": "@jupyter-widgets/controls",
            "_view_module_version": "1.5.0",
            "_view_name": "HBoxView",
            "box_style": "",
            "children": [
              "IPY_MODEL_84cc8c691d2d4f07822a547d634c59ad",
              "IPY_MODEL_2cd54b713b294a2e8e1fac05dca4de48",
              "IPY_MODEL_b3e0ace6024143798108bd36c23786ee"
            ],
            "layout": "IPY_MODEL_2e7f69c436d44d11bf2575235ec4f2ce"
          }
        },
        "84cc8c691d2d4f07822a547d634c59ad": {
          "model_module": "@jupyter-widgets/controls",
          "model_name": "HTMLModel",
          "model_module_version": "1.5.0",
          "state": {
            "_dom_classes": [],
            "_model_module": "@jupyter-widgets/controls",
            "_model_module_version": "1.5.0",
            "_model_name": "HTMLModel",
            "_view_count": null,
            "_view_module": "@jupyter-widgets/controls",
            "_view_module_version": "1.5.0",
            "_view_name": "HTMLView",
            "description": "",
            "description_tooltip": null,
            "layout": "IPY_MODEL_9ee139eb81df4c43a6c8b50b68e031fe",
            "placeholder": "​",
            "style": "IPY_MODEL_b9732a0f685846a49ed4689d19af61d7",
            "value": "Downloading: 100%"
          }
        },
        "2cd54b713b294a2e8e1fac05dca4de48": {
          "model_module": "@jupyter-widgets/controls",
          "model_name": "FloatProgressModel",
          "model_module_version": "1.5.0",
          "state": {
            "_dom_classes": [],
            "_model_module": "@jupyter-widgets/controls",
            "_model_module_version": "1.5.0",
            "_model_name": "FloatProgressModel",
            "_view_count": null,
            "_view_module": "@jupyter-widgets/controls",
            "_view_module_version": "1.5.0",
            "_view_name": "ProgressView",
            "bar_style": "success",
            "description": "",
            "description_tooltip": null,
            "layout": "IPY_MODEL_b77e9ffeca8b438f990f2e263444535c",
            "max": 2,
            "min": 0,
            "orientation": "horizontal",
            "style": "IPY_MODEL_0474cdf3abab43aea3960bd32ed12dde",
            "value": 2
          }
        },
        "b3e0ace6024143798108bd36c23786ee": {
          "model_module": "@jupyter-widgets/controls",
          "model_name": "HTMLModel",
          "model_module_version": "1.5.0",
          "state": {
            "_dom_classes": [],
            "_model_module": "@jupyter-widgets/controls",
            "_model_module_version": "1.5.0",
            "_model_name": "HTMLModel",
            "_view_count": null,
            "_view_module": "@jupyter-widgets/controls",
            "_view_module_version": "1.5.0",
            "_view_name": "HTMLView",
            "description": "",
            "description_tooltip": null,
            "layout": "IPY_MODEL_f0236b5f550940e8928b24f83dcf09eb",
            "placeholder": "​",
            "style": "IPY_MODEL_d78fafc8ef074054bd626856d28d66d0",
            "value": " 2.00/2.00 [00:00&lt;00:00, 15.2B/s]"
          }
        },
        "2e7f69c436d44d11bf2575235ec4f2ce": {
          "model_module": "@jupyter-widgets/base",
          "model_name": "LayoutModel",
          "model_module_version": "1.2.0",
          "state": {
            "_model_module": "@jupyter-widgets/base",
            "_model_module_version": "1.2.0",
            "_model_name": "LayoutModel",
            "_view_count": null,
            "_view_module": "@jupyter-widgets/base",
            "_view_module_version": "1.2.0",
            "_view_name": "LayoutView",
            "align_content": null,
            "align_items": null,
            "align_self": null,
            "border": null,
            "bottom": null,
            "display": null,
            "flex": null,
            "flex_flow": null,
            "grid_area": null,
            "grid_auto_columns": null,
            "grid_auto_flow": null,
            "grid_auto_rows": null,
            "grid_column": null,
            "grid_gap": null,
            "grid_row": null,
            "grid_template_areas": null,
            "grid_template_columns": null,
            "grid_template_rows": null,
            "height": null,
            "justify_content": null,
            "justify_items": null,
            "left": null,
            "margin": null,
            "max_height": null,
            "max_width": null,
            "min_height": null,
            "min_width": null,
            "object_fit": null,
            "object_position": null,
            "order": null,
            "overflow": null,
            "overflow_x": null,
            "overflow_y": null,
            "padding": null,
            "right": null,
            "top": null,
            "visibility": null,
            "width": null
          }
        },
        "9ee139eb81df4c43a6c8b50b68e031fe": {
          "model_module": "@jupyter-widgets/base",
          "model_name": "LayoutModel",
          "model_module_version": "1.2.0",
          "state": {
            "_model_module": "@jupyter-widgets/base",
            "_model_module_version": "1.2.0",
            "_model_name": "LayoutModel",
            "_view_count": null,
            "_view_module": "@jupyter-widgets/base",
            "_view_module_version": "1.2.0",
            "_view_name": "LayoutView",
            "align_content": null,
            "align_items": null,
            "align_self": null,
            "border": null,
            "bottom": null,
            "display": null,
            "flex": null,
            "flex_flow": null,
            "grid_area": null,
            "grid_auto_columns": null,
            "grid_auto_flow": null,
            "grid_auto_rows": null,
            "grid_column": null,
            "grid_gap": null,
            "grid_row": null,
            "grid_template_areas": null,
            "grid_template_columns": null,
            "grid_template_rows": null,
            "height": null,
            "justify_content": null,
            "justify_items": null,
            "left": null,
            "margin": null,
            "max_height": null,
            "max_width": null,
            "min_height": null,
            "min_width": null,
            "object_fit": null,
            "object_position": null,
            "order": null,
            "overflow": null,
            "overflow_x": null,
            "overflow_y": null,
            "padding": null,
            "right": null,
            "top": null,
            "visibility": null,
            "width": null
          }
        },
        "b9732a0f685846a49ed4689d19af61d7": {
          "model_module": "@jupyter-widgets/controls",
          "model_name": "DescriptionStyleModel",
          "model_module_version": "1.5.0",
          "state": {
            "_model_module": "@jupyter-widgets/controls",
            "_model_module_version": "1.5.0",
            "_model_name": "DescriptionStyleModel",
            "_view_count": null,
            "_view_module": "@jupyter-widgets/base",
            "_view_module_version": "1.2.0",
            "_view_name": "StyleView",
            "description_width": ""
          }
        },
        "b77e9ffeca8b438f990f2e263444535c": {
          "model_module": "@jupyter-widgets/base",
          "model_name": "LayoutModel",
          "model_module_version": "1.2.0",
          "state": {
            "_model_module": "@jupyter-widgets/base",
            "_model_module_version": "1.2.0",
            "_model_name": "LayoutModel",
            "_view_count": null,
            "_view_module": "@jupyter-widgets/base",
            "_view_module_version": "1.2.0",
            "_view_name": "LayoutView",
            "align_content": null,
            "align_items": null,
            "align_self": null,
            "border": null,
            "bottom": null,
            "display": null,
            "flex": null,
            "flex_flow": null,
            "grid_area": null,
            "grid_auto_columns": null,
            "grid_auto_flow": null,
            "grid_auto_rows": null,
            "grid_column": null,
            "grid_gap": null,
            "grid_row": null,
            "grid_template_areas": null,
            "grid_template_columns": null,
            "grid_template_rows": null,
            "height": null,
            "justify_content": null,
            "justify_items": null,
            "left": null,
            "margin": null,
            "max_height": null,
            "max_width": null,
            "min_height": null,
            "min_width": null,
            "object_fit": null,
            "object_position": null,
            "order": null,
            "overflow": null,
            "overflow_x": null,
            "overflow_y": null,
            "padding": null,
            "right": null,
            "top": null,
            "visibility": null,
            "width": null
          }
        },
        "0474cdf3abab43aea3960bd32ed12dde": {
          "model_module": "@jupyter-widgets/controls",
          "model_name": "ProgressStyleModel",
          "model_module_version": "1.5.0",
          "state": {
            "_model_module": "@jupyter-widgets/controls",
            "_model_module_version": "1.5.0",
            "_model_name": "ProgressStyleModel",
            "_view_count": null,
            "_view_module": "@jupyter-widgets/base",
            "_view_module_version": "1.2.0",
            "_view_name": "StyleView",
            "bar_color": null,
            "description_width": ""
          }
        },
        "f0236b5f550940e8928b24f83dcf09eb": {
          "model_module": "@jupyter-widgets/base",
          "model_name": "LayoutModel",
          "model_module_version": "1.2.0",
          "state": {
            "_model_module": "@jupyter-widgets/base",
            "_model_module_version": "1.2.0",
            "_model_name": "LayoutModel",
            "_view_count": null,
            "_view_module": "@jupyter-widgets/base",
            "_view_module_version": "1.2.0",
            "_view_name": "LayoutView",
            "align_content": null,
            "align_items": null,
            "align_self": null,
            "border": null,
            "bottom": null,
            "display": null,
            "flex": null,
            "flex_flow": null,
            "grid_area": null,
            "grid_auto_columns": null,
            "grid_auto_flow": null,
            "grid_auto_rows": null,
            "grid_column": null,
            "grid_gap": null,
            "grid_row": null,
            "grid_template_areas": null,
            "grid_template_columns": null,
            "grid_template_rows": null,
            "height": null,
            "justify_content": null,
            "justify_items": null,
            "left": null,
            "margin": null,
            "max_height": null,
            "max_width": null,
            "min_height": null,
            "min_width": null,
            "object_fit": null,
            "object_position": null,
            "order": null,
            "overflow": null,
            "overflow_x": null,
            "overflow_y": null,
            "padding": null,
            "right": null,
            "top": null,
            "visibility": null,
            "width": null
          }
        },
        "d78fafc8ef074054bd626856d28d66d0": {
          "model_module": "@jupyter-widgets/controls",
          "model_name": "DescriptionStyleModel",
          "model_module_version": "1.5.0",
          "state": {
            "_model_module": "@jupyter-widgets/controls",
            "_model_module_version": "1.5.0",
            "_model_name": "DescriptionStyleModel",
            "_view_count": null,
            "_view_module": "@jupyter-widgets/base",
            "_view_module_version": "1.2.0",
            "_view_name": "StyleView",
            "description_width": ""
          }
        },
        "7b5335bf757d46a4b0742d948f8640ff": {
          "model_module": "@jupyter-widgets/controls",
          "model_name": "HBoxModel",
          "model_module_version": "1.5.0",
          "state": {
            "_dom_classes": [],
            "_model_module": "@jupyter-widgets/controls",
            "_model_module_version": "1.5.0",
            "_model_name": "HBoxModel",
            "_view_count": null,
            "_view_module": "@jupyter-widgets/controls",
            "_view_module_version": "1.5.0",
            "_view_name": "HBoxView",
            "box_style": "",
            "children": [
              "IPY_MODEL_ee6c9b14cff84ddc809f5fc07a142320",
              "IPY_MODEL_fc7d9402ead44350879bc78bc3abd5f9",
              "IPY_MODEL_89e8f67babf44a11a7e0bf582b54e544"
            ],
            "layout": "IPY_MODEL_8a845ee4f493406e8531d8e491aee486"
          }
        },
        "ee6c9b14cff84ddc809f5fc07a142320": {
          "model_module": "@jupyter-widgets/controls",
          "model_name": "HTMLModel",
          "model_module_version": "1.5.0",
          "state": {
            "_dom_classes": [],
            "_model_module": "@jupyter-widgets/controls",
            "_model_module_version": "1.5.0",
            "_model_name": "HTMLModel",
            "_view_count": null,
            "_view_module": "@jupyter-widgets/controls",
            "_view_module_version": "1.5.0",
            "_view_name": "HTMLView",
            "description": "",
            "description_tooltip": null,
            "layout": "IPY_MODEL_081f62e63ead4738abab26de57b2cea0",
            "placeholder": "​",
            "style": "IPY_MODEL_d85353f09007434e91792697e82ee690",
            "value": "Downloading: 100%"
          }
        },
        "fc7d9402ead44350879bc78bc3abd5f9": {
          "model_module": "@jupyter-widgets/controls",
          "model_name": "FloatProgressModel",
          "model_module_version": "1.5.0",
          "state": {
            "_dom_classes": [],
            "_model_module": "@jupyter-widgets/controls",
            "_model_module_version": "1.5.0",
            "_model_name": "FloatProgressModel",
            "_view_count": null,
            "_view_module": "@jupyter-widgets/controls",
            "_view_module_version": "1.5.0",
            "_view_name": "ProgressView",
            "bar_style": "success",
            "description": "",
            "description_tooltip": null,
            "layout": "IPY_MODEL_7d54b89b597440dab947ae8606b7839a",
            "max": 112,
            "min": 0,
            "orientation": "horizontal",
            "style": "IPY_MODEL_37aea1efadff4718aace134ff030eca8",
            "value": 112
          }
        },
        "89e8f67babf44a11a7e0bf582b54e544": {
          "model_module": "@jupyter-widgets/controls",
          "model_name": "HTMLModel",
          "model_module_version": "1.5.0",
          "state": {
            "_dom_classes": [],
            "_model_module": "@jupyter-widgets/controls",
            "_model_module_version": "1.5.0",
            "_model_name": "HTMLModel",
            "_view_count": null,
            "_view_module": "@jupyter-widgets/controls",
            "_view_module_version": "1.5.0",
            "_view_name": "HTMLView",
            "description": "",
            "description_tooltip": null,
            "layout": "IPY_MODEL_0ee9b24c9bc94cdda936f3491537a9b1",
            "placeholder": "​",
            "style": "IPY_MODEL_991ca0651fd24623971d0888f37df56f",
            "value": " 112/112 [00:00&lt;00:00, 1.17kB/s]"
          }
        },
        "8a845ee4f493406e8531d8e491aee486": {
          "model_module": "@jupyter-widgets/base",
          "model_name": "LayoutModel",
          "model_module_version": "1.2.0",
          "state": {
            "_model_module": "@jupyter-widgets/base",
            "_model_module_version": "1.2.0",
            "_model_name": "LayoutModel",
            "_view_count": null,
            "_view_module": "@jupyter-widgets/base",
            "_view_module_version": "1.2.0",
            "_view_name": "LayoutView",
            "align_content": null,
            "align_items": null,
            "align_self": null,
            "border": null,
            "bottom": null,
            "display": null,
            "flex": null,
            "flex_flow": null,
            "grid_area": null,
            "grid_auto_columns": null,
            "grid_auto_flow": null,
            "grid_auto_rows": null,
            "grid_column": null,
            "grid_gap": null,
            "grid_row": null,
            "grid_template_areas": null,
            "grid_template_columns": null,
            "grid_template_rows": null,
            "height": null,
            "justify_content": null,
            "justify_items": null,
            "left": null,
            "margin": null,
            "max_height": null,
            "max_width": null,
            "min_height": null,
            "min_width": null,
            "object_fit": null,
            "object_position": null,
            "order": null,
            "overflow": null,
            "overflow_x": null,
            "overflow_y": null,
            "padding": null,
            "right": null,
            "top": null,
            "visibility": null,
            "width": null
          }
        },
        "081f62e63ead4738abab26de57b2cea0": {
          "model_module": "@jupyter-widgets/base",
          "model_name": "LayoutModel",
          "model_module_version": "1.2.0",
          "state": {
            "_model_module": "@jupyter-widgets/base",
            "_model_module_version": "1.2.0",
            "_model_name": "LayoutModel",
            "_view_count": null,
            "_view_module": "@jupyter-widgets/base",
            "_view_module_version": "1.2.0",
            "_view_name": "LayoutView",
            "align_content": null,
            "align_items": null,
            "align_self": null,
            "border": null,
            "bottom": null,
            "display": null,
            "flex": null,
            "flex_flow": null,
            "grid_area": null,
            "grid_auto_columns": null,
            "grid_auto_flow": null,
            "grid_auto_rows": null,
            "grid_column": null,
            "grid_gap": null,
            "grid_row": null,
            "grid_template_areas": null,
            "grid_template_columns": null,
            "grid_template_rows": null,
            "height": null,
            "justify_content": null,
            "justify_items": null,
            "left": null,
            "margin": null,
            "max_height": null,
            "max_width": null,
            "min_height": null,
            "min_width": null,
            "object_fit": null,
            "object_position": null,
            "order": null,
            "overflow": null,
            "overflow_x": null,
            "overflow_y": null,
            "padding": null,
            "right": null,
            "top": null,
            "visibility": null,
            "width": null
          }
        },
        "d85353f09007434e91792697e82ee690": {
          "model_module": "@jupyter-widgets/controls",
          "model_name": "DescriptionStyleModel",
          "model_module_version": "1.5.0",
          "state": {
            "_model_module": "@jupyter-widgets/controls",
            "_model_module_version": "1.5.0",
            "_model_name": "DescriptionStyleModel",
            "_view_count": null,
            "_view_module": "@jupyter-widgets/base",
            "_view_module_version": "1.2.0",
            "_view_name": "StyleView",
            "description_width": ""
          }
        },
        "7d54b89b597440dab947ae8606b7839a": {
          "model_module": "@jupyter-widgets/base",
          "model_name": "LayoutModel",
          "model_module_version": "1.2.0",
          "state": {
            "_model_module": "@jupyter-widgets/base",
            "_model_module_version": "1.2.0",
            "_model_name": "LayoutModel",
            "_view_count": null,
            "_view_module": "@jupyter-widgets/base",
            "_view_module_version": "1.2.0",
            "_view_name": "LayoutView",
            "align_content": null,
            "align_items": null,
            "align_self": null,
            "border": null,
            "bottom": null,
            "display": null,
            "flex": null,
            "flex_flow": null,
            "grid_area": null,
            "grid_auto_columns": null,
            "grid_auto_flow": null,
            "grid_auto_rows": null,
            "grid_column": null,
            "grid_gap": null,
            "grid_row": null,
            "grid_template_areas": null,
            "grid_template_columns": null,
            "grid_template_rows": null,
            "height": null,
            "justify_content": null,
            "justify_items": null,
            "left": null,
            "margin": null,
            "max_height": null,
            "max_width": null,
            "min_height": null,
            "min_width": null,
            "object_fit": null,
            "object_position": null,
            "order": null,
            "overflow": null,
            "overflow_x": null,
            "overflow_y": null,
            "padding": null,
            "right": null,
            "top": null,
            "visibility": null,
            "width": null
          }
        },
        "37aea1efadff4718aace134ff030eca8": {
          "model_module": "@jupyter-widgets/controls",
          "model_name": "ProgressStyleModel",
          "model_module_version": "1.5.0",
          "state": {
            "_model_module": "@jupyter-widgets/controls",
            "_model_module_version": "1.5.0",
            "_model_name": "ProgressStyleModel",
            "_view_count": null,
            "_view_module": "@jupyter-widgets/base",
            "_view_module_version": "1.2.0",
            "_view_name": "StyleView",
            "bar_color": null,
            "description_width": ""
          }
        },
        "0ee9b24c9bc94cdda936f3491537a9b1": {
          "model_module": "@jupyter-widgets/base",
          "model_name": "LayoutModel",
          "model_module_version": "1.2.0",
          "state": {
            "_model_module": "@jupyter-widgets/base",
            "_model_module_version": "1.2.0",
            "_model_name": "LayoutModel",
            "_view_count": null,
            "_view_module": "@jupyter-widgets/base",
            "_view_module_version": "1.2.0",
            "_view_name": "LayoutView",
            "align_content": null,
            "align_items": null,
            "align_self": null,
            "border": null,
            "bottom": null,
            "display": null,
            "flex": null,
            "flex_flow": null,
            "grid_area": null,
            "grid_auto_columns": null,
            "grid_auto_flow": null,
            "grid_auto_rows": null,
            "grid_column": null,
            "grid_gap": null,
            "grid_row": null,
            "grid_template_areas": null,
            "grid_template_columns": null,
            "grid_template_rows": null,
            "height": null,
            "justify_content": null,
            "justify_items": null,
            "left": null,
            "margin": null,
            "max_height": null,
            "max_width": null,
            "min_height": null,
            "min_width": null,
            "object_fit": null,
            "object_position": null,
            "order": null,
            "overflow": null,
            "overflow_x": null,
            "overflow_y": null,
            "padding": null,
            "right": null,
            "top": null,
            "visibility": null,
            "width": null
          }
        },
        "991ca0651fd24623971d0888f37df56f": {
          "model_module": "@jupyter-widgets/controls",
          "model_name": "DescriptionStyleModel",
          "model_module_version": "1.5.0",
          "state": {
            "_model_module": "@jupyter-widgets/controls",
            "_model_module_version": "1.5.0",
            "_model_name": "DescriptionStyleModel",
            "_view_count": null,
            "_view_module": "@jupyter-widgets/base",
            "_view_module_version": "1.2.0",
            "_view_name": "StyleView",
            "description_width": ""
          }
        },
        "8a3d2dfa37344aa0a4ad27f4326f2254": {
          "model_module": "@jupyter-widgets/controls",
          "model_name": "HBoxModel",
          "model_module_version": "1.5.0",
          "state": {
            "_dom_classes": [],
            "_model_module": "@jupyter-widgets/controls",
            "_model_module_version": "1.5.0",
            "_model_name": "HBoxModel",
            "_view_count": null,
            "_view_module": "@jupyter-widgets/controls",
            "_view_module_version": "1.5.0",
            "_view_name": "HBoxView",
            "box_style": "",
            "children": [
              "IPY_MODEL_07d1ff9681fa40189ef5a2bed6560923",
              "IPY_MODEL_0e27be601cbd49c0ae2928ecd6132d48",
              "IPY_MODEL_6100259f4fe1409a8ff6aa8cf8fa2786"
            ],
            "layout": "IPY_MODEL_4e2df5d37e0b4a91ad2d183b6f9d5d5a"
          }
        },
        "07d1ff9681fa40189ef5a2bed6560923": {
          "model_module": "@jupyter-widgets/controls",
          "model_name": "HTMLModel",
          "model_module_version": "1.5.0",
          "state": {
            "_dom_classes": [],
            "_model_module": "@jupyter-widgets/controls",
            "_model_module_version": "1.5.0",
            "_model_name": "HTMLModel",
            "_view_count": null,
            "_view_module": "@jupyter-widgets/controls",
            "_view_module_version": "1.5.0",
            "_view_name": "HTMLView",
            "description": "",
            "description_tooltip": null,
            "layout": "IPY_MODEL_4bfd25c3fc3341a0bb6819b704d41b65",
            "placeholder": "​",
            "style": "IPY_MODEL_cedafab5073642e0840e077c6edf2c89",
            "value": "Downloading: 100%"
          }
        },
        "0e27be601cbd49c0ae2928ecd6132d48": {
          "model_module": "@jupyter-widgets/controls",
          "model_name": "FloatProgressModel",
          "model_module_version": "1.5.0",
          "state": {
            "_dom_classes": [],
            "_model_module": "@jupyter-widgets/controls",
            "_model_module_version": "1.5.0",
            "_model_name": "FloatProgressModel",
            "_view_count": null,
            "_view_module": "@jupyter-widgets/controls",
            "_view_module_version": "1.5.0",
            "_view_name": "ProgressView",
            "bar_style": "success",
            "description": "",
            "description_tooltip": null,
            "layout": "IPY_MODEL_f99cbe5cba2845e08808c27586e9c314",
            "max": 1342014951,
            "min": 0,
            "orientation": "horizontal",
            "style": "IPY_MODEL_ad2035abd6844465bcfb6d376feaf3e5",
            "value": 1342014951
          }
        },
        "6100259f4fe1409a8ff6aa8cf8fa2786": {
          "model_module": "@jupyter-widgets/controls",
          "model_name": "HTMLModel",
          "model_module_version": "1.5.0",
          "state": {
            "_dom_classes": [],
            "_model_module": "@jupyter-widgets/controls",
            "_model_module_version": "1.5.0",
            "_model_name": "HTMLModel",
            "_view_count": null,
            "_view_module": "@jupyter-widgets/controls",
            "_view_module_version": "1.5.0",
            "_view_name": "HTMLView",
            "description": "",
            "description_tooltip": null,
            "layout": "IPY_MODEL_af0dc9add7884a1f83fdfe67fe7fc90b",
            "placeholder": "​",
            "style": "IPY_MODEL_c3469d69c8c545c08b5772dae7fdc9b8",
            "value": " 1.34G/1.34G [00:25&lt;00:00, 57.1MB/s]"
          }
        },
        "4e2df5d37e0b4a91ad2d183b6f9d5d5a": {
          "model_module": "@jupyter-widgets/base",
          "model_name": "LayoutModel",
          "model_module_version": "1.2.0",
          "state": {
            "_model_module": "@jupyter-widgets/base",
            "_model_module_version": "1.2.0",
            "_model_name": "LayoutModel",
            "_view_count": null,
            "_view_module": "@jupyter-widgets/base",
            "_view_module_version": "1.2.0",
            "_view_name": "LayoutView",
            "align_content": null,
            "align_items": null,
            "align_self": null,
            "border": null,
            "bottom": null,
            "display": null,
            "flex": null,
            "flex_flow": null,
            "grid_area": null,
            "grid_auto_columns": null,
            "grid_auto_flow": null,
            "grid_auto_rows": null,
            "grid_column": null,
            "grid_gap": null,
            "grid_row": null,
            "grid_template_areas": null,
            "grid_template_columns": null,
            "grid_template_rows": null,
            "height": null,
            "justify_content": null,
            "justify_items": null,
            "left": null,
            "margin": null,
            "max_height": null,
            "max_width": null,
            "min_height": null,
            "min_width": null,
            "object_fit": null,
            "object_position": null,
            "order": null,
            "overflow": null,
            "overflow_x": null,
            "overflow_y": null,
            "padding": null,
            "right": null,
            "top": null,
            "visibility": null,
            "width": null
          }
        },
        "4bfd25c3fc3341a0bb6819b704d41b65": {
          "model_module": "@jupyter-widgets/base",
          "model_name": "LayoutModel",
          "model_module_version": "1.2.0",
          "state": {
            "_model_module": "@jupyter-widgets/base",
            "_model_module_version": "1.2.0",
            "_model_name": "LayoutModel",
            "_view_count": null,
            "_view_module": "@jupyter-widgets/base",
            "_view_module_version": "1.2.0",
            "_view_name": "LayoutView",
            "align_content": null,
            "align_items": null,
            "align_self": null,
            "border": null,
            "bottom": null,
            "display": null,
            "flex": null,
            "flex_flow": null,
            "grid_area": null,
            "grid_auto_columns": null,
            "grid_auto_flow": null,
            "grid_auto_rows": null,
            "grid_column": null,
            "grid_gap": null,
            "grid_row": null,
            "grid_template_areas": null,
            "grid_template_columns": null,
            "grid_template_rows": null,
            "height": null,
            "justify_content": null,
            "justify_items": null,
            "left": null,
            "margin": null,
            "max_height": null,
            "max_width": null,
            "min_height": null,
            "min_width": null,
            "object_fit": null,
            "object_position": null,
            "order": null,
            "overflow": null,
            "overflow_x": null,
            "overflow_y": null,
            "padding": null,
            "right": null,
            "top": null,
            "visibility": null,
            "width": null
          }
        },
        "cedafab5073642e0840e077c6edf2c89": {
          "model_module": "@jupyter-widgets/controls",
          "model_name": "DescriptionStyleModel",
          "model_module_version": "1.5.0",
          "state": {
            "_model_module": "@jupyter-widgets/controls",
            "_model_module_version": "1.5.0",
            "_model_name": "DescriptionStyleModel",
            "_view_count": null,
            "_view_module": "@jupyter-widgets/base",
            "_view_module_version": "1.2.0",
            "_view_name": "StyleView",
            "description_width": ""
          }
        },
        "f99cbe5cba2845e08808c27586e9c314": {
          "model_module": "@jupyter-widgets/base",
          "model_name": "LayoutModel",
          "model_module_version": "1.2.0",
          "state": {
            "_model_module": "@jupyter-widgets/base",
            "_model_module_version": "1.2.0",
            "_model_name": "LayoutModel",
            "_view_count": null,
            "_view_module": "@jupyter-widgets/base",
            "_view_module_version": "1.2.0",
            "_view_name": "LayoutView",
            "align_content": null,
            "align_items": null,
            "align_self": null,
            "border": null,
            "bottom": null,
            "display": null,
            "flex": null,
            "flex_flow": null,
            "grid_area": null,
            "grid_auto_columns": null,
            "grid_auto_flow": null,
            "grid_auto_rows": null,
            "grid_column": null,
            "grid_gap": null,
            "grid_row": null,
            "grid_template_areas": null,
            "grid_template_columns": null,
            "grid_template_rows": null,
            "height": null,
            "justify_content": null,
            "justify_items": null,
            "left": null,
            "margin": null,
            "max_height": null,
            "max_width": null,
            "min_height": null,
            "min_width": null,
            "object_fit": null,
            "object_position": null,
            "order": null,
            "overflow": null,
            "overflow_x": null,
            "overflow_y": null,
            "padding": null,
            "right": null,
            "top": null,
            "visibility": null,
            "width": null
          }
        },
        "ad2035abd6844465bcfb6d376feaf3e5": {
          "model_module": "@jupyter-widgets/controls",
          "model_name": "ProgressStyleModel",
          "model_module_version": "1.5.0",
          "state": {
            "_model_module": "@jupyter-widgets/controls",
            "_model_module_version": "1.5.0",
            "_model_name": "ProgressStyleModel",
            "_view_count": null,
            "_view_module": "@jupyter-widgets/base",
            "_view_module_version": "1.2.0",
            "_view_name": "StyleView",
            "bar_color": null,
            "description_width": ""
          }
        },
        "af0dc9add7884a1f83fdfe67fe7fc90b": {
          "model_module": "@jupyter-widgets/base",
          "model_name": "LayoutModel",
          "model_module_version": "1.2.0",
          "state": {
            "_model_module": "@jupyter-widgets/base",
            "_model_module_version": "1.2.0",
            "_model_name": "LayoutModel",
            "_view_count": null,
            "_view_module": "@jupyter-widgets/base",
            "_view_module_version": "1.2.0",
            "_view_name": "LayoutView",
            "align_content": null,
            "align_items": null,
            "align_self": null,
            "border": null,
            "bottom": null,
            "display": null,
            "flex": null,
            "flex_flow": null,
            "grid_area": null,
            "grid_auto_columns": null,
            "grid_auto_flow": null,
            "grid_auto_rows": null,
            "grid_column": null,
            "grid_gap": null,
            "grid_row": null,
            "grid_template_areas": null,
            "grid_template_columns": null,
            "grid_template_rows": null,
            "height": null,
            "justify_content": null,
            "justify_items": null,
            "left": null,
            "margin": null,
            "max_height": null,
            "max_width": null,
            "min_height": null,
            "min_width": null,
            "object_fit": null,
            "object_position": null,
            "order": null,
            "overflow": null,
            "overflow_x": null,
            "overflow_y": null,
            "padding": null,
            "right": null,
            "top": null,
            "visibility": null,
            "width": null
          }
        },
        "c3469d69c8c545c08b5772dae7fdc9b8": {
          "model_module": "@jupyter-widgets/controls",
          "model_name": "DescriptionStyleModel",
          "model_module_version": "1.5.0",
          "state": {
            "_model_module": "@jupyter-widgets/controls",
            "_model_module_version": "1.5.0",
            "_model_name": "DescriptionStyleModel",
            "_view_count": null,
            "_view_module": "@jupyter-widgets/base",
            "_view_module_version": "1.2.0",
            "_view_name": "StyleView",
            "description_width": ""
          }
        }
      }
    },
    "accelerator": "GPU"
  },
  "cells": [
    {
      "cell_type": "markdown",
      "metadata": {
        "id": "view-in-github",
        "colab_type": "text"
      },
      "source": [
        "<a href=\"https://colab.research.google.com/github/EliseuODaniel/analise_de_sentimentos_eleicao/blob/main/analise_sentimento_com_bert_Tweets_lula.ipynb\" target=\"_parent\"><img src=\"https://colab.research.google.com/assets/colab-badge.svg\" alt=\"Open In Colab\"/></a>"
      ]
    },
    {
      "cell_type": "markdown",
      "metadata": {
        "id": "1GJKpwl_v4b1"
      },
      "source": [
        "# Análise de sentimento com Bert\n",
        "\n",
        "## DCC: Linguística Computacional"
      ]
    },
    {
      "cell_type": "markdown",
      "metadata": {
        "id": "k244ZRtr2hiZ"
      },
      "source": [
        "## Classificação de Texto\n",
        "\n",
        "utilização da arquitetura BERTimbau, versão em Português do BERT"
      ]
    },
    {
      "cell_type": "code",
      "source": [
        "from google.colab import drive\n",
        "drive.mount('/content/drive')"
      ],
      "metadata": {
        "colab": {
          "base_uri": "https://localhost:8080/"
        },
        "id": "WdH9k8R0gZ_1",
        "outputId": "d5bdc80b-8e6c-4a29-b08b-d75ba0815ec7"
      },
      "execution_count": 1,
      "outputs": [
        {
          "output_type": "stream",
          "name": "stdout",
          "text": [
            "Mounted at /content/drive\n"
          ]
        }
      ]
    },
    {
      "cell_type": "code",
      "metadata": {
        "colab": {
          "base_uri": "https://localhost:8080/"
        },
        "id": "dfhiSp9Z3UXR",
        "outputId": "4c7305b8-5ba0-4b2d-bdb5-4d692618f4a5"
      },
      "source": [
        "!pip3 install transformers"
      ],
      "execution_count": 2,
      "outputs": [
        {
          "output_type": "stream",
          "name": "stdout",
          "text": [
            "Looking in indexes: https://pypi.org/simple, https://us-python.pkg.dev/colab-wheels/public/simple/\n",
            "Collecting transformers\n",
            "  Downloading transformers-4.24.0-py3-none-any.whl (5.5 MB)\n",
            "\u001b[K     |████████████████████████████████| 5.5 MB 34.8 MB/s \n",
            "\u001b[?25hRequirement already satisfied: importlib-metadata in /usr/local/lib/python3.7/dist-packages (from transformers) (4.13.0)\n",
            "Requirement already satisfied: packaging>=20.0 in /usr/local/lib/python3.7/dist-packages (from transformers) (21.3)\n",
            "Requirement already satisfied: numpy>=1.17 in /usr/local/lib/python3.7/dist-packages (from transformers) (1.21.6)\n",
            "Requirement already satisfied: pyyaml>=5.1 in /usr/local/lib/python3.7/dist-packages (from transformers) (6.0)\n",
            "Requirement already satisfied: requests in /usr/local/lib/python3.7/dist-packages (from transformers) (2.23.0)\n",
            "Requirement already satisfied: regex!=2019.12.17 in /usr/local/lib/python3.7/dist-packages (from transformers) (2022.6.2)\n",
            "Requirement already satisfied: tqdm>=4.27 in /usr/local/lib/python3.7/dist-packages (from transformers) (4.64.1)\n",
            "Requirement already satisfied: filelock in /usr/local/lib/python3.7/dist-packages (from transformers) (3.8.0)\n",
            "Collecting huggingface-hub<1.0,>=0.10.0\n",
            "  Downloading huggingface_hub-0.10.1-py3-none-any.whl (163 kB)\n",
            "\u001b[K     |████████████████████████████████| 163 kB 52.9 MB/s \n",
            "\u001b[?25hCollecting tokenizers!=0.11.3,<0.14,>=0.11.1\n",
            "  Downloading tokenizers-0.13.2-cp37-cp37m-manylinux_2_17_x86_64.manylinux2014_x86_64.whl (7.6 MB)\n",
            "\u001b[K     |████████████████████████████████| 7.6 MB 50.8 MB/s \n",
            "\u001b[?25hRequirement already satisfied: typing-extensions>=3.7.4.3 in /usr/local/lib/python3.7/dist-packages (from huggingface-hub<1.0,>=0.10.0->transformers) (4.1.1)\n",
            "Requirement already satisfied: pyparsing!=3.0.5,>=2.0.2 in /usr/local/lib/python3.7/dist-packages (from packaging>=20.0->transformers) (3.0.9)\n",
            "Requirement already satisfied: zipp>=0.5 in /usr/local/lib/python3.7/dist-packages (from importlib-metadata->transformers) (3.10.0)\n",
            "Requirement already satisfied: chardet<4,>=3.0.2 in /usr/local/lib/python3.7/dist-packages (from requests->transformers) (3.0.4)\n",
            "Requirement already satisfied: idna<3,>=2.5 in /usr/local/lib/python3.7/dist-packages (from requests->transformers) (2.10)\n",
            "Requirement already satisfied: urllib3!=1.25.0,!=1.25.1,<1.26,>=1.21.1 in /usr/local/lib/python3.7/dist-packages (from requests->transformers) (1.24.3)\n",
            "Requirement already satisfied: certifi>=2017.4.17 in /usr/local/lib/python3.7/dist-packages (from requests->transformers) (2022.9.24)\n",
            "Installing collected packages: tokenizers, huggingface-hub, transformers\n",
            "Successfully installed huggingface-hub-0.10.1 tokenizers-0.13.2 transformers-4.24.0\n"
          ]
        }
      ]
    },
    {
      "cell_type": "markdown",
      "metadata": {
        "id": "VbNLTwmJ23FE"
      },
      "source": [
        "Lê o arquivo csv e transforma numa lista"
      ]
    },
    {
      "cell_type": "code",
      "metadata": {
        "colab": {
          "base_uri": "https://localhost:8080/"
        },
        "id": "YyoVuFjJIlkj",
        "outputId": "58abb675-3862-40e1-9716-41c3e7f2c221"
      },
      "source": [
        "import pandas as pd\n",
        "import csv\n",
        "from random import shuffle\n",
        "import nltk\n",
        "nltk.download('punkt')\n",
        "\n",
        "full_df = pd.read_csv('/content/drive/MyDrive/Colab Notebooks/tweets_lula_cleaned-categorizado.csv', sep=';')"
      ],
      "execution_count": 106,
      "outputs": [
        {
          "output_type": "stream",
          "name": "stderr",
          "text": [
            "[nltk_data] Downloading package punkt to /root/nltk_data...\n",
            "[nltk_data]   Package punkt is already up-to-date!\n"
          ]
        }
      ]
    },
    {
      "cell_type": "code",
      "source": [
        "full_df.info()"
      ],
      "metadata": {
        "colab": {
          "base_uri": "https://localhost:8080/"
        },
        "id": "KrfWP0YfgMC_",
        "outputId": "f2149a43-ee07-42e2-a371-8fdcc0fde1cb"
      },
      "execution_count": 4,
      "outputs": [
        {
          "output_type": "stream",
          "name": "stdout",
          "text": [
            "<class 'pandas.core.frame.DataFrame'>\n",
            "RangeIndex: 24698 entries, 0 to 24697\n",
            "Data columns (total 4 columns):\n",
            " #   Column   Non-Null Count  Dtype  \n",
            "---  ------   --------------  -----  \n",
            " 0   id       24698 non-null  int64  \n",
            " 1   date     24698 non-null  object \n",
            " 2   content  24695 non-null  object \n",
            " 3   label    408 non-null    float64\n",
            "dtypes: float64(1), int64(1), object(2)\n",
            "memory usage: 771.9+ KB\n"
          ]
        }
      ]
    },
    {
      "cell_type": "code",
      "source": [
        "# Drop rows with any empty cells in collumn 'label'\n",
        "df = full_df.dropna(subset=['label'])"
      ],
      "metadata": {
        "id": "2BE5pynYkESj"
      },
      "execution_count": 6,
      "outputs": []
    },
    {
      "cell_type": "code",
      "source": [
        "df.info()"
      ],
      "metadata": {
        "colab": {
          "base_uri": "https://localhost:8080/"
        },
        "id": "KnygDPTnldEy",
        "outputId": "4f968431-5554-45c4-bbe5-9fca2bfd1daf"
      },
      "execution_count": 7,
      "outputs": [
        {
          "output_type": "stream",
          "name": "stdout",
          "text": [
            "<class 'pandas.core.frame.DataFrame'>\n",
            "Int64Index: 408 entries, 0 to 409\n",
            "Data columns (total 4 columns):\n",
            " #   Column   Non-Null Count  Dtype  \n",
            "---  ------   --------------  -----  \n",
            " 0   id       408 non-null    int64  \n",
            " 1   date     408 non-null    object \n",
            " 2   content  408 non-null    object \n",
            " 3   label    408 non-null    float64\n",
            "dtypes: float64(1), int64(1), object(2)\n",
            "memory usage: 15.9+ KB\n"
          ]
        }
      ]
    },
    {
      "cell_type": "code",
      "source": [
        "import matplotlib.pyplot as plt\n",
        "import numpy as np\n",
        "import plotly.express as px\n",
        "\n",
        "#  mostra a proporção de cada label, se não está balanceado, acurácia não é uma boa métrica\n",
        "df['label'].value_counts().plot.pie(autopct='%.2f')"
      ],
      "metadata": {
        "colab": {
          "base_uri": "https://localhost:8080/",
          "height": 266
        },
        "id": "xyZKp6PqpS1E",
        "outputId": "7dc986b1-d706-4d6a-867a-ba7e7ca03488"
      },
      "execution_count": 8,
      "outputs": [
        {
          "output_type": "execute_result",
          "data": {
            "text/plain": [
              "<matplotlib.axes._subplots.AxesSubplot at 0x7f5c6e610610>"
            ]
          },
          "metadata": {},
          "execution_count": 8
        },
        {
          "output_type": "display_data",
          "data": {
            "text/plain": [
              "<Figure size 432x288 with 1 Axes>"
            ],
            "image/png": "[encoded data removed]"
          },
          "metadata": {}
        }
      ]
    },
    {
      "cell_type": "code",
      "source": [
        "# converte dataframe em lista de listas\n",
        "tweets_list = df.values.tolist()"
      ],
      "metadata": {
        "id": "xcEHkdFIlxmE"
      },
      "execution_count": 9,
      "outputs": []
    },
    {
      "cell_type": "markdown",
      "source": [
        "cria uma lista com dicionarios de reviews e rating"
      ],
      "metadata": {
        "id": "pM7NM0khG75Z"
      }
    },
    {
      "cell_type": "code",
      "source": [
        "print(tweets_list)"
      ],
      "metadata": {
        "colab": {
          "base_uri": "https://localhost:8080/"
        },
        "id": "JStdPkEcmZmD",
        "outputId": "f4b8712e-e376-4431-ba25-2693ed1a20d9"
      },
      "execution_count": 10,
      "outputs": [
        {
          "output_type": "stream",
          "name": "stdout",
          "text": [
            "[[0, '2022-10-10', 'HelioTelho Você sabe que nao é \"exigir\" que a turma do mercado pejorativamente chamado de farialimer quer. Eles estão tentando entender qual será a postura do Lula na economia, que pela indicação do ministro saberíamos. Alckmin / Meireles ou Boulos / Mantega? Tudo indica que será o segundo', 1.0], [1, '2022-10-10', 'LulaOficial ', 1.0], [2, '2022-10-10', 'simonetebetbr Marca o teu amigo LulaOficial  aí dona Step, ou só não pode bater em mulher em casa mesmo?', 0.0], [3, '2022-10-10', 'UOLNoticias Claudia_Sarti13 Claro q n pois se lula é adversário de satanaro  como é q iria fazer parte da seita comandada por ele   fiii do cão é ali kkkk', 0.0], [4, '2022-10-10', 'gremistaleosilv LulaOficial ', 0.0], [5, '2022-10-10', 'giulia LulaOficial PauloMarinhoRio JanjaLula ', 1.0], [6, '2022-10-10', 'lula tá com a msm pontuação que o vasco digai', 1.0], [7, '2022-10-10', 'AndradeRNegro2 Queria mais detalhe do sudeste... em que regiao Lula subiu e por que?', 1.0], [8, '2022-10-10', 'Saiu a programação do congresso brasileiro de saúde coletiva e POXA, EU AMO DEMAIS  Espero que o Lula ganhe, senão seremos censurados, afinal, esse desgoverno já provou por AB que odeia Saúde Pública.', 2.0], [9, '2022-10-10', 'LulaOficial Ladrão cachaceiro', 0.0], [10, '2022-10-10', 'Fundamental o alerta da senadora KatiaAbreu . O melhor para o agro agora é LulaOficial! ', 2.0], [12, '2022-10-10', 'LulaOficial Acuse do que vc faz.... Quem deixou milionários os filhos? Vc crápula.', 0.0], [13, '2022-10-10', 'Nilsonhandebol VOTO LULA 13', 2.0], [14, '2022-10-10', 'Qual Simone está valendo, a que luta contra ou a que apoia aquele LulaOficial que durante a campanha eleitoral estimulou a violência contra as mulheres?', 0.0], [16, '2022-10-10', 'xaviercdi1 LulaOficial 51 imóveis em dinheiro vivo só pra familicia ', 2.0], [17, '2022-10-10', 'LulaOficial Conversa fiada ! ', 0.0], [18, '2022-10-10', 'Lula simplesmente o nosso NORVANA unindo todas as tribos ', 2.0], [19, '2022-10-10', 'LulaOficial ricardostuckert O Nordeste deveria ser a região mais rica do país pois é governada a anos pelo PT. ', 0.0], [20, '2022-10-10', 'LulaOficial Deixa de mentira LADRÃO ', 0.0], [21, '2022-10-10', 'LulaOficial ', 1.0], [22, '2022-10-10', 'bchartsnet POVO BRASILEIRO VAMOS DERROTAR ESSE COMUNISTA DO LULA...', 0.0], [25, '2022-10-10', '_Janoninho Estou com Lula.', 2.0], [26, '2022-10-10', 'Jaja o lula consegue a família da giulia pra frente ampla ', 2.0], [27, '2022-10-10', 'LulaOficial ', 1.0], [28, '2022-10-10', 'marcosportela OGloboPolitica Lula ladrão nunca mais. ', 0.0], [29, '2022-10-10', 'RomeuZema O povo de Minas não é gado. Por isso vai votar em Lula Presidente!', 2.0], [30, '2022-10-10', 'CANAL_do_ALONSO BlogdoNoblat StopCorrupcao Mas o falso Juíz Sérgio Moro que condenou Lula sem provas apoia o governo mais corrupto da república além de ajudar a colocar o Brasil nessa lama na qual está.', 2.0], [31, '2022-10-10', 'felipeneto porq no governo lula que a educação era boa né?', 0.0], [32, '2022-10-10', 'LulaOficial Você é um piadista!!! ', 0.0], [33, '2022-10-10', 'vnssalin EITAAAA LULA ETERNO... TU CONSEGUIU  ', 2.0], [36, '2022-10-10', 'deregomesrio eurenesilva vozdacomunidade faferjoficial Gabrielpsg19 inst_marielle Rafalbergaria suuusouzas LulaOficial JanjaLula marcelledecothe Vai ser massa, meu povo. Sacode essa galera.', 2.0], [37, '2022-10-10', 'andregordon73 Pois é! Tem razão.', 1.0], [39, '2022-10-10', 'LulaOficial Só mentira ', 0.0], [40, '2022-10-10', 'ericayhwh Isso e pq c não leu a bíblia. Toda vez que fala do diabo eu lembro do lula.', 0.0], [41, '2022-10-10', 'FigueiraAlvaro 55 a 45 Lula lá  IPEC ', 2.0], [42, '2022-10-10', 'tabataamaralsp LulaOficial Ambev te patrocina por meio do Lemann', 0.0], [43, '2022-10-10', 'O Lula merece todo amor e carinho  ', 2.0], [44, '2022-10-10', 'AndreMarinho Lula? É isso mesmo? Seu pai vai apoiar o Lula. 1,2,3  cada um responde pelo seu cpf', 0.0], [45, '2022-10-10', 'ygabi_oli Valerlevar iasmynereis acidezcapital samiabomfim O rumo do nosso país com lula na presidência vai ser o msm da Argentina, governos da esquerda seguem uma mesma linha ideológica, é isso podemos continuar avançando economicamente ou retroagir. ', 0.0], [46, '2022-10-10', 'BotVaniaSavio MarcioRomanha LulaOficial Boa noite querida Vania  LulaPresidente13 ', 2.0], [47, '2022-10-10', 'LulaOficial O mundo mudou! E a China não cresce mais 2 dígitos', 0.0], [48, '2022-10-10', 'LulaOficial Ah se lascar cabra safado', 0.0], [51, '2022-10-10', 'LulaOficial É isso aí meu Presidente !', 2.0], [53, '2022-10-10', 'Não me falem que investir em educação é gasto. Educação é investimento LulaOficial é isso ', 2.0], [56, '2022-10-10', 'Mãe: \"não fala isso dele Karen\"', 1.0], [58, '2022-10-10', 'LulaOficial Você bebeu?', 0.0], [59, '2022-10-10', 'na aula: o que o vermelho significa pra você?', 1.0], [63, '2022-10-10', 'ThiagoSussekind Uma pergunta, o Lula já reprendeu o Ortega?', 0.0], [64, '2022-10-10', 'Quem vivenciou a época do casseta e planeta sabe que isso aqui seria praticamente impossível de acontecer... ', 1.0], [66, '2022-10-10', 'emicida Sai dae maloqueiro... não faz nada e critica sem nem saber de que se trata ... Sangue-suga .... nunca trampou de verdade e defende o Lula-ladrão e fica nesse papinho..', 0.0], [68, '2022-10-10', 'LulaOficial Sabe oq e uma falta de responsabilidade? Um ex-presidiario corrupto, ladrão safado se candidatar a presidente de um país mesmo depois de ter deixado milhares de pessoas na fome e no desemprego seu hipócrita me responda oq vc fez pelo nordeste', 0.0], [69, '2022-10-10', 'Lula ', 1.0], [70, '2022-10-10', 'GugaNoblat Uaaiiiiiiii', 1.0], [71, '2022-10-10', 'minha tia é o dia todo brigando com o povo no WhatsApp defendendo lula pqp', 0.0], [72, '2022-10-10', 'rafinhabastos Se o lula tivesse na presidência nessa pandemia o Brasil já tinha virado uma Venezuela', 0.0], [73, '2022-10-10', 'SergioMoro19RJ MOVIMENTOVERDA2 SF_Moro Gosto e confio no SF_Moro ', 0.0], [77, '2022-10-10', 'panga2021 Os de Lula acreditam que ele é franciscano.', 0.0], [78, '2022-10-10', 'xxtcook sstein1974 aguedescartoon RodrigoMaia Eu não sei prever futuro, mas algo me diz que o Lula não vai derrubar o orçamento secreto, até porque ele vai precisar de governabilodade, neste sentido e necessário comprar o Centrão!', 2.0], [79, '2022-10-10', 'E o LulaOficial só subindo,  e o Bolsanaro caindo.  isso é muito bom... E estou feliz, o povão também.', 2.0], [80, '2022-10-10', 'foragenocita Se Lula engana, pq o Bozo não poderia? Kkkkkkk', 0.0], [81, '2022-10-10', 'LulaOficial bruno_marcello Quando seu filho estiver roubando os pertences de casa, pra sustentar o vício da droga, liberada pelo PT, faz o L.', 0.0], [82, '2022-10-10', 'O servidor público não é o problema!', 2.0], [87, '2022-10-10', 'zanittei Lula?', 1.0], [88, '2022-10-10', 'ELE ESTÃO DIZENDO QUE LULA CRIOU O MAIS MEDICOS O SAMU VAMOS MOSTRAR DE FATO O QUE FOI CRIADO, PARA PARAR O DISPAROS EM MASSAS SÓ MOSTRANDO A VERDADE PARA O POVO ', 1.0], [89, '2022-10-10', 'LulaOficial ricardostuckert ', 1.0], [90, '2022-10-10', 'Não existe comparação entre Bolsocaro e Lula. LULA NOSSO PRESIDENTE!!! O RESTO E  O RESTO!!!! ', 2.0], [91, '2022-10-10', 'rafinhabastos Aí vc tá de brincadeira, Lula melhor presidente da história da democracia.', 2.0], [92, '2022-10-10', 'LulaOficial Nem euuuu ', 0.0], [93, '2022-10-10', 'LulaOficial O que tem naquela garrafinha sua ? Já temos as reais imagens , não divaga molusco , melhor soltar a garrafa !!!', 0.0], [94, '2022-10-10', 'LulaOficial Em época de campanha promete mundos e fundos né Molusco Labioso? Só besta acredita nessa rua Lábia safado. Na rua época de Presidente dava 80 de esmola para o povo necessitado e roubava o resto.', 0.0], [95, '2022-10-10', 'Mudaram as estações, nada mudou ', 1.0], [96, '2022-10-10', 'LulaOficial ', 1.0], [97, '2022-10-10', 'LulaOficial ricardostuckert Você já mostrou seu plano de governo?', 0.0], [98, '2022-10-10', 'Rafayse LulaOficial ', 0.0], [99, '2022-10-10', 'LulaOficial Principalmente se for para falar mal do Brasil, aumentar números de criança de rua. Lula traidor da pátria, uma pessoa horrível.  Descondenado , ficha suja, não deveria concorrer a nada.  Canalha.', 0.0], [100, '2022-10-10', 'LulaOficial Eu vou embora se vc ganhar kkkkk só que não', 1.0], [101, '2022-10-10', 'Yan_sin32571 arte_brian numa live tavam atacando ele pq ele tinha dito q votou no lula, ai ele foi meio q falar sobre e ele lembrou do tio q morreu fe covid ai comecou a chorar, basicamente foi isso', 1.0], [102, '2022-10-10', 'be_soares LulaOficial giulia ricardostuckert eu amo essa expressão', 2.0], [103, '2022-10-10', 'Recadinho da grande Fernanda Montenegro. É LulaOficial presidente! lula presidentelula lula13 ', 2.0], [104, '2022-10-10', 'r43688383 LulaOficial giulia ricardostuckert O amor vai vencer sim. Precisamos de mais amor e paz!', 2.0], [105, '2022-10-10', 'J_LIVRES LulaOficial ricardostuckert 200mil ', 2.0], [106, '2022-10-10', 'srhvictor LulaOficial gleisi joaoazevedolins ParahybaThreads Pense num mago pa no uc', 1.0], [107, '2022-10-10', 'LulaOficial ', 1.0], [109, '2022-10-10', 'LulaOficial O discurso é bonito, o problema é que as imagens mostram o contrário.', 0.0], [110, '2022-10-10', 'maluoriginal grosso é meu pau... ele é honesto e nao gosta de mimimi', 0.0], [113, '2022-10-10', 'claudiaragao62 YatoSempai3 OGloboPolitica Estratégia do demonio lula corrupto ladrão de acusar os outros do q ele é: nervoso raivoso! Como é q alguém temente a Deus apoia quem valoriza assassinatos de bebês no ventre da mãe? Vade retro!', 0.0], [114, '2022-10-10', 'centralmalugall Lula', 0.0], [116, '2022-10-10', 'BagnoDanilo LULA', 0.0], [117, '2022-10-10', 'GabiAlv79222138 JaneNog07 FlaTweeta FLina53804079 andrevaladao Veja q Lula, PT e outros partidos sempre respeitaram todas as religiões. O PT foi o q trouxe meios de proteger a sua religião até por leis. Todos merecem isso. O Estado precisa ser laico, pra tds possam ter liberdade. Países q colocam um Deus acima do Estado, sempre persegue ', 2.0], [118, '2022-10-10', 'Dracoola79 EleccionesDatos Esta encuesta es de the Economist, de apoco se va achicando la diferencia y puede que se revierta tras los dichos de lula contra el gob electo de minas gerais', 1.0], [119, '2022-10-10', 'FlaviaRoDias Salaminucci Estamos caminhando para ditadura fora bozo volta logo Lula', 2.0], [120, '2022-10-10', 'LulaOficial Lá na Alemanha e na França tem pobre? Lulinha não gosta de gente pobre ', 0.0], [121, '2022-10-10', '22', 0.0], [124, '2022-10-10', 'andrevaladao Pastor mais uma vez vou esclarecer, não se trata de caráter quando Lula foi preso no Dops, por incitar Greves por melhores condições de trabalho, greve é uma arma de defesa do trabalhador contra o \" patrão \" e como a CF de 67 proibia greves, lula foi um lutador encarou a Ditadura', 2.0], [125, '2022-10-10', 'giulia LulaOficial PauloMarinhoRio JanjaLula Eu t que é só lágrimas de alegria e emoção. ', 2.0], [127, '2022-10-10', 'EU TAMBEM QUANDO PEQUENA VIVIA CANTANDO LULA LÁ KKKKKKKKKKKKK minha mãe falava que quando ele aparecia na tv eu falava \"OLHA MAMÃE É O LULALA\" ', 2.0], [128, '2022-10-10', 'luccasfdl n acho q vá, só tem as mesmas ideias, lula é socialdemocrata, n comunista', 2.0], [129, '2022-10-10', 'geraldoalckmin LulaOficial Se juntou a quadrilha.', 0.0], [130, '2022-10-10', 'Será que dá pra confiar no 55 x 45 pro Lula ? Tenho  minhas dúvidas.', 2.0], [131, '2022-10-10', 'LulaOficial Mente que nem sente.', 0.0], [132, '2022-10-10', 'BlogdoNoblat Tem vídeo? Não é por nada não, mas já vi tanta imagem editada de eventos com Lula que não acredito mais em fotos. Quero vídeos com tomadas áreas. É fácil fazer com drone. Consegue uma p gente?', 1.0], [133, '2022-10-10', 'WagnerWilliam12 LulaOficial marcelomadu ricardostuckert Sabe ao menos explicar como a Rouanet funciona??', 2.0], [134, '2022-10-10', 'O  CRIME ORGANIZADO ESTA AO LADO DO LULA E TOTALMENTE CONTRA NÓS E ISSO E MAIS UM MOTIVO DE REFLEXÃO PQ ? PQ O CRE ORGANIZADO É  FECHADO COM A ESQUERDA SERÁ  QUE E POR DIÁLOGOS CABULOSOS FICA A PERGUNTA', 0.0], [135, '2022-10-10', 'Bernardofroesg Lula lixo asqueroso  ladrao seu lugar e na prisão', 0.0], [136, '2022-10-10', 'DudaSalabert LulaOficial ', 1.0], [137, '2022-10-10', 'afrocrente Pra mim a Marília quer ganhar somente se escorando no Lula. Não tem nada além  disso na campanha dela. Enquanto a outra tenta se desvencilhar dos dois candidatos  presidência e focar em PE. Eu achei melhor. Bolsonarista que vota em Raquel é só por aversão a Marília-Lula.', 2.0], [138, '2022-10-10', 'Dá para contabilizar a quantidade de anos de atraso? ', 1.0], [140, '2022-10-10', 'Nem o ex humorista de direita aguenta a extrema direita. Vem que o Lula te aceita. ', 2.0], [141, '2022-10-10', 'LulaOficial marcelomadu ricardostuckert ', 1.0], [142, '2022-10-10', 'tem que mandar tomar no cu esses babaca que fica em post falando ainnn entao me fala 2 propostas do lula pra esse governo e fala 2 coisas que ele fez no passado irmao, quem tem filho barbado é gato, o tempo que tu perdeu escrevendo essa merda tu usa no google e lê', 2.0], [143, '2022-10-10', 'sim eu sou seletiva só beijo quem vai votar no lula', 2.0], [144, '2022-10-10', 'Grrr eu quero abraçar o lula tbm  ', 2.0], [145, '2022-10-10', 'SigaGazetaBR Mas o Prefeito apoiou o Omar Aziz que é Lula.', 1.0], [146, '2022-10-10', 'LulaOficial bruno_marcello ', 1.0], [147, '2022-10-10', 'V13lula LulaOficial ptbrasil A extrema direita convive bem com a corrupção, isso é fato.', 2.0], [149, '2022-10-10', 'mvcostaBR andrevaladao Kkkkkk olha a diferença ...o lula e ladrão ...fato !!! ', 0.0], [150, '2022-10-10', 'LulaOficial Fico sem churrasco , mas não fico sem lutar contra isso. ', 1.0], [151, '2022-10-10', 'SrJusticaa lorrangms ptbrasil petrogustavo FranciaMarquezM LulaOficial Pela democracia KKKKKKKKKK é muito ret4rd4d0 mano KKKK', 1.0], [152, '2022-10-10', 'As mesmas pessoas que iam orar com o presidente Lula na época de seu mandato são as que agora disseminam de forma desonesta que ele vai fechar as igrejas... O voto do dia 30 deve ser confiado a quem está disposto a fazer políticas públicas para todos, para quem crê e quem não crê ', 2.0], [153, '2022-10-10', 'LulaOficial Você está um boneco de feira descontrolado Lula.Redatores que postam tolices em seu nome são desinformados.No contexto mundial o Brasil está voandoeconomia em alta e o auxílio Brasil paga 4 X mais,para mais famílias,que sua bolsa miséria.Que puxem os cordéis mais suavemente!', 0.0], [154, '2022-10-10', 'LulaOficial giulia ricardostuckert ', 1.0], [155, '2022-10-10', 'paes_as É um argumento vazio, já que foi preso injustamente. (O Lula)', 2.0], [156, '2022-10-10', 'simonetebetbr O Lula vai bater na senhora \"dentro de casa ou em outro lugar\"?', 0.0], [157, '2022-10-10', 'Lula 51% , ele já ganhou gente... só não vê quem não quer rsrs', 2.0], [158, '2022-10-10', 'LulaOficial ricardostuckert Quem conversa com bandido igual vc é o a polícia', 0.0], [159, '2022-10-10', 'UOLNoticias E as mesma que lula ia ganhar no primeiro turno??? Vão se fder kkkk', 0.0], [160, '2022-10-10', 'mvcxmvc LulaOficial Ninguém aguenta mais Bozonaro!!', 2.0], [161, '2022-10-10', 'Agendão do Time de Lula desta terça-feira em Natal ', 2.0], [162, '2022-10-10', 'LulaOficial Sei qual é sua causa!!! ', 0.0], [163, '2022-10-10', 'Araorogerio1212 plengruber gutembergcpv Vvia14370438 77_frota O que o Lula roubou?', 2.0], [164, '2022-10-10', 'updatecharts pedindo caridade, lula?', 0.0], [165, '2022-10-10', 'LulaOficial giulia ricardostuckert Que orgulho do meu presidente ', 2.0], [166, '2022-10-10', 'LulaOficial ', 0.0], [167, '2022-10-10', 'Lula ', 0.0], [168, '2022-10-10', 'LulaOficial ', 0.0], [169, '2022-10-10', 'LulaOficial ', 0.0], [170, '2022-10-10', 'eduardohanzo_ lula', 0.0], [171, '2022-10-10', 'LulaOficial Ex presidiário é mais recente!', 2.0], [172, '2022-10-10', 'tammagoti Parece q o Marcelo Madureira era minion de subir no trio elétrico de verde e amarelo, mas hj fez o L abraçado com o Lula, daí lembrei q o 04 é brigado com a madrasta e já soltou q namoraria petista ( ele falou isso há mto tempo ), vai q se rebela, o  Luly vira todos', 2.0], [173, '2022-10-10', '... infelizmente não aconteceu, mas que esteve perto de ter sido realizado. O trabalho da militncia da esquerda é mostrar sempre os benefícios que os dois mandatos do ex-presidente Lula trouxeram ao país como a saída do mapa da fome e o fato de ter se tornado...', 2.0], [174, '2022-10-10', 'Lula em Maceió e eu provavelmente não irei. Que tristeza', 2.0], [175, '2022-10-10', 'CanalDoOtario Piero_Garcia LulaOficial Nunca foi provado nada , agora o seu candidado foi condenado em 3 estncias e comprou os ministros do STF .', 0.0], [176, '2022-10-10', 'carmelonetobr Olha eu ali ouvindo as babaquices...vou votar no Lula', 2.0], [177, '2022-10-10', 'realpfigueiredo Observa essa doença do analfabetismo esquerdista.', 0.0], [181, '2022-10-10', 'hpassosneto É SÓ VER O LULAFLIX QUE ESTÁ TUDO LÁ O QUE O LULA FEZ', 2.0], [182, '2022-10-10', 'É aquele lance o do VIRA VOTO, VIRA LULA!!!', 2.0], [184, '2022-10-10', 'FilipeCatto LulaOficial Vamooo ', 2.0], [185, '2022-10-10', 'lucas_iludido littleitamar Janones suceder Lula? Tá doida mona? Vc não deve conhecer o histórico do Janones. Ele é literalmente oportunista. Surfa na onda do momento e é do centrão', 1.0], [186, '2022-10-10', 'Basta Lula ganhar a eleição que estes bostas golpistas nunca mais falam em aumentar o número de ministros do STF.', 2.0], [187, '2022-10-10', 'LulaOficial ricardostuckert ', 0.0], [188, '2022-10-10', 'LulaOficial Ladrao do caralho !  Como está vivo ainda ? Matam essa raça ruim aí', 0.0], [189, '2022-10-10', 'sendmeriver wemersonTWIT b_ishigami Isso é verdade. Só q STF não inocentou o Lula. Mudou a vara penal para julgar. Provas são as mesma. Não foi só o Moro q o condenou. O STJ e o TRF condenaram também. 6 bilhões foram devolvidos aos cofres públicos. Vc acha q caiu do céu? Foram desviados!', 0.0], [190, '2022-10-10', 'Simplismente amo você atriz q faz a propaganda do lula ', 2.0], [191, '2022-10-10', 'joventino_maria lemos_arao rafaelfsant 2022Enquetes Lula é o limao. Eu odeio limao', 1.0], [192, '2022-10-10', 'LulaOficial giulia ricardostuckert Caralho, cadê tu AndreMarinho ? Kkkkkkkkkkkkkkkkk. Vai lá discutir com o nikolas_dm agora! Hauahuahauahahauhahauau', 1.0], [193, '2022-10-10', 'Minibio: cidadão do mundo, embaixador da rua e canhoto de ideias. Eleitor de LulaOficial, torcedor do sportrecife e fã da NacaoZumbi. Joga bola, faz gols e não dança. É sentimental demais e tem uma quedinha pelo ibismania. Livro favorito: As Veias Abertas da América Latina.', 2.0], [194, '2022-10-10', 'Vc e Lula tudo farinha do msm saco um ladrão presidiário outro invasor de propriedade.. ', 0.0], [195, '2022-10-10', 'Você não tem amigos Lula. Você tem cúmplices. ', 0.0], [196, '2022-10-10', 'Quase pego ranço da Arianna quando ela disse que não não gostava de Lula. Mas lembrei que era o bicho', 2.0], [197, '2022-10-10', 'LulaOficial Pacto de Princiton,  verifiquem o que foi e quem estava!', 0.0], [198, '2022-10-10', 'Tava assistindo o episódio de Rolling kitchen Brasil com Byanca, Esse Menino. E toda vez que o PauloVieiraReal perguntava se alguém gostava de Lula dava pra sentir do sofá a indireta.', 0.0], [199, '2022-10-10', '_Carneirojorge marciatiburi Gozado, o Lula é chamado de ladrão e ninguém nunca apresentou provas', 2.0], [200, '2022-10-10', 'luvsthoma lula fã de ordem paranormal canon ', 0.0], [201, '2022-10-10', 'LulaOficial Vamos la eh democracia ....nao eh socialisno sul americano de ladroes', 0.0], [202, '2022-10-10', 'LulaOficial ricardostuckert Grande monte de estrumes', 0.0], [203, '2022-10-10', 'LulaOficial Recuperar aquilo que o governo do PT fez ?  conversa fiada, voce mesmo embola na suas próprias palavras. Ex-presidiário', 0.0], [204, '2022-10-10', 'A base de apoio de Lula está muito forte.', 2.0], [208, '2022-10-10', 'De o lula botasse um projeto de lei pra ninguém trabalhar sábado eu votava dnv', 2.0], [209, '2022-10-10', 'ZildaZildaab simonetebetbr DISCORDO, mas ficar a campanha toda falando que o PT é corrupto e depois dar apoio ao Lula NÃO É INTELIGENTE E NEM RESPONSÁVEL.', 0.0], [210, '2022-10-10', 'LulaOficial Não, contigo no Governo, esse país vai se transformar em uma nova Venezuela. Não minta. Socialismo não leva ao crescimento.', 0.0], [211, '2022-10-10', '\" Investir em Educação não é gasto é Investimento\"                         LulaOficialLula é um Estadista e governa para todos         LulaPresidente13  ', 2.0], [212, '2022-10-10', 'SuyaneOliveir72 geraldoalckmin LulaOficial Única saída para democracia ou da democracia? Quem apoia os ditadores mundo afora?', 0.0], [213, '2022-10-10', 'roxmo LULA É A ESPERANÇA DO BRASIL', 2.0], [214, '2022-10-10', 'salimmattarbr Esse é o primo do que roubou a poupança dos brasileiros? Vou votar no Lula novamente 13', 2.0], [215, '2022-10-10', 'E ai LulaOficial  tu n é o Cristão ?? pq tu n vai também ? é dia 12, fica avisado ', 0.0], [216, '2022-10-10', 'DePassarelli abnelalecrim Por isso que a esquerda não fala tanto no nome lula', 0.0], [218, '2022-10-10', 'LulaOficial Melhor falar as coisas da mentir e roubar', 0.0], [219, '2022-10-10', 'jose_simao Eleitores do LulaOficial ', 1.0], [220, '2022-10-10', 'Darthopressor MaxF633 jn__marcos CorrupcaoMemes falando agora da ideologia', 1.0], [223, '2022-10-10', 'Zema rebate Lula no Twitter: \"Povo mineiro já está vacinado do PT\"', 0.0], [224, '2022-10-10', 'josuerocksccp boliviazica Tem maluco que defende lula, não duvido de mais nada', 0.0], [225, '2022-10-10', 'garota_direita o_antagonista LulaOficial RomeuZema Pois é. O tom desse capone é o tom do mafioso top! Teve os tapinhas na cara do carrasco mais temido do STF, depois de 1 outro juizinho subalterno na hierarquia da ORCRIM. Então não venham dar de  isentos passadores de pano pra cima da gente não!', 2.0], [226, '2022-10-10', 'BeatrizMaia26 ArthurLira_ Esse é igual ao bruxonaro só faz ameaças, meu voto é LULA PRESIDENTE no dia 30 de Outubro 13 e já seguindo vc daqui de Paranatinga MT. Vamos DAR  resposta na urna esse ano LULA PRESIDENTE.', 2.0], [227, '2022-10-10', 'LulaOficial Pq vc quebrou o país né jumento', 0.0], [228, '2022-10-10', 'nacienmantillao BumperCrop1 En eso no se diferencia con Lula. Brasil es socio de Rusia. ', 1.0], [229, '2022-10-10', 'Senadora Kátia Abreu agora é Lula ', 2.0], [230, '2022-10-10', 'BOLETIM SINDICAL - O Mensageiro (10 de outubro de 2022)', 1.0], [233, '2022-10-10', 'O lula passa muito a sensação de dissimulado', 0.0], [234, '2022-10-10', 'LulaOficial bruno_marcello Ladrão !!!!', 0.0], [235, '2022-10-10', 'lula pula igual pipoca nesses trios de campanha dele kkkk', 1.0], [236, '2022-10-10', 'O Ipec continua mentindo', 0.0], [240, '2022-10-10', 'antropozinhenby Aí pq lula não ganhou no 1o turno', 0.0], [241, '2022-10-10', 'Pesquisa IPEC', 1.0], [245, '2022-10-10', 'LulaOficial Você é uma pessoa Alimária, Abentesma, Biltre, Sevandija, Estultilóquio. Poderia citar mais. Fica para a próxima!', 0.0], [246, '2022-10-10', 'LulaOficial ', 1.0], [247, '2022-10-10', 'LulaOficial ricardostuckert Al nine, vai votar em quem ? ', 1.0], [248, '2022-10-10', 'esquerdonomista AlfredoMenezes6 LulaOficial Falou o cara que chupa as bolas do Átila tamarindo', 0.0], [249, '2022-10-10', 'LulaOficial marcelomadu ricardostuckert Pqp, finalmente o Casseta e Planeta estão em sintonia... kkkkkkk Bem vindo ao campo democrático marcelomadu .', 0.0], [250, '2022-10-10', 'esquadraobiflay MAteus27h g1 Chaves aquele que o Lula apoia?', 0.0], [251, '2022-10-10', 'DboraGrace ariel_passarela MAGAFRV IAPolls2022 Lula é comunista, a favor da censura na imprensa, aborto na saúde pública, liberação das drogas. Enganou os Brasileiros enviando o dinheiro dos nossos impostos para investimentos em países comunistas. ', 0.0], [252, '2022-10-10', 'saritacoelho Lula já disse que os supremos são acovardados .', 1.0], [253, '2022-10-10', 'kkmorangoo Se não tentaram assassinar esse escroto ambulante em todas as merdas que ele fez durante presidente, eu vou ficar PUTA se tentarem com o Lula', 2.0], [254, '2022-10-10', 'LulaOficial japa0800 entra no lulaverso', 1.0], [255, '2022-10-10', 'geraldoalckmin LulaOficial BaixadorDeVldeo', 1.0], [256, '2022-10-10', 'LulaOficial Esse aqui também apoia ele ó  ', 1.0], [257, '2022-10-10', 'geraldoalckmin LulaOficial ', 1.0], [258, '2022-10-10', 'MariliaArraes Força , querida , é Lula 13, é Marília 77.', 2.0], [259, '2022-10-10', 'A diferença de nível do dia do LulaOficial e do atual presidente do BR é um abismo. Lula muito  frente falando da importncia da Educação para este país. Lula2022', 2.0], [262, '2022-10-10', 'LulaOficial Fake news quem dissemina, é vc e toda essa corja suja, e o ignorante acredita nas mentiras desse partido das trevas... Já começou a ditadura? Pq estão perseguindo os influenciadores de Direita??', 0.0], [263, '2022-10-10', 'rafalougon juliaduailibi CentralEleicoes Na verdade quem trouxe esses escandalos para o conhecimento do público foi o MP e a PF. O Jornalismo apenas repercutiu. ', 1.0], [264, '2022-10-10', 'Rconstantino LulaOficial Tem memória seletiva esse ex-presidiário ladrão', 0.0], [265, '2022-10-10', 'HellenMayara5 ZeRicardoAM LulaOficial Isso devido a hemoglobina!', 1.0], [269, '2022-10-10', 'GayerGus Empresarios com Lula é uma piada mesmo não sabem nem mentir.', 0.0], [270, '2022-10-10', 'se o Lula ganhar q q vai mudar meu shape? ', 1.0], [271, '2022-10-10', 'CamiloSantanaCE LulaOficial Esqueceu do fique em casa dissimulado? Lamentável um senador eleito mentir tanto assim', 0.0], [272, '2022-10-10', 'Eu tenho alegria e orgulho de dizer que voto em LulaOficial ', 2.0], [273, '2022-10-10', 'marciopaivaon veluc111 BRASIL URGENTE, LULA PRESIDENTE!!!!!', 2.0], [274, '2022-10-10', 'O ex-presidiário Lula teve 80,59% dos votos válidos em presídios!', 0.0], [276, '2022-10-10', 'militantcansado Eu acho que se o Lula tomasse um cafezinho com o Jair, até ele mudava o voto.', 2.0], [277, '2022-10-10', 'O Brasil vai eleger Lula no próximo dia 30. Vamos extirpar a institucionalização do racismo, homofobia, misoginia e xenofobia. ', 2.0], [278, '2022-10-10', 'FernandaTakai celiaxakriaba ColetivoAlvora1 LulaOficial ronaldofraga AndreJanonesAdv MacaeEvaristo Patrus_Ananias ', 1.0], [279, '2022-10-10', 'LulaOficial Por que tantos brasileiros vão estudar em universidades públicas e gratuitas na Argentina?  Este ano são 12.000 e isso acelerou a partir de 2018.', 2.0], [280, '2022-10-10', 'LulaOficial Na sua vez era só você é os companheiros né. Acorda', 0.0], [281, '2022-10-10', 'gremistaleosilv LulaOficial 13', 2.0], [282, '2022-10-10', 'geraldoalckmin LulaOficial Lutam tanto diversidade mas não tem um negro nas fotos do primeiro escalão. Estranho não?', 0.0], [283, '2022-10-10', 'LulaOficial ', 0.0], [284, '2022-10-10', 'LulaOficial Não roubar já ajuda bastante ', 0.0], [285, '2022-10-10', 'thaigo_cassiano gopal633as taoquei1 Lula 13 chora menos! Kkk', 0.0], [286, '2022-10-10', 'luizefar EstherThedoro A diferença do Lula para o verme aumentou.', 2.0], [288, '2022-10-10', 'LulaOficial Mentira!!! Tava vazio pra burro! Aqui em minas ninguém quer PT mais não.', 0.0], [289, '2022-10-10', 'GugaNoblat Pensei que o Lula tinha ganho no primeiro turno... kkkkkk ', 0.0], [290, '2022-10-10', 'eh luiz inacio lula da silva  n esta facil', 0.0], [291, '2022-10-10', 'LulaOficial Sério q seu plano de governo se baseia num personagem de novela????', 0.0], [292, '2022-10-10', 'Quem aí vai assistir o DebateNaBand hoje?', 1.0], [294, '2022-10-10', 'LulaOficial giulia ricardostuckert Olha quem veio ao Brasil visitar e dar apoiar ao Lula Chupem que a cana é doce', 0.0], [295, '2022-10-10', 'CristianocjsB Para você ver o nível dos eleitores de Lula.', 0.0], [297, '2022-10-10', 'viniragusa anticoletivista LulaOficial Claro, o mundo de olho na Amaznia, com certeza vão querer o Lula kkkkk', 2.0], [299, '2022-10-10', 'Agora o Lula chega a 60% dos votos ', 2.0], [300, '2022-10-10', 'UOLEsporte LULA É A ESPERANÇA DO BRASIL', 2.0], [301, '2022-10-10', 'uczai Como se Lula nunca fez outra coisa que não fosse desvio de verbas?', 0.0], [302, '2022-10-10', 'RPhupa ootimistajornal Nojento é ver gente em 22 caindo no mesmo terrorismo eleitoral de décadas kkkk o petê sempre a única alternativa p derrotar um graaande mal. Se Lula ganhar, é pq o brasileiro merece mesmo.', 0.0], [303, '2022-10-10', 'LulaOficial Estava lá, concordo absolutamente com o que diz, um clima, uma onda, uma esperança de que vamos ganhar. Inclusive vi alguns lá que nunca imaginei estarem do nosso lado, foi um belo sinal, força, fé, foco e rumo a vitória, baixar a atenção de maneira alguma, lula lá, contem comigo', 2.0], [304, '2022-10-10', 'eu acho que o lula vai vir pra minha cidade', 2.0], [305, '2022-10-10', 'A campanha mais eficiente para o Lula agora é o voto nulo', 1.0], [306, '2022-10-10', 'Eu quero o vídeo do Lula falando que investir em educação não é desperdício agora!!', 2.0], [307, '2022-10-10', 'mds, copa ja eh mês que vem e eu ainda nem comprei a camisa do brasil.... vou esperar lula ser eleito a p voltar a usar a amarelinha com a forabozo nela ', 2.0], [308, '2022-10-10', 'LulaOficial Não vem que não tem safado, mentiroso', 0.0], [309, '2022-10-10', 'Sentinels TenZOfficial lula?', 0.0], [310, '2022-10-10', 'LulaOficial marcelomadu ricardostuckert ', 0.0], [311, '2022-10-10', 'A senadora KatiaAbreu reafirma voto em Lula e faz um alerta aos produtores brasileiros sobre as recentes decisões da comunidade europeia. Lá na outra rede.', 2.0], [312, '2022-10-10', 'Juro que eu queria saber a fonte da paz de espírito de quem tá nesse caos e tá assim \"nem lula nem bosta\" e com a autoestima elevada de \"ser iluminado\"', 2.0], [313, '2022-10-10', 'LulaOficial 13', 2.0], [314, '2022-10-10', 'oha_naiii andreacitynova LulaOficial Vc só conhece gente lesada', 0.0], [315, '2022-10-10', 'brealt safbf Deborabaldin gabriolaz Obrigada pelo apoio, Breno! Muita gente na internet não tá organizada, essas questões tem que estar na agenda do dia dos nossos partidos! Vamos que vamos, lula lá e Haddad aqui', 2.0], [316, '2022-10-10', 'LulaOficial E você só pensa em regular os meios de comunicações pra ninguém poder falar dos seus roubos junto dos seus filhos. O sujo falando do mal lavado.', 0.0], [317, '2022-10-10', 'SenadorRogerio LulaOficial E o Kiko? Esse vagabundo só bebe e fala merda', 0.0], [318, '2022-10-10', 'LulaOficial anacontivieira giulia ricardostuckert Que lindo... lindo... lindo.... LulaNoSegundoTurno  LulaDay', 2.0], [319, '2022-10-10', 'Lula se esquiva na indicação de possíveis nomes para ministérios ', 0.0], [320, '2022-10-10', 'LulaOficial ricardostuckert ', 1.0], [321, '2022-10-10', 'LulaOficial giulia ricardostuckert ', 1.0], [322, '2022-10-10', 'Mattheusb_c LulaOficial Se ele prometeu Água e não cumpriu imagina Picanha com Cerveja kkkkkkkkkkkkk', 0.0], [323, '2022-10-10', 'LulaOficial ricardostuckert ', 1.0], [324, '2022-10-10', '_Janoninho Eeeee Lula 55% dos votos válidos.13', 2.0], [328, '2022-10-10', 'LulaOficial Bah então as diretas foram fraquinhas hein.... Molusco mentiroso, ladrão.', 0.0], [329, '2022-10-10', 'Cl_rhay SIM KKKKKKKKKK ele agradecendo pelos votos e que ganhou aqui sendo que o nordeste todo foi lula ', 2.0], [330, '2022-10-10', 'Na IPEC de hoje, LulaOficial tem 51% e o inominável, 42%. Já nos votos válidos, ficamos com 55% contra 45%. Bora trabalhar! Falta pouco pra acabar o pesadelo, o Brasil vai ser feliz de novo. ', 2.0], [331, '2022-10-10', 'Lula - enquanto oferecia 80 reais no bolsa família- oferecia o Bolsa Petrobras para o Marcelo Odebrecht no valor de bilhões de Reais. ', 0.0], [333, '2022-10-10', 'passei mal na uesc hj e to me sentindo mal agr em casa dnv ', 1.0], [335, '2022-10-10', 'Agora votos válidos no Ipec', 1.0], [339, '2022-10-10', 'Caloteiros de olho na Entrada do Ladrão! Não vão precisar pagar mais o Estádio e voltarão a ganhar vários títulos como ganhavam na época do Lula! ', 0.0], [340, '2022-10-10', 'LulaOficial marcelomadu ricardostuckert Esse otário aprendeu?', 1.0], [341, '2022-10-10', 'LulaOficial Lula....sera que tem presidência de cela?como tinha de sala... tenta...lá no presídio ,tá ganho...', 0.0], [342, '2022-10-10', 'Eleições2022: TSE nega pedido do PT para retirar do ar canal que associa Lula ao PCC ', 0.0], [343, '2022-10-10', 'joaobettega_ Lula é pior', 0.0], [344, '2022-10-10', 'HoracioBridon LulaOficial Kkkkkkkkkkkkkkkkkkkk Kkkkkkkkkkkkkkkkkkkk Kkkkkkkkkkkkkkkkkkkk Kkkkkkkkkkkkkkkkkkkk Kkkkkkkkkkkkkkkkkkkk ', 1.0], [345, '2022-10-10', 'LulaOficial ricardostuckert ', 1.0], [346, '2022-10-10', 'a veia tava falando mal do lula do meu lado e DESMAIOU NO MEU COLO se isso não é sinal eu não sei oq é', 1.0], [347, '2022-10-10', 'esse tanto de aliança que o lula tá fazendo, ainda que sejam necessárias pra acabar com esse pesadelo, podem ser bem perigosas sim kkkk to um pouco com medo, não vou negar', 0.0], [348, '2022-10-10', 'FernandaTakai celiaxakriaba ColetivoAlvora1 LulaOficial ronaldofraga AndreJanonesAdv MacaeEvaristo Patrus_Ananias vai da esse  seu   ku secu  bem  longe  daqui', 0.0], [349, '2022-10-10', 'Enquanto tiverem antas e jumentos que são adestrados pelo chefe da maior quadrilha do Brasil Lula ladrão dificilmente esse país vai deslanchar meu amigo. ', 0.0], [350, '2022-10-10', 'gleisi LulaOficial Tonta!', 0.0], [351, '2022-10-10', 'DeputadoFederal LulaOficial FAKE NEWS', 0.0], [352, '2022-10-10', 'giulia estou muitíssimo feliz com a declaração do voto em lula vou poder parar de ouvir suas músicas no modo privado', 2.0], [353, '2022-10-10', 'LulaOficial marcelomadu ricardostuckert 51?', 1.0], [354, '2022-10-10', 'brasil247 O Lula é ladrão e não tem vergonha', 0.0], [355, '2022-10-10', 'geraldoalckmin LulaOficial Seu malandrinho, quer q o lula ganhe pra derrubar ele e vc governar né kkkkkk malandrinho você em Alckmin', 2.0], [356, '2022-10-10', 'RafaelFontana O Lula já tentou recolher as armas dos cidadãos e o plebiscito de 2005 nunca foi honrado pelos defensores da democracia, diga-se de passagem.', 0.0], [357, '2022-10-10', 'LulaOficial O q é stalinismo mesmo? ', 0.0], [358, '2022-10-10', 'Mary00338232 marcosdoval Exatamente! Nessa época o Lula era Lulinha paz e amor! Rsrsrs!', 2.0], [360, '2022-10-10', 'Lula_avalos ', 1.0], [361, '2022-10-10', 'requiaooficial Vc tá tomando a mesma água que o lula toma  500k ? ', 1.0], [362, '2022-10-10', 'luizfn87 13 LULA', 1.0], [363, '2022-10-10', 'LulaOficial Sítio só pra você, Triplex só pra você. 10 anos metalúrgico você nunca me enganou.', 0.0], [364, '2022-10-10', 'LulaOficial giulia ricardostuckert Coitado do cara, mais um enganado', 0.0], [365, '2022-10-10', 'gremistaleosilv LulaOficial 13', 1.0], [366, '2022-10-10', 'vamos fingir que eu não estou chorando por causa de um edit do Lula e da Janja ao som de Still my girl ', 2.0], [367, '2022-10-10', 'Eleições2022: TSE nega pedido do PT para retirar do ar canal que associa Lula ao PCC ', 0.0], [368, '2022-10-10', 'Não é \"erro\", é crime. E ainda fazendo campanha pro Jair. Queria ver o que a direção faria se fosse uma professora se manifestando pró Lula. ', 0.0], [369, '2022-10-10', 'IzabelMirandad3 Vamos focar no nosso objetivo de tentar conquistar votos para o Lula. Quanto as provocações, o melhor é ignorar, não leva a lugar nenhum ficar entrando em discussões.', 2.0], [370, '2022-10-10', 'syulrudy maysaalvesbr LULA LULA LULA LILA ', 2.0], [371, '2022-10-10', 'LulaOficial Sr. Lula, descondenado, as obras do PAC pararam por causa da corrupção no seu próprio governo. Vc parece que tem amnésia. Caiu na cela e bateu a cabeça?', 0.0], [372, '2022-10-10', 'Das duas uma: quem vota no Loola tem disfunção cognitiva ou mau-caratismo  mesmo. Lula teve 80% dos votos dos presos brasileiros  ', 0.0], [373, '2022-10-10', 'UOL Lula sempre na frente kkkkkk', 2.0], [374, '2022-10-10', 'LulaOficial marcelomadu ricardostuckert Esfreguei os olhos aqui para ver se não era uma miragem.', 1.0], [375, '2022-10-10', 'JornalOGlobo Gente isso foi armação daquele pinguço do Lula! Chega até ser engraçado o nível baixo que o PT consegue chegar pra tentar manipular a população. Kkkk', 0.0], [376, '2022-10-10', 'LulaOficial ricardostuckert ', 1.0], [377, '2022-10-10', 'delucca Tem algum aglomerado que mostra as pessoas que trocaram de lado a favor do Lula?', 2.0], [378, '2022-10-10', 'LulaOficial ricardostuckert ', 1.0], [379, '2022-10-10', 'Rconstantino CanalDoOtario LulaOficial hauahajhajajajauai', 1.0], [380, '2022-10-10', 'Olha que lindo o lula discutindo educação!!!', 2.0], [382, '2022-10-10', 'e só não tenho foto com lula pequena pq quando ele estava na base minha mãe não pode ir pra ficar comigo e tirarmos a foto ', 2.0], [383, '2022-10-10', 'LulaOficial  ', 1.0], [384, '2022-10-10', 'gremistaleosilv LulaOficial 13', 1.0], [385, '2022-10-10', 'gleisi LulaOficial Vocês PTistas não perdem essa mania de demonizar e atacar adversários, vocês não aceitam opniões divergentes. Vocês são arrogantes e intolerantes. Chame-os do que você é, acuso-os do que você faz !!!', 0.0], [386, '2022-10-10', 'A minha mãe sai me mandando TUDO que ela vê nos portais do bozo que ela segue, ela nem confere se é verdade ou não, ofendeu o Lula aí ela vai e me manda kkkkkkkkkkkkk', 0.0], [387, '2022-10-10', 'LulaOficial giulia ricardostuckert Que vergonha pra família marinho ', 1.0], [388, '2022-10-10', 'claudiofgh LulaOficial noseconexoes GringaBrazilien Chutando...claro...eu acho que tão medindo.', 1.0], [393, '2022-10-10', 'alessinhe AdemisVitti ptbrasil Eleitores de lula ladrão, Haddad , pt  todos juntos!!! ', 0.0], [394, '2022-10-10', 'LeilaGermano LulaOficial marcelomadu ricardostuckert Frente ampla tá bem ampla', 2.0], [395, '2022-10-10', 'LulaOficial giulia ricardostuckert Meu presidente', 2.0], [396, '2022-10-10', 'BTrigoly Frente bem ampla, muito ampla haha fez até o L com Lula', 2.0], [397, '2022-10-10', 'randolfeap Oxi algo de errado não está certo em, segundo esse tal de Ipec o Lula ladrão já foi eleito!!', 0.0], [398, '2022-10-10', 'LulaOficial ricardostuckert ', 1.0], [399, '2022-10-10', 'O mais próximo que Lula e Taylor Swift já estiveram.', 1.0], [401, '2022-10-10', 'Quem vai pra caminhada de Lula amanhã em Recife? ', 2.0], [402, '2022-10-10', 'LulaOficial bruno_marcello Acorda povao ', 1.0], [403, '2022-10-10', 'CentralEleicoes Vamo  ganha   lula  presidente..sigilo de 100anos vai  ser revelado...', 2.0], [404, '2022-10-10', 'Gavazziesther28 LulaOficial Essa sra do vídeo é essa aqui ', 1.0], [406, '2022-10-10', 'LULA ', 1.0], [407, '2022-10-10', 'LulaOficial marcelomadu ricardostuckert Tem gente apoiando Lula que já bateu tanto no velhinho que misericórdia. Mas o bom é que eles reconhecem o erro. É Lula eterno presidente da nação 13', 2.0], [408, '2022-10-10', 'RaquelAnd000 Lula já tinha 51% no primeiro turno, não era pra ter uns 55% agora com apoio de Ciro e Simone? ', 0.0], [409, '2022-10-10', 'JHFonseca ducavendish Essa é a questão, eles querem garantir pelo menos mais um votinhos pro lula', 2.0], [410, '2022-10-10', 'LulaOficial Mente que nem sente... ', 0.0], [411, '2022-10-10', 'LulaOficial ricardostuckert LulaPresidente13', 1.0], [412, '2022-10-10', 'LulaOficial Pela volta do horário de verão!!!', 2.0], [413, '2022-10-10', 'LulaOficial ricardostuckert Quem vai vencer esta eleição é o povo e as tias do zap.', 1.0], [414, '2022-10-10', 'lula conhecendo o ex da taylor swift ', 1.0], [416, '2022-10-10', 'denisansolin cholyfvck LulaOficial cada uma que a gente tem que ler kkkkkkkkkkkk', 1.0], [417, '2022-10-10', 'do lado da minha casa e é ÓBVIO que vou marcar presença. lula lá e eu também ', 2.0], [418, '2022-10-10', 'kimpaim Acabei de mudar 5 votos que iriam votar no bozo , e agora vão votar no lula', 2.0], [419, '2022-10-10', 'É difícil entender... O Lula fez muito mal pra esse país e nem sequer foi humilde pra pedir desculpas, falar que agora vai ser diferente! Muito pelo contrário, vejo um homem com sangue nos olhos, sede de vingança, frio e calculista! Deve ser síndrome de Estocolmo quem votar 13! ', 0.0], [420, '2022-10-10', 'LulaOficial Haddad_Fernando Ganhou por causa dos analfabetos ? Palavras de um ex presidiário candidato a presidência .. ', 0.0], [421, '2022-10-10', 't com um pé atrás nisso. e se for uma estratégia do lado de lá pro lula divulgar algo e no final ser falso? sei lá. traumatizado com isso ', 1.0], [422, '2022-10-10', 'LulaOficial ricardostuckert Boa noite lula', 2.0], [423, '2022-10-10', 'ptbrasil LulaOficial ', 1.0], [424, '2022-10-10', 'LulaOficial ricardostuckert Pouco inclusivo!', 0.0], [426, '2022-10-10', 'LulaOficial ', 1.0], [427, '2022-10-10', 'MauroDoroche Se vocês querem  ser roubados  votem no Lula quando você for assaltado  ou roubado por um bandido  faça o L ', 0.0], [428, '2022-10-10', 'LulaOficial Filhão você fala mais besteira que isso kkkkkk, mostra aí onde estão os ataques do presidente aos nordestinos ?', 1.0], [429, '2022-10-10', 'AnarcoFino Ouvi relado de uma fiel cujo pastor pregou na congregação que os eleitores declarados de Lula teriam de ser rebatizados. Isso, para um evangélico, é significado de pecado e desonra.', 0.0], [430, '2022-10-10', 'negrobelchior SueliCarneiro brdecarneeosso LulaOficial ptbrasil Inspirados estão, não? LulaOficial JanjaLula ptbrasil', 2.0], [431, '2022-10-10', 'LulaOficial Além de broxa é  mentiroso  ', 0.0], [432, '2022-10-10', 'rosele_costa A_Marques6 LulaOficial Verdade.', 2.0], [433, '2022-10-10', 'antwnelli Lula', 0.0], [435, '2022-10-10', 'Rconstantino CanalDoOtario LulaOficial REALMENTE KKKKKKKK ', 1.0], [436, '2022-10-10', 'LulaOficial giulia ricardostuckert Tinha q ser da esquerda caviar! ', 0.0], [437, '2022-10-10', 'CanalDoOtario LulaOficial Nome do canal cai bem!', 1.0], [438, '2022-10-10', 'LulaOficial giulia ricardostuckert Eu me emocionei....', 2.0], [440, '2022-10-10', 'desgracaa2 MUNDAOSPFC LulaOficial Citei o verdadeiro e único candidato presidiário desse país!', 0.0], [441, '2022-10-10', 'amanda23vi cryptoM1490 hermesoncassi LulaOficial giulia ricardostuckert essa galera se passa demais pra defender aquele tinhoso kkkkkk  tem que rir', 1.0], [442, '2022-10-10', 'a questão que muita gente do 45 nao entende é que mesmo que raquel não esteja declarando apoio a lula só por questões eleitorais ela ainda pode (e deve) ser criticada por isso ué. todo mundo tratando essa eleição presidencial como crítica e não podemos cobrar isso da candidata?', 1.0], [443, '2022-10-10', 'souguereira Governadores e senadores que apoiam o Lula saindo s ruas  cada um de nós desmentindo as Fake News  cada um de nós tentando convencer os que se abstiveram de votar a votarem 13 agora  convencer familiares e amigos a votar Lula  utilizar nossas redes sociais para Lula 13.', 2.0], [444, '2022-10-10', 'geraldoalckmin LulaOficial vote 13 ', 2.0], [445, '2022-10-10', '\"A ideia de que Lula representa uma ameaça  democracia não fica de pé um segundo.\" Frase cirúrgica de pedrodoria. Um dos melhores achados desse ano no YouTube foi o canalmeio. Queria trabalhar lá só pra ouvir as análises da galera em primeira mão ', 2.0], [446, '2022-10-10', 'RomeuZema Votei em vc mais de presidente vou de lula sinto mto', 2.0], [447, '2022-10-10', 'RZP2021 JoaoLoque Na época do Lula teve guerra também e teve a crise da H1N1.', 2.0], [448, '2022-10-10', 'LulaOficial Nossa! Muito poético!! Pena que o povo acordou', 0.0], [449, '2022-10-10', 'AnarcoFino LulaOficial ', 1.0], [450, '2022-10-10', 'LulaOficial ricardostuckert Não voto em LADRÃOOOOOOOO ', 0.0], [451, '2022-10-10', 'everton_JB22 Mariade36692398 LulaOficial ', 1.0], [452, '2022-10-10', 'LulaOficial ', 1.0], [453, '2022-10-10', 'RachelSherazade LULA É A ESPERANÇA DO BRASIL', 2.0], [454, '2022-10-10', 'LulaOficial marcelomadu ricardostuckert Aí sim!! Bora virar voto!', 2.0], [455, '2022-10-10', 'AlbertoMayol Jajajaja nooo si aquí llegó la felicidad wn...\"Boris lo va a cambiar todo\"...maduro también, los Hermanos Fernandez, y ahora van por el delincuente de LULA....\"Exigía debatir conmigo jajaja\"...  JMilei acá un zurdo  delirando tener una debate con VOS.', 1.0], [456, '2022-10-10', 'Lula defende ladrão de celular, sequestradores e a execução de bebês no ventre da mãe... só poderia receber apoio de satanistas mesmo.', 0.0], [457, '2022-10-10', 'Se o Lula ganhar dia 30 eu posto um nuds nessa porra kkkk', 2.0], [458, '2022-10-10', 'AdemisVitti capellari_gama ptbrasil Paraná pesquisa kkkkkkkkkkkkkkkkkkkk', 1.0], [463, '2022-10-10', 'INCRÍVEL A GLOBO SE CALOU,SE FOSSE ALGO SOBRE LULA ELA DARIA METADE  DO JONAL NACIONAL ', 1.0], [464, '2022-10-10', 'Sigo minha missão de coordenar a campanha do segundo turno de Lula e Haddad em Araraquara e microrregião. Não é tarefa fácil, mas temos um time organizado para operar muito até  vitória! ', 2.0], [465, '2022-10-10', 'JanjaLula Lula!! 13', 2.0], [466, '2022-10-10', 'Deivison29O iDateJily com quais fundamentos vc chama ele de comunista? sem contar que o lula foi a presidente que mais favoreceu bancos e instituições financeiras', 2.0], [467, '2022-10-10', 'Desisto da pack do Lula, vou colocar direto a de halloween msm', 1.0], [468, '2022-10-10', 'carmelonetobr Deus lhe ouça, mas a família de Ciro Gomes se rendeu a Lula e os Alencar nem querem ouvir falar deles mais.', 1.0], [469, '2022-10-10', 'akm1mm UOLNoticias LulaOficial uolconfere Vai lá reclamar com o satanista que apoia Lula kkkkk', 1.0], [471, '2022-10-10', 'Ticostacruz Deus me livre. Lula nunca mais', 0.0], [472, '2022-10-10', 'LulaOficial ', 1.0], [473, '2022-10-10', 'LulaOficial ricardostuckert Esse aí é aquele cantor do Joga Pedra na Geni?', 1.0], [474, '2022-10-10', 'rafinhabastos Negativo, só acessar o site do Lula que lá tem as propostas', 2.0], [475, '2022-10-10', 'Empresário, marido da prefeito de Porangatu ameaca fechar empresa se Lula vencer', 0.0], [476, '2022-10-10', 'kanonkuwabara FernandoHoliday qualquer coisa e menos danoso que lula, pois em 16 anos eles mataram infinitamente mais que 700 mil pessoas com o virus da corrupção', 0.0], [477, '2022-10-10', 'NadaseiSocrates JosimarDantas6 HS DO AGRO APOAR LULA. QUANTOS FASCISTA HÁ NO AGRO É POP?', 1.0], [478, '2022-10-10', 'A voz do Bonner treme quando fala que o Lula tá na frente das pesquisas ', 1.0], [479, '2022-10-10', 'Assim como Lula ser o único representante forte da esquerda, também ser um problema', 0.0], [480, '2022-10-10', 'igorcostaiec vanessnnavarro Na verdade até no pior crime pode ser perdoado se houver um arrependimento sincero.', 1.0], [483, '2022-10-10', 'MarcosD99299489 UOL Mas acertou bem próximo Lula, Tebet e Ciro.', 1.0], [484, '2022-10-10', 'doguido LulaOficial JanjaLula Sem contar que ele também é  ex presidiário.', 0.0], [485, '2022-10-10', 'LulaOficial Vamos recuperar colocando a quadrilha que vc montou no palácio do planalto  ?  Deus não vai deixar . PT nunca mais . Meu medo é que o criminoso sempre volta ao local do crime.', 0.0], [486, '2022-10-10', 'lula eleito', 2.0], [493, '2022-10-10', 'epictetuscat Alckmin 2026, Lula não sairia pra re-eleição mesmo num governo perfeito', 1.0], [496, '2022-10-10', 'o lula no final  muito fofo ', 2.0], [497, '2022-10-10', 'LulaOficial marcelomadu ricardostuckert Grande Marcelo de Madureira', 1.0], [498, '2022-10-10', 'Darlancarv2021 LucasDione12 LaiAlmeida9 MariaLuizaQuar3 RomeuZema MAs Errar pelas 3,me desculpe caro amigo,isso n ocorre,o que me parece até o presente momento é o senhor tentar justificar os roubos dele,sobre argumentos,infundados,e tenta o achar brechas em nossas leis,entendo seu posicionamento e o respeito,mas nessa questão o lula foi preso', 0.0], [499, '2022-10-10', 'the_buckminster rafaelarezender LulaOficial E o lula fez oq?', 0.0], [500, '2022-10-10', '13 personalidades importantes que  votarão em Lula:', 2.0], [514, '2022-10-10', 'LulaOficial ', 1.0], [515, '2022-10-10', 'LulaOficial Vai dar carne para povo com dinheiro que você roubou ?', 0.0], [516, '2022-10-10', 'francis18098422 bolso1turno22 simonetebetbr LulaOficial Fakenews', 0.0], [517, '2022-10-10', 'rafinhabastos Típico de lavajatista dizer que Lula não tem plano de governo.', 1.0]]\n"
          ]
        }
      ]
    },
    {
      "cell_type": "code",
      "source": [
        "tweets = [str(w[2]) for w in tweets_list]\n",
        "ratings = [int(w[3]) for w in tweets_list]\n",
        "data = [{ 'X': tweets, 'y': rating } for (tweets, rating) in zip(tweets, ratings)]"
      ],
      "metadata": {
        "id": "zyk3u0QFgKqT"
      },
      "execution_count": 11,
      "outputs": []
    },
    {
      "cell_type": "code",
      "source": [
        "print(data)"
      ],
      "metadata": {
        "colab": {
          "base_uri": "https://localhost:8080/"
        },
        "id": "afyUgEJ2jyxj",
        "outputId": "072b49d5-c4ee-40ed-cf1a-b4e8246f2ef9"
      },
      "execution_count": 12,
      "outputs": [
        {
          "output_type": "stream",
          "name": "stdout",
          "text": [
            "[{'X': 'HelioTelho Você sabe que nao é \"exigir\" que a turma do mercado pejorativamente chamado de farialimer quer. Eles estão tentando entender qual será a postura do Lula na economia, que pela indicação do ministro saberíamos. Alckmin / Meireles ou Boulos / Mantega? Tudo indica que será o segundo', 'y': 1}, {'X': 'LulaOficial ', 'y': 1}, {'X': 'simonetebetbr Marca o teu amigo LulaOficial  aí dona Step, ou só não pode bater em mulher em casa mesmo?', 'y': 0}, {'X': 'UOLNoticias Claudia_Sarti13 Claro q n pois se lula é adversário de satanaro  como é q iria fazer parte da seita comandada por ele   fiii do cão é ali kkkk', 'y': 0}, {'X': 'gremistaleosilv LulaOficial ', 'y': 0}, {'X': 'giulia LulaOficial PauloMarinhoRio JanjaLula ', 'y': 1}, {'X': 'lula tá com a msm pontuação que o vasco digai', 'y': 1}, {'X': 'AndradeRNegro2 Queria mais detalhe do sudeste... em que regiao Lula subiu e por que?', 'y': 1}, {'X': 'Saiu a programação do congresso brasileiro de saúde coletiva e POXA, EU AMO DEMAIS  Espero que o Lula ganhe, senão seremos censurados, afinal, esse desgoverno já provou por AB que odeia Saúde Pública.', 'y': 2}, {'X': 'LulaOficial Ladrão cachaceiro', 'y': 0}, {'X': 'Fundamental o alerta da senadora KatiaAbreu . O melhor para o agro agora é LulaOficial! ', 'y': 2}, {'X': 'LulaOficial Acuse do que vc faz.... Quem deixou milionários os filhos? Vc crápula.', 'y': 0}, {'X': 'Nilsonhandebol VOTO LULA 13', 'y': 2}, {'X': 'Qual Simone está valendo, a que luta contra ou a que apoia aquele LulaOficial que durante a campanha eleitoral estimulou a violência contra as mulheres?', 'y': 0}, {'X': 'xaviercdi1 LulaOficial 51 imóveis em dinheiro vivo só pra familicia ', 'y': 2}, {'X': 'LulaOficial Conversa fiada ! ', 'y': 0}, {'X': 'Lula simplesmente o nosso NORVANA unindo todas as tribos ', 'y': 2}, {'X': 'LulaOficial ricardostuckert O Nordeste deveria ser a região mais rica do país pois é governada a anos pelo PT. ', 'y': 0}, {'X': 'LulaOficial Deixa de mentira LADRÃO ', 'y': 0}, {'X': 'LulaOficial ', 'y': 1}, {'X': 'bchartsnet POVO BRASILEIRO VAMOS DERROTAR ESSE COMUNISTA DO LULA...', 'y': 0}, {'X': '_Janoninho Estou com Lula.', 'y': 2}, {'X': 'Jaja o lula consegue a família da giulia pra frente ampla ', 'y': 2}, {'X': 'LulaOficial ', 'y': 1}, {'X': 'marcosportela OGloboPolitica Lula ladrão nunca mais. ', 'y': 0}, {'X': 'RomeuZema O povo de Minas não é gado. Por isso vai votar em Lula Presidente!', 'y': 2}, {'X': 'CANAL_do_ALONSO BlogdoNoblat StopCorrupcao Mas o falso Juíz Sérgio Moro que condenou Lula sem provas apoia o governo mais corrupto da república além de ajudar a colocar o Brasil nessa lama na qual está.', 'y': 2}, {'X': 'felipeneto porq no governo lula que a educação era boa né?', 'y': 0}, {'X': 'LulaOficial Você é um piadista!!! ', 'y': 0}, {'X': 'vnssalin EITAAAA LULA ETERNO... TU CONSEGUIU  ', 'y': 2}, {'X': 'deregomesrio eurenesilva vozdacomunidade faferjoficial Gabrielpsg19 inst_marielle Rafalbergaria suuusouzas LulaOficial JanjaLula marcelledecothe Vai ser massa, meu povo. Sacode essa galera.', 'y': 2}, {'X': 'andregordon73 Pois é! Tem razão.', 'y': 1}, {'X': 'LulaOficial Só mentira ', 'y': 0}, {'X': 'ericayhwh Isso e pq c não leu a bíblia. Toda vez que fala do diabo eu lembro do lula.', 'y': 0}, {'X': 'FigueiraAlvaro 55 a 45 Lula lá  IPEC ', 'y': 2}, {'X': 'tabataamaralsp LulaOficial Ambev te patrocina por meio do Lemann', 'y': 0}, {'X': 'O Lula merece todo amor e carinho  ', 'y': 2}, {'X': 'AndreMarinho Lula? É isso mesmo? Seu pai vai apoiar o Lula. 1,2,3  cada um responde pelo seu cpf', 'y': 0}, {'X': 'ygabi_oli Valerlevar iasmynereis acidezcapital samiabomfim O rumo do nosso país com lula na presidência vai ser o msm da Argentina, governos da esquerda seguem uma mesma linha ideológica, é isso podemos continuar avançando economicamente ou retroagir. ', 'y': 0}, {'X': 'BotVaniaSavio MarcioRomanha LulaOficial Boa noite querida Vania  LulaPresidente13 ', 'y': 2}, {'X': 'LulaOficial O mundo mudou! E a China não cresce mais 2 dígitos', 'y': 0}, {'X': 'LulaOficial Ah se lascar cabra safado', 'y': 0}, {'X': 'LulaOficial É isso aí meu Presidente !', 'y': 2}, {'X': 'Não me falem que investir em educação é gasto. Educação é investimento LulaOficial é isso ', 'y': 2}, {'X': 'Mãe: \"não fala isso dele Karen\"', 'y': 1}, {'X': 'LulaOficial Você bebeu?', 'y': 0}, {'X': 'na aula: o que o vermelho significa pra você?', 'y': 1}, {'X': 'ThiagoSussekind Uma pergunta, o Lula já reprendeu o Ortega?', 'y': 0}, {'X': 'Quem vivenciou a época do casseta e planeta sabe que isso aqui seria praticamente impossível de acontecer... ', 'y': 1}, {'X': 'emicida Sai dae maloqueiro... não faz nada e critica sem nem saber de que se trata ... Sangue-suga .... nunca trampou de verdade e defende o Lula-ladrão e fica nesse papinho..', 'y': 0}, {'X': 'LulaOficial Sabe oq e uma falta de responsabilidade? Um ex-presidiario corrupto, ladrão safado se candidatar a presidente de um país mesmo depois de ter deixado milhares de pessoas na fome e no desemprego seu hipócrita me responda oq vc fez pelo nordeste', 'y': 0}, {'X': 'Lula ', 'y': 1}, {'X': 'GugaNoblat Uaaiiiiiiii', 'y': 1}, {'X': 'minha tia é o dia todo brigando com o povo no WhatsApp defendendo lula pqp', 'y': 0}, {'X': 'rafinhabastos Se o lula tivesse na presidência nessa pandemia o Brasil já tinha virado uma Venezuela', 'y': 0}, {'X': 'SergioMoro19RJ MOVIMENTOVERDA2 SF_Moro Gosto e confio no SF_Moro ', 'y': 0}, {'X': 'panga2021 Os de Lula acreditam que ele é franciscano.', 'y': 0}, {'X': 'xxtcook sstein1974 aguedescartoon RodrigoMaia Eu não sei prever futuro, mas algo me diz que o Lula não vai derrubar o orçamento secreto, até porque ele vai precisar de governabilodade, neste sentido e necessário comprar o Centrão!', 'y': 2}, {'X': 'E o LulaOficial só subindo,  e o Bolsanaro caindo.  isso é muito bom... E estou feliz, o povão também.', 'y': 2}, {'X': 'foragenocita Se Lula engana, pq o Bozo não poderia? Kkkkkkk', 'y': 0}, {'X': 'LulaOficial bruno_marcello Quando seu filho estiver roubando os pertences de casa, pra sustentar o vício da droga, liberada pelo PT, faz o L.', 'y': 0}, {'X': 'O servidor público não é o problema!', 'y': 2}, {'X': 'zanittei Lula?', 'y': 1}, {'X': 'ELE ESTÃO DIZENDO QUE LULA CRIOU O MAIS MEDICOS O SAMU VAMOS MOSTRAR DE FATO O QUE FOI CRIADO, PARA PARAR O DISPAROS EM MASSAS SÓ MOSTRANDO A VERDADE PARA O POVO ', 'y': 1}, {'X': 'LulaOficial ricardostuckert ', 'y': 1}, {'X': 'Não existe comparação entre Bolsocaro e Lula. LULA NOSSO PRESIDENTE!!! O RESTO E  O RESTO!!!! ', 'y': 2}, {'X': 'rafinhabastos Aí vc tá de brincadeira, Lula melhor presidente da história da democracia.', 'y': 2}, {'X': 'LulaOficial Nem euuuu ', 'y': 0}, {'X': 'LulaOficial O que tem naquela garrafinha sua ? Já temos as reais imagens , não divaga molusco , melhor soltar a garrafa !!!', 'y': 0}, {'X': 'LulaOficial Em época de campanha promete mundos e fundos né Molusco Labioso? Só besta acredita nessa rua Lábia safado. Na rua época de Presidente dava 80 de esmola para o povo necessitado e roubava o resto.', 'y': 0}, {'X': 'Mudaram as estações, nada mudou ', 'y': 1}, {'X': 'LulaOficial ', 'y': 1}, {'X': 'LulaOficial ricardostuckert Você já mostrou seu plano de governo?', 'y': 0}, {'X': 'Rafayse LulaOficial ', 'y': 0}, {'X': 'LulaOficial Principalmente se for para falar mal do Brasil, aumentar números de criança de rua. Lula traidor da pátria, uma pessoa horrível.  Descondenado , ficha suja, não deveria concorrer a nada.  Canalha.', 'y': 0}, {'X': 'LulaOficial Eu vou embora se vc ganhar kkkkk só que não', 'y': 1}, {'X': 'Yan_sin32571 arte_brian numa live tavam atacando ele pq ele tinha dito q votou no lula, ai ele foi meio q falar sobre e ele lembrou do tio q morreu fe covid ai comecou a chorar, basicamente foi isso', 'y': 1}, {'X': 'be_soares LulaOficial giulia ricardostuckert eu amo essa expressão', 'y': 2}, {'X': 'Recadinho da grande Fernanda Montenegro. É LulaOficial presidente! lula presidentelula lula13 ', 'y': 2}, {'X': 'r43688383 LulaOficial giulia ricardostuckert O amor vai vencer sim. Precisamos de mais amor e paz!', 'y': 2}, {'X': 'J_LIVRES LulaOficial ricardostuckert 200mil ', 'y': 2}, {'X': 'srhvictor LulaOficial gleisi joaoazevedolins ParahybaThreads Pense num mago pa no uc', 'y': 1}, {'X': 'LulaOficial ', 'y': 1}, {'X': 'LulaOficial O discurso é bonito, o problema é que as imagens mostram o contrário.', 'y': 0}, {'X': 'maluoriginal grosso é meu pau... ele é honesto e nao gosta de mimimi', 'y': 0}, {'X': 'claudiaragao62 YatoSempai3 OGloboPolitica Estratégia do demonio lula corrupto ladrão de acusar os outros do q ele é: nervoso raivoso! Como é q alguém temente a Deus apoia quem valoriza assassinatos de bebês no ventre da mãe? Vade retro!', 'y': 0}, {'X': 'centralmalugall Lula', 'y': 0}, {'X': 'BagnoDanilo LULA', 'y': 0}, {'X': 'GabiAlv79222138 JaneNog07 FlaTweeta FLina53804079 andrevaladao Veja q Lula, PT e outros partidos sempre respeitaram todas as religiões. O PT foi o q trouxe meios de proteger a sua religião até por leis. Todos merecem isso. O Estado precisa ser laico, pra tds possam ter liberdade. Países q colocam um Deus acima do Estado, sempre persegue ', 'y': 2}, {'X': 'Dracoola79 EleccionesDatos Esta encuesta es de the Economist, de apoco se va achicando la diferencia y puede que se revierta tras los dichos de lula contra el gob electo de minas gerais', 'y': 1}, {'X': 'FlaviaRoDias Salaminucci Estamos caminhando para ditadura fora bozo volta logo Lula', 'y': 2}, {'X': 'LulaOficial Lá na Alemanha e na França tem pobre? Lulinha não gosta de gente pobre ', 'y': 0}, {'X': '22', 'y': 0}, {'X': 'andrevaladao Pastor mais uma vez vou esclarecer, não se trata de caráter quando Lula foi preso no Dops, por incitar Greves por melhores condições de trabalho, greve é uma arma de defesa do trabalhador contra o \" patrão \" e como a CF de 67 proibia greves, lula foi um lutador encarou a Ditadura', 'y': 2}, {'X': 'giulia LulaOficial PauloMarinhoRio JanjaLula Eu t que é só lágrimas de alegria e emoção. ', 'y': 2}, {'X': 'EU TAMBEM QUANDO PEQUENA VIVIA CANTANDO LULA LÁ KKKKKKKKKKKKK minha mãe falava que quando ele aparecia na tv eu falava \"OLHA MAMÃE É O LULALA\" ', 'y': 2}, {'X': 'luccasfdl n acho q vá, só tem as mesmas ideias, lula é socialdemocrata, n comunista', 'y': 2}, {'X': 'geraldoalckmin LulaOficial Se juntou a quadrilha.', 'y': 0}, {'X': 'Será que dá pra confiar no 55 x 45 pro Lula ? Tenho  minhas dúvidas.', 'y': 2}, {'X': 'LulaOficial Mente que nem sente.', 'y': 0}, {'X': 'BlogdoNoblat Tem vídeo? Não é por nada não, mas já vi tanta imagem editada de eventos com Lula que não acredito mais em fotos. Quero vídeos com tomadas áreas. É fácil fazer com drone. Consegue uma p gente?', 'y': 1}, {'X': 'WagnerWilliam12 LulaOficial marcelomadu ricardostuckert Sabe ao menos explicar como a Rouanet funciona??', 'y': 2}, {'X': 'O  CRIME ORGANIZADO ESTA AO LADO DO LULA E TOTALMENTE CONTRA NÓS E ISSO E MAIS UM MOTIVO DE REFLEXÃO PQ ? PQ O CRE ORGANIZADO É  FECHADO COM A ESQUERDA SERÁ  QUE E POR DIÁLOGOS CABULOSOS FICA A PERGUNTA', 'y': 0}, {'X': 'Bernardofroesg Lula lixo asqueroso  ladrao seu lugar e na prisão', 'y': 0}, {'X': 'DudaSalabert LulaOficial ', 'y': 1}, {'X': 'afrocrente Pra mim a Marília quer ganhar somente se escorando no Lula. Não tem nada além  disso na campanha dela. Enquanto a outra tenta se desvencilhar dos dois candidatos  presidência e focar em PE. Eu achei melhor. Bolsonarista que vota em Raquel é só por aversão a Marília-Lula.', 'y': 2}, {'X': 'Dá para contabilizar a quantidade de anos de atraso? ', 'y': 1}, {'X': 'Nem o ex humorista de direita aguenta a extrema direita. Vem que o Lula te aceita. ', 'y': 2}, {'X': 'LulaOficial marcelomadu ricardostuckert ', 'y': 1}, {'X': 'tem que mandar tomar no cu esses babaca que fica em post falando ainnn entao me fala 2 propostas do lula pra esse governo e fala 2 coisas que ele fez no passado irmao, quem tem filho barbado é gato, o tempo que tu perdeu escrevendo essa merda tu usa no google e lê', 'y': 2}, {'X': 'sim eu sou seletiva só beijo quem vai votar no lula', 'y': 2}, {'X': 'Grrr eu quero abraçar o lula tbm  ', 'y': 2}, {'X': 'SigaGazetaBR Mas o Prefeito apoiou o Omar Aziz que é Lula.', 'y': 1}, {'X': 'LulaOficial bruno_marcello ', 'y': 1}, {'X': 'V13lula LulaOficial ptbrasil A extrema direita convive bem com a corrupção, isso é fato.', 'y': 2}, {'X': 'mvcostaBR andrevaladao Kkkkkk olha a diferença ...o lula e ladrão ...fato !!! ', 'y': 0}, {'X': 'LulaOficial Fico sem churrasco , mas não fico sem lutar contra isso. ', 'y': 1}, {'X': 'SrJusticaa lorrangms ptbrasil petrogustavo FranciaMarquezM LulaOficial Pela democracia KKKKKKKKKK é muito ret4rd4d0 mano KKKK', 'y': 1}, {'X': 'As mesmas pessoas que iam orar com o presidente Lula na época de seu mandato são as que agora disseminam de forma desonesta que ele vai fechar as igrejas... O voto do dia 30 deve ser confiado a quem está disposto a fazer políticas públicas para todos, para quem crê e quem não crê ', 'y': 2}, {'X': 'LulaOficial Você está um boneco de feira descontrolado Lula.Redatores que postam tolices em seu nome são desinformados.No contexto mundial o Brasil está voandoeconomia em alta e o auxílio Brasil paga 4 X mais,para mais famílias,que sua bolsa miséria.Que puxem os cordéis mais suavemente!', 'y': 0}, {'X': 'LulaOficial giulia ricardostuckert ', 'y': 1}, {'X': 'paes_as É um argumento vazio, já que foi preso injustamente. (O Lula)', 'y': 2}, {'X': 'simonetebetbr O Lula vai bater na senhora \"dentro de casa ou em outro lugar\"?', 'y': 0}, {'X': 'Lula 51% , ele já ganhou gente... só não vê quem não quer rsrs', 'y': 2}, {'X': 'LulaOficial ricardostuckert Quem conversa com bandido igual vc é o a polícia', 'y': 0}, {'X': 'UOLNoticias E as mesma que lula ia ganhar no primeiro turno??? Vão se fder kkkk', 'y': 0}, {'X': 'mvcxmvc LulaOficial Ninguém aguenta mais Bozonaro!!', 'y': 2}, {'X': 'Agendão do Time de Lula desta terça-feira em Natal ', 'y': 2}, {'X': 'LulaOficial Sei qual é sua causa!!! ', 'y': 0}, {'X': 'Araorogerio1212 plengruber gutembergcpv Vvia14370438 77_frota O que o Lula roubou?', 'y': 2}, {'X': 'updatecharts pedindo caridade, lula?', 'y': 0}, {'X': 'LulaOficial giulia ricardostuckert Que orgulho do meu presidente ', 'y': 2}, {'X': 'LulaOficial ', 'y': 0}, {'X': 'Lula ', 'y': 0}, {'X': 'LulaOficial ', 'y': 0}, {'X': 'LulaOficial ', 'y': 0}, {'X': 'eduardohanzo_ lula', 'y': 0}, {'X': 'LulaOficial Ex presidiário é mais recente!', 'y': 2}, {'X': 'tammagoti Parece q o Marcelo Madureira era minion de subir no trio elétrico de verde e amarelo, mas hj fez o L abraçado com o Lula, daí lembrei q o 04 é brigado com a madrasta e já soltou q namoraria petista ( ele falou isso há mto tempo ), vai q se rebela, o  Luly vira todos', 'y': 2}, {'X': '... infelizmente não aconteceu, mas que esteve perto de ter sido realizado. O trabalho da militncia da esquerda é mostrar sempre os benefícios que os dois mandatos do ex-presidente Lula trouxeram ao país como a saída do mapa da fome e o fato de ter se tornado...', 'y': 2}, {'X': 'Lula em Maceió e eu provavelmente não irei. Que tristeza', 'y': 2}, {'X': 'CanalDoOtario Piero_Garcia LulaOficial Nunca foi provado nada , agora o seu candidado foi condenado em 3 estncias e comprou os ministros do STF .', 'y': 0}, {'X': 'carmelonetobr Olha eu ali ouvindo as babaquices...vou votar no Lula', 'y': 2}, {'X': 'realpfigueiredo Observa essa doença do analfabetismo esquerdista.', 'y': 0}, {'X': 'hpassosneto É SÓ VER O LULAFLIX QUE ESTÁ TUDO LÁ O QUE O LULA FEZ', 'y': 2}, {'X': 'É aquele lance o do VIRA VOTO, VIRA LULA!!!', 'y': 2}, {'X': 'FilipeCatto LulaOficial Vamooo ', 'y': 2}, {'X': 'lucas_iludido littleitamar Janones suceder Lula? Tá doida mona? Vc não deve conhecer o histórico do Janones. Ele é literalmente oportunista. Surfa na onda do momento e é do centrão', 'y': 1}, {'X': 'Basta Lula ganhar a eleição que estes bostas golpistas nunca mais falam em aumentar o número de ministros do STF.', 'y': 2}, {'X': 'LulaOficial ricardostuckert ', 'y': 0}, {'X': 'LulaOficial Ladrao do caralho !  Como está vivo ainda ? Matam essa raça ruim aí', 'y': 0}, {'X': 'sendmeriver wemersonTWIT b_ishigami Isso é verdade. Só q STF não inocentou o Lula. Mudou a vara penal para julgar. Provas são as mesma. Não foi só o Moro q o condenou. O STJ e o TRF condenaram também. 6 bilhões foram devolvidos aos cofres públicos. Vc acha q caiu do céu? Foram desviados!', 'y': 0}, {'X': 'Simplismente amo você atriz q faz a propaganda do lula ', 'y': 2}, {'X': 'joventino_maria lemos_arao rafaelfsant 2022Enquetes Lula é o limao. Eu odeio limao', 'y': 1}, {'X': 'LulaOficial giulia ricardostuckert Caralho, cadê tu AndreMarinho ? Kkkkkkkkkkkkkkkkk. Vai lá discutir com o nikolas_dm agora! Hauahuahauahahauhahauau', 'y': 1}, {'X': 'Minibio: cidadão do mundo, embaixador da rua e canhoto de ideias. Eleitor de LulaOficial, torcedor do sportrecife e fã da NacaoZumbi. Joga bola, faz gols e não dança. É sentimental demais e tem uma quedinha pelo ibismania. Livro favorito: As Veias Abertas da América Latina.', 'y': 2}, {'X': 'Vc e Lula tudo farinha do msm saco um ladrão presidiário outro invasor de propriedade.. ', 'y': 0}, {'X': 'Você não tem amigos Lula. Você tem cúmplices. ', 'y': 0}, {'X': 'Quase pego ranço da Arianna quando ela disse que não não gostava de Lula. Mas lembrei que era o bicho', 'y': 2}, {'X': 'LulaOficial Pacto de Princiton,  verifiquem o que foi e quem estava!', 'y': 0}, {'X': 'Tava assistindo o episódio de Rolling kitchen Brasil com Byanca, Esse Menino. E toda vez que o PauloVieiraReal perguntava se alguém gostava de Lula dava pra sentir do sofá a indireta.', 'y': 0}, {'X': '_Carneirojorge marciatiburi Gozado, o Lula é chamado de ladrão e ninguém nunca apresentou provas', 'y': 2}, {'X': 'luvsthoma lula fã de ordem paranormal canon ', 'y': 0}, {'X': 'LulaOficial Vamos la eh democracia ....nao eh socialisno sul americano de ladroes', 'y': 0}, {'X': 'LulaOficial ricardostuckert Grande monte de estrumes', 'y': 0}, {'X': 'LulaOficial Recuperar aquilo que o governo do PT fez ?  conversa fiada, voce mesmo embola na suas próprias palavras. Ex-presidiário', 'y': 0}, {'X': 'A base de apoio de Lula está muito forte.', 'y': 2}, {'X': 'De o lula botasse um projeto de lei pra ninguém trabalhar sábado eu votava dnv', 'y': 2}, {'X': 'ZildaZildaab simonetebetbr DISCORDO, mas ficar a campanha toda falando que o PT é corrupto e depois dar apoio ao Lula NÃO É INTELIGENTE E NEM RESPONSÁVEL.', 'y': 0}, {'X': 'LulaOficial Não, contigo no Governo, esse país vai se transformar em uma nova Venezuela. Não minta. Socialismo não leva ao crescimento.', 'y': 0}, {'X': '\" Investir em Educação não é gasto é Investimento\"                         LulaOficialLula é um Estadista e governa para todos         LulaPresidente13  ', 'y': 2}, {'X': 'SuyaneOliveir72 geraldoalckmin LulaOficial Única saída para democracia ou da democracia? Quem apoia os ditadores mundo afora?', 'y': 0}, {'X': 'roxmo LULA É A ESPERANÇA DO BRASIL', 'y': 2}, {'X': 'salimmattarbr Esse é o primo do que roubou a poupança dos brasileiros? Vou votar no Lula novamente 13', 'y': 2}, {'X': 'E ai LulaOficial  tu n é o Cristão ?? pq tu n vai também ? é dia 12, fica avisado ', 'y': 0}, {'X': 'DePassarelli abnelalecrim Por isso que a esquerda não fala tanto no nome lula', 'y': 0}, {'X': 'LulaOficial Melhor falar as coisas da mentir e roubar', 'y': 0}, {'X': 'jose_simao Eleitores do LulaOficial ', 'y': 1}, {'X': 'Darthopressor MaxF633 jn__marcos CorrupcaoMemes falando agora da ideologia', 'y': 1}, {'X': 'Zema rebate Lula no Twitter: \"Povo mineiro já está vacinado do PT\"', 'y': 0}, {'X': 'josuerocksccp boliviazica Tem maluco que defende lula, não duvido de mais nada', 'y': 0}, {'X': 'garota_direita o_antagonista LulaOficial RomeuZema Pois é. O tom desse capone é o tom do mafioso top! Teve os tapinhas na cara do carrasco mais temido do STF, depois de 1 outro juizinho subalterno na hierarquia da ORCRIM. Então não venham dar de  isentos passadores de pano pra cima da gente não!', 'y': 2}, {'X': 'BeatrizMaia26 ArthurLira_ Esse é igual ao bruxonaro só faz ameaças, meu voto é LULA PRESIDENTE no dia 30 de Outubro 13 e já seguindo vc daqui de Paranatinga MT. Vamos DAR  resposta na urna esse ano LULA PRESIDENTE.', 'y': 2}, {'X': 'LulaOficial Pq vc quebrou o país né jumento', 'y': 0}, {'X': 'nacienmantillao BumperCrop1 En eso no se diferencia con Lula. Brasil es socio de Rusia. ', 'y': 1}, {'X': 'Senadora Kátia Abreu agora é Lula ', 'y': 2}, {'X': 'BOLETIM SINDICAL - O Mensageiro (10 de outubro de 2022)', 'y': 1}, {'X': 'O lula passa muito a sensação de dissimulado', 'y': 0}, {'X': 'LulaOficial bruno_marcello Ladrão !!!!', 'y': 0}, {'X': 'lula pula igual pipoca nesses trios de campanha dele kkkk', 'y': 1}, {'X': 'O Ipec continua mentindo', 'y': 0}, {'X': 'antropozinhenby Aí pq lula não ganhou no 1o turno', 'y': 0}, {'X': 'Pesquisa IPEC', 'y': 1}, {'X': 'LulaOficial Você é uma pessoa Alimária, Abentesma, Biltre, Sevandija, Estultilóquio. Poderia citar mais. Fica para a próxima!', 'y': 0}, {'X': 'LulaOficial ', 'y': 1}, {'X': 'LulaOficial ricardostuckert Al nine, vai votar em quem ? ', 'y': 1}, {'X': 'esquerdonomista AlfredoMenezes6 LulaOficial Falou o cara que chupa as bolas do Átila tamarindo', 'y': 0}, {'X': 'LulaOficial marcelomadu ricardostuckert Pqp, finalmente o Casseta e Planeta estão em sintonia... kkkkkkk Bem vindo ao campo democrático marcelomadu .', 'y': 0}, {'X': 'esquadraobiflay MAteus27h g1 Chaves aquele que o Lula apoia?', 'y': 0}, {'X': 'DboraGrace ariel_passarela MAGAFRV IAPolls2022 Lula é comunista, a favor da censura na imprensa, aborto na saúde pública, liberação das drogas. Enganou os Brasileiros enviando o dinheiro dos nossos impostos para investimentos em países comunistas. ', 'y': 0}, {'X': 'saritacoelho Lula já disse que os supremos são acovardados .', 'y': 1}, {'X': 'kkmorangoo Se não tentaram assassinar esse escroto ambulante em todas as merdas que ele fez durante presidente, eu vou ficar PUTA se tentarem com o Lula', 'y': 2}, {'X': 'LulaOficial japa0800 entra no lulaverso', 'y': 1}, {'X': 'geraldoalckmin LulaOficial BaixadorDeVldeo', 'y': 1}, {'X': 'LulaOficial Esse aqui também apoia ele ó  ', 'y': 1}, {'X': 'geraldoalckmin LulaOficial ', 'y': 1}, {'X': 'MariliaArraes Força , querida , é Lula 13, é Marília 77.', 'y': 2}, {'X': 'A diferença de nível do dia do LulaOficial e do atual presidente do BR é um abismo. Lula muito  frente falando da importncia da Educação para este país. Lula2022', 'y': 2}, {'X': 'LulaOficial Fake news quem dissemina, é vc e toda essa corja suja, e o ignorante acredita nas mentiras desse partido das trevas... Já começou a ditadura? Pq estão perseguindo os influenciadores de Direita??', 'y': 0}, {'X': 'rafalougon juliaduailibi CentralEleicoes Na verdade quem trouxe esses escandalos para o conhecimento do público foi o MP e a PF. O Jornalismo apenas repercutiu. ', 'y': 1}, {'X': 'Rconstantino LulaOficial Tem memória seletiva esse ex-presidiário ladrão', 'y': 0}, {'X': 'HellenMayara5 ZeRicardoAM LulaOficial Isso devido a hemoglobina!', 'y': 1}, {'X': 'GayerGus Empresarios com Lula é uma piada mesmo não sabem nem mentir.', 'y': 0}, {'X': 'se o Lula ganhar q q vai mudar meu shape? ', 'y': 1}, {'X': 'CamiloSantanaCE LulaOficial Esqueceu do fique em casa dissimulado? Lamentável um senador eleito mentir tanto assim', 'y': 0}, {'X': 'Eu tenho alegria e orgulho de dizer que voto em LulaOficial ', 'y': 2}, {'X': 'marciopaivaon veluc111 BRASIL URGENTE, LULA PRESIDENTE!!!!!', 'y': 2}, {'X': 'O ex-presidiário Lula teve 80,59% dos votos válidos em presídios!', 'y': 0}, {'X': 'militantcansado Eu acho que se o Lula tomasse um cafezinho com o Jair, até ele mudava o voto.', 'y': 2}, {'X': 'O Brasil vai eleger Lula no próximo dia 30. Vamos extirpar a institucionalização do racismo, homofobia, misoginia e xenofobia. ', 'y': 2}, {'X': 'FernandaTakai celiaxakriaba ColetivoAlvora1 LulaOficial ronaldofraga AndreJanonesAdv MacaeEvaristo Patrus_Ananias ', 'y': 1}, {'X': 'LulaOficial Por que tantos brasileiros vão estudar em universidades públicas e gratuitas na Argentina?  Este ano são 12.000 e isso acelerou a partir de 2018.', 'y': 2}, {'X': 'LulaOficial Na sua vez era só você é os companheiros né. Acorda', 'y': 0}, {'X': 'gremistaleosilv LulaOficial 13', 'y': 2}, {'X': 'geraldoalckmin LulaOficial Lutam tanto diversidade mas não tem um negro nas fotos do primeiro escalão. Estranho não?', 'y': 0}, {'X': 'LulaOficial ', 'y': 0}, {'X': 'LulaOficial Não roubar já ajuda bastante ', 'y': 0}, {'X': 'thaigo_cassiano gopal633as taoquei1 Lula 13 chora menos! Kkk', 'y': 0}, {'X': 'luizefar EstherThedoro A diferença do Lula para o verme aumentou.', 'y': 2}, {'X': 'LulaOficial Mentira!!! Tava vazio pra burro! Aqui em minas ninguém quer PT mais não.', 'y': 0}, {'X': 'GugaNoblat Pensei que o Lula tinha ganho no primeiro turno... kkkkkk ', 'y': 0}, {'X': 'eh luiz inacio lula da silva  n esta facil', 'y': 0}, {'X': 'LulaOficial Sério q seu plano de governo se baseia num personagem de novela????', 'y': 0}, {'X': 'Quem aí vai assistir o DebateNaBand hoje?', 'y': 1}, {'X': 'LulaOficial giulia ricardostuckert Olha quem veio ao Brasil visitar e dar apoiar ao Lula Chupem que a cana é doce', 'y': 0}, {'X': 'CristianocjsB Para você ver o nível dos eleitores de Lula.', 'y': 0}, {'X': 'viniragusa anticoletivista LulaOficial Claro, o mundo de olho na Amaznia, com certeza vão querer o Lula kkkkk', 'y': 2}, {'X': 'Agora o Lula chega a 60% dos votos ', 'y': 2}, {'X': 'UOLEsporte LULA É A ESPERANÇA DO BRASIL', 'y': 2}, {'X': 'uczai Como se Lula nunca fez outra coisa que não fosse desvio de verbas?', 'y': 0}, {'X': 'RPhupa ootimistajornal Nojento é ver gente em 22 caindo no mesmo terrorismo eleitoral de décadas kkkk o petê sempre a única alternativa p derrotar um graaande mal. Se Lula ganhar, é pq o brasileiro merece mesmo.', 'y': 0}, {'X': 'LulaOficial Estava lá, concordo absolutamente com o que diz, um clima, uma onda, uma esperança de que vamos ganhar. Inclusive vi alguns lá que nunca imaginei estarem do nosso lado, foi um belo sinal, força, fé, foco e rumo a vitória, baixar a atenção de maneira alguma, lula lá, contem comigo', 'y': 2}, {'X': 'eu acho que o lula vai vir pra minha cidade', 'y': 2}, {'X': 'A campanha mais eficiente para o Lula agora é o voto nulo', 'y': 1}, {'X': 'Eu quero o vídeo do Lula falando que investir em educação não é desperdício agora!!', 'y': 2}, {'X': 'mds, copa ja eh mês que vem e eu ainda nem comprei a camisa do brasil.... vou esperar lula ser eleito a p voltar a usar a amarelinha com a forabozo nela ', 'y': 2}, {'X': 'LulaOficial Não vem que não tem safado, mentiroso', 'y': 0}, {'X': 'Sentinels TenZOfficial lula?', 'y': 0}, {'X': 'LulaOficial marcelomadu ricardostuckert ', 'y': 0}, {'X': 'A senadora KatiaAbreu reafirma voto em Lula e faz um alerta aos produtores brasileiros sobre as recentes decisões da comunidade europeia. Lá na outra rede.', 'y': 2}, {'X': 'Juro que eu queria saber a fonte da paz de espírito de quem tá nesse caos e tá assim \"nem lula nem bosta\" e com a autoestima elevada de \"ser iluminado\"', 'y': 2}, {'X': 'LulaOficial 13', 'y': 2}, {'X': 'oha_naiii andreacitynova LulaOficial Vc só conhece gente lesada', 'y': 0}, {'X': 'brealt safbf Deborabaldin gabriolaz Obrigada pelo apoio, Breno! Muita gente na internet não tá organizada, essas questões tem que estar na agenda do dia dos nossos partidos! Vamos que vamos, lula lá e Haddad aqui', 'y': 2}, {'X': 'LulaOficial E você só pensa em regular os meios de comunicações pra ninguém poder falar dos seus roubos junto dos seus filhos. O sujo falando do mal lavado.', 'y': 0}, {'X': 'SenadorRogerio LulaOficial E o Kiko? Esse vagabundo só bebe e fala merda', 'y': 0}, {'X': 'LulaOficial anacontivieira giulia ricardostuckert Que lindo... lindo... lindo.... LulaNoSegundoTurno  LulaDay', 'y': 2}, {'X': 'Lula se esquiva na indicação de possíveis nomes para ministérios ', 'y': 0}, {'X': 'LulaOficial ricardostuckert ', 'y': 1}, {'X': 'LulaOficial giulia ricardostuckert ', 'y': 1}, {'X': 'Mattheusb_c LulaOficial Se ele prometeu Água e não cumpriu imagina Picanha com Cerveja kkkkkkkkkkkkk', 'y': 0}, {'X': 'LulaOficial ricardostuckert ', 'y': 1}, {'X': '_Janoninho Eeeee Lula 55% dos votos válidos.13', 'y': 2}, {'X': 'LulaOficial Bah então as diretas foram fraquinhas hein.... Molusco mentiroso, ladrão.', 'y': 0}, {'X': 'Cl_rhay SIM KKKKKKKKKK ele agradecendo pelos votos e que ganhou aqui sendo que o nordeste todo foi lula ', 'y': 2}, {'X': 'Na IPEC de hoje, LulaOficial tem 51% e o inominável, 42%. Já nos votos válidos, ficamos com 55% contra 45%. Bora trabalhar! Falta pouco pra acabar o pesadelo, o Brasil vai ser feliz de novo. ', 'y': 2}, {'X': 'Lula - enquanto oferecia 80 reais no bolsa família- oferecia o Bolsa Petrobras para o Marcelo Odebrecht no valor de bilhões de Reais. ', 'y': 0}, {'X': 'passei mal na uesc hj e to me sentindo mal agr em casa dnv ', 'y': 1}, {'X': 'Agora votos válidos no Ipec', 'y': 1}, {'X': 'Caloteiros de olho na Entrada do Ladrão! Não vão precisar pagar mais o Estádio e voltarão a ganhar vários títulos como ganhavam na época do Lula! ', 'y': 0}, {'X': 'LulaOficial marcelomadu ricardostuckert Esse otário aprendeu?', 'y': 1}, {'X': 'LulaOficial Lula....sera que tem presidência de cela?como tinha de sala... tenta...lá no presídio ,tá ganho...', 'y': 0}, {'X': 'Eleições2022: TSE nega pedido do PT para retirar do ar canal que associa Lula ao PCC ', 'y': 0}, {'X': 'joaobettega_ Lula é pior', 'y': 0}, {'X': 'HoracioBridon LulaOficial Kkkkkkkkkkkkkkkkkkkk Kkkkkkkkkkkkkkkkkkkk Kkkkkkkkkkkkkkkkkkkk Kkkkkkkkkkkkkkkkkkkk Kkkkkkkkkkkkkkkkkkkk ', 'y': 1}, {'X': 'LulaOficial ricardostuckert ', 'y': 1}, {'X': 'a veia tava falando mal do lula do meu lado e DESMAIOU NO MEU COLO se isso não é sinal eu não sei oq é', 'y': 1}, {'X': 'esse tanto de aliança que o lula tá fazendo, ainda que sejam necessárias pra acabar com esse pesadelo, podem ser bem perigosas sim kkkk to um pouco com medo, não vou negar', 'y': 0}, {'X': 'FernandaTakai celiaxakriaba ColetivoAlvora1 LulaOficial ronaldofraga AndreJanonesAdv MacaeEvaristo Patrus_Ananias vai da esse  seu   ku secu  bem  longe  daqui', 'y': 0}, {'X': 'Enquanto tiverem antas e jumentos que são adestrados pelo chefe da maior quadrilha do Brasil Lula ladrão dificilmente esse país vai deslanchar meu amigo. ', 'y': 0}, {'X': 'gleisi LulaOficial Tonta!', 'y': 0}, {'X': 'DeputadoFederal LulaOficial FAKE NEWS', 'y': 0}, {'X': 'giulia estou muitíssimo feliz com a declaração do voto em lula vou poder parar de ouvir suas músicas no modo privado', 'y': 2}, {'X': 'LulaOficial marcelomadu ricardostuckert 51?', 'y': 1}, {'X': 'brasil247 O Lula é ladrão e não tem vergonha', 'y': 0}, {'X': 'geraldoalckmin LulaOficial Seu malandrinho, quer q o lula ganhe pra derrubar ele e vc governar né kkkkkk malandrinho você em Alckmin', 'y': 2}, {'X': 'RafaelFontana O Lula já tentou recolher as armas dos cidadãos e o plebiscito de 2005 nunca foi honrado pelos defensores da democracia, diga-se de passagem.', 'y': 0}, {'X': 'LulaOficial O q é stalinismo mesmo? ', 'y': 0}, {'X': 'Mary00338232 marcosdoval Exatamente! Nessa época o Lula era Lulinha paz e amor! Rsrsrs!', 'y': 2}, {'X': 'Lula_avalos ', 'y': 1}, {'X': 'requiaooficial Vc tá tomando a mesma água que o lula toma  500k ? ', 'y': 1}, {'X': 'luizfn87 13 LULA', 'y': 1}, {'X': 'LulaOficial Sítio só pra você, Triplex só pra você. 10 anos metalúrgico você nunca me enganou.', 'y': 0}, {'X': 'LulaOficial giulia ricardostuckert Coitado do cara, mais um enganado', 'y': 0}, {'X': 'gremistaleosilv LulaOficial 13', 'y': 1}, {'X': 'vamos fingir que eu não estou chorando por causa de um edit do Lula e da Janja ao som de Still my girl ', 'y': 2}, {'X': 'Eleições2022: TSE nega pedido do PT para retirar do ar canal que associa Lula ao PCC ', 'y': 0}, {'X': 'Não é \"erro\", é crime. E ainda fazendo campanha pro Jair. Queria ver o que a direção faria se fosse uma professora se manifestando pró Lula. ', 'y': 0}, {'X': 'IzabelMirandad3 Vamos focar no nosso objetivo de tentar conquistar votos para o Lula. Quanto as provocações, o melhor é ignorar, não leva a lugar nenhum ficar entrando em discussões.', 'y': 2}, {'X': 'syulrudy maysaalvesbr LULA LULA LULA LILA ', 'y': 2}, {'X': 'LulaOficial Sr. Lula, descondenado, as obras do PAC pararam por causa da corrupção no seu próprio governo. Vc parece que tem amnésia. Caiu na cela e bateu a cabeça?', 'y': 0}, {'X': 'Das duas uma: quem vota no Loola tem disfunção cognitiva ou mau-caratismo  mesmo. Lula teve 80% dos votos dos presos brasileiros  ', 'y': 0}, {'X': 'UOL Lula sempre na frente kkkkkk', 'y': 2}, {'X': 'LulaOficial marcelomadu ricardostuckert Esfreguei os olhos aqui para ver se não era uma miragem.', 'y': 1}, {'X': 'JornalOGlobo Gente isso foi armação daquele pinguço do Lula! Chega até ser engraçado o nível baixo que o PT consegue chegar pra tentar manipular a população. Kkkk', 'y': 0}, {'X': 'LulaOficial ricardostuckert ', 'y': 1}, {'X': 'delucca Tem algum aglomerado que mostra as pessoas que trocaram de lado a favor do Lula?', 'y': 2}, {'X': 'LulaOficial ricardostuckert ', 'y': 1}, {'X': 'Rconstantino CanalDoOtario LulaOficial hauahajhajajajauai', 'y': 1}, {'X': 'Olha que lindo o lula discutindo educação!!!', 'y': 2}, {'X': 'e só não tenho foto com lula pequena pq quando ele estava na base minha mãe não pode ir pra ficar comigo e tirarmos a foto ', 'y': 2}, {'X': 'LulaOficial  ', 'y': 1}, {'X': 'gremistaleosilv LulaOficial 13', 'y': 1}, {'X': 'gleisi LulaOficial Vocês PTistas não perdem essa mania de demonizar e atacar adversários, vocês não aceitam opniões divergentes. Vocês são arrogantes e intolerantes. Chame-os do que você é, acuso-os do que você faz !!!', 'y': 0}, {'X': 'A minha mãe sai me mandando TUDO que ela vê nos portais do bozo que ela segue, ela nem confere se é verdade ou não, ofendeu o Lula aí ela vai e me manda kkkkkkkkkkkkk', 'y': 0}, {'X': 'LulaOficial giulia ricardostuckert Que vergonha pra família marinho ', 'y': 1}, {'X': 'claudiofgh LulaOficial noseconexoes GringaBrazilien Chutando...claro...eu acho que tão medindo.', 'y': 1}, {'X': 'alessinhe AdemisVitti ptbrasil Eleitores de lula ladrão, Haddad , pt  todos juntos!!! ', 'y': 0}, {'X': 'LeilaGermano LulaOficial marcelomadu ricardostuckert Frente ampla tá bem ampla', 'y': 2}, {'X': 'LulaOficial giulia ricardostuckert Meu presidente', 'y': 2}, {'X': 'BTrigoly Frente bem ampla, muito ampla haha fez até o L com Lula', 'y': 2}, {'X': 'randolfeap Oxi algo de errado não está certo em, segundo esse tal de Ipec o Lula ladrão já foi eleito!!', 'y': 0}, {'X': 'LulaOficial ricardostuckert ', 'y': 1}, {'X': 'O mais próximo que Lula e Taylor Swift já estiveram.', 'y': 1}, {'X': 'Quem vai pra caminhada de Lula amanhã em Recife? ', 'y': 2}, {'X': 'LulaOficial bruno_marcello Acorda povao ', 'y': 1}, {'X': 'CentralEleicoes Vamo  ganha   lula  presidente..sigilo de 100anos vai  ser revelado...', 'y': 2}, {'X': 'Gavazziesther28 LulaOficial Essa sra do vídeo é essa aqui ', 'y': 1}, {'X': 'LULA ', 'y': 1}, {'X': 'LulaOficial marcelomadu ricardostuckert Tem gente apoiando Lula que já bateu tanto no velhinho que misericórdia. Mas o bom é que eles reconhecem o erro. É Lula eterno presidente da nação 13', 'y': 2}, {'X': 'RaquelAnd000 Lula já tinha 51% no primeiro turno, não era pra ter uns 55% agora com apoio de Ciro e Simone? ', 'y': 0}, {'X': 'JHFonseca ducavendish Essa é a questão, eles querem garantir pelo menos mais um votinhos pro lula', 'y': 2}, {'X': 'LulaOficial Mente que nem sente... ', 'y': 0}, {'X': 'LulaOficial ricardostuckert LulaPresidente13', 'y': 1}, {'X': 'LulaOficial Pela volta do horário de verão!!!', 'y': 2}, {'X': 'LulaOficial ricardostuckert Quem vai vencer esta eleição é o povo e as tias do zap.', 'y': 1}, {'X': 'lula conhecendo o ex da taylor swift ', 'y': 1}, {'X': 'denisansolin cholyfvck LulaOficial cada uma que a gente tem que ler kkkkkkkkkkkk', 'y': 1}, {'X': 'do lado da minha casa e é ÓBVIO que vou marcar presença. lula lá e eu também ', 'y': 2}, {'X': 'kimpaim Acabei de mudar 5 votos que iriam votar no bozo , e agora vão votar no lula', 'y': 2}, {'X': 'É difícil entender... O Lula fez muito mal pra esse país e nem sequer foi humilde pra pedir desculpas, falar que agora vai ser diferente! Muito pelo contrário, vejo um homem com sangue nos olhos, sede de vingança, frio e calculista! Deve ser síndrome de Estocolmo quem votar 13! ', 'y': 0}, {'X': 'LulaOficial Haddad_Fernando Ganhou por causa dos analfabetos ? Palavras de um ex presidiário candidato a presidência .. ', 'y': 0}, {'X': 't com um pé atrás nisso. e se for uma estratégia do lado de lá pro lula divulgar algo e no final ser falso? sei lá. traumatizado com isso ', 'y': 1}, {'X': 'LulaOficial ricardostuckert Boa noite lula', 'y': 2}, {'X': 'ptbrasil LulaOficial ', 'y': 1}, {'X': 'LulaOficial ricardostuckert Pouco inclusivo!', 'y': 0}, {'X': 'LulaOficial ', 'y': 1}, {'X': 'MauroDoroche Se vocês querem  ser roubados  votem no Lula quando você for assaltado  ou roubado por um bandido  faça o L ', 'y': 0}, {'X': 'LulaOficial Filhão você fala mais besteira que isso kkkkkk, mostra aí onde estão os ataques do presidente aos nordestinos ?', 'y': 1}, {'X': 'AnarcoFino Ouvi relado de uma fiel cujo pastor pregou na congregação que os eleitores declarados de Lula teriam de ser rebatizados. Isso, para um evangélico, é significado de pecado e desonra.', 'y': 0}, {'X': 'negrobelchior SueliCarneiro brdecarneeosso LulaOficial ptbrasil Inspirados estão, não? LulaOficial JanjaLula ptbrasil', 'y': 2}, {'X': 'LulaOficial Além de broxa é  mentiroso  ', 'y': 0}, {'X': 'rosele_costa A_Marques6 LulaOficial Verdade.', 'y': 2}, {'X': 'antwnelli Lula', 'y': 0}, {'X': 'Rconstantino CanalDoOtario LulaOficial REALMENTE KKKKKKKK ', 'y': 1}, {'X': 'LulaOficial giulia ricardostuckert Tinha q ser da esquerda caviar! ', 'y': 0}, {'X': 'CanalDoOtario LulaOficial Nome do canal cai bem!', 'y': 1}, {'X': 'LulaOficial giulia ricardostuckert Eu me emocionei....', 'y': 2}, {'X': 'desgracaa2 MUNDAOSPFC LulaOficial Citei o verdadeiro e único candidato presidiário desse país!', 'y': 0}, {'X': 'amanda23vi cryptoM1490 hermesoncassi LulaOficial giulia ricardostuckert essa galera se passa demais pra defender aquele tinhoso kkkkkk  tem que rir', 'y': 1}, {'X': 'a questão que muita gente do 45 nao entende é que mesmo que raquel não esteja declarando apoio a lula só por questões eleitorais ela ainda pode (e deve) ser criticada por isso ué. todo mundo tratando essa eleição presidencial como crítica e não podemos cobrar isso da candidata?', 'y': 1}, {'X': 'souguereira Governadores e senadores que apoiam o Lula saindo s ruas  cada um de nós desmentindo as Fake News  cada um de nós tentando convencer os que se abstiveram de votar a votarem 13 agora  convencer familiares e amigos a votar Lula  utilizar nossas redes sociais para Lula 13.', 'y': 2}, {'X': 'geraldoalckmin LulaOficial vote 13 ', 'y': 2}, {'X': '\"A ideia de que Lula representa uma ameaça  democracia não fica de pé um segundo.\" Frase cirúrgica de pedrodoria. Um dos melhores achados desse ano no YouTube foi o canalmeio. Queria trabalhar lá só pra ouvir as análises da galera em primeira mão ', 'y': 2}, {'X': 'RomeuZema Votei em vc mais de presidente vou de lula sinto mto', 'y': 2}, {'X': 'RZP2021 JoaoLoque Na época do Lula teve guerra também e teve a crise da H1N1.', 'y': 2}, {'X': 'LulaOficial Nossa! Muito poético!! Pena que o povo acordou', 'y': 0}, {'X': 'AnarcoFino LulaOficial ', 'y': 1}, {'X': 'LulaOficial ricardostuckert Não voto em LADRÃOOOOOOOO ', 'y': 0}, {'X': 'everton_JB22 Mariade36692398 LulaOficial ', 'y': 1}, {'X': 'LulaOficial ', 'y': 1}, {'X': 'RachelSherazade LULA É A ESPERANÇA DO BRASIL', 'y': 2}, {'X': 'LulaOficial marcelomadu ricardostuckert Aí sim!! Bora virar voto!', 'y': 2}, {'X': 'AlbertoMayol Jajajaja nooo si aquí llegó la felicidad wn...\"Boris lo va a cambiar todo\"...maduro también, los Hermanos Fernandez, y ahora van por el delincuente de LULA....\"Exigía debatir conmigo jajaja\"...  JMilei acá un zurdo  delirando tener una debate con VOS.', 'y': 1}, {'X': 'Lula defende ladrão de celular, sequestradores e a execução de bebês no ventre da mãe... só poderia receber apoio de satanistas mesmo.', 'y': 0}, {'X': 'Se o Lula ganhar dia 30 eu posto um nuds nessa porra kkkk', 'y': 2}, {'X': 'AdemisVitti capellari_gama ptbrasil Paraná pesquisa kkkkkkkkkkkkkkkkkkkk', 'y': 1}, {'X': 'INCRÍVEL A GLOBO SE CALOU,SE FOSSE ALGO SOBRE LULA ELA DARIA METADE  DO JONAL NACIONAL ', 'y': 1}, {'X': 'Sigo minha missão de coordenar a campanha do segundo turno de Lula e Haddad em Araraquara e microrregião. Não é tarefa fácil, mas temos um time organizado para operar muito até  vitória! ', 'y': 2}, {'X': 'JanjaLula Lula!! 13', 'y': 2}, {'X': 'Deivison29O iDateJily com quais fundamentos vc chama ele de comunista? sem contar que o lula foi a presidente que mais favoreceu bancos e instituições financeiras', 'y': 2}, {'X': 'Desisto da pack do Lula, vou colocar direto a de halloween msm', 'y': 1}, {'X': 'carmelonetobr Deus lhe ouça, mas a família de Ciro Gomes se rendeu a Lula e os Alencar nem querem ouvir falar deles mais.', 'y': 1}, {'X': 'akm1mm UOLNoticias LulaOficial uolconfere Vai lá reclamar com o satanista que apoia Lula kkkkk', 'y': 1}, {'X': 'Ticostacruz Deus me livre. Lula nunca mais', 'y': 0}, {'X': 'LulaOficial ', 'y': 1}, {'X': 'LulaOficial ricardostuckert Esse aí é aquele cantor do Joga Pedra na Geni?', 'y': 1}, {'X': 'rafinhabastos Negativo, só acessar o site do Lula que lá tem as propostas', 'y': 2}, {'X': 'Empresário, marido da prefeito de Porangatu ameaca fechar empresa se Lula vencer', 'y': 0}, {'X': 'kanonkuwabara FernandoHoliday qualquer coisa e menos danoso que lula, pois em 16 anos eles mataram infinitamente mais que 700 mil pessoas com o virus da corrupção', 'y': 0}, {'X': 'NadaseiSocrates JosimarDantas6 HS DO AGRO APOAR LULA. QUANTOS FASCISTA HÁ NO AGRO É POP?', 'y': 1}, {'X': 'A voz do Bonner treme quando fala que o Lula tá na frente das pesquisas ', 'y': 1}, {'X': 'Assim como Lula ser o único representante forte da esquerda, também ser um problema', 'y': 0}, {'X': 'igorcostaiec vanessnnavarro Na verdade até no pior crime pode ser perdoado se houver um arrependimento sincero.', 'y': 1}, {'X': 'MarcosD99299489 UOL Mas acertou bem próximo Lula, Tebet e Ciro.', 'y': 1}, {'X': 'doguido LulaOficial JanjaLula Sem contar que ele também é  ex presidiário.', 'y': 0}, {'X': 'LulaOficial Vamos recuperar colocando a quadrilha que vc montou no palácio do planalto  ?  Deus não vai deixar . PT nunca mais . Meu medo é que o criminoso sempre volta ao local do crime.', 'y': 0}, {'X': 'lula eleito', 'y': 2}, {'X': 'epictetuscat Alckmin 2026, Lula não sairia pra re-eleição mesmo num governo perfeito', 'y': 1}, {'X': 'o lula no final  muito fofo ', 'y': 2}, {'X': 'LulaOficial marcelomadu ricardostuckert Grande Marcelo de Madureira', 'y': 1}, {'X': 'Darlancarv2021 LucasDione12 LaiAlmeida9 MariaLuizaQuar3 RomeuZema MAs Errar pelas 3,me desculpe caro amigo,isso n ocorre,o que me parece até o presente momento é o senhor tentar justificar os roubos dele,sobre argumentos,infundados,e tenta o achar brechas em nossas leis,entendo seu posicionamento e o respeito,mas nessa questão o lula foi preso', 'y': 0}, {'X': 'the_buckminster rafaelarezender LulaOficial E o lula fez oq?', 'y': 0}, {'X': '13 personalidades importantes que  votarão em Lula:', 'y': 2}, {'X': 'LulaOficial ', 'y': 1}, {'X': 'LulaOficial Vai dar carne para povo com dinheiro que você roubou ?', 'y': 0}, {'X': 'francis18098422 bolso1turno22 simonetebetbr LulaOficial Fakenews', 'y': 0}, {'X': 'rafinhabastos Típico de lavajatista dizer que Lula não tem plano de governo.', 'y': 1}]\n"
          ]
        }
      ]
    },
    {
      "cell_type": "code",
      "source": [
        "print(type(data))\n",
        "print(data)"
      ],
      "metadata": {
        "colab": {
          "base_uri": "https://localhost:8080/"
        },
        "id": "hlZcWH4JGhM6",
        "outputId": "87f7e128-5cf6-4484-ead1-1871c6ab622b"
      },
      "execution_count": 13,
      "outputs": [
        {
          "output_type": "stream",
          "name": "stdout",
          "text": [
            "<class 'list'>\n",
            "[{'X': 'HelioTelho Você sabe que nao é \"exigir\" que a turma do mercado pejorativamente chamado de farialimer quer. Eles estão tentando entender qual será a postura do Lula na economia, que pela indicação do ministro saberíamos. Alckmin / Meireles ou Boulos / Mantega? Tudo indica que será o segundo', 'y': 1}, {'X': 'LulaOficial ', 'y': 1}, {'X': 'simonetebetbr Marca o teu amigo LulaOficial  aí dona Step, ou só não pode bater em mulher em casa mesmo?', 'y': 0}, {'X': 'UOLNoticias Claudia_Sarti13 Claro q n pois se lula é adversário de satanaro  como é q iria fazer parte da seita comandada por ele   fiii do cão é ali kkkk', 'y': 0}, {'X': 'gremistaleosilv LulaOficial ', 'y': 0}, {'X': 'giulia LulaOficial PauloMarinhoRio JanjaLula ', 'y': 1}, {'X': 'lula tá com a msm pontuação que o vasco digai', 'y': 1}, {'X': 'AndradeRNegro2 Queria mais detalhe do sudeste... em que regiao Lula subiu e por que?', 'y': 1}, {'X': 'Saiu a programação do congresso brasileiro de saúde coletiva e POXA, EU AMO DEMAIS  Espero que o Lula ganhe, senão seremos censurados, afinal, esse desgoverno já provou por AB que odeia Saúde Pública.', 'y': 2}, {'X': 'LulaOficial Ladrão cachaceiro', 'y': 0}, {'X': 'Fundamental o alerta da senadora KatiaAbreu . O melhor para o agro agora é LulaOficial! ', 'y': 2}, {'X': 'LulaOficial Acuse do que vc faz.... Quem deixou milionários os filhos? Vc crápula.', 'y': 0}, {'X': 'Nilsonhandebol VOTO LULA 13', 'y': 2}, {'X': 'Qual Simone está valendo, a que luta contra ou a que apoia aquele LulaOficial que durante a campanha eleitoral estimulou a violência contra as mulheres?', 'y': 0}, {'X': 'xaviercdi1 LulaOficial 51 imóveis em dinheiro vivo só pra familicia ', 'y': 2}, {'X': 'LulaOficial Conversa fiada ! ', 'y': 0}, {'X': 'Lula simplesmente o nosso NORVANA unindo todas as tribos ', 'y': 2}, {'X': 'LulaOficial ricardostuckert O Nordeste deveria ser a região mais rica do país pois é governada a anos pelo PT. ', 'y': 0}, {'X': 'LulaOficial Deixa de mentira LADRÃO ', 'y': 0}, {'X': 'LulaOficial ', 'y': 1}, {'X': 'bchartsnet POVO BRASILEIRO VAMOS DERROTAR ESSE COMUNISTA DO LULA...', 'y': 0}, {'X': '_Janoninho Estou com Lula.', 'y': 2}, {'X': 'Jaja o lula consegue a família da giulia pra frente ampla ', 'y': 2}, {'X': 'LulaOficial ', 'y': 1}, {'X': 'marcosportela OGloboPolitica Lula ladrão nunca mais. ', 'y': 0}, {'X': 'RomeuZema O povo de Minas não é gado. Por isso vai votar em Lula Presidente!', 'y': 2}, {'X': 'CANAL_do_ALONSO BlogdoNoblat StopCorrupcao Mas o falso Juíz Sérgio Moro que condenou Lula sem provas apoia o governo mais corrupto da república além de ajudar a colocar o Brasil nessa lama na qual está.', 'y': 2}, {'X': 'felipeneto porq no governo lula que a educação era boa né?', 'y': 0}, {'X': 'LulaOficial Você é um piadista!!! ', 'y': 0}, {'X': 'vnssalin EITAAAA LULA ETERNO... TU CONSEGUIU  ', 'y': 2}, {'X': 'deregomesrio eurenesilva vozdacomunidade faferjoficial Gabrielpsg19 inst_marielle Rafalbergaria suuusouzas LulaOficial JanjaLula marcelledecothe Vai ser massa, meu povo. Sacode essa galera.', 'y': 2}, {'X': 'andregordon73 Pois é! Tem razão.', 'y': 1}, {'X': 'LulaOficial Só mentira ', 'y': 0}, {'X': 'ericayhwh Isso e pq c não leu a bíblia. Toda vez que fala do diabo eu lembro do lula.', 'y': 0}, {'X': 'FigueiraAlvaro 55 a 45 Lula lá  IPEC ', 'y': 2}, {'X': 'tabataamaralsp LulaOficial Ambev te patrocina por meio do Lemann', 'y': 0}, {'X': 'O Lula merece todo amor e carinho  ', 'y': 2}, {'X': 'AndreMarinho Lula? É isso mesmo? Seu pai vai apoiar o Lula. 1,2,3  cada um responde pelo seu cpf', 'y': 0}, {'X': 'ygabi_oli Valerlevar iasmynereis acidezcapital samiabomfim O rumo do nosso país com lula na presidência vai ser o msm da Argentina, governos da esquerda seguem uma mesma linha ideológica, é isso podemos continuar avançando economicamente ou retroagir. ', 'y': 0}, {'X': 'BotVaniaSavio MarcioRomanha LulaOficial Boa noite querida Vania  LulaPresidente13 ', 'y': 2}, {'X': 'LulaOficial O mundo mudou! E a China não cresce mais 2 dígitos', 'y': 0}, {'X': 'LulaOficial Ah se lascar cabra safado', 'y': 0}, {'X': 'LulaOficial É isso aí meu Presidente !', 'y': 2}, {'X': 'Não me falem que investir em educação é gasto. Educação é investimento LulaOficial é isso ', 'y': 2}, {'X': 'Mãe: \"não fala isso dele Karen\"', 'y': 1}, {'X': 'LulaOficial Você bebeu?', 'y': 0}, {'X': 'na aula: o que o vermelho significa pra você?', 'y': 1}, {'X': 'ThiagoSussekind Uma pergunta, o Lula já reprendeu o Ortega?', 'y': 0}, {'X': 'Quem vivenciou a época do casseta e planeta sabe que isso aqui seria praticamente impossível de acontecer... ', 'y': 1}, {'X': 'emicida Sai dae maloqueiro... não faz nada e critica sem nem saber de que se trata ... Sangue-suga .... nunca trampou de verdade e defende o Lula-ladrão e fica nesse papinho..', 'y': 0}, {'X': 'LulaOficial Sabe oq e uma falta de responsabilidade? Um ex-presidiario corrupto, ladrão safado se candidatar a presidente de um país mesmo depois de ter deixado milhares de pessoas na fome e no desemprego seu hipócrita me responda oq vc fez pelo nordeste', 'y': 0}, {'X': 'Lula ', 'y': 1}, {'X': 'GugaNoblat Uaaiiiiiiii', 'y': 1}, {'X': 'minha tia é o dia todo brigando com o povo no WhatsApp defendendo lula pqp', 'y': 0}, {'X': 'rafinhabastos Se o lula tivesse na presidência nessa pandemia o Brasil já tinha virado uma Venezuela', 'y': 0}, {'X': 'SergioMoro19RJ MOVIMENTOVERDA2 SF_Moro Gosto e confio no SF_Moro ', 'y': 0}, {'X': 'panga2021 Os de Lula acreditam que ele é franciscano.', 'y': 0}, {'X': 'xxtcook sstein1974 aguedescartoon RodrigoMaia Eu não sei prever futuro, mas algo me diz que o Lula não vai derrubar o orçamento secreto, até porque ele vai precisar de governabilodade, neste sentido e necessário comprar o Centrão!', 'y': 2}, {'X': 'E o LulaOficial só subindo,  e o Bolsanaro caindo.  isso é muito bom... E estou feliz, o povão também.', 'y': 2}, {'X': 'foragenocita Se Lula engana, pq o Bozo não poderia? Kkkkkkk', 'y': 0}, {'X': 'LulaOficial bruno_marcello Quando seu filho estiver roubando os pertences de casa, pra sustentar o vício da droga, liberada pelo PT, faz o L.', 'y': 0}, {'X': 'O servidor público não é o problema!', 'y': 2}, {'X': 'zanittei Lula?', 'y': 1}, {'X': 'ELE ESTÃO DIZENDO QUE LULA CRIOU O MAIS MEDICOS O SAMU VAMOS MOSTRAR DE FATO O QUE FOI CRIADO, PARA PARAR O DISPAROS EM MASSAS SÓ MOSTRANDO A VERDADE PARA O POVO ', 'y': 1}, {'X': 'LulaOficial ricardostuckert ', 'y': 1}, {'X': 'Não existe comparação entre Bolsocaro e Lula. LULA NOSSO PRESIDENTE!!! O RESTO E  O RESTO!!!! ', 'y': 2}, {'X': 'rafinhabastos Aí vc tá de brincadeira, Lula melhor presidente da história da democracia.', 'y': 2}, {'X': 'LulaOficial Nem euuuu ', 'y': 0}, {'X': 'LulaOficial O que tem naquela garrafinha sua ? Já temos as reais imagens , não divaga molusco , melhor soltar a garrafa !!!', 'y': 0}, {'X': 'LulaOficial Em época de campanha promete mundos e fundos né Molusco Labioso? Só besta acredita nessa rua Lábia safado. Na rua época de Presidente dava 80 de esmola para o povo necessitado e roubava o resto.', 'y': 0}, {'X': 'Mudaram as estações, nada mudou ', 'y': 1}, {'X': 'LulaOficial ', 'y': 1}, {'X': 'LulaOficial ricardostuckert Você já mostrou seu plano de governo?', 'y': 0}, {'X': 'Rafayse LulaOficial ', 'y': 0}, {'X': 'LulaOficial Principalmente se for para falar mal do Brasil, aumentar números de criança de rua. Lula traidor da pátria, uma pessoa horrível.  Descondenado , ficha suja, não deveria concorrer a nada.  Canalha.', 'y': 0}, {'X': 'LulaOficial Eu vou embora se vc ganhar kkkkk só que não', 'y': 1}, {'X': 'Yan_sin32571 arte_brian numa live tavam atacando ele pq ele tinha dito q votou no lula, ai ele foi meio q falar sobre e ele lembrou do tio q morreu fe covid ai comecou a chorar, basicamente foi isso', 'y': 1}, {'X': 'be_soares LulaOficial giulia ricardostuckert eu amo essa expressão', 'y': 2}, {'X': 'Recadinho da grande Fernanda Montenegro. É LulaOficial presidente! lula presidentelula lula13 ', 'y': 2}, {'X': 'r43688383 LulaOficial giulia ricardostuckert O amor vai vencer sim. Precisamos de mais amor e paz!', 'y': 2}, {'X': 'J_LIVRES LulaOficial ricardostuckert 200mil ', 'y': 2}, {'X': 'srhvictor LulaOficial gleisi joaoazevedolins ParahybaThreads Pense num mago pa no uc', 'y': 1}, {'X': 'LulaOficial ', 'y': 1}, {'X': 'LulaOficial O discurso é bonito, o problema é que as imagens mostram o contrário.', 'y': 0}, {'X': 'maluoriginal grosso é meu pau... ele é honesto e nao gosta de mimimi', 'y': 0}, {'X': 'claudiaragao62 YatoSempai3 OGloboPolitica Estratégia do demonio lula corrupto ladrão de acusar os outros do q ele é: nervoso raivoso! Como é q alguém temente a Deus apoia quem valoriza assassinatos de bebês no ventre da mãe? Vade retro!', 'y': 0}, {'X': 'centralmalugall Lula', 'y': 0}, {'X': 'BagnoDanilo LULA', 'y': 0}, {'X': 'GabiAlv79222138 JaneNog07 FlaTweeta FLina53804079 andrevaladao Veja q Lula, PT e outros partidos sempre respeitaram todas as religiões. O PT foi o q trouxe meios de proteger a sua religião até por leis. Todos merecem isso. O Estado precisa ser laico, pra tds possam ter liberdade. Países q colocam um Deus acima do Estado, sempre persegue ', 'y': 2}, {'X': 'Dracoola79 EleccionesDatos Esta encuesta es de the Economist, de apoco se va achicando la diferencia y puede que se revierta tras los dichos de lula contra el gob electo de minas gerais', 'y': 1}, {'X': 'FlaviaRoDias Salaminucci Estamos caminhando para ditadura fora bozo volta logo Lula', 'y': 2}, {'X': 'LulaOficial Lá na Alemanha e na França tem pobre? Lulinha não gosta de gente pobre ', 'y': 0}, {'X': '22', 'y': 0}, {'X': 'andrevaladao Pastor mais uma vez vou esclarecer, não se trata de caráter quando Lula foi preso no Dops, por incitar Greves por melhores condições de trabalho, greve é uma arma de defesa do trabalhador contra o \" patrão \" e como a CF de 67 proibia greves, lula foi um lutador encarou a Ditadura', 'y': 2}, {'X': 'giulia LulaOficial PauloMarinhoRio JanjaLula Eu t que é só lágrimas de alegria e emoção. ', 'y': 2}, {'X': 'EU TAMBEM QUANDO PEQUENA VIVIA CANTANDO LULA LÁ KKKKKKKKKKKKK minha mãe falava que quando ele aparecia na tv eu falava \"OLHA MAMÃE É O LULALA\" ', 'y': 2}, {'X': 'luccasfdl n acho q vá, só tem as mesmas ideias, lula é socialdemocrata, n comunista', 'y': 2}, {'X': 'geraldoalckmin LulaOficial Se juntou a quadrilha.', 'y': 0}, {'X': 'Será que dá pra confiar no 55 x 45 pro Lula ? Tenho  minhas dúvidas.', 'y': 2}, {'X': 'LulaOficial Mente que nem sente.', 'y': 0}, {'X': 'BlogdoNoblat Tem vídeo? Não é por nada não, mas já vi tanta imagem editada de eventos com Lula que não acredito mais em fotos. Quero vídeos com tomadas áreas. É fácil fazer com drone. Consegue uma p gente?', 'y': 1}, {'X': 'WagnerWilliam12 LulaOficial marcelomadu ricardostuckert Sabe ao menos explicar como a Rouanet funciona??', 'y': 2}, {'X': 'O  CRIME ORGANIZADO ESTA AO LADO DO LULA E TOTALMENTE CONTRA NÓS E ISSO E MAIS UM MOTIVO DE REFLEXÃO PQ ? PQ O CRE ORGANIZADO É  FECHADO COM A ESQUERDA SERÁ  QUE E POR DIÁLOGOS CABULOSOS FICA A PERGUNTA', 'y': 0}, {'X': 'Bernardofroesg Lula lixo asqueroso  ladrao seu lugar e na prisão', 'y': 0}, {'X': 'DudaSalabert LulaOficial ', 'y': 1}, {'X': 'afrocrente Pra mim a Marília quer ganhar somente se escorando no Lula. Não tem nada além  disso na campanha dela. Enquanto a outra tenta se desvencilhar dos dois candidatos  presidência e focar em PE. Eu achei melhor. Bolsonarista que vota em Raquel é só por aversão a Marília-Lula.', 'y': 2}, {'X': 'Dá para contabilizar a quantidade de anos de atraso? ', 'y': 1}, {'X': 'Nem o ex humorista de direita aguenta a extrema direita. Vem que o Lula te aceita. ', 'y': 2}, {'X': 'LulaOficial marcelomadu ricardostuckert ', 'y': 1}, {'X': 'tem que mandar tomar no cu esses babaca que fica em post falando ainnn entao me fala 2 propostas do lula pra esse governo e fala 2 coisas que ele fez no passado irmao, quem tem filho barbado é gato, o tempo que tu perdeu escrevendo essa merda tu usa no google e lê', 'y': 2}, {'X': 'sim eu sou seletiva só beijo quem vai votar no lula', 'y': 2}, {'X': 'Grrr eu quero abraçar o lula tbm  ', 'y': 2}, {'X': 'SigaGazetaBR Mas o Prefeito apoiou o Omar Aziz que é Lula.', 'y': 1}, {'X': 'LulaOficial bruno_marcello ', 'y': 1}, {'X': 'V13lula LulaOficial ptbrasil A extrema direita convive bem com a corrupção, isso é fato.', 'y': 2}, {'X': 'mvcostaBR andrevaladao Kkkkkk olha a diferença ...o lula e ladrão ...fato !!! ', 'y': 0}, {'X': 'LulaOficial Fico sem churrasco , mas não fico sem lutar contra isso. ', 'y': 1}, {'X': 'SrJusticaa lorrangms ptbrasil petrogustavo FranciaMarquezM LulaOficial Pela democracia KKKKKKKKKK é muito ret4rd4d0 mano KKKK', 'y': 1}, {'X': 'As mesmas pessoas que iam orar com o presidente Lula na época de seu mandato são as que agora disseminam de forma desonesta que ele vai fechar as igrejas... O voto do dia 30 deve ser confiado a quem está disposto a fazer políticas públicas para todos, para quem crê e quem não crê ', 'y': 2}, {'X': 'LulaOficial Você está um boneco de feira descontrolado Lula.Redatores que postam tolices em seu nome são desinformados.No contexto mundial o Brasil está voandoeconomia em alta e o auxílio Brasil paga 4 X mais,para mais famílias,que sua bolsa miséria.Que puxem os cordéis mais suavemente!', 'y': 0}, {'X': 'LulaOficial giulia ricardostuckert ', 'y': 1}, {'X': 'paes_as É um argumento vazio, já que foi preso injustamente. (O Lula)', 'y': 2}, {'X': 'simonetebetbr O Lula vai bater na senhora \"dentro de casa ou em outro lugar\"?', 'y': 0}, {'X': 'Lula 51% , ele já ganhou gente... só não vê quem não quer rsrs', 'y': 2}, {'X': 'LulaOficial ricardostuckert Quem conversa com bandido igual vc é o a polícia', 'y': 0}, {'X': 'UOLNoticias E as mesma que lula ia ganhar no primeiro turno??? Vão se fder kkkk', 'y': 0}, {'X': 'mvcxmvc LulaOficial Ninguém aguenta mais Bozonaro!!', 'y': 2}, {'X': 'Agendão do Time de Lula desta terça-feira em Natal ', 'y': 2}, {'X': 'LulaOficial Sei qual é sua causa!!! ', 'y': 0}, {'X': 'Araorogerio1212 plengruber gutembergcpv Vvia14370438 77_frota O que o Lula roubou?', 'y': 2}, {'X': 'updatecharts pedindo caridade, lula?', 'y': 0}, {'X': 'LulaOficial giulia ricardostuckert Que orgulho do meu presidente ', 'y': 2}, {'X': 'LulaOficial ', 'y': 0}, {'X': 'Lula ', 'y': 0}, {'X': 'LulaOficial ', 'y': 0}, {'X': 'LulaOficial ', 'y': 0}, {'X': 'eduardohanzo_ lula', 'y': 0}, {'X': 'LulaOficial Ex presidiário é mais recente!', 'y': 2}, {'X': 'tammagoti Parece q o Marcelo Madureira era minion de subir no trio elétrico de verde e amarelo, mas hj fez o L abraçado com o Lula, daí lembrei q o 04 é brigado com a madrasta e já soltou q namoraria petista ( ele falou isso há mto tempo ), vai q se rebela, o  Luly vira todos', 'y': 2}, {'X': '... infelizmente não aconteceu, mas que esteve perto de ter sido realizado. O trabalho da militncia da esquerda é mostrar sempre os benefícios que os dois mandatos do ex-presidente Lula trouxeram ao país como a saída do mapa da fome e o fato de ter se tornado...', 'y': 2}, {'X': 'Lula em Maceió e eu provavelmente não irei. Que tristeza', 'y': 2}, {'X': 'CanalDoOtario Piero_Garcia LulaOficial Nunca foi provado nada , agora o seu candidado foi condenado em 3 estncias e comprou os ministros do STF .', 'y': 0}, {'X': 'carmelonetobr Olha eu ali ouvindo as babaquices...vou votar no Lula', 'y': 2}, {'X': 'realpfigueiredo Observa essa doença do analfabetismo esquerdista.', 'y': 0}, {'X': 'hpassosneto É SÓ VER O LULAFLIX QUE ESTÁ TUDO LÁ O QUE O LULA FEZ', 'y': 2}, {'X': 'É aquele lance o do VIRA VOTO, VIRA LULA!!!', 'y': 2}, {'X': 'FilipeCatto LulaOficial Vamooo ', 'y': 2}, {'X': 'lucas_iludido littleitamar Janones suceder Lula? Tá doida mona? Vc não deve conhecer o histórico do Janones. Ele é literalmente oportunista. Surfa na onda do momento e é do centrão', 'y': 1}, {'X': 'Basta Lula ganhar a eleição que estes bostas golpistas nunca mais falam em aumentar o número de ministros do STF.', 'y': 2}, {'X': 'LulaOficial ricardostuckert ', 'y': 0}, {'X': 'LulaOficial Ladrao do caralho !  Como está vivo ainda ? Matam essa raça ruim aí', 'y': 0}, {'X': 'sendmeriver wemersonTWIT b_ishigami Isso é verdade. Só q STF não inocentou o Lula. Mudou a vara penal para julgar. Provas são as mesma. Não foi só o Moro q o condenou. O STJ e o TRF condenaram também. 6 bilhões foram devolvidos aos cofres públicos. Vc acha q caiu do céu? Foram desviados!', 'y': 0}, {'X': 'Simplismente amo você atriz q faz a propaganda do lula ', 'y': 2}, {'X': 'joventino_maria lemos_arao rafaelfsant 2022Enquetes Lula é o limao. Eu odeio limao', 'y': 1}, {'X': 'LulaOficial giulia ricardostuckert Caralho, cadê tu AndreMarinho ? Kkkkkkkkkkkkkkkkk. Vai lá discutir com o nikolas_dm agora! Hauahuahauahahauhahauau', 'y': 1}, {'X': 'Minibio: cidadão do mundo, embaixador da rua e canhoto de ideias. Eleitor de LulaOficial, torcedor do sportrecife e fã da NacaoZumbi. Joga bola, faz gols e não dança. É sentimental demais e tem uma quedinha pelo ibismania. Livro favorito: As Veias Abertas da América Latina.', 'y': 2}, {'X': 'Vc e Lula tudo farinha do msm saco um ladrão presidiário outro invasor de propriedade.. ', 'y': 0}, {'X': 'Você não tem amigos Lula. Você tem cúmplices. ', 'y': 0}, {'X': 'Quase pego ranço da Arianna quando ela disse que não não gostava de Lula. Mas lembrei que era o bicho', 'y': 2}, {'X': 'LulaOficial Pacto de Princiton,  verifiquem o que foi e quem estava!', 'y': 0}, {'X': 'Tava assistindo o episódio de Rolling kitchen Brasil com Byanca, Esse Menino. E toda vez que o PauloVieiraReal perguntava se alguém gostava de Lula dava pra sentir do sofá a indireta.', 'y': 0}, {'X': '_Carneirojorge marciatiburi Gozado, o Lula é chamado de ladrão e ninguém nunca apresentou provas', 'y': 2}, {'X': 'luvsthoma lula fã de ordem paranormal canon ', 'y': 0}, {'X': 'LulaOficial Vamos la eh democracia ....nao eh socialisno sul americano de ladroes', 'y': 0}, {'X': 'LulaOficial ricardostuckert Grande monte de estrumes', 'y': 0}, {'X': 'LulaOficial Recuperar aquilo que o governo do PT fez ?  conversa fiada, voce mesmo embola na suas próprias palavras. Ex-presidiário', 'y': 0}, {'X': 'A base de apoio de Lula está muito forte.', 'y': 2}, {'X': 'De o lula botasse um projeto de lei pra ninguém trabalhar sábado eu votava dnv', 'y': 2}, {'X': 'ZildaZildaab simonetebetbr DISCORDO, mas ficar a campanha toda falando que o PT é corrupto e depois dar apoio ao Lula NÃO É INTELIGENTE E NEM RESPONSÁVEL.', 'y': 0}, {'X': 'LulaOficial Não, contigo no Governo, esse país vai se transformar em uma nova Venezuela. Não minta. Socialismo não leva ao crescimento.', 'y': 0}, {'X': '\" Investir em Educação não é gasto é Investimento\"                         LulaOficialLula é um Estadista e governa para todos         LulaPresidente13  ', 'y': 2}, {'X': 'SuyaneOliveir72 geraldoalckmin LulaOficial Única saída para democracia ou da democracia? Quem apoia os ditadores mundo afora?', 'y': 0}, {'X': 'roxmo LULA É A ESPERANÇA DO BRASIL', 'y': 2}, {'X': 'salimmattarbr Esse é o primo do que roubou a poupança dos brasileiros? Vou votar no Lula novamente 13', 'y': 2}, {'X': 'E ai LulaOficial  tu n é o Cristão ?? pq tu n vai também ? é dia 12, fica avisado ', 'y': 0}, {'X': 'DePassarelli abnelalecrim Por isso que a esquerda não fala tanto no nome lula', 'y': 0}, {'X': 'LulaOficial Melhor falar as coisas da mentir e roubar', 'y': 0}, {'X': 'jose_simao Eleitores do LulaOficial ', 'y': 1}, {'X': 'Darthopressor MaxF633 jn__marcos CorrupcaoMemes falando agora da ideologia', 'y': 1}, {'X': 'Zema rebate Lula no Twitter: \"Povo mineiro já está vacinado do PT\"', 'y': 0}, {'X': 'josuerocksccp boliviazica Tem maluco que defende lula, não duvido de mais nada', 'y': 0}, {'X': 'garota_direita o_antagonista LulaOficial RomeuZema Pois é. O tom desse capone é o tom do mafioso top! Teve os tapinhas na cara do carrasco mais temido do STF, depois de 1 outro juizinho subalterno na hierarquia da ORCRIM. Então não venham dar de  isentos passadores de pano pra cima da gente não!', 'y': 2}, {'X': 'BeatrizMaia26 ArthurLira_ Esse é igual ao bruxonaro só faz ameaças, meu voto é LULA PRESIDENTE no dia 30 de Outubro 13 e já seguindo vc daqui de Paranatinga MT. Vamos DAR  resposta na urna esse ano LULA PRESIDENTE.', 'y': 2}, {'X': 'LulaOficial Pq vc quebrou o país né jumento', 'y': 0}, {'X': 'nacienmantillao BumperCrop1 En eso no se diferencia con Lula. Brasil es socio de Rusia. ', 'y': 1}, {'X': 'Senadora Kátia Abreu agora é Lula ', 'y': 2}, {'X': 'BOLETIM SINDICAL - O Mensageiro (10 de outubro de 2022)', 'y': 1}, {'X': 'O lula passa muito a sensação de dissimulado', 'y': 0}, {'X': 'LulaOficial bruno_marcello Ladrão !!!!', 'y': 0}, {'X': 'lula pula igual pipoca nesses trios de campanha dele kkkk', 'y': 1}, {'X': 'O Ipec continua mentindo', 'y': 0}, {'X': 'antropozinhenby Aí pq lula não ganhou no 1o turno', 'y': 0}, {'X': 'Pesquisa IPEC', 'y': 1}, {'X': 'LulaOficial Você é uma pessoa Alimária, Abentesma, Biltre, Sevandija, Estultilóquio. Poderia citar mais. Fica para a próxima!', 'y': 0}, {'X': 'LulaOficial ', 'y': 1}, {'X': 'LulaOficial ricardostuckert Al nine, vai votar em quem ? ', 'y': 1}, {'X': 'esquerdonomista AlfredoMenezes6 LulaOficial Falou o cara que chupa as bolas do Átila tamarindo', 'y': 0}, {'X': 'LulaOficial marcelomadu ricardostuckert Pqp, finalmente o Casseta e Planeta estão em sintonia... kkkkkkk Bem vindo ao campo democrático marcelomadu .', 'y': 0}, {'X': 'esquadraobiflay MAteus27h g1 Chaves aquele que o Lula apoia?', 'y': 0}, {'X': 'DboraGrace ariel_passarela MAGAFRV IAPolls2022 Lula é comunista, a favor da censura na imprensa, aborto na saúde pública, liberação das drogas. Enganou os Brasileiros enviando o dinheiro dos nossos impostos para investimentos em países comunistas. ', 'y': 0}, {'X': 'saritacoelho Lula já disse que os supremos são acovardados .', 'y': 1}, {'X': 'kkmorangoo Se não tentaram assassinar esse escroto ambulante em todas as merdas que ele fez durante presidente, eu vou ficar PUTA se tentarem com o Lula', 'y': 2}, {'X': 'LulaOficial japa0800 entra no lulaverso', 'y': 1}, {'X': 'geraldoalckmin LulaOficial BaixadorDeVldeo', 'y': 1}, {'X': 'LulaOficial Esse aqui também apoia ele ó  ', 'y': 1}, {'X': 'geraldoalckmin LulaOficial ', 'y': 1}, {'X': 'MariliaArraes Força , querida , é Lula 13, é Marília 77.', 'y': 2}, {'X': 'A diferença de nível do dia do LulaOficial e do atual presidente do BR é um abismo. Lula muito  frente falando da importncia da Educação para este país. Lula2022', 'y': 2}, {'X': 'LulaOficial Fake news quem dissemina, é vc e toda essa corja suja, e o ignorante acredita nas mentiras desse partido das trevas... Já começou a ditadura? Pq estão perseguindo os influenciadores de Direita??', 'y': 0}, {'X': 'rafalougon juliaduailibi CentralEleicoes Na verdade quem trouxe esses escandalos para o conhecimento do público foi o MP e a PF. O Jornalismo apenas repercutiu. ', 'y': 1}, {'X': 'Rconstantino LulaOficial Tem memória seletiva esse ex-presidiário ladrão', 'y': 0}, {'X': 'HellenMayara5 ZeRicardoAM LulaOficial Isso devido a hemoglobina!', 'y': 1}, {'X': 'GayerGus Empresarios com Lula é uma piada mesmo não sabem nem mentir.', 'y': 0}, {'X': 'se o Lula ganhar q q vai mudar meu shape? ', 'y': 1}, {'X': 'CamiloSantanaCE LulaOficial Esqueceu do fique em casa dissimulado? Lamentável um senador eleito mentir tanto assim', 'y': 0}, {'X': 'Eu tenho alegria e orgulho de dizer que voto em LulaOficial ', 'y': 2}, {'X': 'marciopaivaon veluc111 BRASIL URGENTE, LULA PRESIDENTE!!!!!', 'y': 2}, {'X': 'O ex-presidiário Lula teve 80,59% dos votos válidos em presídios!', 'y': 0}, {'X': 'militantcansado Eu acho que se o Lula tomasse um cafezinho com o Jair, até ele mudava o voto.', 'y': 2}, {'X': 'O Brasil vai eleger Lula no próximo dia 30. Vamos extirpar a institucionalização do racismo, homofobia, misoginia e xenofobia. ', 'y': 2}, {'X': 'FernandaTakai celiaxakriaba ColetivoAlvora1 LulaOficial ronaldofraga AndreJanonesAdv MacaeEvaristo Patrus_Ananias ', 'y': 1}, {'X': 'LulaOficial Por que tantos brasileiros vão estudar em universidades públicas e gratuitas na Argentina?  Este ano são 12.000 e isso acelerou a partir de 2018.', 'y': 2}, {'X': 'LulaOficial Na sua vez era só você é os companheiros né. Acorda', 'y': 0}, {'X': 'gremistaleosilv LulaOficial 13', 'y': 2}, {'X': 'geraldoalckmin LulaOficial Lutam tanto diversidade mas não tem um negro nas fotos do primeiro escalão. Estranho não?', 'y': 0}, {'X': 'LulaOficial ', 'y': 0}, {'X': 'LulaOficial Não roubar já ajuda bastante ', 'y': 0}, {'X': 'thaigo_cassiano gopal633as taoquei1 Lula 13 chora menos! Kkk', 'y': 0}, {'X': 'luizefar EstherThedoro A diferença do Lula para o verme aumentou.', 'y': 2}, {'X': 'LulaOficial Mentira!!! Tava vazio pra burro! Aqui em minas ninguém quer PT mais não.', 'y': 0}, {'X': 'GugaNoblat Pensei que o Lula tinha ganho no primeiro turno... kkkkkk ', 'y': 0}, {'X': 'eh luiz inacio lula da silva  n esta facil', 'y': 0}, {'X': 'LulaOficial Sério q seu plano de governo se baseia num personagem de novela????', 'y': 0}, {'X': 'Quem aí vai assistir o DebateNaBand hoje?', 'y': 1}, {'X': 'LulaOficial giulia ricardostuckert Olha quem veio ao Brasil visitar e dar apoiar ao Lula Chupem que a cana é doce', 'y': 0}, {'X': 'CristianocjsB Para você ver o nível dos eleitores de Lula.', 'y': 0}, {'X': 'viniragusa anticoletivista LulaOficial Claro, o mundo de olho na Amaznia, com certeza vão querer o Lula kkkkk', 'y': 2}, {'X': 'Agora o Lula chega a 60% dos votos ', 'y': 2}, {'X': 'UOLEsporte LULA É A ESPERANÇA DO BRASIL', 'y': 2}, {'X': 'uczai Como se Lula nunca fez outra coisa que não fosse desvio de verbas?', 'y': 0}, {'X': 'RPhupa ootimistajornal Nojento é ver gente em 22 caindo no mesmo terrorismo eleitoral de décadas kkkk o petê sempre a única alternativa p derrotar um graaande mal. Se Lula ganhar, é pq o brasileiro merece mesmo.', 'y': 0}, {'X': 'LulaOficial Estava lá, concordo absolutamente com o que diz, um clima, uma onda, uma esperança de que vamos ganhar. Inclusive vi alguns lá que nunca imaginei estarem do nosso lado, foi um belo sinal, força, fé, foco e rumo a vitória, baixar a atenção de maneira alguma, lula lá, contem comigo', 'y': 2}, {'X': 'eu acho que o lula vai vir pra minha cidade', 'y': 2}, {'X': 'A campanha mais eficiente para o Lula agora é o voto nulo', 'y': 1}, {'X': 'Eu quero o vídeo do Lula falando que investir em educação não é desperdício agora!!', 'y': 2}, {'X': 'mds, copa ja eh mês que vem e eu ainda nem comprei a camisa do brasil.... vou esperar lula ser eleito a p voltar a usar a amarelinha com a forabozo nela ', 'y': 2}, {'X': 'LulaOficial Não vem que não tem safado, mentiroso', 'y': 0}, {'X': 'Sentinels TenZOfficial lula?', 'y': 0}, {'X': 'LulaOficial marcelomadu ricardostuckert ', 'y': 0}, {'X': 'A senadora KatiaAbreu reafirma voto em Lula e faz um alerta aos produtores brasileiros sobre as recentes decisões da comunidade europeia. Lá na outra rede.', 'y': 2}, {'X': 'Juro que eu queria saber a fonte da paz de espírito de quem tá nesse caos e tá assim \"nem lula nem bosta\" e com a autoestima elevada de \"ser iluminado\"', 'y': 2}, {'X': 'LulaOficial 13', 'y': 2}, {'X': 'oha_naiii andreacitynova LulaOficial Vc só conhece gente lesada', 'y': 0}, {'X': 'brealt safbf Deborabaldin gabriolaz Obrigada pelo apoio, Breno! Muita gente na internet não tá organizada, essas questões tem que estar na agenda do dia dos nossos partidos! Vamos que vamos, lula lá e Haddad aqui', 'y': 2}, {'X': 'LulaOficial E você só pensa em regular os meios de comunicações pra ninguém poder falar dos seus roubos junto dos seus filhos. O sujo falando do mal lavado.', 'y': 0}, {'X': 'SenadorRogerio LulaOficial E o Kiko? Esse vagabundo só bebe e fala merda', 'y': 0}, {'X': 'LulaOficial anacontivieira giulia ricardostuckert Que lindo... lindo... lindo.... LulaNoSegundoTurno  LulaDay', 'y': 2}, {'X': 'Lula se esquiva na indicação de possíveis nomes para ministérios ', 'y': 0}, {'X': 'LulaOficial ricardostuckert ', 'y': 1}, {'X': 'LulaOficial giulia ricardostuckert ', 'y': 1}, {'X': 'Mattheusb_c LulaOficial Se ele prometeu Água e não cumpriu imagina Picanha com Cerveja kkkkkkkkkkkkk', 'y': 0}, {'X': 'LulaOficial ricardostuckert ', 'y': 1}, {'X': '_Janoninho Eeeee Lula 55% dos votos válidos.13', 'y': 2}, {'X': 'LulaOficial Bah então as diretas foram fraquinhas hein.... Molusco mentiroso, ladrão.', 'y': 0}, {'X': 'Cl_rhay SIM KKKKKKKKKK ele agradecendo pelos votos e que ganhou aqui sendo que o nordeste todo foi lula ', 'y': 2}, {'X': 'Na IPEC de hoje, LulaOficial tem 51% e o inominável, 42%. Já nos votos válidos, ficamos com 55% contra 45%. Bora trabalhar! Falta pouco pra acabar o pesadelo, o Brasil vai ser feliz de novo. ', 'y': 2}, {'X': 'Lula - enquanto oferecia 80 reais no bolsa família- oferecia o Bolsa Petrobras para o Marcelo Odebrecht no valor de bilhões de Reais. ', 'y': 0}, {'X': 'passei mal na uesc hj e to me sentindo mal agr em casa dnv ', 'y': 1}, {'X': 'Agora votos válidos no Ipec', 'y': 1}, {'X': 'Caloteiros de olho na Entrada do Ladrão! Não vão precisar pagar mais o Estádio e voltarão a ganhar vários títulos como ganhavam na época do Lula! ', 'y': 0}, {'X': 'LulaOficial marcelomadu ricardostuckert Esse otário aprendeu?', 'y': 1}, {'X': 'LulaOficial Lula....sera que tem presidência de cela?como tinha de sala... tenta...lá no presídio ,tá ganho...', 'y': 0}, {'X': 'Eleições2022: TSE nega pedido do PT para retirar do ar canal que associa Lula ao PCC ', 'y': 0}, {'X': 'joaobettega_ Lula é pior', 'y': 0}, {'X': 'HoracioBridon LulaOficial Kkkkkkkkkkkkkkkkkkkk Kkkkkkkkkkkkkkkkkkkk Kkkkkkkkkkkkkkkkkkkk Kkkkkkkkkkkkkkkkkkkk Kkkkkkkkkkkkkkkkkkkk ', 'y': 1}, {'X': 'LulaOficial ricardostuckert ', 'y': 1}, {'X': 'a veia tava falando mal do lula do meu lado e DESMAIOU NO MEU COLO se isso não é sinal eu não sei oq é', 'y': 1}, {'X': 'esse tanto de aliança que o lula tá fazendo, ainda que sejam necessárias pra acabar com esse pesadelo, podem ser bem perigosas sim kkkk to um pouco com medo, não vou negar', 'y': 0}, {'X': 'FernandaTakai celiaxakriaba ColetivoAlvora1 LulaOficial ronaldofraga AndreJanonesAdv MacaeEvaristo Patrus_Ananias vai da esse  seu   ku secu  bem  longe  daqui', 'y': 0}, {'X': 'Enquanto tiverem antas e jumentos que são adestrados pelo chefe da maior quadrilha do Brasil Lula ladrão dificilmente esse país vai deslanchar meu amigo. ', 'y': 0}, {'X': 'gleisi LulaOficial Tonta!', 'y': 0}, {'X': 'DeputadoFederal LulaOficial FAKE NEWS', 'y': 0}, {'X': 'giulia estou muitíssimo feliz com a declaração do voto em lula vou poder parar de ouvir suas músicas no modo privado', 'y': 2}, {'X': 'LulaOficial marcelomadu ricardostuckert 51?', 'y': 1}, {'X': 'brasil247 O Lula é ladrão e não tem vergonha', 'y': 0}, {'X': 'geraldoalckmin LulaOficial Seu malandrinho, quer q o lula ganhe pra derrubar ele e vc governar né kkkkkk malandrinho você em Alckmin', 'y': 2}, {'X': 'RafaelFontana O Lula já tentou recolher as armas dos cidadãos e o plebiscito de 2005 nunca foi honrado pelos defensores da democracia, diga-se de passagem.', 'y': 0}, {'X': 'LulaOficial O q é stalinismo mesmo? ', 'y': 0}, {'X': 'Mary00338232 marcosdoval Exatamente! Nessa época o Lula era Lulinha paz e amor! Rsrsrs!', 'y': 2}, {'X': 'Lula_avalos ', 'y': 1}, {'X': 'requiaooficial Vc tá tomando a mesma água que o lula toma  500k ? ', 'y': 1}, {'X': 'luizfn87 13 LULA', 'y': 1}, {'X': 'LulaOficial Sítio só pra você, Triplex só pra você. 10 anos metalúrgico você nunca me enganou.', 'y': 0}, {'X': 'LulaOficial giulia ricardostuckert Coitado do cara, mais um enganado', 'y': 0}, {'X': 'gremistaleosilv LulaOficial 13', 'y': 1}, {'X': 'vamos fingir que eu não estou chorando por causa de um edit do Lula e da Janja ao som de Still my girl ', 'y': 2}, {'X': 'Eleições2022: TSE nega pedido do PT para retirar do ar canal que associa Lula ao PCC ', 'y': 0}, {'X': 'Não é \"erro\", é crime. E ainda fazendo campanha pro Jair. Queria ver o que a direção faria se fosse uma professora se manifestando pró Lula. ', 'y': 0}, {'X': 'IzabelMirandad3 Vamos focar no nosso objetivo de tentar conquistar votos para o Lula. Quanto as provocações, o melhor é ignorar, não leva a lugar nenhum ficar entrando em discussões.', 'y': 2}, {'X': 'syulrudy maysaalvesbr LULA LULA LULA LILA ', 'y': 2}, {'X': 'LulaOficial Sr. Lula, descondenado, as obras do PAC pararam por causa da corrupção no seu próprio governo. Vc parece que tem amnésia. Caiu na cela e bateu a cabeça?', 'y': 0}, {'X': 'Das duas uma: quem vota no Loola tem disfunção cognitiva ou mau-caratismo  mesmo. Lula teve 80% dos votos dos presos brasileiros  ', 'y': 0}, {'X': 'UOL Lula sempre na frente kkkkkk', 'y': 2}, {'X': 'LulaOficial marcelomadu ricardostuckert Esfreguei os olhos aqui para ver se não era uma miragem.', 'y': 1}, {'X': 'JornalOGlobo Gente isso foi armação daquele pinguço do Lula! Chega até ser engraçado o nível baixo que o PT consegue chegar pra tentar manipular a população. Kkkk', 'y': 0}, {'X': 'LulaOficial ricardostuckert ', 'y': 1}, {'X': 'delucca Tem algum aglomerado que mostra as pessoas que trocaram de lado a favor do Lula?', 'y': 2}, {'X': 'LulaOficial ricardostuckert ', 'y': 1}, {'X': 'Rconstantino CanalDoOtario LulaOficial hauahajhajajajauai', 'y': 1}, {'X': 'Olha que lindo o lula discutindo educação!!!', 'y': 2}, {'X': 'e só não tenho foto com lula pequena pq quando ele estava na base minha mãe não pode ir pra ficar comigo e tirarmos a foto ', 'y': 2}, {'X': 'LulaOficial  ', 'y': 1}, {'X': 'gremistaleosilv LulaOficial 13', 'y': 1}, {'X': 'gleisi LulaOficial Vocês PTistas não perdem essa mania de demonizar e atacar adversários, vocês não aceitam opniões divergentes. Vocês são arrogantes e intolerantes. Chame-os do que você é, acuso-os do que você faz !!!', 'y': 0}, {'X': 'A minha mãe sai me mandando TUDO que ela vê nos portais do bozo que ela segue, ela nem confere se é verdade ou não, ofendeu o Lula aí ela vai e me manda kkkkkkkkkkkkk', 'y': 0}, {'X': 'LulaOficial giulia ricardostuckert Que vergonha pra família marinho ', 'y': 1}, {'X': 'claudiofgh LulaOficial noseconexoes GringaBrazilien Chutando...claro...eu acho que tão medindo.', 'y': 1}, {'X': 'alessinhe AdemisVitti ptbrasil Eleitores de lula ladrão, Haddad , pt  todos juntos!!! ', 'y': 0}, {'X': 'LeilaGermano LulaOficial marcelomadu ricardostuckert Frente ampla tá bem ampla', 'y': 2}, {'X': 'LulaOficial giulia ricardostuckert Meu presidente', 'y': 2}, {'X': 'BTrigoly Frente bem ampla, muito ampla haha fez até o L com Lula', 'y': 2}, {'X': 'randolfeap Oxi algo de errado não está certo em, segundo esse tal de Ipec o Lula ladrão já foi eleito!!', 'y': 0}, {'X': 'LulaOficial ricardostuckert ', 'y': 1}, {'X': 'O mais próximo que Lula e Taylor Swift já estiveram.', 'y': 1}, {'X': 'Quem vai pra caminhada de Lula amanhã em Recife? ', 'y': 2}, {'X': 'LulaOficial bruno_marcello Acorda povao ', 'y': 1}, {'X': 'CentralEleicoes Vamo  ganha   lula  presidente..sigilo de 100anos vai  ser revelado...', 'y': 2}, {'X': 'Gavazziesther28 LulaOficial Essa sra do vídeo é essa aqui ', 'y': 1}, {'X': 'LULA ', 'y': 1}, {'X': 'LulaOficial marcelomadu ricardostuckert Tem gente apoiando Lula que já bateu tanto no velhinho que misericórdia. Mas o bom é que eles reconhecem o erro. É Lula eterno presidente da nação 13', 'y': 2}, {'X': 'RaquelAnd000 Lula já tinha 51% no primeiro turno, não era pra ter uns 55% agora com apoio de Ciro e Simone? ', 'y': 0}, {'X': 'JHFonseca ducavendish Essa é a questão, eles querem garantir pelo menos mais um votinhos pro lula', 'y': 2}, {'X': 'LulaOficial Mente que nem sente... ', 'y': 0}, {'X': 'LulaOficial ricardostuckert LulaPresidente13', 'y': 1}, {'X': 'LulaOficial Pela volta do horário de verão!!!', 'y': 2}, {'X': 'LulaOficial ricardostuckert Quem vai vencer esta eleição é o povo e as tias do zap.', 'y': 1}, {'X': 'lula conhecendo o ex da taylor swift ', 'y': 1}, {'X': 'denisansolin cholyfvck LulaOficial cada uma que a gente tem que ler kkkkkkkkkkkk', 'y': 1}, {'X': 'do lado da minha casa e é ÓBVIO que vou marcar presença. lula lá e eu também ', 'y': 2}, {'X': 'kimpaim Acabei de mudar 5 votos que iriam votar no bozo , e agora vão votar no lula', 'y': 2}, {'X': 'É difícil entender... O Lula fez muito mal pra esse país e nem sequer foi humilde pra pedir desculpas, falar que agora vai ser diferente! Muito pelo contrário, vejo um homem com sangue nos olhos, sede de vingança, frio e calculista! Deve ser síndrome de Estocolmo quem votar 13! ', 'y': 0}, {'X': 'LulaOficial Haddad_Fernando Ganhou por causa dos analfabetos ? Palavras de um ex presidiário candidato a presidência .. ', 'y': 0}, {'X': 't com um pé atrás nisso. e se for uma estratégia do lado de lá pro lula divulgar algo e no final ser falso? sei lá. traumatizado com isso ', 'y': 1}, {'X': 'LulaOficial ricardostuckert Boa noite lula', 'y': 2}, {'X': 'ptbrasil LulaOficial ', 'y': 1}, {'X': 'LulaOficial ricardostuckert Pouco inclusivo!', 'y': 0}, {'X': 'LulaOficial ', 'y': 1}, {'X': 'MauroDoroche Se vocês querem  ser roubados  votem no Lula quando você for assaltado  ou roubado por um bandido  faça o L ', 'y': 0}, {'X': 'LulaOficial Filhão você fala mais besteira que isso kkkkkk, mostra aí onde estão os ataques do presidente aos nordestinos ?', 'y': 1}, {'X': 'AnarcoFino Ouvi relado de uma fiel cujo pastor pregou na congregação que os eleitores declarados de Lula teriam de ser rebatizados. Isso, para um evangélico, é significado de pecado e desonra.', 'y': 0}, {'X': 'negrobelchior SueliCarneiro brdecarneeosso LulaOficial ptbrasil Inspirados estão, não? LulaOficial JanjaLula ptbrasil', 'y': 2}, {'X': 'LulaOficial Além de broxa é  mentiroso  ', 'y': 0}, {'X': 'rosele_costa A_Marques6 LulaOficial Verdade.', 'y': 2}, {'X': 'antwnelli Lula', 'y': 0}, {'X': 'Rconstantino CanalDoOtario LulaOficial REALMENTE KKKKKKKK ', 'y': 1}, {'X': 'LulaOficial giulia ricardostuckert Tinha q ser da esquerda caviar! ', 'y': 0}, {'X': 'CanalDoOtario LulaOficial Nome do canal cai bem!', 'y': 1}, {'X': 'LulaOficial giulia ricardostuckert Eu me emocionei....', 'y': 2}, {'X': 'desgracaa2 MUNDAOSPFC LulaOficial Citei o verdadeiro e único candidato presidiário desse país!', 'y': 0}, {'X': 'amanda23vi cryptoM1490 hermesoncassi LulaOficial giulia ricardostuckert essa galera se passa demais pra defender aquele tinhoso kkkkkk  tem que rir', 'y': 1}, {'X': 'a questão que muita gente do 45 nao entende é que mesmo que raquel não esteja declarando apoio a lula só por questões eleitorais ela ainda pode (e deve) ser criticada por isso ué. todo mundo tratando essa eleição presidencial como crítica e não podemos cobrar isso da candidata?', 'y': 1}, {'X': 'souguereira Governadores e senadores que apoiam o Lula saindo s ruas  cada um de nós desmentindo as Fake News  cada um de nós tentando convencer os que se abstiveram de votar a votarem 13 agora  convencer familiares e amigos a votar Lula  utilizar nossas redes sociais para Lula 13.', 'y': 2}, {'X': 'geraldoalckmin LulaOficial vote 13 ', 'y': 2}, {'X': '\"A ideia de que Lula representa uma ameaça  democracia não fica de pé um segundo.\" Frase cirúrgica de pedrodoria. Um dos melhores achados desse ano no YouTube foi o canalmeio. Queria trabalhar lá só pra ouvir as análises da galera em primeira mão ', 'y': 2}, {'X': 'RomeuZema Votei em vc mais de presidente vou de lula sinto mto', 'y': 2}, {'X': 'RZP2021 JoaoLoque Na época do Lula teve guerra também e teve a crise da H1N1.', 'y': 2}, {'X': 'LulaOficial Nossa! Muito poético!! Pena que o povo acordou', 'y': 0}, {'X': 'AnarcoFino LulaOficial ', 'y': 1}, {'X': 'LulaOficial ricardostuckert Não voto em LADRÃOOOOOOOO ', 'y': 0}, {'X': 'everton_JB22 Mariade36692398 LulaOficial ', 'y': 1}, {'X': 'LulaOficial ', 'y': 1}, {'X': 'RachelSherazade LULA É A ESPERANÇA DO BRASIL', 'y': 2}, {'X': 'LulaOficial marcelomadu ricardostuckert Aí sim!! Bora virar voto!', 'y': 2}, {'X': 'AlbertoMayol Jajajaja nooo si aquí llegó la felicidad wn...\"Boris lo va a cambiar todo\"...maduro también, los Hermanos Fernandez, y ahora van por el delincuente de LULA....\"Exigía debatir conmigo jajaja\"...  JMilei acá un zurdo  delirando tener una debate con VOS.', 'y': 1}, {'X': 'Lula defende ladrão de celular, sequestradores e a execução de bebês no ventre da mãe... só poderia receber apoio de satanistas mesmo.', 'y': 0}, {'X': 'Se o Lula ganhar dia 30 eu posto um nuds nessa porra kkkk', 'y': 2}, {'X': 'AdemisVitti capellari_gama ptbrasil Paraná pesquisa kkkkkkkkkkkkkkkkkkkk', 'y': 1}, {'X': 'INCRÍVEL A GLOBO SE CALOU,SE FOSSE ALGO SOBRE LULA ELA DARIA METADE  DO JONAL NACIONAL ', 'y': 1}, {'X': 'Sigo minha missão de coordenar a campanha do segundo turno de Lula e Haddad em Araraquara e microrregião. Não é tarefa fácil, mas temos um time organizado para operar muito até  vitória! ', 'y': 2}, {'X': 'JanjaLula Lula!! 13', 'y': 2}, {'X': 'Deivison29O iDateJily com quais fundamentos vc chama ele de comunista? sem contar que o lula foi a presidente que mais favoreceu bancos e instituições financeiras', 'y': 2}, {'X': 'Desisto da pack do Lula, vou colocar direto a de halloween msm', 'y': 1}, {'X': 'carmelonetobr Deus lhe ouça, mas a família de Ciro Gomes se rendeu a Lula e os Alencar nem querem ouvir falar deles mais.', 'y': 1}, {'X': 'akm1mm UOLNoticias LulaOficial uolconfere Vai lá reclamar com o satanista que apoia Lula kkkkk', 'y': 1}, {'X': 'Ticostacruz Deus me livre. Lula nunca mais', 'y': 0}, {'X': 'LulaOficial ', 'y': 1}, {'X': 'LulaOficial ricardostuckert Esse aí é aquele cantor do Joga Pedra na Geni?', 'y': 1}, {'X': 'rafinhabastos Negativo, só acessar o site do Lula que lá tem as propostas', 'y': 2}, {'X': 'Empresário, marido da prefeito de Porangatu ameaca fechar empresa se Lula vencer', 'y': 0}, {'X': 'kanonkuwabara FernandoHoliday qualquer coisa e menos danoso que lula, pois em 16 anos eles mataram infinitamente mais que 700 mil pessoas com o virus da corrupção', 'y': 0}, {'X': 'NadaseiSocrates JosimarDantas6 HS DO AGRO APOAR LULA. QUANTOS FASCISTA HÁ NO AGRO É POP?', 'y': 1}, {'X': 'A voz do Bonner treme quando fala que o Lula tá na frente das pesquisas ', 'y': 1}, {'X': 'Assim como Lula ser o único representante forte da esquerda, também ser um problema', 'y': 0}, {'X': 'igorcostaiec vanessnnavarro Na verdade até no pior crime pode ser perdoado se houver um arrependimento sincero.', 'y': 1}, {'X': 'MarcosD99299489 UOL Mas acertou bem próximo Lula, Tebet e Ciro.', 'y': 1}, {'X': 'doguido LulaOficial JanjaLula Sem contar que ele também é  ex presidiário.', 'y': 0}, {'X': 'LulaOficial Vamos recuperar colocando a quadrilha que vc montou no palácio do planalto  ?  Deus não vai deixar . PT nunca mais . Meu medo é que o criminoso sempre volta ao local do crime.', 'y': 0}, {'X': 'lula eleito', 'y': 2}, {'X': 'epictetuscat Alckmin 2026, Lula não sairia pra re-eleição mesmo num governo perfeito', 'y': 1}, {'X': 'o lula no final  muito fofo ', 'y': 2}, {'X': 'LulaOficial marcelomadu ricardostuckert Grande Marcelo de Madureira', 'y': 1}, {'X': 'Darlancarv2021 LucasDione12 LaiAlmeida9 MariaLuizaQuar3 RomeuZema MAs Errar pelas 3,me desculpe caro amigo,isso n ocorre,o que me parece até o presente momento é o senhor tentar justificar os roubos dele,sobre argumentos,infundados,e tenta o achar brechas em nossas leis,entendo seu posicionamento e o respeito,mas nessa questão o lula foi preso', 'y': 0}, {'X': 'the_buckminster rafaelarezender LulaOficial E o lula fez oq?', 'y': 0}, {'X': '13 personalidades importantes que  votarão em Lula:', 'y': 2}, {'X': 'LulaOficial ', 'y': 1}, {'X': 'LulaOficial Vai dar carne para povo com dinheiro que você roubou ?', 'y': 0}, {'X': 'francis18098422 bolso1turno22 simonetebetbr LulaOficial Fakenews', 'y': 0}, {'X': 'rafinhabastos Típico de lavajatista dizer que Lula não tem plano de governo.', 'y': 1}]\n"
          ]
        }
      ]
    },
    {
      "cell_type": "markdown",
      "metadata": {
        "id": "WyleZGdH25Hq"
      },
      "source": [
        "Separando os dados em conjunto de treino e teste"
      ]
    },
    {
      "cell_type": "code",
      "metadata": {
        "colab": {
          "base_uri": "https://localhost:8080/"
        },
        "id": "u1R9CbypJfNO",
        "outputId": "bd38915a-bc22-4564-ffd0-bf28a4a4c609"
      },
      "source": [
        "size = int(len(data) * 0.1)\n",
        "treino = data[2*size:] #  0.2 - 1\n",
        "validacao = data[size:2*size] # 0.1:0.2\n",
        "teste = data[:size]  # 0:0.1\n",
        "\n",
        "len(treino), len(validacao), len(teste)"
      ],
      "execution_count": 14,
      "outputs": [
        {
          "output_type": "execute_result",
          "data": {
            "text/plain": [
              "(328, 40, 40)"
            ]
          },
          "metadata": {},
          "execution_count": 14
        }
      ]
    },
    {
      "cell_type": "markdown",
      "metadata": {
        "id": "dGTxUNNQ3LMK"
      },
      "source": [
        "BERTimbau - documentação [este link](https://github.com/neuralmind-ai/portuguese-bert)."
      ]
    },
    {
      "cell_type": "code",
      "metadata": {
        "id": "yDCgnNlzcCsA"
      },
      "source": [
        "import os\n",
        "import torch\n",
        "import torch.nn as nn\n",
        "from torch import optim\n",
        "from transformers import AutoTokenizer, AutoModelForSequenceClassification\n",
        "from sklearn.metrics import accuracy_score, f1_score, classification_report"
      ],
      "execution_count": 15,
      "outputs": []
    },
    {
      "cell_type": "markdown",
      "metadata": {
        "id": "6OHZj1Ko3nos"
      },
      "source": [
        "Instanciando parâmetros"
      ]
    },
    {
      "cell_type": "code",
      "metadata": {
        "id": "icMF0E_R8h9W"
      },
      "source": [
        "device = torch.device('cuda' if torch.cuda.is_available() else 'cpu')\n",
        "nclasses = 3  # número de classes/labels que classificam  os tweets (0 = negativo, 1 = indefinido, 2 = positivo)\n",
        "nepochs = 5  # número de épocas (valor inicial: 5)\n",
        "batch_size = 1  # número mínimo de frases que são previstas por vez - em datasets grandes, número pode ser maior\n",
        "batch_status = 8  # a cada quantas batches avalia o status - numero menor pra dataset menor\n",
        "learning_rate = 1e-5  # taxa de aprendizado\n",
        "early_stop = 2  # critério de parada\n",
        "\n",
        "max_length = 512 # tamanho maximo de cada frase\n",
        "write_path = 'model'"
      ],
      "execution_count": 16,
      "outputs": []
    },
    {
      "cell_type": "markdown",
      "metadata": {
        "id": "P-fAnBqN3rCv"
      },
      "source": [
        "Separando os dados em batches de treino e teste\n",
        "\n"
      ]
    },
    {
      "cell_type": "code",
      "metadata": {
        "id": "d3P7XcEsLXji"
      },
      "source": [
        "from torch.utils.data import DataLoader\n",
        "\n",
        "traindata = DataLoader(treino, batch_size=batch_size, shuffle=True)\n",
        "validationdata = DataLoader(validacao, batch_size=batch_size, shuffle=True)\n",
        "testdata = DataLoader(teste, batch_size=batch_size, shuffle=True)"
      ],
      "execution_count": 17,
      "outputs": []
    },
    {
      "cell_type": "markdown",
      "metadata": {
        "id": "k8Gl_q253uV9"
      },
      "source": [
        "instanciando tokenizador, modelo, função de erro e otimizador:"
      ]
    },
    {
      "cell_type": "code",
      "metadata": {
        "colab": {
          "base_uri": "https://localhost:8080/",
          "height": 320,
          "referenced_widgets": [
            "080acac1067c4075acf27b64efa363ce",
            "d2a5a46b830640beb707d64d05633594",
            "2c88b6533f5740fcb9f6d2bb41af13bb",
            "76f2a5891ffd4a98a1313f1f52f82f26",
            "a1d8a483b42b4131bb28dbce496f97e8",
            "1134fc04e69c4e57a322630291379fdd",
            "ea6946335a4e457bb28eeb420f421996",
            "7c9bde15d0024aaa87d7d4b363dc9872",
            "598fe156e8774d72bf08e01a87765524",
            "ba76065f288b4cbcacc263d91190cd35",
            "acf3361aaf384bd592bddd600c887a3f",
            "08ca495c1186427787e247f948f19e97",
            "9e8a5f656a3e48bb8f64c4d572004d7f",
            "f674bef3ae574983aabe75f560699aa8",
            "e5570b1af8124014ac93eef64669dfd9",
            "7d7a9b312b4147959f2ab6c43985728d",
            "46ed4852ef3841a58af890bea264b92c",
            "c3d6d98a45314e82bdc220233ee29d1a",
            "cb107ef9d6564c2e9e25839358e53999",
            "991ed9b42f094252ac4f99d2fd6e7d8d",
            "5ee0ac4b202544dcaa836b7d57d8fc2d",
            "795aac4e42674f5ea9794d358dfeaf8f",
            "1443d0d2cb444b95ac51e818ce7a4dd5",
            "61185c3b3cac41a4b9eaa72888c313bd",
            "7aae66efcc38453f978b1252dace6c21",
            "4c97d5723fee4b6ba700b8e8085e8f73",
            "e29b5b1c2624413fa7115fb3e92d0408",
            "bb29aede45e54a0798e740af7ece0477",
            "f03b844984e6492c8fc68e353f09f972",
            "8d3df6c3722b4336b0e27445a0de45be",
            "fd63382924f14a6cba347249a95ac9ae",
            "2c275857130f4b61b4dfc633b8b16726",
            "35ab4cf6b9484d268e5a61899370d981",
            "4da140d06602413b9c2da360d1b646bd",
            "84cc8c691d2d4f07822a547d634c59ad",
            "2cd54b713b294a2e8e1fac05dca4de48",
            "b3e0ace6024143798108bd36c23786ee",
            "2e7f69c436d44d11bf2575235ec4f2ce",
            "9ee139eb81df4c43a6c8b50b68e031fe",
            "b9732a0f685846a49ed4689d19af61d7",
            "b77e9ffeca8b438f990f2e263444535c",
            "0474cdf3abab43aea3960bd32ed12dde",
            "f0236b5f550940e8928b24f83dcf09eb",
            "d78fafc8ef074054bd626856d28d66d0",
            "7b5335bf757d46a4b0742d948f8640ff",
            "ee6c9b14cff84ddc809f5fc07a142320",
            "fc7d9402ead44350879bc78bc3abd5f9",
            "89e8f67babf44a11a7e0bf582b54e544",
            "8a845ee4f493406e8531d8e491aee486",
            "081f62e63ead4738abab26de57b2cea0",
            "d85353f09007434e91792697e82ee690",
            "7d54b89b597440dab947ae8606b7839a",
            "37aea1efadff4718aace134ff030eca8",
            "0ee9b24c9bc94cdda936f3491537a9b1",
            "991ca0651fd24623971d0888f37df56f",
            "8a3d2dfa37344aa0a4ad27f4326f2254",
            "07d1ff9681fa40189ef5a2bed6560923",
            "0e27be601cbd49c0ae2928ecd6132d48",
            "6100259f4fe1409a8ff6aa8cf8fa2786",
            "4e2df5d37e0b4a91ad2d183b6f9d5d5a",
            "4bfd25c3fc3341a0bb6819b704d41b65",
            "cedafab5073642e0840e077c6edf2c89",
            "f99cbe5cba2845e08808c27586e9c314",
            "ad2035abd6844465bcfb6d376feaf3e5",
            "af0dc9add7884a1f83fdfe67fe7fc90b",
            "c3469d69c8c545c08b5772dae7fdc9b8"
          ]
        },
        "id": "7WeMpVR18aPq",
        "outputId": "5e7fd672-d071-4a19-dc4d-34edb6d5f872"
      },
      "source": [
        "# instancia o tokenizador\n",
        "tokenizer = AutoTokenizer.from_pretrained('neuralmind/bert-large-portuguese-cased', do_lower_case=False)  # para utilizar o BERTinbal large: 'neuralmind/bert-large-portuguese-cased'\n",
        "#bertinbal menor: 'neuralmind/bert-base-portuguese-cased'\n",
        "#  instancia o modelo\n",
        "model = AutoModelForSequenceClassification.from_pretrained('neuralmind/bert-large-portuguese-cased', num_labels=nclasses).to(device)\n",
        "\n",
        "# seleciona o otimizador \n",
        "optimizer = torch.optim.AdamW(model.parameters(), lr=learning_rate)\n",
        "\n",
        "# congela os pesos do BERT pré-treinado\n",
        "for param in model.base_model.parameters():\n",
        "    param.requires_grad = False"
      ],
      "execution_count": 18,
      "outputs": [
        {
          "output_type": "display_data",
          "data": {
            "text/plain": [
              "Downloading:   0%|          | 0.00/155 [00:00<?, ?B/s]"
            ],
            "application/vnd.jupyter.widget-view+json": {
              "version_major": 2,
              "version_minor": 0,
              "model_id": "080acac1067c4075acf27b64efa363ce"
            }
          },
          "metadata": {}
        },
        {
          "output_type": "display_data",
          "data": {
            "text/plain": [
              "Downloading:   0%|          | 0.00/648 [00:00<?, ?B/s]"
            ],
            "application/vnd.jupyter.widget-view+json": {
              "version_major": 2,
              "version_minor": 0,
              "model_id": "08ca495c1186427787e247f948f19e97"
            }
          },
          "metadata": {}
        },
        {
          "output_type": "display_data",
          "data": {
            "text/plain": [
              "Downloading:   0%|          | 0.00/210k [00:00<?, ?B/s]"
            ],
            "application/vnd.jupyter.widget-view+json": {
              "version_major": 2,
              "version_minor": 0,
              "model_id": "1443d0d2cb444b95ac51e818ce7a4dd5"
            }
          },
          "metadata": {}
        },
        {
          "output_type": "display_data",
          "data": {
            "text/plain": [
              "Downloading:   0%|          | 0.00/2.00 [00:00<?, ?B/s]"
            ],
            "application/vnd.jupyter.widget-view+json": {
              "version_major": 2,
              "version_minor": 0,
              "model_id": "4da140d06602413b9c2da360d1b646bd"
            }
          },
          "metadata": {}
        },
        {
          "output_type": "display_data",
          "data": {
            "text/plain": [
              "Downloading:   0%|          | 0.00/112 [00:00<?, ?B/s]"
            ],
            "application/vnd.jupyter.widget-view+json": {
              "version_major": 2,
              "version_minor": 0,
              "model_id": "7b5335bf757d46a4b0742d948f8640ff"
            }
          },
          "metadata": {}
        },
        {
          "output_type": "display_data",
          "data": {
            "text/plain": [
              "Downloading:   0%|          | 0.00/1.34G [00:00<?, ?B/s]"
            ],
            "application/vnd.jupyter.widget-view+json": {
              "version_major": 2,
              "version_minor": 0,
              "model_id": "8a3d2dfa37344aa0a4ad27f4326f2254"
            }
          },
          "metadata": {}
        },
        {
          "output_type": "stream",
          "name": "stderr",
          "text": [
            "Some weights of the model checkpoint at neuralmind/bert-large-portuguese-cased were not used when initializing BertForSequenceClassification: ['cls.seq_relationship.weight', 'cls.predictions.transform.dense.bias', 'cls.predictions.transform.LayerNorm.weight', 'cls.seq_relationship.bias', 'cls.predictions.bias', 'cls.predictions.transform.dense.weight', 'cls.predictions.transform.LayerNorm.bias', 'cls.predictions.decoder.weight']\n",
            "- This IS expected if you are initializing BertForSequenceClassification from the checkpoint of a model trained on another task or with another architecture (e.g. initializing a BertForSequenceClassification model from a BertForPreTraining model).\n",
            "- This IS NOT expected if you are initializing BertForSequenceClassification from the checkpoint of a model that you expect to be exactly identical (initializing a BertForSequenceClassification model from a BertForSequenceClassification model).\n",
            "Some weights of BertForSequenceClassification were not initialized from the model checkpoint at neuralmind/bert-large-portuguese-cased and are newly initialized: ['classifier.bias', 'classifier.weight']\n",
            "You should probably TRAIN this model on a down-stream task to be able to use it for predictions and inference.\n"
          ]
        }
      ]
    },
    {
      "cell_type": "markdown",
      "metadata": {
        "id": "-4XlMiF43y56"
      },
      "source": [
        "Definindo a função de avaliação do modelo"
      ]
    },
    {
      "cell_type": "code",
      "metadata": {
        "id": "AbiO9x2E81CS"
      },
      "source": [
        "def evaluate(model, validationdata):\n",
        "  \"\"\"\n",
        "  avalia o desempenho do modelo que está sendo treinado baseado nos dados de validacao\n",
        "  \"\"\"\n",
        "  model.eval()\n",
        "  y_real, y_pred = [], []\n",
        "  for batch_idx, inp in enumerate(validationdata): # passa por cada batch dos dados de teste, batch_idx é o número da batch, inp contem o texto e o label\n",
        "    texts, labels = inp['X'], inp['y']\n",
        "    \n",
        "    # instancia o tokenizador enviando os textos dos comentarios\n",
        "    inputs = tokenizer(texts, return_tensors='pt', padding=True, truncation=True, max_length=max_length).to(device)\n",
        "    # instancia o modelo enviando os tokens e salvando as classificações preditas\n",
        "    output = model(**inputs)\n",
        "    \n",
        "    # cria um tensor com os labels preditos no output\n",
        "    pred_labels = torch.argmax(output.logits, 1)\n",
        "\n",
        "    # print(f\"texto: {texts}, rótulo correto: {labels}, predito pelo modelo: {pred_labels}\") # imprime a frase, o resultado correto e o predito\n",
        "    \n",
        "    # adiciona cada novo label às listas y_real e y_pred(ito)\n",
        "    y_real.extend(labels.tolist())\n",
        "    y_pred.extend(pred_labels.tolist())\n",
        "    \n",
        "    # a cada certa quantidade de itens preditos, printa a % de progresso e o número de itens preditos\n",
        "    if (batch_idx+1) % batch_status == 0:\n",
        "      print('Progress:', round(batch_idx / len(testdata), 2), batch_idx)\n",
        "  \n",
        "  # chama o classification_report do scikitlearn para calcular o resultado após predizer todas as linhas de teste\n",
        "  print(classification_report(y_real, y_pred, labels=[0, 1, 2], target_names=['Negative', 'Neural', 'Positive'])) # identifica os labels 0, 1 e 2 como negativo, neutro e positivo\n",
        "  # retorna f1 e acurácia\n",
        "  f1 = f1_score(y_real, y_pred, average='weighted')\n",
        "  acc = accuracy_score(y_real, y_pred)\n",
        "  return f1, acc"
      ],
      "execution_count": 19,
      "outputs": []
    },
    {
      "cell_type": "markdown",
      "metadata": {
        "id": "BfoYwmza39MJ"
      },
      "source": [
        "Treinamento"
      ]
    },
    {
      "cell_type": "code",
      "metadata": {
        "id": "rRiZCQnO9hE1",
        "colab": {
          "base_uri": "https://localhost:8080/"
        },
        "outputId": "09c8cfe7-9e15-46e8-8166-1d791f4a065d"
      },
      "source": [
        "max_f1, repeat = 0, 0\n",
        "\n",
        "#  passa por todas as épocas de treino\n",
        "for epoch in range(nepochs):\n",
        "  model.train()\n",
        "  #avalia o modelo antes de iniciar a 1a época\n",
        "  f1, acc = evaluate(model, testdata)\n",
        "  losses = []\n",
        "\n",
        "  for batch_idx, inp in enumerate(traindata): # passa por cada batch dos dados de teste, batch_idx é o número da batch, inp contem o texto e o label\n",
        "    texts, labels = inp['X'], inp['y']\n",
        "\n",
        "    # instancia o tokenizador enviando os textos dos comentarios\n",
        "    inputs = tokenizer(texts, return_tensors='pt', padding=True, truncation=True, max_length=max_length).to(device)\n",
        "    # zera os gradientes acumulados em buffer \n",
        "    optimizer.zero_grad()\n",
        "    # instancia o modelo enviando os tokens e salvando as classificações preditas\n",
        "    output = model(**inputs, labels=labels.to(device))\n",
        "\n",
        "    # calcula a perda\n",
        "    loss = output.loss\n",
        "    losses.append(float(loss))\n",
        "\n",
        "    # faz o Backpropagation no modelo- com o otimizador definido anteriormente (AdamW)\n",
        "    loss.backward()\n",
        "    optimizer.step()\n",
        "\n",
        "    # mostra o andamento do treinamento\n",
        "    if (batch_idx+1) % batch_status == 0:\n",
        "      print('Train Epoch: {} [{}/{} ({:.0f}%)]\\tLoss: {:.6f}\\tTotal Loss: {:.6f}'.format(\\\n",
        "        epoch, # número da época\n",
        "        batch_idx+1, # número do batch\n",
        "        len(traindata), # número total de dados de treino\n",
        "        100. * batch_idx / len(traindata), # % de dados treinados\n",
        "        float(loss), # perda atual\n",
        "        round(sum(losses) / len(losses), 5) # perda acumulada\n",
        "        ))\n",
        "\n",
        "  # se passou a 1a época, descongela os pesos do Bert pretreinado\n",
        "  if epoch == 0: \n",
        "    for param in model.base_model.parameters():\n",
        "        param.requires_grad = True\n",
        "\n",
        "  # ao terminar cada época, avalia o modelo\n",
        "  f1, acc = evaluate(model, testdata)\n",
        "  print('F1: ', f1, 'Accuracy: ', acc)\n",
        "\n",
        "  # salva o modelo se f1 melhorou em relação à epoch anterior\n",
        "  if f1 > max_f1:\n",
        "    model.save_pretrained(os.path.join(write_path, 'model'))\n",
        "    max_f1 = f1\n",
        "    repeat = 0\n",
        "    print('Saving best model...')\n",
        "  else:\n",
        "    repeat += 1\n",
        "  \n",
        "  # se por duas épocas o f1 não melhorou, para de treinar o modelo\n",
        "  if repeat == early_stop:\n",
        "    break"
      ],
      "execution_count": 20,
      "outputs": [
        {
          "output_type": "stream",
          "name": "stdout",
          "text": [
            "Progress: 0.17 7\n",
            "Progress: 0.38 15\n",
            "Progress: 0.57 23\n",
            "Progress: 0.78 31\n",
            "Progress: 0.97 39\n",
            "              precision    recall  f1-score   support\n",
            "\n",
            "    Negative       0.45      0.94      0.61        18\n",
            "      Neural       0.00      0.00      0.00         8\n",
            "    Positive       1.00      0.07      0.13        14\n",
            "\n",
            "    accuracy                           0.45        40\n",
            "   macro avg       0.48      0.34      0.25        40\n",
            "weighted avg       0.55      0.45      0.32        40\n",
            "\n",
            "Train Epoch: 0 [8/328 (2%)]\tLoss: 1.242989\tTotal Loss: 1.069520\n",
            "Train Epoch: 0 [16/328 (5%)]\tLoss: 0.826056\tTotal Loss: 1.091840\n",
            "Train Epoch: 0 [24/328 (7%)]\tLoss: 1.460290\tTotal Loss: 1.120520\n",
            "Train Epoch: 0 [32/328 (9%)]\tLoss: 1.616707\tTotal Loss: 1.117250\n",
            "Train Epoch: 0 [40/328 (12%)]\tLoss: 0.952449\tTotal Loss: 1.098860\n",
            "Train Epoch: 0 [48/328 (14%)]\tLoss: 1.131526\tTotal Loss: 1.100010\n",
            "Train Epoch: 0 [56/328 (17%)]\tLoss: 1.319165\tTotal Loss: 1.111100\n",
            "Train Epoch: 0 [64/328 (19%)]\tLoss: 1.213626\tTotal Loss: 1.115500\n",
            "Train Epoch: 0 [72/328 (22%)]\tLoss: 1.185483\tTotal Loss: 1.117910\n",
            "Train Epoch: 0 [80/328 (24%)]\tLoss: 0.953126\tTotal Loss: 1.114330\n",
            "Train Epoch: 0 [88/328 (27%)]\tLoss: 0.945945\tTotal Loss: 1.108570\n",
            "Train Epoch: 0 [96/328 (29%)]\tLoss: 0.926878\tTotal Loss: 1.106300\n",
            "Train Epoch: 0 [104/328 (31%)]\tLoss: 1.184030\tTotal Loss: 1.108960\n",
            "Train Epoch: 0 [112/328 (34%)]\tLoss: 1.380503\tTotal Loss: 1.116460\n",
            "Train Epoch: 0 [120/328 (36%)]\tLoss: 1.124747\tTotal Loss: 1.122280\n",
            "Train Epoch: 0 [128/328 (39%)]\tLoss: 1.309130\tTotal Loss: 1.128150\n",
            "Train Epoch: 0 [136/328 (41%)]\tLoss: 0.831872\tTotal Loss: 1.130430\n",
            "Train Epoch: 0 [144/328 (44%)]\tLoss: 1.226611\tTotal Loss: 1.134060\n",
            "Train Epoch: 0 [152/328 (46%)]\tLoss: 1.172178\tTotal Loss: 1.131710\n",
            "Train Epoch: 0 [160/328 (48%)]\tLoss: 1.458880\tTotal Loss: 1.127780\n",
            "Train Epoch: 0 [168/328 (51%)]\tLoss: 0.939741\tTotal Loss: 1.126670\n",
            "Train Epoch: 0 [176/328 (53%)]\tLoss: 0.917087\tTotal Loss: 1.124230\n",
            "Train Epoch: 0 [184/328 (56%)]\tLoss: 1.052118\tTotal Loss: 1.127410\n",
            "Train Epoch: 0 [192/328 (58%)]\tLoss: 0.909497\tTotal Loss: 1.128510\n",
            "Train Epoch: 0 [200/328 (61%)]\tLoss: 1.041476\tTotal Loss: 1.125380\n",
            "Train Epoch: 0 [208/328 (63%)]\tLoss: 0.865953\tTotal Loss: 1.125340\n",
            "Train Epoch: 0 [216/328 (66%)]\tLoss: 0.876108\tTotal Loss: 1.124760\n",
            "Train Epoch: 0 [224/328 (68%)]\tLoss: 1.556473\tTotal Loss: 1.126410\n",
            "Train Epoch: 0 [232/328 (70%)]\tLoss: 1.358745\tTotal Loss: 1.129080\n",
            "Train Epoch: 0 [240/328 (73%)]\tLoss: 0.989723\tTotal Loss: 1.128770\n",
            "Train Epoch: 0 [248/328 (75%)]\tLoss: 1.109256\tTotal Loss: 1.130070\n",
            "Train Epoch: 0 [256/328 (78%)]\tLoss: 0.858171\tTotal Loss: 1.127860\n",
            "Train Epoch: 0 [264/328 (80%)]\tLoss: 1.018561\tTotal Loss: 1.125650\n",
            "Train Epoch: 0 [272/328 (83%)]\tLoss: 1.052909\tTotal Loss: 1.120970\n",
            "Train Epoch: 0 [280/328 (85%)]\tLoss: 1.268071\tTotal Loss: 1.121750\n",
            "Train Epoch: 0 [288/328 (88%)]\tLoss: 1.472473\tTotal Loss: 1.123100\n",
            "Train Epoch: 0 [296/328 (90%)]\tLoss: 0.974814\tTotal Loss: 1.120980\n",
            "Train Epoch: 0 [304/328 (92%)]\tLoss: 1.328526\tTotal Loss: 1.120160\n",
            "Train Epoch: 0 [312/328 (95%)]\tLoss: 1.196733\tTotal Loss: 1.121920\n",
            "Train Epoch: 0 [320/328 (97%)]\tLoss: 1.005977\tTotal Loss: 1.122540\n",
            "Train Epoch: 0 [328/328 (100%)]\tLoss: 1.000353\tTotal Loss: 1.120530\n",
            "Progress: 0.17 7\n",
            "Progress: 0.38 15\n",
            "Progress: 0.57 23\n",
            "Progress: 0.78 31\n",
            "Progress: 0.97 39\n",
            "              precision    recall  f1-score   support\n",
            "\n",
            "    Negative       0.45      1.00      0.62        18\n",
            "      Neural       0.00      0.00      0.00         8\n",
            "    Positive       0.00      0.00      0.00        14\n",
            "\n",
            "    accuracy                           0.45        40\n",
            "   macro avg       0.15      0.33      0.21        40\n",
            "weighted avg       0.20      0.45      0.28        40\n",
            "\n",
            "F1:  0.2793103448275862 Accuracy:  0.45\n"
          ]
        },
        {
          "output_type": "stream",
          "name": "stderr",
          "text": [
            "/usr/local/lib/python3.7/dist-packages/sklearn/metrics/_classification.py:1318: UndefinedMetricWarning: Precision and F-score are ill-defined and being set to 0.0 in labels with no predicted samples. Use `zero_division` parameter to control this behavior.\n",
            "  _warn_prf(average, modifier, msg_start, len(result))\n",
            "/usr/local/lib/python3.7/dist-packages/sklearn/metrics/_classification.py:1318: UndefinedMetricWarning: Precision and F-score are ill-defined and being set to 0.0 in labels with no predicted samples. Use `zero_division` parameter to control this behavior.\n",
            "  _warn_prf(average, modifier, msg_start, len(result))\n",
            "/usr/local/lib/python3.7/dist-packages/sklearn/metrics/_classification.py:1318: UndefinedMetricWarning: Precision and F-score are ill-defined and being set to 0.0 in labels with no predicted samples. Use `zero_division` parameter to control this behavior.\n",
            "  _warn_prf(average, modifier, msg_start, len(result))\n"
          ]
        },
        {
          "output_type": "stream",
          "name": "stdout",
          "text": [
            "Saving best model...\n",
            "Progress: 0.17 7\n",
            "Progress: 0.38 15\n",
            "Progress: 0.57 23\n",
            "Progress: 0.78 31\n",
            "Progress: 0.97 39\n",
            "              precision    recall  f1-score   support\n",
            "\n",
            "    Negative       0.45      1.00      0.62        18\n",
            "      Neural       0.00      0.00      0.00         8\n",
            "    Positive       0.00      0.00      0.00        14\n",
            "\n",
            "    accuracy                           0.45        40\n",
            "   macro avg       0.15      0.33      0.21        40\n",
            "weighted avg       0.20      0.45      0.28        40\n",
            "\n"
          ]
        },
        {
          "output_type": "stream",
          "name": "stderr",
          "text": [
            "/usr/local/lib/python3.7/dist-packages/sklearn/metrics/_classification.py:1318: UndefinedMetricWarning: Precision and F-score are ill-defined and being set to 0.0 in labels with no predicted samples. Use `zero_division` parameter to control this behavior.\n",
            "  _warn_prf(average, modifier, msg_start, len(result))\n",
            "/usr/local/lib/python3.7/dist-packages/sklearn/metrics/_classification.py:1318: UndefinedMetricWarning: Precision and F-score are ill-defined and being set to 0.0 in labels with no predicted samples. Use `zero_division` parameter to control this behavior.\n",
            "  _warn_prf(average, modifier, msg_start, len(result))\n",
            "/usr/local/lib/python3.7/dist-packages/sklearn/metrics/_classification.py:1318: UndefinedMetricWarning: Precision and F-score are ill-defined and being set to 0.0 in labels with no predicted samples. Use `zero_division` parameter to control this behavior.\n",
            "  _warn_prf(average, modifier, msg_start, len(result))\n"
          ]
        },
        {
          "output_type": "stream",
          "name": "stdout",
          "text": [
            "Train Epoch: 1 [8/328 (2%)]\tLoss: 0.947948\tTotal Loss: 1.056610\n",
            "Train Epoch: 1 [16/328 (5%)]\tLoss: 0.887169\tTotal Loss: 1.057380\n",
            "Train Epoch: 1 [24/328 (7%)]\tLoss: 0.846612\tTotal Loss: 1.047750\n",
            "Train Epoch: 1 [32/328 (9%)]\tLoss: 0.631317\tTotal Loss: 1.013260\n",
            "Train Epoch: 1 [40/328 (12%)]\tLoss: 0.623015\tTotal Loss: 0.991950\n",
            "Train Epoch: 1 [48/328 (14%)]\tLoss: 1.516221\tTotal Loss: 1.048480\n",
            "Train Epoch: 1 [56/328 (17%)]\tLoss: 1.574776\tTotal Loss: 1.085330\n",
            "Train Epoch: 1 [64/328 (19%)]\tLoss: 0.908880\tTotal Loss: 1.076480\n",
            "Train Epoch: 1 [72/328 (22%)]\tLoss: 0.635398\tTotal Loss: 1.072680\n",
            "Train Epoch: 1 [80/328 (24%)]\tLoss: 0.615159\tTotal Loss: 1.088450\n",
            "Train Epoch: 1 [88/328 (27%)]\tLoss: 0.316630\tTotal Loss: 1.067080\n",
            "Train Epoch: 1 [96/328 (29%)]\tLoss: 0.704852\tTotal Loss: 1.054830\n",
            "Train Epoch: 1 [104/328 (31%)]\tLoss: 1.414070\tTotal Loss: 1.064160\n",
            "Train Epoch: 1 [112/328 (34%)]\tLoss: 0.821213\tTotal Loss: 1.055770\n",
            "Train Epoch: 1 [120/328 (36%)]\tLoss: 2.175046\tTotal Loss: 1.067450\n",
            "Train Epoch: 1 [128/328 (39%)]\tLoss: 0.554919\tTotal Loss: 1.069460\n",
            "Train Epoch: 1 [136/328 (41%)]\tLoss: 1.205169\tTotal Loss: 1.068600\n",
            "Train Epoch: 1 [144/328 (44%)]\tLoss: 0.395245\tTotal Loss: 1.056860\n",
            "Train Epoch: 1 [152/328 (46%)]\tLoss: 0.895401\tTotal Loss: 1.049260\n",
            "Train Epoch: 1 [160/328 (48%)]\tLoss: 2.902159\tTotal Loss: 1.066030\n",
            "Train Epoch: 1 [168/328 (51%)]\tLoss: 1.180409\tTotal Loss: 1.086720\n",
            "Train Epoch: 1 [176/328 (53%)]\tLoss: 0.674170\tTotal Loss: 1.089680\n",
            "Train Epoch: 1 [184/328 (56%)]\tLoss: 0.789187\tTotal Loss: 1.098400\n",
            "Train Epoch: 1 [192/328 (58%)]\tLoss: 1.666983\tTotal Loss: 1.104070\n",
            "Train Epoch: 1 [200/328 (61%)]\tLoss: 0.843150\tTotal Loss: 1.089820\n",
            "Train Epoch: 1 [208/328 (63%)]\tLoss: 1.517088\tTotal Loss: 1.085820\n",
            "Train Epoch: 1 [216/328 (66%)]\tLoss: 0.776937\tTotal Loss: 1.088260\n",
            "Train Epoch: 1 [224/328 (68%)]\tLoss: 0.853632\tTotal Loss: 1.089150\n",
            "Train Epoch: 1 [232/328 (70%)]\tLoss: 1.437748\tTotal Loss: 1.093510\n",
            "Train Epoch: 1 [240/328 (73%)]\tLoss: 0.922890\tTotal Loss: 1.084100\n",
            "Train Epoch: 1 [248/328 (75%)]\tLoss: 0.368414\tTotal Loss: 1.078910\n",
            "Train Epoch: 1 [256/328 (78%)]\tLoss: 0.622455\tTotal Loss: 1.071890\n",
            "Train Epoch: 1 [264/328 (80%)]\tLoss: 0.874253\tTotal Loss: 1.069980\n",
            "Train Epoch: 1 [272/328 (83%)]\tLoss: 0.825351\tTotal Loss: 1.069470\n",
            "Train Epoch: 1 [280/328 (85%)]\tLoss: 1.318039\tTotal Loss: 1.062280\n",
            "Train Epoch: 1 [288/328 (88%)]\tLoss: 0.498564\tTotal Loss: 1.054010\n",
            "Train Epoch: 1 [296/328 (90%)]\tLoss: 0.389903\tTotal Loss: 1.048530\n",
            "Train Epoch: 1 [304/328 (92%)]\tLoss: 0.820527\tTotal Loss: 1.046230\n",
            "Train Epoch: 1 [312/328 (95%)]\tLoss: 0.343371\tTotal Loss: 1.046250\n",
            "Train Epoch: 1 [320/328 (97%)]\tLoss: 1.225304\tTotal Loss: 1.049860\n",
            "Train Epoch: 1 [328/328 (100%)]\tLoss: 0.843437\tTotal Loss: 1.042790\n",
            "Progress: 0.17 7\n",
            "Progress: 0.38 15\n",
            "Progress: 0.57 23\n",
            "Progress: 0.78 31\n",
            "Progress: 0.97 39\n",
            "              precision    recall  f1-score   support\n",
            "\n",
            "    Negative       0.83      0.83      0.83        18\n",
            "      Neural       0.50      0.62      0.56         8\n",
            "    Positive       0.75      0.64      0.69        14\n",
            "\n",
            "    accuracy                           0.73        40\n",
            "   macro avg       0.69      0.70      0.69        40\n",
            "weighted avg       0.74      0.72      0.73        40\n",
            "\n",
            "F1:  0.7284188034188034 Accuracy:  0.725\n",
            "Saving best model...\n",
            "Progress: 0.17 7\n",
            "Progress: 0.38 15\n",
            "Progress: 0.57 23\n",
            "Progress: 0.78 31\n",
            "Progress: 0.97 39\n",
            "              precision    recall  f1-score   support\n",
            "\n",
            "    Negative       0.83      0.83      0.83        18\n",
            "      Neural       0.50      0.62      0.56         8\n",
            "    Positive       0.75      0.64      0.69        14\n",
            "\n",
            "    accuracy                           0.73        40\n",
            "   macro avg       0.69      0.70      0.69        40\n",
            "weighted avg       0.74      0.72      0.73        40\n",
            "\n",
            "Train Epoch: 2 [8/328 (2%)]\tLoss: 0.382962\tTotal Loss: 0.430100\n",
            "Train Epoch: 2 [16/328 (5%)]\tLoss: 0.797438\tTotal Loss: 0.731200\n",
            "Train Epoch: 2 [24/328 (7%)]\tLoss: 1.195749\tTotal Loss: 0.707390\n",
            "Train Epoch: 2 [32/328 (9%)]\tLoss: 0.494432\tTotal Loss: 0.714960\n",
            "Train Epoch: 2 [40/328 (12%)]\tLoss: 0.411747\tTotal Loss: 0.673260\n",
            "Train Epoch: 2 [48/328 (14%)]\tLoss: 0.362661\tTotal Loss: 0.624260\n",
            "Train Epoch: 2 [56/328 (17%)]\tLoss: 0.471636\tTotal Loss: 0.605740\n",
            "Train Epoch: 2 [64/328 (19%)]\tLoss: 0.525053\tTotal Loss: 0.635700\n",
            "Train Epoch: 2 [72/328 (22%)]\tLoss: 0.387872\tTotal Loss: 0.628320\n",
            "Train Epoch: 2 [80/328 (24%)]\tLoss: 0.426237\tTotal Loss: 0.629390\n",
            "Train Epoch: 2 [88/328 (27%)]\tLoss: 0.290695\tTotal Loss: 0.643680\n",
            "Train Epoch: 2 [96/328 (29%)]\tLoss: 0.442410\tTotal Loss: 0.625570\n",
            "Train Epoch: 2 [104/328 (31%)]\tLoss: 1.182883\tTotal Loss: 0.644000\n",
            "Train Epoch: 2 [112/328 (34%)]\tLoss: 0.385057\tTotal Loss: 0.633810\n",
            "Train Epoch: 2 [120/328 (36%)]\tLoss: 0.127850\tTotal Loss: 0.627750\n",
            "Train Epoch: 2 [128/328 (39%)]\tLoss: 0.671447\tTotal Loss: 0.612500\n",
            "Train Epoch: 2 [136/328 (41%)]\tLoss: 0.337870\tTotal Loss: 0.608040\n",
            "Train Epoch: 2 [144/328 (44%)]\tLoss: 1.170255\tTotal Loss: 0.605820\n",
            "Train Epoch: 2 [152/328 (46%)]\tLoss: 1.564135\tTotal Loss: 0.616170\n",
            "Train Epoch: 2 [160/328 (48%)]\tLoss: 0.150074\tTotal Loss: 0.600730\n",
            "Train Epoch: 2 [168/328 (51%)]\tLoss: 0.149254\tTotal Loss: 0.588180\n",
            "Train Epoch: 2 [176/328 (53%)]\tLoss: 0.369695\tTotal Loss: 0.570900\n",
            "Train Epoch: 2 [184/328 (56%)]\tLoss: 0.635764\tTotal Loss: 0.578370\n",
            "Train Epoch: 2 [192/328 (58%)]\tLoss: 0.052958\tTotal Loss: 0.604880\n",
            "Train Epoch: 2 [200/328 (61%)]\tLoss: 0.364129\tTotal Loss: 0.606960\n",
            "Train Epoch: 2 [208/328 (63%)]\tLoss: 1.099243\tTotal Loss: 0.613150\n",
            "Train Epoch: 2 [216/328 (66%)]\tLoss: 0.046567\tTotal Loss: 0.597440\n",
            "Train Epoch: 2 [224/328 (68%)]\tLoss: 0.160991\tTotal Loss: 0.595220\n",
            "Train Epoch: 2 [232/328 (70%)]\tLoss: 0.840005\tTotal Loss: 0.603550\n",
            "Train Epoch: 2 [240/328 (73%)]\tLoss: 0.532323\tTotal Loss: 0.614340\n",
            "Train Epoch: 2 [248/328 (75%)]\tLoss: 0.322314\tTotal Loss: 0.617920\n",
            "Train Epoch: 2 [256/328 (78%)]\tLoss: 0.572035\tTotal Loss: 0.615910\n",
            "Train Epoch: 2 [264/328 (80%)]\tLoss: 0.328638\tTotal Loss: 0.614460\n",
            "Train Epoch: 2 [272/328 (83%)]\tLoss: 0.291360\tTotal Loss: 0.610820\n",
            "Train Epoch: 2 [280/328 (85%)]\tLoss: 0.821225\tTotal Loss: 0.620830\n",
            "Train Epoch: 2 [288/328 (88%)]\tLoss: 1.805847\tTotal Loss: 0.617350\n",
            "Train Epoch: 2 [296/328 (90%)]\tLoss: 0.652213\tTotal Loss: 0.620180\n",
            "Train Epoch: 2 [304/328 (92%)]\tLoss: 1.088480\tTotal Loss: 0.619970\n",
            "Train Epoch: 2 [312/328 (95%)]\tLoss: 0.296511\tTotal Loss: 0.619930\n",
            "Train Epoch: 2 [320/328 (97%)]\tLoss: 0.059020\tTotal Loss: 0.615650\n",
            "Train Epoch: 2 [328/328 (100%)]\tLoss: 0.563274\tTotal Loss: 0.618570\n",
            "Progress: 0.17 7\n",
            "Progress: 0.38 15\n",
            "Progress: 0.57 23\n",
            "Progress: 0.78 31\n",
            "Progress: 0.97 39\n",
            "              precision    recall  f1-score   support\n",
            "\n",
            "    Negative       0.73      0.61      0.67        18\n",
            "      Neural       0.33      0.62      0.43         8\n",
            "    Positive       0.80      0.57      0.67        14\n",
            "\n",
            "    accuracy                           0.60        40\n",
            "   macro avg       0.62      0.60      0.59        40\n",
            "weighted avg       0.68      0.60      0.62        40\n",
            "\n",
            "F1:  0.6202898550724637 Accuracy:  0.6\n",
            "Progress: 0.17 7\n",
            "Progress: 0.38 15\n",
            "Progress: 0.57 23\n",
            "Progress: 0.78 31\n",
            "Progress: 0.97 39\n",
            "              precision    recall  f1-score   support\n",
            "\n",
            "    Negative       0.73      0.61      0.67        18\n",
            "      Neural       0.33      0.62      0.43         8\n",
            "    Positive       0.80      0.57      0.67        14\n",
            "\n",
            "    accuracy                           0.60        40\n",
            "   macro avg       0.62      0.60      0.59        40\n",
            "weighted avg       0.68      0.60      0.62        40\n",
            "\n",
            "Train Epoch: 3 [8/328 (2%)]\tLoss: 0.123904\tTotal Loss: 0.163540\n",
            "Train Epoch: 3 [16/328 (5%)]\tLoss: 0.146140\tTotal Loss: 0.229450\n",
            "Train Epoch: 3 [24/328 (7%)]\tLoss: 0.060918\tTotal Loss: 0.237700\n",
            "Train Epoch: 3 [32/328 (9%)]\tLoss: 0.118446\tTotal Loss: 0.262810\n",
            "Train Epoch: 3 [40/328 (12%)]\tLoss: 0.090439\tTotal Loss: 0.244800\n",
            "Train Epoch: 3 [48/328 (14%)]\tLoss: 1.007360\tTotal Loss: 0.259820\n",
            "Train Epoch: 3 [56/328 (17%)]\tLoss: 0.220906\tTotal Loss: 0.244990\n",
            "Train Epoch: 3 [64/328 (19%)]\tLoss: 0.065236\tTotal Loss: 0.283960\n",
            "Train Epoch: 3 [72/328 (22%)]\tLoss: 0.040394\tTotal Loss: 0.277270\n",
            "Train Epoch: 3 [80/328 (24%)]\tLoss: 0.157226\tTotal Loss: 0.267100\n",
            "Train Epoch: 3 [88/328 (27%)]\tLoss: 0.080174\tTotal Loss: 0.248730\n",
            "Train Epoch: 3 [96/328 (29%)]\tLoss: 0.050174\tTotal Loss: 0.246980\n",
            "Train Epoch: 3 [104/328 (31%)]\tLoss: 0.199226\tTotal Loss: 0.240150\n",
            "Train Epoch: 3 [112/328 (34%)]\tLoss: 0.045433\tTotal Loss: 0.272340\n",
            "Train Epoch: 3 [120/328 (36%)]\tLoss: 0.032836\tTotal Loss: 0.258390\n",
            "Train Epoch: 3 [128/328 (39%)]\tLoss: 0.173673\tTotal Loss: 0.250890\n",
            "Train Epoch: 3 [136/328 (41%)]\tLoss: 0.458691\tTotal Loss: 0.246980\n",
            "Train Epoch: 3 [144/328 (44%)]\tLoss: 0.953577\tTotal Loss: 0.242110\n",
            "Train Epoch: 3 [152/328 (46%)]\tLoss: 0.025484\tTotal Loss: 0.232990\n",
            "Train Epoch: 3 [160/328 (48%)]\tLoss: 0.025861\tTotal Loss: 0.225720\n",
            "Train Epoch: 3 [168/328 (51%)]\tLoss: 0.041833\tTotal Loss: 0.216960\n",
            "Train Epoch: 3 [176/328 (53%)]\tLoss: 0.191880\tTotal Loss: 0.210520\n",
            "Train Epoch: 3 [184/328 (56%)]\tLoss: 0.107899\tTotal Loss: 0.214610\n",
            "Train Epoch: 3 [192/328 (58%)]\tLoss: 0.014897\tTotal Loss: 0.209370\n",
            "Train Epoch: 3 [200/328 (61%)]\tLoss: 0.415254\tTotal Loss: 0.205020\n",
            "Train Epoch: 3 [208/328 (63%)]\tLoss: 0.045716\tTotal Loss: 0.220060\n",
            "Train Epoch: 3 [216/328 (66%)]\tLoss: 0.058178\tTotal Loss: 0.215200\n",
            "Train Epoch: 3 [224/328 (68%)]\tLoss: 0.032348\tTotal Loss: 0.211000\n",
            "Train Epoch: 3 [232/328 (70%)]\tLoss: 0.027100\tTotal Loss: 0.206910\n",
            "Train Epoch: 3 [240/328 (73%)]\tLoss: 0.059543\tTotal Loss: 0.214190\n",
            "Train Epoch: 3 [248/328 (75%)]\tLoss: 0.070346\tTotal Loss: 0.208220\n",
            "Train Epoch: 3 [256/328 (78%)]\tLoss: 0.016397\tTotal Loss: 0.221100\n",
            "Train Epoch: 3 [264/328 (80%)]\tLoss: 0.011240\tTotal Loss: 0.217700\n",
            "Train Epoch: 3 [272/328 (83%)]\tLoss: 0.013310\tTotal Loss: 0.216250\n",
            "Train Epoch: 3 [280/328 (85%)]\tLoss: 0.011401\tTotal Loss: 0.216850\n",
            "Train Epoch: 3 [288/328 (88%)]\tLoss: 0.011193\tTotal Loss: 0.222190\n",
            "Train Epoch: 3 [296/328 (90%)]\tLoss: 0.146762\tTotal Loss: 0.219620\n",
            "Train Epoch: 3 [304/328 (92%)]\tLoss: 0.020502\tTotal Loss: 0.225730\n",
            "Train Epoch: 3 [312/328 (95%)]\tLoss: 0.021870\tTotal Loss: 0.221390\n",
            "Train Epoch: 3 [320/328 (97%)]\tLoss: 0.543514\tTotal Loss: 0.223630\n",
            "Train Epoch: 3 [328/328 (100%)]\tLoss: 0.172416\tTotal Loss: 0.226680\n",
            "Progress: 0.17 7\n",
            "Progress: 0.38 15\n",
            "Progress: 0.57 23\n",
            "Progress: 0.78 31\n",
            "Progress: 0.97 39\n",
            "              precision    recall  f1-score   support\n",
            "\n",
            "    Negative       0.82      0.50      0.62        18\n",
            "      Neural       0.86      0.75      0.80         8\n",
            "    Positive       0.55      0.86      0.67        14\n",
            "\n",
            "    accuracy                           0.68        40\n",
            "   macro avg       0.74      0.70      0.70        40\n",
            "weighted avg       0.73      0.68      0.67        40\n",
            "\n",
            "F1:  0.6726436781609195 Accuracy:  0.675\n"
          ]
        }
      ]
    },
    {
      "cell_type": "code",
      "source": [
        "# avaliação final do modelo nos dados de teste\n",
        "with torch.no_grad():\n",
        "  model.eval()\n",
        "  y_real, y_pred = [], []\n",
        "  for batch_idx, inp in enumerate(testdata): # passa por cada batch dos dados de teste, batch_idx é o número da batch, inp contem o texto e o label\n",
        "    texts, labels = inp['X'], inp['y']\n",
        "    \n",
        "    # instancia o tokenizador enviando os textos dos comentarios\n",
        "    inputs = tokenizer(texts, return_tensors='pt', padding=True, truncation=True, max_length=max_length).to(device)\n",
        "    # instancia o modelo enviando os tokens e salvando as classificações preditas\n",
        "    output = model(**inputs)\n",
        "    \n",
        "    # cria um tensor com os labels preditos no output\n",
        "    pred_labels = torch.argmax(output.logits, 1)\n",
        "\n",
        "    # print(f\"texto: {texts}, rótulo correto: {labels}, predito pelo modelo: {pred_labels}\") # imprime a frase, o resultado correto e o predito\n",
        "    \n",
        "    # adiciona cada novo label às listas y_real e y_pred(ito)\n",
        "    y_real.extend(labels.tolist())\n",
        "    y_pred.extend(pred_labels.tolist())\n",
        "    \n",
        "    # a cada certa quantidade de itens preditos, printa a % de progresso e o número de itens preditos\n",
        "    if (batch_idx+1) % batch_status == 0:\n",
        "      print('Progress:', round(batch_idx / len(testdata), 2), batch_idx)\n",
        "  \n",
        "  # chama o classification_report do scikitlearn para calcular o resultado após predizer todas as linhas de teste\n",
        "  print(classification_report(y_real, y_pred, labels=[0, 1, 2], target_names=['Negative', 'Neural', 'Positive'])) # identifica os labels 0, 1 e 2 como negativo, neutro e positivo\n",
        "  # mostra f1 e acurácia\n",
        "  print(\"avaliação nos dados de teste\")\n",
        "  print(\"f1: \", f1_score(y_real, y_pred, average='weighted'))\n",
        "  print(\"acurácia: \", accuracy_score(y_real, y_pred))"
      ],
      "metadata": {
        "colab": {
          "base_uri": "https://localhost:8080/"
        },
        "id": "isn1BaR-pJDt",
        "outputId": "68c59508-5ed8-4f26-8626-22094a9de320"
      },
      "execution_count": 21,
      "outputs": [
        {
          "output_type": "stream",
          "name": "stdout",
          "text": [
            "Progress: 0.17 7\n",
            "Progress: 0.38 15\n",
            "Progress: 0.57 23\n",
            "Progress: 0.78 31\n",
            "Progress: 0.97 39\n",
            "              precision    recall  f1-score   support\n",
            "\n",
            "    Negative       0.82      0.50      0.62        18\n",
            "      Neural       0.86      0.75      0.80         8\n",
            "    Positive       0.55      0.86      0.67        14\n",
            "\n",
            "    accuracy                           0.68        40\n",
            "   macro avg       0.74      0.70      0.70        40\n",
            "weighted avg       0.73      0.68      0.67        40\n",
            "\n",
            "avaliação nos dados de teste\n",
            "f1:  0.6726436781609195\n",
            "acurácia:  0.675\n"
          ]
        }
      ]
    },
    {
      "cell_type": "code",
      "source": [
        "texts = \"lula é horrível\"\n",
        "\n",
        "# instancia o tokenizador enviando os textos dos comentarios\n",
        "inputs = tokenizer(texts, return_tensors='pt', padding=True, truncation=True, max_length=max_length).to(device)\n",
        "# instancia o modelo enviando os tokens e salvando as classificações preditas\n",
        "output = model(**inputs)\n",
        "\n",
        "# cria um tensor com os labels preditos no output\n",
        "pred_labels = torch.argmax(output.logits, 1)\n",
        "\n",
        "print(f\"texto: {texts}, rótulo predito pelo modelo: {pred_labels}\") # imprime a frase, o resultado correto e o predito"
      ],
      "metadata": {
        "colab": {
          "base_uri": "https://localhost:8080/"
        },
        "id": "hUx4gHm0jt_c",
        "outputId": "55f187a6-ea10-4cc4-ee91-13171ed63dba"
      },
      "execution_count": 22,
      "outputs": [
        {
          "output_type": "stream",
          "name": "stdout",
          "text": [
            "texto: lula é horrível, rótulo predito pelo modelo: tensor([0], device='cuda:0')\n"
          ]
        }
      ]
    },
    {
      "cell_type": "code",
      "source": [
        "texts = \"lula é ótimo, votem 13\"\n",
        "\n",
        "# instancia o tokenizador enviando os textos dos comentarios\n",
        "inputs = tokenizer(texts, return_tensors='pt', padding=True, truncation=True, max_length=max_length).to(device)\n",
        "# instancia o modelo enviando os tokens e salvando as classificações preditas\n",
        "output = model(**inputs)\n",
        "\n",
        "# cria um tensor com os labels preditos no output\n",
        "pred_labels = torch.argmax(output.logits, 1).item()\n",
        "\n",
        "print(f\"texto: {texts}, rótulo predito pelo modelo: {pred_labels}\") # imprime a frase, o resultado correto e o predito"
      ],
      "metadata": {
        "colab": {
          "base_uri": "https://localhost:8080/"
        },
        "id": "vN_bY4xtlIHf",
        "outputId": "b6ac242a-07fe-4cef-a5c4-1240484dac3a"
      },
      "execution_count": 23,
      "outputs": [
        {
          "output_type": "stream",
          "name": "stdout",
          "text": [
            "texto: lula é ótimo, votem 13, rótulo predito pelo modelo: tensor([2], device='cuda:0')\n"
          ]
        }
      ]
    },
    {
      "cell_type": "code",
      "source": [
        "texts = \"lula é regular\"\n",
        "\n",
        "# instancia o tokenizador enviando os textos dos comentarios\n",
        "inputs = tokenizer(texts, return_tensors='pt', padding=True, truncation=True, max_length=max_length).to(device)\n",
        "# instancia o modelo enviando os tokens e salvando as classificações preditas\n",
        "output = model(**inputs)\n",
        "\n",
        "# cria um tensor com os labels preditos no output\n",
        "pred_labels = torch.argmax(output.logits, 1)\n",
        "\n",
        "print(f\"texto: {texts}, rótulo predito pelo modelo: {pred_labels}\") # imprime a frase, o resultado correto e o predito"
      ],
      "metadata": {
        "colab": {
          "base_uri": "https://localhost:8080/"
        },
        "id": "YBwGwZurlMok",
        "outputId": "6c91b0a1-60c6-4716-b389-d187075a995f"
      },
      "execution_count": 24,
      "outputs": [
        {
          "output_type": "stream",
          "name": "stdout",
          "text": [
            "texto: lula é regular, rótulo predito pelo modelo: tensor([2], device='cuda:0')\n"
          ]
        }
      ]
    },
    {
      "cell_type": "code",
      "source": [
        "#reduced_df = full_df.head(10000) # seleciona apenas 5000 linhas para teste\n",
        "reduced_df = full_df"
      ],
      "metadata": {
        "id": "b2Hi-lWBJgBl"
      },
      "execution_count": 158,
      "outputs": []
    },
    {
      "cell_type": "code",
      "source": [
        "\n",
        "# iterates through the dataframe tweets_lula and prints the text of the 'content' column at each iteration\n",
        "for index, row in reduced_df.iterrows():\n",
        "    # instancia o tokenizador enviando os textos dos comentarios\n",
        "    inputs = tokenizer(str(row['content']), return_tensors='pt', padding=True, truncation=True, max_length=max_length).to(device)\n",
        "    # instancia o modelo enviando os tokens e salvando as classificações preditas\n",
        "    output = model(**inputs)\n",
        "    # cria um tensor com os labels preditos no output e extrai a predição do tensor\n",
        "    reduced_df['label'][index] = torch.argmax(output.logits).item()\n",
        "\n",
        "    if index % 2000 == 0:\n",
        "      print(f\"{index}/{len(reduced_df)}\")\n",
        "    #print(reduced_df['label'])\n",
        "    \n"
      ],
      "metadata": {
        "colab": {
          "base_uri": "https://localhost:8080/"
        },
        "id": "bYuwXKsz5RKc",
        "outputId": "fbe61c9a-6588-4d61-c321-94c68e07d750"
      },
      "execution_count": 159,
      "outputs": [
        {
          "output_type": "stream",
          "name": "stderr",
          "text": [
            "/usr/local/lib/python3.7/dist-packages/ipykernel_launcher.py:8: SettingWithCopyWarning: \n",
            "A value is trying to be set on a copy of a slice from a DataFrame\n",
            "\n",
            "See the caveats in the documentation: https://pandas.pydata.org/pandas-docs/stable/user_guide/indexing.html#returning-a-view-versus-a-copy\n",
            "  \n"
          ]
        },
        {
          "output_type": "stream",
          "name": "stdout",
          "text": [
            "0/24698\n",
            "500/24698\n",
            "1000/24698\n",
            "1500/24698\n",
            "2000/24698\n",
            "2500/24698\n",
            "3000/24698\n",
            "3500/24698\n",
            "4000/24698\n",
            "4500/24698\n",
            "5000/24698\n",
            "5500/24698\n",
            "6000/24698\n",
            "6500/24698\n",
            "7000/24698\n",
            "7500/24698\n",
            "8000/24698\n",
            "8500/24698\n",
            "9000/24698\n",
            "9500/24698\n",
            "10000/24698\n",
            "10500/24698\n",
            "11000/24698\n",
            "11500/24698\n",
            "12000/24698\n",
            "12500/24698\n",
            "13000/24698\n",
            "13500/24698\n",
            "14000/24698\n",
            "14500/24698\n",
            "15000/24698\n",
            "15500/24698\n",
            "16000/24698\n",
            "16500/24698\n",
            "17000/24698\n",
            "17500/24698\n",
            "18000/24698\n",
            "18500/24698\n",
            "19000/24698\n",
            "19500/24698\n",
            "20000/24698\n",
            "20500/24698\n",
            "21000/24698\n",
            "21500/24698\n",
            "22000/24698\n",
            "22500/24698\n",
            "23000/24698\n",
            "23500/24698\n",
            "24000/24698\n",
            "24500/24698\n"
          ]
        }
      ]
    },
    {
      "cell_type": "code",
      "source": [
        "# nmostra a proporção de labels no resultado final total\n",
        "reduced_df['label'].value_counts().plot.pie(autopct='%.2f')"
      ],
      "metadata": {
        "colab": {
          "base_uri": "https://localhost:8080/",
          "height": 266
        },
        "id": "LkhxhKKqH3S9",
        "outputId": "2149778f-fcce-4de6-a493-1b857372474d"
      },
      "execution_count": 160,
      "outputs": [
        {
          "output_type": "execute_result",
          "data": {
            "text/plain": [
              "<matplotlib.axes._subplots.AxesSubplot at 0x7f5b9cbc7ed0>"
            ]
          },
          "metadata": {},
          "execution_count": 160
        },
        {
          "output_type": "display_data",
          "data": {
            "text/plain": [
              "<Figure size 432x288 with 1 Axes>"
            ],
            "image/png": "[encoded data removed]"
          },
          "metadata": {}
        }
      ]
    },
    {
      "cell_type": "code",
      "source": [
        "# transforma a data em time series\n",
        "reduced_df['date'] = pd.to_datetime(full_df['date'])\n"
      ],
      "metadata": {
        "id": "MAcHMqWu6jnJ"
      },
      "execution_count": 161,
      "outputs": []
    },
    {
      "cell_type": "code",
      "source": [
        "# agrupa o total de labels por dia\n",
        "reduced_df_grouped = reduced_df.groupby(['label', pd.Grouper(key='date', freq='D')]).count()"
      ],
      "metadata": {
        "id": "LklHxUMyBXjx"
      },
      "execution_count": 162,
      "outputs": []
    },
    {
      "cell_type": "code",
      "source": [
        "reduced_df_grouped.head(10)"
      ],
      "metadata": {
        "colab": {
          "base_uri": "https://localhost:8080/",
          "height": 394
        },
        "id": "A5pgTDSFG9Sv",
        "outputId": "0a8c158f-b715-4a77-ec8d-d87d1759e65b"
      },
      "execution_count": 163,
      "outputs": [
        {
          "output_type": "execute_result",
          "data": {
            "text/plain": [
              "                   id  content\n",
              "label date                    \n",
              "0.0   2022-10-02  169      169\n",
              "      2022-10-03  251      251\n",
              "      2022-10-04  344      344\n",
              "      2022-10-05  296      296\n",
              "      2022-10-06  391      391\n",
              "      2022-10-07  409      409\n",
              "      2022-10-08  322      322\n",
              "      2022-10-09  338      338\n",
              "      2022-10-10  325      325\n",
              "      2022-10-11  363      363"
            ],
            "text/html": [
              "\n",
              "  <div id=\"df-f5613849-0a62-4877-ae33-c5a2e11b604a\">\n",
              "    <div class=\"colab-df-container\">\n",
              "      <div>\n",
              "<style scoped>\n",
              "    .dataframe tbody tr th:only-of-type {\n",
              "        vertical-align: middle;\n",
              "    }\n",
              "\n",
              "    .dataframe tbody tr th {\n",
              "        vertical-align: top;\n",
              "    }\n",
              "\n",
              "    .dataframe thead th {\n",
              "        text-align: right;\n",
              "    }\n",
              "</style>\n",
              "<table border=\"1\" class=\"dataframe\">\n",
              "  <thead>\n",
              "    <tr style=\"text-align: right;\">\n",
              "      <th></th>\n",
              "      <th></th>\n",
              "      <th>id</th>\n",
              "      <th>content</th>\n",
              "    </tr>\n",
              "    <tr>\n",
              "      <th>label</th>\n",
              "      <th>date</th>\n",
              "      <th></th>\n",
              "      <th></th>\n",
              "    </tr>\n",
              "  </thead>\n",
              "  <tbody>\n",
              "    <tr>\n",
              "      <th rowspan=\"10\" valign=\"top\">0.0</th>\n",
              "      <th>2022-10-02</th>\n",
              "      <td>169</td>\n",
              "      <td>169</td>\n",
              "    </tr>\n",
              "    <tr>\n",
              "      <th>2022-10-03</th>\n",
              "      <td>251</td>\n",
              "      <td>251</td>\n",
              "    </tr>\n",
              "    <tr>\n",
              "      <th>2022-10-04</th>\n",
              "      <td>344</td>\n",
              "      <td>344</td>\n",
              "    </tr>\n",
              "    <tr>\n",
              "      <th>2022-10-05</th>\n",
              "      <td>296</td>\n",
              "      <td>296</td>\n",
              "    </tr>\n",
              "    <tr>\n",
              "      <th>2022-10-06</th>\n",
              "      <td>391</td>\n",
              "      <td>391</td>\n",
              "    </tr>\n",
              "    <tr>\n",
              "      <th>2022-10-07</th>\n",
              "      <td>409</td>\n",
              "      <td>409</td>\n",
              "    </tr>\n",
              "    <tr>\n",
              "      <th>2022-10-08</th>\n",
              "      <td>322</td>\n",
              "      <td>322</td>\n",
              "    </tr>\n",
              "    <tr>\n",
              "      <th>2022-10-09</th>\n",
              "      <td>338</td>\n",
              "      <td>338</td>\n",
              "    </tr>\n",
              "    <tr>\n",
              "      <th>2022-10-10</th>\n",
              "      <td>325</td>\n",
              "      <td>325</td>\n",
              "    </tr>\n",
              "    <tr>\n",
              "      <th>2022-10-11</th>\n",
              "      <td>363</td>\n",
              "      <td>363</td>\n",
              "    </tr>\n",
              "  </tbody>\n",
              "</table>\n",
              "</div>\n",
              "      <button class=\"colab-df-convert\" onclick=\"convertToInteractive('df-f5613849-0a62-4877-ae33-c5a2e11b604a')\"\n",
              "              title=\"Convert this dataframe to an interactive table.\"\n",
              "              style=\"display:none;\">\n",
              "        \n",
              "  <svg xmlns=\"http://www.w3.org/2000/svg\" height=\"24px\"viewBox=\"0 0 24 24\"\n",
              "       width=\"24px\">\n",
              "    <path d=\"M0 0h24v24H0V0z\" fill=\"none\"/>\n",
              "    <path d=\"M18.56 5.44l.94 2.06.94-2.06 2.06-.94-2.06-.94-.94-2.06-.94 2.06-2.06.94zm-11 1L8.5 8.5l.94-2.06 2.06-.94-2.06-.94L8.5 2.5l-.94 2.06-2.06.94zm10 10l.94 2.06.94-2.06 2.06-.94-2.06-.94-.94-2.06-.94 2.06-2.06.94z\"/><path d=\"M17.41 7.96l-1.37-1.37c-.4-.4-.92-.59-1.43-.59-.52 0-1.04.2-1.43.59L10.3 9.45l-7.72 7.72c-.78.78-.78 2.05 0 2.83L4 21.41c.39.39.9.59 1.41.59.51 0 1.02-.2 1.41-.59l7.78-7.78 2.81-2.81c.8-.78.8-2.07 0-2.86zM5.41 20L4 18.59l7.72-7.72 1.47 1.35L5.41 20z\"/>\n",
              "  </svg>\n",
              "      </button>\n",
              "      \n",
              "  <style>\n",
              "    .colab-df-container {\n",
              "      display:flex;\n",
              "      flex-wrap:wrap;\n",
              "      gap: 12px;\n",
              "    }\n",
              "\n",
              "    .colab-df-convert {\n",
              "      background-color: #E8F0FE;\n",
              "      border: none;\n",
              "      border-radius: 50%;\n",
              "      cursor: pointer;\n",
              "      display: none;\n",
              "      fill: #1967D2;\n",
              "      height: 32px;\n",
              "      padding: 0 0 0 0;\n",
              "      width: 32px;\n",
              "    }\n",
              "\n",
              "    .colab-df-convert:hover {\n",
              "      background-color: #E2EBFA;\n",
              "      box-shadow: 0px 1px 2px rgba(60, 64, 67, 0.3), 0px 1px 3px 1px rgba(60, 64, 67, 0.15);\n",
              "      fill: #174EA6;\n",
              "    }\n",
              "\n",
              "    [theme=dark] .colab-df-convert {\n",
              "      background-color: #3B4455;\n",
              "      fill: #D2E3FC;\n",
              "    }\n",
              "\n",
              "    [theme=dark] .colab-df-convert:hover {\n",
              "      background-color: #434B5C;\n",
              "      box-shadow: 0px 1px 3px 1px rgba(0, 0, 0, 0.15);\n",
              "      filter: drop-shadow(0px 1px 2px rgba(0, 0, 0, 0.3));\n",
              "      fill: #FFFFFF;\n",
              "    }\n",
              "  </style>\n",
              "\n",
              "      <script>\n",
              "        const buttonEl =\n",
              "          document.querySelector('#df-f5613849-0a62-4877-ae33-c5a2e11b604a button.colab-df-convert');\n",
              "        buttonEl.style.display =\n",
              "          google.colab.kernel.accessAllowed ? 'block' : 'none';\n",
              "\n",
              "        async function convertToInteractive(key) {\n",
              "          const element = document.querySelector('#df-f5613849-0a62-4877-ae33-c5a2e11b604a');\n",
              "          const dataTable =\n",
              "            await google.colab.kernel.invokeFunction('convertToInteractive',\n",
              "                                                     [key], {});\n",
              "          if (!dataTable) return;\n",
              "\n",
              "          const docLinkHtml = 'Like what you see? Visit the ' +\n",
              "            '<a target=\"_blank\" href=https://colab.research.google.com/notebooks/data_table.ipynb>data table notebook</a>'\n",
              "            + ' to learn more about interactive tables.';\n",
              "          element.innerHTML = '';\n",
              "          dataTable['output_type'] = 'display_data';\n",
              "          await google.colab.output.renderOutput(dataTable, element);\n",
              "          const docLink = document.createElement('div');\n",
              "          docLink.innerHTML = docLinkHtml;\n",
              "          element.appendChild(docLink);\n",
              "        }\n",
              "      </script>\n",
              "    </div>\n",
              "  </div>\n",
              "  "
            ]
          },
          "metadata": {},
          "execution_count": 163
        }
      ]
    },
    {
      "cell_type": "code",
      "source": [
        "# faz o pivot transformando as linhas de diferente labels em colunas\n",
        "reduced_df_grouped = reduced_df_grouped.pivot_table(index='date', columns='label', values='content')"
      ],
      "metadata": {
        "id": "5H6bwFA_O_4x"
      },
      "execution_count": 164,
      "outputs": []
    },
    {
      "cell_type": "code",
      "source": [
        "#plota o gráfico\n",
        "reduced_df_grouped.plot(kind='bar', stacked=True, figsize=(20,10))"
      ],
      "metadata": {
        "colab": {
          "base_uri": "https://localhost:8080/",
          "height": 719
        },
        "id": "WCX5BIGaPqN4",
        "outputId": "888bf114-9968-4c19-d8a4-26ca48dbe976"
      },
      "execution_count": 165,
      "outputs": [
        {
          "output_type": "execute_result",
          "data": {
            "text/plain": [
              "<matplotlib.axes._subplots.AxesSubplot at 0x7f5b9cba3190>"
            ]
          },
          "metadata": {},
          "execution_count": 165
        },
        {
          "output_type": "display_data",
          "data": {
            "text/plain": [
              "<Figure size 1440x720 with 1 Axes>"
            ],
            "image/png": "[encoded data removed]"
          },
          "metadata": {
            "needs_background": "light"
          }
        }
      ]
    }
  ]
}