{
  "nbformat": 4,
  "nbformat_minor": 0,
  "metadata": {
    "colab": {
      "provenance": [],
      "collapsed_sections": [],
      "include_colab_link": true
    },
    "kernelspec": {
      "name": "python3",
      "display_name": "Python 3"
    },
    "language_info": {
      "name": "python"
    },
    "gpuClass": "standard",
    "widgets": {
      "application/vnd.jupyter.widget-state+json": {
        "3088ad7b28ee4e348cec0e0abafec9be": {
          "model_module": "@jupyter-widgets/controls",
          "model_name": "HBoxModel",
          "model_module_version": "1.5.0",
          "state": {
            "_dom_classes": [],
            "_model_module": "@jupyter-widgets/controls",
            "_model_module_version": "1.5.0",
            "_model_name": "HBoxModel",
            "_view_count": null,
            "_view_module": "@jupyter-widgets/controls",
            "_view_module_version": "1.5.0",
            "_view_name": "HBoxView",
            "box_style": "",
            "children": [
              "IPY_MODEL_6c36be0256a84dc4afcc808ca196531e",
              "IPY_MODEL_3234b96ec7e342638023c0a0744deda9",
              "IPY_MODEL_c436f2596e0041efb0bddc5a74b79e23"
            ],
            "layout": "IPY_MODEL_1fd40bebecaa43d3b4b8035dc2093069"
          }
        },
        "6c36be0256a84dc4afcc808ca196531e": {
          "model_module": "@jupyter-widgets/controls",
          "model_name": "HTMLModel",
          "model_module_version": "1.5.0",
          "state": {
            "_dom_classes": [],
            "_model_module": "@jupyter-widgets/controls",
            "_model_module_version": "1.5.0",
            "_model_name": "HTMLModel",
            "_view_count": null,
            "_view_module": "@jupyter-widgets/controls",
            "_view_module_version": "1.5.0",
            "_view_name": "HTMLView",
            "description": "",
            "description_tooltip": null,
            "layout": "IPY_MODEL_5322a7e643184d53a57f2fd60b15671c",
            "placeholder": "​",
            "style": "IPY_MODEL_8494d411c96d497fab4db054d5b7300c",
            "value": "Downloading: 100%"
          }
        },
        "3234b96ec7e342638023c0a0744deda9": {
          "model_module": "@jupyter-widgets/controls",
          "model_name": "FloatProgressModel",
          "model_module_version": "1.5.0",
          "state": {
            "_dom_classes": [],
            "_model_module": "@jupyter-widgets/controls",
            "_model_module_version": "1.5.0",
            "_model_name": "FloatProgressModel",
            "_view_count": null,
            "_view_module": "@jupyter-widgets/controls",
            "_view_module_version": "1.5.0",
            "_view_name": "ProgressView",
            "bar_style": "success",
            "description": "",
            "description_tooltip": null,
            "layout": "IPY_MODEL_fd591a011e5244058448ecc1e85d0698",
            "max": 155,
            "min": 0,
            "orientation": "horizontal",
            "style": "IPY_MODEL_a3fe735aac9f4a248d6a0557b11e8f5d",
            "value": 155
          }
        },
        "c436f2596e0041efb0bddc5a74b79e23": {
          "model_module": "@jupyter-widgets/controls",
          "model_name": "HTMLModel",
          "model_module_version": "1.5.0",
          "state": {
            "_dom_classes": [],
            "_model_module": "@jupyter-widgets/controls",
            "_model_module_version": "1.5.0",
            "_model_name": "HTMLModel",
            "_view_count": null,
            "_view_module": "@jupyter-widgets/controls",
            "_view_module_version": "1.5.0",
            "_view_name": "HTMLView",
            "description": "",
            "description_tooltip": null,
            "layout": "IPY_MODEL_34b634d24d8b41b78d503c1a9485fce3",
            "placeholder": "​",
            "style": "IPY_MODEL_5deb6925ed3c46acbb86041b5b8c770b",
            "value": " 155/155 [00:00&lt;00:00, 1.90kB/s]"
          }
        },
        "1fd40bebecaa43d3b4b8035dc2093069": {
          "model_module": "@jupyter-widgets/base",
          "model_name": "LayoutModel",
          "model_module_version": "1.2.0",
          "state": {
            "_model_module": "@jupyter-widgets/base",
            "_model_module_version": "1.2.0",
            "_model_name": "LayoutModel",
            "_view_count": null,
            "_view_module": "@jupyter-widgets/base",
            "_view_module_version": "1.2.0",
            "_view_name": "LayoutView",
            "align_content": null,
            "align_items": null,
            "align_self": null,
            "border": null,
            "bottom": null,
            "display": null,
            "flex": null,
            "flex_flow": null,
            "grid_area": null,
            "grid_auto_columns": null,
            "grid_auto_flow": null,
            "grid_auto_rows": null,
            "grid_column": null,
            "grid_gap": null,
            "grid_row": null,
            "grid_template_areas": null,
            "grid_template_columns": null,
            "grid_template_rows": null,
            "height": null,
            "justify_content": null,
            "justify_items": null,
            "left": null,
            "margin": null,
            "max_height": null,
            "max_width": null,
            "min_height": null,
            "min_width": null,
            "object_fit": null,
            "object_position": null,
            "order": null,
            "overflow": null,
            "overflow_x": null,
            "overflow_y": null,
            "padding": null,
            "right": null,
            "top": null,
            "visibility": null,
            "width": null
          }
        },
        "5322a7e643184d53a57f2fd60b15671c": {
          "model_module": "@jupyter-widgets/base",
          "model_name": "LayoutModel",
          "model_module_version": "1.2.0",
          "state": {
            "_model_module": "@jupyter-widgets/base",
            "_model_module_version": "1.2.0",
            "_model_name": "LayoutModel",
            "_view_count": null,
            "_view_module": "@jupyter-widgets/base",
            "_view_module_version": "1.2.0",
            "_view_name": "LayoutView",
            "align_content": null,
            "align_items": null,
            "align_self": null,
            "border": null,
            "bottom": null,
            "display": null,
            "flex": null,
            "flex_flow": null,
            "grid_area": null,
            "grid_auto_columns": null,
            "grid_auto_flow": null,
            "grid_auto_rows": null,
            "grid_column": null,
            "grid_gap": null,
            "grid_row": null,
            "grid_template_areas": null,
            "grid_template_columns": null,
            "grid_template_rows": null,
            "height": null,
            "justify_content": null,
            "justify_items": null,
            "left": null,
            "margin": null,
            "max_height": null,
            "max_width": null,
            "min_height": null,
            "min_width": null,
            "object_fit": null,
            "object_position": null,
            "order": null,
            "overflow": null,
            "overflow_x": null,
            "overflow_y": null,
            "padding": null,
            "right": null,
            "top": null,
            "visibility": null,
            "width": null
          }
        },
        "8494d411c96d497fab4db054d5b7300c": {
          "model_module": "@jupyter-widgets/controls",
          "model_name": "DescriptionStyleModel",
          "model_module_version": "1.5.0",
          "state": {
            "_model_module": "@jupyter-widgets/controls",
            "_model_module_version": "1.5.0",
            "_model_name": "DescriptionStyleModel",
            "_view_count": null,
            "_view_module": "@jupyter-widgets/base",
            "_view_module_version": "1.2.0",
            "_view_name": "StyleView",
            "description_width": ""
          }
        },
        "fd591a011e5244058448ecc1e85d0698": {
          "model_module": "@jupyter-widgets/base",
          "model_name": "LayoutModel",
          "model_module_version": "1.2.0",
          "state": {
            "_model_module": "@jupyter-widgets/base",
            "_model_module_version": "1.2.0",
            "_model_name": "LayoutModel",
            "_view_count": null,
            "_view_module": "@jupyter-widgets/base",
            "_view_module_version": "1.2.0",
            "_view_name": "LayoutView",
            "align_content": null,
            "align_items": null,
            "align_self": null,
            "border": null,
            "bottom": null,
            "display": null,
            "flex": null,
            "flex_flow": null,
            "grid_area": null,
            "grid_auto_columns": null,
            "grid_auto_flow": null,
            "grid_auto_rows": null,
            "grid_column": null,
            "grid_gap": null,
            "grid_row": null,
            "grid_template_areas": null,
            "grid_template_columns": null,
            "grid_template_rows": null,
            "height": null,
            "justify_content": null,
            "justify_items": null,
            "left": null,
            "margin": null,
            "max_height": null,
            "max_width": null,
            "min_height": null,
            "min_width": null,
            "object_fit": null,
            "object_position": null,
            "order": null,
            "overflow": null,
            "overflow_x": null,
            "overflow_y": null,
            "padding": null,
            "right": null,
            "top": null,
            "visibility": null,
            "width": null
          }
        },
        "a3fe735aac9f4a248d6a0557b11e8f5d": {
          "model_module": "@jupyter-widgets/controls",
          "model_name": "ProgressStyleModel",
          "model_module_version": "1.5.0",
          "state": {
            "_model_module": "@jupyter-widgets/controls",
            "_model_module_version": "1.5.0",
            "_model_name": "ProgressStyleModel",
            "_view_count": null,
            "_view_module": "@jupyter-widgets/base",
            "_view_module_version": "1.2.0",
            "_view_name": "StyleView",
            "bar_color": null,
            "description_width": ""
          }
        },
        "34b634d24d8b41b78d503c1a9485fce3": {
          "model_module": "@jupyter-widgets/base",
          "model_name": "LayoutModel",
          "model_module_version": "1.2.0",
          "state": {
            "_model_module": "@jupyter-widgets/base",
            "_model_module_version": "1.2.0",
            "_model_name": "LayoutModel",
            "_view_count": null,
            "_view_module": "@jupyter-widgets/base",
            "_view_module_version": "1.2.0",
            "_view_name": "LayoutView",
            "align_content": null,
            "align_items": null,
            "align_self": null,
            "border": null,
            "bottom": null,
            "display": null,
            "flex": null,
            "flex_flow": null,
            "grid_area": null,
            "grid_auto_columns": null,
            "grid_auto_flow": null,
            "grid_auto_rows": null,
            "grid_column": null,
            "grid_gap": null,
            "grid_row": null,
            "grid_template_areas": null,
            "grid_template_columns": null,
            "grid_template_rows": null,
            "height": null,
            "justify_content": null,
            "justify_items": null,
            "left": null,
            "margin": null,
            "max_height": null,
            "max_width": null,
            "min_height": null,
            "min_width": null,
            "object_fit": null,
            "object_position": null,
            "order": null,
            "overflow": null,
            "overflow_x": null,
            "overflow_y": null,
            "padding": null,
            "right": null,
            "top": null,
            "visibility": null,
            "width": null
          }
        },
        "5deb6925ed3c46acbb86041b5b8c770b": {
          "model_module": "@jupyter-widgets/controls",
          "model_name": "DescriptionStyleModel",
          "model_module_version": "1.5.0",
          "state": {
            "_model_module": "@jupyter-widgets/controls",
            "_model_module_version": "1.5.0",
            "_model_name": "DescriptionStyleModel",
            "_view_count": null,
            "_view_module": "@jupyter-widgets/base",
            "_view_module_version": "1.2.0",
            "_view_name": "StyleView",
            "description_width": ""
          }
        },
        "4c2ca35f2ed24579a7614b2e1c164149": {
          "model_module": "@jupyter-widgets/controls",
          "model_name": "HBoxModel",
          "model_module_version": "1.5.0",
          "state": {
            "_dom_classes": [],
            "_model_module": "@jupyter-widgets/controls",
            "_model_module_version": "1.5.0",
            "_model_name": "HBoxModel",
            "_view_count": null,
            "_view_module": "@jupyter-widgets/controls",
            "_view_module_version": "1.5.0",
            "_view_name": "HBoxView",
            "box_style": "",
            "children": [
              "IPY_MODEL_ebb704c10cf94c3ca99aecff66b0b571",
              "IPY_MODEL_9b362af75a7747458cade98ee2ac5501",
              "IPY_MODEL_c200cf36123242eebde27574297f7f33"
            ],
            "layout": "IPY_MODEL_d68e7303c24249a2b2552b2e0fe416a0"
          }
        },
        "ebb704c10cf94c3ca99aecff66b0b571": {
          "model_module": "@jupyter-widgets/controls",
          "model_name": "HTMLModel",
          "model_module_version": "1.5.0",
          "state": {
            "_dom_classes": [],
            "_model_module": "@jupyter-widgets/controls",
            "_model_module_version": "1.5.0",
            "_model_name": "HTMLModel",
            "_view_count": null,
            "_view_module": "@jupyter-widgets/controls",
            "_view_module_version": "1.5.0",
            "_view_name": "HTMLView",
            "description": "",
            "description_tooltip": null,
            "layout": "IPY_MODEL_3e3a4d37d9b04e7a8e5c764551864713",
            "placeholder": "​",
            "style": "IPY_MODEL_bb30dd82f8c946438cc088327b2b18b7",
            "value": "Downloading: 100%"
          }
        },
        "9b362af75a7747458cade98ee2ac5501": {
          "model_module": "@jupyter-widgets/controls",
          "model_name": "FloatProgressModel",
          "model_module_version": "1.5.0",
          "state": {
            "_dom_classes": [],
            "_model_module": "@jupyter-widgets/controls",
            "_model_module_version": "1.5.0",
            "_model_name": "FloatProgressModel",
            "_view_count": null,
            "_view_module": "@jupyter-widgets/controls",
            "_view_module_version": "1.5.0",
            "_view_name": "ProgressView",
            "bar_style": "success",
            "description": "",
            "description_tooltip": null,
            "layout": "IPY_MODEL_aba0f7b16b53414790646cb17b883330",
            "max": 648,
            "min": 0,
            "orientation": "horizontal",
            "style": "IPY_MODEL_4957b396e63747ec87838a51ce436ccc",
            "value": 648
          }
        },
        "c200cf36123242eebde27574297f7f33": {
          "model_module": "@jupyter-widgets/controls",
          "model_name": "HTMLModel",
          "model_module_version": "1.5.0",
          "state": {
            "_dom_classes": [],
            "_model_module": "@jupyter-widgets/controls",
            "_model_module_version": "1.5.0",
            "_model_name": "HTMLModel",
            "_view_count": null,
            "_view_module": "@jupyter-widgets/controls",
            "_view_module_version": "1.5.0",
            "_view_name": "HTMLView",
            "description": "",
            "description_tooltip": null,
            "layout": "IPY_MODEL_fa7e98eb4def44bd9dd7ee8b29cb409f",
            "placeholder": "​",
            "style": "IPY_MODEL_42ad6a7b2dbc449f967c330a3b218aef",
            "value": " 648/648 [00:00&lt;00:00, 6.12kB/s]"
          }
        },
        "d68e7303c24249a2b2552b2e0fe416a0": {
          "model_module": "@jupyter-widgets/base",
          "model_name": "LayoutModel",
          "model_module_version": "1.2.0",
          "state": {
            "_model_module": "@jupyter-widgets/base",
            "_model_module_version": "1.2.0",
            "_model_name": "LayoutModel",
            "_view_count": null,
            "_view_module": "@jupyter-widgets/base",
            "_view_module_version": "1.2.0",
            "_view_name": "LayoutView",
            "align_content": null,
            "align_items": null,
            "align_self": null,
            "border": null,
            "bottom": null,
            "display": null,
            "flex": null,
            "flex_flow": null,
            "grid_area": null,
            "grid_auto_columns": null,
            "grid_auto_flow": null,
            "grid_auto_rows": null,
            "grid_column": null,
            "grid_gap": null,
            "grid_row": null,
            "grid_template_areas": null,
            "grid_template_columns": null,
            "grid_template_rows": null,
            "height": null,
            "justify_content": null,
            "justify_items": null,
            "left": null,
            "margin": null,
            "max_height": null,
            "max_width": null,
            "min_height": null,
            "min_width": null,
            "object_fit": null,
            "object_position": null,
            "order": null,
            "overflow": null,
            "overflow_x": null,
            "overflow_y": null,
            "padding": null,
            "right": null,
            "top": null,
            "visibility": null,
            "width": null
          }
        },
        "3e3a4d37d9b04e7a8e5c764551864713": {
          "model_module": "@jupyter-widgets/base",
          "model_name": "LayoutModel",
          "model_module_version": "1.2.0",
          "state": {
            "_model_module": "@jupyter-widgets/base",
            "_model_module_version": "1.2.0",
            "_model_name": "LayoutModel",
            "_view_count": null,
            "_view_module": "@jupyter-widgets/base",
            "_view_module_version": "1.2.0",
            "_view_name": "LayoutView",
            "align_content": null,
            "align_items": null,
            "align_self": null,
            "border": null,
            "bottom": null,
            "display": null,
            "flex": null,
            "flex_flow": null,
            "grid_area": null,
            "grid_auto_columns": null,
            "grid_auto_flow": null,
            "grid_auto_rows": null,
            "grid_column": null,
            "grid_gap": null,
            "grid_row": null,
            "grid_template_areas": null,
            "grid_template_columns": null,
            "grid_template_rows": null,
            "height": null,
            "justify_content": null,
            "justify_items": null,
            "left": null,
            "margin": null,
            "max_height": null,
            "max_width": null,
            "min_height": null,
            "min_width": null,
            "object_fit": null,
            "object_position": null,
            "order": null,
            "overflow": null,
            "overflow_x": null,
            "overflow_y": null,
            "padding": null,
            "right": null,
            "top": null,
            "visibility": null,
            "width": null
          }
        },
        "bb30dd82f8c946438cc088327b2b18b7": {
          "model_module": "@jupyter-widgets/controls",
          "model_name": "DescriptionStyleModel",
          "model_module_version": "1.5.0",
          "state": {
            "_model_module": "@jupyter-widgets/controls",
            "_model_module_version": "1.5.0",
            "_model_name": "DescriptionStyleModel",
            "_view_count": null,
            "_view_module": "@jupyter-widgets/base",
            "_view_module_version": "1.2.0",
            "_view_name": "StyleView",
            "description_width": ""
          }
        },
        "aba0f7b16b53414790646cb17b883330": {
          "model_module": "@jupyter-widgets/base",
          "model_name": "LayoutModel",
          "model_module_version": "1.2.0",
          "state": {
            "_model_module": "@jupyter-widgets/base",
            "_model_module_version": "1.2.0",
            "_model_name": "LayoutModel",
            "_view_count": null,
            "_view_module": "@jupyter-widgets/base",
            "_view_module_version": "1.2.0",
            "_view_name": "LayoutView",
            "align_content": null,
            "align_items": null,
            "align_self": null,
            "border": null,
            "bottom": null,
            "display": null,
            "flex": null,
            "flex_flow": null,
            "grid_area": null,
            "grid_auto_columns": null,
            "grid_auto_flow": null,
            "grid_auto_rows": null,
            "grid_column": null,
            "grid_gap": null,
            "grid_row": null,
            "grid_template_areas": null,
            "grid_template_columns": null,
            "grid_template_rows": null,
            "height": null,
            "justify_content": null,
            "justify_items": null,
            "left": null,
            "margin": null,
            "max_height": null,
            "max_width": null,
            "min_height": null,
            "min_width": null,
            "object_fit": null,
            "object_position": null,
            "order": null,
            "overflow": null,
            "overflow_x": null,
            "overflow_y": null,
            "padding": null,
            "right": null,
            "top": null,
            "visibility": null,
            "width": null
          }
        },
        "4957b396e63747ec87838a51ce436ccc": {
          "model_module": "@jupyter-widgets/controls",
          "model_name": "ProgressStyleModel",
          "model_module_version": "1.5.0",
          "state": {
            "_model_module": "@jupyter-widgets/controls",
            "_model_module_version": "1.5.0",
            "_model_name": "ProgressStyleModel",
            "_view_count": null,
            "_view_module": "@jupyter-widgets/base",
            "_view_module_version": "1.2.0",
            "_view_name": "StyleView",
            "bar_color": null,
            "description_width": ""
          }
        },
        "fa7e98eb4def44bd9dd7ee8b29cb409f": {
          "model_module": "@jupyter-widgets/base",
          "model_name": "LayoutModel",
          "model_module_version": "1.2.0",
          "state": {
            "_model_module": "@jupyter-widgets/base",
            "_model_module_version": "1.2.0",
            "_model_name": "LayoutModel",
            "_view_count": null,
            "_view_module": "@jupyter-widgets/base",
            "_view_module_version": "1.2.0",
            "_view_name": "LayoutView",
            "align_content": null,
            "align_items": null,
            "align_self": null,
            "border": null,
            "bottom": null,
            "display": null,
            "flex": null,
            "flex_flow": null,
            "grid_area": null,
            "grid_auto_columns": null,
            "grid_auto_flow": null,
            "grid_auto_rows": null,
            "grid_column": null,
            "grid_gap": null,
            "grid_row": null,
            "grid_template_areas": null,
            "grid_template_columns": null,
            "grid_template_rows": null,
            "height": null,
            "justify_content": null,
            "justify_items": null,
            "left": null,
            "margin": null,
            "max_height": null,
            "max_width": null,
            "min_height": null,
            "min_width": null,
            "object_fit": null,
            "object_position": null,
            "order": null,
            "overflow": null,
            "overflow_x": null,
            "overflow_y": null,
            "padding": null,
            "right": null,
            "top": null,
            "visibility": null,
            "width": null
          }
        },
        "42ad6a7b2dbc449f967c330a3b218aef": {
          "model_module": "@jupyter-widgets/controls",
          "model_name": "DescriptionStyleModel",
          "model_module_version": "1.5.0",
          "state": {
            "_model_module": "@jupyter-widgets/controls",
            "_model_module_version": "1.5.0",
            "_model_name": "DescriptionStyleModel",
            "_view_count": null,
            "_view_module": "@jupyter-widgets/base",
            "_view_module_version": "1.2.0",
            "_view_name": "StyleView",
            "description_width": ""
          }
        },
        "02342794864e4d438b69a14b7669be84": {
          "model_module": "@jupyter-widgets/controls",
          "model_name": "HBoxModel",
          "model_module_version": "1.5.0",
          "state": {
            "_dom_classes": [],
            "_model_module": "@jupyter-widgets/controls",
            "_model_module_version": "1.5.0",
            "_model_name": "HBoxModel",
            "_view_count": null,
            "_view_module": "@jupyter-widgets/controls",
            "_view_module_version": "1.5.0",
            "_view_name": "HBoxView",
            "box_style": "",
            "children": [
              "IPY_MODEL_fe9bd4c78ba24c3f9d070bd108b89e34",
              "IPY_MODEL_409120571df2455682aeb7103e60a999",
              "IPY_MODEL_bfac908430c54a25a52b627a76196e0a"
            ],
            "layout": "IPY_MODEL_b79c9c30dc124fc0afa3977328188d5a"
          }
        },
        "fe9bd4c78ba24c3f9d070bd108b89e34": {
          "model_module": "@jupyter-widgets/controls",
          "model_name": "HTMLModel",
          "model_module_version": "1.5.0",
          "state": {
            "_dom_classes": [],
            "_model_module": "@jupyter-widgets/controls",
            "_model_module_version": "1.5.0",
            "_model_name": "HTMLModel",
            "_view_count": null,
            "_view_module": "@jupyter-widgets/controls",
            "_view_module_version": "1.5.0",
            "_view_name": "HTMLView",
            "description": "",
            "description_tooltip": null,
            "layout": "IPY_MODEL_e9c7603333f34d61b5d8cf298414a5aa",
            "placeholder": "​",
            "style": "IPY_MODEL_a4e498878d944801af742d5751807d6c",
            "value": "Downloading: 100%"
          }
        },
        "409120571df2455682aeb7103e60a999": {
          "model_module": "@jupyter-widgets/controls",
          "model_name": "FloatProgressModel",
          "model_module_version": "1.5.0",
          "state": {
            "_dom_classes": [],
            "_model_module": "@jupyter-widgets/controls",
            "_model_module_version": "1.5.0",
            "_model_name": "FloatProgressModel",
            "_view_count": null,
            "_view_module": "@jupyter-widgets/controls",
            "_view_module_version": "1.5.0",
            "_view_name": "ProgressView",
            "bar_style": "success",
            "description": "",
            "description_tooltip": null,
            "layout": "IPY_MODEL_8569f01e57ee44e481d6a74538a72709",
            "max": 209528,
            "min": 0,
            "orientation": "horizontal",
            "style": "IPY_MODEL_e590413164644eeb8a25f4f0e3ed2653",
            "value": 209528
          }
        },
        "bfac908430c54a25a52b627a76196e0a": {
          "model_module": "@jupyter-widgets/controls",
          "model_name": "HTMLModel",
          "model_module_version": "1.5.0",
          "state": {
            "_dom_classes": [],
            "_model_module": "@jupyter-widgets/controls",
            "_model_module_version": "1.5.0",
            "_model_name": "HTMLModel",
            "_view_count": null,
            "_view_module": "@jupyter-widgets/controls",
            "_view_module_version": "1.5.0",
            "_view_name": "HTMLView",
            "description": "",
            "description_tooltip": null,
            "layout": "IPY_MODEL_b03517058e864da2963f057b1c3a68ab",
            "placeholder": "​",
            "style": "IPY_MODEL_4c12f67f46a54ecfa772161a8c3538f4",
            "value": " 210k/210k [00:00&lt;00:00, 386kB/s]"
          }
        },
        "b79c9c30dc124fc0afa3977328188d5a": {
          "model_module": "@jupyter-widgets/base",
          "model_name": "LayoutModel",
          "model_module_version": "1.2.0",
          "state": {
            "_model_module": "@jupyter-widgets/base",
            "_model_module_version": "1.2.0",
            "_model_name": "LayoutModel",
            "_view_count": null,
            "_view_module": "@jupyter-widgets/base",
            "_view_module_version": "1.2.0",
            "_view_name": "LayoutView",
            "align_content": null,
            "align_items": null,
            "align_self": null,
            "border": null,
            "bottom": null,
            "display": null,
            "flex": null,
            "flex_flow": null,
            "grid_area": null,
            "grid_auto_columns": null,
            "grid_auto_flow": null,
            "grid_auto_rows": null,
            "grid_column": null,
            "grid_gap": null,
            "grid_row": null,
            "grid_template_areas": null,
            "grid_template_columns": null,
            "grid_template_rows": null,
            "height": null,
            "justify_content": null,
            "justify_items": null,
            "left": null,
            "margin": null,
            "max_height": null,
            "max_width": null,
            "min_height": null,
            "min_width": null,
            "object_fit": null,
            "object_position": null,
            "order": null,
            "overflow": null,
            "overflow_x": null,
            "overflow_y": null,
            "padding": null,
            "right": null,
            "top": null,
            "visibility": null,
            "width": null
          }
        },
        "e9c7603333f34d61b5d8cf298414a5aa": {
          "model_module": "@jupyter-widgets/base",
          "model_name": "LayoutModel",
          "model_module_version": "1.2.0",
          "state": {
            "_model_module": "@jupyter-widgets/base",
            "_model_module_version": "1.2.0",
            "_model_name": "LayoutModel",
            "_view_count": null,
            "_view_module": "@jupyter-widgets/base",
            "_view_module_version": "1.2.0",
            "_view_name": "LayoutView",
            "align_content": null,
            "align_items": null,
            "align_self": null,
            "border": null,
            "bottom": null,
            "display": null,
            "flex": null,
            "flex_flow": null,
            "grid_area": null,
            "grid_auto_columns": null,
            "grid_auto_flow": null,
            "grid_auto_rows": null,
            "grid_column": null,
            "grid_gap": null,
            "grid_row": null,
            "grid_template_areas": null,
            "grid_template_columns": null,
            "grid_template_rows": null,
            "height": null,
            "justify_content": null,
            "justify_items": null,
            "left": null,
            "margin": null,
            "max_height": null,
            "max_width": null,
            "min_height": null,
            "min_width": null,
            "object_fit": null,
            "object_position": null,
            "order": null,
            "overflow": null,
            "overflow_x": null,
            "overflow_y": null,
            "padding": null,
            "right": null,
            "top": null,
            "visibility": null,
            "width": null
          }
        },
        "a4e498878d944801af742d5751807d6c": {
          "model_module": "@jupyter-widgets/controls",
          "model_name": "DescriptionStyleModel",
          "model_module_version": "1.5.0",
          "state": {
            "_model_module": "@jupyter-widgets/controls",
            "_model_module_version": "1.5.0",
            "_model_name": "DescriptionStyleModel",
            "_view_count": null,
            "_view_module": "@jupyter-widgets/base",
            "_view_module_version": "1.2.0",
            "_view_name": "StyleView",
            "description_width": ""
          }
        },
        "8569f01e57ee44e481d6a74538a72709": {
          "model_module": "@jupyter-widgets/base",
          "model_name": "LayoutModel",
          "model_module_version": "1.2.0",
          "state": {
            "_model_module": "@jupyter-widgets/base",
            "_model_module_version": "1.2.0",
            "_model_name": "LayoutModel",
            "_view_count": null,
            "_view_module": "@jupyter-widgets/base",
            "_view_module_version": "1.2.0",
            "_view_name": "LayoutView",
            "align_content": null,
            "align_items": null,
            "align_self": null,
            "border": null,
            "bottom": null,
            "display": null,
            "flex": null,
            "flex_flow": null,
            "grid_area": null,
            "grid_auto_columns": null,
            "grid_auto_flow": null,
            "grid_auto_rows": null,
            "grid_column": null,
            "grid_gap": null,
            "grid_row": null,
            "grid_template_areas": null,
            "grid_template_columns": null,
            "grid_template_rows": null,
            "height": null,
            "justify_content": null,
            "justify_items": null,
            "left": null,
            "margin": null,
            "max_height": null,
            "max_width": null,
            "min_height": null,
            "min_width": null,
            "object_fit": null,
            "object_position": null,
            "order": null,
            "overflow": null,
            "overflow_x": null,
            "overflow_y": null,
            "padding": null,
            "right": null,
            "top": null,
            "visibility": null,
            "width": null
          }
        },
        "e590413164644eeb8a25f4f0e3ed2653": {
          "model_module": "@jupyter-widgets/controls",
          "model_name": "ProgressStyleModel",
          "model_module_version": "1.5.0",
          "state": {
            "_model_module": "@jupyter-widgets/controls",
            "_model_module_version": "1.5.0",
            "_model_name": "ProgressStyleModel",
            "_view_count": null,
            "_view_module": "@jupyter-widgets/base",
            "_view_module_version": "1.2.0",
            "_view_name": "StyleView",
            "bar_color": null,
            "description_width": ""
          }
        },
        "b03517058e864da2963f057b1c3a68ab": {
          "model_module": "@jupyter-widgets/base",
          "model_name": "LayoutModel",
          "model_module_version": "1.2.0",
          "state": {
            "_model_module": "@jupyter-widgets/base",
            "_model_module_version": "1.2.0",
            "_model_name": "LayoutModel",
            "_view_count": null,
            "_view_module": "@jupyter-widgets/base",
            "_view_module_version": "1.2.0",
            "_view_name": "LayoutView",
            "align_content": null,
            "align_items": null,
            "align_self": null,
            "border": null,
            "bottom": null,
            "display": null,
            "flex": null,
            "flex_flow": null,
            "grid_area": null,
            "grid_auto_columns": null,
            "grid_auto_flow": null,
            "grid_auto_rows": null,
            "grid_column": null,
            "grid_gap": null,
            "grid_row": null,
            "grid_template_areas": null,
            "grid_template_columns": null,
            "grid_template_rows": null,
            "height": null,
            "justify_content": null,
            "justify_items": null,
            "left": null,
            "margin": null,
            "max_height": null,
            "max_width": null,
            "min_height": null,
            "min_width": null,
            "object_fit": null,
            "object_position": null,
            "order": null,
            "overflow": null,
            "overflow_x": null,
            "overflow_y": null,
            "padding": null,
            "right": null,
            "top": null,
            "visibility": null,
            "width": null
          }
        },
        "4c12f67f46a54ecfa772161a8c3538f4": {
          "model_module": "@jupyter-widgets/controls",
          "model_name": "DescriptionStyleModel",
          "model_module_version": "1.5.0",
          "state": {
            "_model_module": "@jupyter-widgets/controls",
            "_model_module_version": "1.5.0",
            "_model_name": "DescriptionStyleModel",
            "_view_count": null,
            "_view_module": "@jupyter-widgets/base",
            "_view_module_version": "1.2.0",
            "_view_name": "StyleView",
            "description_width": ""
          }
        },
        "93a74c0b6aee43c980c429c96d524b69": {
          "model_module": "@jupyter-widgets/controls",
          "model_name": "HBoxModel",
          "model_module_version": "1.5.0",
          "state": {
            "_dom_classes": [],
            "_model_module": "@jupyter-widgets/controls",
            "_model_module_version": "1.5.0",
            "_model_name": "HBoxModel",
            "_view_count": null,
            "_view_module": "@jupyter-widgets/controls",
            "_view_module_version": "1.5.0",
            "_view_name": "HBoxView",
            "box_style": "",
            "children": [
              "IPY_MODEL_a0728a6e37ad4d088c4bef0f73168d35",
              "IPY_MODEL_4e365f5ed8f9405b964819985fe184c9",
              "IPY_MODEL_ebc91ee7e67c43b195f446043aeaa1f4"
            ],
            "layout": "IPY_MODEL_15fcbbdcbcd94f619ec0c73f68a7a8f8"
          }
        },
        "a0728a6e37ad4d088c4bef0f73168d35": {
          "model_module": "@jupyter-widgets/controls",
          "model_name": "HTMLModel",
          "model_module_version": "1.5.0",
          "state": {
            "_dom_classes": [],
            "_model_module": "@jupyter-widgets/controls",
            "_model_module_version": "1.5.0",
            "_model_name": "HTMLModel",
            "_view_count": null,
            "_view_module": "@jupyter-widgets/controls",
            "_view_module_version": "1.5.0",
            "_view_name": "HTMLView",
            "description": "",
            "description_tooltip": null,
            "layout": "IPY_MODEL_12ab2ca672b3402996b55716a2df6214",
            "placeholder": "​",
            "style": "IPY_MODEL_87ef05ba68774c3eac562b419770d840",
            "value": "Downloading: 100%"
          }
        },
        "4e365f5ed8f9405b964819985fe184c9": {
          "model_module": "@jupyter-widgets/controls",
          "model_name": "FloatProgressModel",
          "model_module_version": "1.5.0",
          "state": {
            "_dom_classes": [],
            "_model_module": "@jupyter-widgets/controls",
            "_model_module_version": "1.5.0",
            "_model_name": "FloatProgressModel",
            "_view_count": null,
            "_view_module": "@jupyter-widgets/controls",
            "_view_module_version": "1.5.0",
            "_view_name": "ProgressView",
            "bar_style": "success",
            "description": "",
            "description_tooltip": null,
            "layout": "IPY_MODEL_fc1df55da05241afad002581413ebce9",
            "max": 2,
            "min": 0,
            "orientation": "horizontal",
            "style": "IPY_MODEL_8bf27c4e0fe8497a8378b7f1d901dc0d",
            "value": 2
          }
        },
        "ebc91ee7e67c43b195f446043aeaa1f4": {
          "model_module": "@jupyter-widgets/controls",
          "model_name": "HTMLModel",
          "model_module_version": "1.5.0",
          "state": {
            "_dom_classes": [],
            "_model_module": "@jupyter-widgets/controls",
            "_model_module_version": "1.5.0",
            "_model_name": "HTMLModel",
            "_view_count": null,
            "_view_module": "@jupyter-widgets/controls",
            "_view_module_version": "1.5.0",
            "_view_name": "HTMLView",
            "description": "",
            "description_tooltip": null,
            "layout": "IPY_MODEL_80f39c11573b41d5aafdfcd9605bc527",
            "placeholder": "​",
            "style": "IPY_MODEL_7d05c45aec6f44bc959544f0a1952f3f",
            "value": " 2.00/2.00 [00:00&lt;00:00, 18.5B/s]"
          }
        },
        "15fcbbdcbcd94f619ec0c73f68a7a8f8": {
          "model_module": "@jupyter-widgets/base",
          "model_name": "LayoutModel",
          "model_module_version": "1.2.0",
          "state": {
            "_model_module": "@jupyter-widgets/base",
            "_model_module_version": "1.2.0",
            "_model_name": "LayoutModel",
            "_view_count": null,
            "_view_module": "@jupyter-widgets/base",
            "_view_module_version": "1.2.0",
            "_view_name": "LayoutView",
            "align_content": null,
            "align_items": null,
            "align_self": null,
            "border": null,
            "bottom": null,
            "display": null,
            "flex": null,
            "flex_flow": null,
            "grid_area": null,
            "grid_auto_columns": null,
            "grid_auto_flow": null,
            "grid_auto_rows": null,
            "grid_column": null,
            "grid_gap": null,
            "grid_row": null,
            "grid_template_areas": null,
            "grid_template_columns": null,
            "grid_template_rows": null,
            "height": null,
            "justify_content": null,
            "justify_items": null,
            "left": null,
            "margin": null,
            "max_height": null,
            "max_width": null,
            "min_height": null,
            "min_width": null,
            "object_fit": null,
            "object_position": null,
            "order": null,
            "overflow": null,
            "overflow_x": null,
            "overflow_y": null,
            "padding": null,
            "right": null,
            "top": null,
            "visibility": null,
            "width": null
          }
        },
        "12ab2ca672b3402996b55716a2df6214": {
          "model_module": "@jupyter-widgets/base",
          "model_name": "LayoutModel",
          "model_module_version": "1.2.0",
          "state": {
            "_model_module": "@jupyter-widgets/base",
            "_model_module_version": "1.2.0",
            "_model_name": "LayoutModel",
            "_view_count": null,
            "_view_module": "@jupyter-widgets/base",
            "_view_module_version": "1.2.0",
            "_view_name": "LayoutView",
            "align_content": null,
            "align_items": null,
            "align_self": null,
            "border": null,
            "bottom": null,
            "display": null,
            "flex": null,
            "flex_flow": null,
            "grid_area": null,
            "grid_auto_columns": null,
            "grid_auto_flow": null,
            "grid_auto_rows": null,
            "grid_column": null,
            "grid_gap": null,
            "grid_row": null,
            "grid_template_areas": null,
            "grid_template_columns": null,
            "grid_template_rows": null,
            "height": null,
            "justify_content": null,
            "justify_items": null,
            "left": null,
            "margin": null,
            "max_height": null,
            "max_width": null,
            "min_height": null,
            "min_width": null,
            "object_fit": null,
            "object_position": null,
            "order": null,
            "overflow": null,
            "overflow_x": null,
            "overflow_y": null,
            "padding": null,
            "right": null,
            "top": null,
            "visibility": null,
            "width": null
          }
        },
        "87ef05ba68774c3eac562b419770d840": {
          "model_module": "@jupyter-widgets/controls",
          "model_name": "DescriptionStyleModel",
          "model_module_version": "1.5.0",
          "state": {
            "_model_module": "@jupyter-widgets/controls",
            "_model_module_version": "1.5.0",
            "_model_name": "DescriptionStyleModel",
            "_view_count": null,
            "_view_module": "@jupyter-widgets/base",
            "_view_module_version": "1.2.0",
            "_view_name": "StyleView",
            "description_width": ""
          }
        },
        "fc1df55da05241afad002581413ebce9": {
          "model_module": "@jupyter-widgets/base",
          "model_name": "LayoutModel",
          "model_module_version": "1.2.0",
          "state": {
            "_model_module": "@jupyter-widgets/base",
            "_model_module_version": "1.2.0",
            "_model_name": "LayoutModel",
            "_view_count": null,
            "_view_module": "@jupyter-widgets/base",
            "_view_module_version": "1.2.0",
            "_view_name": "LayoutView",
            "align_content": null,
            "align_items": null,
            "align_self": null,
            "border": null,
            "bottom": null,
            "display": null,
            "flex": null,
            "flex_flow": null,
            "grid_area": null,
            "grid_auto_columns": null,
            "grid_auto_flow": null,
            "grid_auto_rows": null,
            "grid_column": null,
            "grid_gap": null,
            "grid_row": null,
            "grid_template_areas": null,
            "grid_template_columns": null,
            "grid_template_rows": null,
            "height": null,
            "justify_content": null,
            "justify_items": null,
            "left": null,
            "margin": null,
            "max_height": null,
            "max_width": null,
            "min_height": null,
            "min_width": null,
            "object_fit": null,
            "object_position": null,
            "order": null,
            "overflow": null,
            "overflow_x": null,
            "overflow_y": null,
            "padding": null,
            "right": null,
            "top": null,
            "visibility": null,
            "width": null
          }
        },
        "8bf27c4e0fe8497a8378b7f1d901dc0d": {
          "model_module": "@jupyter-widgets/controls",
          "model_name": "ProgressStyleModel",
          "model_module_version": "1.5.0",
          "state": {
            "_model_module": "@jupyter-widgets/controls",
            "_model_module_version": "1.5.0",
            "_model_name": "ProgressStyleModel",
            "_view_count": null,
            "_view_module": "@jupyter-widgets/base",
            "_view_module_version": "1.2.0",
            "_view_name": "StyleView",
            "bar_color": null,
            "description_width": ""
          }
        },
        "80f39c11573b41d5aafdfcd9605bc527": {
          "model_module": "@jupyter-widgets/base",
          "model_name": "LayoutModel",
          "model_module_version": "1.2.0",
          "state": {
            "_model_module": "@jupyter-widgets/base",
            "_model_module_version": "1.2.0",
            "_model_name": "LayoutModel",
            "_view_count": null,
            "_view_module": "@jupyter-widgets/base",
            "_view_module_version": "1.2.0",
            "_view_name": "LayoutView",
            "align_content": null,
            "align_items": null,
            "align_self": null,
            "border": null,
            "bottom": null,
            "display": null,
            "flex": null,
            "flex_flow": null,
            "grid_area": null,
            "grid_auto_columns": null,
            "grid_auto_flow": null,
            "grid_auto_rows": null,
            "grid_column": null,
            "grid_gap": null,
            "grid_row": null,
            "grid_template_areas": null,
            "grid_template_columns": null,
            "grid_template_rows": null,
            "height": null,
            "justify_content": null,
            "justify_items": null,
            "left": null,
            "margin": null,
            "max_height": null,
            "max_width": null,
            "min_height": null,
            "min_width": null,
            "object_fit": null,
            "object_position": null,
            "order": null,
            "overflow": null,
            "overflow_x": null,
            "overflow_y": null,
            "padding": null,
            "right": null,
            "top": null,
            "visibility": null,
            "width": null
          }
        },
        "7d05c45aec6f44bc959544f0a1952f3f": {
          "model_module": "@jupyter-widgets/controls",
          "model_name": "DescriptionStyleModel",
          "model_module_version": "1.5.0",
          "state": {
            "_model_module": "@jupyter-widgets/controls",
            "_model_module_version": "1.5.0",
            "_model_name": "DescriptionStyleModel",
            "_view_count": null,
            "_view_module": "@jupyter-widgets/base",
            "_view_module_version": "1.2.0",
            "_view_name": "StyleView",
            "description_width": ""
          }
        },
        "96458c1c0f53422189360f3bc72fc637": {
          "model_module": "@jupyter-widgets/controls",
          "model_name": "HBoxModel",
          "model_module_version": "1.5.0",
          "state": {
            "_dom_classes": [],
            "_model_module": "@jupyter-widgets/controls",
            "_model_module_version": "1.5.0",
            "_model_name": "HBoxModel",
            "_view_count": null,
            "_view_module": "@jupyter-widgets/controls",
            "_view_module_version": "1.5.0",
            "_view_name": "HBoxView",
            "box_style": "",
            "children": [
              "IPY_MODEL_5b9665d53fb44f32a74d79edde800309",
              "IPY_MODEL_66a6b12080b7493eb49d493082a0ba3b",
              "IPY_MODEL_04020ce6300a455c92a871b9464663ae"
            ],
            "layout": "IPY_MODEL_1b80a7971d3d45b083b6c4ff9ea4634c"
          }
        },
        "5b9665d53fb44f32a74d79edde800309": {
          "model_module": "@jupyter-widgets/controls",
          "model_name": "HTMLModel",
          "model_module_version": "1.5.0",
          "state": {
            "_dom_classes": [],
            "_model_module": "@jupyter-widgets/controls",
            "_model_module_version": "1.5.0",
            "_model_name": "HTMLModel",
            "_view_count": null,
            "_view_module": "@jupyter-widgets/controls",
            "_view_module_version": "1.5.0",
            "_view_name": "HTMLView",
            "description": "",
            "description_tooltip": null,
            "layout": "IPY_MODEL_93bec84ca9494d5492ab5d5c672dea6b",
            "placeholder": "​",
            "style": "IPY_MODEL_a0e3bd39a30c49f4922ba23e47203644",
            "value": "Downloading: 100%"
          }
        },
        "66a6b12080b7493eb49d493082a0ba3b": {
          "model_module": "@jupyter-widgets/controls",
          "model_name": "FloatProgressModel",
          "model_module_version": "1.5.0",
          "state": {
            "_dom_classes": [],
            "_model_module": "@jupyter-widgets/controls",
            "_model_module_version": "1.5.0",
            "_model_name": "FloatProgressModel",
            "_view_count": null,
            "_view_module": "@jupyter-widgets/controls",
            "_view_module_version": "1.5.0",
            "_view_name": "ProgressView",
            "bar_style": "success",
            "description": "",
            "description_tooltip": null,
            "layout": "IPY_MODEL_a506657bb04a458ab9ab27f9927c48fb",
            "max": 112,
            "min": 0,
            "orientation": "horizontal",
            "style": "IPY_MODEL_8b3075ad66fb498cab15689d883aeebd",
            "value": 112
          }
        },
        "04020ce6300a455c92a871b9464663ae": {
          "model_module": "@jupyter-widgets/controls",
          "model_name": "HTMLModel",
          "model_module_version": "1.5.0",
          "state": {
            "_dom_classes": [],
            "_model_module": "@jupyter-widgets/controls",
            "_model_module_version": "1.5.0",
            "_model_name": "HTMLModel",
            "_view_count": null,
            "_view_module": "@jupyter-widgets/controls",
            "_view_module_version": "1.5.0",
            "_view_name": "HTMLView",
            "description": "",
            "description_tooltip": null,
            "layout": "IPY_MODEL_8e19d568075f4466aba41e6b6f982aac",
            "placeholder": "​",
            "style": "IPY_MODEL_d6215316e2a94578b0502c2176cf524f",
            "value": " 112/112 [00:00&lt;00:00, 1.41kB/s]"
          }
        },
        "1b80a7971d3d45b083b6c4ff9ea4634c": {
          "model_module": "@jupyter-widgets/base",
          "model_name": "LayoutModel",
          "model_module_version": "1.2.0",
          "state": {
            "_model_module": "@jupyter-widgets/base",
            "_model_module_version": "1.2.0",
            "_model_name": "LayoutModel",
            "_view_count": null,
            "_view_module": "@jupyter-widgets/base",
            "_view_module_version": "1.2.0",
            "_view_name": "LayoutView",
            "align_content": null,
            "align_items": null,
            "align_self": null,
            "border": null,
            "bottom": null,
            "display": null,
            "flex": null,
            "flex_flow": null,
            "grid_area": null,
            "grid_auto_columns": null,
            "grid_auto_flow": null,
            "grid_auto_rows": null,
            "grid_column": null,
            "grid_gap": null,
            "grid_row": null,
            "grid_template_areas": null,
            "grid_template_columns": null,
            "grid_template_rows": null,
            "height": null,
            "justify_content": null,
            "justify_items": null,
            "left": null,
            "margin": null,
            "max_height": null,
            "max_width": null,
            "min_height": null,
            "min_width": null,
            "object_fit": null,
            "object_position": null,
            "order": null,
            "overflow": null,
            "overflow_x": null,
            "overflow_y": null,
            "padding": null,
            "right": null,
            "top": null,
            "visibility": null,
            "width": null
          }
        },
        "93bec84ca9494d5492ab5d5c672dea6b": {
          "model_module": "@jupyter-widgets/base",
          "model_name": "LayoutModel",
          "model_module_version": "1.2.0",
          "state": {
            "_model_module": "@jupyter-widgets/base",
            "_model_module_version": "1.2.0",
            "_model_name": "LayoutModel",
            "_view_count": null,
            "_view_module": "@jupyter-widgets/base",
            "_view_module_version": "1.2.0",
            "_view_name": "LayoutView",
            "align_content": null,
            "align_items": null,
            "align_self": null,
            "border": null,
            "bottom": null,
            "display": null,
            "flex": null,
            "flex_flow": null,
            "grid_area": null,
            "grid_auto_columns": null,
            "grid_auto_flow": null,
            "grid_auto_rows": null,
            "grid_column": null,
            "grid_gap": null,
            "grid_row": null,
            "grid_template_areas": null,
            "grid_template_columns": null,
            "grid_template_rows": null,
            "height": null,
            "justify_content": null,
            "justify_items": null,
            "left": null,
            "margin": null,
            "max_height": null,
            "max_width": null,
            "min_height": null,
            "min_width": null,
            "object_fit": null,
            "object_position": null,
            "order": null,
            "overflow": null,
            "overflow_x": null,
            "overflow_y": null,
            "padding": null,
            "right": null,
            "top": null,
            "visibility": null,
            "width": null
          }
        },
        "a0e3bd39a30c49f4922ba23e47203644": {
          "model_module": "@jupyter-widgets/controls",
          "model_name": "DescriptionStyleModel",
          "model_module_version": "1.5.0",
          "state": {
            "_model_module": "@jupyter-widgets/controls",
            "_model_module_version": "1.5.0",
            "_model_name": "DescriptionStyleModel",
            "_view_count": null,
            "_view_module": "@jupyter-widgets/base",
            "_view_module_version": "1.2.0",
            "_view_name": "StyleView",
            "description_width": ""
          }
        },
        "a506657bb04a458ab9ab27f9927c48fb": {
          "model_module": "@jupyter-widgets/base",
          "model_name": "LayoutModel",
          "model_module_version": "1.2.0",
          "state": {
            "_model_module": "@jupyter-widgets/base",
            "_model_module_version": "1.2.0",
            "_model_name": "LayoutModel",
            "_view_count": null,
            "_view_module": "@jupyter-widgets/base",
            "_view_module_version": "1.2.0",
            "_view_name": "LayoutView",
            "align_content": null,
            "align_items": null,
            "align_self": null,
            "border": null,
            "bottom": null,
            "display": null,
            "flex": null,
            "flex_flow": null,
            "grid_area": null,
            "grid_auto_columns": null,
            "grid_auto_flow": null,
            "grid_auto_rows": null,
            "grid_column": null,
            "grid_gap": null,
            "grid_row": null,
            "grid_template_areas": null,
            "grid_template_columns": null,
            "grid_template_rows": null,
            "height": null,
            "justify_content": null,
            "justify_items": null,
            "left": null,
            "margin": null,
            "max_height": null,
            "max_width": null,
            "min_height": null,
            "min_width": null,
            "object_fit": null,
            "object_position": null,
            "order": null,
            "overflow": null,
            "overflow_x": null,
            "overflow_y": null,
            "padding": null,
            "right": null,
            "top": null,
            "visibility": null,
            "width": null
          }
        },
        "8b3075ad66fb498cab15689d883aeebd": {
          "model_module": "@jupyter-widgets/controls",
          "model_name": "ProgressStyleModel",
          "model_module_version": "1.5.0",
          "state": {
            "_model_module": "@jupyter-widgets/controls",
            "_model_module_version": "1.5.0",
            "_model_name": "ProgressStyleModel",
            "_view_count": null,
            "_view_module": "@jupyter-widgets/base",
            "_view_module_version": "1.2.0",
            "_view_name": "StyleView",
            "bar_color": null,
            "description_width": ""
          }
        },
        "8e19d568075f4466aba41e6b6f982aac": {
          "model_module": "@jupyter-widgets/base",
          "model_name": "LayoutModel",
          "model_module_version": "1.2.0",
          "state": {
            "_model_module": "@jupyter-widgets/base",
            "_model_module_version": "1.2.0",
            "_model_name": "LayoutModel",
            "_view_count": null,
            "_view_module": "@jupyter-widgets/base",
            "_view_module_version": "1.2.0",
            "_view_name": "LayoutView",
            "align_content": null,
            "align_items": null,
            "align_self": null,
            "border": null,
            "bottom": null,
            "display": null,
            "flex": null,
            "flex_flow": null,
            "grid_area": null,
            "grid_auto_columns": null,
            "grid_auto_flow": null,
            "grid_auto_rows": null,
            "grid_column": null,
            "grid_gap": null,
            "grid_row": null,
            "grid_template_areas": null,
            "grid_template_columns": null,
            "grid_template_rows": null,
            "height": null,
            "justify_content": null,
            "justify_items": null,
            "left": null,
            "margin": null,
            "max_height": null,
            "max_width": null,
            "min_height": null,
            "min_width": null,
            "object_fit": null,
            "object_position": null,
            "order": null,
            "overflow": null,
            "overflow_x": null,
            "overflow_y": null,
            "padding": null,
            "right": null,
            "top": null,
            "visibility": null,
            "width": null
          }
        },
        "d6215316e2a94578b0502c2176cf524f": {
          "model_module": "@jupyter-widgets/controls",
          "model_name": "DescriptionStyleModel",
          "model_module_version": "1.5.0",
          "state": {
            "_model_module": "@jupyter-widgets/controls",
            "_model_module_version": "1.5.0",
            "_model_name": "DescriptionStyleModel",
            "_view_count": null,
            "_view_module": "@jupyter-widgets/base",
            "_view_module_version": "1.2.0",
            "_view_name": "StyleView",
            "description_width": ""
          }
        },
        "3995f437e4bc424b9ea966d142bf71fe": {
          "model_module": "@jupyter-widgets/controls",
          "model_name": "HBoxModel",
          "model_module_version": "1.5.0",
          "state": {
            "_dom_classes": [],
            "_model_module": "@jupyter-widgets/controls",
            "_model_module_version": "1.5.0",
            "_model_name": "HBoxModel",
            "_view_count": null,
            "_view_module": "@jupyter-widgets/controls",
            "_view_module_version": "1.5.0",
            "_view_name": "HBoxView",
            "box_style": "",
            "children": [
              "IPY_MODEL_903cce6666bc4a1387a2d2b5cf44d49f",
              "IPY_MODEL_8f8ef6e48a3d4330a007fd2135b79eb2",
              "IPY_MODEL_02a0ae90fa60469aaf01243b3753c218"
            ],
            "layout": "IPY_MODEL_cea2374cd35b4c30aecd0605b2962fd5"
          }
        },
        "903cce6666bc4a1387a2d2b5cf44d49f": {
          "model_module": "@jupyter-widgets/controls",
          "model_name": "HTMLModel",
          "model_module_version": "1.5.0",
          "state": {
            "_dom_classes": [],
            "_model_module": "@jupyter-widgets/controls",
            "_model_module_version": "1.5.0",
            "_model_name": "HTMLModel",
            "_view_count": null,
            "_view_module": "@jupyter-widgets/controls",
            "_view_module_version": "1.5.0",
            "_view_name": "HTMLView",
            "description": "",
            "description_tooltip": null,
            "layout": "IPY_MODEL_95d6f94d8b194611a94451972f665045",
            "placeholder": "​",
            "style": "IPY_MODEL_564b46239c68427abe6d4825d9c71d0b",
            "value": "Downloading: 100%"
          }
        },
        "8f8ef6e48a3d4330a007fd2135b79eb2": {
          "model_module": "@jupyter-widgets/controls",
          "model_name": "FloatProgressModel",
          "model_module_version": "1.5.0",
          "state": {
            "_dom_classes": [],
            "_model_module": "@jupyter-widgets/controls",
            "_model_module_version": "1.5.0",
            "_model_name": "FloatProgressModel",
            "_view_count": null,
            "_view_module": "@jupyter-widgets/controls",
            "_view_module_version": "1.5.0",
            "_view_name": "ProgressView",
            "bar_style": "success",
            "description": "",
            "description_tooltip": null,
            "layout": "IPY_MODEL_590d57bd3873417695c5e2b76407dcd8",
            "max": 1342014951,
            "min": 0,
            "orientation": "horizontal",
            "style": "IPY_MODEL_fa292142cf3b433ba21802298e15db6a",
            "value": 1342014951
          }
        },
        "02a0ae90fa60469aaf01243b3753c218": {
          "model_module": "@jupyter-widgets/controls",
          "model_name": "HTMLModel",
          "model_module_version": "1.5.0",
          "state": {
            "_dom_classes": [],
            "_model_module": "@jupyter-widgets/controls",
            "_model_module_version": "1.5.0",
            "_model_name": "HTMLModel",
            "_view_count": null,
            "_view_module": "@jupyter-widgets/controls",
            "_view_module_version": "1.5.0",
            "_view_name": "HTMLView",
            "description": "",
            "description_tooltip": null,
            "layout": "IPY_MODEL_079c64742ad044818238c6c741a95436",
            "placeholder": "​",
            "style": "IPY_MODEL_bcbcb0142b064ab6b018703137280700",
            "value": " 1.34G/1.34G [00:40&lt;00:00, 41.6MB/s]"
          }
        },
        "cea2374cd35b4c30aecd0605b2962fd5": {
          "model_module": "@jupyter-widgets/base",
          "model_name": "LayoutModel",
          "model_module_version": "1.2.0",
          "state": {
            "_model_module": "@jupyter-widgets/base",
            "_model_module_version": "1.2.0",
            "_model_name": "LayoutModel",
            "_view_count": null,
            "_view_module": "@jupyter-widgets/base",
            "_view_module_version": "1.2.0",
            "_view_name": "LayoutView",
            "align_content": null,
            "align_items": null,
            "align_self": null,
            "border": null,
            "bottom": null,
            "display": null,
            "flex": null,
            "flex_flow": null,
            "grid_area": null,
            "grid_auto_columns": null,
            "grid_auto_flow": null,
            "grid_auto_rows": null,
            "grid_column": null,
            "grid_gap": null,
            "grid_row": null,
            "grid_template_areas": null,
            "grid_template_columns": null,
            "grid_template_rows": null,
            "height": null,
            "justify_content": null,
            "justify_items": null,
            "left": null,
            "margin": null,
            "max_height": null,
            "max_width": null,
            "min_height": null,
            "min_width": null,
            "object_fit": null,
            "object_position": null,
            "order": null,
            "overflow": null,
            "overflow_x": null,
            "overflow_y": null,
            "padding": null,
            "right": null,
            "top": null,
            "visibility": null,
            "width": null
          }
        },
        "95d6f94d8b194611a94451972f665045": {
          "model_module": "@jupyter-widgets/base",
          "model_name": "LayoutModel",
          "model_module_version": "1.2.0",
          "state": {
            "_model_module": "@jupyter-widgets/base",
            "_model_module_version": "1.2.0",
            "_model_name": "LayoutModel",
            "_view_count": null,
            "_view_module": "@jupyter-widgets/base",
            "_view_module_version": "1.2.0",
            "_view_name": "LayoutView",
            "align_content": null,
            "align_items": null,
            "align_self": null,
            "border": null,
            "bottom": null,
            "display": null,
            "flex": null,
            "flex_flow": null,
            "grid_area": null,
            "grid_auto_columns": null,
            "grid_auto_flow": null,
            "grid_auto_rows": null,
            "grid_column": null,
            "grid_gap": null,
            "grid_row": null,
            "grid_template_areas": null,
            "grid_template_columns": null,
            "grid_template_rows": null,
            "height": null,
            "justify_content": null,
            "justify_items": null,
            "left": null,
            "margin": null,
            "max_height": null,
            "max_width": null,
            "min_height": null,
            "min_width": null,
            "object_fit": null,
            "object_position": null,
            "order": null,
            "overflow": null,
            "overflow_x": null,
            "overflow_y": null,
            "padding": null,
            "right": null,
            "top": null,
            "visibility": null,
            "width": null
          }
        },
        "564b46239c68427abe6d4825d9c71d0b": {
          "model_module": "@jupyter-widgets/controls",
          "model_name": "DescriptionStyleModel",
          "model_module_version": "1.5.0",
          "state": {
            "_model_module": "@jupyter-widgets/controls",
            "_model_module_version": "1.5.0",
            "_model_name": "DescriptionStyleModel",
            "_view_count": null,
            "_view_module": "@jupyter-widgets/base",
            "_view_module_version": "1.2.0",
            "_view_name": "StyleView",
            "description_width": ""
          }
        },
        "590d57bd3873417695c5e2b76407dcd8": {
          "model_module": "@jupyter-widgets/base",
          "model_name": "LayoutModel",
          "model_module_version": "1.2.0",
          "state": {
            "_model_module": "@jupyter-widgets/base",
            "_model_module_version": "1.2.0",
            "_model_name": "LayoutModel",
            "_view_count": null,
            "_view_module": "@jupyter-widgets/base",
            "_view_module_version": "1.2.0",
            "_view_name": "LayoutView",
            "align_content": null,
            "align_items": null,
            "align_self": null,
            "border": null,
            "bottom": null,
            "display": null,
            "flex": null,
            "flex_flow": null,
            "grid_area": null,
            "grid_auto_columns": null,
            "grid_auto_flow": null,
            "grid_auto_rows": null,
            "grid_column": null,
            "grid_gap": null,
            "grid_row": null,
            "grid_template_areas": null,
            "grid_template_columns": null,
            "grid_template_rows": null,
            "height": null,
            "justify_content": null,
            "justify_items": null,
            "left": null,
            "margin": null,
            "max_height": null,
            "max_width": null,
            "min_height": null,
            "min_width": null,
            "object_fit": null,
            "object_position": null,
            "order": null,
            "overflow": null,
            "overflow_x": null,
            "overflow_y": null,
            "padding": null,
            "right": null,
            "top": null,
            "visibility": null,
            "width": null
          }
        },
        "fa292142cf3b433ba21802298e15db6a": {
          "model_module": "@jupyter-widgets/controls",
          "model_name": "ProgressStyleModel",
          "model_module_version": "1.5.0",
          "state": {
            "_model_module": "@jupyter-widgets/controls",
            "_model_module_version": "1.5.0",
            "_model_name": "ProgressStyleModel",
            "_view_count": null,
            "_view_module": "@jupyter-widgets/base",
            "_view_module_version": "1.2.0",
            "_view_name": "StyleView",
            "bar_color": null,
            "description_width": ""
          }
        },
        "079c64742ad044818238c6c741a95436": {
          "model_module": "@jupyter-widgets/base",
          "model_name": "LayoutModel",
          "model_module_version": "1.2.0",
          "state": {
            "_model_module": "@jupyter-widgets/base",
            "_model_module_version": "1.2.0",
            "_model_name": "LayoutModel",
            "_view_count": null,
            "_view_module": "@jupyter-widgets/base",
            "_view_module_version": "1.2.0",
            "_view_name": "LayoutView",
            "align_content": null,
            "align_items": null,
            "align_self": null,
            "border": null,
            "bottom": null,
            "display": null,
            "flex": null,
            "flex_flow": null,
            "grid_area": null,
            "grid_auto_columns": null,
            "grid_auto_flow": null,
            "grid_auto_rows": null,
            "grid_column": null,
            "grid_gap": null,
            "grid_row": null,
            "grid_template_areas": null,
            "grid_template_columns": null,
            "grid_template_rows": null,
            "height": null,
            "justify_content": null,
            "justify_items": null,
            "left": null,
            "margin": null,
            "max_height": null,
            "max_width": null,
            "min_height": null,
            "min_width": null,
            "object_fit": null,
            "object_position": null,
            "order": null,
            "overflow": null,
            "overflow_x": null,
            "overflow_y": null,
            "padding": null,
            "right": null,
            "top": null,
            "visibility": null,
            "width": null
          }
        },
        "bcbcb0142b064ab6b018703137280700": {
          "model_module": "@jupyter-widgets/controls",
          "model_name": "DescriptionStyleModel",
          "model_module_version": "1.5.0",
          "state": {
            "_model_module": "@jupyter-widgets/controls",
            "_model_module_version": "1.5.0",
            "_model_name": "DescriptionStyleModel",
            "_view_count": null,
            "_view_module": "@jupyter-widgets/base",
            "_view_module_version": "1.2.0",
            "_view_name": "StyleView",
            "description_width": ""
          }
        }
      }
    },
    "accelerator": "GPU"
  },
  "cells": [
    {
      "cell_type": "markdown",
      "metadata": {
        "id": "view-in-github",
        "colab_type": "text"
      },
      "source": [
        "<a href=\"https://colab.research.google.com/github/EliseuODaniel/analise_de_sentimentos_eleicao/blob/main/analise_sentimento_com_bert_Tweets_lula.ipynb\" target=\"_parent\"><img src=\"https://colab.research.google.com/assets/colab-badge.svg\" alt=\"Open In Colab\"/></a>"
      ]
    },
    {
      "cell_type": "markdown",
      "metadata": {
        "id": "1GJKpwl_v4b1"
      },
      "source": [
        "# Análise de sentimento com Bert\n",
        "\n",
        "## Projeto integrador"
      ]
    },
    {
      "cell_type": "markdown",
      "metadata": {
        "id": "k244ZRtr2hiZ"
      },
      "source": [
        "## Classificação de Texto\n",
        "\n",
        "utilização da arquitetura BERTimbau, versão em Português do BERT"
      ]
    },
    {
      "cell_type": "code",
      "source": [
        "from google.colab import drive\n",
        "drive.mount('/content/drive')"
      ],
      "metadata": {
        "colab": {
          "base_uri": "https://localhost:8080/"
        },
        "id": "WdH9k8R0gZ_1",
        "outputId": "9214e0e0-688a-4756-8d0c-7a665134762c"
      },
      "execution_count": 1,
      "outputs": [
        {
          "output_type": "stream",
          "name": "stdout",
          "text": [
            "Mounted at /content/drive\n"
          ]
        }
      ]
    },
    {
      "cell_type": "code",
      "metadata": {
        "colab": {
          "base_uri": "https://localhost:8080/"
        },
        "id": "dfhiSp9Z3UXR",
        "outputId": "df005fa6-9830-4780-988e-ee5e0dcdb12b"
      },
      "source": [
        "!pip3 install transformers"
      ],
      "execution_count": 2,
      "outputs": [
        {
          "output_type": "stream",
          "name": "stdout",
          "text": [
            "Looking in indexes: https://pypi.org/simple, https://us-python.pkg.dev/colab-wheels/public/simple/\n",
            "Collecting transformers\n",
            "  Downloading transformers-4.24.0-py3-none-any.whl (5.5 MB)\n",
            "\u001b[K     |████████████████████████████████| 5.5 MB 13.8 MB/s \n",
            "\u001b[?25hRequirement already satisfied: pyyaml>=5.1 in /usr/local/lib/python3.7/dist-packages (from transformers) (6.0)\n",
            "Requirement already satisfied: importlib-metadata in /usr/local/lib/python3.7/dist-packages (from transformers) (4.13.0)\n",
            "Collecting huggingface-hub<1.0,>=0.10.0\n",
            "  Downloading huggingface_hub-0.10.1-py3-none-any.whl (163 kB)\n",
            "\u001b[K     |████████████████████████████████| 163 kB 63.4 MB/s \n",
            "\u001b[?25hRequirement already satisfied: tqdm>=4.27 in /usr/local/lib/python3.7/dist-packages (from transformers) (4.64.1)\n",
            "Collecting tokenizers!=0.11.3,<0.14,>=0.11.1\n",
            "  Downloading tokenizers-0.13.2-cp37-cp37m-manylinux_2_17_x86_64.manylinux2014_x86_64.whl (7.6 MB)\n",
            "\u001b[K     |████████████████████████████████| 7.6 MB 52.0 MB/s \n",
            "\u001b[?25hRequirement already satisfied: packaging>=20.0 in /usr/local/lib/python3.7/dist-packages (from transformers) (21.3)\n",
            "Requirement already satisfied: filelock in /usr/local/lib/python3.7/dist-packages (from transformers) (3.8.0)\n",
            "Requirement already satisfied: regex!=2019.12.17 in /usr/local/lib/python3.7/dist-packages (from transformers) (2022.6.2)\n",
            "Requirement already satisfied: numpy>=1.17 in /usr/local/lib/python3.7/dist-packages (from transformers) (1.21.6)\n",
            "Requirement already satisfied: requests in /usr/local/lib/python3.7/dist-packages (from transformers) (2.23.0)\n",
            "Requirement already satisfied: typing-extensions>=3.7.4.3 in /usr/local/lib/python3.7/dist-packages (from huggingface-hub<1.0,>=0.10.0->transformers) (4.1.1)\n",
            "Requirement already satisfied: pyparsing!=3.0.5,>=2.0.2 in /usr/local/lib/python3.7/dist-packages (from packaging>=20.0->transformers) (3.0.9)\n",
            "Requirement already satisfied: zipp>=0.5 in /usr/local/lib/python3.7/dist-packages (from importlib-metadata->transformers) (3.10.0)\n",
            "Requirement already satisfied: urllib3!=1.25.0,!=1.25.1,<1.26,>=1.21.1 in /usr/local/lib/python3.7/dist-packages (from requests->transformers) (1.24.3)\n",
            "Requirement already satisfied: chardet<4,>=3.0.2 in /usr/local/lib/python3.7/dist-packages (from requests->transformers) (3.0.4)\n",
            "Requirement already satisfied: certifi>=2017.4.17 in /usr/local/lib/python3.7/dist-packages (from requests->transformers) (2022.9.24)\n",
            "Requirement already satisfied: idna<3,>=2.5 in /usr/local/lib/python3.7/dist-packages (from requests->transformers) (2.10)\n",
            "Installing collected packages: tokenizers, huggingface-hub, transformers\n",
            "Successfully installed huggingface-hub-0.10.1 tokenizers-0.13.2 transformers-4.24.0\n"
          ]
        }
      ]
    },
    {
      "cell_type": "code",
      "metadata": {
        "id": "yDCgnNlzcCsA"
      },
      "source": [
        "import os\n",
        "import torch\n",
        "import torch.nn as nn\n",
        "from torch import optim\n",
        "from transformers import AutoTokenizer, AutoModelForSequenceClassification\n",
        "from sklearn.metrics import accuracy_score, f1_score, classification_report"
      ],
      "execution_count": 3,
      "outputs": []
    },
    {
      "cell_type": "code",
      "metadata": {
        "colab": {
          "base_uri": "https://localhost:8080/"
        },
        "id": "YyoVuFjJIlkj",
        "outputId": "91739c72-b196-43b0-e2fa-fd3d1315b408"
      },
      "source": [
        "\n",
        "import pandas as pd\n",
        "import csv\n",
        "from random import shuffle\n",
        "import nltk\n",
        "nltk.download('punkt')\n",
        "\n",
        "# Lê o csv e transforma num dataframe\n",
        "\n",
        "full_df = pd.read_csv('/content/drive/MyDrive/Colab Notebooks/tweets_lula_cleaned-categorizado2corrigido.csv', sep=';')"
      ],
      "execution_count": 4,
      "outputs": [
        {
          "output_type": "stream",
          "name": "stderr",
          "text": [
            "[nltk_data] Downloading package punkt to /root/nltk_data...\n",
            "[nltk_data]   Unzipping tokenizers/punkt.zip.\n"
          ]
        }
      ]
    },
    {
      "cell_type": "code",
      "source": [
        "full_df.info()"
      ],
      "metadata": {
        "colab": {
          "base_uri": "https://localhost:8080/"
        },
        "id": "KrfWP0YfgMC_",
        "outputId": "cd66ef9b-324e-4c4d-d6db-e43a665e5ee1"
      },
      "execution_count": 5,
      "outputs": [
        {
          "output_type": "stream",
          "name": "stdout",
          "text": [
            "<class 'pandas.core.frame.DataFrame'>\n",
            "RangeIndex: 24698 entries, 0 to 24697\n",
            "Data columns (total 4 columns):\n",
            " #   Column   Non-Null Count  Dtype  \n",
            "---  ------   --------------  -----  \n",
            " 0   id       24698 non-null  int64  \n",
            " 1   date     24698 non-null  object \n",
            " 2   content  24695 non-null  object \n",
            " 3   label    836 non-null    float64\n",
            "dtypes: float64(1), int64(1), object(2)\n",
            "memory usage: 771.9+ KB\n"
          ]
        }
      ]
    },
    {
      "cell_type": "code",
      "source": [
        "# Drop rows with any empty cells in collumn 'label'\n",
        "df = full_df.dropna(subset=['label'])"
      ],
      "metadata": {
        "id": "2BE5pynYkESj"
      },
      "execution_count": 6,
      "outputs": []
    },
    {
      "cell_type": "code",
      "source": [
        "df.info()"
      ],
      "metadata": {
        "colab": {
          "base_uri": "https://localhost:8080/"
        },
        "id": "KnygDPTnldEy",
        "outputId": "c34053fa-cff2-4a43-b5fc-43297aa347d3"
      },
      "execution_count": 7,
      "outputs": [
        {
          "output_type": "stream",
          "name": "stdout",
          "text": [
            "<class 'pandas.core.frame.DataFrame'>\n",
            "Int64Index: 836 entries, 0 to 23200\n",
            "Data columns (total 4 columns):\n",
            " #   Column   Non-Null Count  Dtype  \n",
            "---  ------   --------------  -----  \n",
            " 0   id       836 non-null    int64  \n",
            " 1   date     836 non-null    object \n",
            " 2   content  836 non-null    object \n",
            " 3   label    836 non-null    float64\n",
            "dtypes: float64(1), int64(1), object(2)\n",
            "memory usage: 32.7+ KB\n"
          ]
        }
      ]
    },
    {
      "cell_type": "code",
      "source": [
        "import matplotlib.pyplot as plt\n",
        "import numpy as np\n",
        "import plotly.express as px\n",
        "\n",
        "#  mostra a proporção de cada label, se não está balanceado, acurácia não é uma boa métrica\n",
        "df['label'].value_counts().plot.pie(autopct='%.2f')"
      ],
      "metadata": {
        "colab": {
          "base_uri": "https://localhost:8080/",
          "height": 266
        },
        "id": "xyZKp6PqpS1E",
        "outputId": "d2b9dc4c-3a8f-450a-a0b8-2c09c80af98e"
      },
      "execution_count": 8,
      "outputs": [
        {
          "output_type": "execute_result",
          "data": {
            "text/plain": [
              "<matplotlib.axes._subplots.AxesSubplot at 0x7fc17dbe0b90>"
            ]
          },
          "metadata": {},
          "execution_count": 8
        },
        {
          "output_type": "display_data",
          "data": {
            "text/plain": [
              "<Figure size 432x288 with 1 Axes>"
            ],
            "image/png": "[encoded data removed]"
          },
          "metadata": {}
        }
      ]
    },
    {
      "cell_type": "code",
      "source": [
        "# converte dataframe em lista de listas\n",
        "tweets_list = df.values.tolist()"
      ],
      "metadata": {
        "id": "xcEHkdFIlxmE"
      },
      "execution_count": 9,
      "outputs": []
    },
    {
      "cell_type": "code",
      "source": [
        "# cria uma nuvem de palavras\n",
        "\n",
        "\n",
        "import nltk\n",
        "nltk.download('punkt')\n",
        "nltk.download('stopwords')\n",
        "stop_words = nltk.corpus.stopwords.words('portuguese')\n",
        "stop_words = stop_words + list(['lulaoficial','lula',',','.','https', ':','!', '#', '@', '?', '/', 'O', 'vai', '|', '–','pra', 'a', 'e', '-'])\n",
        "\n",
        "def remove_stopwords(x):\n",
        "  word_tokens = nltk.word_tokenize(x)\n",
        "  # print(word_tokens)\n",
        "  filtered_sentence = ' '.join([w for w in word_tokens if not (w in stop_words or len(w)<4)]) \n",
        "  return filtered_sentence\n",
        "\n",
        "tweets_lula = full_df\n",
        "\n",
        "#convert to string and lowercase sentences \n",
        "tweets_lula['content'] = tweets_lula['content'].astype(str).str.lower()\n",
        "\n",
        "\n",
        "tweets_lula['filtered_text'] = tweets_lula['content'].apply(lambda x: remove_stopwords(x))\n",
        "\n",
        "# filter tweets_lula by day\n",
        "# for day in tweets_lula['date'].unique():\n",
        "#     print(\"\\nday: \", day)\n",
        "#     tweets_lula_day = tweets_lula[tweets_lula['date'] == day]\n",
        "#     word_count = pd.Series(' '.join(tweets_lula_day['filtered_text'].str.lower()).split()).value_counts()[:20]\n",
        "#     print(word_count)\n",
        "\n",
        "word_count = pd.Series(' '.join(tweets_lula['filtered_text'].str.lower()).split()).value_counts()[:20]\n",
        "print(word_count)\n",
        "\n",
        "# create a word cloud\n",
        "from wordcloud import WordCloud\n",
        "import matplotlib.pyplot as plt\n",
        "\n",
        "wordcloud = WordCloud(width = 800, height = 800,\n",
        "                background_color ='white',\n",
        "                stopwords = stop_words,\n",
        "                min_font_size = 10).generate(' '.join(tweets_lula['filtered_text']))\n",
        "\n",
        "# plot the WordCloud image\n",
        "plt.figure(figsize = (8, 8), facecolor = None)\n",
        "plt.imshow(wordcloud)\n",
        "plt.axis(\"off\")\n",
        "plt.tight_layout(pad = 0)\n",
        "\n",
        "plt.show()"
      ],
      "metadata": {
        "colab": {
          "base_uri": "https://localhost:8080/",
          "height": 1000
        },
        "id": "b9UM1ph3IzIS",
        "outputId": "3280e91b-c013-4954-82ed-ef58c59c0dd5"
      },
      "execution_count": 10,
      "outputs": [
        {
          "output_type": "stream",
          "name": "stderr",
          "text": [
            "[nltk_data] Downloading package punkt to /root/nltk_data...\n",
            "[nltk_data]   Package punkt is already up-to-date!\n",
            "[nltk_data] Downloading package stopwords to /root/nltk_data...\n",
            "[nltk_data]   Unzipping corpora/stopwords.zip.\n"
          ]
        },
        {
          "output_type": "stream",
          "name": "stdout",
          "text": [
            "presidente         1301\n",
            "brasil             1029\n",
            "ladrão              918\n",
            "porque              861\n",
            "agora               743\n",
            "inocente            734\n",
            "simonetebetbr       712\n",
            "thiagoresiste       693\n",
            "votar               670\n",
            "cara                667\n",
            "voto                655\n",
            "povo                639\n",
            "ricardostuckert     609\n",
            "governo             580\n",
            "gente               575\n",
            "turno               534\n",
            "aqui                517\n",
            "ganhar              512\n",
            "anos                498\n",
            "tudo                494\n",
            "dtype: int64\n"
          ]
        },
        {
          "output_type": "display_data",
          "data": {
            "text/plain": [
              "<Figure size 576x576 with 1 Axes>"
            ],
            "image/png": "[encoded data removed]"
          },
          "metadata": {
            "needs_background": "light"
          }
        }
      ]
    },
    {
      "cell_type": "markdown",
      "source": [
        "cria uma lista com dicionarios de reviews e rating"
      ],
      "metadata": {
        "id": "pM7NM0khG75Z"
      }
    },
    {
      "cell_type": "code",
      "source": [
        "#print(tweets_list)"
      ],
      "metadata": {
        "id": "JStdPkEcmZmD"
      },
      "execution_count": 11,
      "outputs": []
    },
    {
      "cell_type": "code",
      "source": [
        "tweets = [str(w[2]) for w in tweets_list]\n",
        "ratings = [int(w[3]) for w in tweets_list]\n",
        "data = [{ 'X': tweets, 'y': rating } for (tweets, rating) in zip(tweets, ratings)]"
      ],
      "metadata": {
        "id": "zyk3u0QFgKqT"
      },
      "execution_count": 12,
      "outputs": []
    },
    {
      "cell_type": "code",
      "source": [
        "#print(data)"
      ],
      "metadata": {
        "id": "afyUgEJ2jyxj"
      },
      "execution_count": 13,
      "outputs": []
    },
    {
      "cell_type": "code",
      "source": [
        "#print(type(data))\n",
        "#print(data)"
      ],
      "metadata": {
        "id": "hlZcWH4JGhM6"
      },
      "execution_count": 14,
      "outputs": []
    },
    {
      "cell_type": "markdown",
      "metadata": {
        "id": "WyleZGdH25Hq"
      },
      "source": [
        "Separando os dados em conjunto de treino e teste"
      ]
    },
    {
      "cell_type": "code",
      "metadata": {
        "colab": {
          "base_uri": "https://localhost:8080/"
        },
        "id": "u1R9CbypJfNO",
        "outputId": "341671c7-f57f-4788-8e14-bd8458ab2162"
      },
      "source": [
        "size = int(len(data) * 0.1)\n",
        "treino = data[2*size:] #  0.2 - 1\n",
        "validacao = data[size:2*size] # 0.1:0.2\n",
        "teste = data[:size]  # 0:0.1\n",
        "\n",
        "len(treino), len(validacao), len(teste)"
      ],
      "execution_count": 15,
      "outputs": [
        {
          "output_type": "execute_result",
          "data": {
            "text/plain": [
              "(670, 83, 83)"
            ]
          },
          "metadata": {},
          "execution_count": 15
        }
      ]
    },
    {
      "cell_type": "markdown",
      "metadata": {
        "id": "dGTxUNNQ3LMK"
      },
      "source": [
        "BERTimbau - documentação [este link](https://github.com/neuralmind-ai/portuguese-bert)."
      ]
    },
    {
      "cell_type": "markdown",
      "metadata": {
        "id": "6OHZj1Ko3nos"
      },
      "source": [
        "Instanciando parâmetros"
      ]
    },
    {
      "cell_type": "code",
      "metadata": {
        "id": "icMF0E_R8h9W"
      },
      "source": [
        "device = torch.device('cuda' if torch.cuda.is_available() else 'cpu') # define qual será o acelerador gráfico onde o modelo será processado\n",
        "nclasses = 3  # número de classes/labels que classificam  os tweets (0 = negativo, 1 = indefinido, 2 = positivo)\n",
        "nepochs = 5  # número de épocas (valor inicial: 5)\n",
        "batch_size = 1  # número mínimo de frases que são previstas por vez - em datasets grandes, número pode ser maior\n",
        "batch_status = 32  # a cada quantas batches avalia o status - numero menor pra dataset menor\n",
        "learning_rate = 1e-5  # taxa de aprendizado\n",
        "early_stop = 2  # critério de parada, quantas epocas sem melhora do f1 para parar o aprendizado\n",
        "\n",
        "max_length = 512 # tamanho maximo de cada frase\n",
        "write_path = 'model'"
      ],
      "execution_count": 16,
      "outputs": []
    },
    {
      "cell_type": "markdown",
      "metadata": {
        "id": "P-fAnBqN3rCv"
      },
      "source": [
        "Separando os dados em batches de treino e teste\n",
        "\n"
      ]
    },
    {
      "cell_type": "code",
      "metadata": {
        "id": "d3P7XcEsLXji"
      },
      "source": [
        "from torch.utils.data import DataLoader\n",
        "\n",
        "traindata = DataLoader(treino, batch_size=batch_size, shuffle=True)\n",
        "validationdata = DataLoader(validacao, batch_size=batch_size, shuffle=True)\n",
        "testdata = DataLoader(teste, batch_size=batch_size, shuffle=True)"
      ],
      "execution_count": 17,
      "outputs": []
    },
    {
      "cell_type": "markdown",
      "metadata": {
        "id": "k8Gl_q253uV9"
      },
      "source": [
        "instanciando tokenizador, modelo, função de erro e otimizador:"
      ]
    },
    {
      "cell_type": "code",
      "metadata": {
        "colab": {
          "base_uri": "https://localhost:8080/",
          "height": 320,
          "referenced_widgets": [
            "3088ad7b28ee4e348cec0e0abafec9be",
            "6c36be0256a84dc4afcc808ca196531e",
            "3234b96ec7e342638023c0a0744deda9",
            "c436f2596e0041efb0bddc5a74b79e23",
            "1fd40bebecaa43d3b4b8035dc2093069",
            "5322a7e643184d53a57f2fd60b15671c",
            "8494d411c96d497fab4db054d5b7300c",
            "fd591a011e5244058448ecc1e85d0698",
            "a3fe735aac9f4a248d6a0557b11e8f5d",
            "34b634d24d8b41b78d503c1a9485fce3",
            "5deb6925ed3c46acbb86041b5b8c770b",
            "4c2ca35f2ed24579a7614b2e1c164149",
            "ebb704c10cf94c3ca99aecff66b0b571",
            "9b362af75a7747458cade98ee2ac5501",
            "c200cf36123242eebde27574297f7f33",
            "d68e7303c24249a2b2552b2e0fe416a0",
            "3e3a4d37d9b04e7a8e5c764551864713",
            "bb30dd82f8c946438cc088327b2b18b7",
            "aba0f7b16b53414790646cb17b883330",
            "4957b396e63747ec87838a51ce436ccc",
            "fa7e98eb4def44bd9dd7ee8b29cb409f",
            "42ad6a7b2dbc449f967c330a3b218aef",
            "02342794864e4d438b69a14b7669be84",
            "fe9bd4c78ba24c3f9d070bd108b89e34",
            "409120571df2455682aeb7103e60a999",
            "bfac908430c54a25a52b627a76196e0a",
            "b79c9c30dc124fc0afa3977328188d5a",
            "e9c7603333f34d61b5d8cf298414a5aa",
            "a4e498878d944801af742d5751807d6c",
            "8569f01e57ee44e481d6a74538a72709",
            "e590413164644eeb8a25f4f0e3ed2653",
            "b03517058e864da2963f057b1c3a68ab",
            "4c12f67f46a54ecfa772161a8c3538f4",
            "93a74c0b6aee43c980c429c96d524b69",
            "a0728a6e37ad4d088c4bef0f73168d35",
            "4e365f5ed8f9405b964819985fe184c9",
            "ebc91ee7e67c43b195f446043aeaa1f4",
            "15fcbbdcbcd94f619ec0c73f68a7a8f8",
            "12ab2ca672b3402996b55716a2df6214",
            "87ef05ba68774c3eac562b419770d840",
            "fc1df55da05241afad002581413ebce9",
            "8bf27c4e0fe8497a8378b7f1d901dc0d",
            "80f39c11573b41d5aafdfcd9605bc527",
            "7d05c45aec6f44bc959544f0a1952f3f",
            "96458c1c0f53422189360f3bc72fc637",
            "5b9665d53fb44f32a74d79edde800309",
            "66a6b12080b7493eb49d493082a0ba3b",
            "04020ce6300a455c92a871b9464663ae",
            "1b80a7971d3d45b083b6c4ff9ea4634c",
            "93bec84ca9494d5492ab5d5c672dea6b",
            "a0e3bd39a30c49f4922ba23e47203644",
            "a506657bb04a458ab9ab27f9927c48fb",
            "8b3075ad66fb498cab15689d883aeebd",
            "8e19d568075f4466aba41e6b6f982aac",
            "d6215316e2a94578b0502c2176cf524f",
            "3995f437e4bc424b9ea966d142bf71fe",
            "903cce6666bc4a1387a2d2b5cf44d49f",
            "8f8ef6e48a3d4330a007fd2135b79eb2",
            "02a0ae90fa60469aaf01243b3753c218",
            "cea2374cd35b4c30aecd0605b2962fd5",
            "95d6f94d8b194611a94451972f665045",
            "564b46239c68427abe6d4825d9c71d0b",
            "590d57bd3873417695c5e2b76407dcd8",
            "fa292142cf3b433ba21802298e15db6a",
            "079c64742ad044818238c6c741a95436",
            "bcbcb0142b064ab6b018703137280700"
          ]
        },
        "id": "7WeMpVR18aPq",
        "outputId": "f14097dc-77c0-4ce1-a55d-63897a9c81c9"
      },
      "source": [
        "# instancia o tokenizador\n",
        "tokenizer = AutoTokenizer.from_pretrained('neuralmind/bert-large-portuguese-cased', do_lower_case=False)  # para utilizar o BERTinbal large: 'neuralmind/bert-large-portuguese-cased'\n",
        "#bertinbal menor: 'neuralmind/bert-base-portuguese-cased'\n",
        "#  instancia o modelo\n",
        "model = AutoModelForSequenceClassification.from_pretrained('neuralmind/bert-large-portuguese-cased', num_labels=nclasses).to(device)\n",
        "\n",
        "# seleciona o otimizador \n",
        "optimizer = torch.optim.AdamW(model.parameters(), lr=learning_rate)\n",
        "\n",
        "# congela os pesos do BERT pré-treinado\n",
        "for param in model.base_model.parameters():\n",
        "    param.requires_grad = False"
      ],
      "execution_count": 18,
      "outputs": [
        {
          "output_type": "display_data",
          "data": {
            "text/plain": [
              "Downloading:   0%|          | 0.00/155 [00:00<?, ?B/s]"
            ],
            "application/vnd.jupyter.widget-view+json": {
              "version_major": 2,
              "version_minor": 0,
              "model_id": "3088ad7b28ee4e348cec0e0abafec9be"
            }
          },
          "metadata": {}
        },
        {
          "output_type": "display_data",
          "data": {
            "text/plain": [
              "Downloading:   0%|          | 0.00/648 [00:00<?, ?B/s]"
            ],
            "application/vnd.jupyter.widget-view+json": {
              "version_major": 2,
              "version_minor": 0,
              "model_id": "4c2ca35f2ed24579a7614b2e1c164149"
            }
          },
          "metadata": {}
        },
        {
          "output_type": "display_data",
          "data": {
            "text/plain": [
              "Downloading:   0%|          | 0.00/210k [00:00<?, ?B/s]"
            ],
            "application/vnd.jupyter.widget-view+json": {
              "version_major": 2,
              "version_minor": 0,
              "model_id": "02342794864e4d438b69a14b7669be84"
            }
          },
          "metadata": {}
        },
        {
          "output_type": "display_data",
          "data": {
            "text/plain": [
              "Downloading:   0%|          | 0.00/2.00 [00:00<?, ?B/s]"
            ],
            "application/vnd.jupyter.widget-view+json": {
              "version_major": 2,
              "version_minor": 0,
              "model_id": "93a74c0b6aee43c980c429c96d524b69"
            }
          },
          "metadata": {}
        },
        {
          "output_type": "display_data",
          "data": {
            "text/plain": [
              "Downloading:   0%|          | 0.00/112 [00:00<?, ?B/s]"
            ],
            "application/vnd.jupyter.widget-view+json": {
              "version_major": 2,
              "version_minor": 0,
              "model_id": "96458c1c0f53422189360f3bc72fc637"
            }
          },
          "metadata": {}
        },
        {
          "output_type": "display_data",
          "data": {
            "text/plain": [
              "Downloading:   0%|          | 0.00/1.34G [00:00<?, ?B/s]"
            ],
            "application/vnd.jupyter.widget-view+json": {
              "version_major": 2,
              "version_minor": 0,
              "model_id": "3995f437e4bc424b9ea966d142bf71fe"
            }
          },
          "metadata": {}
        },
        {
          "output_type": "stream",
          "name": "stderr",
          "text": [
            "Some weights of the model checkpoint at neuralmind/bert-large-portuguese-cased were not used when initializing BertForSequenceClassification: ['cls.predictions.transform.LayerNorm.weight', 'cls.seq_relationship.bias', 'cls.predictions.transform.dense.weight', 'cls.predictions.transform.dense.bias', 'cls.predictions.decoder.weight', 'cls.predictions.transform.LayerNorm.bias', 'cls.seq_relationship.weight', 'cls.predictions.bias']\n",
            "- This IS expected if you are initializing BertForSequenceClassification from the checkpoint of a model trained on another task or with another architecture (e.g. initializing a BertForSequenceClassification model from a BertForPreTraining model).\n",
            "- This IS NOT expected if you are initializing BertForSequenceClassification from the checkpoint of a model that you expect to be exactly identical (initializing a BertForSequenceClassification model from a BertForSequenceClassification model).\n",
            "Some weights of BertForSequenceClassification were not initialized from the model checkpoint at neuralmind/bert-large-portuguese-cased and are newly initialized: ['classifier.weight', 'classifier.bias']\n",
            "You should probably TRAIN this model on a down-stream task to be able to use it for predictions and inference.\n"
          ]
        }
      ]
    },
    {
      "cell_type": "markdown",
      "source": [
        "Funcionamento do tokenizador"
      ],
      "metadata": {
        "id": "OBmKk7ynfKxT"
      }
    },
    {
      "cell_type": "code",
      "source": [
        "tokens = tokenizer.encode(\"bonito carro\", return_tensors=\"pt\")\n",
        "print(\"frase tokenizada no formato de tensor pytorch:\")\n",
        "tokens[0]\n",
        "# codifiga cada palavra com um token e adiciona o token de CLS (classificação) e de final de frase (SEP)"
      ],
      "metadata": {
        "colab": {
          "base_uri": "https://localhost:8080/"
        },
        "id": "RGesZq_JekdE",
        "outputId": "b0f697f9-136a-4e66-e627-3645ad142b22"
      },
      "execution_count": 19,
      "outputs": [
        {
          "output_type": "stream",
          "name": "stdout",
          "text": [
            "frase tokenizada no formato de tensor pytorch:\n"
          ]
        },
        {
          "output_type": "execute_result",
          "data": {
            "text/plain": [
              "tensor([  101, 22003,  3883,   102])"
            ]
          },
          "metadata": {},
          "execution_count": 19
        }
      ]
    },
    {
      "cell_type": "code",
      "source": [
        "tokens = tokenizer.encode(\"carro bonito\", return_tensors=\"pt\").to(device)\n",
        "print(\"frase tokenizada no formato de tensor pytorch:\")\n",
        "tokens[0]"
      ],
      "metadata": {
        "colab": {
          "base_uri": "https://localhost:8080/"
        },
        "id": "8gOueZhaes39",
        "outputId": "05c22f4a-e34a-4129-9ba8-f4539cfd2de5"
      },
      "execution_count": 20,
      "outputs": [
        {
          "output_type": "stream",
          "name": "stdout",
          "text": [
            "frase tokenizada no formato de tensor pytorch:\n"
          ]
        },
        {
          "output_type": "execute_result",
          "data": {
            "text/plain": [
              "tensor([  101,  3883, 22003,   102], device='cuda:0')"
            ]
          },
          "metadata": {},
          "execution_count": 20
        }
      ]
    },
    {
      "cell_type": "code",
      "source": [
        "print(\"frase destokenizada:\")\n",
        "tokenizer.decode(tokens[0])"
      ],
      "metadata": {
        "colab": {
          "base_uri": "https://localhost:8080/",
          "height": 54
        },
        "id": "6FePnuDUeRoF",
        "outputId": "df27c741-960f-42cc-9ffe-dc8b7719c0ce"
      },
      "execution_count": 21,
      "outputs": [
        {
          "output_type": "stream",
          "name": "stdout",
          "text": [
            "frase destokenizada:\n"
          ]
        },
        {
          "output_type": "execute_result",
          "data": {
            "text/plain": [
              "'[CLS] carro bonito [SEP]'"
            ],
            "application/vnd.google.colaboratory.intrinsic+json": {
              "type": "string"
            }
          },
          "metadata": {},
          "execution_count": 21
        }
      ]
    },
    {
      "cell_type": "markdown",
      "source": [
        "funcionamento do modelo"
      ],
      "metadata": {
        "id": "FvJ1QBolfdAu"
      }
    },
    {
      "cell_type": "code",
      "source": [
        "result = model(tokens)\n",
        "result\n",
        "# a saída é uma lista de scores one-hot encoded\n",
        "# como ao ser instanciado o modelo, foi escolhido o número de classes como 3, a saída será de 3 números diferentes\n",
        "# cada posição com um significado diferente, conforme o que for utilizado nos dados de treino\n",
        "# no exemplo a posição 1 (0.0417) é a maior (como o modelo ainda não foi treinado, o significado é aleatório)\n",
        "# caso o modelo for treinado com a classificação 0=ruim, 1=neutro, 2=bom, a posição com número maior irá indicar o sentimento geral da frase\n",
        "\n",
        "\n",
        "\n",
        "\n"
      ],
      "metadata": {
        "colab": {
          "base_uri": "https://localhost:8080/"
        },
        "id": "7kFryBZRffEg",
        "outputId": "3d7841d8-8b24-43c0-b098-8ab0fe070317"
      },
      "execution_count": 22,
      "outputs": [
        {
          "output_type": "execute_result",
          "data": {
            "text/plain": [
              "SequenceClassifierOutput(loss=None, logits=tensor([[-0.2837, -0.3778,  0.2995]], device='cuda:0',\n",
              "       grad_fn=<AddmmBackward0>), hidden_states=None, attentions=None)"
            ]
          },
          "metadata": {},
          "execution_count": 22
        }
      ]
    },
    {
      "cell_type": "code",
      "source": [
        "# para extrair a informação do resultado:\n",
        "torch.argmax(result.logits)"
      ],
      "metadata": {
        "colab": {
          "base_uri": "https://localhost:8080/"
        },
        "id": "uR3JlK9xgm9Z",
        "outputId": "6fdc7467-8373-42ac-9eb1-4721e256d84d"
      },
      "execution_count": 23,
      "outputs": [
        {
          "output_type": "execute_result",
          "data": {
            "text/plain": [
              "tensor(2, device='cuda:0')"
            ]
          },
          "metadata": {},
          "execution_count": 23
        }
      ]
    },
    {
      "cell_type": "markdown",
      "metadata": {
        "id": "-4XlMiF43y56"
      },
      "source": [
        "Definindo a função de avaliação do modelo"
      ]
    },
    {
      "cell_type": "code",
      "metadata": {
        "id": "AbiO9x2E81CS"
      },
      "source": [
        "def evaluate(model, validationdata):\n",
        "  \"\"\"\n",
        "  avalia o desempenho do modelo que está sendo treinado baseado nos dados de validacao\n",
        "  \"\"\"\n",
        "  # coloca o modelo no modo de avaliação\n",
        "  model.eval()\n",
        "  y_real, y_pred = [], []\n",
        "  for batch_idx, inp in enumerate(validationdata): # passa por cada batch dos dados de teste, batch_idx é o número da batch, inp contem o texto e o label\n",
        "    texts, labels = inp['X'], inp['y']\n",
        "    \n",
        "    # instancia o tokenizador enviando os textos dos comentarios\n",
        "    inputs = tokenizer(texts, return_tensors='pt', padding=True, truncation=True, max_length=max_length).to(device)\n",
        "    # instancia o modelo enviando os tokens e salvando as classificações preditas\n",
        "    output = model(**inputs)\n",
        "    \n",
        "    # cria um tensor com os labels preditos no output\n",
        "    pred_labels = torch.argmax(output.logits, 1)\n",
        "\n",
        "    # print(f\"texto: {texts}, rótulo correto: {labels}, predito pelo modelo: {pred_labels}\") # imprime a frase, o resultado correto e o predito\n",
        "    \n",
        "    # adiciona cada novo label às listas y_real e y_pred(ito)\n",
        "    y_real.extend(labels.tolist())\n",
        "    y_pred.extend(pred_labels.tolist())\n",
        "    \n",
        "    # a cada certa quantidade de itens preditos, printa a % de progresso e o número de itens preditos\n",
        "    if (batch_idx+1) % batch_status == 0:\n",
        "      print('Progress:', round(batch_idx / len(testdata), 2), batch_idx)\n",
        "  \n",
        "  # chama o classification_report do scikitlearn para calcular o resultado após predizer todas as linhas de teste\n",
        "  print(classification_report(y_real, y_pred, labels=[0, 1, 2], target_names=['Negative', 'Neural', 'Positive'])) # identifica os labels 0, 1 e 2 como negativo, neutro e positivo\n",
        "  # retorna f1 e acurácia\n",
        "  f1 = f1_score(y_real, y_pred, average='weighted')\n",
        "  acc = accuracy_score(y_real, y_pred)\n",
        "  return f1, acc"
      ],
      "execution_count": 24,
      "outputs": []
    },
    {
      "cell_type": "markdown",
      "metadata": {
        "id": "BfoYwmza39MJ"
      },
      "source": [
        "Treinamento"
      ]
    },
    {
      "cell_type": "code",
      "metadata": {
        "id": "rRiZCQnO9hE1",
        "colab": {
          "base_uri": "https://localhost:8080/"
        },
        "outputId": "12afbb8d-b4bf-420f-c973-25036edd8ed4"
      },
      "source": [
        "max_f1, repeat = 0, 0\n",
        "\n",
        "#  passa por todas as épocas de treino\n",
        "for epoch in range(nepochs):\n",
        "  model.train()\n",
        "  #avalia o modelo antes de iniciar a 1a época\n",
        "  f1, acc = evaluate(model, testdata)\n",
        "  losses = []\n",
        "\n",
        "  for batch_idx, inp in enumerate(traindata): # passa por cada batch dos dados de teste, batch_idx é o número da batch, inp contem o texto e o label\n",
        "    texts, labels = inp['X'], inp['y']\n",
        "\n",
        "    # instancia o tokenizador enviando os textos dos comentarios\n",
        "    inputs = tokenizer(texts, return_tensors='pt', padding=True, truncation=True, max_length=max_length).to(device)\n",
        "    # zera os gradientes acumulados em buffer \n",
        "    optimizer.zero_grad()\n",
        "    # instancia o modelo enviando os tokens e salvando as classificações preditas\n",
        "    output = model(**inputs, labels=labels.to(device))\n",
        "\n",
        "    # calcula a perda\n",
        "    loss = output.loss\n",
        "    losses.append(float(loss))\n",
        "\n",
        "    # faz o Backpropagation no modelo- com o otimizador definido anteriormente (AdamW)\n",
        "    loss.backward()\n",
        "    optimizer.step()\n",
        "\n",
        "    # mostra o andamento do treinamento\n",
        "    if (batch_idx+1) % batch_status == 0:\n",
        "      print('Train Epoch: {} [{}/{} ({:.0f}%)]\\tLoss: {:.6f}\\tTotal Loss: {:.6f}'.format(\\\n",
        "        epoch, # número da época\n",
        "        batch_idx+1, # número do batch\n",
        "        len(traindata), # número total de dados de treino\n",
        "        100. * batch_idx / len(traindata), # % de dados treinados\n",
        "        float(loss), # perda atual\n",
        "        round(sum(losses) / len(losses), 5) # perda acumulada\n",
        "        ))\n",
        "\n",
        "  # se passou a 1a época, descongela os pesos do Bert pretreinado\n",
        "  if epoch == 0: \n",
        "    for param in model.base_model.parameters():\n",
        "        param.requires_grad = True\n",
        "\n",
        "  # ao terminar cada época, avalia o modelo\n",
        "  f1, acc = evaluate(model, validationdata)\n",
        "  print('F1: ', f1, 'Accuracy: ', acc)\n",
        "\n",
        "  # salva o modelo somente se f1 melhorou em relação à epoch anterior\n",
        "  if f1 > max_f1:\n",
        "    model.save_pretrained(os.path.join(write_path, 'model'))\n",
        "    max_f1 = f1\n",
        "    repeat = 0\n",
        "    print('Saving best model...')\n",
        "  else:\n",
        "    repeat += 1\n",
        "  \n",
        "  # se por duas épocas o f1 não melhorou, para de treinar o modelo\n",
        "  if repeat == early_stop:\n",
        "    break"
      ],
      "execution_count": 25,
      "outputs": [
        {
          "output_type": "stream",
          "name": "stdout",
          "text": [
            "Progress: 0.37 31\n",
            "Progress: 0.76 63\n",
            "              precision    recall  f1-score   support\n",
            "\n",
            "    Negative       0.00      0.00      0.00        31\n",
            "      Neural       0.39      0.28      0.33        25\n",
            "    Positive       0.33      0.78      0.47        27\n",
            "\n",
            "    accuracy                           0.34        83\n",
            "   macro avg       0.24      0.35      0.26        83\n",
            "weighted avg       0.23      0.34      0.25        83\n",
            "\n",
            "Train Epoch: 0 [32/670 (5%)]\tLoss: 1.095935\tTotal Loss: 1.114150\n",
            "Train Epoch: 0 [64/670 (9%)]\tLoss: 0.959399\tTotal Loss: 1.112100\n",
            "Train Epoch: 0 [96/670 (14%)]\tLoss: 1.261250\tTotal Loss: 1.131150\n",
            "Train Epoch: 0 [128/670 (19%)]\tLoss: 1.021249\tTotal Loss: 1.126280\n",
            "Train Epoch: 0 [160/670 (24%)]\tLoss: 0.894150\tTotal Loss: 1.121180\n",
            "Train Epoch: 0 [192/670 (29%)]\tLoss: 1.392908\tTotal Loss: 1.122680\n",
            "Train Epoch: 0 [224/670 (33%)]\tLoss: 1.450688\tTotal Loss: 1.128380\n",
            "Train Epoch: 0 [256/670 (38%)]\tLoss: 1.404378\tTotal Loss: 1.130100\n",
            "Train Epoch: 0 [288/670 (43%)]\tLoss: 1.069398\tTotal Loss: 1.126260\n",
            "Train Epoch: 0 [320/670 (48%)]\tLoss: 1.431341\tTotal Loss: 1.120840\n",
            "Train Epoch: 0 [352/670 (52%)]\tLoss: 0.937725\tTotal Loss: 1.122880\n",
            "Train Epoch: 0 [384/670 (57%)]\tLoss: 1.424280\tTotal Loss: 1.120880\n",
            "Train Epoch: 0 [416/670 (62%)]\tLoss: 0.910856\tTotal Loss: 1.118540\n",
            "Train Epoch: 0 [448/670 (67%)]\tLoss: 1.216926\tTotal Loss: 1.118570\n",
            "Train Epoch: 0 [480/670 (71%)]\tLoss: 0.915550\tTotal Loss: 1.115000\n",
            "Train Epoch: 0 [512/670 (76%)]\tLoss: 1.011088\tTotal Loss: 1.114150\n",
            "Train Epoch: 0 [544/670 (81%)]\tLoss: 1.034051\tTotal Loss: 1.115670\n",
            "Train Epoch: 0 [576/670 (86%)]\tLoss: 0.852807\tTotal Loss: 1.116250\n",
            "Train Epoch: 0 [608/670 (91%)]\tLoss: 1.038714\tTotal Loss: 1.113990\n",
            "Train Epoch: 0 [640/670 (95%)]\tLoss: 1.036354\tTotal Loss: 1.113980\n",
            "Progress: 0.37 31\n",
            "Progress: 0.76 63\n",
            "              precision    recall  f1-score   support\n",
            "\n",
            "    Negative       0.31      0.16      0.21        31\n",
            "      Neural       0.12      0.11      0.11        18\n",
            "    Positive       0.34      0.50      0.40        34\n",
            "\n",
            "    accuracy                           0.29        83\n",
            "   macro avg       0.26      0.26      0.24        83\n",
            "weighted avg       0.28      0.29      0.27        83\n",
            "\n",
            "F1:  0.2700577385529962 Accuracy:  0.2891566265060241\n",
            "Saving best model...\n",
            "Progress: 0.37 31\n",
            "Progress: 0.76 63\n",
            "              precision    recall  f1-score   support\n",
            "\n",
            "    Negative       0.33      0.06      0.11        31\n",
            "      Neural       0.33      0.24      0.28        25\n",
            "    Positive       0.36      0.78      0.49        27\n",
            "\n",
            "    accuracy                           0.35        83\n",
            "   macro avg       0.34      0.36      0.29        83\n",
            "weighted avg       0.34      0.35      0.28        83\n",
            "\n",
            "Train Epoch: 1 [32/670 (5%)]\tLoss: 1.174553\tTotal Loss: 1.106690\n",
            "Train Epoch: 1 [64/670 (9%)]\tLoss: 0.975800\tTotal Loss: 1.077160\n",
            "Train Epoch: 1 [96/670 (14%)]\tLoss: 0.926258\tTotal Loss: 1.053470\n",
            "Train Epoch: 1 [128/670 (19%)]\tLoss: 1.297550\tTotal Loss: 1.039200\n",
            "Train Epoch: 1 [160/670 (24%)]\tLoss: 0.936431\tTotal Loss: 1.030870\n",
            "Train Epoch: 1 [192/670 (29%)]\tLoss: 2.123800\tTotal Loss: 1.038460\n",
            "Train Epoch: 1 [224/670 (33%)]\tLoss: 1.652183\tTotal Loss: 1.032800\n",
            "Train Epoch: 1 [256/670 (38%)]\tLoss: 1.349230\tTotal Loss: 1.026570\n",
            "Train Epoch: 1 [288/670 (43%)]\tLoss: 1.033340\tTotal Loss: 1.032070\n",
            "Train Epoch: 1 [320/670 (48%)]\tLoss: 0.894425\tTotal Loss: 1.018650\n",
            "Train Epoch: 1 [352/670 (52%)]\tLoss: 1.002618\tTotal Loss: 1.019240\n",
            "Train Epoch: 1 [384/670 (57%)]\tLoss: 0.694457\tTotal Loss: 1.000840\n",
            "Train Epoch: 1 [416/670 (62%)]\tLoss: 0.307489\tTotal Loss: 0.988390\n",
            "Train Epoch: 1 [448/670 (67%)]\tLoss: 0.400853\tTotal Loss: 0.968600\n",
            "Train Epoch: 1 [480/670 (71%)]\tLoss: 0.131901\tTotal Loss: 0.956030\n",
            "Train Epoch: 1 [512/670 (76%)]\tLoss: 1.306617\tTotal Loss: 0.957670\n",
            "Train Epoch: 1 [544/670 (81%)]\tLoss: 0.418098\tTotal Loss: 0.940440\n",
            "Train Epoch: 1 [576/670 (86%)]\tLoss: 0.328898\tTotal Loss: 0.937190\n",
            "Train Epoch: 1 [608/670 (91%)]\tLoss: 0.391450\tTotal Loss: 0.918750\n",
            "Train Epoch: 1 [640/670 (95%)]\tLoss: 1.070526\tTotal Loss: 0.905270\n",
            "Progress: 0.37 31\n",
            "Progress: 0.76 63\n",
            "              precision    recall  f1-score   support\n",
            "\n",
            "    Negative       0.61      0.71      0.66        31\n",
            "      Neural       0.73      0.61      0.67        18\n",
            "    Positive       0.66      0.62      0.64        34\n",
            "\n",
            "    accuracy                           0.65        83\n",
            "   macro avg       0.67      0.65      0.65        83\n",
            "weighted avg       0.66      0.65      0.65        83\n",
            "\n",
            "F1:  0.6505370191757531 Accuracy:  0.6506024096385542\n",
            "Saving best model...\n",
            "Progress: 0.37 31\n",
            "Progress: 0.76 63\n",
            "              precision    recall  f1-score   support\n",
            "\n",
            "    Negative       0.74      0.74      0.74        31\n",
            "      Neural       0.87      0.52      0.65        25\n",
            "    Positive       0.62      0.85      0.72        27\n",
            "\n",
            "    accuracy                           0.71        83\n",
            "   macro avg       0.74      0.70      0.70        83\n",
            "weighted avg       0.74      0.71      0.71        83\n",
            "\n",
            "Train Epoch: 2 [32/670 (5%)]\tLoss: 0.152410\tTotal Loss: 0.296410\n",
            "Train Epoch: 2 [64/670 (9%)]\tLoss: 0.557420\tTotal Loss: 0.302550\n",
            "Train Epoch: 2 [96/670 (14%)]\tLoss: 0.352486\tTotal Loss: 0.328020\n",
            "Train Epoch: 2 [128/670 (19%)]\tLoss: 0.310227\tTotal Loss: 0.329900\n",
            "Train Epoch: 2 [160/670 (24%)]\tLoss: 0.465955\tTotal Loss: 0.317950\n",
            "Train Epoch: 2 [192/670 (29%)]\tLoss: 0.397069\tTotal Loss: 0.375100\n",
            "Train Epoch: 2 [224/670 (33%)]\tLoss: 0.070872\tTotal Loss: 0.387630\n",
            "Train Epoch: 2 [256/670 (38%)]\tLoss: 0.106796\tTotal Loss: 0.401680\n",
            "Train Epoch: 2 [288/670 (43%)]\tLoss: 0.015987\tTotal Loss: 0.387800\n",
            "Train Epoch: 2 [320/670 (48%)]\tLoss: 0.025818\tTotal Loss: 0.375880\n",
            "Train Epoch: 2 [352/670 (52%)]\tLoss: 0.104121\tTotal Loss: 0.371720\n",
            "Train Epoch: 2 [384/670 (57%)]\tLoss: 1.803791\tTotal Loss: 0.411870\n",
            "Train Epoch: 2 [416/670 (62%)]\tLoss: 0.179567\tTotal Loss: 0.399000\n",
            "Train Epoch: 2 [448/670 (67%)]\tLoss: 0.333827\tTotal Loss: 0.394890\n",
            "Train Epoch: 2 [480/670 (71%)]\tLoss: 0.628326\tTotal Loss: 0.407810\n",
            "Train Epoch: 2 [512/670 (76%)]\tLoss: 0.144800\tTotal Loss: 0.420770\n",
            "Train Epoch: 2 [544/670 (81%)]\tLoss: 0.138958\tTotal Loss: 0.424770\n",
            "Train Epoch: 2 [576/670 (86%)]\tLoss: 0.231825\tTotal Loss: 0.422090\n",
            "Train Epoch: 2 [608/670 (91%)]\tLoss: 0.164602\tTotal Loss: 0.416510\n",
            "Train Epoch: 2 [640/670 (95%)]\tLoss: 0.012168\tTotal Loss: 0.408170\n",
            "Progress: 0.37 31\n",
            "Progress: 0.76 63\n",
            "              precision    recall  f1-score   support\n",
            "\n",
            "    Negative       0.75      0.39      0.51        31\n",
            "      Neural       0.36      0.72      0.48        18\n",
            "    Positive       0.77      0.71      0.74        34\n",
            "\n",
            "    accuracy                           0.59        83\n",
            "   macro avg       0.63      0.61      0.58        83\n",
            "weighted avg       0.68      0.59      0.60        83\n",
            "\n",
            "F1:  0.5976403157638739 Accuracy:  0.5903614457831325\n",
            "Progress: 0.37 31\n",
            "Progress: 0.76 63\n",
            "              precision    recall  f1-score   support\n",
            "\n",
            "    Negative       0.93      0.42      0.58        31\n",
            "      Neural       0.54      0.80      0.65        25\n",
            "    Positive       0.69      0.81      0.75        27\n",
            "\n",
            "    accuracy                           0.66        83\n",
            "   macro avg       0.72      0.68      0.66        83\n",
            "weighted avg       0.73      0.66      0.65        83\n",
            "\n",
            "Train Epoch: 3 [32/670 (5%)]\tLoss: 0.077192\tTotal Loss: 0.197890\n",
            "Train Epoch: 3 [64/670 (9%)]\tLoss: 0.026171\tTotal Loss: 0.168560\n",
            "Train Epoch: 3 [96/670 (14%)]\tLoss: 0.104803\tTotal Loss: 0.151720\n",
            "Train Epoch: 3 [128/670 (19%)]\tLoss: 0.743223\tTotal Loss: 0.136440\n",
            "Train Epoch: 3 [160/670 (24%)]\tLoss: 0.034208\tTotal Loss: 0.116180\n",
            "Train Epoch: 3 [192/670 (29%)]\tLoss: 0.016037\tTotal Loss: 0.107720\n",
            "Train Epoch: 3 [224/670 (33%)]\tLoss: 0.018933\tTotal Loss: 0.097000\n",
            "Train Epoch: 3 [256/670 (38%)]\tLoss: 0.009639\tTotal Loss: 0.099720\n",
            "Train Epoch: 3 [288/670 (43%)]\tLoss: 0.071869\tTotal Loss: 0.092620\n",
            "Train Epoch: 3 [320/670 (48%)]\tLoss: 0.004440\tTotal Loss: 0.092060\n",
            "Train Epoch: 3 [352/670 (52%)]\tLoss: 0.040440\tTotal Loss: 0.086490\n",
            "Train Epoch: 3 [384/670 (57%)]\tLoss: 0.012881\tTotal Loss: 0.088650\n",
            "Train Epoch: 3 [416/670 (62%)]\tLoss: 0.002849\tTotal Loss: 0.088710\n",
            "Train Epoch: 3 [448/670 (67%)]\tLoss: 0.009706\tTotal Loss: 0.087250\n",
            "Train Epoch: 3 [480/670 (71%)]\tLoss: 0.010607\tTotal Loss: 0.084090\n",
            "Train Epoch: 3 [512/670 (76%)]\tLoss: 0.003221\tTotal Loss: 0.081900\n",
            "Train Epoch: 3 [544/670 (81%)]\tLoss: 0.004866\tTotal Loss: 0.088970\n",
            "Train Epoch: 3 [576/670 (86%)]\tLoss: 0.009683\tTotal Loss: 0.086000\n",
            "Train Epoch: 3 [608/670 (91%)]\tLoss: 0.005483\tTotal Loss: 0.082220\n",
            "Train Epoch: 3 [640/670 (95%)]\tLoss: 0.267355\tTotal Loss: 0.083150\n",
            "Progress: 0.37 31\n",
            "Progress: 0.76 63\n",
            "              precision    recall  f1-score   support\n",
            "\n",
            "    Negative       0.69      0.71      0.70        31\n",
            "      Neural       0.55      0.67      0.60        18\n",
            "    Positive       0.79      0.68      0.73        34\n",
            "\n",
            "    accuracy                           0.69        83\n",
            "   macro avg       0.68      0.68      0.68        83\n",
            "weighted avg       0.70      0.69      0.69        83\n",
            "\n",
            "F1:  0.6900745840504876 Accuracy:  0.6867469879518072\n",
            "Saving best model...\n",
            "Progress: 0.37 31\n",
            "Progress: 0.76 63\n",
            "              precision    recall  f1-score   support\n",
            "\n",
            "    Negative       0.71      0.65      0.68        31\n",
            "      Neural       0.58      0.72      0.64        25\n",
            "    Positive       0.79      0.70      0.75        27\n",
            "\n",
            "    accuracy                           0.69        83\n",
            "   macro avg       0.70      0.69      0.69        83\n",
            "weighted avg       0.70      0.69      0.69        83\n",
            "\n",
            "Train Epoch: 4 [32/670 (5%)]\tLoss: 0.014924\tTotal Loss: 0.010060\n",
            "Train Epoch: 4 [64/670 (9%)]\tLoss: 0.003444\tTotal Loss: 0.047690\n",
            "Train Epoch: 4 [96/670 (14%)]\tLoss: 0.004513\tTotal Loss: 0.034080\n",
            "Train Epoch: 4 [128/670 (19%)]\tLoss: 0.001360\tTotal Loss: 0.027210\n",
            "Train Epoch: 4 [160/670 (24%)]\tLoss: 0.004281\tTotal Loss: 0.024840\n",
            "Train Epoch: 4 [192/670 (29%)]\tLoss: 0.001888\tTotal Loss: 0.022290\n",
            "Train Epoch: 4 [224/670 (33%)]\tLoss: 0.001794\tTotal Loss: 0.019780\n",
            "Train Epoch: 4 [256/670 (38%)]\tLoss: 0.056454\tTotal Loss: 0.021140\n",
            "Train Epoch: 4 [288/670 (43%)]\tLoss: 0.004164\tTotal Loss: 0.034450\n",
            "Train Epoch: 4 [320/670 (48%)]\tLoss: 0.010664\tTotal Loss: 0.031550\n",
            "Train Epoch: 4 [352/670 (52%)]\tLoss: 0.012912\tTotal Loss: 0.031600\n",
            "Train Epoch: 4 [384/670 (57%)]\tLoss: 0.001575\tTotal Loss: 0.030980\n",
            "Train Epoch: 4 [416/670 (62%)]\tLoss: 0.001349\tTotal Loss: 0.029090\n",
            "Train Epoch: 4 [448/670 (67%)]\tLoss: 3.513407\tTotal Loss: 0.035150\n",
            "Train Epoch: 4 [480/670 (71%)]\tLoss: 0.001612\tTotal Loss: 0.043770\n",
            "Train Epoch: 4 [512/670 (76%)]\tLoss: 0.000922\tTotal Loss: 0.041630\n",
            "Train Epoch: 4 [544/670 (81%)]\tLoss: 0.006091\tTotal Loss: 0.039910\n",
            "Train Epoch: 4 [576/670 (86%)]\tLoss: 0.173981\tTotal Loss: 0.054940\n",
            "Train Epoch: 4 [608/670 (91%)]\tLoss: 0.003476\tTotal Loss: 0.053330\n",
            "Train Epoch: 4 [640/670 (95%)]\tLoss: 0.004015\tTotal Loss: 0.053220\n",
            "Progress: 0.37 31\n",
            "Progress: 0.76 63\n",
            "              precision    recall  f1-score   support\n",
            "\n",
            "    Negative       0.67      0.71      0.69        31\n",
            "      Neural       0.48      0.61      0.54        18\n",
            "    Positive       0.78      0.62      0.69        34\n",
            "\n",
            "    accuracy                           0.65        83\n",
            "   macro avg       0.64      0.65      0.64        83\n",
            "weighted avg       0.67      0.65      0.66        83\n",
            "\n",
            "F1:  0.6551912367583088 Accuracy:  0.6506024096385542\n"
          ]
        }
      ]
    },
    {
      "cell_type": "code",
      "source": [
        "  # avaliação final do modelo nos dados de teste\n",
        "  f1, acc = evaluate(model, testdata)\n",
        "  print('F1: ', f1, 'Accuracy: ', acc)"
      ],
      "metadata": {
        "id": "apWRlEDuafo_",
        "outputId": "947952e3-2c13-459a-ce15-6fd2643052da",
        "colab": {
          "base_uri": "https://localhost:8080/"
        }
      },
      "execution_count": 26,
      "outputs": [
        {
          "output_type": "stream",
          "name": "stdout",
          "text": [
            "Progress: 0.37 31\n",
            "Progress: 0.76 63\n",
            "              precision    recall  f1-score   support\n",
            "\n",
            "    Negative       0.76      0.61      0.68        31\n",
            "      Neural       0.60      0.72      0.65        25\n",
            "    Positive       0.71      0.74      0.73        27\n",
            "\n",
            "    accuracy                           0.69        83\n",
            "   macro avg       0.69      0.69      0.69        83\n",
            "weighted avg       0.70      0.69      0.69        83\n",
            "\n",
            "F1:  0.6871772805507746 Accuracy:  0.6867469879518072\n"
          ]
        }
      ]
    },
    {
      "cell_type": "code",
      "source": [
        "texts = \"lula é horrível\"\n",
        "\n",
        "# instancia o tokenizador enviando os textos dos comentarios\n",
        "inputs = tokenizer(texts, return_tensors='pt', padding=True, truncation=True, max_length=max_length).to(device)\n",
        "# instancia o modelo enviando os tokens e salvando as classificações preditas\n",
        "output = model(**inputs)\n",
        "\n",
        "# cria um tensor com os labels preditos no output\n",
        "pred_labels = torch.argmax(output.logits, 1)\n",
        "\n",
        "print(f\"texto: {texts}, rótulo predito pelo modelo: {pred_labels}\") # imprime a frase, o resultado correto e o predito"
      ],
      "metadata": {
        "colab": {
          "base_uri": "https://localhost:8080/"
        },
        "id": "hUx4gHm0jt_c",
        "outputId": "a9ecf6ea-6e50-43c3-b026-9bba685b760a"
      },
      "execution_count": 28,
      "outputs": [
        {
          "output_type": "stream",
          "name": "stdout",
          "text": [
            "texto: lula é horrível, rótulo predito pelo modelo: tensor([0], device='cuda:0')\n"
          ]
        }
      ]
    },
    {
      "cell_type": "code",
      "source": [
        "texts = \"lula é ótimo, votem 13\"\n",
        "\n",
        "# instancia o tokenizador enviando os textos dos comentarios\n",
        "inputs = tokenizer(texts, return_tensors='pt', padding=True, truncation=True, max_length=max_length).to(device)\n",
        "# instancia o modelo enviando os tokens e salvando as classificações preditas\n",
        "output = model(**inputs)\n",
        "\n",
        "# cria um tensor com os labels preditos no output\n",
        "pred_labels = torch.argmax(output.logits, 1).item()\n",
        "\n",
        "print(f\"texto: {texts}, rótulo predito pelo modelo: {pred_labels}\") # imprime a frase, o resultado correto e o predito"
      ],
      "metadata": {
        "colab": {
          "base_uri": "https://localhost:8080/"
        },
        "id": "vN_bY4xtlIHf",
        "outputId": "49e09590-5206-4907-d28d-ac5442161967"
      },
      "execution_count": 29,
      "outputs": [
        {
          "output_type": "stream",
          "name": "stdout",
          "text": [
            "texto: lula é ótimo, votem 13, rótulo predito pelo modelo: 2\n"
          ]
        }
      ]
    },
    {
      "cell_type": "code",
      "source": [
        "texts = \"lula é regular\"\n",
        "\n",
        "# instancia o tokenizador enviando os textos dos comentarios\n",
        "inputs = tokenizer(texts, return_tensors='pt', padding=True, truncation=True, max_length=max_length).to(device)\n",
        "# instancia o modelo enviando os tokens e salvando as classificações preditas\n",
        "output = model(**inputs)\n",
        "\n",
        "# cria um tensor com os labels preditos no output\n",
        "pred_labels = torch.argmax(output.logits, 1)\n",
        "\n",
        "print(f\"texto: {texts}, rótulo predito pelo modelo: {pred_labels}\") # imprime a frase, o resultado correto e o predito"
      ],
      "metadata": {
        "colab": {
          "base_uri": "https://localhost:8080/"
        },
        "id": "YBwGwZurlMok",
        "outputId": "0371c636-a30d-4815-e396-4f770187abd8"
      },
      "execution_count": 30,
      "outputs": [
        {
          "output_type": "stream",
          "name": "stdout",
          "text": [
            "texto: lula é regular, rótulo predito pelo modelo: tensor([0], device='cuda:0')\n"
          ]
        }
      ]
    },
    {
      "cell_type": "code",
      "source": [
        "#reduced_df = full_df.head(10000) # seleciona apenas 5000 linhas para teste\n",
        "reduced_df = full_df"
      ],
      "metadata": {
        "id": "b2Hi-lWBJgBl"
      },
      "execution_count": 31,
      "outputs": []
    },
    {
      "cell_type": "code",
      "source": [
        "\n",
        "# iterates through the dataframe tweets_lula and prints the text of the 'content' column at each iteration\n",
        "for index, row in reduced_df.iterrows():\n",
        "    # instancia o tokenizador enviando os textos dos comentarios\n",
        "    inputs = tokenizer(str(row['content']), return_tensors='pt', padding=True, truncation=True, max_length=max_length).to(device)\n",
        "    # instancia o modelo enviando os tokens e salvando as classificações preditas\n",
        "    output = model(**inputs)\n",
        "    # cria um tensor com os labels preditos no output e extrai a predição do tensor\n",
        "    reduced_df['label'][index] = torch.argmax(output.logits).item()\n",
        "\n",
        "    if index % 2000 == 0:\n",
        "      print(f\"{index}/{len(reduced_df)}\")\n",
        "    #print(reduced_df['label'])\n",
        "    \n"
      ],
      "metadata": {
        "colab": {
          "base_uri": "https://localhost:8080/"
        },
        "id": "bYuwXKsz5RKc",
        "outputId": "270e05af-eaa5-443c-89d0-272ddd3348a0"
      },
      "execution_count": 32,
      "outputs": [
        {
          "output_type": "stream",
          "name": "stdout",
          "text": [
            "0/24698\n"
          ]
        },
        {
          "output_type": "stream",
          "name": "stderr",
          "text": [
            "/usr/local/lib/python3.7/dist-packages/ipykernel_launcher.py:8: SettingWithCopyWarning: \n",
            "A value is trying to be set on a copy of a slice from a DataFrame\n",
            "\n",
            "See the caveats in the documentation: https://pandas.pydata.org/pandas-docs/stable/user_guide/indexing.html#returning-a-view-versus-a-copy\n",
            "  \n"
          ]
        },
        {
          "output_type": "stream",
          "name": "stdout",
          "text": [
            "2000/24698\n",
            "4000/24698\n",
            "6000/24698\n",
            "8000/24698\n",
            "10000/24698\n",
            "12000/24698\n",
            "14000/24698\n",
            "16000/24698\n",
            "18000/24698\n",
            "20000/24698\n",
            "22000/24698\n",
            "24000/24698\n"
          ]
        }
      ]
    },
    {
      "cell_type": "code",
      "source": [
        "# nmostra a proporção de labels no resultado final total\n",
        "reduced_df['label'].value_counts().plot.pie(autopct='%.2f')"
      ],
      "metadata": {
        "colab": {
          "base_uri": "https://localhost:8080/",
          "height": 266
        },
        "id": "LkhxhKKqH3S9",
        "outputId": "47b4ac82-a228-4463-d4f1-771e47a3f83d"
      },
      "execution_count": 33,
      "outputs": [
        {
          "output_type": "execute_result",
          "data": {
            "text/plain": [
              "<matplotlib.axes._subplots.AxesSubplot at 0x7fc17c66dc10>"
            ]
          },
          "metadata": {},
          "execution_count": 33
        },
        {
          "output_type": "display_data",
          "data": {
            "text/plain": [
              "<Figure size 432x288 with 1 Axes>"
            ],
            "image/png": "[encoded data removed]"
          },
          "metadata": {}
        }
      ]
    },
    {
      "cell_type": "code",
      "source": [
        "# transforma a data em time series\n",
        "reduced_df['date'] = pd.to_datetime(full_df['date'])\n"
      ],
      "metadata": {
        "id": "MAcHMqWu6jnJ"
      },
      "execution_count": 34,
      "outputs": []
    },
    {
      "cell_type": "code",
      "source": [
        "# agrupa o total de labels por dia\n",
        "reduced_df_grouped = reduced_df.groupby(['label', pd.Grouper(key='date', freq='D')]).count()"
      ],
      "metadata": {
        "id": "LklHxUMyBXjx"
      },
      "execution_count": 35,
      "outputs": []
    },
    {
      "cell_type": "code",
      "source": [
        "reduced_df_grouped.head(10)"
      ],
      "metadata": {
        "colab": {
          "base_uri": "https://localhost:8080/",
          "height": 394
        },
        "id": "A5pgTDSFG9Sv",
        "outputId": "a6f77419-f284-45f8-c0ba-86b967d6f4b0"
      },
      "execution_count": 36,
      "outputs": [
        {
          "output_type": "execute_result",
          "data": {
            "text/plain": [
              "                   id  content  filtered_text\n",
              "label date                                   \n",
              "0.0   2022-10-02  218      218            218\n",
              "      2022-10-03  249      249            249\n",
              "      2022-10-04  330      330            330\n",
              "      2022-10-05  332      332            332\n",
              "      2022-10-06  404      404            404\n",
              "      2022-10-07  419      419            419\n",
              "      2022-10-08  341      341            341\n",
              "      2022-10-09  363      363            363\n",
              "      2022-10-10  336      336            336\n",
              "      2022-10-11  349      349            349"
            ],
            "text/html": [
              "\n",
              "  <div id=\"df-b0d5c3b2-011e-402a-8e52-e700712c2609\">\n",
              "    <div class=\"colab-df-container\">\n",
              "      <div>\n",
              "<style scoped>\n",
              "    .dataframe tbody tr th:only-of-type {\n",
              "        vertical-align: middle;\n",
              "    }\n",
              "\n",
              "    .dataframe tbody tr th {\n",
              "        vertical-align: top;\n",
              "    }\n",
              "\n",
              "    .dataframe thead th {\n",
              "        text-align: right;\n",
              "    }\n",
              "</style>\n",
              "<table border=\"1\" class=\"dataframe\">\n",
              "  <thead>\n",
              "    <tr style=\"text-align: right;\">\n",
              "      <th></th>\n",
              "      <th></th>\n",
              "      <th>id</th>\n",
              "      <th>content</th>\n",
              "      <th>filtered_text</th>\n",
              "    </tr>\n",
              "    <tr>\n",
              "      <th>label</th>\n",
              "      <th>date</th>\n",
              "      <th></th>\n",
              "      <th></th>\n",
              "      <th></th>\n",
              "    </tr>\n",
              "  </thead>\n",
              "  <tbody>\n",
              "    <tr>\n",
              "      <th rowspan=\"10\" valign=\"top\">0.0</th>\n",
              "      <th>2022-10-02</th>\n",
              "      <td>218</td>\n",
              "      <td>218</td>\n",
              "      <td>218</td>\n",
              "    </tr>\n",
              "    <tr>\n",
              "      <th>2022-10-03</th>\n",
              "      <td>249</td>\n",
              "      <td>249</td>\n",
              "      <td>249</td>\n",
              "    </tr>\n",
              "    <tr>\n",
              "      <th>2022-10-04</th>\n",
              "      <td>330</td>\n",
              "      <td>330</td>\n",
              "      <td>330</td>\n",
              "    </tr>\n",
              "    <tr>\n",
              "      <th>2022-10-05</th>\n",
              "      <td>332</td>\n",
              "      <td>332</td>\n",
              "      <td>332</td>\n",
              "    </tr>\n",
              "    <tr>\n",
              "      <th>2022-10-06</th>\n",
              "      <td>404</td>\n",
              "      <td>404</td>\n",
              "      <td>404</td>\n",
              "    </tr>\n",
              "    <tr>\n",
              "      <th>2022-10-07</th>\n",
              "      <td>419</td>\n",
              "      <td>419</td>\n",
              "      <td>419</td>\n",
              "    </tr>\n",
              "    <tr>\n",
              "      <th>2022-10-08</th>\n",
              "      <td>341</td>\n",
              "      <td>341</td>\n",
              "      <td>341</td>\n",
              "    </tr>\n",
              "    <tr>\n",
              "      <th>2022-10-09</th>\n",
              "      <td>363</td>\n",
              "      <td>363</td>\n",
              "      <td>363</td>\n",
              "    </tr>\n",
              "    <tr>\n",
              "      <th>2022-10-10</th>\n",
              "      <td>336</td>\n",
              "      <td>336</td>\n",
              "      <td>336</td>\n",
              "    </tr>\n",
              "    <tr>\n",
              "      <th>2022-10-11</th>\n",
              "      <td>349</td>\n",
              "      <td>349</td>\n",
              "      <td>349</td>\n",
              "    </tr>\n",
              "  </tbody>\n",
              "</table>\n",
              "</div>\n",
              "      <button class=\"colab-df-convert\" onclick=\"convertToInteractive('df-b0d5c3b2-011e-402a-8e52-e700712c2609')\"\n",
              "              title=\"Convert this dataframe to an interactive table.\"\n",
              "              style=\"display:none;\">\n",
              "        \n",
              "  <svg xmlns=\"http://www.w3.org/2000/svg\" height=\"24px\"viewBox=\"0 0 24 24\"\n",
              "       width=\"24px\">\n",
              "    <path d=\"M0 0h24v24H0V0z\" fill=\"none\"/>\n",
              "    <path d=\"M18.56 5.44l.94 2.06.94-2.06 2.06-.94-2.06-.94-.94-2.06-.94 2.06-2.06.94zm-11 1L8.5 8.5l.94-2.06 2.06-.94-2.06-.94L8.5 2.5l-.94 2.06-2.06.94zm10 10l.94 2.06.94-2.06 2.06-.94-2.06-.94-.94-2.06-.94 2.06-2.06.94z\"/><path d=\"M17.41 7.96l-1.37-1.37c-.4-.4-.92-.59-1.43-.59-.52 0-1.04.2-1.43.59L10.3 9.45l-7.72 7.72c-.78.78-.78 2.05 0 2.83L4 21.41c.39.39.9.59 1.41.59.51 0 1.02-.2 1.41-.59l7.78-7.78 2.81-2.81c.8-.78.8-2.07 0-2.86zM5.41 20L4 18.59l7.72-7.72 1.47 1.35L5.41 20z\"/>\n",
              "  </svg>\n",
              "      </button>\n",
              "      \n",
              "  <style>\n",
              "    .colab-df-container {\n",
              "      display:flex;\n",
              "      flex-wrap:wrap;\n",
              "      gap: 12px;\n",
              "    }\n",
              "\n",
              "    .colab-df-convert {\n",
              "      background-color: #E8F0FE;\n",
              "      border: none;\n",
              "      border-radius: 50%;\n",
              "      cursor: pointer;\n",
              "      display: none;\n",
              "      fill: #1967D2;\n",
              "      height: 32px;\n",
              "      padding: 0 0 0 0;\n",
              "      width: 32px;\n",
              "    }\n",
              "\n",
              "    .colab-df-convert:hover {\n",
              "      background-color: #E2EBFA;\n",
              "      box-shadow: 0px 1px 2px rgba(60, 64, 67, 0.3), 0px 1px 3px 1px rgba(60, 64, 67, 0.15);\n",
              "      fill: #174EA6;\n",
              "    }\n",
              "\n",
              "    [theme=dark] .colab-df-convert {\n",
              "      background-color: #3B4455;\n",
              "      fill: #D2E3FC;\n",
              "    }\n",
              "\n",
              "    [theme=dark] .colab-df-convert:hover {\n",
              "      background-color: #434B5C;\n",
              "      box-shadow: 0px 1px 3px 1px rgba(0, 0, 0, 0.15);\n",
              "      filter: drop-shadow(0px 1px 2px rgba(0, 0, 0, 0.3));\n",
              "      fill: #FFFFFF;\n",
              "    }\n",
              "  </style>\n",
              "\n",
              "      <script>\n",
              "        const buttonEl =\n",
              "          document.querySelector('#df-b0d5c3b2-011e-402a-8e52-e700712c2609 button.colab-df-convert');\n",
              "        buttonEl.style.display =\n",
              "          google.colab.kernel.accessAllowed ? 'block' : 'none';\n",
              "\n",
              "        async function convertToInteractive(key) {\n",
              "          const element = document.querySelector('#df-b0d5c3b2-011e-402a-8e52-e700712c2609');\n",
              "          const dataTable =\n",
              "            await google.colab.kernel.invokeFunction('convertToInteractive',\n",
              "                                                     [key], {});\n",
              "          if (!dataTable) return;\n",
              "\n",
              "          const docLinkHtml = 'Like what you see? Visit the ' +\n",
              "            '<a target=\"_blank\" href=https://colab.research.google.com/notebooks/data_table.ipynb>data table notebook</a>'\n",
              "            + ' to learn more about interactive tables.';\n",
              "          element.innerHTML = '';\n",
              "          dataTable['output_type'] = 'display_data';\n",
              "          await google.colab.output.renderOutput(dataTable, element);\n",
              "          const docLink = document.createElement('div');\n",
              "          docLink.innerHTML = docLinkHtml;\n",
              "          element.appendChild(docLink);\n",
              "        }\n",
              "      </script>\n",
              "    </div>\n",
              "  </div>\n",
              "  "
            ]
          },
          "metadata": {},
          "execution_count": 36
        }
      ]
    },
    {
      "cell_type": "code",
      "source": [
        "# faz o pivot transformando as linhas de diferente labels em colunas\n",
        "reduced_df_grouped = reduced_df_grouped.pivot_table(index='date', columns='label', values='content')"
      ],
      "metadata": {
        "id": "5H6bwFA_O_4x"
      },
      "execution_count": 37,
      "outputs": []
    },
    {
      "cell_type": "code",
      "source": [
        "#remove coluna com label 1\n",
        "reduced_df_grouped = reduced_df_grouped.drop(columns=[1])"
      ],
      "metadata": {
        "id": "zHZ62wtuS5np"
      },
      "execution_count": 38,
      "outputs": []
    },
    {
      "cell_type": "code",
      "source": [
        "#plota o gráfico\n",
        "reduced_df_grouped.plot(kind='bar', stacked=True, figsize=(20,10))"
      ],
      "metadata": {
        "colab": {
          "base_uri": "https://localhost:8080/",
          "height": 719
        },
        "id": "WCX5BIGaPqN4",
        "outputId": "3fc868fb-1c9a-4e9d-9127-ab1509ce5b33"
      },
      "execution_count": 39,
      "outputs": [
        {
          "output_type": "execute_result",
          "data": {
            "text/plain": [
              "<matplotlib.axes._subplots.AxesSubplot at 0x7fc17c67d550>"
            ]
          },
          "metadata": {},
          "execution_count": 39
        },
        {
          "output_type": "display_data",
          "data": {
            "text/plain": [
              "<Figure size 1440x720 with 1 Axes>"
            ],
            "image/png": "[encoded data removed]"
          },
          "metadata": {
            "needs_background": "light"
          }
        }
      ]
    },
    {
      "cell_type": "code",
      "source": [
        "stacked_data = reduced_df_grouped.apply(lambda x: x*100/sum(x), axis=1)\n",
        "stacked_data.plot(kind=\"bar\", stacked=True,  figsize=(20,10))\n",
        "plt.title(\"Variação de sentimento\")\n",
        "plt.xlabel(\"Data\")\n",
        "plt.ylabel(\"Porcentagem de cada Sentimento\")"
      ],
      "metadata": {
        "colab": {
          "base_uri": "https://localhost:8080/",
          "height": 735
        },
        "id": "i-WZyDc4e4X0",
        "outputId": "fb220d22-2b95-4d9f-9537-5dc033c7b0a9"
      },
      "execution_count": 40,
      "outputs": [
        {
          "output_type": "execute_result",
          "data": {
            "text/plain": [
              "Text(0, 0.5, 'Porcentagem de cada Sentimento')"
            ]
          },
          "metadata": {},
          "execution_count": 40
        },
        {
          "output_type": "display_data",
          "data": {
            "text/plain": [
              "<Figure size 1440x720 with 1 Axes>"
            ],
            "image/png": "[encoded data removed]"
          },
          "metadata": {
            "needs_background": "light"
          }
        }
      ]
    }
  ]
}