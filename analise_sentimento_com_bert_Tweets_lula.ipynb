{
  "nbformat": 4,
  "nbformat_minor": 0,
  "metadata": {
    "colab": {
      "provenance": [],
      "collapsed_sections": [],
      "include_colab_link": true
    },
    "kernelspec": {
      "name": "python3",
      "display_name": "Python 3"
    },
    "language_info": {
      "name": "python"
    },
    "gpuClass": "standard",
    "widgets": {
      "application/vnd.jupyter.widget-state+json": {
        "9bd82cc23a35466f98220c374b7bae13": {
          "model_module": "@jupyter-widgets/controls",
          "model_name": "HBoxModel",
          "model_module_version": "1.5.0",
          "state": {
            "_dom_classes": [],
            "_model_module": "@jupyter-widgets/controls",
            "_model_module_version": "1.5.0",
            "_model_name": "HBoxModel",
            "_view_count": null,
            "_view_module": "@jupyter-widgets/controls",
            "_view_module_version": "1.5.0",
            "_view_name": "HBoxView",
            "box_style": "",
            "children": [
              "IPY_MODEL_e5b0d1d7d6e3447aabf0fe85b9f277f1",
              "IPY_MODEL_a2c7b09ec9ca4fe289f88bae5514f827",
              "IPY_MODEL_c7848a95a6c54a619f701e9f220fb4d9"
            ],
            "layout": "IPY_MODEL_4d84ad502a2d45c099e7b16de5add0d7"
          }
        },
        "e5b0d1d7d6e3447aabf0fe85b9f277f1": {
          "model_module": "@jupyter-widgets/controls",
          "model_name": "HTMLModel",
          "model_module_version": "1.5.0",
          "state": {
            "_dom_classes": [],
            "_model_module": "@jupyter-widgets/controls",
            "_model_module_version": "1.5.0",
            "_model_name": "HTMLModel",
            "_view_count": null,
            "_view_module": "@jupyter-widgets/controls",
            "_view_module_version": "1.5.0",
            "_view_name": "HTMLView",
            "description": "",
            "description_tooltip": null,
            "layout": "IPY_MODEL_7fd63225273c4b619f046faccda6ec9e",
            "placeholder": "​",
            "style": "IPY_MODEL_29c45773b96a43b9a63c56b0b0f9b813",
            "value": "Downloading: 100%"
          }
        },
        "a2c7b09ec9ca4fe289f88bae5514f827": {
          "model_module": "@jupyter-widgets/controls",
          "model_name": "FloatProgressModel",
          "model_module_version": "1.5.0",
          "state": {
            "_dom_classes": [],
            "_model_module": "@jupyter-widgets/controls",
            "_model_module_version": "1.5.0",
            "_model_name": "FloatProgressModel",
            "_view_count": null,
            "_view_module": "@jupyter-widgets/controls",
            "_view_module_version": "1.5.0",
            "_view_name": "ProgressView",
            "bar_style": "success",
            "description": "",
            "description_tooltip": null,
            "layout": "IPY_MODEL_3dfc16108a734580a00efe2f69c71c7c",
            "max": 155,
            "min": 0,
            "orientation": "horizontal",
            "style": "IPY_MODEL_48e490b28d3c40a7a2ee31562f35c633",
            "value": 155
          }
        },
        "c7848a95a6c54a619f701e9f220fb4d9": {
          "model_module": "@jupyter-widgets/controls",
          "model_name": "HTMLModel",
          "model_module_version": "1.5.0",
          "state": {
            "_dom_classes": [],
            "_model_module": "@jupyter-widgets/controls",
            "_model_module_version": "1.5.0",
            "_model_name": "HTMLModel",
            "_view_count": null,
            "_view_module": "@jupyter-widgets/controls",
            "_view_module_version": "1.5.0",
            "_view_name": "HTMLView",
            "description": "",
            "description_tooltip": null,
            "layout": "IPY_MODEL_8451d88715544761951c7257a8c41b56",
            "placeholder": "​",
            "style": "IPY_MODEL_9c2e75566f234e0a91a5365f7f1e17e4",
            "value": " 155/155 [00:00&lt;00:00, 1.41kB/s]"
          }
        },
        "4d84ad502a2d45c099e7b16de5add0d7": {
          "model_module": "@jupyter-widgets/base",
          "model_name": "LayoutModel",
          "model_module_version": "1.2.0",
          "state": {
            "_model_module": "@jupyter-widgets/base",
            "_model_module_version": "1.2.0",
            "_model_name": "LayoutModel",
            "_view_count": null,
            "_view_module": "@jupyter-widgets/base",
            "_view_module_version": "1.2.0",
            "_view_name": "LayoutView",
            "align_content": null,
            "align_items": null,
            "align_self": null,
            "border": null,
            "bottom": null,
            "display": null,
            "flex": null,
            "flex_flow": null,
            "grid_area": null,
            "grid_auto_columns": null,
            "grid_auto_flow": null,
            "grid_auto_rows": null,
            "grid_column": null,
            "grid_gap": null,
            "grid_row": null,
            "grid_template_areas": null,
            "grid_template_columns": null,
            "grid_template_rows": null,
            "height": null,
            "justify_content": null,
            "justify_items": null,
            "left": null,
            "margin": null,
            "max_height": null,
            "max_width": null,
            "min_height": null,
            "min_width": null,
            "object_fit": null,
            "object_position": null,
            "order": null,
            "overflow": null,
            "overflow_x": null,
            "overflow_y": null,
            "padding": null,
            "right": null,
            "top": null,
            "visibility": null,
            "width": null
          }
        },
        "7fd63225273c4b619f046faccda6ec9e": {
          "model_module": "@jupyter-widgets/base",
          "model_name": "LayoutModel",
          "model_module_version": "1.2.0",
          "state": {
            "_model_module": "@jupyter-widgets/base",
            "_model_module_version": "1.2.0",
            "_model_name": "LayoutModel",
            "_view_count": null,
            "_view_module": "@jupyter-widgets/base",
            "_view_module_version": "1.2.0",
            "_view_name": "LayoutView",
            "align_content": null,
            "align_items": null,
            "align_self": null,
            "border": null,
            "bottom": null,
            "display": null,
            "flex": null,
            "flex_flow": null,
            "grid_area": null,
            "grid_auto_columns": null,
            "grid_auto_flow": null,
            "grid_auto_rows": null,
            "grid_column": null,
            "grid_gap": null,
            "grid_row": null,
            "grid_template_areas": null,
            "grid_template_columns": null,
            "grid_template_rows": null,
            "height": null,
            "justify_content": null,
            "justify_items": null,
            "left": null,
            "margin": null,
            "max_height": null,
            "max_width": null,
            "min_height": null,
            "min_width": null,
            "object_fit": null,
            "object_position": null,
            "order": null,
            "overflow": null,
            "overflow_x": null,
            "overflow_y": null,
            "padding": null,
            "right": null,
            "top": null,
            "visibility": null,
            "width": null
          }
        },
        "29c45773b96a43b9a63c56b0b0f9b813": {
          "model_module": "@jupyter-widgets/controls",
          "model_name": "DescriptionStyleModel",
          "model_module_version": "1.5.0",
          "state": {
            "_model_module": "@jupyter-widgets/controls",
            "_model_module_version": "1.5.0",
            "_model_name": "DescriptionStyleModel",
            "_view_count": null,
            "_view_module": "@jupyter-widgets/base",
            "_view_module_version": "1.2.0",
            "_view_name": "StyleView",
            "description_width": ""
          }
        },
        "3dfc16108a734580a00efe2f69c71c7c": {
          "model_module": "@jupyter-widgets/base",
          "model_name": "LayoutModel",
          "model_module_version": "1.2.0",
          "state": {
            "_model_module": "@jupyter-widgets/base",
            "_model_module_version": "1.2.0",
            "_model_name": "LayoutModel",
            "_view_count": null,
            "_view_module": "@jupyter-widgets/base",
            "_view_module_version": "1.2.0",
            "_view_name": "LayoutView",
            "align_content": null,
            "align_items": null,
            "align_self": null,
            "border": null,
            "bottom": null,
            "display": null,
            "flex": null,
            "flex_flow": null,
            "grid_area": null,
            "grid_auto_columns": null,
            "grid_auto_flow": null,
            "grid_auto_rows": null,
            "grid_column": null,
            "grid_gap": null,
            "grid_row": null,
            "grid_template_areas": null,
            "grid_template_columns": null,
            "grid_template_rows": null,
            "height": null,
            "justify_content": null,
            "justify_items": null,
            "left": null,
            "margin": null,
            "max_height": null,
            "max_width": null,
            "min_height": null,
            "min_width": null,
            "object_fit": null,
            "object_position": null,
            "order": null,
            "overflow": null,
            "overflow_x": null,
            "overflow_y": null,
            "padding": null,
            "right": null,
            "top": null,
            "visibility": null,
            "width": null
          }
        },
        "48e490b28d3c40a7a2ee31562f35c633": {
          "model_module": "@jupyter-widgets/controls",
          "model_name": "ProgressStyleModel",
          "model_module_version": "1.5.0",
          "state": {
            "_model_module": "@jupyter-widgets/controls",
            "_model_module_version": "1.5.0",
            "_model_name": "ProgressStyleModel",
            "_view_count": null,
            "_view_module": "@jupyter-widgets/base",
            "_view_module_version": "1.2.0",
            "_view_name": "StyleView",
            "bar_color": null,
            "description_width": ""
          }
        },
        "8451d88715544761951c7257a8c41b56": {
          "model_module": "@jupyter-widgets/base",
          "model_name": "LayoutModel",
          "model_module_version": "1.2.0",
          "state": {
            "_model_module": "@jupyter-widgets/base",
            "_model_module_version": "1.2.0",
            "_model_name": "LayoutModel",
            "_view_count": null,
            "_view_module": "@jupyter-widgets/base",
            "_view_module_version": "1.2.0",
            "_view_name": "LayoutView",
            "align_content": null,
            "align_items": null,
            "align_self": null,
            "border": null,
            "bottom": null,
            "display": null,
            "flex": null,
            "flex_flow": null,
            "grid_area": null,
            "grid_auto_columns": null,
            "grid_auto_flow": null,
            "grid_auto_rows": null,
            "grid_column": null,
            "grid_gap": null,
            "grid_row": null,
            "grid_template_areas": null,
            "grid_template_columns": null,
            "grid_template_rows": null,
            "height": null,
            "justify_content": null,
            "justify_items": null,
            "left": null,
            "margin": null,
            "max_height": null,
            "max_width": null,
            "min_height": null,
            "min_width": null,
            "object_fit": null,
            "object_position": null,
            "order": null,
            "overflow": null,
            "overflow_x": null,
            "overflow_y": null,
            "padding": null,
            "right": null,
            "top": null,
            "visibility": null,
            "width": null
          }
        },
        "9c2e75566f234e0a91a5365f7f1e17e4": {
          "model_module": "@jupyter-widgets/controls",
          "model_name": "DescriptionStyleModel",
          "model_module_version": "1.5.0",
          "state": {
            "_model_module": "@jupyter-widgets/controls",
            "_model_module_version": "1.5.0",
            "_model_name": "DescriptionStyleModel",
            "_view_count": null,
            "_view_module": "@jupyter-widgets/base",
            "_view_module_version": "1.2.0",
            "_view_name": "StyleView",
            "description_width": ""
          }
        },
        "7821f8815aae4f5fac850a9729609881": {
          "model_module": "@jupyter-widgets/controls",
          "model_name": "HBoxModel",
          "model_module_version": "1.5.0",
          "state": {
            "_dom_classes": [],
            "_model_module": "@jupyter-widgets/controls",
            "_model_module_version": "1.5.0",
            "_model_name": "HBoxModel",
            "_view_count": null,
            "_view_module": "@jupyter-widgets/controls",
            "_view_module_version": "1.5.0",
            "_view_name": "HBoxView",
            "box_style": "",
            "children": [
              "IPY_MODEL_bdd3bffeddcf454b9844c1a845f5f49c",
              "IPY_MODEL_0eca81e716274f2299891814c600aa0e",
              "IPY_MODEL_048c6cae263d4a35af4486bb24ee1448"
            ],
            "layout": "IPY_MODEL_49ad78afc48540b086db7e0427f0d006"
          }
        },
        "bdd3bffeddcf454b9844c1a845f5f49c": {
          "model_module": "@jupyter-widgets/controls",
          "model_name": "HTMLModel",
          "model_module_version": "1.5.0",
          "state": {
            "_dom_classes": [],
            "_model_module": "@jupyter-widgets/controls",
            "_model_module_version": "1.5.0",
            "_model_name": "HTMLModel",
            "_view_count": null,
            "_view_module": "@jupyter-widgets/controls",
            "_view_module_version": "1.5.0",
            "_view_name": "HTMLView",
            "description": "",
            "description_tooltip": null,
            "layout": "IPY_MODEL_b2df37c503ca41ee8d2a8306fd1b14af",
            "placeholder": "​",
            "style": "IPY_MODEL_349a021727ea4eae9072b04596b8ad00",
            "value": "Downloading: 100%"
          }
        },
        "0eca81e716274f2299891814c600aa0e": {
          "model_module": "@jupyter-widgets/controls",
          "model_name": "FloatProgressModel",
          "model_module_version": "1.5.0",
          "state": {
            "_dom_classes": [],
            "_model_module": "@jupyter-widgets/controls",
            "_model_module_version": "1.5.0",
            "_model_name": "FloatProgressModel",
            "_view_count": null,
            "_view_module": "@jupyter-widgets/controls",
            "_view_module_version": "1.5.0",
            "_view_name": "ProgressView",
            "bar_style": "success",
            "description": "",
            "description_tooltip": null,
            "layout": "IPY_MODEL_fd14bb7fb77f4e49b22dc28a68e46696",
            "max": 648,
            "min": 0,
            "orientation": "horizontal",
            "style": "IPY_MODEL_d940705690be40bb873782b1deb11dcd",
            "value": 648
          }
        },
        "048c6cae263d4a35af4486bb24ee1448": {
          "model_module": "@jupyter-widgets/controls",
          "model_name": "HTMLModel",
          "model_module_version": "1.5.0",
          "state": {
            "_dom_classes": [],
            "_model_module": "@jupyter-widgets/controls",
            "_model_module_version": "1.5.0",
            "_model_name": "HTMLModel",
            "_view_count": null,
            "_view_module": "@jupyter-widgets/controls",
            "_view_module_version": "1.5.0",
            "_view_name": "HTMLView",
            "description": "",
            "description_tooltip": null,
            "layout": "IPY_MODEL_69ca9da3a1a542bc8402a23b9003fc19",
            "placeholder": "​",
            "style": "IPY_MODEL_9528a09455244a3db7d36b235194867b",
            "value": " 648/648 [00:00&lt;00:00, 6.23kB/s]"
          }
        },
        "49ad78afc48540b086db7e0427f0d006": {
          "model_module": "@jupyter-widgets/base",
          "model_name": "LayoutModel",
          "model_module_version": "1.2.0",
          "state": {
            "_model_module": "@jupyter-widgets/base",
            "_model_module_version": "1.2.0",
            "_model_name": "LayoutModel",
            "_view_count": null,
            "_view_module": "@jupyter-widgets/base",
            "_view_module_version": "1.2.0",
            "_view_name": "LayoutView",
            "align_content": null,
            "align_items": null,
            "align_self": null,
            "border": null,
            "bottom": null,
            "display": null,
            "flex": null,
            "flex_flow": null,
            "grid_area": null,
            "grid_auto_columns": null,
            "grid_auto_flow": null,
            "grid_auto_rows": null,
            "grid_column": null,
            "grid_gap": null,
            "grid_row": null,
            "grid_template_areas": null,
            "grid_template_columns": null,
            "grid_template_rows": null,
            "height": null,
            "justify_content": null,
            "justify_items": null,
            "left": null,
            "margin": null,
            "max_height": null,
            "max_width": null,
            "min_height": null,
            "min_width": null,
            "object_fit": null,
            "object_position": null,
            "order": null,
            "overflow": null,
            "overflow_x": null,
            "overflow_y": null,
            "padding": null,
            "right": null,
            "top": null,
            "visibility": null,
            "width": null
          }
        },
        "b2df37c503ca41ee8d2a8306fd1b14af": {
          "model_module": "@jupyter-widgets/base",
          "model_name": "LayoutModel",
          "model_module_version": "1.2.0",
          "state": {
            "_model_module": "@jupyter-widgets/base",
            "_model_module_version": "1.2.0",
            "_model_name": "LayoutModel",
            "_view_count": null,
            "_view_module": "@jupyter-widgets/base",
            "_view_module_version": "1.2.0",
            "_view_name": "LayoutView",
            "align_content": null,
            "align_items": null,
            "align_self": null,
            "border": null,
            "bottom": null,
            "display": null,
            "flex": null,
            "flex_flow": null,
            "grid_area": null,
            "grid_auto_columns": null,
            "grid_auto_flow": null,
            "grid_auto_rows": null,
            "grid_column": null,
            "grid_gap": null,
            "grid_row": null,
            "grid_template_areas": null,
            "grid_template_columns": null,
            "grid_template_rows": null,
            "height": null,
            "justify_content": null,
            "justify_items": null,
            "left": null,
            "margin": null,
            "max_height": null,
            "max_width": null,
            "min_height": null,
            "min_width": null,
            "object_fit": null,
            "object_position": null,
            "order": null,
            "overflow": null,
            "overflow_x": null,
            "overflow_y": null,
            "padding": null,
            "right": null,
            "top": null,
            "visibility": null,
            "width": null
          }
        },
        "349a021727ea4eae9072b04596b8ad00": {
          "model_module": "@jupyter-widgets/controls",
          "model_name": "DescriptionStyleModel",
          "model_module_version": "1.5.0",
          "state": {
            "_model_module": "@jupyter-widgets/controls",
            "_model_module_version": "1.5.0",
            "_model_name": "DescriptionStyleModel",
            "_view_count": null,
            "_view_module": "@jupyter-widgets/base",
            "_view_module_version": "1.2.0",
            "_view_name": "StyleView",
            "description_width": ""
          }
        },
        "fd14bb7fb77f4e49b22dc28a68e46696": {
          "model_module": "@jupyter-widgets/base",
          "model_name": "LayoutModel",
          "model_module_version": "1.2.0",
          "state": {
            "_model_module": "@jupyter-widgets/base",
            "_model_module_version": "1.2.0",
            "_model_name": "LayoutModel",
            "_view_count": null,
            "_view_module": "@jupyter-widgets/base",
            "_view_module_version": "1.2.0",
            "_view_name": "LayoutView",
            "align_content": null,
            "align_items": null,
            "align_self": null,
            "border": null,
            "bottom": null,
            "display": null,
            "flex": null,
            "flex_flow": null,
            "grid_area": null,
            "grid_auto_columns": null,
            "grid_auto_flow": null,
            "grid_auto_rows": null,
            "grid_column": null,
            "grid_gap": null,
            "grid_row": null,
            "grid_template_areas": null,
            "grid_template_columns": null,
            "grid_template_rows": null,
            "height": null,
            "justify_content": null,
            "justify_items": null,
            "left": null,
            "margin": null,
            "max_height": null,
            "max_width": null,
            "min_height": null,
            "min_width": null,
            "object_fit": null,
            "object_position": null,
            "order": null,
            "overflow": null,
            "overflow_x": null,
            "overflow_y": null,
            "padding": null,
            "right": null,
            "top": null,
            "visibility": null,
            "width": null
          }
        },
        "d940705690be40bb873782b1deb11dcd": {
          "model_module": "@jupyter-widgets/controls",
          "model_name": "ProgressStyleModel",
          "model_module_version": "1.5.0",
          "state": {
            "_model_module": "@jupyter-widgets/controls",
            "_model_module_version": "1.5.0",
            "_model_name": "ProgressStyleModel",
            "_view_count": null,
            "_view_module": "@jupyter-widgets/base",
            "_view_module_version": "1.2.0",
            "_view_name": "StyleView",
            "bar_color": null,
            "description_width": ""
          }
        },
        "69ca9da3a1a542bc8402a23b9003fc19": {
          "model_module": "@jupyter-widgets/base",
          "model_name": "LayoutModel",
          "model_module_version": "1.2.0",
          "state": {
            "_model_module": "@jupyter-widgets/base",
            "_model_module_version": "1.2.0",
            "_model_name": "LayoutModel",
            "_view_count": null,
            "_view_module": "@jupyter-widgets/base",
            "_view_module_version": "1.2.0",
            "_view_name": "LayoutView",
            "align_content": null,
            "align_items": null,
            "align_self": null,
            "border": null,
            "bottom": null,
            "display": null,
            "flex": null,
            "flex_flow": null,
            "grid_area": null,
            "grid_auto_columns": null,
            "grid_auto_flow": null,
            "grid_auto_rows": null,
            "grid_column": null,
            "grid_gap": null,
            "grid_row": null,
            "grid_template_areas": null,
            "grid_template_columns": null,
            "grid_template_rows": null,
            "height": null,
            "justify_content": null,
            "justify_items": null,
            "left": null,
            "margin": null,
            "max_height": null,
            "max_width": null,
            "min_height": null,
            "min_width": null,
            "object_fit": null,
            "object_position": null,
            "order": null,
            "overflow": null,
            "overflow_x": null,
            "overflow_y": null,
            "padding": null,
            "right": null,
            "top": null,
            "visibility": null,
            "width": null
          }
        },
        "9528a09455244a3db7d36b235194867b": {
          "model_module": "@jupyter-widgets/controls",
          "model_name": "DescriptionStyleModel",
          "model_module_version": "1.5.0",
          "state": {
            "_model_module": "@jupyter-widgets/controls",
            "_model_module_version": "1.5.0",
            "_model_name": "DescriptionStyleModel",
            "_view_count": null,
            "_view_module": "@jupyter-widgets/base",
            "_view_module_version": "1.2.0",
            "_view_name": "StyleView",
            "description_width": ""
          }
        },
        "1f1b003b3fb341aaaf7485e327291942": {
          "model_module": "@jupyter-widgets/controls",
          "model_name": "HBoxModel",
          "model_module_version": "1.5.0",
          "state": {
            "_dom_classes": [],
            "_model_module": "@jupyter-widgets/controls",
            "_model_module_version": "1.5.0",
            "_model_name": "HBoxModel",
            "_view_count": null,
            "_view_module": "@jupyter-widgets/controls",
            "_view_module_version": "1.5.0",
            "_view_name": "HBoxView",
            "box_style": "",
            "children": [
              "IPY_MODEL_5e085f31627b43f1ad44bd4fb1cab8e0",
              "IPY_MODEL_cc4ada862c724b1d909929c2512525a6",
              "IPY_MODEL_85b6246e987a4e5ab5d8a68fe418209b"
            ],
            "layout": "IPY_MODEL_35c3aa4c9dd1452f9af1103a02493703"
          }
        },
        "5e085f31627b43f1ad44bd4fb1cab8e0": {
          "model_module": "@jupyter-widgets/controls",
          "model_name": "HTMLModel",
          "model_module_version": "1.5.0",
          "state": {
            "_dom_classes": [],
            "_model_module": "@jupyter-widgets/controls",
            "_model_module_version": "1.5.0",
            "_model_name": "HTMLModel",
            "_view_count": null,
            "_view_module": "@jupyter-widgets/controls",
            "_view_module_version": "1.5.0",
            "_view_name": "HTMLView",
            "description": "",
            "description_tooltip": null,
            "layout": "IPY_MODEL_5fc5a8c283184dbcbf796c2aa0616a46",
            "placeholder": "​",
            "style": "IPY_MODEL_9f7c24de6c074ee1ab3ac2066afa603c",
            "value": "Downloading: 100%"
          }
        },
        "cc4ada862c724b1d909929c2512525a6": {
          "model_module": "@jupyter-widgets/controls",
          "model_name": "FloatProgressModel",
          "model_module_version": "1.5.0",
          "state": {
            "_dom_classes": [],
            "_model_module": "@jupyter-widgets/controls",
            "_model_module_version": "1.5.0",
            "_model_name": "FloatProgressModel",
            "_view_count": null,
            "_view_module": "@jupyter-widgets/controls",
            "_view_module_version": "1.5.0",
            "_view_name": "ProgressView",
            "bar_style": "success",
            "description": "",
            "description_tooltip": null,
            "layout": "IPY_MODEL_5f60043e94bf42a3a739777e8b4712ae",
            "max": 209528,
            "min": 0,
            "orientation": "horizontal",
            "style": "IPY_MODEL_023a05ec69e0458b978bd9b1aa7d5bb6",
            "value": 209528
          }
        },
        "85b6246e987a4e5ab5d8a68fe418209b": {
          "model_module": "@jupyter-widgets/controls",
          "model_name": "HTMLModel",
          "model_module_version": "1.5.0",
          "state": {
            "_dom_classes": [],
            "_model_module": "@jupyter-widgets/controls",
            "_model_module_version": "1.5.0",
            "_model_name": "HTMLModel",
            "_view_count": null,
            "_view_module": "@jupyter-widgets/controls",
            "_view_module_version": "1.5.0",
            "_view_name": "HTMLView",
            "description": "",
            "description_tooltip": null,
            "layout": "IPY_MODEL_fae1320eab234e559caff38bf980b930",
            "placeholder": "​",
            "style": "IPY_MODEL_7c5bc5c7f5db4f568a6116524488e6ed",
            "value": " 210k/210k [00:00&lt;00:00, 531kB/s]"
          }
        },
        "35c3aa4c9dd1452f9af1103a02493703": {
          "model_module": "@jupyter-widgets/base",
          "model_name": "LayoutModel",
          "model_module_version": "1.2.0",
          "state": {
            "_model_module": "@jupyter-widgets/base",
            "_model_module_version": "1.2.0",
            "_model_name": "LayoutModel",
            "_view_count": null,
            "_view_module": "@jupyter-widgets/base",
            "_view_module_version": "1.2.0",
            "_view_name": "LayoutView",
            "align_content": null,
            "align_items": null,
            "align_self": null,
            "border": null,
            "bottom": null,
            "display": null,
            "flex": null,
            "flex_flow": null,
            "grid_area": null,
            "grid_auto_columns": null,
            "grid_auto_flow": null,
            "grid_auto_rows": null,
            "grid_column": null,
            "grid_gap": null,
            "grid_row": null,
            "grid_template_areas": null,
            "grid_template_columns": null,
            "grid_template_rows": null,
            "height": null,
            "justify_content": null,
            "justify_items": null,
            "left": null,
            "margin": null,
            "max_height": null,
            "max_width": null,
            "min_height": null,
            "min_width": null,
            "object_fit": null,
            "object_position": null,
            "order": null,
            "overflow": null,
            "overflow_x": null,
            "overflow_y": null,
            "padding": null,
            "right": null,
            "top": null,
            "visibility": null,
            "width": null
          }
        },
        "5fc5a8c283184dbcbf796c2aa0616a46": {
          "model_module": "@jupyter-widgets/base",
          "model_name": "LayoutModel",
          "model_module_version": "1.2.0",
          "state": {
            "_model_module": "@jupyter-widgets/base",
            "_model_module_version": "1.2.0",
            "_model_name": "LayoutModel",
            "_view_count": null,
            "_view_module": "@jupyter-widgets/base",
            "_view_module_version": "1.2.0",
            "_view_name": "LayoutView",
            "align_content": null,
            "align_items": null,
            "align_self": null,
            "border": null,
            "bottom": null,
            "display": null,
            "flex": null,
            "flex_flow": null,
            "grid_area": null,
            "grid_auto_columns": null,
            "grid_auto_flow": null,
            "grid_auto_rows": null,
            "grid_column": null,
            "grid_gap": null,
            "grid_row": null,
            "grid_template_areas": null,
            "grid_template_columns": null,
            "grid_template_rows": null,
            "height": null,
            "justify_content": null,
            "justify_items": null,
            "left": null,
            "margin": null,
            "max_height": null,
            "max_width": null,
            "min_height": null,
            "min_width": null,
            "object_fit": null,
            "object_position": null,
            "order": null,
            "overflow": null,
            "overflow_x": null,
            "overflow_y": null,
            "padding": null,
            "right": null,
            "top": null,
            "visibility": null,
            "width": null
          }
        },
        "9f7c24de6c074ee1ab3ac2066afa603c": {
          "model_module": "@jupyter-widgets/controls",
          "model_name": "DescriptionStyleModel",
          "model_module_version": "1.5.0",
          "state": {
            "_model_module": "@jupyter-widgets/controls",
            "_model_module_version": "1.5.0",
            "_model_name": "DescriptionStyleModel",
            "_view_count": null,
            "_view_module": "@jupyter-widgets/base",
            "_view_module_version": "1.2.0",
            "_view_name": "StyleView",
            "description_width": ""
          }
        },
        "5f60043e94bf42a3a739777e8b4712ae": {
          "model_module": "@jupyter-widgets/base",
          "model_name": "LayoutModel",
          "model_module_version": "1.2.0",
          "state": {
            "_model_module": "@jupyter-widgets/base",
            "_model_module_version": "1.2.0",
            "_model_name": "LayoutModel",
            "_view_count": null,
            "_view_module": "@jupyter-widgets/base",
            "_view_module_version": "1.2.0",
            "_view_name": "LayoutView",
            "align_content": null,
            "align_items": null,
            "align_self": null,
            "border": null,
            "bottom": null,
            "display": null,
            "flex": null,
            "flex_flow": null,
            "grid_area": null,
            "grid_auto_columns": null,
            "grid_auto_flow": null,
            "grid_auto_rows": null,
            "grid_column": null,
            "grid_gap": null,
            "grid_row": null,
            "grid_template_areas": null,
            "grid_template_columns": null,
            "grid_template_rows": null,
            "height": null,
            "justify_content": null,
            "justify_items": null,
            "left": null,
            "margin": null,
            "max_height": null,
            "max_width": null,
            "min_height": null,
            "min_width": null,
            "object_fit": null,
            "object_position": null,
            "order": null,
            "overflow": null,
            "overflow_x": null,
            "overflow_y": null,
            "padding": null,
            "right": null,
            "top": null,
            "visibility": null,
            "width": null
          }
        },
        "023a05ec69e0458b978bd9b1aa7d5bb6": {
          "model_module": "@jupyter-widgets/controls",
          "model_name": "ProgressStyleModel",
          "model_module_version": "1.5.0",
          "state": {
            "_model_module": "@jupyter-widgets/controls",
            "_model_module_version": "1.5.0",
            "_model_name": "ProgressStyleModel",
            "_view_count": null,
            "_view_module": "@jupyter-widgets/base",
            "_view_module_version": "1.2.0",
            "_view_name": "StyleView",
            "bar_color": null,
            "description_width": ""
          }
        },
        "fae1320eab234e559caff38bf980b930": {
          "model_module": "@jupyter-widgets/base",
          "model_name": "LayoutModel",
          "model_module_version": "1.2.0",
          "state": {
            "_model_module": "@jupyter-widgets/base",
            "_model_module_version": "1.2.0",
            "_model_name": "LayoutModel",
            "_view_count": null,
            "_view_module": "@jupyter-widgets/base",
            "_view_module_version": "1.2.0",
            "_view_name": "LayoutView",
            "align_content": null,
            "align_items": null,
            "align_self": null,
            "border": null,
            "bottom": null,
            "display": null,
            "flex": null,
            "flex_flow": null,
            "grid_area": null,
            "grid_auto_columns": null,
            "grid_auto_flow": null,
            "grid_auto_rows": null,
            "grid_column": null,
            "grid_gap": null,
            "grid_row": null,
            "grid_template_areas": null,
            "grid_template_columns": null,
            "grid_template_rows": null,
            "height": null,
            "justify_content": null,
            "justify_items": null,
            "left": null,
            "margin": null,
            "max_height": null,
            "max_width": null,
            "min_height": null,
            "min_width": null,
            "object_fit": null,
            "object_position": null,
            "order": null,
            "overflow": null,
            "overflow_x": null,
            "overflow_y": null,
            "padding": null,
            "right": null,
            "top": null,
            "visibility": null,
            "width": null
          }
        },
        "7c5bc5c7f5db4f568a6116524488e6ed": {
          "model_module": "@jupyter-widgets/controls",
          "model_name": "DescriptionStyleModel",
          "model_module_version": "1.5.0",
          "state": {
            "_model_module": "@jupyter-widgets/controls",
            "_model_module_version": "1.5.0",
            "_model_name": "DescriptionStyleModel",
            "_view_count": null,
            "_view_module": "@jupyter-widgets/base",
            "_view_module_version": "1.2.0",
            "_view_name": "StyleView",
            "description_width": ""
          }
        },
        "60a514d8a3eb48aa914fb8c8a1bb1968": {
          "model_module": "@jupyter-widgets/controls",
          "model_name": "HBoxModel",
          "model_module_version": "1.5.0",
          "state": {
            "_dom_classes": [],
            "_model_module": "@jupyter-widgets/controls",
            "_model_module_version": "1.5.0",
            "_model_name": "HBoxModel",
            "_view_count": null,
            "_view_module": "@jupyter-widgets/controls",
            "_view_module_version": "1.5.0",
            "_view_name": "HBoxView",
            "box_style": "",
            "children": [
              "IPY_MODEL_9b4c16696e704b7abc271d0c7da9c0e0",
              "IPY_MODEL_3a6d58088d8641e78472b8ef6d9cbc26",
              "IPY_MODEL_e2aa485fe31340ed854470e8241712da"
            ],
            "layout": "IPY_MODEL_160c80ee5afc4aaaa7e8e59654eb50ac"
          }
        },
        "9b4c16696e704b7abc271d0c7da9c0e0": {
          "model_module": "@jupyter-widgets/controls",
          "model_name": "HTMLModel",
          "model_module_version": "1.5.0",
          "state": {
            "_dom_classes": [],
            "_model_module": "@jupyter-widgets/controls",
            "_model_module_version": "1.5.0",
            "_model_name": "HTMLModel",
            "_view_count": null,
            "_view_module": "@jupyter-widgets/controls",
            "_view_module_version": "1.5.0",
            "_view_name": "HTMLView",
            "description": "",
            "description_tooltip": null,
            "layout": "IPY_MODEL_303bdcaf78f14292bcb7a5de8cc1a55b",
            "placeholder": "​",
            "style": "IPY_MODEL_3f5817f44d85404694cf0a0c09880816",
            "value": "Downloading: 100%"
          }
        },
        "3a6d58088d8641e78472b8ef6d9cbc26": {
          "model_module": "@jupyter-widgets/controls",
          "model_name": "FloatProgressModel",
          "model_module_version": "1.5.0",
          "state": {
            "_dom_classes": [],
            "_model_module": "@jupyter-widgets/controls",
            "_model_module_version": "1.5.0",
            "_model_name": "FloatProgressModel",
            "_view_count": null,
            "_view_module": "@jupyter-widgets/controls",
            "_view_module_version": "1.5.0",
            "_view_name": "ProgressView",
            "bar_style": "success",
            "description": "",
            "description_tooltip": null,
            "layout": "IPY_MODEL_fefc345e1e4b4c2a8cb9b65a6f3979a4",
            "max": 2,
            "min": 0,
            "orientation": "horizontal",
            "style": "IPY_MODEL_670f017ae0224c458a37d8a30671d285",
            "value": 2
          }
        },
        "e2aa485fe31340ed854470e8241712da": {
          "model_module": "@jupyter-widgets/controls",
          "model_name": "HTMLModel",
          "model_module_version": "1.5.0",
          "state": {
            "_dom_classes": [],
            "_model_module": "@jupyter-widgets/controls",
            "_model_module_version": "1.5.0",
            "_model_name": "HTMLModel",
            "_view_count": null,
            "_view_module": "@jupyter-widgets/controls",
            "_view_module_version": "1.5.0",
            "_view_name": "HTMLView",
            "description": "",
            "description_tooltip": null,
            "layout": "IPY_MODEL_d6a8817d4855409a841a0b20ac7280e5",
            "placeholder": "​",
            "style": "IPY_MODEL_cbf54d7371104227a263babf47b23a3d",
            "value": " 2.00/2.00 [00:00&lt;00:00, 18.2B/s]"
          }
        },
        "160c80ee5afc4aaaa7e8e59654eb50ac": {
          "model_module": "@jupyter-widgets/base",
          "model_name": "LayoutModel",
          "model_module_version": "1.2.0",
          "state": {
            "_model_module": "@jupyter-widgets/base",
            "_model_module_version": "1.2.0",
            "_model_name": "LayoutModel",
            "_view_count": null,
            "_view_module": "@jupyter-widgets/base",
            "_view_module_version": "1.2.0",
            "_view_name": "LayoutView",
            "align_content": null,
            "align_items": null,
            "align_self": null,
            "border": null,
            "bottom": null,
            "display": null,
            "flex": null,
            "flex_flow": null,
            "grid_area": null,
            "grid_auto_columns": null,
            "grid_auto_flow": null,
            "grid_auto_rows": null,
            "grid_column": null,
            "grid_gap": null,
            "grid_row": null,
            "grid_template_areas": null,
            "grid_template_columns": null,
            "grid_template_rows": null,
            "height": null,
            "justify_content": null,
            "justify_items": null,
            "left": null,
            "margin": null,
            "max_height": null,
            "max_width": null,
            "min_height": null,
            "min_width": null,
            "object_fit": null,
            "object_position": null,
            "order": null,
            "overflow": null,
            "overflow_x": null,
            "overflow_y": null,
            "padding": null,
            "right": null,
            "top": null,
            "visibility": null,
            "width": null
          }
        },
        "303bdcaf78f14292bcb7a5de8cc1a55b": {
          "model_module": "@jupyter-widgets/base",
          "model_name": "LayoutModel",
          "model_module_version": "1.2.0",
          "state": {
            "_model_module": "@jupyter-widgets/base",
            "_model_module_version": "1.2.0",
            "_model_name": "LayoutModel",
            "_view_count": null,
            "_view_module": "@jupyter-widgets/base",
            "_view_module_version": "1.2.0",
            "_view_name": "LayoutView",
            "align_content": null,
            "align_items": null,
            "align_self": null,
            "border": null,
            "bottom": null,
            "display": null,
            "flex": null,
            "flex_flow": null,
            "grid_area": null,
            "grid_auto_columns": null,
            "grid_auto_flow": null,
            "grid_auto_rows": null,
            "grid_column": null,
            "grid_gap": null,
            "grid_row": null,
            "grid_template_areas": null,
            "grid_template_columns": null,
            "grid_template_rows": null,
            "height": null,
            "justify_content": null,
            "justify_items": null,
            "left": null,
            "margin": null,
            "max_height": null,
            "max_width": null,
            "min_height": null,
            "min_width": null,
            "object_fit": null,
            "object_position": null,
            "order": null,
            "overflow": null,
            "overflow_x": null,
            "overflow_y": null,
            "padding": null,
            "right": null,
            "top": null,
            "visibility": null,
            "width": null
          }
        },
        "3f5817f44d85404694cf0a0c09880816": {
          "model_module": "@jupyter-widgets/controls",
          "model_name": "DescriptionStyleModel",
          "model_module_version": "1.5.0",
          "state": {
            "_model_module": "@jupyter-widgets/controls",
            "_model_module_version": "1.5.0",
            "_model_name": "DescriptionStyleModel",
            "_view_count": null,
            "_view_module": "@jupyter-widgets/base",
            "_view_module_version": "1.2.0",
            "_view_name": "StyleView",
            "description_width": ""
          }
        },
        "fefc345e1e4b4c2a8cb9b65a6f3979a4": {
          "model_module": "@jupyter-widgets/base",
          "model_name": "LayoutModel",
          "model_module_version": "1.2.0",
          "state": {
            "_model_module": "@jupyter-widgets/base",
            "_model_module_version": "1.2.0",
            "_model_name": "LayoutModel",
            "_view_count": null,
            "_view_module": "@jupyter-widgets/base",
            "_view_module_version": "1.2.0",
            "_view_name": "LayoutView",
            "align_content": null,
            "align_items": null,
            "align_self": null,
            "border": null,
            "bottom": null,
            "display": null,
            "flex": null,
            "flex_flow": null,
            "grid_area": null,
            "grid_auto_columns": null,
            "grid_auto_flow": null,
            "grid_auto_rows": null,
            "grid_column": null,
            "grid_gap": null,
            "grid_row": null,
            "grid_template_areas": null,
            "grid_template_columns": null,
            "grid_template_rows": null,
            "height": null,
            "justify_content": null,
            "justify_items": null,
            "left": null,
            "margin": null,
            "max_height": null,
            "max_width": null,
            "min_height": null,
            "min_width": null,
            "object_fit": null,
            "object_position": null,
            "order": null,
            "overflow": null,
            "overflow_x": null,
            "overflow_y": null,
            "padding": null,
            "right": null,
            "top": null,
            "visibility": null,
            "width": null
          }
        },
        "670f017ae0224c458a37d8a30671d285": {
          "model_module": "@jupyter-widgets/controls",
          "model_name": "ProgressStyleModel",
          "model_module_version": "1.5.0",
          "state": {
            "_model_module": "@jupyter-widgets/controls",
            "_model_module_version": "1.5.0",
            "_model_name": "ProgressStyleModel",
            "_view_count": null,
            "_view_module": "@jupyter-widgets/base",
            "_view_module_version": "1.2.0",
            "_view_name": "StyleView",
            "bar_color": null,
            "description_width": ""
          }
        },
        "d6a8817d4855409a841a0b20ac7280e5": {
          "model_module": "@jupyter-widgets/base",
          "model_name": "LayoutModel",
          "model_module_version": "1.2.0",
          "state": {
            "_model_module": "@jupyter-widgets/base",
            "_model_module_version": "1.2.0",
            "_model_name": "LayoutModel",
            "_view_count": null,
            "_view_module": "@jupyter-widgets/base",
            "_view_module_version": "1.2.0",
            "_view_name": "LayoutView",
            "align_content": null,
            "align_items": null,
            "align_self": null,
            "border": null,
            "bottom": null,
            "display": null,
            "flex": null,
            "flex_flow": null,
            "grid_area": null,
            "grid_auto_columns": null,
            "grid_auto_flow": null,
            "grid_auto_rows": null,
            "grid_column": null,
            "grid_gap": null,
            "grid_row": null,
            "grid_template_areas": null,
            "grid_template_columns": null,
            "grid_template_rows": null,
            "height": null,
            "justify_content": null,
            "justify_items": null,
            "left": null,
            "margin": null,
            "max_height": null,
            "max_width": null,
            "min_height": null,
            "min_width": null,
            "object_fit": null,
            "object_position": null,
            "order": null,
            "overflow": null,
            "overflow_x": null,
            "overflow_y": null,
            "padding": null,
            "right": null,
            "top": null,
            "visibility": null,
            "width": null
          }
        },
        "cbf54d7371104227a263babf47b23a3d": {
          "model_module": "@jupyter-widgets/controls",
          "model_name": "DescriptionStyleModel",
          "model_module_version": "1.5.0",
          "state": {
            "_model_module": "@jupyter-widgets/controls",
            "_model_module_version": "1.5.0",
            "_model_name": "DescriptionStyleModel",
            "_view_count": null,
            "_view_module": "@jupyter-widgets/base",
            "_view_module_version": "1.2.0",
            "_view_name": "StyleView",
            "description_width": ""
          }
        },
        "98a3f49150094493b81401b959dbbc23": {
          "model_module": "@jupyter-widgets/controls",
          "model_name": "HBoxModel",
          "model_module_version": "1.5.0",
          "state": {
            "_dom_classes": [],
            "_model_module": "@jupyter-widgets/controls",
            "_model_module_version": "1.5.0",
            "_model_name": "HBoxModel",
            "_view_count": null,
            "_view_module": "@jupyter-widgets/controls",
            "_view_module_version": "1.5.0",
            "_view_name": "HBoxView",
            "box_style": "",
            "children": [
              "IPY_MODEL_815e941f222f40af80cce5e2d627c739",
              "IPY_MODEL_9317a1e17d5c4d17bfaa3eac7cfa4113",
              "IPY_MODEL_e7deb80acc81478497ca1c4810b1f3c8"
            ],
            "layout": "IPY_MODEL_5e9cfc73669e454bb2676c79af02e6a1"
          }
        },
        "815e941f222f40af80cce5e2d627c739": {
          "model_module": "@jupyter-widgets/controls",
          "model_name": "HTMLModel",
          "model_module_version": "1.5.0",
          "state": {
            "_dom_classes": [],
            "_model_module": "@jupyter-widgets/controls",
            "_model_module_version": "1.5.0",
            "_model_name": "HTMLModel",
            "_view_count": null,
            "_view_module": "@jupyter-widgets/controls",
            "_view_module_version": "1.5.0",
            "_view_name": "HTMLView",
            "description": "",
            "description_tooltip": null,
            "layout": "IPY_MODEL_2d933dfd9bbb41f3be597827d5e1f854",
            "placeholder": "​",
            "style": "IPY_MODEL_64c781b1ede84b49b318da1a23a140e5",
            "value": "Downloading: 100%"
          }
        },
        "9317a1e17d5c4d17bfaa3eac7cfa4113": {
          "model_module": "@jupyter-widgets/controls",
          "model_name": "FloatProgressModel",
          "model_module_version": "1.5.0",
          "state": {
            "_dom_classes": [],
            "_model_module": "@jupyter-widgets/controls",
            "_model_module_version": "1.5.0",
            "_model_name": "FloatProgressModel",
            "_view_count": null,
            "_view_module": "@jupyter-widgets/controls",
            "_view_module_version": "1.5.0",
            "_view_name": "ProgressView",
            "bar_style": "success",
            "description": "",
            "description_tooltip": null,
            "layout": "IPY_MODEL_eac2081e569a42e3bfa663aee8c01ce5",
            "max": 112,
            "min": 0,
            "orientation": "horizontal",
            "style": "IPY_MODEL_5a1626c5df6d49f1aa74662a9c702018",
            "value": 112
          }
        },
        "e7deb80acc81478497ca1c4810b1f3c8": {
          "model_module": "@jupyter-widgets/controls",
          "model_name": "HTMLModel",
          "model_module_version": "1.5.0",
          "state": {
            "_dom_classes": [],
            "_model_module": "@jupyter-widgets/controls",
            "_model_module_version": "1.5.0",
            "_model_name": "HTMLModel",
            "_view_count": null,
            "_view_module": "@jupyter-widgets/controls",
            "_view_module_version": "1.5.0",
            "_view_name": "HTMLView",
            "description": "",
            "description_tooltip": null,
            "layout": "IPY_MODEL_5b2f789ecef143959bc7c9382a41778d",
            "placeholder": "​",
            "style": "IPY_MODEL_89fb56c259b340a88055241c1cbc5000",
            "value": " 112/112 [00:00&lt;00:00, 1.04kB/s]"
          }
        },
        "5e9cfc73669e454bb2676c79af02e6a1": {
          "model_module": "@jupyter-widgets/base",
          "model_name": "LayoutModel",
          "model_module_version": "1.2.0",
          "state": {
            "_model_module": "@jupyter-widgets/base",
            "_model_module_version": "1.2.0",
            "_model_name": "LayoutModel",
            "_view_count": null,
            "_view_module": "@jupyter-widgets/base",
            "_view_module_version": "1.2.0",
            "_view_name": "LayoutView",
            "align_content": null,
            "align_items": null,
            "align_self": null,
            "border": null,
            "bottom": null,
            "display": null,
            "flex": null,
            "flex_flow": null,
            "grid_area": null,
            "grid_auto_columns": null,
            "grid_auto_flow": null,
            "grid_auto_rows": null,
            "grid_column": null,
            "grid_gap": null,
            "grid_row": null,
            "grid_template_areas": null,
            "grid_template_columns": null,
            "grid_template_rows": null,
            "height": null,
            "justify_content": null,
            "justify_items": null,
            "left": null,
            "margin": null,
            "max_height": null,
            "max_width": null,
            "min_height": null,
            "min_width": null,
            "object_fit": null,
            "object_position": null,
            "order": null,
            "overflow": null,
            "overflow_x": null,
            "overflow_y": null,
            "padding": null,
            "right": null,
            "top": null,
            "visibility": null,
            "width": null
          }
        },
        "2d933dfd9bbb41f3be597827d5e1f854": {
          "model_module": "@jupyter-widgets/base",
          "model_name": "LayoutModel",
          "model_module_version": "1.2.0",
          "state": {
            "_model_module": "@jupyter-widgets/base",
            "_model_module_version": "1.2.0",
            "_model_name": "LayoutModel",
            "_view_count": null,
            "_view_module": "@jupyter-widgets/base",
            "_view_module_version": "1.2.0",
            "_view_name": "LayoutView",
            "align_content": null,
            "align_items": null,
            "align_self": null,
            "border": null,
            "bottom": null,
            "display": null,
            "flex": null,
            "flex_flow": null,
            "grid_area": null,
            "grid_auto_columns": null,
            "grid_auto_flow": null,
            "grid_auto_rows": null,
            "grid_column": null,
            "grid_gap": null,
            "grid_row": null,
            "grid_template_areas": null,
            "grid_template_columns": null,
            "grid_template_rows": null,
            "height": null,
            "justify_content": null,
            "justify_items": null,
            "left": null,
            "margin": null,
            "max_height": null,
            "max_width": null,
            "min_height": null,
            "min_width": null,
            "object_fit": null,
            "object_position": null,
            "order": null,
            "overflow": null,
            "overflow_x": null,
            "overflow_y": null,
            "padding": null,
            "right": null,
            "top": null,
            "visibility": null,
            "width": null
          }
        },
        "64c781b1ede84b49b318da1a23a140e5": {
          "model_module": "@jupyter-widgets/controls",
          "model_name": "DescriptionStyleModel",
          "model_module_version": "1.5.0",
          "state": {
            "_model_module": "@jupyter-widgets/controls",
            "_model_module_version": "1.5.0",
            "_model_name": "DescriptionStyleModel",
            "_view_count": null,
            "_view_module": "@jupyter-widgets/base",
            "_view_module_version": "1.2.0",
            "_view_name": "StyleView",
            "description_width": ""
          }
        },
        "eac2081e569a42e3bfa663aee8c01ce5": {
          "model_module": "@jupyter-widgets/base",
          "model_name": "LayoutModel",
          "model_module_version": "1.2.0",
          "state": {
            "_model_module": "@jupyter-widgets/base",
            "_model_module_version": "1.2.0",
            "_model_name": "LayoutModel",
            "_view_count": null,
            "_view_module": "@jupyter-widgets/base",
            "_view_module_version": "1.2.0",
            "_view_name": "LayoutView",
            "align_content": null,
            "align_items": null,
            "align_self": null,
            "border": null,
            "bottom": null,
            "display": null,
            "flex": null,
            "flex_flow": null,
            "grid_area": null,
            "grid_auto_columns": null,
            "grid_auto_flow": null,
            "grid_auto_rows": null,
            "grid_column": null,
            "grid_gap": null,
            "grid_row": null,
            "grid_template_areas": null,
            "grid_template_columns": null,
            "grid_template_rows": null,
            "height": null,
            "justify_content": null,
            "justify_items": null,
            "left": null,
            "margin": null,
            "max_height": null,
            "max_width": null,
            "min_height": null,
            "min_width": null,
            "object_fit": null,
            "object_position": null,
            "order": null,
            "overflow": null,
            "overflow_x": null,
            "overflow_y": null,
            "padding": null,
            "right": null,
            "top": null,
            "visibility": null,
            "width": null
          }
        },
        "5a1626c5df6d49f1aa74662a9c702018": {
          "model_module": "@jupyter-widgets/controls",
          "model_name": "ProgressStyleModel",
          "model_module_version": "1.5.0",
          "state": {
            "_model_module": "@jupyter-widgets/controls",
            "_model_module_version": "1.5.0",
            "_model_name": "ProgressStyleModel",
            "_view_count": null,
            "_view_module": "@jupyter-widgets/base",
            "_view_module_version": "1.2.0",
            "_view_name": "StyleView",
            "bar_color": null,
            "description_width": ""
          }
        },
        "5b2f789ecef143959bc7c9382a41778d": {
          "model_module": "@jupyter-widgets/base",
          "model_name": "LayoutModel",
          "model_module_version": "1.2.0",
          "state": {
            "_model_module": "@jupyter-widgets/base",
            "_model_module_version": "1.2.0",
            "_model_name": "LayoutModel",
            "_view_count": null,
            "_view_module": "@jupyter-widgets/base",
            "_view_module_version": "1.2.0",
            "_view_name": "LayoutView",
            "align_content": null,
            "align_items": null,
            "align_self": null,
            "border": null,
            "bottom": null,
            "display": null,
            "flex": null,
            "flex_flow": null,
            "grid_area": null,
            "grid_auto_columns": null,
            "grid_auto_flow": null,
            "grid_auto_rows": null,
            "grid_column": null,
            "grid_gap": null,
            "grid_row": null,
            "grid_template_areas": null,
            "grid_template_columns": null,
            "grid_template_rows": null,
            "height": null,
            "justify_content": null,
            "justify_items": null,
            "left": null,
            "margin": null,
            "max_height": null,
            "max_width": null,
            "min_height": null,
            "min_width": null,
            "object_fit": null,
            "object_position": null,
            "order": null,
            "overflow": null,
            "overflow_x": null,
            "overflow_y": null,
            "padding": null,
            "right": null,
            "top": null,
            "visibility": null,
            "width": null
          }
        },
        "89fb56c259b340a88055241c1cbc5000": {
          "model_module": "@jupyter-widgets/controls",
          "model_name": "DescriptionStyleModel",
          "model_module_version": "1.5.0",
          "state": {
            "_model_module": "@jupyter-widgets/controls",
            "_model_module_version": "1.5.0",
            "_model_name": "DescriptionStyleModel",
            "_view_count": null,
            "_view_module": "@jupyter-widgets/base",
            "_view_module_version": "1.2.0",
            "_view_name": "StyleView",
            "description_width": ""
          }
        },
        "afba77cc5aa7450892b7c8ec08e72f45": {
          "model_module": "@jupyter-widgets/controls",
          "model_name": "HBoxModel",
          "model_module_version": "1.5.0",
          "state": {
            "_dom_classes": [],
            "_model_module": "@jupyter-widgets/controls",
            "_model_module_version": "1.5.0",
            "_model_name": "HBoxModel",
            "_view_count": null,
            "_view_module": "@jupyter-widgets/controls",
            "_view_module_version": "1.5.0",
            "_view_name": "HBoxView",
            "box_style": "",
            "children": [
              "IPY_MODEL_eec3212ac578443c9e0ec9e9f5cc04fe",
              "IPY_MODEL_7ce3e3b8908a46919e39fff14f36e31e",
              "IPY_MODEL_1cfc7c8b59144663bb2f4f7e782df748"
            ],
            "layout": "IPY_MODEL_30fb71252c304101a03f9b1b9dc4164d"
          }
        },
        "eec3212ac578443c9e0ec9e9f5cc04fe": {
          "model_module": "@jupyter-widgets/controls",
          "model_name": "HTMLModel",
          "model_module_version": "1.5.0",
          "state": {
            "_dom_classes": [],
            "_model_module": "@jupyter-widgets/controls",
            "_model_module_version": "1.5.0",
            "_model_name": "HTMLModel",
            "_view_count": null,
            "_view_module": "@jupyter-widgets/controls",
            "_view_module_version": "1.5.0",
            "_view_name": "HTMLView",
            "description": "",
            "description_tooltip": null,
            "layout": "IPY_MODEL_cac6bb3fe62646be925150a4b30b8f25",
            "placeholder": "​",
            "style": "IPY_MODEL_47b9c867799547a49e8cf84cb3310936",
            "value": "Downloading: 100%"
          }
        },
        "7ce3e3b8908a46919e39fff14f36e31e": {
          "model_module": "@jupyter-widgets/controls",
          "model_name": "FloatProgressModel",
          "model_module_version": "1.5.0",
          "state": {
            "_dom_classes": [],
            "_model_module": "@jupyter-widgets/controls",
            "_model_module_version": "1.5.0",
            "_model_name": "FloatProgressModel",
            "_view_count": null,
            "_view_module": "@jupyter-widgets/controls",
            "_view_module_version": "1.5.0",
            "_view_name": "ProgressView",
            "bar_style": "success",
            "description": "",
            "description_tooltip": null,
            "layout": "IPY_MODEL_096828d3e07d4c7ba288fc0ae6baf2e9",
            "max": 1342014951,
            "min": 0,
            "orientation": "horizontal",
            "style": "IPY_MODEL_4d58aa8fa9ed4f75a702509cddac7752",
            "value": 1342014951
          }
        },
        "1cfc7c8b59144663bb2f4f7e782df748": {
          "model_module": "@jupyter-widgets/controls",
          "model_name": "HTMLModel",
          "model_module_version": "1.5.0",
          "state": {
            "_dom_classes": [],
            "_model_module": "@jupyter-widgets/controls",
            "_model_module_version": "1.5.0",
            "_model_name": "HTMLModel",
            "_view_count": null,
            "_view_module": "@jupyter-widgets/controls",
            "_view_module_version": "1.5.0",
            "_view_name": "HTMLView",
            "description": "",
            "description_tooltip": null,
            "layout": "IPY_MODEL_d4f1e140310a4a5ea89185e89afd830a",
            "placeholder": "​",
            "style": "IPY_MODEL_e289072d877546dd9ab1b117e9362628",
            "value": " 1.34G/1.34G [00:27&lt;00:00, 59.1MB/s]"
          }
        },
        "30fb71252c304101a03f9b1b9dc4164d": {
          "model_module": "@jupyter-widgets/base",
          "model_name": "LayoutModel",
          "model_module_version": "1.2.0",
          "state": {
            "_model_module": "@jupyter-widgets/base",
            "_model_module_version": "1.2.0",
            "_model_name": "LayoutModel",
            "_view_count": null,
            "_view_module": "@jupyter-widgets/base",
            "_view_module_version": "1.2.0",
            "_view_name": "LayoutView",
            "align_content": null,
            "align_items": null,
            "align_self": null,
            "border": null,
            "bottom": null,
            "display": null,
            "flex": null,
            "flex_flow": null,
            "grid_area": null,
            "grid_auto_columns": null,
            "grid_auto_flow": null,
            "grid_auto_rows": null,
            "grid_column": null,
            "grid_gap": null,
            "grid_row": null,
            "grid_template_areas": null,
            "grid_template_columns": null,
            "grid_template_rows": null,
            "height": null,
            "justify_content": null,
            "justify_items": null,
            "left": null,
            "margin": null,
            "max_height": null,
            "max_width": null,
            "min_height": null,
            "min_width": null,
            "object_fit": null,
            "object_position": null,
            "order": null,
            "overflow": null,
            "overflow_x": null,
            "overflow_y": null,
            "padding": null,
            "right": null,
            "top": null,
            "visibility": null,
            "width": null
          }
        },
        "cac6bb3fe62646be925150a4b30b8f25": {
          "model_module": "@jupyter-widgets/base",
          "model_name": "LayoutModel",
          "model_module_version": "1.2.0",
          "state": {
            "_model_module": "@jupyter-widgets/base",
            "_model_module_version": "1.2.0",
            "_model_name": "LayoutModel",
            "_view_count": null,
            "_view_module": "@jupyter-widgets/base",
            "_view_module_version": "1.2.0",
            "_view_name": "LayoutView",
            "align_content": null,
            "align_items": null,
            "align_self": null,
            "border": null,
            "bottom": null,
            "display": null,
            "flex": null,
            "flex_flow": null,
            "grid_area": null,
            "grid_auto_columns": null,
            "grid_auto_flow": null,
            "grid_auto_rows": null,
            "grid_column": null,
            "grid_gap": null,
            "grid_row": null,
            "grid_template_areas": null,
            "grid_template_columns": null,
            "grid_template_rows": null,
            "height": null,
            "justify_content": null,
            "justify_items": null,
            "left": null,
            "margin": null,
            "max_height": null,
            "max_width": null,
            "min_height": null,
            "min_width": null,
            "object_fit": null,
            "object_position": null,
            "order": null,
            "overflow": null,
            "overflow_x": null,
            "overflow_y": null,
            "padding": null,
            "right": null,
            "top": null,
            "visibility": null,
            "width": null
          }
        },
        "47b9c867799547a49e8cf84cb3310936": {
          "model_module": "@jupyter-widgets/controls",
          "model_name": "DescriptionStyleModel",
          "model_module_version": "1.5.0",
          "state": {
            "_model_module": "@jupyter-widgets/controls",
            "_model_module_version": "1.5.0",
            "_model_name": "DescriptionStyleModel",
            "_view_count": null,
            "_view_module": "@jupyter-widgets/base",
            "_view_module_version": "1.2.0",
            "_view_name": "StyleView",
            "description_width": ""
          }
        },
        "096828d3e07d4c7ba288fc0ae6baf2e9": {
          "model_module": "@jupyter-widgets/base",
          "model_name": "LayoutModel",
          "model_module_version": "1.2.0",
          "state": {
            "_model_module": "@jupyter-widgets/base",
            "_model_module_version": "1.2.0",
            "_model_name": "LayoutModel",
            "_view_count": null,
            "_view_module": "@jupyter-widgets/base",
            "_view_module_version": "1.2.0",
            "_view_name": "LayoutView",
            "align_content": null,
            "align_items": null,
            "align_self": null,
            "border": null,
            "bottom": null,
            "display": null,
            "flex": null,
            "flex_flow": null,
            "grid_area": null,
            "grid_auto_columns": null,
            "grid_auto_flow": null,
            "grid_auto_rows": null,
            "grid_column": null,
            "grid_gap": null,
            "grid_row": null,
            "grid_template_areas": null,
            "grid_template_columns": null,
            "grid_template_rows": null,
            "height": null,
            "justify_content": null,
            "justify_items": null,
            "left": null,
            "margin": null,
            "max_height": null,
            "max_width": null,
            "min_height": null,
            "min_width": null,
            "object_fit": null,
            "object_position": null,
            "order": null,
            "overflow": null,
            "overflow_x": null,
            "overflow_y": null,
            "padding": null,
            "right": null,
            "top": null,
            "visibility": null,
            "width": null
          }
        },
        "4d58aa8fa9ed4f75a702509cddac7752": {
          "model_module": "@jupyter-widgets/controls",
          "model_name": "ProgressStyleModel",
          "model_module_version": "1.5.0",
          "state": {
            "_model_module": "@jupyter-widgets/controls",
            "_model_module_version": "1.5.0",
            "_model_name": "ProgressStyleModel",
            "_view_count": null,
            "_view_module": "@jupyter-widgets/base",
            "_view_module_version": "1.2.0",
            "_view_name": "StyleView",
            "bar_color": null,
            "description_width": ""
          }
        },
        "d4f1e140310a4a5ea89185e89afd830a": {
          "model_module": "@jupyter-widgets/base",
          "model_name": "LayoutModel",
          "model_module_version": "1.2.0",
          "state": {
            "_model_module": "@jupyter-widgets/base",
            "_model_module_version": "1.2.0",
            "_model_name": "LayoutModel",
            "_view_count": null,
            "_view_module": "@jupyter-widgets/base",
            "_view_module_version": "1.2.0",
            "_view_name": "LayoutView",
            "align_content": null,
            "align_items": null,
            "align_self": null,
            "border": null,
            "bottom": null,
            "display": null,
            "flex": null,
            "flex_flow": null,
            "grid_area": null,
            "grid_auto_columns": null,
            "grid_auto_flow": null,
            "grid_auto_rows": null,
            "grid_column": null,
            "grid_gap": null,
            "grid_row": null,
            "grid_template_areas": null,
            "grid_template_columns": null,
            "grid_template_rows": null,
            "height": null,
            "justify_content": null,
            "justify_items": null,
            "left": null,
            "margin": null,
            "max_height": null,
            "max_width": null,
            "min_height": null,
            "min_width": null,
            "object_fit": null,
            "object_position": null,
            "order": null,
            "overflow": null,
            "overflow_x": null,
            "overflow_y": null,
            "padding": null,
            "right": null,
            "top": null,
            "visibility": null,
            "width": null
          }
        },
        "e289072d877546dd9ab1b117e9362628": {
          "model_module": "@jupyter-widgets/controls",
          "model_name": "DescriptionStyleModel",
          "model_module_version": "1.5.0",
          "state": {
            "_model_module": "@jupyter-widgets/controls",
            "_model_module_version": "1.5.0",
            "_model_name": "DescriptionStyleModel",
            "_view_count": null,
            "_view_module": "@jupyter-widgets/base",
            "_view_module_version": "1.2.0",
            "_view_name": "StyleView",
            "description_width": ""
          }
        }
      }
    },
    "accelerator": "GPU"
  },
  "cells": [
    {
      "cell_type": "markdown",
      "metadata": {
        "id": "view-in-github",
        "colab_type": "text"
      },
      "source": [
        "<a href=\"https://colab.research.google.com/github/EliseuODaniel/analise_de_sentimentos_eleicao/blob/main/analise_sentimento_com_bert_Tweets_lula.ipynb\" target=\"_parent\"><img src=\"https://colab.research.google.com/assets/colab-badge.svg\" alt=\"Open In Colab\"/></a>"
      ]
    },
    {
      "cell_type": "markdown",
      "metadata": {
        "id": "1GJKpwl_v4b1"
      },
      "source": [
        "# Análise de sentimento com Bert\n",
        "\n",
        "## Projeto integrador"
      ]
    },
    {
      "cell_type": "markdown",
      "metadata": {
        "id": "k244ZRtr2hiZ"
      },
      "source": [
        "## Classificação de Texto\n",
        "\n",
        "utilização da arquitetura BERTimbau, versão em Português do BERT"
      ]
    },
    {
      "cell_type": "code",
      "source": [
        "from google.colab import drive\n",
        "drive.mount('/content/drive')"
      ],
      "metadata": {
        "colab": {
          "base_uri": "https://localhost:8080/"
        },
        "id": "WdH9k8R0gZ_1",
        "outputId": "2707d21d-54c9-4066-e00f-78763430ae7e"
      },
      "execution_count": 1,
      "outputs": [
        {
          "output_type": "stream",
          "name": "stdout",
          "text": [
            "Mounted at /content/drive\n"
          ]
        }
      ]
    },
    {
      "cell_type": "code",
      "metadata": {
        "colab": {
          "base_uri": "https://localhost:8080/"
        },
        "id": "dfhiSp9Z3UXR",
        "outputId": "339814d0-6785-49a8-ae36-c429042accc5"
      },
      "source": [
        "!pip3 install transformers"
      ],
      "execution_count": 2,
      "outputs": [
        {
          "output_type": "stream",
          "name": "stdout",
          "text": [
            "Looking in indexes: https://pypi.org/simple, https://us-python.pkg.dev/colab-wheels/public/simple/\n",
            "Collecting transformers\n",
            "  Downloading transformers-4.24.0-py3-none-any.whl (5.5 MB)\n",
            "\u001b[K     |████████████████████████████████| 5.5 MB 4.8 MB/s \n",
            "\u001b[?25hRequirement already satisfied: tqdm>=4.27 in /usr/local/lib/python3.7/dist-packages (from transformers) (4.64.1)\n",
            "Requirement already satisfied: packaging>=20.0 in /usr/local/lib/python3.7/dist-packages (from transformers) (21.3)\n",
            "Requirement already satisfied: regex!=2019.12.17 in /usr/local/lib/python3.7/dist-packages (from transformers) (2022.6.2)\n",
            "Collecting tokenizers!=0.11.3,<0.14,>=0.11.1\n",
            "  Downloading tokenizers-0.13.2-cp37-cp37m-manylinux_2_17_x86_64.manylinux2014_x86_64.whl (7.6 MB)\n",
            "\u001b[K     |████████████████████████████████| 7.6 MB 47.4 MB/s \n",
            "\u001b[?25hRequirement already satisfied: importlib-metadata in /usr/local/lib/python3.7/dist-packages (from transformers) (4.13.0)\n",
            "Requirement already satisfied: pyyaml>=5.1 in /usr/local/lib/python3.7/dist-packages (from transformers) (6.0)\n",
            "Requirement already satisfied: filelock in /usr/local/lib/python3.7/dist-packages (from transformers) (3.8.0)\n",
            "Collecting huggingface-hub<1.0,>=0.10.0\n",
            "  Downloading huggingface_hub-0.10.1-py3-none-any.whl (163 kB)\n",
            "\u001b[K     |████████████████████████████████| 163 kB 72.9 MB/s \n",
            "\u001b[?25hRequirement already satisfied: numpy>=1.17 in /usr/local/lib/python3.7/dist-packages (from transformers) (1.21.6)\n",
            "Requirement already satisfied: requests in /usr/local/lib/python3.7/dist-packages (from transformers) (2.23.0)\n",
            "Requirement already satisfied: typing-extensions>=3.7.4.3 in /usr/local/lib/python3.7/dist-packages (from huggingface-hub<1.0,>=0.10.0->transformers) (4.1.1)\n",
            "Requirement already satisfied: pyparsing!=3.0.5,>=2.0.2 in /usr/local/lib/python3.7/dist-packages (from packaging>=20.0->transformers) (3.0.9)\n",
            "Requirement already satisfied: zipp>=0.5 in /usr/local/lib/python3.7/dist-packages (from importlib-metadata->transformers) (3.10.0)\n",
            "Requirement already satisfied: chardet<4,>=3.0.2 in /usr/local/lib/python3.7/dist-packages (from requests->transformers) (3.0.4)\n",
            "Requirement already satisfied: idna<3,>=2.5 in /usr/local/lib/python3.7/dist-packages (from requests->transformers) (2.10)\n",
            "Requirement already satisfied: certifi>=2017.4.17 in /usr/local/lib/python3.7/dist-packages (from requests->transformers) (2022.9.24)\n",
            "Requirement already satisfied: urllib3!=1.25.0,!=1.25.1,<1.26,>=1.21.1 in /usr/local/lib/python3.7/dist-packages (from requests->transformers) (1.24.3)\n",
            "Installing collected packages: tokenizers, huggingface-hub, transformers\n",
            "Successfully installed huggingface-hub-0.10.1 tokenizers-0.13.2 transformers-4.24.0\n"
          ]
        }
      ]
    },
    {
      "cell_type": "code",
      "metadata": {
        "id": "yDCgnNlzcCsA"
      },
      "source": [
        "import os\n",
        "import torch\n",
        "import torch.nn as nn\n",
        "from torch import optim\n",
        "from transformers import AutoTokenizer, AutoModelForSequenceClassification\n",
        "from sklearn.metrics import accuracy_score, f1_score, classification_report"
      ],
      "execution_count": 3,
      "outputs": []
    },
    {
      "cell_type": "code",
      "metadata": {
        "colab": {
          "base_uri": "https://localhost:8080/"
        },
        "id": "YyoVuFjJIlkj",
        "outputId": "0845f504-caf3-408c-f634-7dde5362da63"
      },
      "source": [
        "\n",
        "import pandas as pd\n",
        "import csv\n",
        "from random import shuffle\n",
        "import nltk\n",
        "nltk.download('punkt')\n",
        "\n",
        "# Lê o csv e transforma num dataframe\n",
        "\n",
        "full_df = pd.read_csv('/content/drive/MyDrive/Colab Notebooks/tweets_lula_cleaned-categorizado2corrigido.csv', sep=';')"
      ],
      "execution_count": 4,
      "outputs": [
        {
          "output_type": "stream",
          "name": "stderr",
          "text": [
            "[nltk_data] Downloading package punkt to /root/nltk_data...\n",
            "[nltk_data]   Unzipping tokenizers/punkt.zip.\n"
          ]
        }
      ]
    },
    {
      "cell_type": "code",
      "source": [
        "full_df.info()"
      ],
      "metadata": {
        "colab": {
          "base_uri": "https://localhost:8080/"
        },
        "id": "KrfWP0YfgMC_",
        "outputId": "91481807-e2aa-4f45-d8c3-f9605ac6bf06"
      },
      "execution_count": 5,
      "outputs": [
        {
          "output_type": "stream",
          "name": "stdout",
          "text": [
            "<class 'pandas.core.frame.DataFrame'>\n",
            "RangeIndex: 24698 entries, 0 to 24697\n",
            "Data columns (total 4 columns):\n",
            " #   Column   Non-Null Count  Dtype  \n",
            "---  ------   --------------  -----  \n",
            " 0   id       24698 non-null  int64  \n",
            " 1   date     24698 non-null  object \n",
            " 2   content  24695 non-null  object \n",
            " 3   label    763 non-null    float64\n",
            "dtypes: float64(1), int64(1), object(2)\n",
            "memory usage: 771.9+ KB\n"
          ]
        }
      ]
    },
    {
      "cell_type": "code",
      "source": [
        "# Drop rows with any empty cells in collumn 'label'\n",
        "df = full_df.dropna(subset=['label'])"
      ],
      "metadata": {
        "id": "2BE5pynYkESj"
      },
      "execution_count": 6,
      "outputs": []
    },
    {
      "cell_type": "code",
      "source": [
        "df.info()"
      ],
      "metadata": {
        "colab": {
          "base_uri": "https://localhost:8080/"
        },
        "id": "KnygDPTnldEy",
        "outputId": "fd664be3-def7-4e1d-c0d0-527a6be30caf"
      },
      "execution_count": 7,
      "outputs": [
        {
          "output_type": "stream",
          "name": "stdout",
          "text": [
            "<class 'pandas.core.frame.DataFrame'>\n",
            "Int64Index: 763 entries, 0 to 18556\n",
            "Data columns (total 4 columns):\n",
            " #   Column   Non-Null Count  Dtype  \n",
            "---  ------   --------------  -----  \n",
            " 0   id       763 non-null    int64  \n",
            " 1   date     763 non-null    object \n",
            " 2   content  763 non-null    object \n",
            " 3   label    763 non-null    float64\n",
            "dtypes: float64(1), int64(1), object(2)\n",
            "memory usage: 29.8+ KB\n"
          ]
        }
      ]
    },
    {
      "cell_type": "code",
      "source": [
        "import matplotlib.pyplot as plt\n",
        "import numpy as np\n",
        "import plotly.express as px\n",
        "\n",
        "#  mostra a proporção de cada label, se não está balanceado, acurácia não é uma boa métrica\n",
        "df['label'].value_counts().plot.pie(autopct='%.2f')"
      ],
      "metadata": {
        "colab": {
          "base_uri": "https://localhost:8080/",
          "height": 266
        },
        "id": "xyZKp6PqpS1E",
        "outputId": "834434bc-7a1d-456a-eeb4-686bf4f28301"
      },
      "execution_count": 8,
      "outputs": [
        {
          "output_type": "execute_result",
          "data": {
            "text/plain": [
              "<matplotlib.axes._subplots.AxesSubplot at 0x7fd38a8693d0>"
            ]
          },
          "metadata": {},
          "execution_count": 8
        },
        {
          "output_type": "display_data",
          "data": {
            "text/plain": [
              "<Figure size 432x288 with 1 Axes>"
            ],
            "image/png": "[encoded data removed]"
          },
          "metadata": {}
        }
      ]
    },
    {
      "cell_type": "code",
      "source": [
        "# converte dataframe em lista de listas\n",
        "tweets_list = df.values.tolist()"
      ],
      "metadata": {
        "id": "xcEHkdFIlxmE"
      },
      "execution_count": 9,
      "outputs": []
    },
    {
      "cell_type": "code",
      "source": [
        "# cria uma nuvem de palavras\n",
        "\n",
        "\n",
        "import nltk\n",
        "nltk.download('punkt')\n",
        "nltk.download('stopwords')\n",
        "stop_words = nltk.corpus.stopwords.words('portuguese')\n",
        "stop_words = stop_words + list(['lulaoficial','lula',',','.','https', ':','!', '#', '@', '?', '/', 'O', 'vai', '|', '–','pra', 'a', 'e', '-'])\n",
        "\n",
        "def remove_stopwords(x):\n",
        "  word_tokens = nltk.word_tokenize(x)\n",
        "  # print(word_tokens)\n",
        "  filtered_sentence = ' '.join([w for w in word_tokens if not (w in stop_words or len(w)<4)]) \n",
        "  return filtered_sentence\n",
        "\n",
        "tweets_lula = full_df\n",
        "\n",
        "#convert to string and lowercase sentences \n",
        "tweets_lula['content'] = tweets_lula['content'].astype(str).str.lower()\n",
        "\n",
        "\n",
        "tweets_lula['filtered_text'] = tweets_lula['content'].apply(lambda x: remove_stopwords(x))\n",
        "\n",
        "# filter tweets_lula by day\n",
        "# for day in tweets_lula['date'].unique():\n",
        "#     print(\"\\nday: \", day)\n",
        "#     tweets_lula_day = tweets_lula[tweets_lula['date'] == day]\n",
        "#     word_count = pd.Series(' '.join(tweets_lula_day['filtered_text'].str.lower()).split()).value_counts()[:20]\n",
        "#     print(word_count)\n",
        "\n",
        "word_count = pd.Series(' '.join(tweets_lula['filtered_text'].str.lower()).split()).value_counts()[:20]\n",
        "print(word_count)\n",
        "\n",
        "# create a word cloud\n",
        "from wordcloud import WordCloud\n",
        "import matplotlib.pyplot as plt\n",
        "\n",
        "wordcloud = WordCloud(width = 800, height = 800,\n",
        "                background_color ='white',\n",
        "                stopwords = stop_words,\n",
        "                min_font_size = 10).generate(' '.join(tweets_lula['filtered_text']))\n",
        "\n",
        "# plot the WordCloud image\n",
        "plt.figure(figsize = (8, 8), facecolor = None)\n",
        "plt.imshow(wordcloud)\n",
        "plt.axis(\"off\")\n",
        "plt.tight_layout(pad = 0)\n",
        "\n",
        "plt.show()"
      ],
      "metadata": {
        "colab": {
          "base_uri": "https://localhost:8080/",
          "height": 1000
        },
        "id": "b9UM1ph3IzIS",
        "outputId": "20644c72-f2c3-4597-e910-cf8f8e527fa7"
      },
      "execution_count": 10,
      "outputs": [
        {
          "output_type": "stream",
          "name": "stderr",
          "text": [
            "[nltk_data] Downloading package punkt to /root/nltk_data...\n",
            "[nltk_data]   Package punkt is already up-to-date!\n",
            "[nltk_data] Downloading package stopwords to /root/nltk_data...\n",
            "[nltk_data]   Unzipping corpora/stopwords.zip.\n"
          ]
        },
        {
          "output_type": "stream",
          "name": "stdout",
          "text": [
            "presidente         1301\n",
            "brasil             1029\n",
            "ladrão              918\n",
            "porque              861\n",
            "agora               743\n",
            "inocente            734\n",
            "simonetebetbr       712\n",
            "thiagoresiste       693\n",
            "votar               670\n",
            "cara                667\n",
            "voto                655\n",
            "povo                639\n",
            "ricardostuckert     609\n",
            "governo             580\n",
            "gente               575\n",
            "turno               534\n",
            "aqui                517\n",
            "ganhar              512\n",
            "anos                498\n",
            "tudo                494\n",
            "dtype: int64\n"
          ]
        },
        {
          "output_type": "display_data",
          "data": {
            "text/plain": [
              "<Figure size 576x576 with 1 Axes>"
            ],
            "image/png": "[encoded data removed]"
          },
          "metadata": {
            "needs_background": "light"
          }
        }
      ]
    },
    {
      "cell_type": "markdown",
      "source": [
        "cria uma lista com dicionarios de reviews e rating"
      ],
      "metadata": {
        "id": "pM7NM0khG75Z"
      }
    },
    {
      "cell_type": "code",
      "source": [
        "#print(tweets_list)"
      ],
      "metadata": {
        "id": "JStdPkEcmZmD"
      },
      "execution_count": 11,
      "outputs": []
    },
    {
      "cell_type": "code",
      "source": [
        "tweets = [str(w[2]) for w in tweets_list]\n",
        "ratings = [int(w[3]) for w in tweets_list]\n",
        "data = [{ 'X': tweets, 'y': rating } for (tweets, rating) in zip(tweets, ratings)]"
      ],
      "metadata": {
        "id": "zyk3u0QFgKqT"
      },
      "execution_count": 12,
      "outputs": []
    },
    {
      "cell_type": "code",
      "source": [
        "#print(data)"
      ],
      "metadata": {
        "id": "afyUgEJ2jyxj"
      },
      "execution_count": 13,
      "outputs": []
    },
    {
      "cell_type": "code",
      "source": [
        "#print(type(data))\n",
        "#print(data)"
      ],
      "metadata": {
        "id": "hlZcWH4JGhM6"
      },
      "execution_count": 14,
      "outputs": []
    },
    {
      "cell_type": "markdown",
      "metadata": {
        "id": "WyleZGdH25Hq"
      },
      "source": [
        "Separando os dados em conjunto de treino e teste"
      ]
    },
    {
      "cell_type": "code",
      "metadata": {
        "colab": {
          "base_uri": "https://localhost:8080/"
        },
        "id": "u1R9CbypJfNO",
        "outputId": "4ba39aab-13a2-44f4-8236-8b7934e01ba5"
      },
      "source": [
        "size = int(len(data) * 0.1)\n",
        "treino = data[2*size:] #  0.2 - 1\n",
        "validacao = data[size:2*size] # 0.1:0.2\n",
        "teste = data[:size]  # 0:0.1\n",
        "\n",
        "len(treino), len(validacao), len(teste)"
      ],
      "execution_count": 15,
      "outputs": [
        {
          "output_type": "execute_result",
          "data": {
            "text/plain": [
              "(611, 76, 76)"
            ]
          },
          "metadata": {},
          "execution_count": 15
        }
      ]
    },
    {
      "cell_type": "markdown",
      "metadata": {
        "id": "dGTxUNNQ3LMK"
      },
      "source": [
        "BERTimbau - documentação [este link](https://github.com/neuralmind-ai/portuguese-bert)."
      ]
    },
    {
      "cell_type": "markdown",
      "metadata": {
        "id": "6OHZj1Ko3nos"
      },
      "source": [
        "Instanciando parâmetros"
      ]
    },
    {
      "cell_type": "code",
      "metadata": {
        "id": "icMF0E_R8h9W"
      },
      "source": [
        "device = torch.device('cuda' if torch.cuda.is_available() else 'cpu') # define qual será o acelerador gráfico onde o modelo será processado\n",
        "nclasses = 3  # número de classes/labels que classificam  os tweets (0 = negativo, 1 = indefinido, 2 = positivo)\n",
        "nepochs = 5  # número de épocas (valor inicial: 5)\n",
        "batch_size = 1  # número mínimo de frases que são previstas por vez - em datasets grandes, número pode ser maior\n",
        "batch_status = 32  # a cada quantas batches avalia o status - numero menor pra dataset menor\n",
        "learning_rate = 1e-5  # taxa de aprendizado\n",
        "early_stop = 2  # critério de parada, quantas epocas sem melhora do f1 para parar o aprendizado\n",
        "\n",
        "max_length = 512 # tamanho maximo de cada frase\n",
        "write_path = 'model'"
      ],
      "execution_count": 16,
      "outputs": []
    },
    {
      "cell_type": "markdown",
      "metadata": {
        "id": "P-fAnBqN3rCv"
      },
      "source": [
        "Separando os dados em batches de treino e teste\n",
        "\n"
      ]
    },
    {
      "cell_type": "code",
      "metadata": {
        "id": "d3P7XcEsLXji"
      },
      "source": [
        "from torch.utils.data import DataLoader\n",
        "\n",
        "traindata = DataLoader(treino, batch_size=batch_size, shuffle=True)\n",
        "validationdata = DataLoader(validacao, batch_size=batch_size, shuffle=True)\n",
        "testdata = DataLoader(teste, batch_size=batch_size, shuffle=True)"
      ],
      "execution_count": 17,
      "outputs": []
    },
    {
      "cell_type": "markdown",
      "metadata": {
        "id": "k8Gl_q253uV9"
      },
      "source": [
        "instanciando tokenizador, modelo, função de erro e otimizador:"
      ]
    },
    {
      "cell_type": "code",
      "metadata": {
        "colab": {
          "base_uri": "https://localhost:8080/",
          "height": 320,
          "referenced_widgets": [
            "9bd82cc23a35466f98220c374b7bae13",
            "e5b0d1d7d6e3447aabf0fe85b9f277f1",
            "a2c7b09ec9ca4fe289f88bae5514f827",
            "c7848a95a6c54a619f701e9f220fb4d9",
            "4d84ad502a2d45c099e7b16de5add0d7",
            "7fd63225273c4b619f046faccda6ec9e",
            "29c45773b96a43b9a63c56b0b0f9b813",
            "3dfc16108a734580a00efe2f69c71c7c",
            "48e490b28d3c40a7a2ee31562f35c633",
            "8451d88715544761951c7257a8c41b56",
            "9c2e75566f234e0a91a5365f7f1e17e4",
            "7821f8815aae4f5fac850a9729609881",
            "bdd3bffeddcf454b9844c1a845f5f49c",
            "0eca81e716274f2299891814c600aa0e",
            "048c6cae263d4a35af4486bb24ee1448",
            "49ad78afc48540b086db7e0427f0d006",
            "b2df37c503ca41ee8d2a8306fd1b14af",
            "349a021727ea4eae9072b04596b8ad00",
            "fd14bb7fb77f4e49b22dc28a68e46696",
            "d940705690be40bb873782b1deb11dcd",
            "69ca9da3a1a542bc8402a23b9003fc19",
            "9528a09455244a3db7d36b235194867b",
            "1f1b003b3fb341aaaf7485e327291942",
            "5e085f31627b43f1ad44bd4fb1cab8e0",
            "cc4ada862c724b1d909929c2512525a6",
            "85b6246e987a4e5ab5d8a68fe418209b",
            "35c3aa4c9dd1452f9af1103a02493703",
            "5fc5a8c283184dbcbf796c2aa0616a46",
            "9f7c24de6c074ee1ab3ac2066afa603c",
            "5f60043e94bf42a3a739777e8b4712ae",
            "023a05ec69e0458b978bd9b1aa7d5bb6",
            "fae1320eab234e559caff38bf980b930",
            "7c5bc5c7f5db4f568a6116524488e6ed",
            "60a514d8a3eb48aa914fb8c8a1bb1968",
            "9b4c16696e704b7abc271d0c7da9c0e0",
            "3a6d58088d8641e78472b8ef6d9cbc26",
            "e2aa485fe31340ed854470e8241712da",
            "160c80ee5afc4aaaa7e8e59654eb50ac",
            "303bdcaf78f14292bcb7a5de8cc1a55b",
            "3f5817f44d85404694cf0a0c09880816",
            "fefc345e1e4b4c2a8cb9b65a6f3979a4",
            "670f017ae0224c458a37d8a30671d285",
            "d6a8817d4855409a841a0b20ac7280e5",
            "cbf54d7371104227a263babf47b23a3d",
            "98a3f49150094493b81401b959dbbc23",
            "815e941f222f40af80cce5e2d627c739",
            "9317a1e17d5c4d17bfaa3eac7cfa4113",
            "e7deb80acc81478497ca1c4810b1f3c8",
            "5e9cfc73669e454bb2676c79af02e6a1",
            "2d933dfd9bbb41f3be597827d5e1f854",
            "64c781b1ede84b49b318da1a23a140e5",
            "eac2081e569a42e3bfa663aee8c01ce5",
            "5a1626c5df6d49f1aa74662a9c702018",
            "5b2f789ecef143959bc7c9382a41778d",
            "89fb56c259b340a88055241c1cbc5000",
            "afba77cc5aa7450892b7c8ec08e72f45",
            "eec3212ac578443c9e0ec9e9f5cc04fe",
            "7ce3e3b8908a46919e39fff14f36e31e",
            "1cfc7c8b59144663bb2f4f7e782df748",
            "30fb71252c304101a03f9b1b9dc4164d",
            "cac6bb3fe62646be925150a4b30b8f25",
            "47b9c867799547a49e8cf84cb3310936",
            "096828d3e07d4c7ba288fc0ae6baf2e9",
            "4d58aa8fa9ed4f75a702509cddac7752",
            "d4f1e140310a4a5ea89185e89afd830a",
            "e289072d877546dd9ab1b117e9362628"
          ]
        },
        "id": "7WeMpVR18aPq",
        "outputId": "e7b225e6-6cd3-4e01-c829-cd697f4c37a6"
      },
      "source": [
        "# instancia o tokenizador\n",
        "tokenizer = AutoTokenizer.from_pretrained('neuralmind/bert-large-portuguese-cased', do_lower_case=False)  # para utilizar o BERTinbal large: 'neuralmind/bert-large-portuguese-cased'\n",
        "#bertinbal menor: 'neuralmind/bert-base-portuguese-cased'\n",
        "#  instancia o modelo\n",
        "model = AutoModelForSequenceClassification.from_pretrained('neuralmind/bert-large-portuguese-cased', num_labels=nclasses).to(device)\n",
        "\n",
        "# seleciona o otimizador \n",
        "optimizer = torch.optim.AdamW(model.parameters(), lr=learning_rate)\n",
        "\n",
        "# congela os pesos do BERT pré-treinado\n",
        "for param in model.base_model.parameters():\n",
        "    param.requires_grad = False"
      ],
      "execution_count": 18,
      "outputs": [
        {
          "output_type": "display_data",
          "data": {
            "text/plain": [
              "Downloading:   0%|          | 0.00/155 [00:00<?, ?B/s]"
            ],
            "application/vnd.jupyter.widget-view+json": {
              "version_major": 2,
              "version_minor": 0,
              "model_id": "9bd82cc23a35466f98220c374b7bae13"
            }
          },
          "metadata": {}
        },
        {
          "output_type": "display_data",
          "data": {
            "text/plain": [
              "Downloading:   0%|          | 0.00/648 [00:00<?, ?B/s]"
            ],
            "application/vnd.jupyter.widget-view+json": {
              "version_major": 2,
              "version_minor": 0,
              "model_id": "7821f8815aae4f5fac850a9729609881"
            }
          },
          "metadata": {}
        },
        {
          "output_type": "display_data",
          "data": {
            "text/plain": [
              "Downloading:   0%|          | 0.00/210k [00:00<?, ?B/s]"
            ],
            "application/vnd.jupyter.widget-view+json": {
              "version_major": 2,
              "version_minor": 0,
              "model_id": "1f1b003b3fb341aaaf7485e327291942"
            }
          },
          "metadata": {}
        },
        {
          "output_type": "display_data",
          "data": {
            "text/plain": [
              "Downloading:   0%|          | 0.00/2.00 [00:00<?, ?B/s]"
            ],
            "application/vnd.jupyter.widget-view+json": {
              "version_major": 2,
              "version_minor": 0,
              "model_id": "60a514d8a3eb48aa914fb8c8a1bb1968"
            }
          },
          "metadata": {}
        },
        {
          "output_type": "display_data",
          "data": {
            "text/plain": [
              "Downloading:   0%|          | 0.00/112 [00:00<?, ?B/s]"
            ],
            "application/vnd.jupyter.widget-view+json": {
              "version_major": 2,
              "version_minor": 0,
              "model_id": "98a3f49150094493b81401b959dbbc23"
            }
          },
          "metadata": {}
        },
        {
          "output_type": "display_data",
          "data": {
            "text/plain": [
              "Downloading:   0%|          | 0.00/1.34G [00:00<?, ?B/s]"
            ],
            "application/vnd.jupyter.widget-view+json": {
              "version_major": 2,
              "version_minor": 0,
              "model_id": "afba77cc5aa7450892b7c8ec08e72f45"
            }
          },
          "metadata": {}
        },
        {
          "output_type": "stream",
          "name": "stderr",
          "text": [
            "Some weights of the model checkpoint at neuralmind/bert-large-portuguese-cased were not used when initializing BertForSequenceClassification: ['cls.predictions.bias', 'cls.predictions.transform.LayerNorm.bias', 'cls.seq_relationship.weight', 'cls.predictions.transform.LayerNorm.weight', 'cls.seq_relationship.bias', 'cls.predictions.transform.dense.weight', 'cls.predictions.decoder.weight', 'cls.predictions.transform.dense.bias']\n",
            "- This IS expected if you are initializing BertForSequenceClassification from the checkpoint of a model trained on another task or with another architecture (e.g. initializing a BertForSequenceClassification model from a BertForPreTraining model).\n",
            "- This IS NOT expected if you are initializing BertForSequenceClassification from the checkpoint of a model that you expect to be exactly identical (initializing a BertForSequenceClassification model from a BertForSequenceClassification model).\n",
            "Some weights of BertForSequenceClassification were not initialized from the model checkpoint at neuralmind/bert-large-portuguese-cased and are newly initialized: ['classifier.bias', 'classifier.weight']\n",
            "You should probably TRAIN this model on a down-stream task to be able to use it for predictions and inference.\n"
          ]
        }
      ]
    },
    {
      "cell_type": "markdown",
      "source": [
        "Funcionamento do tokenizador"
      ],
      "metadata": {
        "id": "OBmKk7ynfKxT"
      }
    },
    {
      "cell_type": "code",
      "source": [
        "tokens = tokenizer.encode(\"bonito carro\", return_tensors=\"pt\")\n",
        "print(\"frase tokenizada no formato de tensor pytorch:\")\n",
        "tokens[0]\n",
        "# codifiga cada palavra com um token e adiciona o token de CLS (classificação) e de final de frase (SEP)"
      ],
      "metadata": {
        "colab": {
          "base_uri": "https://localhost:8080/"
        },
        "id": "RGesZq_JekdE",
        "outputId": "42bcb79b-2324-42e7-8577-43dcf9e9980d"
      },
      "execution_count": 19,
      "outputs": [
        {
          "output_type": "stream",
          "name": "stdout",
          "text": [
            "frase tokenizada no formato de tensor pytorch:\n"
          ]
        },
        {
          "output_type": "execute_result",
          "data": {
            "text/plain": [
              "tensor([  101, 22003,  3883,   102])"
            ]
          },
          "metadata": {},
          "execution_count": 19
        }
      ]
    },
    {
      "cell_type": "code",
      "source": [
        "tokens = tokenizer.encode(\"carro bonito\", return_tensors=\"pt\").to(device)\n",
        "print(\"frase tokenizada no formato de tensor pytorch:\")\n",
        "tokens[0]"
      ],
      "metadata": {
        "colab": {
          "base_uri": "https://localhost:8080/"
        },
        "id": "8gOueZhaes39",
        "outputId": "3683f9bd-e6fa-409f-e85b-d4e286aed9a9"
      },
      "execution_count": 20,
      "outputs": [
        {
          "output_type": "stream",
          "name": "stdout",
          "text": [
            "frase tokenizada no formato de tensor pytorch:\n"
          ]
        },
        {
          "output_type": "execute_result",
          "data": {
            "text/plain": [
              "tensor([  101,  3883, 22003,   102], device='cuda:0')"
            ]
          },
          "metadata": {},
          "execution_count": 20
        }
      ]
    },
    {
      "cell_type": "code",
      "source": [
        "print(\"frase destokenizada:\")\n",
        "tokenizer.decode(tokens[0])"
      ],
      "metadata": {
        "colab": {
          "base_uri": "https://localhost:8080/",
          "height": 54
        },
        "id": "6FePnuDUeRoF",
        "outputId": "b6576fd7-8200-45d9-f15e-69d36a4e445e"
      },
      "execution_count": 21,
      "outputs": [
        {
          "output_type": "stream",
          "name": "stdout",
          "text": [
            "frase destokenizada:\n"
          ]
        },
        {
          "output_type": "execute_result",
          "data": {
            "text/plain": [
              "'[CLS] carro bonito [SEP]'"
            ],
            "application/vnd.google.colaboratory.intrinsic+json": {
              "type": "string"
            }
          },
          "metadata": {},
          "execution_count": 21
        }
      ]
    },
    {
      "cell_type": "markdown",
      "source": [
        "funcionamento do modelo"
      ],
      "metadata": {
        "id": "FvJ1QBolfdAu"
      }
    },
    {
      "cell_type": "code",
      "source": [
        "result = model(tokens)\n",
        "result\n",
        "# a saída é uma lista de scores one-hot encoded\n",
        "# como ao ser instanciado o modelo, foi escolhido o número de classes como 3, a saída será de 3 números diferentes\n",
        "# cada posição com um significado diferente, conforme o que for utilizado nos dados de treino\n",
        "# no exemplo a posição 1 (0.0417) é a maior (como o modelo ainda não foi treinado, o significado é aleatório)\n",
        "# caso o modelo for treinado com a classificação 0=ruim, 1=neutro, 2=bom, a posição com número maior irá indicar o sentimento geral da frase\n",
        "\n",
        "\n",
        "\n",
        "\n"
      ],
      "metadata": {
        "colab": {
          "base_uri": "https://localhost:8080/"
        },
        "id": "7kFryBZRffEg",
        "outputId": "7f96139f-eae9-4c20-b459-50c14755a1ab"
      },
      "execution_count": 22,
      "outputs": [
        {
          "output_type": "execute_result",
          "data": {
            "text/plain": [
              "SequenceClassifierOutput(loss=None, logits=tensor([[ 0.0076,  0.5278, -0.3991]], device='cuda:0',\n",
              "       grad_fn=<AddmmBackward0>), hidden_states=None, attentions=None)"
            ]
          },
          "metadata": {},
          "execution_count": 22
        }
      ]
    },
    {
      "cell_type": "code",
      "source": [
        "# para extrair a informação do resultado:\n",
        "torch.argmax(result.logits)"
      ],
      "metadata": {
        "colab": {
          "base_uri": "https://localhost:8080/"
        },
        "id": "uR3JlK9xgm9Z",
        "outputId": "aaa07f13-e019-4c99-bfb0-e3d71502b4e9"
      },
      "execution_count": 23,
      "outputs": [
        {
          "output_type": "execute_result",
          "data": {
            "text/plain": [
              "tensor(1, device='cuda:0')"
            ]
          },
          "metadata": {},
          "execution_count": 23
        }
      ]
    },
    {
      "cell_type": "markdown",
      "metadata": {
        "id": "-4XlMiF43y56"
      },
      "source": [
        "Definindo a função de avaliação do modelo"
      ]
    },
    {
      "cell_type": "code",
      "metadata": {
        "id": "AbiO9x2E81CS"
      },
      "source": [
        "def evaluate(model, validationdata):\n",
        "  \"\"\"\n",
        "  avalia o desempenho do modelo que está sendo treinado baseado nos dados de validacao\n",
        "  \"\"\"\n",
        "  # coloca o modelo no modo de avaliação\n",
        "  model.eval()\n",
        "  y_real, y_pred = [], []\n",
        "  for batch_idx, inp in enumerate(validationdata): # passa por cada batch dos dados de teste, batch_idx é o número da batch, inp contem o texto e o label\n",
        "    texts, labels = inp['X'], inp['y']\n",
        "    \n",
        "    # instancia o tokenizador enviando os textos dos comentarios\n",
        "    inputs = tokenizer(texts, return_tensors='pt', padding=True, truncation=True, max_length=max_length).to(device)\n",
        "    # instancia o modelo enviando os tokens e salvando as classificações preditas\n",
        "    output = model(**inputs)\n",
        "    \n",
        "    # cria um tensor com os labels preditos no output\n",
        "    pred_labels = torch.argmax(output.logits, 1)\n",
        "\n",
        "    # print(f\"texto: {texts}, rótulo correto: {labels}, predito pelo modelo: {pred_labels}\") # imprime a frase, o resultado correto e o predito\n",
        "    \n",
        "    # adiciona cada novo label às listas y_real e y_pred(ito)\n",
        "    y_real.extend(labels.tolist())\n",
        "    y_pred.extend(pred_labels.tolist())\n",
        "    \n",
        "    # a cada certa quantidade de itens preditos, printa a % de progresso e o número de itens preditos\n",
        "    if (batch_idx+1) % batch_status == 0:\n",
        "      print('Progress:', round(batch_idx / len(testdata), 2), batch_idx)\n",
        "  \n",
        "  # chama o classification_report do scikitlearn para calcular o resultado após predizer todas as linhas de teste\n",
        "  print(classification_report(y_real, y_pred, labels=[0, 1, 2], target_names=['Negative', 'Neural', 'Positive'])) # identifica os labels 0, 1 e 2 como negativo, neutro e positivo\n",
        "  # retorna f1 e acurácia\n",
        "  f1 = f1_score(y_real, y_pred, average='weighted')\n",
        "  acc = accuracy_score(y_real, y_pred)\n",
        "  return f1, acc"
      ],
      "execution_count": 24,
      "outputs": []
    },
    {
      "cell_type": "markdown",
      "metadata": {
        "id": "BfoYwmza39MJ"
      },
      "source": [
        "Treinamento"
      ]
    },
    {
      "cell_type": "code",
      "metadata": {
        "id": "rRiZCQnO9hE1",
        "colab": {
          "base_uri": "https://localhost:8080/"
        },
        "outputId": "82173a6d-a35c-4879-cfac-e6c38117f4f2"
      },
      "source": [
        "max_f1, repeat = 0, 0\n",
        "\n",
        "#  passa por todas as épocas de treino\n",
        "for epoch in range(nepochs):\n",
        "  model.train()\n",
        "  #avalia o modelo antes de iniciar a 1a época\n",
        "  f1, acc = evaluate(model, testdata)\n",
        "  losses = []\n",
        "\n",
        "  for batch_idx, inp in enumerate(traindata): # passa por cada batch dos dados de teste, batch_idx é o número da batch, inp contem o texto e o label\n",
        "    texts, labels = inp['X'], inp['y']\n",
        "\n",
        "    # instancia o tokenizador enviando os textos dos comentarios\n",
        "    inputs = tokenizer(texts, return_tensors='pt', padding=True, truncation=True, max_length=max_length).to(device)\n",
        "    # zera os gradientes acumulados em buffer \n",
        "    optimizer.zero_grad()\n",
        "    # instancia o modelo enviando os tokens e salvando as classificações preditas\n",
        "    output = model(**inputs, labels=labels.to(device))\n",
        "\n",
        "    # calcula a perda\n",
        "    loss = output.loss\n",
        "    losses.append(float(loss))\n",
        "\n",
        "    # faz o Backpropagation no modelo- com o otimizador definido anteriormente (AdamW)\n",
        "    loss.backward()\n",
        "    optimizer.step()\n",
        "\n",
        "    # mostra o andamento do treinamento\n",
        "    if (batch_idx+1) % batch_status == 0:\n",
        "      print('Train Epoch: {} [{}/{} ({:.0f}%)]\\tLoss: {:.6f}\\tTotal Loss: {:.6f}'.format(\\\n",
        "        epoch, # número da época\n",
        "        batch_idx+1, # número do batch\n",
        "        len(traindata), # número total de dados de treino\n",
        "        100. * batch_idx / len(traindata), # % de dados treinados\n",
        "        float(loss), # perda atual\n",
        "        round(sum(losses) / len(losses), 5) # perda acumulada\n",
        "        ))\n",
        "\n",
        "  # se passou a 1a época, descongela os pesos do Bert pretreinado\n",
        "  if epoch == 0: \n",
        "    for param in model.base_model.parameters():\n",
        "        param.requires_grad = True\n",
        "\n",
        "  # ao terminar cada época, avalia o modelo\n",
        "  f1, acc = evaluate(model, testdata)\n",
        "  print('F1: ', f1, 'Accuracy: ', acc)\n",
        "\n",
        "  # salva o modelo somente se f1 melhorou em relação à epoch anterior\n",
        "  if f1 > max_f1:\n",
        "    model.save_pretrained(os.path.join(write_path, 'model'))\n",
        "    max_f1 = f1\n",
        "    repeat = 0\n",
        "    print('Saving best model...')\n",
        "  else:\n",
        "    repeat += 1\n",
        "  \n",
        "  # se por duas épocas o f1 não melhorou, para de treinar o modelo\n",
        "  if repeat == early_stop:\n",
        "    break"
      ],
      "execution_count": 25,
      "outputs": [
        {
          "output_type": "stream",
          "name": "stdout",
          "text": [
            "Progress: 0.41 31\n",
            "Progress: 0.83 63\n"
          ]
        },
        {
          "output_type": "stream",
          "name": "stderr",
          "text": [
            "/usr/local/lib/python3.7/dist-packages/sklearn/metrics/_classification.py:1318: UndefinedMetricWarning: Precision and F-score are ill-defined and being set to 0.0 in labels with no predicted samples. Use `zero_division` parameter to control this behavior.\n",
            "  _warn_prf(average, modifier, msg_start, len(result))\n",
            "/usr/local/lib/python3.7/dist-packages/sklearn/metrics/_classification.py:1318: UndefinedMetricWarning: Precision and F-score are ill-defined and being set to 0.0 in labels with no predicted samples. Use `zero_division` parameter to control this behavior.\n",
            "  _warn_prf(average, modifier, msg_start, len(result))\n",
            "/usr/local/lib/python3.7/dist-packages/sklearn/metrics/_classification.py:1318: UndefinedMetricWarning: Precision and F-score are ill-defined and being set to 0.0 in labels with no predicted samples. Use `zero_division` parameter to control this behavior.\n",
            "  _warn_prf(average, modifier, msg_start, len(result))\n"
          ]
        },
        {
          "output_type": "stream",
          "name": "stdout",
          "text": [
            "              precision    recall  f1-score   support\n",
            "\n",
            "    Negative       0.50      0.03      0.06        31\n",
            "      Neural       0.30      1.00      0.46        22\n",
            "    Positive       0.00      0.00      0.00        23\n",
            "\n",
            "    accuracy                           0.30        76\n",
            "   macro avg       0.27      0.34      0.17        76\n",
            "weighted avg       0.29      0.30      0.16        76\n",
            "\n",
            "Train Epoch: 0 [32/611 (5%)]\tLoss: 0.814227\tTotal Loss: 1.161610\n",
            "Train Epoch: 0 [64/611 (10%)]\tLoss: 0.906559\tTotal Loss: 1.150900\n",
            "Train Epoch: 0 [96/611 (16%)]\tLoss: 1.366822\tTotal Loss: 1.152410\n",
            "Train Epoch: 0 [128/611 (21%)]\tLoss: 1.376839\tTotal Loss: 1.153290\n",
            "Train Epoch: 0 [160/611 (26%)]\tLoss: 1.148732\tTotal Loss: 1.152330\n",
            "Train Epoch: 0 [192/611 (31%)]\tLoss: 0.827259\tTotal Loss: 1.172820\n",
            "Train Epoch: 0 [224/611 (36%)]\tLoss: 1.392918\tTotal Loss: 1.171170\n",
            "Train Epoch: 0 [256/611 (42%)]\tLoss: 1.527797\tTotal Loss: 1.170990\n",
            "Train Epoch: 0 [288/611 (47%)]\tLoss: 1.463506\tTotal Loss: 1.167220\n",
            "Train Epoch: 0 [320/611 (52%)]\tLoss: 1.456155\tTotal Loss: 1.162670\n",
            "Train Epoch: 0 [352/611 (57%)]\tLoss: 1.433708\tTotal Loss: 1.159190\n",
            "Train Epoch: 0 [384/611 (63%)]\tLoss: 1.471208\tTotal Loss: 1.163090\n",
            "Train Epoch: 0 [416/611 (68%)]\tLoss: 0.872086\tTotal Loss: 1.164420\n",
            "Train Epoch: 0 [448/611 (73%)]\tLoss: 1.034104\tTotal Loss: 1.163950\n",
            "Train Epoch: 0 [480/611 (78%)]\tLoss: 1.098307\tTotal Loss: 1.164900\n",
            "Train Epoch: 0 [512/611 (84%)]\tLoss: 1.111762\tTotal Loss: 1.159310\n",
            "Train Epoch: 0 [544/611 (89%)]\tLoss: 0.942924\tTotal Loss: 1.156680\n",
            "Train Epoch: 0 [576/611 (94%)]\tLoss: 1.084972\tTotal Loss: 1.152310\n",
            "Train Epoch: 0 [608/611 (99%)]\tLoss: 1.365681\tTotal Loss: 1.150030\n",
            "Progress: 0.41 31\n",
            "Progress: 0.83 63\n",
            "              precision    recall  f1-score   support\n",
            "\n",
            "    Negative       0.44      0.35      0.39        31\n",
            "      Neural       0.33      0.73      0.46        22\n",
            "    Positive       0.00      0.00      0.00        23\n",
            "\n",
            "    accuracy                           0.36        76\n",
            "   macro avg       0.26      0.36      0.28        76\n",
            "weighted avg       0.28      0.36      0.29        76\n",
            "\n",
            "F1:  0.2925751879699248 Accuracy:  0.35526315789473684\n",
            "Saving best model...\n",
            "Progress: 0.41 31\n",
            "Progress: 0.83 63\n",
            "              precision    recall  f1-score   support\n",
            "\n",
            "    Negative       0.44      0.35      0.39        31\n",
            "      Neural       0.33      0.73      0.46        22\n",
            "    Positive       0.00      0.00      0.00        23\n",
            "\n",
            "    accuracy                           0.36        76\n",
            "   macro avg       0.26      0.36      0.28        76\n",
            "weighted avg       0.28      0.36      0.29        76\n",
            "\n",
            "Train Epoch: 1 [32/611 (5%)]\tLoss: 0.947497\tTotal Loss: 1.132330\n",
            "Train Epoch: 1 [64/611 (10%)]\tLoss: 1.130492\tTotal Loss: 1.086320\n",
            "Train Epoch: 1 [96/611 (16%)]\tLoss: 0.923102\tTotal Loss: 1.105700\n",
            "Train Epoch: 1 [128/611 (21%)]\tLoss: 1.342951\tTotal Loss: 1.088160\n",
            "Train Epoch: 1 [160/611 (26%)]\tLoss: 1.252781\tTotal Loss: 1.077090\n",
            "Train Epoch: 1 [192/611 (31%)]\tLoss: 1.248691\tTotal Loss: 1.062010\n",
            "Train Epoch: 1 [224/611 (36%)]\tLoss: 0.648086\tTotal Loss: 1.042970\n",
            "Train Epoch: 1 [256/611 (42%)]\tLoss: 0.481830\tTotal Loss: 1.008020\n",
            "Train Epoch: 1 [288/611 (47%)]\tLoss: 0.181524\tTotal Loss: 0.981340\n",
            "Train Epoch: 1 [320/611 (52%)]\tLoss: 0.805612\tTotal Loss: 0.963030\n",
            "Train Epoch: 1 [352/611 (57%)]\tLoss: 0.175321\tTotal Loss: 0.954090\n",
            "Train Epoch: 1 [384/611 (63%)]\tLoss: 1.053097\tTotal Loss: 0.937210\n",
            "Train Epoch: 1 [416/611 (68%)]\tLoss: 0.188200\tTotal Loss: 0.941870\n",
            "Train Epoch: 1 [448/611 (73%)]\tLoss: 0.995903\tTotal Loss: 0.931080\n",
            "Train Epoch: 1 [480/611 (78%)]\tLoss: 1.388093\tTotal Loss: 0.909480\n",
            "Train Epoch: 1 [512/611 (84%)]\tLoss: 0.480994\tTotal Loss: 0.898820\n",
            "Train Epoch: 1 [544/611 (89%)]\tLoss: 0.159273\tTotal Loss: 0.897680\n",
            "Train Epoch: 1 [576/611 (94%)]\tLoss: 0.448924\tTotal Loss: 0.887570\n",
            "Train Epoch: 1 [608/611 (99%)]\tLoss: 0.323853\tTotal Loss: 0.877650\n",
            "Progress: 0.41 31\n",
            "Progress: 0.83 63\n",
            "              precision    recall  f1-score   support\n",
            "\n",
            "    Negative       0.83      0.61      0.70        31\n",
            "      Neural       0.59      0.73      0.65        22\n",
            "    Positive       0.62      0.70      0.65        23\n",
            "\n",
            "    accuracy                           0.67        76\n",
            "   macro avg       0.68      0.68      0.67        76\n",
            "weighted avg       0.69      0.67      0.67        76\n",
            "\n",
            "F1:  0.6737180252217845 Accuracy:  0.6710526315789473\n",
            "Saving best model...\n",
            "Progress: 0.41 31\n",
            "Progress: 0.83 63\n",
            "              precision    recall  f1-score   support\n",
            "\n",
            "    Negative       0.83      0.61      0.70        31\n",
            "      Neural       0.59      0.73      0.65        22\n",
            "    Positive       0.62      0.70      0.65        23\n",
            "\n",
            "    accuracy                           0.67        76\n",
            "   macro avg       0.68      0.68      0.67        76\n",
            "weighted avg       0.69      0.67      0.67        76\n",
            "\n",
            "Train Epoch: 2 [32/611 (5%)]\tLoss: 0.235865\tTotal Loss: 0.555630\n",
            "Train Epoch: 2 [64/611 (10%)]\tLoss: 0.034286\tTotal Loss: 0.488930\n",
            "Train Epoch: 2 [96/611 (16%)]\tLoss: 0.164708\tTotal Loss: 0.457140\n",
            "Train Epoch: 2 [128/611 (21%)]\tLoss: 0.163768\tTotal Loss: 0.443910\n",
            "Train Epoch: 2 [160/611 (26%)]\tLoss: 0.115797\tTotal Loss: 0.407790\n",
            "Train Epoch: 2 [192/611 (31%)]\tLoss: 0.088181\tTotal Loss: 0.363540\n",
            "Train Epoch: 2 [224/611 (36%)]\tLoss: 0.035527\tTotal Loss: 0.379450\n",
            "Train Epoch: 2 [256/611 (42%)]\tLoss: 0.162388\tTotal Loss: 0.383440\n",
            "Train Epoch: 2 [288/611 (47%)]\tLoss: 0.270844\tTotal Loss: 0.400940\n",
            "Train Epoch: 2 [320/611 (52%)]\tLoss: 0.550113\tTotal Loss: 0.401030\n",
            "Train Epoch: 2 [352/611 (57%)]\tLoss: 0.035437\tTotal Loss: 0.386240\n",
            "Train Epoch: 2 [384/611 (63%)]\tLoss: 0.026563\tTotal Loss: 0.383190\n",
            "Train Epoch: 2 [416/611 (68%)]\tLoss: 0.037678\tTotal Loss: 0.392310\n",
            "Train Epoch: 2 [448/611 (73%)]\tLoss: 0.090417\tTotal Loss: 0.398860\n",
            "Train Epoch: 2 [480/611 (78%)]\tLoss: 0.055023\tTotal Loss: 0.383700\n",
            "Train Epoch: 2 [512/611 (84%)]\tLoss: 0.005429\tTotal Loss: 0.375920\n",
            "Train Epoch: 2 [544/611 (89%)]\tLoss: 0.016204\tTotal Loss: 0.381200\n",
            "Train Epoch: 2 [576/611 (94%)]\tLoss: 0.015479\tTotal Loss: 0.374450\n",
            "Train Epoch: 2 [608/611 (99%)]\tLoss: 0.012677\tTotal Loss: 0.369320\n",
            "Progress: 0.41 31\n",
            "Progress: 0.83 63\n",
            "              precision    recall  f1-score   support\n",
            "\n",
            "    Negative       0.79      0.74      0.77        31\n",
            "      Neural       0.74      0.64      0.68        22\n",
            "    Positive       0.68      0.83      0.75        23\n",
            "\n",
            "    accuracy                           0.74        76\n",
            "   macro avg       0.74      0.73      0.73        76\n",
            "weighted avg       0.74      0.74      0.74        76\n",
            "\n",
            "F1:  0.7358988396385513 Accuracy:  0.7368421052631579\n",
            "Saving best model...\n",
            "Progress: 0.41 31\n",
            "Progress: 0.83 63\n",
            "              precision    recall  f1-score   support\n",
            "\n",
            "    Negative       0.79      0.74      0.77        31\n",
            "      Neural       0.74      0.64      0.68        22\n",
            "    Positive       0.68      0.83      0.75        23\n",
            "\n",
            "    accuracy                           0.74        76\n",
            "   macro avg       0.74      0.73      0.73        76\n",
            "weighted avg       0.74      0.74      0.74        76\n",
            "\n",
            "Train Epoch: 3 [32/611 (5%)]\tLoss: 0.018685\tTotal Loss: 0.094620\n",
            "Train Epoch: 3 [64/611 (10%)]\tLoss: 0.031500\tTotal Loss: 0.136230\n",
            "Train Epoch: 3 [96/611 (16%)]\tLoss: 0.018658\tTotal Loss: 0.126410\n",
            "Train Epoch: 3 [128/611 (21%)]\tLoss: 0.007951\tTotal Loss: 0.106300\n",
            "Train Epoch: 3 [160/611 (26%)]\tLoss: 0.019617\tTotal Loss: 0.091920\n",
            "Train Epoch: 3 [192/611 (31%)]\tLoss: 0.004789\tTotal Loss: 0.079530\n",
            "Train Epoch: 3 [224/611 (36%)]\tLoss: 0.018417\tTotal Loss: 0.076540\n",
            "Train Epoch: 3 [256/611 (42%)]\tLoss: 0.028412\tTotal Loss: 0.078120\n",
            "Train Epoch: 3 [288/611 (47%)]\tLoss: 0.006505\tTotal Loss: 0.070800\n",
            "Train Epoch: 3 [320/611 (52%)]\tLoss: 0.017707\tTotal Loss: 0.066370\n",
            "Train Epoch: 3 [352/611 (57%)]\tLoss: 0.004767\tTotal Loss: 0.062870\n",
            "Train Epoch: 3 [384/611 (63%)]\tLoss: 0.026377\tTotal Loss: 0.061400\n",
            "Train Epoch: 3 [416/611 (68%)]\tLoss: 0.024877\tTotal Loss: 0.057500\n",
            "Train Epoch: 3 [448/611 (73%)]\tLoss: 0.002639\tTotal Loss: 0.067780\n",
            "Train Epoch: 3 [480/611 (78%)]\tLoss: 0.001935\tTotal Loss: 0.072120\n",
            "Train Epoch: 3 [512/611 (84%)]\tLoss: 0.003030\tTotal Loss: 0.069630\n",
            "Train Epoch: 3 [544/611 (89%)]\tLoss: 0.011188\tTotal Loss: 0.075750\n",
            "Train Epoch: 3 [576/611 (94%)]\tLoss: 0.063955\tTotal Loss: 0.079460\n",
            "Train Epoch: 3 [608/611 (99%)]\tLoss: 2.263678\tTotal Loss: 0.088230\n",
            "Progress: 0.41 31\n",
            "Progress: 0.83 63\n",
            "              precision    recall  f1-score   support\n",
            "\n",
            "    Negative       0.85      0.35      0.50        31\n",
            "      Neural       0.49      0.77      0.60        22\n",
            "    Positive       0.61      0.74      0.67        23\n",
            "\n",
            "    accuracy                           0.59        76\n",
            "   macro avg       0.65      0.62      0.59        76\n",
            "weighted avg       0.67      0.59      0.58        76\n",
            "\n",
            "F1:  0.5783702677746999 Accuracy:  0.5921052631578947\n",
            "Progress: 0.41 31\n",
            "Progress: 0.83 63\n",
            "              precision    recall  f1-score   support\n",
            "\n",
            "    Negative       0.85      0.35      0.50        31\n",
            "      Neural       0.49      0.77      0.60        22\n",
            "    Positive       0.61      0.74      0.67        23\n",
            "\n",
            "    accuracy                           0.59        76\n",
            "   macro avg       0.65      0.62      0.59        76\n",
            "weighted avg       0.67      0.59      0.58        76\n",
            "\n",
            "Train Epoch: 4 [32/611 (5%)]\tLoss: 0.001530\tTotal Loss: 0.031420\n",
            "Train Epoch: 4 [64/611 (10%)]\tLoss: 0.017334\tTotal Loss: 0.069160\n",
            "Train Epoch: 4 [96/611 (16%)]\tLoss: 0.002614\tTotal Loss: 0.050790\n",
            "Train Epoch: 4 [128/611 (21%)]\tLoss: 0.001791\tTotal Loss: 0.078740\n",
            "Train Epoch: 4 [160/611 (26%)]\tLoss: 0.037802\tTotal Loss: 0.073220\n",
            "Train Epoch: 4 [192/611 (31%)]\tLoss: 0.007579\tTotal Loss: 0.062550\n",
            "Train Epoch: 4 [224/611 (36%)]\tLoss: 0.002484\tTotal Loss: 0.055200\n",
            "Train Epoch: 4 [256/611 (42%)]\tLoss: 0.004238\tTotal Loss: 0.061120\n",
            "Train Epoch: 4 [288/611 (47%)]\tLoss: 0.002585\tTotal Loss: 0.055010\n",
            "Train Epoch: 4 [320/611 (52%)]\tLoss: 0.011069\tTotal Loss: 0.052340\n",
            "Train Epoch: 4 [352/611 (57%)]\tLoss: 0.009942\tTotal Loss: 0.051320\n",
            "Train Epoch: 4 [384/611 (63%)]\tLoss: 0.005503\tTotal Loss: 0.047690\n",
            "Train Epoch: 4 [416/611 (68%)]\tLoss: 0.001530\tTotal Loss: 0.044300\n",
            "Train Epoch: 4 [448/611 (73%)]\tLoss: 2.221183\tTotal Loss: 0.046520\n",
            "Train Epoch: 4 [480/611 (78%)]\tLoss: 0.000781\tTotal Loss: 0.043630\n",
            "Train Epoch: 4 [512/611 (84%)]\tLoss: 0.012014\tTotal Loss: 0.052050\n",
            "Train Epoch: 4 [544/611 (89%)]\tLoss: 0.002870\tTotal Loss: 0.049960\n",
            "Train Epoch: 4 [576/611 (94%)]\tLoss: 0.004873\tTotal Loss: 0.047920\n",
            "Train Epoch: 4 [608/611 (99%)]\tLoss: 4.160475\tTotal Loss: 0.052430\n",
            "Progress: 0.41 31\n",
            "Progress: 0.83 63\n",
            "              precision    recall  f1-score   support\n",
            "\n",
            "    Negative       0.86      0.77      0.81        31\n",
            "      Neural       0.67      0.73      0.70        22\n",
            "    Positive       0.71      0.74      0.72        23\n",
            "\n",
            "    accuracy                           0.75        76\n",
            "   macro avg       0.74      0.75      0.74        76\n",
            "weighted avg       0.76      0.75      0.75        76\n",
            "\n",
            "F1:  0.7521445352826084 Accuracy:  0.75\n",
            "Saving best model...\n"
          ]
        }
      ]
    },
    {
      "cell_type": "code",
      "source": [
        "# avaliação final do modelo nos dados de teste\n",
        "with torch.no_grad():\n",
        "  model.eval()\n",
        "  y_real, y_pred = [], []\n",
        "  for batch_idx, inp in enumerate(testdata): # passa por cada batch dos dados de teste, batch_idx é o número da batch, inp contem o texto e o label\n",
        "    texts, labels = inp['X'], inp['y']\n",
        "    \n",
        "    # instancia o tokenizador enviando os textos dos comentarios\n",
        "    inputs = tokenizer(texts, return_tensors='pt', padding=True, truncation=True, max_length=max_length).to(device)\n",
        "    # instancia o modelo enviando os tokens e salvando as classificações preditas\n",
        "    output = model(**inputs)\n",
        "    \n",
        "    # cria um tensor com os labels preditos no output\n",
        "    pred_labels = torch.argmax(output.logits, 1)\n",
        "\n",
        "    # print(f\"texto: {texts}, rótulo correto: {labels}, predito pelo modelo: {pred_labels}\") # imprime a frase, o resultado correto e o predito\n",
        "    \n",
        "    # adiciona cada novo label às listas y_real e y_pred(ito)\n",
        "    y_real.extend(labels.tolist())\n",
        "    y_pred.extend(pred_labels.tolist())\n",
        "    \n",
        "    # a cada certa quantidade de itens preditos, printa a % de progresso e o número de itens preditos\n",
        "    if (batch_idx+1) % batch_status == 0:\n",
        "      print('Progress:', round(batch_idx / len(testdata), 2), batch_idx)\n",
        "  \n",
        "  # chama o classification_report do scikitlearn para calcular o resultado após predizer todas as linhas de teste\n",
        "  print(classification_report(y_real, y_pred, labels=[0, 1, 2], target_names=['Negative', 'Neural', 'Positive'])) # identifica os labels 0, 1 e 2 como negativo, neutro e positivo\n",
        "  # mostra f1 e acurácia\n",
        "  print(\"avaliação nos dados de teste\")\n",
        "  print(\"f1: \", f1_score(y_real, y_pred, average='weighted'))\n",
        "  print(\"acurácia: \", accuracy_score(y_real, y_pred))"
      ],
      "metadata": {
        "colab": {
          "base_uri": "https://localhost:8080/"
        },
        "id": "isn1BaR-pJDt",
        "outputId": "fc29f6ee-8d81-486b-b01e-73750c8d878c"
      },
      "execution_count": 26,
      "outputs": [
        {
          "output_type": "stream",
          "name": "stdout",
          "text": [
            "Progress: 0.41 31\n",
            "Progress: 0.83 63\n",
            "              precision    recall  f1-score   support\n",
            "\n",
            "    Negative       0.86      0.77      0.81        31\n",
            "      Neural       0.67      0.73      0.70        22\n",
            "    Positive       0.71      0.74      0.72        23\n",
            "\n",
            "    accuracy                           0.75        76\n",
            "   macro avg       0.74      0.75      0.74        76\n",
            "weighted avg       0.76      0.75      0.75        76\n",
            "\n",
            "avaliação nos dados de teste\n",
            "f1:  0.7521445352826084\n",
            "acurácia:  0.75\n"
          ]
        }
      ]
    },
    {
      "cell_type": "code",
      "source": [
        "texts = \"lula é horrível\"\n",
        "\n",
        "# instancia o tokenizador enviando os textos dos comentarios\n",
        "inputs = tokenizer(texts, return_tensors='pt', padding=True, truncation=True, max_length=max_length).to(device)\n",
        "# instancia o modelo enviando os tokens e salvando as classificações preditas\n",
        "output = model(**inputs)\n",
        "\n",
        "# cria um tensor com os labels preditos no output\n",
        "pred_labels = torch.argmax(output.logits, 1)\n",
        "\n",
        "print(f\"texto: {texts}, rótulo predito pelo modelo: {pred_labels}\") # imprime a frase, o resultado correto e o predito"
      ],
      "metadata": {
        "colab": {
          "base_uri": "https://localhost:8080/"
        },
        "id": "hUx4gHm0jt_c",
        "outputId": "c67bf935-0938-4fb7-e0bf-a296abaf94a0"
      },
      "execution_count": 27,
      "outputs": [
        {
          "output_type": "stream",
          "name": "stdout",
          "text": [
            "texto: lula é horrível, rótulo predito pelo modelo: tensor([0], device='cuda:0')\n"
          ]
        }
      ]
    },
    {
      "cell_type": "code",
      "source": [
        "texts = \"lula é ótimo, votem 13\"\n",
        "\n",
        "# instancia o tokenizador enviando os textos dos comentarios\n",
        "inputs = tokenizer(texts, return_tensors='pt', padding=True, truncation=True, max_length=max_length).to(device)\n",
        "# instancia o modelo enviando os tokens e salvando as classificações preditas\n",
        "output = model(**inputs)\n",
        "\n",
        "# cria um tensor com os labels preditos no output\n",
        "pred_labels = torch.argmax(output.logits, 1).item()\n",
        "\n",
        "print(f\"texto: {texts}, rótulo predito pelo modelo: {pred_labels}\") # imprime a frase, o resultado correto e o predito"
      ],
      "metadata": {
        "colab": {
          "base_uri": "https://localhost:8080/"
        },
        "id": "vN_bY4xtlIHf",
        "outputId": "9bad9c5a-48a9-4a9e-eaef-cae96cd03fdc"
      },
      "execution_count": 28,
      "outputs": [
        {
          "output_type": "stream",
          "name": "stdout",
          "text": [
            "texto: lula é ótimo, votem 13, rótulo predito pelo modelo: 2\n"
          ]
        }
      ]
    },
    {
      "cell_type": "code",
      "source": [
        "texts = \"lula é regular\"\n",
        "\n",
        "# instancia o tokenizador enviando os textos dos comentarios\n",
        "inputs = tokenizer(texts, return_tensors='pt', padding=True, truncation=True, max_length=max_length).to(device)\n",
        "# instancia o modelo enviando os tokens e salvando as classificações preditas\n",
        "output = model(**inputs)\n",
        "\n",
        "# cria um tensor com os labels preditos no output\n",
        "pred_labels = torch.argmax(output.logits, 1)\n",
        "\n",
        "print(f\"texto: {texts}, rótulo predito pelo modelo: {pred_labels}\") # imprime a frase, o resultado correto e o predito"
      ],
      "metadata": {
        "colab": {
          "base_uri": "https://localhost:8080/"
        },
        "id": "YBwGwZurlMok",
        "outputId": "c570f99b-73a1-4345-c77d-47e5e385571d"
      },
      "execution_count": 29,
      "outputs": [
        {
          "output_type": "stream",
          "name": "stdout",
          "text": [
            "texto: lula é regular, rótulo predito pelo modelo: tensor([2], device='cuda:0')\n"
          ]
        }
      ]
    },
    {
      "cell_type": "code",
      "source": [
        "#reduced_df = full_df.head(10000) # seleciona apenas 5000 linhas para teste\n",
        "reduced_df = full_df"
      ],
      "metadata": {
        "id": "b2Hi-lWBJgBl"
      },
      "execution_count": 30,
      "outputs": []
    },
    {
      "cell_type": "code",
      "source": [
        "\n",
        "# iterates through the dataframe tweets_lula and prints the text of the 'content' column at each iteration\n",
        "for index, row in reduced_df.iterrows():\n",
        "    # instancia o tokenizador enviando os textos dos comentarios\n",
        "    inputs = tokenizer(str(row['content']), return_tensors='pt', padding=True, truncation=True, max_length=max_length).to(device)\n",
        "    # instancia o modelo enviando os tokens e salvando as classificações preditas\n",
        "    output = model(**inputs)\n",
        "    # cria um tensor com os labels preditos no output e extrai a predição do tensor\n",
        "    reduced_df['label'][index] = torch.argmax(output.logits).item()\n",
        "\n",
        "    if index % 2000 == 0:\n",
        "      print(f\"{index}/{len(reduced_df)}\")\n",
        "    #print(reduced_df['label'])\n",
        "    \n"
      ],
      "metadata": {
        "colab": {
          "base_uri": "https://localhost:8080/"
        },
        "id": "bYuwXKsz5RKc",
        "outputId": "b8cf41cf-dbd8-4f6e-9702-ca903ab26f21"
      },
      "execution_count": 31,
      "outputs": [
        {
          "output_type": "stream",
          "name": "stdout",
          "text": [
            "0/24698\n"
          ]
        },
        {
          "output_type": "stream",
          "name": "stderr",
          "text": [
            "/usr/local/lib/python3.7/dist-packages/ipykernel_launcher.py:8: SettingWithCopyWarning: \n",
            "A value is trying to be set on a copy of a slice from a DataFrame\n",
            "\n",
            "See the caveats in the documentation: https://pandas.pydata.org/pandas-docs/stable/user_guide/indexing.html#returning-a-view-versus-a-copy\n",
            "  \n"
          ]
        },
        {
          "output_type": "stream",
          "name": "stdout",
          "text": [
            "2000/24698\n",
            "4000/24698\n",
            "6000/24698\n",
            "8000/24698\n",
            "10000/24698\n",
            "12000/24698\n",
            "14000/24698\n",
            "16000/24698\n",
            "18000/24698\n",
            "20000/24698\n",
            "22000/24698\n",
            "24000/24698\n"
          ]
        }
      ]
    },
    {
      "cell_type": "code",
      "source": [
        "# nmostra a proporção de labels no resultado final total\n",
        "reduced_df['label'].value_counts().plot.pie(autopct='%.2f')"
      ],
      "metadata": {
        "colab": {
          "base_uri": "https://localhost:8080/",
          "height": 266
        },
        "id": "LkhxhKKqH3S9",
        "outputId": "1ba72025-c3ab-43ab-e06b-b6c20f0e498b"
      },
      "execution_count": 32,
      "outputs": [
        {
          "output_type": "execute_result",
          "data": {
            "text/plain": [
              "<matplotlib.axes._subplots.AxesSubplot at 0x7fd3895e4810>"
            ]
          },
          "metadata": {},
          "execution_count": 32
        },
        {
          "output_type": "display_data",
          "data": {
            "text/plain": [
              "<Figure size 432x288 with 1 Axes>"
            ],
            "image/png": "[encoded data removed]"
          },
          "metadata": {}
        }
      ]
    },
    {
      "cell_type": "code",
      "source": [
        "# transforma a data em time series\n",
        "reduced_df['date'] = pd.to_datetime(full_df['date'])\n"
      ],
      "metadata": {
        "id": "MAcHMqWu6jnJ"
      },
      "execution_count": 33,
      "outputs": []
    },
    {
      "cell_type": "code",
      "source": [
        "# agrupa o total de labels por dia\n",
        "reduced_df_grouped = reduced_df.groupby(['label', pd.Grouper(key='date', freq='D')]).count()"
      ],
      "metadata": {
        "id": "LklHxUMyBXjx"
      },
      "execution_count": 34,
      "outputs": []
    },
    {
      "cell_type": "code",
      "source": [
        "reduced_df_grouped.head(10)"
      ],
      "metadata": {
        "colab": {
          "base_uri": "https://localhost:8080/",
          "height": 394
        },
        "id": "A5pgTDSFG9Sv",
        "outputId": "cea54ba8-cbaa-4fac-d728-35bf7810fd90"
      },
      "execution_count": 35,
      "outputs": [
        {
          "output_type": "execute_result",
          "data": {
            "text/plain": [
              "                   id  content  filtered_text\n",
              "label date                                   \n",
              "0.0   2022-10-02  264      264            264\n",
              "      2022-10-03  322      322            322\n",
              "      2022-10-04  428      428            428\n",
              "      2022-10-05  400      400            400\n",
              "      2022-10-06  470      470            470\n",
              "      2022-10-07  485      485            485\n",
              "      2022-10-08  372      372            372\n",
              "      2022-10-09  403      403            403\n",
              "      2022-10-10  416      416            416\n",
              "      2022-10-11  427      427            427"
            ],
            "text/html": [
              "\n",
              "  <div id=\"df-9de4aeb2-0e6e-49c1-bcbe-f774d440fef9\">\n",
              "    <div class=\"colab-df-container\">\n",
              "      <div>\n",
              "<style scoped>\n",
              "    .dataframe tbody tr th:only-of-type {\n",
              "        vertical-align: middle;\n",
              "    }\n",
              "\n",
              "    .dataframe tbody tr th {\n",
              "        vertical-align: top;\n",
              "    }\n",
              "\n",
              "    .dataframe thead th {\n",
              "        text-align: right;\n",
              "    }\n",
              "</style>\n",
              "<table border=\"1\" class=\"dataframe\">\n",
              "  <thead>\n",
              "    <tr style=\"text-align: right;\">\n",
              "      <th></th>\n",
              "      <th></th>\n",
              "      <th>id</th>\n",
              "      <th>content</th>\n",
              "      <th>filtered_text</th>\n",
              "    </tr>\n",
              "    <tr>\n",
              "      <th>label</th>\n",
              "      <th>date</th>\n",
              "      <th></th>\n",
              "      <th></th>\n",
              "      <th></th>\n",
              "    </tr>\n",
              "  </thead>\n",
              "  <tbody>\n",
              "    <tr>\n",
              "      <th rowspan=\"10\" valign=\"top\">0.0</th>\n",
              "      <th>2022-10-02</th>\n",
              "      <td>264</td>\n",
              "      <td>264</td>\n",
              "      <td>264</td>\n",
              "    </tr>\n",
              "    <tr>\n",
              "      <th>2022-10-03</th>\n",
              "      <td>322</td>\n",
              "      <td>322</td>\n",
              "      <td>322</td>\n",
              "    </tr>\n",
              "    <tr>\n",
              "      <th>2022-10-04</th>\n",
              "      <td>428</td>\n",
              "      <td>428</td>\n",
              "      <td>428</td>\n",
              "    </tr>\n",
              "    <tr>\n",
              "      <th>2022-10-05</th>\n",
              "      <td>400</td>\n",
              "      <td>400</td>\n",
              "      <td>400</td>\n",
              "    </tr>\n",
              "    <tr>\n",
              "      <th>2022-10-06</th>\n",
              "      <td>470</td>\n",
              "      <td>470</td>\n",
              "      <td>470</td>\n",
              "    </tr>\n",
              "    <tr>\n",
              "      <th>2022-10-07</th>\n",
              "      <td>485</td>\n",
              "      <td>485</td>\n",
              "      <td>485</td>\n",
              "    </tr>\n",
              "    <tr>\n",
              "      <th>2022-10-08</th>\n",
              "      <td>372</td>\n",
              "      <td>372</td>\n",
              "      <td>372</td>\n",
              "    </tr>\n",
              "    <tr>\n",
              "      <th>2022-10-09</th>\n",
              "      <td>403</td>\n",
              "      <td>403</td>\n",
              "      <td>403</td>\n",
              "    </tr>\n",
              "    <tr>\n",
              "      <th>2022-10-10</th>\n",
              "      <td>416</td>\n",
              "      <td>416</td>\n",
              "      <td>416</td>\n",
              "    </tr>\n",
              "    <tr>\n",
              "      <th>2022-10-11</th>\n",
              "      <td>427</td>\n",
              "      <td>427</td>\n",
              "      <td>427</td>\n",
              "    </tr>\n",
              "  </tbody>\n",
              "</table>\n",
              "</div>\n",
              "      <button class=\"colab-df-convert\" onclick=\"convertToInteractive('df-9de4aeb2-0e6e-49c1-bcbe-f774d440fef9')\"\n",
              "              title=\"Convert this dataframe to an interactive table.\"\n",
              "              style=\"display:none;\">\n",
              "        \n",
              "  <svg xmlns=\"http://www.w3.org/2000/svg\" height=\"24px\"viewBox=\"0 0 24 24\"\n",
              "       width=\"24px\">\n",
              "    <path d=\"M0 0h24v24H0V0z\" fill=\"none\"/>\n",
              "    <path d=\"M18.56 5.44l.94 2.06.94-2.06 2.06-.94-2.06-.94-.94-2.06-.94 2.06-2.06.94zm-11 1L8.5 8.5l.94-2.06 2.06-.94-2.06-.94L8.5 2.5l-.94 2.06-2.06.94zm10 10l.94 2.06.94-2.06 2.06-.94-2.06-.94-.94-2.06-.94 2.06-2.06.94z\"/><path d=\"M17.41 7.96l-1.37-1.37c-.4-.4-.92-.59-1.43-.59-.52 0-1.04.2-1.43.59L10.3 9.45l-7.72 7.72c-.78.78-.78 2.05 0 2.83L4 21.41c.39.39.9.59 1.41.59.51 0 1.02-.2 1.41-.59l7.78-7.78 2.81-2.81c.8-.78.8-2.07 0-2.86zM5.41 20L4 18.59l7.72-7.72 1.47 1.35L5.41 20z\"/>\n",
              "  </svg>\n",
              "      </button>\n",
              "      \n",
              "  <style>\n",
              "    .colab-df-container {\n",
              "      display:flex;\n",
              "      flex-wrap:wrap;\n",
              "      gap: 12px;\n",
              "    }\n",
              "\n",
              "    .colab-df-convert {\n",
              "      background-color: #E8F0FE;\n",
              "      border: none;\n",
              "      border-radius: 50%;\n",
              "      cursor: pointer;\n",
              "      display: none;\n",
              "      fill: #1967D2;\n",
              "      height: 32px;\n",
              "      padding: 0 0 0 0;\n",
              "      width: 32px;\n",
              "    }\n",
              "\n",
              "    .colab-df-convert:hover {\n",
              "      background-color: #E2EBFA;\n",
              "      box-shadow: 0px 1px 2px rgba(60, 64, 67, 0.3), 0px 1px 3px 1px rgba(60, 64, 67, 0.15);\n",
              "      fill: #174EA6;\n",
              "    }\n",
              "\n",
              "    [theme=dark] .colab-df-convert {\n",
              "      background-color: #3B4455;\n",
              "      fill: #D2E3FC;\n",
              "    }\n",
              "\n",
              "    [theme=dark] .colab-df-convert:hover {\n",
              "      background-color: #434B5C;\n",
              "      box-shadow: 0px 1px 3px 1px rgba(0, 0, 0, 0.15);\n",
              "      filter: drop-shadow(0px 1px 2px rgba(0, 0, 0, 0.3));\n",
              "      fill: #FFFFFF;\n",
              "    }\n",
              "  </style>\n",
              "\n",
              "      <script>\n",
              "        const buttonEl =\n",
              "          document.querySelector('#df-9de4aeb2-0e6e-49c1-bcbe-f774d440fef9 button.colab-df-convert');\n",
              "        buttonEl.style.display =\n",
              "          google.colab.kernel.accessAllowed ? 'block' : 'none';\n",
              "\n",
              "        async function convertToInteractive(key) {\n",
              "          const element = document.querySelector('#df-9de4aeb2-0e6e-49c1-bcbe-f774d440fef9');\n",
              "          const dataTable =\n",
              "            await google.colab.kernel.invokeFunction('convertToInteractive',\n",
              "                                                     [key], {});\n",
              "          if (!dataTable) return;\n",
              "\n",
              "          const docLinkHtml = 'Like what you see? Visit the ' +\n",
              "            '<a target=\"_blank\" href=https://colab.research.google.com/notebooks/data_table.ipynb>data table notebook</a>'\n",
              "            + ' to learn more about interactive tables.';\n",
              "          element.innerHTML = '';\n",
              "          dataTable['output_type'] = 'display_data';\n",
              "          await google.colab.output.renderOutput(dataTable, element);\n",
              "          const docLink = document.createElement('div');\n",
              "          docLink.innerHTML = docLinkHtml;\n",
              "          element.appendChild(docLink);\n",
              "        }\n",
              "      </script>\n",
              "    </div>\n",
              "  </div>\n",
              "  "
            ]
          },
          "metadata": {},
          "execution_count": 35
        }
      ]
    },
    {
      "cell_type": "code",
      "source": [
        "# faz o pivot transformando as linhas de diferente labels em colunas\n",
        "reduced_df_grouped = reduced_df_grouped.pivot_table(index='date', columns='label', values='content')"
      ],
      "metadata": {
        "id": "5H6bwFA_O_4x"
      },
      "execution_count": 41,
      "outputs": []
    },
    {
      "cell_type": "code",
      "source": [
        "#remove coluna com label 1\n",
        "reduced_df_grouped = reduced_df_grouped.drop(columns=[1])"
      ],
      "metadata": {
        "id": "zHZ62wtuS5np"
      },
      "execution_count": 47,
      "outputs": []
    },
    {
      "cell_type": "code",
      "source": [
        "#plota o gráfico\n",
        "reduced_df_grouped.plot(kind='bar', stacked=True, figsize=(20,10))"
      ],
      "metadata": {
        "colab": {
          "base_uri": "https://localhost:8080/",
          "height": 719
        },
        "id": "WCX5BIGaPqN4",
        "outputId": "376a7dd0-5980-4cb7-d5bb-c4c562ad0899"
      },
      "execution_count": 48,
      "outputs": [
        {
          "output_type": "execute_result",
          "data": {
            "text/plain": [
              "<matplotlib.axes._subplots.AxesSubplot at 0x7fd389417850>"
            ]
          },
          "metadata": {},
          "execution_count": 48
        },
        {
          "output_type": "display_data",
          "data": {
            "text/plain": [
              "<Figure size 1440x720 with 1 Axes>"
            ],
            "image/png": "[encoded data removed]"
          },
          "metadata": {
            "needs_background": "light"
          }
        }
      ]
    },
    {
      "cell_type": "code",
      "source": [
        "stacked_data = reduced_df_grouped.apply(lambda x: x*100/sum(x), axis=1)\n",
        "stacked_data.plot(kind=\"bar\", stacked=True,  figsize=(20,10))\n",
        "plt.title(\"Variação de sentimento\")\n",
        "plt.xlabel(\"Data\")\n",
        "plt.ylabel(\"Porcentagem de cada Sentimento\")"
      ],
      "metadata": {
        "colab": {
          "base_uri": "https://localhost:8080/",
          "height": 735
        },
        "id": "i-WZyDc4e4X0",
        "outputId": "74f08897-6164-4690-fb11-da2d7c41075b"
      },
      "execution_count": 50,
      "outputs": [
        {
          "output_type": "execute_result",
          "data": {
            "text/plain": [
              "Text(0, 0.5, 'Porcentagem de cada Sentimento')"
            ]
          },
          "metadata": {},
          "execution_count": 50
        },
        {
          "output_type": "display_data",
          "data": {
            "text/plain": [
              "<Figure size 1440x720 with 1 Axes>"
            ],
            "image/png": "[encoded data removed]"
          },
          "metadata": {
            "needs_background": "light"
          }
        }
      ]
    }
  ]
}