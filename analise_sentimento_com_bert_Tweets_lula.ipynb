{
  "nbformat": 4,
  "nbformat_minor": 0,
  "metadata": {
    "colab": {
      "provenance": [],
      "collapsed_sections": [],
      "include_colab_link": true
    },
    "kernelspec": {
      "name": "python3",
      "display_name": "Python 3"
    },
    "language_info": {
      "name": "python"
    },
    "gpuClass": "standard",
    "widgets": {
      "application/vnd.jupyter.widget-state+json": {
        "478af2202eec4b3189741a852e65adb3": {
          "model_module": "@jupyter-widgets/controls",
          "model_name": "HBoxModel",
          "model_module_version": "1.5.0",
          "state": {
            "_dom_classes": [],
            "_model_module": "@jupyter-widgets/controls",
            "_model_module_version": "1.5.0",
            "_model_name": "HBoxModel",
            "_view_count": null,
            "_view_module": "@jupyter-widgets/controls",
            "_view_module_version": "1.5.0",
            "_view_name": "HBoxView",
            "box_style": "",
            "children": [
              "IPY_MODEL_fa0209a9322943d79d5d37272e0fe6ce",
              "IPY_MODEL_a012eaee935941c38fda7c72fa76bfd0",
              "IPY_MODEL_05466fa8727b4fe791faf9ef1c767358"
            ],
            "layout": "IPY_MODEL_8aa11d7c2fcb4e6da08a268d39209fb4"
          }
        },
        "fa0209a9322943d79d5d37272e0fe6ce": {
          "model_module": "@jupyter-widgets/controls",
          "model_name": "HTMLModel",
          "model_module_version": "1.5.0",
          "state": {
            "_dom_classes": [],
            "_model_module": "@jupyter-widgets/controls",
            "_model_module_version": "1.5.0",
            "_model_name": "HTMLModel",
            "_view_count": null,
            "_view_module": "@jupyter-widgets/controls",
            "_view_module_version": "1.5.0",
            "_view_name": "HTMLView",
            "description": "",
            "description_tooltip": null,
            "layout": "IPY_MODEL_1ee5c59a9c7a4ee5ae8dac45d55f3c86",
            "placeholder": "​",
            "style": "IPY_MODEL_2385a83f0ca24e589faef43706b33ba5",
            "value": "Downloading: 100%"
          }
        },
        "a012eaee935941c38fda7c72fa76bfd0": {
          "model_module": "@jupyter-widgets/controls",
          "model_name": "FloatProgressModel",
          "model_module_version": "1.5.0",
          "state": {
            "_dom_classes": [],
            "_model_module": "@jupyter-widgets/controls",
            "_model_module_version": "1.5.0",
            "_model_name": "FloatProgressModel",
            "_view_count": null,
            "_view_module": "@jupyter-widgets/controls",
            "_view_module_version": "1.5.0",
            "_view_name": "ProgressView",
            "bar_style": "success",
            "description": "",
            "description_tooltip": null,
            "layout": "IPY_MODEL_74bfca96f93f4af88ec1b6b233d34f58",
            "max": 155,
            "min": 0,
            "orientation": "horizontal",
            "style": "IPY_MODEL_75e3cbda06514618955f952278b0a243",
            "value": 155
          }
        },
        "05466fa8727b4fe791faf9ef1c767358": {
          "model_module": "@jupyter-widgets/controls",
          "model_name": "HTMLModel",
          "model_module_version": "1.5.0",
          "state": {
            "_dom_classes": [],
            "_model_module": "@jupyter-widgets/controls",
            "_model_module_version": "1.5.0",
            "_model_name": "HTMLModel",
            "_view_count": null,
            "_view_module": "@jupyter-widgets/controls",
            "_view_module_version": "1.5.0",
            "_view_name": "HTMLView",
            "description": "",
            "description_tooltip": null,
            "layout": "IPY_MODEL_a99346133c58475bb922a90644ba8a82",
            "placeholder": "​",
            "style": "IPY_MODEL_95e522e0cc3d4afda0c53a60ed1857b6",
            "value": " 155/155 [00:00&lt;00:00, 1.76kB/s]"
          }
        },
        "8aa11d7c2fcb4e6da08a268d39209fb4": {
          "model_module": "@jupyter-widgets/base",
          "model_name": "LayoutModel",
          "model_module_version": "1.2.0",
          "state": {
            "_model_module": "@jupyter-widgets/base",
            "_model_module_version": "1.2.0",
            "_model_name": "LayoutModel",
            "_view_count": null,
            "_view_module": "@jupyter-widgets/base",
            "_view_module_version": "1.2.0",
            "_view_name": "LayoutView",
            "align_content": null,
            "align_items": null,
            "align_self": null,
            "border": null,
            "bottom": null,
            "display": null,
            "flex": null,
            "flex_flow": null,
            "grid_area": null,
            "grid_auto_columns": null,
            "grid_auto_flow": null,
            "grid_auto_rows": null,
            "grid_column": null,
            "grid_gap": null,
            "grid_row": null,
            "grid_template_areas": null,
            "grid_template_columns": null,
            "grid_template_rows": null,
            "height": null,
            "justify_content": null,
            "justify_items": null,
            "left": null,
            "margin": null,
            "max_height": null,
            "max_width": null,
            "min_height": null,
            "min_width": null,
            "object_fit": null,
            "object_position": null,
            "order": null,
            "overflow": null,
            "overflow_x": null,
            "overflow_y": null,
            "padding": null,
            "right": null,
            "top": null,
            "visibility": null,
            "width": null
          }
        },
        "1ee5c59a9c7a4ee5ae8dac45d55f3c86": {
          "model_module": "@jupyter-widgets/base",
          "model_name": "LayoutModel",
          "model_module_version": "1.2.0",
          "state": {
            "_model_module": "@jupyter-widgets/base",
            "_model_module_version": "1.2.0",
            "_model_name": "LayoutModel",
            "_view_count": null,
            "_view_module": "@jupyter-widgets/base",
            "_view_module_version": "1.2.0",
            "_view_name": "LayoutView",
            "align_content": null,
            "align_items": null,
            "align_self": null,
            "border": null,
            "bottom": null,
            "display": null,
            "flex": null,
            "flex_flow": null,
            "grid_area": null,
            "grid_auto_columns": null,
            "grid_auto_flow": null,
            "grid_auto_rows": null,
            "grid_column": null,
            "grid_gap": null,
            "grid_row": null,
            "grid_template_areas": null,
            "grid_template_columns": null,
            "grid_template_rows": null,
            "height": null,
            "justify_content": null,
            "justify_items": null,
            "left": null,
            "margin": null,
            "max_height": null,
            "max_width": null,
            "min_height": null,
            "min_width": null,
            "object_fit": null,
            "object_position": null,
            "order": null,
            "overflow": null,
            "overflow_x": null,
            "overflow_y": null,
            "padding": null,
            "right": null,
            "top": null,
            "visibility": null,
            "width": null
          }
        },
        "2385a83f0ca24e589faef43706b33ba5": {
          "model_module": "@jupyter-widgets/controls",
          "model_name": "DescriptionStyleModel",
          "model_module_version": "1.5.0",
          "state": {
            "_model_module": "@jupyter-widgets/controls",
            "_model_module_version": "1.5.0",
            "_model_name": "DescriptionStyleModel",
            "_view_count": null,
            "_view_module": "@jupyter-widgets/base",
            "_view_module_version": "1.2.0",
            "_view_name": "StyleView",
            "description_width": ""
          }
        },
        "74bfca96f93f4af88ec1b6b233d34f58": {
          "model_module": "@jupyter-widgets/base",
          "model_name": "LayoutModel",
          "model_module_version": "1.2.0",
          "state": {
            "_model_module": "@jupyter-widgets/base",
            "_model_module_version": "1.2.0",
            "_model_name": "LayoutModel",
            "_view_count": null,
            "_view_module": "@jupyter-widgets/base",
            "_view_module_version": "1.2.0",
            "_view_name": "LayoutView",
            "align_content": null,
            "align_items": null,
            "align_self": null,
            "border": null,
            "bottom": null,
            "display": null,
            "flex": null,
            "flex_flow": null,
            "grid_area": null,
            "grid_auto_columns": null,
            "grid_auto_flow": null,
            "grid_auto_rows": null,
            "grid_column": null,
            "grid_gap": null,
            "grid_row": null,
            "grid_template_areas": null,
            "grid_template_columns": null,
            "grid_template_rows": null,
            "height": null,
            "justify_content": null,
            "justify_items": null,
            "left": null,
            "margin": null,
            "max_height": null,
            "max_width": null,
            "min_height": null,
            "min_width": null,
            "object_fit": null,
            "object_position": null,
            "order": null,
            "overflow": null,
            "overflow_x": null,
            "overflow_y": null,
            "padding": null,
            "right": null,
            "top": null,
            "visibility": null,
            "width": null
          }
        },
        "75e3cbda06514618955f952278b0a243": {
          "model_module": "@jupyter-widgets/controls",
          "model_name": "ProgressStyleModel",
          "model_module_version": "1.5.0",
          "state": {
            "_model_module": "@jupyter-widgets/controls",
            "_model_module_version": "1.5.0",
            "_model_name": "ProgressStyleModel",
            "_view_count": null,
            "_view_module": "@jupyter-widgets/base",
            "_view_module_version": "1.2.0",
            "_view_name": "StyleView",
            "bar_color": null,
            "description_width": ""
          }
        },
        "a99346133c58475bb922a90644ba8a82": {
          "model_module": "@jupyter-widgets/base",
          "model_name": "LayoutModel",
          "model_module_version": "1.2.0",
          "state": {
            "_model_module": "@jupyter-widgets/base",
            "_model_module_version": "1.2.0",
            "_model_name": "LayoutModel",
            "_view_count": null,
            "_view_module": "@jupyter-widgets/base",
            "_view_module_version": "1.2.0",
            "_view_name": "LayoutView",
            "align_content": null,
            "align_items": null,
            "align_self": null,
            "border": null,
            "bottom": null,
            "display": null,
            "flex": null,
            "flex_flow": null,
            "grid_area": null,
            "grid_auto_columns": null,
            "grid_auto_flow": null,
            "grid_auto_rows": null,
            "grid_column": null,
            "grid_gap": null,
            "grid_row": null,
            "grid_template_areas": null,
            "grid_template_columns": null,
            "grid_template_rows": null,
            "height": null,
            "justify_content": null,
            "justify_items": null,
            "left": null,
            "margin": null,
            "max_height": null,
            "max_width": null,
            "min_height": null,
            "min_width": null,
            "object_fit": null,
            "object_position": null,
            "order": null,
            "overflow": null,
            "overflow_x": null,
            "overflow_y": null,
            "padding": null,
            "right": null,
            "top": null,
            "visibility": null,
            "width": null
          }
        },
        "95e522e0cc3d4afda0c53a60ed1857b6": {
          "model_module": "@jupyter-widgets/controls",
          "model_name": "DescriptionStyleModel",
          "model_module_version": "1.5.0",
          "state": {
            "_model_module": "@jupyter-widgets/controls",
            "_model_module_version": "1.5.0",
            "_model_name": "DescriptionStyleModel",
            "_view_count": null,
            "_view_module": "@jupyter-widgets/base",
            "_view_module_version": "1.2.0",
            "_view_name": "StyleView",
            "description_width": ""
          }
        },
        "561af70bc9534cf09dd67a1955181f8f": {
          "model_module": "@jupyter-widgets/controls",
          "model_name": "HBoxModel",
          "model_module_version": "1.5.0",
          "state": {
            "_dom_classes": [],
            "_model_module": "@jupyter-widgets/controls",
            "_model_module_version": "1.5.0",
            "_model_name": "HBoxModel",
            "_view_count": null,
            "_view_module": "@jupyter-widgets/controls",
            "_view_module_version": "1.5.0",
            "_view_name": "HBoxView",
            "box_style": "",
            "children": [
              "IPY_MODEL_404ace166125436890fd4810e2badb93",
              "IPY_MODEL_a3468ea9d8a2418688bbf0f1cb90f5d8",
              "IPY_MODEL_ec26c0fd0e924994aea8dc5a32e3b045"
            ],
            "layout": "IPY_MODEL_4f1e19160d094071a8e472470841ff30"
          }
        },
        "404ace166125436890fd4810e2badb93": {
          "model_module": "@jupyter-widgets/controls",
          "model_name": "HTMLModel",
          "model_module_version": "1.5.0",
          "state": {
            "_dom_classes": [],
            "_model_module": "@jupyter-widgets/controls",
            "_model_module_version": "1.5.0",
            "_model_name": "HTMLModel",
            "_view_count": null,
            "_view_module": "@jupyter-widgets/controls",
            "_view_module_version": "1.5.0",
            "_view_name": "HTMLView",
            "description": "",
            "description_tooltip": null,
            "layout": "IPY_MODEL_afde8e55d6a142d289c1e1fe0c55db7c",
            "placeholder": "​",
            "style": "IPY_MODEL_c9c12246353847a1ad6ca81f941f6d19",
            "value": "Downloading: 100%"
          }
        },
        "a3468ea9d8a2418688bbf0f1cb90f5d8": {
          "model_module": "@jupyter-widgets/controls",
          "model_name": "FloatProgressModel",
          "model_module_version": "1.5.0",
          "state": {
            "_dom_classes": [],
            "_model_module": "@jupyter-widgets/controls",
            "_model_module_version": "1.5.0",
            "_model_name": "FloatProgressModel",
            "_view_count": null,
            "_view_module": "@jupyter-widgets/controls",
            "_view_module_version": "1.5.0",
            "_view_name": "ProgressView",
            "bar_style": "success",
            "description": "",
            "description_tooltip": null,
            "layout": "IPY_MODEL_0eaf719c9c7149a29b84626179211bbb",
            "max": 648,
            "min": 0,
            "orientation": "horizontal",
            "style": "IPY_MODEL_bef95249db5940868d8e69a01e979a40",
            "value": 648
          }
        },
        "ec26c0fd0e924994aea8dc5a32e3b045": {
          "model_module": "@jupyter-widgets/controls",
          "model_name": "HTMLModel",
          "model_module_version": "1.5.0",
          "state": {
            "_dom_classes": [],
            "_model_module": "@jupyter-widgets/controls",
            "_model_module_version": "1.5.0",
            "_model_name": "HTMLModel",
            "_view_count": null,
            "_view_module": "@jupyter-widgets/controls",
            "_view_module_version": "1.5.0",
            "_view_name": "HTMLView",
            "description": "",
            "description_tooltip": null,
            "layout": "IPY_MODEL_6c84da0e572447e0bd65eacb31864584",
            "placeholder": "​",
            "style": "IPY_MODEL_621246ab356b40be942bef7d3d4722ab",
            "value": " 648/648 [00:00&lt;00:00, 8.67kB/s]"
          }
        },
        "4f1e19160d094071a8e472470841ff30": {
          "model_module": "@jupyter-widgets/base",
          "model_name": "LayoutModel",
          "model_module_version": "1.2.0",
          "state": {
            "_model_module": "@jupyter-widgets/base",
            "_model_module_version": "1.2.0",
            "_model_name": "LayoutModel",
            "_view_count": null,
            "_view_module": "@jupyter-widgets/base",
            "_view_module_version": "1.2.0",
            "_view_name": "LayoutView",
            "align_content": null,
            "align_items": null,
            "align_self": null,
            "border": null,
            "bottom": null,
            "display": null,
            "flex": null,
            "flex_flow": null,
            "grid_area": null,
            "grid_auto_columns": null,
            "grid_auto_flow": null,
            "grid_auto_rows": null,
            "grid_column": null,
            "grid_gap": null,
            "grid_row": null,
            "grid_template_areas": null,
            "grid_template_columns": null,
            "grid_template_rows": null,
            "height": null,
            "justify_content": null,
            "justify_items": null,
            "left": null,
            "margin": null,
            "max_height": null,
            "max_width": null,
            "min_height": null,
            "min_width": null,
            "object_fit": null,
            "object_position": null,
            "order": null,
            "overflow": null,
            "overflow_x": null,
            "overflow_y": null,
            "padding": null,
            "right": null,
            "top": null,
            "visibility": null,
            "width": null
          }
        },
        "afde8e55d6a142d289c1e1fe0c55db7c": {
          "model_module": "@jupyter-widgets/base",
          "model_name": "LayoutModel",
          "model_module_version": "1.2.0",
          "state": {
            "_model_module": "@jupyter-widgets/base",
            "_model_module_version": "1.2.0",
            "_model_name": "LayoutModel",
            "_view_count": null,
            "_view_module": "@jupyter-widgets/base",
            "_view_module_version": "1.2.0",
            "_view_name": "LayoutView",
            "align_content": null,
            "align_items": null,
            "align_self": null,
            "border": null,
            "bottom": null,
            "display": null,
            "flex": null,
            "flex_flow": null,
            "grid_area": null,
            "grid_auto_columns": null,
            "grid_auto_flow": null,
            "grid_auto_rows": null,
            "grid_column": null,
            "grid_gap": null,
            "grid_row": null,
            "grid_template_areas": null,
            "grid_template_columns": null,
            "grid_template_rows": null,
            "height": null,
            "justify_content": null,
            "justify_items": null,
            "left": null,
            "margin": null,
            "max_height": null,
            "max_width": null,
            "min_height": null,
            "min_width": null,
            "object_fit": null,
            "object_position": null,
            "order": null,
            "overflow": null,
            "overflow_x": null,
            "overflow_y": null,
            "padding": null,
            "right": null,
            "top": null,
            "visibility": null,
            "width": null
          }
        },
        "c9c12246353847a1ad6ca81f941f6d19": {
          "model_module": "@jupyter-widgets/controls",
          "model_name": "DescriptionStyleModel",
          "model_module_version": "1.5.0",
          "state": {
            "_model_module": "@jupyter-widgets/controls",
            "_model_module_version": "1.5.0",
            "_model_name": "DescriptionStyleModel",
            "_view_count": null,
            "_view_module": "@jupyter-widgets/base",
            "_view_module_version": "1.2.0",
            "_view_name": "StyleView",
            "description_width": ""
          }
        },
        "0eaf719c9c7149a29b84626179211bbb": {
          "model_module": "@jupyter-widgets/base",
          "model_name": "LayoutModel",
          "model_module_version": "1.2.0",
          "state": {
            "_model_module": "@jupyter-widgets/base",
            "_model_module_version": "1.2.0",
            "_model_name": "LayoutModel",
            "_view_count": null,
            "_view_module": "@jupyter-widgets/base",
            "_view_module_version": "1.2.0",
            "_view_name": "LayoutView",
            "align_content": null,
            "align_items": null,
            "align_self": null,
            "border": null,
            "bottom": null,
            "display": null,
            "flex": null,
            "flex_flow": null,
            "grid_area": null,
            "grid_auto_columns": null,
            "grid_auto_flow": null,
            "grid_auto_rows": null,
            "grid_column": null,
            "grid_gap": null,
            "grid_row": null,
            "grid_template_areas": null,
            "grid_template_columns": null,
            "grid_template_rows": null,
            "height": null,
            "justify_content": null,
            "justify_items": null,
            "left": null,
            "margin": null,
            "max_height": null,
            "max_width": null,
            "min_height": null,
            "min_width": null,
            "object_fit": null,
            "object_position": null,
            "order": null,
            "overflow": null,
            "overflow_x": null,
            "overflow_y": null,
            "padding": null,
            "right": null,
            "top": null,
            "visibility": null,
            "width": null
          }
        },
        "bef95249db5940868d8e69a01e979a40": {
          "model_module": "@jupyter-widgets/controls",
          "model_name": "ProgressStyleModel",
          "model_module_version": "1.5.0",
          "state": {
            "_model_module": "@jupyter-widgets/controls",
            "_model_module_version": "1.5.0",
            "_model_name": "ProgressStyleModel",
            "_view_count": null,
            "_view_module": "@jupyter-widgets/base",
            "_view_module_version": "1.2.0",
            "_view_name": "StyleView",
            "bar_color": null,
            "description_width": ""
          }
        },
        "6c84da0e572447e0bd65eacb31864584": {
          "model_module": "@jupyter-widgets/base",
          "model_name": "LayoutModel",
          "model_module_version": "1.2.0",
          "state": {
            "_model_module": "@jupyter-widgets/base",
            "_model_module_version": "1.2.0",
            "_model_name": "LayoutModel",
            "_view_count": null,
            "_view_module": "@jupyter-widgets/base",
            "_view_module_version": "1.2.0",
            "_view_name": "LayoutView",
            "align_content": null,
            "align_items": null,
            "align_self": null,
            "border": null,
            "bottom": null,
            "display": null,
            "flex": null,
            "flex_flow": null,
            "grid_area": null,
            "grid_auto_columns": null,
            "grid_auto_flow": null,
            "grid_auto_rows": null,
            "grid_column": null,
            "grid_gap": null,
            "grid_row": null,
            "grid_template_areas": null,
            "grid_template_columns": null,
            "grid_template_rows": null,
            "height": null,
            "justify_content": null,
            "justify_items": null,
            "left": null,
            "margin": null,
            "max_height": null,
            "max_width": null,
            "min_height": null,
            "min_width": null,
            "object_fit": null,
            "object_position": null,
            "order": null,
            "overflow": null,
            "overflow_x": null,
            "overflow_y": null,
            "padding": null,
            "right": null,
            "top": null,
            "visibility": null,
            "width": null
          }
        },
        "621246ab356b40be942bef7d3d4722ab": {
          "model_module": "@jupyter-widgets/controls",
          "model_name": "DescriptionStyleModel",
          "model_module_version": "1.5.0",
          "state": {
            "_model_module": "@jupyter-widgets/controls",
            "_model_module_version": "1.5.0",
            "_model_name": "DescriptionStyleModel",
            "_view_count": null,
            "_view_module": "@jupyter-widgets/base",
            "_view_module_version": "1.2.0",
            "_view_name": "StyleView",
            "description_width": ""
          }
        },
        "378b01961a87403e8935a132e491b3c8": {
          "model_module": "@jupyter-widgets/controls",
          "model_name": "HBoxModel",
          "model_module_version": "1.5.0",
          "state": {
            "_dom_classes": [],
            "_model_module": "@jupyter-widgets/controls",
            "_model_module_version": "1.5.0",
            "_model_name": "HBoxModel",
            "_view_count": null,
            "_view_module": "@jupyter-widgets/controls",
            "_view_module_version": "1.5.0",
            "_view_name": "HBoxView",
            "box_style": "",
            "children": [
              "IPY_MODEL_a7fbff5b41dc4ab7b8066177530d8f38",
              "IPY_MODEL_b3b27cebf83c4ae28da999cd48f84be1",
              "IPY_MODEL_0b9c81690e0448098bae4156c89f7540"
            ],
            "layout": "IPY_MODEL_2cd0bac1767f46f5a83d2dc6f0b88522"
          }
        },
        "a7fbff5b41dc4ab7b8066177530d8f38": {
          "model_module": "@jupyter-widgets/controls",
          "model_name": "HTMLModel",
          "model_module_version": "1.5.0",
          "state": {
            "_dom_classes": [],
            "_model_module": "@jupyter-widgets/controls",
            "_model_module_version": "1.5.0",
            "_model_name": "HTMLModel",
            "_view_count": null,
            "_view_module": "@jupyter-widgets/controls",
            "_view_module_version": "1.5.0",
            "_view_name": "HTMLView",
            "description": "",
            "description_tooltip": null,
            "layout": "IPY_MODEL_03186e46da954cc8a075a9fd26f86ec3",
            "placeholder": "​",
            "style": "IPY_MODEL_8bab2373a7a24a0e9a77024e9880eba9",
            "value": "Downloading: 100%"
          }
        },
        "b3b27cebf83c4ae28da999cd48f84be1": {
          "model_module": "@jupyter-widgets/controls",
          "model_name": "FloatProgressModel",
          "model_module_version": "1.5.0",
          "state": {
            "_dom_classes": [],
            "_model_module": "@jupyter-widgets/controls",
            "_model_module_version": "1.5.0",
            "_model_name": "FloatProgressModel",
            "_view_count": null,
            "_view_module": "@jupyter-widgets/controls",
            "_view_module_version": "1.5.0",
            "_view_name": "ProgressView",
            "bar_style": "success",
            "description": "",
            "description_tooltip": null,
            "layout": "IPY_MODEL_27b046aabb9a4a868b25fb9f8723572f",
            "max": 209528,
            "min": 0,
            "orientation": "horizontal",
            "style": "IPY_MODEL_e09fc807bb1443a18643db5473c8bed1",
            "value": 209528
          }
        },
        "0b9c81690e0448098bae4156c89f7540": {
          "model_module": "@jupyter-widgets/controls",
          "model_name": "HTMLModel",
          "model_module_version": "1.5.0",
          "state": {
            "_dom_classes": [],
            "_model_module": "@jupyter-widgets/controls",
            "_model_module_version": "1.5.0",
            "_model_name": "HTMLModel",
            "_view_count": null,
            "_view_module": "@jupyter-widgets/controls",
            "_view_module_version": "1.5.0",
            "_view_name": "HTMLView",
            "description": "",
            "description_tooltip": null,
            "layout": "IPY_MODEL_8e51473b8a00435c915974a55716ae4e",
            "placeholder": "​",
            "style": "IPY_MODEL_61e1a383cfb64214b4a3295d2c9638bc",
            "value": " 210k/210k [00:00&lt;00:00, 470kB/s]"
          }
        },
        "2cd0bac1767f46f5a83d2dc6f0b88522": {
          "model_module": "@jupyter-widgets/base",
          "model_name": "LayoutModel",
          "model_module_version": "1.2.0",
          "state": {
            "_model_module": "@jupyter-widgets/base",
            "_model_module_version": "1.2.0",
            "_model_name": "LayoutModel",
            "_view_count": null,
            "_view_module": "@jupyter-widgets/base",
            "_view_module_version": "1.2.0",
            "_view_name": "LayoutView",
            "align_content": null,
            "align_items": null,
            "align_self": null,
            "border": null,
            "bottom": null,
            "display": null,
            "flex": null,
            "flex_flow": null,
            "grid_area": null,
            "grid_auto_columns": null,
            "grid_auto_flow": null,
            "grid_auto_rows": null,
            "grid_column": null,
            "grid_gap": null,
            "grid_row": null,
            "grid_template_areas": null,
            "grid_template_columns": null,
            "grid_template_rows": null,
            "height": null,
            "justify_content": null,
            "justify_items": null,
            "left": null,
            "margin": null,
            "max_height": null,
            "max_width": null,
            "min_height": null,
            "min_width": null,
            "object_fit": null,
            "object_position": null,
            "order": null,
            "overflow": null,
            "overflow_x": null,
            "overflow_y": null,
            "padding": null,
            "right": null,
            "top": null,
            "visibility": null,
            "width": null
          }
        },
        "03186e46da954cc8a075a9fd26f86ec3": {
          "model_module": "@jupyter-widgets/base",
          "model_name": "LayoutModel",
          "model_module_version": "1.2.0",
          "state": {
            "_model_module": "@jupyter-widgets/base",
            "_model_module_version": "1.2.0",
            "_model_name": "LayoutModel",
            "_view_count": null,
            "_view_module": "@jupyter-widgets/base",
            "_view_module_version": "1.2.0",
            "_view_name": "LayoutView",
            "align_content": null,
            "align_items": null,
            "align_self": null,
            "border": null,
            "bottom": null,
            "display": null,
            "flex": null,
            "flex_flow": null,
            "grid_area": null,
            "grid_auto_columns": null,
            "grid_auto_flow": null,
            "grid_auto_rows": null,
            "grid_column": null,
            "grid_gap": null,
            "grid_row": null,
            "grid_template_areas": null,
            "grid_template_columns": null,
            "grid_template_rows": null,
            "height": null,
            "justify_content": null,
            "justify_items": null,
            "left": null,
            "margin": null,
            "max_height": null,
            "max_width": null,
            "min_height": null,
            "min_width": null,
            "object_fit": null,
            "object_position": null,
            "order": null,
            "overflow": null,
            "overflow_x": null,
            "overflow_y": null,
            "padding": null,
            "right": null,
            "top": null,
            "visibility": null,
            "width": null
          }
        },
        "8bab2373a7a24a0e9a77024e9880eba9": {
          "model_module": "@jupyter-widgets/controls",
          "model_name": "DescriptionStyleModel",
          "model_module_version": "1.5.0",
          "state": {
            "_model_module": "@jupyter-widgets/controls",
            "_model_module_version": "1.5.0",
            "_model_name": "DescriptionStyleModel",
            "_view_count": null,
            "_view_module": "@jupyter-widgets/base",
            "_view_module_version": "1.2.0",
            "_view_name": "StyleView",
            "description_width": ""
          }
        },
        "27b046aabb9a4a868b25fb9f8723572f": {
          "model_module": "@jupyter-widgets/base",
          "model_name": "LayoutModel",
          "model_module_version": "1.2.0",
          "state": {
            "_model_module": "@jupyter-widgets/base",
            "_model_module_version": "1.2.0",
            "_model_name": "LayoutModel",
            "_view_count": null,
            "_view_module": "@jupyter-widgets/base",
            "_view_module_version": "1.2.0",
            "_view_name": "LayoutView",
            "align_content": null,
            "align_items": null,
            "align_self": null,
            "border": null,
            "bottom": null,
            "display": null,
            "flex": null,
            "flex_flow": null,
            "grid_area": null,
            "grid_auto_columns": null,
            "grid_auto_flow": null,
            "grid_auto_rows": null,
            "grid_column": null,
            "grid_gap": null,
            "grid_row": null,
            "grid_template_areas": null,
            "grid_template_columns": null,
            "grid_template_rows": null,
            "height": null,
            "justify_content": null,
            "justify_items": null,
            "left": null,
            "margin": null,
            "max_height": null,
            "max_width": null,
            "min_height": null,
            "min_width": null,
            "object_fit": null,
            "object_position": null,
            "order": null,
            "overflow": null,
            "overflow_x": null,
            "overflow_y": null,
            "padding": null,
            "right": null,
            "top": null,
            "visibility": null,
            "width": null
          }
        },
        "e09fc807bb1443a18643db5473c8bed1": {
          "model_module": "@jupyter-widgets/controls",
          "model_name": "ProgressStyleModel",
          "model_module_version": "1.5.0",
          "state": {
            "_model_module": "@jupyter-widgets/controls",
            "_model_module_version": "1.5.0",
            "_model_name": "ProgressStyleModel",
            "_view_count": null,
            "_view_module": "@jupyter-widgets/base",
            "_view_module_version": "1.2.0",
            "_view_name": "StyleView",
            "bar_color": null,
            "description_width": ""
          }
        },
        "8e51473b8a00435c915974a55716ae4e": {
          "model_module": "@jupyter-widgets/base",
          "model_name": "LayoutModel",
          "model_module_version": "1.2.0",
          "state": {
            "_model_module": "@jupyter-widgets/base",
            "_model_module_version": "1.2.0",
            "_model_name": "LayoutModel",
            "_view_count": null,
            "_view_module": "@jupyter-widgets/base",
            "_view_module_version": "1.2.0",
            "_view_name": "LayoutView",
            "align_content": null,
            "align_items": null,
            "align_self": null,
            "border": null,
            "bottom": null,
            "display": null,
            "flex": null,
            "flex_flow": null,
            "grid_area": null,
            "grid_auto_columns": null,
            "grid_auto_flow": null,
            "grid_auto_rows": null,
            "grid_column": null,
            "grid_gap": null,
            "grid_row": null,
            "grid_template_areas": null,
            "grid_template_columns": null,
            "grid_template_rows": null,
            "height": null,
            "justify_content": null,
            "justify_items": null,
            "left": null,
            "margin": null,
            "max_height": null,
            "max_width": null,
            "min_height": null,
            "min_width": null,
            "object_fit": null,
            "object_position": null,
            "order": null,
            "overflow": null,
            "overflow_x": null,
            "overflow_y": null,
            "padding": null,
            "right": null,
            "top": null,
            "visibility": null,
            "width": null
          }
        },
        "61e1a383cfb64214b4a3295d2c9638bc": {
          "model_module": "@jupyter-widgets/controls",
          "model_name": "DescriptionStyleModel",
          "model_module_version": "1.5.0",
          "state": {
            "_model_module": "@jupyter-widgets/controls",
            "_model_module_version": "1.5.0",
            "_model_name": "DescriptionStyleModel",
            "_view_count": null,
            "_view_module": "@jupyter-widgets/base",
            "_view_module_version": "1.2.0",
            "_view_name": "StyleView",
            "description_width": ""
          }
        },
        "8f951ba7508e44a1bee88fd70d3b824b": {
          "model_module": "@jupyter-widgets/controls",
          "model_name": "HBoxModel",
          "model_module_version": "1.5.0",
          "state": {
            "_dom_classes": [],
            "_model_module": "@jupyter-widgets/controls",
            "_model_module_version": "1.5.0",
            "_model_name": "HBoxModel",
            "_view_count": null,
            "_view_module": "@jupyter-widgets/controls",
            "_view_module_version": "1.5.0",
            "_view_name": "HBoxView",
            "box_style": "",
            "children": [
              "IPY_MODEL_0d4e5a2164644905a95c7186be3ff07c",
              "IPY_MODEL_b51567e0665e414e9c64748fca5feb87",
              "IPY_MODEL_5c2d3c1e88dd48dcb78731ff1a0b90be"
            ],
            "layout": "IPY_MODEL_2e08ea387e95420fb970cd2032b56d47"
          }
        },
        "0d4e5a2164644905a95c7186be3ff07c": {
          "model_module": "@jupyter-widgets/controls",
          "model_name": "HTMLModel",
          "model_module_version": "1.5.0",
          "state": {
            "_dom_classes": [],
            "_model_module": "@jupyter-widgets/controls",
            "_model_module_version": "1.5.0",
            "_model_name": "HTMLModel",
            "_view_count": null,
            "_view_module": "@jupyter-widgets/controls",
            "_view_module_version": "1.5.0",
            "_view_name": "HTMLView",
            "description": "",
            "description_tooltip": null,
            "layout": "IPY_MODEL_3968fc27e2104bc4b8ff14133b16f1d8",
            "placeholder": "​",
            "style": "IPY_MODEL_29798c456f624bceade496aadc62deac",
            "value": "Downloading: 100%"
          }
        },
        "b51567e0665e414e9c64748fca5feb87": {
          "model_module": "@jupyter-widgets/controls",
          "model_name": "FloatProgressModel",
          "model_module_version": "1.5.0",
          "state": {
            "_dom_classes": [],
            "_model_module": "@jupyter-widgets/controls",
            "_model_module_version": "1.5.0",
            "_model_name": "FloatProgressModel",
            "_view_count": null,
            "_view_module": "@jupyter-widgets/controls",
            "_view_module_version": "1.5.0",
            "_view_name": "ProgressView",
            "bar_style": "success",
            "description": "",
            "description_tooltip": null,
            "layout": "IPY_MODEL_f37ccb9999f74c63b9c0234fd892bdc3",
            "max": 2,
            "min": 0,
            "orientation": "horizontal",
            "style": "IPY_MODEL_d1d1322fa44643e5ac9ec8b9461dbf5b",
            "value": 2
          }
        },
        "5c2d3c1e88dd48dcb78731ff1a0b90be": {
          "model_module": "@jupyter-widgets/controls",
          "model_name": "HTMLModel",
          "model_module_version": "1.5.0",
          "state": {
            "_dom_classes": [],
            "_model_module": "@jupyter-widgets/controls",
            "_model_module_version": "1.5.0",
            "_model_name": "HTMLModel",
            "_view_count": null,
            "_view_module": "@jupyter-widgets/controls",
            "_view_module_version": "1.5.0",
            "_view_name": "HTMLView",
            "description": "",
            "description_tooltip": null,
            "layout": "IPY_MODEL_111ad54704d1469db3e4c9189f5f74ec",
            "placeholder": "​",
            "style": "IPY_MODEL_eb0a78b9f689414c9586fabb044dcdc8",
            "value": " 2.00/2.00 [00:00&lt;00:00, 13.9B/s]"
          }
        },
        "2e08ea387e95420fb970cd2032b56d47": {
          "model_module": "@jupyter-widgets/base",
          "model_name": "LayoutModel",
          "model_module_version": "1.2.0",
          "state": {
            "_model_module": "@jupyter-widgets/base",
            "_model_module_version": "1.2.0",
            "_model_name": "LayoutModel",
            "_view_count": null,
            "_view_module": "@jupyter-widgets/base",
            "_view_module_version": "1.2.0",
            "_view_name": "LayoutView",
            "align_content": null,
            "align_items": null,
            "align_self": null,
            "border": null,
            "bottom": null,
            "display": null,
            "flex": null,
            "flex_flow": null,
            "grid_area": null,
            "grid_auto_columns": null,
            "grid_auto_flow": null,
            "grid_auto_rows": null,
            "grid_column": null,
            "grid_gap": null,
            "grid_row": null,
            "grid_template_areas": null,
            "grid_template_columns": null,
            "grid_template_rows": null,
            "height": null,
            "justify_content": null,
            "justify_items": null,
            "left": null,
            "margin": null,
            "max_height": null,
            "max_width": null,
            "min_height": null,
            "min_width": null,
            "object_fit": null,
            "object_position": null,
            "order": null,
            "overflow": null,
            "overflow_x": null,
            "overflow_y": null,
            "padding": null,
            "right": null,
            "top": null,
            "visibility": null,
            "width": null
          }
        },
        "3968fc27e2104bc4b8ff14133b16f1d8": {
          "model_module": "@jupyter-widgets/base",
          "model_name": "LayoutModel",
          "model_module_version": "1.2.0",
          "state": {
            "_model_module": "@jupyter-widgets/base",
            "_model_module_version": "1.2.0",
            "_model_name": "LayoutModel",
            "_view_count": null,
            "_view_module": "@jupyter-widgets/base",
            "_view_module_version": "1.2.0",
            "_view_name": "LayoutView",
            "align_content": null,
            "align_items": null,
            "align_self": null,
            "border": null,
            "bottom": null,
            "display": null,
            "flex": null,
            "flex_flow": null,
            "grid_area": null,
            "grid_auto_columns": null,
            "grid_auto_flow": null,
            "grid_auto_rows": null,
            "grid_column": null,
            "grid_gap": null,
            "grid_row": null,
            "grid_template_areas": null,
            "grid_template_columns": null,
            "grid_template_rows": null,
            "height": null,
            "justify_content": null,
            "justify_items": null,
            "left": null,
            "margin": null,
            "max_height": null,
            "max_width": null,
            "min_height": null,
            "min_width": null,
            "object_fit": null,
            "object_position": null,
            "order": null,
            "overflow": null,
            "overflow_x": null,
            "overflow_y": null,
            "padding": null,
            "right": null,
            "top": null,
            "visibility": null,
            "width": null
          }
        },
        "29798c456f624bceade496aadc62deac": {
          "model_module": "@jupyter-widgets/controls",
          "model_name": "DescriptionStyleModel",
          "model_module_version": "1.5.0",
          "state": {
            "_model_module": "@jupyter-widgets/controls",
            "_model_module_version": "1.5.0",
            "_model_name": "DescriptionStyleModel",
            "_view_count": null,
            "_view_module": "@jupyter-widgets/base",
            "_view_module_version": "1.2.0",
            "_view_name": "StyleView",
            "description_width": ""
          }
        },
        "f37ccb9999f74c63b9c0234fd892bdc3": {
          "model_module": "@jupyter-widgets/base",
          "model_name": "LayoutModel",
          "model_module_version": "1.2.0",
          "state": {
            "_model_module": "@jupyter-widgets/base",
            "_model_module_version": "1.2.0",
            "_model_name": "LayoutModel",
            "_view_count": null,
            "_view_module": "@jupyter-widgets/base",
            "_view_module_version": "1.2.0",
            "_view_name": "LayoutView",
            "align_content": null,
            "align_items": null,
            "align_self": null,
            "border": null,
            "bottom": null,
            "display": null,
            "flex": null,
            "flex_flow": null,
            "grid_area": null,
            "grid_auto_columns": null,
            "grid_auto_flow": null,
            "grid_auto_rows": null,
            "grid_column": null,
            "grid_gap": null,
            "grid_row": null,
            "grid_template_areas": null,
            "grid_template_columns": null,
            "grid_template_rows": null,
            "height": null,
            "justify_content": null,
            "justify_items": null,
            "left": null,
            "margin": null,
            "max_height": null,
            "max_width": null,
            "min_height": null,
            "min_width": null,
            "object_fit": null,
            "object_position": null,
            "order": null,
            "overflow": null,
            "overflow_x": null,
            "overflow_y": null,
            "padding": null,
            "right": null,
            "top": null,
            "visibility": null,
            "width": null
          }
        },
        "d1d1322fa44643e5ac9ec8b9461dbf5b": {
          "model_module": "@jupyter-widgets/controls",
          "model_name": "ProgressStyleModel",
          "model_module_version": "1.5.0",
          "state": {
            "_model_module": "@jupyter-widgets/controls",
            "_model_module_version": "1.5.0",
            "_model_name": "ProgressStyleModel",
            "_view_count": null,
            "_view_module": "@jupyter-widgets/base",
            "_view_module_version": "1.2.0",
            "_view_name": "StyleView",
            "bar_color": null,
            "description_width": ""
          }
        },
        "111ad54704d1469db3e4c9189f5f74ec": {
          "model_module": "@jupyter-widgets/base",
          "model_name": "LayoutModel",
          "model_module_version": "1.2.0",
          "state": {
            "_model_module": "@jupyter-widgets/base",
            "_model_module_version": "1.2.0",
            "_model_name": "LayoutModel",
            "_view_count": null,
            "_view_module": "@jupyter-widgets/base",
            "_view_module_version": "1.2.0",
            "_view_name": "LayoutView",
            "align_content": null,
            "align_items": null,
            "align_self": null,
            "border": null,
            "bottom": null,
            "display": null,
            "flex": null,
            "flex_flow": null,
            "grid_area": null,
            "grid_auto_columns": null,
            "grid_auto_flow": null,
            "grid_auto_rows": null,
            "grid_column": null,
            "grid_gap": null,
            "grid_row": null,
            "grid_template_areas": null,
            "grid_template_columns": null,
            "grid_template_rows": null,
            "height": null,
            "justify_content": null,
            "justify_items": null,
            "left": null,
            "margin": null,
            "max_height": null,
            "max_width": null,
            "min_height": null,
            "min_width": null,
            "object_fit": null,
            "object_position": null,
            "order": null,
            "overflow": null,
            "overflow_x": null,
            "overflow_y": null,
            "padding": null,
            "right": null,
            "top": null,
            "visibility": null,
            "width": null
          }
        },
        "eb0a78b9f689414c9586fabb044dcdc8": {
          "model_module": "@jupyter-widgets/controls",
          "model_name": "DescriptionStyleModel",
          "model_module_version": "1.5.0",
          "state": {
            "_model_module": "@jupyter-widgets/controls",
            "_model_module_version": "1.5.0",
            "_model_name": "DescriptionStyleModel",
            "_view_count": null,
            "_view_module": "@jupyter-widgets/base",
            "_view_module_version": "1.2.0",
            "_view_name": "StyleView",
            "description_width": ""
          }
        },
        "111c83dbe939457ab8d49a90626d6fa3": {
          "model_module": "@jupyter-widgets/controls",
          "model_name": "HBoxModel",
          "model_module_version": "1.5.0",
          "state": {
            "_dom_classes": [],
            "_model_module": "@jupyter-widgets/controls",
            "_model_module_version": "1.5.0",
            "_model_name": "HBoxModel",
            "_view_count": null,
            "_view_module": "@jupyter-widgets/controls",
            "_view_module_version": "1.5.0",
            "_view_name": "HBoxView",
            "box_style": "",
            "children": [
              "IPY_MODEL_c6ffbaefaba4499cb9e94f9e84de0cc8",
              "IPY_MODEL_7cd0134fc33443fe8112ef26686b1230",
              "IPY_MODEL_16a9ca5ecc2d4eacbfefdc580dec30a2"
            ],
            "layout": "IPY_MODEL_da41d62993a546de8f24d52d6a4aa097"
          }
        },
        "c6ffbaefaba4499cb9e94f9e84de0cc8": {
          "model_module": "@jupyter-widgets/controls",
          "model_name": "HTMLModel",
          "model_module_version": "1.5.0",
          "state": {
            "_dom_classes": [],
            "_model_module": "@jupyter-widgets/controls",
            "_model_module_version": "1.5.0",
            "_model_name": "HTMLModel",
            "_view_count": null,
            "_view_module": "@jupyter-widgets/controls",
            "_view_module_version": "1.5.0",
            "_view_name": "HTMLView",
            "description": "",
            "description_tooltip": null,
            "layout": "IPY_MODEL_284e85d8d4144e04b26ce80d9a0c7c05",
            "placeholder": "​",
            "style": "IPY_MODEL_7cba94743396407da18628d5bf361f62",
            "value": "Downloading: 100%"
          }
        },
        "7cd0134fc33443fe8112ef26686b1230": {
          "model_module": "@jupyter-widgets/controls",
          "model_name": "FloatProgressModel",
          "model_module_version": "1.5.0",
          "state": {
            "_dom_classes": [],
            "_model_module": "@jupyter-widgets/controls",
            "_model_module_version": "1.5.0",
            "_model_name": "FloatProgressModel",
            "_view_count": null,
            "_view_module": "@jupyter-widgets/controls",
            "_view_module_version": "1.5.0",
            "_view_name": "ProgressView",
            "bar_style": "success",
            "description": "",
            "description_tooltip": null,
            "layout": "IPY_MODEL_08c75ba04704411cb25f950f7aca53ab",
            "max": 112,
            "min": 0,
            "orientation": "horizontal",
            "style": "IPY_MODEL_d7760c4b250c4b9ca6c3d24d91afbf60",
            "value": 112
          }
        },
        "16a9ca5ecc2d4eacbfefdc580dec30a2": {
          "model_module": "@jupyter-widgets/controls",
          "model_name": "HTMLModel",
          "model_module_version": "1.5.0",
          "state": {
            "_dom_classes": [],
            "_model_module": "@jupyter-widgets/controls",
            "_model_module_version": "1.5.0",
            "_model_name": "HTMLModel",
            "_view_count": null,
            "_view_module": "@jupyter-widgets/controls",
            "_view_module_version": "1.5.0",
            "_view_name": "HTMLView",
            "description": "",
            "description_tooltip": null,
            "layout": "IPY_MODEL_f381b27d9a644f9f9bd62c01bae1d786",
            "placeholder": "​",
            "style": "IPY_MODEL_e9eba09537e24758831cbd823f0a818c",
            "value": " 112/112 [00:00&lt;00:00, 967B/s]"
          }
        },
        "da41d62993a546de8f24d52d6a4aa097": {
          "model_module": "@jupyter-widgets/base",
          "model_name": "LayoutModel",
          "model_module_version": "1.2.0",
          "state": {
            "_model_module": "@jupyter-widgets/base",
            "_model_module_version": "1.2.0",
            "_model_name": "LayoutModel",
            "_view_count": null,
            "_view_module": "@jupyter-widgets/base",
            "_view_module_version": "1.2.0",
            "_view_name": "LayoutView",
            "align_content": null,
            "align_items": null,
            "align_self": null,
            "border": null,
            "bottom": null,
            "display": null,
            "flex": null,
            "flex_flow": null,
            "grid_area": null,
            "grid_auto_columns": null,
            "grid_auto_flow": null,
            "grid_auto_rows": null,
            "grid_column": null,
            "grid_gap": null,
            "grid_row": null,
            "grid_template_areas": null,
            "grid_template_columns": null,
            "grid_template_rows": null,
            "height": null,
            "justify_content": null,
            "justify_items": null,
            "left": null,
            "margin": null,
            "max_height": null,
            "max_width": null,
            "min_height": null,
            "min_width": null,
            "object_fit": null,
            "object_position": null,
            "order": null,
            "overflow": null,
            "overflow_x": null,
            "overflow_y": null,
            "padding": null,
            "right": null,
            "top": null,
            "visibility": null,
            "width": null
          }
        },
        "284e85d8d4144e04b26ce80d9a0c7c05": {
          "model_module": "@jupyter-widgets/base",
          "model_name": "LayoutModel",
          "model_module_version": "1.2.0",
          "state": {
            "_model_module": "@jupyter-widgets/base",
            "_model_module_version": "1.2.0",
            "_model_name": "LayoutModel",
            "_view_count": null,
            "_view_module": "@jupyter-widgets/base",
            "_view_module_version": "1.2.0",
            "_view_name": "LayoutView",
            "align_content": null,
            "align_items": null,
            "align_self": null,
            "border": null,
            "bottom": null,
            "display": null,
            "flex": null,
            "flex_flow": null,
            "grid_area": null,
            "grid_auto_columns": null,
            "grid_auto_flow": null,
            "grid_auto_rows": null,
            "grid_column": null,
            "grid_gap": null,
            "grid_row": null,
            "grid_template_areas": null,
            "grid_template_columns": null,
            "grid_template_rows": null,
            "height": null,
            "justify_content": null,
            "justify_items": null,
            "left": null,
            "margin": null,
            "max_height": null,
            "max_width": null,
            "min_height": null,
            "min_width": null,
            "object_fit": null,
            "object_position": null,
            "order": null,
            "overflow": null,
            "overflow_x": null,
            "overflow_y": null,
            "padding": null,
            "right": null,
            "top": null,
            "visibility": null,
            "width": null
          }
        },
        "7cba94743396407da18628d5bf361f62": {
          "model_module": "@jupyter-widgets/controls",
          "model_name": "DescriptionStyleModel",
          "model_module_version": "1.5.0",
          "state": {
            "_model_module": "@jupyter-widgets/controls",
            "_model_module_version": "1.5.0",
            "_model_name": "DescriptionStyleModel",
            "_view_count": null,
            "_view_module": "@jupyter-widgets/base",
            "_view_module_version": "1.2.0",
            "_view_name": "StyleView",
            "description_width": ""
          }
        },
        "08c75ba04704411cb25f950f7aca53ab": {
          "model_module": "@jupyter-widgets/base",
          "model_name": "LayoutModel",
          "model_module_version": "1.2.0",
          "state": {
            "_model_module": "@jupyter-widgets/base",
            "_model_module_version": "1.2.0",
            "_model_name": "LayoutModel",
            "_view_count": null,
            "_view_module": "@jupyter-widgets/base",
            "_view_module_version": "1.2.0",
            "_view_name": "LayoutView",
            "align_content": null,
            "align_items": null,
            "align_self": null,
            "border": null,
            "bottom": null,
            "display": null,
            "flex": null,
            "flex_flow": null,
            "grid_area": null,
            "grid_auto_columns": null,
            "grid_auto_flow": null,
            "grid_auto_rows": null,
            "grid_column": null,
            "grid_gap": null,
            "grid_row": null,
            "grid_template_areas": null,
            "grid_template_columns": null,
            "grid_template_rows": null,
            "height": null,
            "justify_content": null,
            "justify_items": null,
            "left": null,
            "margin": null,
            "max_height": null,
            "max_width": null,
            "min_height": null,
            "min_width": null,
            "object_fit": null,
            "object_position": null,
            "order": null,
            "overflow": null,
            "overflow_x": null,
            "overflow_y": null,
            "padding": null,
            "right": null,
            "top": null,
            "visibility": null,
            "width": null
          }
        },
        "d7760c4b250c4b9ca6c3d24d91afbf60": {
          "model_module": "@jupyter-widgets/controls",
          "model_name": "ProgressStyleModel",
          "model_module_version": "1.5.0",
          "state": {
            "_model_module": "@jupyter-widgets/controls",
            "_model_module_version": "1.5.0",
            "_model_name": "ProgressStyleModel",
            "_view_count": null,
            "_view_module": "@jupyter-widgets/base",
            "_view_module_version": "1.2.0",
            "_view_name": "StyleView",
            "bar_color": null,
            "description_width": ""
          }
        },
        "f381b27d9a644f9f9bd62c01bae1d786": {
          "model_module": "@jupyter-widgets/base",
          "model_name": "LayoutModel",
          "model_module_version": "1.2.0",
          "state": {
            "_model_module": "@jupyter-widgets/base",
            "_model_module_version": "1.2.0",
            "_model_name": "LayoutModel",
            "_view_count": null,
            "_view_module": "@jupyter-widgets/base",
            "_view_module_version": "1.2.0",
            "_view_name": "LayoutView",
            "align_content": null,
            "align_items": null,
            "align_self": null,
            "border": null,
            "bottom": null,
            "display": null,
            "flex": null,
            "flex_flow": null,
            "grid_area": null,
            "grid_auto_columns": null,
            "grid_auto_flow": null,
            "grid_auto_rows": null,
            "grid_column": null,
            "grid_gap": null,
            "grid_row": null,
            "grid_template_areas": null,
            "grid_template_columns": null,
            "grid_template_rows": null,
            "height": null,
            "justify_content": null,
            "justify_items": null,
            "left": null,
            "margin": null,
            "max_height": null,
            "max_width": null,
            "min_height": null,
            "min_width": null,
            "object_fit": null,
            "object_position": null,
            "order": null,
            "overflow": null,
            "overflow_x": null,
            "overflow_y": null,
            "padding": null,
            "right": null,
            "top": null,
            "visibility": null,
            "width": null
          }
        },
        "e9eba09537e24758831cbd823f0a818c": {
          "model_module": "@jupyter-widgets/controls",
          "model_name": "DescriptionStyleModel",
          "model_module_version": "1.5.0",
          "state": {
            "_model_module": "@jupyter-widgets/controls",
            "_model_module_version": "1.5.0",
            "_model_name": "DescriptionStyleModel",
            "_view_count": null,
            "_view_module": "@jupyter-widgets/base",
            "_view_module_version": "1.2.0",
            "_view_name": "StyleView",
            "description_width": ""
          }
        },
        "1219531879524f3f89e2871fd40808ea": {
          "model_module": "@jupyter-widgets/controls",
          "model_name": "HBoxModel",
          "model_module_version": "1.5.0",
          "state": {
            "_dom_classes": [],
            "_model_module": "@jupyter-widgets/controls",
            "_model_module_version": "1.5.0",
            "_model_name": "HBoxModel",
            "_view_count": null,
            "_view_module": "@jupyter-widgets/controls",
            "_view_module_version": "1.5.0",
            "_view_name": "HBoxView",
            "box_style": "",
            "children": [
              "IPY_MODEL_f9bfa88732494112a8fabc942b81285a",
              "IPY_MODEL_933739b300f245fb924a38e66d29d3d9",
              "IPY_MODEL_520652794318489896caef037c197774"
            ],
            "layout": "IPY_MODEL_21d811de8c894c9fac91f52349451f44"
          }
        },
        "f9bfa88732494112a8fabc942b81285a": {
          "model_module": "@jupyter-widgets/controls",
          "model_name": "HTMLModel",
          "model_module_version": "1.5.0",
          "state": {
            "_dom_classes": [],
            "_model_module": "@jupyter-widgets/controls",
            "_model_module_version": "1.5.0",
            "_model_name": "HTMLModel",
            "_view_count": null,
            "_view_module": "@jupyter-widgets/controls",
            "_view_module_version": "1.5.0",
            "_view_name": "HTMLView",
            "description": "",
            "description_tooltip": null,
            "layout": "IPY_MODEL_9a833344ea2145babd39dc4a20c2166f",
            "placeholder": "​",
            "style": "IPY_MODEL_37f996fd8cb7434ea846bc35f064a0f3",
            "value": "Downloading: 100%"
          }
        },
        "933739b300f245fb924a38e66d29d3d9": {
          "model_module": "@jupyter-widgets/controls",
          "model_name": "FloatProgressModel",
          "model_module_version": "1.5.0",
          "state": {
            "_dom_classes": [],
            "_model_module": "@jupyter-widgets/controls",
            "_model_module_version": "1.5.0",
            "_model_name": "FloatProgressModel",
            "_view_count": null,
            "_view_module": "@jupyter-widgets/controls",
            "_view_module_version": "1.5.0",
            "_view_name": "ProgressView",
            "bar_style": "success",
            "description": "",
            "description_tooltip": null,
            "layout": "IPY_MODEL_82d023f726f04bd39eedcb5931feeb1d",
            "max": 1342014951,
            "min": 0,
            "orientation": "horizontal",
            "style": "IPY_MODEL_f6f95153b4bc4c7b8b32e17674ef015f",
            "value": 1342014951
          }
        },
        "520652794318489896caef037c197774": {
          "model_module": "@jupyter-widgets/controls",
          "model_name": "HTMLModel",
          "model_module_version": "1.5.0",
          "state": {
            "_dom_classes": [],
            "_model_module": "@jupyter-widgets/controls",
            "_model_module_version": "1.5.0",
            "_model_name": "HTMLModel",
            "_view_count": null,
            "_view_module": "@jupyter-widgets/controls",
            "_view_module_version": "1.5.0",
            "_view_name": "HTMLView",
            "description": "",
            "description_tooltip": null,
            "layout": "IPY_MODEL_0a5a8c0709cd465491feb6b9cbdd43b2",
            "placeholder": "​",
            "style": "IPY_MODEL_5cfe5a7ea8604af8b5bd4b7ddadb2d99",
            "value": " 1.34G/1.34G [00:29&lt;00:00, 58.8MB/s]"
          }
        },
        "21d811de8c894c9fac91f52349451f44": {
          "model_module": "@jupyter-widgets/base",
          "model_name": "LayoutModel",
          "model_module_version": "1.2.0",
          "state": {
            "_model_module": "@jupyter-widgets/base",
            "_model_module_version": "1.2.0",
            "_model_name": "LayoutModel",
            "_view_count": null,
            "_view_module": "@jupyter-widgets/base",
            "_view_module_version": "1.2.0",
            "_view_name": "LayoutView",
            "align_content": null,
            "align_items": null,
            "align_self": null,
            "border": null,
            "bottom": null,
            "display": null,
            "flex": null,
            "flex_flow": null,
            "grid_area": null,
            "grid_auto_columns": null,
            "grid_auto_flow": null,
            "grid_auto_rows": null,
            "grid_column": null,
            "grid_gap": null,
            "grid_row": null,
            "grid_template_areas": null,
            "grid_template_columns": null,
            "grid_template_rows": null,
            "height": null,
            "justify_content": null,
            "justify_items": null,
            "left": null,
            "margin": null,
            "max_height": null,
            "max_width": null,
            "min_height": null,
            "min_width": null,
            "object_fit": null,
            "object_position": null,
            "order": null,
            "overflow": null,
            "overflow_x": null,
            "overflow_y": null,
            "padding": null,
            "right": null,
            "top": null,
            "visibility": null,
            "width": null
          }
        },
        "9a833344ea2145babd39dc4a20c2166f": {
          "model_module": "@jupyter-widgets/base",
          "model_name": "LayoutModel",
          "model_module_version": "1.2.0",
          "state": {
            "_model_module": "@jupyter-widgets/base",
            "_model_module_version": "1.2.0",
            "_model_name": "LayoutModel",
            "_view_count": null,
            "_view_module": "@jupyter-widgets/base",
            "_view_module_version": "1.2.0",
            "_view_name": "LayoutView",
            "align_content": null,
            "align_items": null,
            "align_self": null,
            "border": null,
            "bottom": null,
            "display": null,
            "flex": null,
            "flex_flow": null,
            "grid_area": null,
            "grid_auto_columns": null,
            "grid_auto_flow": null,
            "grid_auto_rows": null,
            "grid_column": null,
            "grid_gap": null,
            "grid_row": null,
            "grid_template_areas": null,
            "grid_template_columns": null,
            "grid_template_rows": null,
            "height": null,
            "justify_content": null,
            "justify_items": null,
            "left": null,
            "margin": null,
            "max_height": null,
            "max_width": null,
            "min_height": null,
            "min_width": null,
            "object_fit": null,
            "object_position": null,
            "order": null,
            "overflow": null,
            "overflow_x": null,
            "overflow_y": null,
            "padding": null,
            "right": null,
            "top": null,
            "visibility": null,
            "width": null
          }
        },
        "37f996fd8cb7434ea846bc35f064a0f3": {
          "model_module": "@jupyter-widgets/controls",
          "model_name": "DescriptionStyleModel",
          "model_module_version": "1.5.0",
          "state": {
            "_model_module": "@jupyter-widgets/controls",
            "_model_module_version": "1.5.0",
            "_model_name": "DescriptionStyleModel",
            "_view_count": null,
            "_view_module": "@jupyter-widgets/base",
            "_view_module_version": "1.2.0",
            "_view_name": "StyleView",
            "description_width": ""
          }
        },
        "82d023f726f04bd39eedcb5931feeb1d": {
          "model_module": "@jupyter-widgets/base",
          "model_name": "LayoutModel",
          "model_module_version": "1.2.0",
          "state": {
            "_model_module": "@jupyter-widgets/base",
            "_model_module_version": "1.2.0",
            "_model_name": "LayoutModel",
            "_view_count": null,
            "_view_module": "@jupyter-widgets/base",
            "_view_module_version": "1.2.0",
            "_view_name": "LayoutView",
            "align_content": null,
            "align_items": null,
            "align_self": null,
            "border": null,
            "bottom": null,
            "display": null,
            "flex": null,
            "flex_flow": null,
            "grid_area": null,
            "grid_auto_columns": null,
            "grid_auto_flow": null,
            "grid_auto_rows": null,
            "grid_column": null,
            "grid_gap": null,
            "grid_row": null,
            "grid_template_areas": null,
            "grid_template_columns": null,
            "grid_template_rows": null,
            "height": null,
            "justify_content": null,
            "justify_items": null,
            "left": null,
            "margin": null,
            "max_height": null,
            "max_width": null,
            "min_height": null,
            "min_width": null,
            "object_fit": null,
            "object_position": null,
            "order": null,
            "overflow": null,
            "overflow_x": null,
            "overflow_y": null,
            "padding": null,
            "right": null,
            "top": null,
            "visibility": null,
            "width": null
          }
        },
        "f6f95153b4bc4c7b8b32e17674ef015f": {
          "model_module": "@jupyter-widgets/controls",
          "model_name": "ProgressStyleModel",
          "model_module_version": "1.5.0",
          "state": {
            "_model_module": "@jupyter-widgets/controls",
            "_model_module_version": "1.5.0",
            "_model_name": "ProgressStyleModel",
            "_view_count": null,
            "_view_module": "@jupyter-widgets/base",
            "_view_module_version": "1.2.0",
            "_view_name": "StyleView",
            "bar_color": null,
            "description_width": ""
          }
        },
        "0a5a8c0709cd465491feb6b9cbdd43b2": {
          "model_module": "@jupyter-widgets/base",
          "model_name": "LayoutModel",
          "model_module_version": "1.2.0",
          "state": {
            "_model_module": "@jupyter-widgets/base",
            "_model_module_version": "1.2.0",
            "_model_name": "LayoutModel",
            "_view_count": null,
            "_view_module": "@jupyter-widgets/base",
            "_view_module_version": "1.2.0",
            "_view_name": "LayoutView",
            "align_content": null,
            "align_items": null,
            "align_self": null,
            "border": null,
            "bottom": null,
            "display": null,
            "flex": null,
            "flex_flow": null,
            "grid_area": null,
            "grid_auto_columns": null,
            "grid_auto_flow": null,
            "grid_auto_rows": null,
            "grid_column": null,
            "grid_gap": null,
            "grid_row": null,
            "grid_template_areas": null,
            "grid_template_columns": null,
            "grid_template_rows": null,
            "height": null,
            "justify_content": null,
            "justify_items": null,
            "left": null,
            "margin": null,
            "max_height": null,
            "max_width": null,
            "min_height": null,
            "min_width": null,
            "object_fit": null,
            "object_position": null,
            "order": null,
            "overflow": null,
            "overflow_x": null,
            "overflow_y": null,
            "padding": null,
            "right": null,
            "top": null,
            "visibility": null,
            "width": null
          }
        },
        "5cfe5a7ea8604af8b5bd4b7ddadb2d99": {
          "model_module": "@jupyter-widgets/controls",
          "model_name": "DescriptionStyleModel",
          "model_module_version": "1.5.0",
          "state": {
            "_model_module": "@jupyter-widgets/controls",
            "_model_module_version": "1.5.0",
            "_model_name": "DescriptionStyleModel",
            "_view_count": null,
            "_view_module": "@jupyter-widgets/base",
            "_view_module_version": "1.2.0",
            "_view_name": "StyleView",
            "description_width": ""
          }
        }
      }
    },
    "accelerator": "GPU"
  },
  "cells": [
    {
      "cell_type": "markdown",
      "metadata": {
        "id": "view-in-github",
        "colab_type": "text"
      },
      "source": [
        "<a href=\"https://colab.research.google.com/github/EliseuODaniel/analise_de_sentimentos_eleicao/blob/main/analise_sentimento_com_bert_Tweets_lula.ipynb\" target=\"_parent\"><img src=\"https://colab.research.google.com/assets/colab-badge.svg\" alt=\"Open In Colab\"/></a>"
      ]
    },
    {
      "cell_type": "markdown",
      "metadata": {
        "id": "1GJKpwl_v4b1"
      },
      "source": [
        "# Análise de sentimento com Bert\n",
        "\n",
        "## Projeto integrador"
      ]
    },
    {
      "cell_type": "markdown",
      "metadata": {
        "id": "k244ZRtr2hiZ"
      },
      "source": [
        "## Classificação de Texto\n",
        "\n",
        "utilização da arquitetura BERTimbau, versão em Português do BERT"
      ]
    },
    {
      "cell_type": "code",
      "source": [
        "from google.colab import drive\n",
        "drive.mount('/content/drive')"
      ],
      "metadata": {
        "colab": {
          "base_uri": "https://localhost:8080/"
        },
        "id": "WdH9k8R0gZ_1",
        "outputId": "6cd79abc-86cd-4f69-f429-1a758e64147b"
      },
      "execution_count": null,
      "outputs": [
        {
          "output_type": "stream",
          "name": "stdout",
          "text": [
            "Mounted at /content/drive\n"
          ]
        }
      ]
    },
    {
      "cell_type": "code",
      "metadata": {
        "colab": {
          "base_uri": "https://localhost:8080/"
        },
        "id": "dfhiSp9Z3UXR",
        "outputId": "869cf41c-825d-4a91-db87-e2078a883d65"
      },
      "source": [
        "!pip3 install transformers"
      ],
      "execution_count": null,
      "outputs": [
        {
          "output_type": "stream",
          "name": "stdout",
          "text": [
            "Looking in indexes: https://pypi.org/simple, https://us-python.pkg.dev/colab-wheels/public/simple/\n",
            "Collecting transformers\n",
            "  Downloading transformers-4.24.0-py3-none-any.whl (5.5 MB)\n",
            "\u001b[K     |████████████████████████████████| 5.5 MB 6.8 MB/s \n",
            "\u001b[?25hRequirement already satisfied: requests in /usr/local/lib/python3.7/dist-packages (from transformers) (2.23.0)\n",
            "Requirement already satisfied: tqdm>=4.27 in /usr/local/lib/python3.7/dist-packages (from transformers) (4.64.1)\n",
            "Requirement already satisfied: filelock in /usr/local/lib/python3.7/dist-packages (from transformers) (3.8.0)\n",
            "Requirement already satisfied: packaging>=20.0 in /usr/local/lib/python3.7/dist-packages (from transformers) (21.3)\n",
            "Collecting tokenizers!=0.11.3,<0.14,>=0.11.1\n",
            "  Downloading tokenizers-0.13.2-cp37-cp37m-manylinux_2_17_x86_64.manylinux2014_x86_64.whl (7.6 MB)\n",
            "\u001b[K     |████████████████████████████████| 7.6 MB 53.8 MB/s \n",
            "\u001b[?25hRequirement already satisfied: regex!=2019.12.17 in /usr/local/lib/python3.7/dist-packages (from transformers) (2022.6.2)\n",
            "Requirement already satisfied: importlib-metadata in /usr/local/lib/python3.7/dist-packages (from transformers) (4.13.0)\n",
            "Collecting huggingface-hub<1.0,>=0.10.0\n",
            "  Downloading huggingface_hub-0.10.1-py3-none-any.whl (163 kB)\n",
            "\u001b[K     |████████████████████████████████| 163 kB 73.5 MB/s \n",
            "\u001b[?25hRequirement already satisfied: numpy>=1.17 in /usr/local/lib/python3.7/dist-packages (from transformers) (1.21.6)\n",
            "Requirement already satisfied: pyyaml>=5.1 in /usr/local/lib/python3.7/dist-packages (from transformers) (6.0)\n",
            "Requirement already satisfied: typing-extensions>=3.7.4.3 in /usr/local/lib/python3.7/dist-packages (from huggingface-hub<1.0,>=0.10.0->transformers) (4.1.1)\n",
            "Requirement already satisfied: pyparsing!=3.0.5,>=2.0.2 in /usr/local/lib/python3.7/dist-packages (from packaging>=20.0->transformers) (3.0.9)\n",
            "Requirement already satisfied: zipp>=0.5 in /usr/local/lib/python3.7/dist-packages (from importlib-metadata->transformers) (3.10.0)\n",
            "Requirement already satisfied: idna<3,>=2.5 in /usr/local/lib/python3.7/dist-packages (from requests->transformers) (2.10)\n",
            "Requirement already satisfied: chardet<4,>=3.0.2 in /usr/local/lib/python3.7/dist-packages (from requests->transformers) (3.0.4)\n",
            "Requirement already satisfied: urllib3!=1.25.0,!=1.25.1,<1.26,>=1.21.1 in /usr/local/lib/python3.7/dist-packages (from requests->transformers) (1.24.3)\n",
            "Requirement already satisfied: certifi>=2017.4.17 in /usr/local/lib/python3.7/dist-packages (from requests->transformers) (2022.9.24)\n",
            "Installing collected packages: tokenizers, huggingface-hub, transformers\n",
            "Successfully installed huggingface-hub-0.10.1 tokenizers-0.13.2 transformers-4.24.0\n"
          ]
        }
      ]
    },
    {
      "cell_type": "markdown",
      "metadata": {
        "id": "VbNLTwmJ23FE"
      },
      "source": [
        "Lê o arquivo csv e transforma numa lista"
      ]
    },
    {
      "cell_type": "code",
      "metadata": {
        "colab": {
          "base_uri": "https://localhost:8080/"
        },
        "id": "YyoVuFjJIlkj",
        "outputId": "b96a126b-dd53-42a1-83dc-d419cc1bc998"
      },
      "source": [
        "import pandas as pd\n",
        "import csv\n",
        "from random import shuffle\n",
        "import nltk\n",
        "nltk.download('punkt')\n",
        "\n",
        "full_df = pd.read_csv('/content/drive/MyDrive/Colab Notebooks/tweets_lula_cleaned-categorizado.csv', sep=';')"
      ],
      "execution_count": null,
      "outputs": [
        {
          "output_type": "stream",
          "name": "stderr",
          "text": [
            "[nltk_data] Downloading package punkt to /root/nltk_data...\n",
            "[nltk_data]   Unzipping tokenizers/punkt.zip.\n"
          ]
        }
      ]
    },
    {
      "cell_type": "code",
      "source": [
        "full_df.info()"
      ],
      "metadata": {
        "colab": {
          "base_uri": "https://localhost:8080/"
        },
        "id": "KrfWP0YfgMC_",
        "outputId": "fcbe75ef-bcfe-4fcd-996c-a3c26285478e"
      },
      "execution_count": null,
      "outputs": [
        {
          "output_type": "stream",
          "name": "stdout",
          "text": [
            "<class 'pandas.core.frame.DataFrame'>\n",
            "RangeIndex: 24698 entries, 0 to 24697\n",
            "Data columns (total 4 columns):\n",
            " #   Column   Non-Null Count  Dtype  \n",
            "---  ------   --------------  -----  \n",
            " 0   id       24698 non-null  int64  \n",
            " 1   date     24698 non-null  object \n",
            " 2   content  24695 non-null  object \n",
            " 3   label    408 non-null    float64\n",
            "dtypes: float64(1), int64(1), object(2)\n",
            "memory usage: 771.9+ KB\n"
          ]
        }
      ]
    },
    {
      "cell_type": "code",
      "source": [
        "# Drop rows with any empty cells in collumn 'label'\n",
        "df = full_df.dropna(subset=['label'])"
      ],
      "metadata": {
        "id": "2BE5pynYkESj"
      },
      "execution_count": null,
      "outputs": []
    },
    {
      "cell_type": "code",
      "source": [
        "df.info()"
      ],
      "metadata": {
        "colab": {
          "base_uri": "https://localhost:8080/"
        },
        "id": "KnygDPTnldEy",
        "outputId": "5551d887-f679-46b2-95c9-9dc270f3cc46"
      },
      "execution_count": null,
      "outputs": [
        {
          "output_type": "stream",
          "name": "stdout",
          "text": [
            "<class 'pandas.core.frame.DataFrame'>\n",
            "Int64Index: 408 entries, 0 to 409\n",
            "Data columns (total 4 columns):\n",
            " #   Column   Non-Null Count  Dtype  \n",
            "---  ------   --------------  -----  \n",
            " 0   id       408 non-null    int64  \n",
            " 1   date     408 non-null    object \n",
            " 2   content  408 non-null    object \n",
            " 3   label    408 non-null    float64\n",
            "dtypes: float64(1), int64(1), object(2)\n",
            "memory usage: 15.9+ KB\n"
          ]
        }
      ]
    },
    {
      "cell_type": "code",
      "source": [
        "import matplotlib.pyplot as plt\n",
        "import numpy as np\n",
        "import plotly.express as px\n",
        "\n",
        "#  mostra a proporção de cada label, se não está balanceado, acurácia não é uma boa métrica\n",
        "df['label'].value_counts().plot.pie(autopct='%.2f')"
      ],
      "metadata": {
        "colab": {
          "base_uri": "https://localhost:8080/",
          "height": 266
        },
        "id": "xyZKp6PqpS1E",
        "outputId": "3eb22d42-532f-4a5f-a3b4-0c1b4b82df53"
      },
      "execution_count": null,
      "outputs": [
        {
          "output_type": "execute_result",
          "data": {
            "text/plain": [
              "<matplotlib.axes._subplots.AxesSubplot at 0x7fe354c8f350>"
            ]
          },
          "metadata": {},
          "execution_count": 8
        },
        {
          "output_type": "display_data",
          "data": {
            "text/plain": [
              "<Figure size 432x288 with 1 Axes>"
            ],
            "image/png": "[encoded data removed]"
          },
          "metadata": {}
        }
      ]
    },
    {
      "cell_type": "code",
      "source": [
        "# converte dataframe em lista de listas\n",
        "tweets_list = df.values.tolist()"
      ],
      "metadata": {
        "id": "xcEHkdFIlxmE"
      },
      "execution_count": null,
      "outputs": []
    },
    {
      "cell_type": "markdown",
      "source": [
        "cria uma lista com dicionarios de reviews e rating"
      ],
      "metadata": {
        "id": "pM7NM0khG75Z"
      }
    },
    {
      "cell_type": "code",
      "source": [
        "#print(tweets_list)"
      ],
      "metadata": {
        "id": "JStdPkEcmZmD"
      },
      "execution_count": null,
      "outputs": []
    },
    {
      "cell_type": "code",
      "source": [
        "tweets = [str(w[2]) for w in tweets_list]\n",
        "ratings = [int(w[3]) for w in tweets_list]\n",
        "data = [{ 'X': tweets, 'y': rating } for (tweets, rating) in zip(tweets, ratings)]"
      ],
      "metadata": {
        "id": "zyk3u0QFgKqT"
      },
      "execution_count": null,
      "outputs": []
    },
    {
      "cell_type": "code",
      "source": [
        "#print(data)"
      ],
      "metadata": {
        "id": "afyUgEJ2jyxj"
      },
      "execution_count": null,
      "outputs": []
    },
    {
      "cell_type": "code",
      "source": [
        "#print(type(data))\n",
        "#print(data)"
      ],
      "metadata": {
        "id": "hlZcWH4JGhM6"
      },
      "execution_count": null,
      "outputs": []
    },
    {
      "cell_type": "markdown",
      "metadata": {
        "id": "WyleZGdH25Hq"
      },
      "source": [
        "Separando os dados em conjunto de treino e teste"
      ]
    },
    {
      "cell_type": "code",
      "metadata": {
        "colab": {
          "base_uri": "https://localhost:8080/"
        },
        "id": "u1R9CbypJfNO",
        "outputId": "b82e97de-081a-4f43-f576-9690c9fbf088"
      },
      "source": [
        "size = int(len(data) * 0.1)\n",
        "treino = data[2*size:] #  0.2 - 1\n",
        "validacao = data[size:2*size] # 0.1:0.2\n",
        "teste = data[:size]  # 0:0.1\n",
        "\n",
        "len(treino), len(validacao), len(teste)"
      ],
      "execution_count": null,
      "outputs": [
        {
          "output_type": "execute_result",
          "data": {
            "text/plain": [
              "(328, 40, 40)"
            ]
          },
          "metadata": {},
          "execution_count": 14
        }
      ]
    },
    {
      "cell_type": "markdown",
      "metadata": {
        "id": "dGTxUNNQ3LMK"
      },
      "source": [
        "BERTimbau - documentação [este link](https://github.com/neuralmind-ai/portuguese-bert)."
      ]
    },
    {
      "cell_type": "code",
      "metadata": {
        "id": "yDCgnNlzcCsA"
      },
      "source": [
        "import os\n",
        "import torch\n",
        "import torch.nn as nn\n",
        "from torch import optim\n",
        "from transformers import AutoTokenizer, AutoModelForSequenceClassification\n",
        "from sklearn.metrics import accuracy_score, f1_score, classification_report"
      ],
      "execution_count": null,
      "outputs": []
    },
    {
      "cell_type": "markdown",
      "metadata": {
        "id": "6OHZj1Ko3nos"
      },
      "source": [
        "Instanciando parâmetros"
      ]
    },
    {
      "cell_type": "code",
      "metadata": {
        "id": "icMF0E_R8h9W"
      },
      "source": [
        "device = torch.device('cuda' if torch.cuda.is_available() else 'cpu')\n",
        "nclasses = 3  # número de classes/labels que classificam  os tweets (0 = negativo, 1 = indefinido, 2 = positivo)\n",
        "nepochs = 5  # número de épocas (valor inicial: 5)\n",
        "batch_size = 1  # número mínimo de frases que são previstas por vez - em datasets grandes, número pode ser maior\n",
        "batch_status = 8  # a cada quantas batches avalia o status - numero menor pra dataset menor\n",
        "learning_rate = 1e-5  # taxa de aprendizado\n",
        "early_stop = 2  # critério de parada\n",
        "\n",
        "max_length = 512 # tamanho maximo de cada frase\n",
        "write_path = 'model'"
      ],
      "execution_count": null,
      "outputs": []
    },
    {
      "cell_type": "markdown",
      "metadata": {
        "id": "P-fAnBqN3rCv"
      },
      "source": [
        "Separando os dados em batches de treino e teste\n",
        "\n"
      ]
    },
    {
      "cell_type": "code",
      "metadata": {
        "id": "d3P7XcEsLXji"
      },
      "source": [
        "from torch.utils.data import DataLoader\n",
        "\n",
        "traindata = DataLoader(treino, batch_size=batch_size, shuffle=True)\n",
        "validationdata = DataLoader(validacao, batch_size=batch_size, shuffle=True)\n",
        "testdata = DataLoader(teste, batch_size=batch_size, shuffle=True)"
      ],
      "execution_count": null,
      "outputs": []
    },
    {
      "cell_type": "markdown",
      "metadata": {
        "id": "k8Gl_q253uV9"
      },
      "source": [
        "instanciando tokenizador, modelo, função de erro e otimizador:"
      ]
    },
    {
      "cell_type": "code",
      "metadata": {
        "colab": {
          "base_uri": "https://localhost:8080/",
          "height": 320,
          "referenced_widgets": [
            "478af2202eec4b3189741a852e65adb3",
            "fa0209a9322943d79d5d37272e0fe6ce",
            "a012eaee935941c38fda7c72fa76bfd0",
            "05466fa8727b4fe791faf9ef1c767358",
            "8aa11d7c2fcb4e6da08a268d39209fb4",
            "1ee5c59a9c7a4ee5ae8dac45d55f3c86",
            "2385a83f0ca24e589faef43706b33ba5",
            "74bfca96f93f4af88ec1b6b233d34f58",
            "75e3cbda06514618955f952278b0a243",
            "a99346133c58475bb922a90644ba8a82",
            "95e522e0cc3d4afda0c53a60ed1857b6",
            "561af70bc9534cf09dd67a1955181f8f",
            "404ace166125436890fd4810e2badb93",
            "a3468ea9d8a2418688bbf0f1cb90f5d8",
            "ec26c0fd0e924994aea8dc5a32e3b045",
            "4f1e19160d094071a8e472470841ff30",
            "afde8e55d6a142d289c1e1fe0c55db7c",
            "c9c12246353847a1ad6ca81f941f6d19",
            "0eaf719c9c7149a29b84626179211bbb",
            "bef95249db5940868d8e69a01e979a40",
            "6c84da0e572447e0bd65eacb31864584",
            "621246ab356b40be942bef7d3d4722ab",
            "378b01961a87403e8935a132e491b3c8",
            "a7fbff5b41dc4ab7b8066177530d8f38",
            "b3b27cebf83c4ae28da999cd48f84be1",
            "0b9c81690e0448098bae4156c89f7540",
            "2cd0bac1767f46f5a83d2dc6f0b88522",
            "03186e46da954cc8a075a9fd26f86ec3",
            "8bab2373a7a24a0e9a77024e9880eba9",
            "27b046aabb9a4a868b25fb9f8723572f",
            "e09fc807bb1443a18643db5473c8bed1",
            "8e51473b8a00435c915974a55716ae4e",
            "61e1a383cfb64214b4a3295d2c9638bc",
            "8f951ba7508e44a1bee88fd70d3b824b",
            "0d4e5a2164644905a95c7186be3ff07c",
            "b51567e0665e414e9c64748fca5feb87",
            "5c2d3c1e88dd48dcb78731ff1a0b90be",
            "2e08ea387e95420fb970cd2032b56d47",
            "3968fc27e2104bc4b8ff14133b16f1d8",
            "29798c456f624bceade496aadc62deac",
            "f37ccb9999f74c63b9c0234fd892bdc3",
            "d1d1322fa44643e5ac9ec8b9461dbf5b",
            "111ad54704d1469db3e4c9189f5f74ec",
            "eb0a78b9f689414c9586fabb044dcdc8",
            "111c83dbe939457ab8d49a90626d6fa3",
            "c6ffbaefaba4499cb9e94f9e84de0cc8",
            "7cd0134fc33443fe8112ef26686b1230",
            "16a9ca5ecc2d4eacbfefdc580dec30a2",
            "da41d62993a546de8f24d52d6a4aa097",
            "284e85d8d4144e04b26ce80d9a0c7c05",
            "7cba94743396407da18628d5bf361f62",
            "08c75ba04704411cb25f950f7aca53ab",
            "d7760c4b250c4b9ca6c3d24d91afbf60",
            "f381b27d9a644f9f9bd62c01bae1d786",
            "e9eba09537e24758831cbd823f0a818c",
            "1219531879524f3f89e2871fd40808ea",
            "f9bfa88732494112a8fabc942b81285a",
            "933739b300f245fb924a38e66d29d3d9",
            "520652794318489896caef037c197774",
            "21d811de8c894c9fac91f52349451f44",
            "9a833344ea2145babd39dc4a20c2166f",
            "37f996fd8cb7434ea846bc35f064a0f3",
            "82d023f726f04bd39eedcb5931feeb1d",
            "f6f95153b4bc4c7b8b32e17674ef015f",
            "0a5a8c0709cd465491feb6b9cbdd43b2",
            "5cfe5a7ea8604af8b5bd4b7ddadb2d99"
          ]
        },
        "id": "7WeMpVR18aPq",
        "outputId": "6bc78e94-e1ea-4143-9ec8-035e7a024279"
      },
      "source": [
        "# instancia o tokenizador\n",
        "tokenizer = AutoTokenizer.from_pretrained('neuralmind/bert-large-portuguese-cased', do_lower_case=False)  # para utilizar o BERTinbal large: 'neuralmind/bert-large-portuguese-cased'\n",
        "#bertinbal menor: 'neuralmind/bert-base-portuguese-cased'\n",
        "#  instancia o modelo\n",
        "model = AutoModelForSequenceClassification.from_pretrained('neuralmind/bert-large-portuguese-cased', num_labels=nclasses).to(device)\n",
        "\n",
        "# seleciona o otimizador \n",
        "optimizer = torch.optim.AdamW(model.parameters(), lr=learning_rate)\n",
        "\n",
        "# congela os pesos do BERT pré-treinado\n",
        "for param in model.base_model.parameters():\n",
        "    param.requires_grad = False"
      ],
      "execution_count": null,
      "outputs": [
        {
          "output_type": "display_data",
          "data": {
            "text/plain": [
              "Downloading:   0%|          | 0.00/155 [00:00<?, ?B/s]"
            ],
            "application/vnd.jupyter.widget-view+json": {
              "version_major": 2,
              "version_minor": 0,
              "model_id": "478af2202eec4b3189741a852e65adb3"
            }
          },
          "metadata": {}
        },
        {
          "output_type": "display_data",
          "data": {
            "text/plain": [
              "Downloading:   0%|          | 0.00/648 [00:00<?, ?B/s]"
            ],
            "application/vnd.jupyter.widget-view+json": {
              "version_major": 2,
              "version_minor": 0,
              "model_id": "561af70bc9534cf09dd67a1955181f8f"
            }
          },
          "metadata": {}
        },
        {
          "output_type": "display_data",
          "data": {
            "text/plain": [
              "Downloading:   0%|          | 0.00/210k [00:00<?, ?B/s]"
            ],
            "application/vnd.jupyter.widget-view+json": {
              "version_major": 2,
              "version_minor": 0,
              "model_id": "378b01961a87403e8935a132e491b3c8"
            }
          },
          "metadata": {}
        },
        {
          "output_type": "display_data",
          "data": {
            "text/plain": [
              "Downloading:   0%|          | 0.00/2.00 [00:00<?, ?B/s]"
            ],
            "application/vnd.jupyter.widget-view+json": {
              "version_major": 2,
              "version_minor": 0,
              "model_id": "8f951ba7508e44a1bee88fd70d3b824b"
            }
          },
          "metadata": {}
        },
        {
          "output_type": "display_data",
          "data": {
            "text/plain": [
              "Downloading:   0%|          | 0.00/112 [00:00<?, ?B/s]"
            ],
            "application/vnd.jupyter.widget-view+json": {
              "version_major": 2,
              "version_minor": 0,
              "model_id": "111c83dbe939457ab8d49a90626d6fa3"
            }
          },
          "metadata": {}
        },
        {
          "output_type": "display_data",
          "data": {
            "text/plain": [
              "Downloading:   0%|          | 0.00/1.34G [00:00<?, ?B/s]"
            ],
            "application/vnd.jupyter.widget-view+json": {
              "version_major": 2,
              "version_minor": 0,
              "model_id": "1219531879524f3f89e2871fd40808ea"
            }
          },
          "metadata": {}
        },
        {
          "output_type": "stream",
          "name": "stderr",
          "text": [
            "Some weights of the model checkpoint at neuralmind/bert-large-portuguese-cased were not used when initializing BertForSequenceClassification: ['cls.predictions.transform.LayerNorm.weight', 'cls.predictions.bias', 'cls.seq_relationship.bias', 'cls.predictions.decoder.weight', 'cls.seq_relationship.weight', 'cls.predictions.transform.LayerNorm.bias', 'cls.predictions.transform.dense.bias', 'cls.predictions.transform.dense.weight']\n",
            "- This IS expected if you are initializing BertForSequenceClassification from the checkpoint of a model trained on another task or with another architecture (e.g. initializing a BertForSequenceClassification model from a BertForPreTraining model).\n",
            "- This IS NOT expected if you are initializing BertForSequenceClassification from the checkpoint of a model that you expect to be exactly identical (initializing a BertForSequenceClassification model from a BertForSequenceClassification model).\n",
            "Some weights of BertForSequenceClassification were not initialized from the model checkpoint at neuralmind/bert-large-portuguese-cased and are newly initialized: ['classifier.bias', 'classifier.weight']\n",
            "You should probably TRAIN this model on a down-stream task to be able to use it for predictions and inference.\n"
          ]
        }
      ]
    },
    {
      "cell_type": "markdown",
      "metadata": {
        "id": "-4XlMiF43y56"
      },
      "source": [
        "Definindo a função de avaliação do modelo"
      ]
    },
    {
      "cell_type": "code",
      "metadata": {
        "id": "AbiO9x2E81CS"
      },
      "source": [
        "def evaluate(model, validationdata):\n",
        "  \"\"\"\n",
        "  avalia o desempenho do modelo que está sendo treinado baseado nos dados de validacao\n",
        "  \"\"\"\n",
        "  model.eval()\n",
        "  y_real, y_pred = [], []\n",
        "  for batch_idx, inp in enumerate(validationdata): # passa por cada batch dos dados de teste, batch_idx é o número da batch, inp contem o texto e o label\n",
        "    texts, labels = inp['X'], inp['y']\n",
        "    \n",
        "    # instancia o tokenizador enviando os textos dos comentarios\n",
        "    inputs = tokenizer(texts, return_tensors='pt', padding=True, truncation=True, max_length=max_length).to(device)\n",
        "    # instancia o modelo enviando os tokens e salvando as classificações preditas\n",
        "    output = model(**inputs)\n",
        "    \n",
        "    # cria um tensor com os labels preditos no output\n",
        "    pred_labels = torch.argmax(output.logits, 1)\n",
        "\n",
        "    # print(f\"texto: {texts}, rótulo correto: {labels}, predito pelo modelo: {pred_labels}\") # imprime a frase, o resultado correto e o predito\n",
        "    \n",
        "    # adiciona cada novo label às listas y_real e y_pred(ito)\n",
        "    y_real.extend(labels.tolist())\n",
        "    y_pred.extend(pred_labels.tolist())\n",
        "    \n",
        "    # a cada certa quantidade de itens preditos, printa a % de progresso e o número de itens preditos\n",
        "    if (batch_idx+1) % batch_status == 0:\n",
        "      print('Progress:', round(batch_idx / len(testdata), 2), batch_idx)\n",
        "  \n",
        "  # chama o classification_report do scikitlearn para calcular o resultado após predizer todas as linhas de teste\n",
        "  print(classification_report(y_real, y_pred, labels=[0, 1, 2], target_names=['Negative', 'Neural', 'Positive'])) # identifica os labels 0, 1 e 2 como negativo, neutro e positivo\n",
        "  # retorna f1 e acurácia\n",
        "  f1 = f1_score(y_real, y_pred, average='weighted')\n",
        "  acc = accuracy_score(y_real, y_pred)\n",
        "  return f1, acc"
      ],
      "execution_count": null,
      "outputs": []
    },
    {
      "cell_type": "markdown",
      "metadata": {
        "id": "BfoYwmza39MJ"
      },
      "source": [
        "Treinamento"
      ]
    },
    {
      "cell_type": "code",
      "metadata": {
        "id": "rRiZCQnO9hE1",
        "colab": {
          "base_uri": "https://localhost:8080/"
        },
        "outputId": "c34b810b-7548-418f-d252-48ed158c2eeb"
      },
      "source": [
        "max_f1, repeat = 0, 0\n",
        "\n",
        "#  passa por todas as épocas de treino\n",
        "for epoch in range(nepochs):\n",
        "  model.train()\n",
        "  #avalia o modelo antes de iniciar a 1a época\n",
        "  f1, acc = evaluate(model, testdata)\n",
        "  losses = []\n",
        "\n",
        "  for batch_idx, inp in enumerate(traindata): # passa por cada batch dos dados de teste, batch_idx é o número da batch, inp contem o texto e o label\n",
        "    texts, labels = inp['X'], inp['y']\n",
        "\n",
        "    # instancia o tokenizador enviando os textos dos comentarios\n",
        "    inputs = tokenizer(texts, return_tensors='pt', padding=True, truncation=True, max_length=max_length).to(device)\n",
        "    # zera os gradientes acumulados em buffer \n",
        "    optimizer.zero_grad()\n",
        "    # instancia o modelo enviando os tokens e salvando as classificações preditas\n",
        "    output = model(**inputs, labels=labels.to(device))\n",
        "\n",
        "    # calcula a perda\n",
        "    loss = output.loss\n",
        "    losses.append(float(loss))\n",
        "\n",
        "    # faz o Backpropagation no modelo- com o otimizador definido anteriormente (AdamW)\n",
        "    loss.backward()\n",
        "    optimizer.step()\n",
        "\n",
        "    # mostra o andamento do treinamento\n",
        "    if (batch_idx+1) % batch_status == 0:\n",
        "      print('Train Epoch: {} [{}/{} ({:.0f}%)]\\tLoss: {:.6f}\\tTotal Loss: {:.6f}'.format(\\\n",
        "        epoch, # número da época\n",
        "        batch_idx+1, # número do batch\n",
        "        len(traindata), # número total de dados de treino\n",
        "        100. * batch_idx / len(traindata), # % de dados treinados\n",
        "        float(loss), # perda atual\n",
        "        round(sum(losses) / len(losses), 5) # perda acumulada\n",
        "        ))\n",
        "\n",
        "  # se passou a 1a época, descongela os pesos do Bert pretreinado\n",
        "  if epoch == 0: \n",
        "    for param in model.base_model.parameters():\n",
        "        param.requires_grad = True\n",
        "\n",
        "  # ao terminar cada época, avalia o modelo\n",
        "  f1, acc = evaluate(model, testdata)\n",
        "  print('F1: ', f1, 'Accuracy: ', acc)\n",
        "\n",
        "  # salva o modelo se f1 melhorou em relação à epoch anterior\n",
        "  if f1 > max_f1:\n",
        "    model.save_pretrained(os.path.join(write_path, 'model'))\n",
        "    max_f1 = f1\n",
        "    repeat = 0\n",
        "    print('Saving best model...')\n",
        "  else:\n",
        "    repeat += 1\n",
        "  \n",
        "  # se por duas épocas o f1 não melhorou, para de treinar o modelo\n",
        "  if repeat == early_stop:\n",
        "    break"
      ],
      "execution_count": null,
      "outputs": [
        {
          "output_type": "stream",
          "name": "stdout",
          "text": [
            "Progress: 0.17 7\n",
            "Progress: 0.38 15\n",
            "Progress: 0.57 23\n",
            "Progress: 0.78 31\n",
            "Progress: 0.97 39\n",
            "              precision    recall  f1-score   support\n",
            "\n",
            "    Negative       0.69      0.50      0.58        18\n",
            "      Neural       0.22      0.75      0.34         8\n",
            "    Positive       0.00      0.00      0.00        14\n",
            "\n",
            "    accuracy                           0.38        40\n",
            "   macro avg       0.30      0.42      0.31        40\n",
            "weighted avg       0.36      0.38      0.33        40\n",
            "\n",
            "Train Epoch: 0 [8/328 (2%)]\tLoss: 1.069197\tTotal Loss: 1.170200\n"
          ]
        },
        {
          "output_type": "stream",
          "name": "stderr",
          "text": [
            "/usr/local/lib/python3.7/dist-packages/sklearn/metrics/_classification.py:1318: UndefinedMetricWarning: Precision and F-score are ill-defined and being set to 0.0 in labels with no predicted samples. Use `zero_division` parameter to control this behavior.\n",
            "  _warn_prf(average, modifier, msg_start, len(result))\n",
            "/usr/local/lib/python3.7/dist-packages/sklearn/metrics/_classification.py:1318: UndefinedMetricWarning: Precision and F-score are ill-defined and being set to 0.0 in labels with no predicted samples. Use `zero_division` parameter to control this behavior.\n",
            "  _warn_prf(average, modifier, msg_start, len(result))\n",
            "/usr/local/lib/python3.7/dist-packages/sklearn/metrics/_classification.py:1318: UndefinedMetricWarning: Precision and F-score are ill-defined and being set to 0.0 in labels with no predicted samples. Use `zero_division` parameter to control this behavior.\n",
            "  _warn_prf(average, modifier, msg_start, len(result))\n"
          ]
        },
        {
          "output_type": "stream",
          "name": "stdout",
          "text": [
            "Train Epoch: 0 [16/328 (5%)]\tLoss: 1.060873\tTotal Loss: 1.132700\n",
            "Train Epoch: 0 [24/328 (7%)]\tLoss: 0.955483\tTotal Loss: 1.119050\n",
            "Train Epoch: 0 [32/328 (9%)]\tLoss: 1.075424\tTotal Loss: 1.111860\n",
            "Train Epoch: 0 [40/328 (12%)]\tLoss: 1.156581\tTotal Loss: 1.103380\n",
            "Train Epoch: 0 [48/328 (14%)]\tLoss: 1.146641\tTotal Loss: 1.112830\n",
            "Train Epoch: 0 [56/328 (17%)]\tLoss: 0.854305\tTotal Loss: 1.120530\n",
            "Train Epoch: 0 [64/328 (19%)]\tLoss: 0.998378\tTotal Loss: 1.105700\n",
            "Train Epoch: 0 [72/328 (22%)]\tLoss: 1.242659\tTotal Loss: 1.126910\n",
            "Train Epoch: 0 [80/328 (24%)]\tLoss: 1.222402\tTotal Loss: 1.123900\n",
            "Train Epoch: 0 [88/328 (27%)]\tLoss: 1.108009\tTotal Loss: 1.112710\n",
            "Train Epoch: 0 [96/328 (29%)]\tLoss: 1.487289\tTotal Loss: 1.110260\n",
            "Train Epoch: 0 [104/328 (31%)]\tLoss: 1.049717\tTotal Loss: 1.117440\n",
            "Train Epoch: 0 [112/328 (34%)]\tLoss: 1.156382\tTotal Loss: 1.112770\n",
            "Train Epoch: 0 [120/328 (36%)]\tLoss: 1.416593\tTotal Loss: 1.113200\n",
            "Train Epoch: 0 [128/328 (39%)]\tLoss: 1.298221\tTotal Loss: 1.114070\n",
            "Train Epoch: 0 [136/328 (41%)]\tLoss: 1.336708\tTotal Loss: 1.113610\n",
            "Train Epoch: 0 [144/328 (44%)]\tLoss: 1.463645\tTotal Loss: 1.115750\n",
            "Train Epoch: 0 [152/328 (46%)]\tLoss: 0.941686\tTotal Loss: 1.117330\n",
            "Train Epoch: 0 [160/328 (48%)]\tLoss: 1.001256\tTotal Loss: 1.117790\n",
            "Train Epoch: 0 [168/328 (51%)]\tLoss: 1.140065\tTotal Loss: 1.114560\n",
            "Train Epoch: 0 [176/328 (53%)]\tLoss: 0.999886\tTotal Loss: 1.110100\n",
            "Train Epoch: 0 [184/328 (56%)]\tLoss: 1.518299\tTotal Loss: 1.113040\n",
            "Train Epoch: 0 [192/328 (58%)]\tLoss: 0.920925\tTotal Loss: 1.112530\n",
            "Train Epoch: 0 [200/328 (61%)]\tLoss: 1.253370\tTotal Loss: 1.113770\n",
            "Train Epoch: 0 [208/328 (63%)]\tLoss: 1.427305\tTotal Loss: 1.113790\n",
            "Train Epoch: 0 [216/328 (66%)]\tLoss: 1.028241\tTotal Loss: 1.116060\n",
            "Train Epoch: 0 [224/328 (68%)]\tLoss: 1.123126\tTotal Loss: 1.114480\n",
            "Train Epoch: 0 [232/328 (70%)]\tLoss: 0.910972\tTotal Loss: 1.112650\n",
            "Train Epoch: 0 [240/328 (73%)]\tLoss: 0.970065\tTotal Loss: 1.110900\n",
            "Train Epoch: 0 [248/328 (75%)]\tLoss: 1.125393\tTotal Loss: 1.108160\n",
            "Train Epoch: 0 [256/328 (78%)]\tLoss: 1.016373\tTotal Loss: 1.104990\n",
            "Train Epoch: 0 [264/328 (80%)]\tLoss: 1.283196\tTotal Loss: 1.105780\n",
            "Train Epoch: 0 [272/328 (83%)]\tLoss: 0.889264\tTotal Loss: 1.107500\n",
            "Train Epoch: 0 [280/328 (85%)]\tLoss: 1.313448\tTotal Loss: 1.106010\n",
            "Train Epoch: 0 [288/328 (88%)]\tLoss: 0.985604\tTotal Loss: 1.106000\n",
            "Train Epoch: 0 [296/328 (90%)]\tLoss: 1.253103\tTotal Loss: 1.104160\n",
            "Train Epoch: 0 [304/328 (92%)]\tLoss: 1.010435\tTotal Loss: 1.104130\n",
            "Train Epoch: 0 [312/328 (95%)]\tLoss: 0.952882\tTotal Loss: 1.101520\n",
            "Train Epoch: 0 [320/328 (97%)]\tLoss: 1.060966\tTotal Loss: 1.101500\n",
            "Train Epoch: 0 [328/328 (100%)]\tLoss: 1.026371\tTotal Loss: 1.100970\n",
            "Progress: 0.17 7\n",
            "Progress: 0.38 15\n",
            "Progress: 0.57 23\n",
            "Progress: 0.78 31\n",
            "Progress: 0.97 39\n",
            "              precision    recall  f1-score   support\n",
            "\n",
            "    Negative       0.61      0.78      0.68        18\n",
            "      Neural       0.38      0.75      0.50         8\n",
            "    Positive       0.00      0.00      0.00        14\n",
            "\n",
            "    accuracy                           0.50        40\n",
            "   macro avg       0.33      0.51      0.39        40\n",
            "weighted avg       0.35      0.50      0.41        40\n",
            "\n",
            "F1:  0.40731707317073174 Accuracy:  0.5\n",
            "Saving best model...\n",
            "Progress: 0.17 7\n",
            "Progress: 0.38 15\n",
            "Progress: 0.57 23\n",
            "Progress: 0.78 31\n",
            "Progress: 0.97 39\n",
            "              precision    recall  f1-score   support\n",
            "\n",
            "    Negative       0.61      0.78      0.68        18\n",
            "      Neural       0.38      0.75      0.50         8\n",
            "    Positive       0.00      0.00      0.00        14\n",
            "\n",
            "    accuracy                           0.50        40\n",
            "   macro avg       0.33      0.51      0.39        40\n",
            "weighted avg       0.35      0.50      0.41        40\n",
            "\n",
            "Train Epoch: 1 [8/328 (2%)]\tLoss: 1.315323\tTotal Loss: 0.993220\n",
            "Train Epoch: 1 [16/328 (5%)]\tLoss: 1.464226\tTotal Loss: 1.067550\n",
            "Train Epoch: 1 [24/328 (7%)]\tLoss: 1.180902\tTotal Loss: 1.144840\n",
            "Train Epoch: 1 [32/328 (9%)]\tLoss: 1.095438\tTotal Loss: 1.110300\n",
            "Train Epoch: 1 [40/328 (12%)]\tLoss: 0.955609\tTotal Loss: 1.113250\n",
            "Train Epoch: 1 [48/328 (14%)]\tLoss: 0.794021\tTotal Loss: 1.077480\n",
            "Train Epoch: 1 [56/328 (17%)]\tLoss: 2.053150\tTotal Loss: 1.094320\n",
            "Train Epoch: 1 [64/328 (19%)]\tLoss: 1.570097\tTotal Loss: 1.096410\n",
            "Train Epoch: 1 [72/328 (22%)]\tLoss: 0.761782\tTotal Loss: 1.068860\n",
            "Train Epoch: 1 [80/328 (24%)]\tLoss: 1.356215\tTotal Loss: 1.068360\n",
            "Train Epoch: 1 [88/328 (27%)]\tLoss: 1.174543\tTotal Loss: 1.075220\n",
            "Train Epoch: 1 [96/328 (29%)]\tLoss: 0.587138\tTotal Loss: 1.038810\n",
            "Train Epoch: 1 [104/328 (31%)]\tLoss: 0.604042\tTotal Loss: 1.014850\n",
            "Train Epoch: 1 [112/328 (34%)]\tLoss: 0.147922\tTotal Loss: 1.016520\n",
            "Train Epoch: 1 [120/328 (36%)]\tLoss: 0.196537\tTotal Loss: 0.986590\n",
            "Train Epoch: 1 [128/328 (39%)]\tLoss: 0.643664\tTotal Loss: 0.977280\n",
            "Train Epoch: 1 [136/328 (41%)]\tLoss: 0.169732\tTotal Loss: 0.977120\n",
            "Train Epoch: 1 [144/328 (44%)]\tLoss: 1.770031\tTotal Loss: 0.998130\n",
            "Train Epoch: 1 [152/328 (46%)]\tLoss: 0.752622\tTotal Loss: 1.008590\n",
            "Train Epoch: 1 [160/328 (48%)]\tLoss: 0.910780\tTotal Loss: 1.006910\n",
            "Train Epoch: 1 [168/328 (51%)]\tLoss: 1.342488\tTotal Loss: 1.012140\n",
            "Train Epoch: 1 [176/328 (53%)]\tLoss: 0.533162\tTotal Loss: 1.007440\n",
            "Train Epoch: 1 [184/328 (56%)]\tLoss: 1.609424\tTotal Loss: 1.021730\n",
            "Train Epoch: 1 [192/328 (58%)]\tLoss: 1.331404\tTotal Loss: 1.022230\n",
            "Train Epoch: 1 [200/328 (61%)]\tLoss: 0.755982\tTotal Loss: 1.023280\n",
            "Train Epoch: 1 [208/328 (63%)]\tLoss: 0.511393\tTotal Loss: 1.016850\n",
            "Train Epoch: 1 [216/328 (66%)]\tLoss: 1.152913\tTotal Loss: 1.009190\n",
            "Train Epoch: 1 [224/328 (68%)]\tLoss: 0.522999\tTotal Loss: 1.007210\n",
            "Train Epoch: 1 [232/328 (70%)]\tLoss: 0.743154\tTotal Loss: 1.002230\n",
            "Train Epoch: 1 [240/328 (73%)]\tLoss: 0.963144\tTotal Loss: 1.000430\n",
            "Train Epoch: 1 [248/328 (75%)]\tLoss: 1.694537\tTotal Loss: 0.995540\n",
            "Train Epoch: 1 [256/328 (78%)]\tLoss: 0.641308\tTotal Loss: 0.985770\n",
            "Train Epoch: 1 [264/328 (80%)]\tLoss: 2.059242\tTotal Loss: 0.993250\n",
            "Train Epoch: 1 [272/328 (83%)]\tLoss: 1.212934\tTotal Loss: 0.992630\n",
            "Train Epoch: 1 [280/328 (85%)]\tLoss: 0.600612\tTotal Loss: 0.993860\n",
            "Train Epoch: 1 [288/328 (88%)]\tLoss: 2.692745\tTotal Loss: 0.997550\n",
            "Train Epoch: 1 [296/328 (90%)]\tLoss: 0.463938\tTotal Loss: 0.990050\n",
            "Train Epoch: 1 [304/328 (92%)]\tLoss: 1.568269\tTotal Loss: 0.994510\n",
            "Train Epoch: 1 [312/328 (95%)]\tLoss: 0.427693\tTotal Loss: 0.981620\n",
            "Train Epoch: 1 [320/328 (97%)]\tLoss: 1.182474\tTotal Loss: 0.983570\n",
            "Train Epoch: 1 [328/328 (100%)]\tLoss: 1.827859\tTotal Loss: 0.985180\n",
            "Progress: 0.17 7\n",
            "Progress: 0.38 15\n",
            "Progress: 0.57 23\n",
            "Progress: 0.78 31\n",
            "Progress: 0.97 39\n",
            "              precision    recall  f1-score   support\n",
            "\n",
            "    Negative       0.83      0.28      0.42        18\n",
            "      Neural       0.33      0.75      0.46         8\n",
            "    Positive       0.44      0.50      0.47        14\n",
            "\n",
            "    accuracy                           0.45        40\n",
            "   macro avg       0.53      0.51      0.45        40\n",
            "weighted avg       0.59      0.45      0.44        40\n",
            "\n",
            "F1:  0.44314102564102564 Accuracy:  0.45\n",
            "Saving best model...\n",
            "Progress: 0.17 7\n",
            "Progress: 0.38 15\n",
            "Progress: 0.57 23\n",
            "Progress: 0.78 31\n",
            "Progress: 0.97 39\n",
            "              precision    recall  f1-score   support\n",
            "\n",
            "    Negative       0.83      0.28      0.42        18\n",
            "      Neural       0.33      0.75      0.46         8\n",
            "    Positive       0.44      0.50      0.47        14\n",
            "\n",
            "    accuracy                           0.45        40\n",
            "   macro avg       0.53      0.51      0.45        40\n",
            "weighted avg       0.59      0.45      0.44        40\n",
            "\n",
            "Train Epoch: 2 [8/328 (2%)]\tLoss: 0.134762\tTotal Loss: 0.517060\n",
            "Train Epoch: 2 [16/328 (5%)]\tLoss: 0.445540\tTotal Loss: 0.627840\n",
            "Train Epoch: 2 [24/328 (7%)]\tLoss: 0.135581\tTotal Loss: 0.546310\n",
            "Train Epoch: 2 [32/328 (9%)]\tLoss: 0.379929\tTotal Loss: 0.665480\n",
            "Train Epoch: 2 [40/328 (12%)]\tLoss: 0.648096\tTotal Loss: 0.607410\n",
            "Train Epoch: 2 [48/328 (14%)]\tLoss: 0.179428\tTotal Loss: 0.578540\n",
            "Train Epoch: 2 [56/328 (17%)]\tLoss: 0.139917\tTotal Loss: 0.563470\n",
            "Train Epoch: 2 [64/328 (19%)]\tLoss: 1.492389\tTotal Loss: 0.577650\n",
            "Train Epoch: 2 [72/328 (22%)]\tLoss: 0.852025\tTotal Loss: 0.543510\n",
            "Train Epoch: 2 [80/328 (24%)]\tLoss: 0.100961\tTotal Loss: 0.530190\n",
            "Train Epoch: 2 [88/328 (27%)]\tLoss: 0.091508\tTotal Loss: 0.522780\n",
            "Train Epoch: 2 [96/328 (29%)]\tLoss: 0.647644\tTotal Loss: 0.544540\n",
            "Train Epoch: 2 [104/328 (31%)]\tLoss: 0.215834\tTotal Loss: 0.546700\n",
            "Train Epoch: 2 [112/328 (34%)]\tLoss: 0.950873\tTotal Loss: 0.541930\n",
            "Train Epoch: 2 [120/328 (36%)]\tLoss: 0.086706\tTotal Loss: 0.525040\n",
            "Train Epoch: 2 [128/328 (39%)]\tLoss: 0.599852\tTotal Loss: 0.559060\n",
            "Train Epoch: 2 [136/328 (41%)]\tLoss: 1.383425\tTotal Loss: 0.587640\n",
            "Train Epoch: 2 [144/328 (44%)]\tLoss: 0.172064\tTotal Loss: 0.594390\n",
            "Train Epoch: 2 [152/328 (46%)]\tLoss: 2.043550\tTotal Loss: 0.605330\n",
            "Train Epoch: 2 [160/328 (48%)]\tLoss: 0.101141\tTotal Loss: 0.585310\n",
            "Train Epoch: 2 [168/328 (51%)]\tLoss: 2.132004\tTotal Loss: 0.595090\n",
            "Train Epoch: 2 [176/328 (53%)]\tLoss: 0.103475\tTotal Loss: 0.588890\n",
            "Train Epoch: 2 [184/328 (56%)]\tLoss: 0.145136\tTotal Loss: 0.583600\n",
            "Train Epoch: 2 [192/328 (58%)]\tLoss: 0.940085\tTotal Loss: 0.597830\n",
            "Train Epoch: 2 [200/328 (61%)]\tLoss: 0.152452\tTotal Loss: 0.586700\n",
            "Train Epoch: 2 [208/328 (63%)]\tLoss: 1.278580\tTotal Loss: 0.590560\n",
            "Train Epoch: 2 [216/328 (66%)]\tLoss: 0.050294\tTotal Loss: 0.584230\n",
            "Train Epoch: 2 [224/328 (68%)]\tLoss: 0.037096\tTotal Loss: 0.574830\n",
            "Train Epoch: 2 [232/328 (70%)]\tLoss: 0.318582\tTotal Loss: 0.565740\n",
            "Train Epoch: 2 [240/328 (73%)]\tLoss: 0.078094\tTotal Loss: 0.554290\n",
            "Train Epoch: 2 [248/328 (75%)]\tLoss: 0.038973\tTotal Loss: 0.549280\n",
            "Train Epoch: 2 [256/328 (78%)]\tLoss: 0.059174\tTotal Loss: 0.543220\n",
            "Train Epoch: 2 [264/328 (80%)]\tLoss: 0.160159\tTotal Loss: 0.541630\n",
            "Train Epoch: 2 [272/328 (83%)]\tLoss: 0.058702\tTotal Loss: 0.530520\n",
            "Train Epoch: 2 [280/328 (85%)]\tLoss: 0.182610\tTotal Loss: 0.545810\n",
            "Train Epoch: 2 [288/328 (88%)]\tLoss: 0.063988\tTotal Loss: 0.542950\n",
            "Train Epoch: 2 [296/328 (90%)]\tLoss: 0.183115\tTotal Loss: 0.538420\n",
            "Train Epoch: 2 [304/328 (92%)]\tLoss: 0.378083\tTotal Loss: 0.540470\n",
            "Train Epoch: 2 [312/328 (95%)]\tLoss: 0.209515\tTotal Loss: 0.551120\n",
            "Train Epoch: 2 [320/328 (97%)]\tLoss: 0.363791\tTotal Loss: 0.546510\n",
            "Train Epoch: 2 [328/328 (100%)]\tLoss: 1.084998\tTotal Loss: 0.551400\n",
            "Progress: 0.17 7\n",
            "Progress: 0.38 15\n",
            "Progress: 0.57 23\n",
            "Progress: 0.78 31\n",
            "Progress: 0.97 39\n",
            "              precision    recall  f1-score   support\n",
            "\n",
            "    Negative       0.67      0.78      0.72        18\n",
            "      Neural       0.33      0.25      0.29         8\n",
            "    Positive       0.77      0.71      0.74        14\n",
            "\n",
            "    accuracy                           0.65        40\n",
            "   macro avg       0.59      0.58      0.58        40\n",
            "weighted avg       0.64      0.65      0.64        40\n",
            "\n",
            "F1:  0.6394790394790395 Accuracy:  0.65\n",
            "Saving best model...\n",
            "Progress: 0.17 7\n",
            "Progress: 0.38 15\n",
            "Progress: 0.57 23\n",
            "Progress: 0.78 31\n",
            "Progress: 0.97 39\n",
            "              precision    recall  f1-score   support\n",
            "\n",
            "    Negative       0.67      0.78      0.72        18\n",
            "      Neural       0.33      0.25      0.29         8\n",
            "    Positive       0.77      0.71      0.74        14\n",
            "\n",
            "    accuracy                           0.65        40\n",
            "   macro avg       0.59      0.58      0.58        40\n",
            "weighted avg       0.64      0.65      0.64        40\n",
            "\n",
            "Train Epoch: 3 [8/328 (2%)]\tLoss: 0.035676\tTotal Loss: 0.188610\n",
            "Train Epoch: 3 [16/328 (5%)]\tLoss: 0.027646\tTotal Loss: 0.150310\n",
            "Train Epoch: 3 [24/328 (7%)]\tLoss: 0.060385\tTotal Loss: 0.164840\n",
            "Train Epoch: 3 [32/328 (9%)]\tLoss: 0.067959\tTotal Loss: 0.189680\n",
            "Train Epoch: 3 [40/328 (12%)]\tLoss: 0.222937\tTotal Loss: 0.255160\n",
            "Train Epoch: 3 [48/328 (14%)]\tLoss: 0.039296\tTotal Loss: 0.233900\n",
            "Train Epoch: 3 [56/328 (17%)]\tLoss: 0.025445\tTotal Loss: 0.221940\n",
            "Train Epoch: 3 [64/328 (19%)]\tLoss: 0.113935\tTotal Loss: 0.200110\n",
            "Train Epoch: 3 [72/328 (22%)]\tLoss: 0.043179\tTotal Loss: 0.187150\n",
            "Train Epoch: 3 [80/328 (24%)]\tLoss: 0.491755\tTotal Loss: 0.200310\n",
            "Train Epoch: 3 [88/328 (27%)]\tLoss: 0.872212\tTotal Loss: 0.209320\n",
            "Train Epoch: 3 [96/328 (29%)]\tLoss: 0.049583\tTotal Loss: 0.199180\n",
            "Train Epoch: 3 [104/328 (31%)]\tLoss: 0.031698\tTotal Loss: 0.217660\n",
            "Train Epoch: 3 [112/328 (34%)]\tLoss: 0.027151\tTotal Loss: 0.207190\n",
            "Train Epoch: 3 [120/328 (36%)]\tLoss: 0.081124\tTotal Loss: 0.228140\n",
            "Train Epoch: 3 [128/328 (39%)]\tLoss: 0.019086\tTotal Loss: 0.216060\n",
            "Train Epoch: 3 [136/328 (41%)]\tLoss: 0.026942\tTotal Loss: 0.216300\n",
            "Train Epoch: 3 [144/328 (44%)]\tLoss: 0.277069\tTotal Loss: 0.221100\n",
            "Train Epoch: 3 [152/328 (46%)]\tLoss: 0.018968\tTotal Loss: 0.213690\n",
            "Train Epoch: 3 [160/328 (48%)]\tLoss: 0.011089\tTotal Loss: 0.205560\n",
            "Train Epoch: 3 [168/328 (51%)]\tLoss: 0.152430\tTotal Loss: 0.210240\n",
            "Train Epoch: 3 [176/328 (53%)]\tLoss: 0.166800\tTotal Loss: 0.215550\n",
            "Train Epoch: 3 [184/328 (56%)]\tLoss: 0.122357\tTotal Loss: 0.212210\n",
            "Train Epoch: 3 [192/328 (58%)]\tLoss: 0.021229\tTotal Loss: 0.207150\n",
            "Train Epoch: 3 [200/328 (61%)]\tLoss: 0.029045\tTotal Loss: 0.205270\n",
            "Train Epoch: 3 [208/328 (63%)]\tLoss: 0.013090\tTotal Loss: 0.207340\n",
            "Train Epoch: 3 [216/328 (66%)]\tLoss: 1.549043\tTotal Loss: 0.208230\n",
            "Train Epoch: 3 [224/328 (68%)]\tLoss: 0.009669\tTotal Loss: 0.220840\n",
            "Train Epoch: 3 [232/328 (70%)]\tLoss: 0.007956\tTotal Loss: 0.225100\n",
            "Train Epoch: 3 [240/328 (73%)]\tLoss: 0.036959\tTotal Loss: 0.224650\n",
            "Train Epoch: 3 [248/328 (75%)]\tLoss: 0.015573\tTotal Loss: 0.220390\n",
            "Train Epoch: 3 [256/328 (78%)]\tLoss: 0.140905\tTotal Loss: 0.219720\n",
            "Train Epoch: 3 [264/328 (80%)]\tLoss: 0.036255\tTotal Loss: 0.216970\n",
            "Train Epoch: 3 [272/328 (83%)]\tLoss: 0.132211\tTotal Loss: 0.215350\n",
            "Train Epoch: 3 [280/328 (85%)]\tLoss: 0.036311\tTotal Loss: 0.214520\n",
            "Train Epoch: 3 [288/328 (88%)]\tLoss: 0.187058\tTotal Loss: 0.213290\n",
            "Train Epoch: 3 [296/328 (90%)]\tLoss: 0.028878\tTotal Loss: 0.210420\n",
            "Train Epoch: 3 [304/328 (92%)]\tLoss: 0.020623\tTotal Loss: 0.206300\n",
            "Train Epoch: 3 [312/328 (95%)]\tLoss: 0.020274\tTotal Loss: 0.210510\n",
            "Train Epoch: 3 [320/328 (97%)]\tLoss: 0.658341\tTotal Loss: 0.215000\n",
            "Train Epoch: 3 [328/328 (100%)]\tLoss: 0.012796\tTotal Loss: 0.212030\n",
            "Progress: 0.17 7\n",
            "Progress: 0.38 15\n",
            "Progress: 0.57 23\n",
            "Progress: 0.78 31\n",
            "Progress: 0.97 39\n",
            "              precision    recall  f1-score   support\n",
            "\n",
            "    Negative       0.68      0.83      0.75        18\n",
            "      Neural       0.67      0.50      0.57         8\n",
            "    Positive       0.75      0.64      0.69        14\n",
            "\n",
            "    accuracy                           0.70        40\n",
            "   macro avg       0.70      0.66      0.67        40\n",
            "weighted avg       0.70      0.70      0.69        40\n",
            "\n",
            "F1:  0.6940934065934066 Accuracy:  0.7\n",
            "Saving best model...\n",
            "Progress: 0.17 7\n",
            "Progress: 0.38 15\n",
            "Progress: 0.57 23\n",
            "Progress: 0.78 31\n",
            "Progress: 0.97 39\n",
            "              precision    recall  f1-score   support\n",
            "\n",
            "    Negative       0.68      0.83      0.75        18\n",
            "      Neural       0.67      0.50      0.57         8\n",
            "    Positive       0.75      0.64      0.69        14\n",
            "\n",
            "    accuracy                           0.70        40\n",
            "   macro avg       0.70      0.66      0.67        40\n",
            "weighted avg       0.70      0.70      0.69        40\n",
            "\n",
            "Train Epoch: 4 [8/328 (2%)]\tLoss: 0.023843\tTotal Loss: 0.039190\n",
            "Train Epoch: 4 [16/328 (5%)]\tLoss: 0.042345\tTotal Loss: 0.050540\n",
            "Train Epoch: 4 [24/328 (7%)]\tLoss: 0.046004\tTotal Loss: 0.045880\n",
            "Train Epoch: 4 [32/328 (9%)]\tLoss: 0.011722\tTotal Loss: 0.040350\n",
            "Train Epoch: 4 [40/328 (12%)]\tLoss: 0.009633\tTotal Loss: 0.039730\n",
            "Train Epoch: 4 [48/328 (14%)]\tLoss: 0.044262\tTotal Loss: 0.036930\n",
            "Train Epoch: 4 [56/328 (17%)]\tLoss: 0.064631\tTotal Loss: 0.036310\n",
            "Train Epoch: 4 [64/328 (19%)]\tLoss: 0.007705\tTotal Loss: 0.036000\n",
            "Train Epoch: 4 [72/328 (22%)]\tLoss: 0.041189\tTotal Loss: 0.034520\n",
            "Train Epoch: 4 [80/328 (24%)]\tLoss: 0.008970\tTotal Loss: 0.033930\n",
            "Train Epoch: 4 [88/328 (27%)]\tLoss: 0.010029\tTotal Loss: 0.032680\n",
            "Train Epoch: 4 [96/328 (29%)]\tLoss: 0.697857\tTotal Loss: 0.052260\n",
            "Train Epoch: 4 [104/328 (31%)]\tLoss: 0.007149\tTotal Loss: 0.050380\n",
            "Train Epoch: 4 [112/328 (34%)]\tLoss: 0.008184\tTotal Loss: 0.073370\n",
            "Train Epoch: 4 [120/328 (36%)]\tLoss: 0.007333\tTotal Loss: 0.069380\n",
            "Train Epoch: 4 [128/328 (39%)]\tLoss: 0.015898\tTotal Loss: 0.070290\n",
            "Train Epoch: 4 [136/328 (41%)]\tLoss: 0.061218\tTotal Loss: 0.072370\n",
            "Train Epoch: 4 [144/328 (44%)]\tLoss: 0.015126\tTotal Loss: 0.073090\n",
            "Train Epoch: 4 [152/328 (46%)]\tLoss: 0.038105\tTotal Loss: 0.097500\n",
            "Train Epoch: 4 [160/328 (48%)]\tLoss: 0.004076\tTotal Loss: 0.095960\n",
            "Train Epoch: 4 [168/328 (51%)]\tLoss: 0.005555\tTotal Loss: 0.092340\n",
            "Train Epoch: 4 [176/328 (53%)]\tLoss: 0.005259\tTotal Loss: 0.089350\n",
            "Train Epoch: 4 [184/328 (56%)]\tLoss: 0.015464\tTotal Loss: 0.086720\n",
            "Train Epoch: 4 [192/328 (58%)]\tLoss: 0.004954\tTotal Loss: 0.084030\n",
            "Train Epoch: 4 [200/328 (61%)]\tLoss: 0.010726\tTotal Loss: 0.081950\n",
            "Train Epoch: 4 [208/328 (63%)]\tLoss: 0.006480\tTotal Loss: 0.088180\n",
            "Train Epoch: 4 [216/328 (66%)]\tLoss: 0.070962\tTotal Loss: 0.098810\n",
            "Train Epoch: 4 [224/328 (68%)]\tLoss: 0.041861\tTotal Loss: 0.096270\n",
            "Train Epoch: 4 [232/328 (70%)]\tLoss: 0.004736\tTotal Loss: 0.095180\n",
            "Train Epoch: 4 [240/328 (73%)]\tLoss: 0.043159\tTotal Loss: 0.094290\n",
            "Train Epoch: 4 [248/328 (75%)]\tLoss: 0.007732\tTotal Loss: 0.098640\n",
            "Train Epoch: 4 [256/328 (78%)]\tLoss: 0.005108\tTotal Loss: 0.096210\n",
            "Train Epoch: 4 [264/328 (80%)]\tLoss: 0.009638\tTotal Loss: 0.097470\n",
            "Train Epoch: 4 [272/328 (83%)]\tLoss: 0.177845\tTotal Loss: 0.106700\n",
            "Train Epoch: 4 [280/328 (85%)]\tLoss: 2.434926\tTotal Loss: 0.130730\n",
            "Train Epoch: 4 [288/328 (88%)]\tLoss: 0.035751\tTotal Loss: 0.128390\n",
            "Train Epoch: 4 [296/328 (90%)]\tLoss: 0.016870\tTotal Loss: 0.125820\n",
            "Train Epoch: 4 [304/328 (92%)]\tLoss: 0.066255\tTotal Loss: 0.133780\n",
            "Train Epoch: 4 [312/328 (95%)]\tLoss: 0.227089\tTotal Loss: 0.137350\n",
            "Train Epoch: 4 [320/328 (97%)]\tLoss: 0.005252\tTotal Loss: 0.136200\n",
            "Train Epoch: 4 [328/328 (100%)]\tLoss: 0.032180\tTotal Loss: 0.134070\n",
            "Progress: 0.17 7\n",
            "Progress: 0.38 15\n",
            "Progress: 0.57 23\n",
            "Progress: 0.78 31\n",
            "Progress: 0.97 39\n",
            "              precision    recall  f1-score   support\n",
            "\n",
            "    Negative       0.86      0.67      0.75        18\n",
            "      Neural       0.45      0.62      0.53         8\n",
            "    Positive       0.60      0.64      0.62        14\n",
            "\n",
            "    accuracy                           0.65        40\n",
            "   macro avg       0.64      0.64      0.63        40\n",
            "weighted avg       0.69      0.65      0.66        40\n",
            "\n",
            "F1:  0.6600045372050817 Accuracy:  0.65\n"
          ]
        }
      ]
    },
    {
      "cell_type": "code",
      "source": [
        "# avaliação final do modelo nos dados de teste\n",
        "with torch.no_grad():\n",
        "  model.eval()\n",
        "  y_real, y_pred = [], []\n",
        "  for batch_idx, inp in enumerate(testdata): # passa por cada batch dos dados de teste, batch_idx é o número da batch, inp contem o texto e o label\n",
        "    texts, labels = inp['X'], inp['y']\n",
        "    \n",
        "    # instancia o tokenizador enviando os textos dos comentarios\n",
        "    inputs = tokenizer(texts, return_tensors='pt', padding=True, truncation=True, max_length=max_length).to(device)\n",
        "    # instancia o modelo enviando os tokens e salvando as classificações preditas\n",
        "    output = model(**inputs)\n",
        "    \n",
        "    # cria um tensor com os labels preditos no output\n",
        "    pred_labels = torch.argmax(output.logits, 1)\n",
        "\n",
        "    # print(f\"texto: {texts}, rótulo correto: {labels}, predito pelo modelo: {pred_labels}\") # imprime a frase, o resultado correto e o predito\n",
        "    \n",
        "    # adiciona cada novo label às listas y_real e y_pred(ito)\n",
        "    y_real.extend(labels.tolist())\n",
        "    y_pred.extend(pred_labels.tolist())\n",
        "    \n",
        "    # a cada certa quantidade de itens preditos, printa a % de progresso e o número de itens preditos\n",
        "    if (batch_idx+1) % batch_status == 0:\n",
        "      print('Progress:', round(batch_idx / len(testdata), 2), batch_idx)\n",
        "  \n",
        "  # chama o classification_report do scikitlearn para calcular o resultado após predizer todas as linhas de teste\n",
        "  print(classification_report(y_real, y_pred, labels=[0, 1, 2], target_names=['Negative', 'Neural', 'Positive'])) # identifica os labels 0, 1 e 2 como negativo, neutro e positivo\n",
        "  # mostra f1 e acurácia\n",
        "  print(\"avaliação nos dados de teste\")\n",
        "  print(\"f1: \", f1_score(y_real, y_pred, average='weighted'))\n",
        "  print(\"acurácia: \", accuracy_score(y_real, y_pred))"
      ],
      "metadata": {
        "colab": {
          "base_uri": "https://localhost:8080/"
        },
        "id": "isn1BaR-pJDt",
        "outputId": "e78b0b6a-88bb-4237-dafc-e2806bb3ff4d"
      },
      "execution_count": null,
      "outputs": [
        {
          "output_type": "stream",
          "name": "stdout",
          "text": [
            "Progress: 0.17 7\n",
            "Progress: 0.38 15\n",
            "Progress: 0.57 23\n",
            "Progress: 0.78 31\n",
            "Progress: 0.97 39\n",
            "              precision    recall  f1-score   support\n",
            "\n",
            "    Negative       0.86      0.67      0.75        18\n",
            "      Neural       0.45      0.62      0.53         8\n",
            "    Positive       0.60      0.64      0.62        14\n",
            "\n",
            "    accuracy                           0.65        40\n",
            "   macro avg       0.64      0.64      0.63        40\n",
            "weighted avg       0.69      0.65      0.66        40\n",
            "\n",
            "avaliação nos dados de teste\n",
            "f1:  0.6600045372050817\n",
            "acurácia:  0.65\n"
          ]
        }
      ]
    },
    {
      "cell_type": "code",
      "source": [
        "texts = \"lula é horrível\"\n",
        "\n",
        "# instancia o tokenizador enviando os textos dos comentarios\n",
        "inputs = tokenizer(texts, return_tensors='pt', padding=True, truncation=True, max_length=max_length).to(device)\n",
        "# instancia o modelo enviando os tokens e salvando as classificações preditas\n",
        "output = model(**inputs)\n",
        "\n",
        "# cria um tensor com os labels preditos no output\n",
        "pred_labels = torch.argmax(output.logits, 1)\n",
        "\n",
        "print(f\"texto: {texts}, rótulo predito pelo modelo: {pred_labels}\") # imprime a frase, o resultado correto e o predito"
      ],
      "metadata": {
        "colab": {
          "base_uri": "https://localhost:8080/"
        },
        "id": "hUx4gHm0jt_c",
        "outputId": "20d678fb-bb49-4ebc-98ec-9787b8206a04"
      },
      "execution_count": null,
      "outputs": [
        {
          "output_type": "stream",
          "name": "stdout",
          "text": [
            "texto: lula é horrível, rótulo predito pelo modelo: tensor([0], device='cuda:0')\n"
          ]
        }
      ]
    },
    {
      "cell_type": "code",
      "source": [
        "texts = \"lula é ótimo, votem 13\"\n",
        "\n",
        "# instancia o tokenizador enviando os textos dos comentarios\n",
        "inputs = tokenizer(texts, return_tensors='pt', padding=True, truncation=True, max_length=max_length).to(device)\n",
        "# instancia o modelo enviando os tokens e salvando as classificações preditas\n",
        "output = model(**inputs)\n",
        "\n",
        "# cria um tensor com os labels preditos no output\n",
        "pred_labels = torch.argmax(output.logits, 1).item()\n",
        "\n",
        "print(f\"texto: {texts}, rótulo predito pelo modelo: {pred_labels}\") # imprime a frase, o resultado correto e o predito"
      ],
      "metadata": {
        "colab": {
          "base_uri": "https://localhost:8080/"
        },
        "id": "vN_bY4xtlIHf",
        "outputId": "885fd19d-1511-4630-8d52-1a68df4fe2c6"
      },
      "execution_count": null,
      "outputs": [
        {
          "output_type": "stream",
          "name": "stdout",
          "text": [
            "texto: lula é ótimo, votem 13, rótulo predito pelo modelo: 2\n"
          ]
        }
      ]
    },
    {
      "cell_type": "code",
      "source": [
        "texts = \"lula é regular\"\n",
        "\n",
        "# instancia o tokenizador enviando os textos dos comentarios\n",
        "inputs = tokenizer(texts, return_tensors='pt', padding=True, truncation=True, max_length=max_length).to(device)\n",
        "# instancia o modelo enviando os tokens e salvando as classificações preditas\n",
        "output = model(**inputs)\n",
        "\n",
        "# cria um tensor com os labels preditos no output\n",
        "pred_labels = torch.argmax(output.logits, 1)\n",
        "\n",
        "print(f\"texto: {texts}, rótulo predito pelo modelo: {pred_labels}\") # imprime a frase, o resultado correto e o predito"
      ],
      "metadata": {
        "colab": {
          "base_uri": "https://localhost:8080/"
        },
        "id": "YBwGwZurlMok",
        "outputId": "9a5c1ef2-aa35-44ea-c875-becf24989f79"
      },
      "execution_count": null,
      "outputs": [
        {
          "output_type": "stream",
          "name": "stdout",
          "text": [
            "texto: lula é regular, rótulo predito pelo modelo: tensor([1], device='cuda:0')\n"
          ]
        }
      ]
    },
    {
      "cell_type": "code",
      "source": [
        "#reduced_df = full_df.head(10000) # seleciona apenas 5000 linhas para teste\n",
        "reduced_df = full_df"
      ],
      "metadata": {
        "id": "b2Hi-lWBJgBl"
      },
      "execution_count": null,
      "outputs": []
    },
    {
      "cell_type": "code",
      "source": [
        "\n",
        "# iterates through the dataframe tweets_lula and prints the text of the 'content' column at each iteration\n",
        "for index, row in reduced_df.iterrows():\n",
        "    # instancia o tokenizador enviando os textos dos comentarios\n",
        "    inputs = tokenizer(str(row['content']), return_tensors='pt', padding=True, truncation=True, max_length=max_length).to(device)\n",
        "    # instancia o modelo enviando os tokens e salvando as classificações preditas\n",
        "    output = model(**inputs)\n",
        "    # cria um tensor com os labels preditos no output e extrai a predição do tensor\n",
        "    reduced_df['label'][index] = torch.argmax(output.logits).item()\n",
        "\n",
        "    if index % 2000 == 0:\n",
        "      print(f\"{index}/{len(reduced_df)}\")\n",
        "    #print(reduced_df['label'])\n",
        "    \n"
      ],
      "metadata": {
        "colab": {
          "base_uri": "https://localhost:8080/"
        },
        "id": "bYuwXKsz5RKc",
        "outputId": "aaec3828-1850-49a9-c15f-6c39b6aa1e51"
      },
      "execution_count": null,
      "outputs": [
        {
          "output_type": "stream",
          "name": "stdout",
          "text": [
            "0/24698\n"
          ]
        },
        {
          "output_type": "stream",
          "name": "stderr",
          "text": [
            "/usr/local/lib/python3.7/dist-packages/ipykernel_launcher.py:8: SettingWithCopyWarning: \n",
            "A value is trying to be set on a copy of a slice from a DataFrame\n",
            "\n",
            "See the caveats in the documentation: https://pandas.pydata.org/pandas-docs/stable/user_guide/indexing.html#returning-a-view-versus-a-copy\n",
            "  \n"
          ]
        },
        {
          "output_type": "stream",
          "name": "stdout",
          "text": [
            "2000/24698\n",
            "4000/24698\n",
            "6000/24698\n",
            "8000/24698\n",
            "10000/24698\n",
            "12000/24698\n",
            "14000/24698\n",
            "16000/24698\n",
            "18000/24698\n",
            "20000/24698\n",
            "22000/24698\n",
            "24000/24698\n"
          ]
        }
      ]
    },
    {
      "cell_type": "code",
      "source": [
        "# nmostra a proporção de labels no resultado final total\n",
        "reduced_df['label'].value_counts().plot.pie(autopct='%.2f')"
      ],
      "metadata": {
        "colab": {
          "base_uri": "https://localhost:8080/",
          "height": 266
        },
        "id": "LkhxhKKqH3S9",
        "outputId": "133780c2-25cc-432b-c1a2-f3255bd38611"
      },
      "execution_count": null,
      "outputs": [
        {
          "output_type": "execute_result",
          "data": {
            "text/plain": [
              "<matplotlib.axes._subplots.AxesSubplot at 0x7fe29a836fd0>"
            ]
          },
          "metadata": {},
          "execution_count": 27
        },
        {
          "output_type": "display_data",
          "data": {
            "text/plain": [
              "<Figure size 432x288 with 1 Axes>"
            ],
            "image/png": "[encoded data removed]"
          },
          "metadata": {}
        }
      ]
    },
    {
      "cell_type": "code",
      "source": [
        "# transforma a data em time series\n",
        "reduced_df['date'] = pd.to_datetime(full_df['date'])\n"
      ],
      "metadata": {
        "id": "MAcHMqWu6jnJ"
      },
      "execution_count": null,
      "outputs": []
    },
    {
      "cell_type": "code",
      "source": [
        "# agrupa o total de labels por dia\n",
        "reduced_df_grouped = reduced_df.groupby(['label', pd.Grouper(key='date', freq='D')]).count()"
      ],
      "metadata": {
        "id": "LklHxUMyBXjx"
      },
      "execution_count": null,
      "outputs": []
    },
    {
      "cell_type": "code",
      "source": [
        "reduced_df_grouped.head(10)"
      ],
      "metadata": {
        "colab": {
          "base_uri": "https://localhost:8080/",
          "height": 394
        },
        "id": "A5pgTDSFG9Sv",
        "outputId": "1846b0a4-9e4c-4399-c6cf-f42ee2b941b0"
      },
      "execution_count": null,
      "outputs": [
        {
          "output_type": "execute_result",
          "data": {
            "text/plain": [
              "                   id  content\n",
              "label date                    \n",
              "0.0   2022-10-02  179      179\n",
              "      2022-10-03  239      239\n",
              "      2022-10-04  381      381\n",
              "      2022-10-05  325      325\n",
              "      2022-10-06  401      401\n",
              "      2022-10-07  403      403\n",
              "      2022-10-08  333      333\n",
              "      2022-10-09  357      357\n",
              "      2022-10-10  354      354\n",
              "      2022-10-11  380      380"
            ],
            "text/html": [
              "\n",
              "  <div id=\"df-f351f6ed-ca26-448e-9b83-dc41a8d402b5\">\n",
              "    <div class=\"colab-df-container\">\n",
              "      <div>\n",
              "<style scoped>\n",
              "    .dataframe tbody tr th:only-of-type {\n",
              "        vertical-align: middle;\n",
              "    }\n",
              "\n",
              "    .dataframe tbody tr th {\n",
              "        vertical-align: top;\n",
              "    }\n",
              "\n",
              "    .dataframe thead th {\n",
              "        text-align: right;\n",
              "    }\n",
              "</style>\n",
              "<table border=\"1\" class=\"dataframe\">\n",
              "  <thead>\n",
              "    <tr style=\"text-align: right;\">\n",
              "      <th></th>\n",
              "      <th></th>\n",
              "      <th>id</th>\n",
              "      <th>content</th>\n",
              "    </tr>\n",
              "    <tr>\n",
              "      <th>label</th>\n",
              "      <th>date</th>\n",
              "      <th></th>\n",
              "      <th></th>\n",
              "    </tr>\n",
              "  </thead>\n",
              "  <tbody>\n",
              "    <tr>\n",
              "      <th rowspan=\"10\" valign=\"top\">0.0</th>\n",
              "      <th>2022-10-02</th>\n",
              "      <td>179</td>\n",
              "      <td>179</td>\n",
              "    </tr>\n",
              "    <tr>\n",
              "      <th>2022-10-03</th>\n",
              "      <td>239</td>\n",
              "      <td>239</td>\n",
              "    </tr>\n",
              "    <tr>\n",
              "      <th>2022-10-04</th>\n",
              "      <td>381</td>\n",
              "      <td>381</td>\n",
              "    </tr>\n",
              "    <tr>\n",
              "      <th>2022-10-05</th>\n",
              "      <td>325</td>\n",
              "      <td>325</td>\n",
              "    </tr>\n",
              "    <tr>\n",
              "      <th>2022-10-06</th>\n",
              "      <td>401</td>\n",
              "      <td>401</td>\n",
              "    </tr>\n",
              "    <tr>\n",
              "      <th>2022-10-07</th>\n",
              "      <td>403</td>\n",
              "      <td>403</td>\n",
              "    </tr>\n",
              "    <tr>\n",
              "      <th>2022-10-08</th>\n",
              "      <td>333</td>\n",
              "      <td>333</td>\n",
              "    </tr>\n",
              "    <tr>\n",
              "      <th>2022-10-09</th>\n",
              "      <td>357</td>\n",
              "      <td>357</td>\n",
              "    </tr>\n",
              "    <tr>\n",
              "      <th>2022-10-10</th>\n",
              "      <td>354</td>\n",
              "      <td>354</td>\n",
              "    </tr>\n",
              "    <tr>\n",
              "      <th>2022-10-11</th>\n",
              "      <td>380</td>\n",
              "      <td>380</td>\n",
              "    </tr>\n",
              "  </tbody>\n",
              "</table>\n",
              "</div>\n",
              "      <button class=\"colab-df-convert\" onclick=\"convertToInteractive('df-f351f6ed-ca26-448e-9b83-dc41a8d402b5')\"\n",
              "              title=\"Convert this dataframe to an interactive table.\"\n",
              "              style=\"display:none;\">\n",
              "        \n",
              "  <svg xmlns=\"http://www.w3.org/2000/svg\" height=\"24px\"viewBox=\"0 0 24 24\"\n",
              "       width=\"24px\">\n",
              "    <path d=\"M0 0h24v24H0V0z\" fill=\"none\"/>\n",
              "    <path d=\"M18.56 5.44l.94 2.06.94-2.06 2.06-.94-2.06-.94-.94-2.06-.94 2.06-2.06.94zm-11 1L8.5 8.5l.94-2.06 2.06-.94-2.06-.94L8.5 2.5l-.94 2.06-2.06.94zm10 10l.94 2.06.94-2.06 2.06-.94-2.06-.94-.94-2.06-.94 2.06-2.06.94z\"/><path d=\"M17.41 7.96l-1.37-1.37c-.4-.4-.92-.59-1.43-.59-.52 0-1.04.2-1.43.59L10.3 9.45l-7.72 7.72c-.78.78-.78 2.05 0 2.83L4 21.41c.39.39.9.59 1.41.59.51 0 1.02-.2 1.41-.59l7.78-7.78 2.81-2.81c.8-.78.8-2.07 0-2.86zM5.41 20L4 18.59l7.72-7.72 1.47 1.35L5.41 20z\"/>\n",
              "  </svg>\n",
              "      </button>\n",
              "      \n",
              "  <style>\n",
              "    .colab-df-container {\n",
              "      display:flex;\n",
              "      flex-wrap:wrap;\n",
              "      gap: 12px;\n",
              "    }\n",
              "\n",
              "    .colab-df-convert {\n",
              "      background-color: #E8F0FE;\n",
              "      border: none;\n",
              "      border-radius: 50%;\n",
              "      cursor: pointer;\n",
              "      display: none;\n",
              "      fill: #1967D2;\n",
              "      height: 32px;\n",
              "      padding: 0 0 0 0;\n",
              "      width: 32px;\n",
              "    }\n",
              "\n",
              "    .colab-df-convert:hover {\n",
              "      background-color: #E2EBFA;\n",
              "      box-shadow: 0px 1px 2px rgba(60, 64, 67, 0.3), 0px 1px 3px 1px rgba(60, 64, 67, 0.15);\n",
              "      fill: #174EA6;\n",
              "    }\n",
              "\n",
              "    [theme=dark] .colab-df-convert {\n",
              "      background-color: #3B4455;\n",
              "      fill: #D2E3FC;\n",
              "    }\n",
              "\n",
              "    [theme=dark] .colab-df-convert:hover {\n",
              "      background-color: #434B5C;\n",
              "      box-shadow: 0px 1px 3px 1px rgba(0, 0, 0, 0.15);\n",
              "      filter: drop-shadow(0px 1px 2px rgba(0, 0, 0, 0.3));\n",
              "      fill: #FFFFFF;\n",
              "    }\n",
              "  </style>\n",
              "\n",
              "      <script>\n",
              "        const buttonEl =\n",
              "          document.querySelector('#df-f351f6ed-ca26-448e-9b83-dc41a8d402b5 button.colab-df-convert');\n",
              "        buttonEl.style.display =\n",
              "          google.colab.kernel.accessAllowed ? 'block' : 'none';\n",
              "\n",
              "        async function convertToInteractive(key) {\n",
              "          const element = document.querySelector('#df-f351f6ed-ca26-448e-9b83-dc41a8d402b5');\n",
              "          const dataTable =\n",
              "            await google.colab.kernel.invokeFunction('convertToInteractive',\n",
              "                                                     [key], {});\n",
              "          if (!dataTable) return;\n",
              "\n",
              "          const docLinkHtml = 'Like what you see? Visit the ' +\n",
              "            '<a target=\"_blank\" href=https://colab.research.google.com/notebooks/data_table.ipynb>data table notebook</a>'\n",
              "            + ' to learn more about interactive tables.';\n",
              "          element.innerHTML = '';\n",
              "          dataTable['output_type'] = 'display_data';\n",
              "          await google.colab.output.renderOutput(dataTable, element);\n",
              "          const docLink = document.createElement('div');\n",
              "          docLink.innerHTML = docLinkHtml;\n",
              "          element.appendChild(docLink);\n",
              "        }\n",
              "      </script>\n",
              "    </div>\n",
              "  </div>\n",
              "  "
            ]
          },
          "metadata": {},
          "execution_count": 30
        }
      ]
    },
    {
      "cell_type": "code",
      "source": [
        "# faz o pivot transformando as linhas de diferente labels em colunas\n",
        "reduced_df_grouped = reduced_df_grouped.pivot_table(index='date', columns='label', values='content')"
      ],
      "metadata": {
        "id": "5H6bwFA_O_4x"
      },
      "execution_count": null,
      "outputs": []
    },
    {
      "cell_type": "code",
      "source": [
        "#plota o gráfico\n",
        "reduced_df_grouped.plot(kind='bar', stacked=True, figsize=(20,10))"
      ],
      "metadata": {
        "colab": {
          "base_uri": "https://localhost:8080/",
          "height": 719
        },
        "id": "WCX5BIGaPqN4",
        "outputId": "944084c4-8073-4ff5-907d-7805808b2719"
      },
      "execution_count": null,
      "outputs": [
        {
          "output_type": "execute_result",
          "data": {
            "text/plain": [
              "<matplotlib.axes._subplots.AxesSubplot at 0x7fe29a75fc10>"
            ]
          },
          "metadata": {},
          "execution_count": 32
        },
        {
          "output_type": "display_data",
          "data": {
            "text/plain": [
              "<Figure size 1440x720 with 1 Axes>"
            ],
            "image/png": "[encoded data removed]"
          },
          "metadata": {
            "needs_background": "light"
          }
        }
      ]
    },
    {
      "cell_type": "code",
      "source": [
        "stacked_data = reduced_df_grouped.apply(lambda x: x*100/sum(x), axis=1)\n",
        "stacked_data.plot(kind=\"bar\", stacked=True,  figsize=(20,10))\n",
        "plt.title(\"Variação de sentimento\")\n",
        "plt.xlabel(\"Data\")\n",
        "plt.ylabel(\"Porcentagem de cada Sentimento\")"
      ],
      "metadata": {
        "colab": {
          "base_uri": "https://localhost:8080/",
          "height": 735
        },
        "id": "i-WZyDc4e4X0",
        "outputId": "f27ba1e2-7c44-462c-cf61-4d787737d901"
      },
      "execution_count": null,
      "outputs": [
        {
          "output_type": "execute_result",
          "data": {
            "text/plain": [
              "Text(0, 0.5, 'Porcentagem de cada Sentimento')"
            ]
          },
          "metadata": {},
          "execution_count": 34
        },
        {
          "output_type": "display_data",
          "data": {
            "text/plain": [
              "<Figure size 1440x720 with 1 Axes>"
            ],
            "image/png": "[encoded data removed]"
          },
          "metadata": {
            "needs_background": "light"
          }
        }
      ]
    }
  ]
}