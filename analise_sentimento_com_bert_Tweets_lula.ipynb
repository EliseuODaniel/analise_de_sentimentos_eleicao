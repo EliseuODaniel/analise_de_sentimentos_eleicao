{
  "nbformat": 4,
  "nbformat_minor": 0,
  "metadata": {
    "colab": {
      "provenance": [],
      "collapsed_sections": [],
      "include_colab_link": true
    },
    "kernelspec": {
      "name": "python3",
      "display_name": "Python 3"
    },
    "language_info": {
      "name": "python"
    },
    "gpuClass": "standard",
    "widgets": {
      "application/vnd.jupyter.widget-state+json": {
        "210b7be2d5704307811977f6f95e1a2b": {
          "model_module": "@jupyter-widgets/controls",
          "model_name": "HBoxModel",
          "model_module_version": "1.5.0",
          "state": {
            "_dom_classes": [],
            "_model_module": "@jupyter-widgets/controls",
            "_model_module_version": "1.5.0",
            "_model_name": "HBoxModel",
            "_view_count": null,
            "_view_module": "@jupyter-widgets/controls",
            "_view_module_version": "1.5.0",
            "_view_name": "HBoxView",
            "box_style": "",
            "children": [
              "IPY_MODEL_8b6854cb4f3b4c479692d0ee808ae70f",
              "IPY_MODEL_be550fb798764b758b8800bde15f6466",
              "IPY_MODEL_06ee8ca526a54d45ab1b8f3180380871"
            ],
            "layout": "IPY_MODEL_d8806be2e936446897226d2d6f424493"
          }
        },
        "8b6854cb4f3b4c479692d0ee808ae70f": {
          "model_module": "@jupyter-widgets/controls",
          "model_name": "HTMLModel",
          "model_module_version": "1.5.0",
          "state": {
            "_dom_classes": [],
            "_model_module": "@jupyter-widgets/controls",
            "_model_module_version": "1.5.0",
            "_model_name": "HTMLModel",
            "_view_count": null,
            "_view_module": "@jupyter-widgets/controls",
            "_view_module_version": "1.5.0",
            "_view_name": "HTMLView",
            "description": "",
            "description_tooltip": null,
            "layout": "IPY_MODEL_a91336be32304a22a11f1b507bb9f68d",
            "placeholder": "​",
            "style": "IPY_MODEL_ee80a267384045d28f09dd9d469eb09d",
            "value": "Downloading: 100%"
          }
        },
        "be550fb798764b758b8800bde15f6466": {
          "model_module": "@jupyter-widgets/controls",
          "model_name": "FloatProgressModel",
          "model_module_version": "1.5.0",
          "state": {
            "_dom_classes": [],
            "_model_module": "@jupyter-widgets/controls",
            "_model_module_version": "1.5.0",
            "_model_name": "FloatProgressModel",
            "_view_count": null,
            "_view_module": "@jupyter-widgets/controls",
            "_view_module_version": "1.5.0",
            "_view_name": "ProgressView",
            "bar_style": "success",
            "description": "",
            "description_tooltip": null,
            "layout": "IPY_MODEL_f09c45944536496ca10f41d6a664f2d2",
            "max": 155,
            "min": 0,
            "orientation": "horizontal",
            "style": "IPY_MODEL_cd5aa89c258d4372960fc3967d8fda58",
            "value": 155
          }
        },
        "06ee8ca526a54d45ab1b8f3180380871": {
          "model_module": "@jupyter-widgets/controls",
          "model_name": "HTMLModel",
          "model_module_version": "1.5.0",
          "state": {
            "_dom_classes": [],
            "_model_module": "@jupyter-widgets/controls",
            "_model_module_version": "1.5.0",
            "_model_name": "HTMLModel",
            "_view_count": null,
            "_view_module": "@jupyter-widgets/controls",
            "_view_module_version": "1.5.0",
            "_view_name": "HTMLView",
            "description": "",
            "description_tooltip": null,
            "layout": "IPY_MODEL_b227bfb82bd7428ab13d0a8cedeee11e",
            "placeholder": "​",
            "style": "IPY_MODEL_78d1f44424bf431a819a28f123db51fe",
            "value": " 155/155 [00:00&lt;00:00, 1.43kB/s]"
          }
        },
        "d8806be2e936446897226d2d6f424493": {
          "model_module": "@jupyter-widgets/base",
          "model_name": "LayoutModel",
          "model_module_version": "1.2.0",
          "state": {
            "_model_module": "@jupyter-widgets/base",
            "_model_module_version": "1.2.0",
            "_model_name": "LayoutModel",
            "_view_count": null,
            "_view_module": "@jupyter-widgets/base",
            "_view_module_version": "1.2.0",
            "_view_name": "LayoutView",
            "align_content": null,
            "align_items": null,
            "align_self": null,
            "border": null,
            "bottom": null,
            "display": null,
            "flex": null,
            "flex_flow": null,
            "grid_area": null,
            "grid_auto_columns": null,
            "grid_auto_flow": null,
            "grid_auto_rows": null,
            "grid_column": null,
            "grid_gap": null,
            "grid_row": null,
            "grid_template_areas": null,
            "grid_template_columns": null,
            "grid_template_rows": null,
            "height": null,
            "justify_content": null,
            "justify_items": null,
            "left": null,
            "margin": null,
            "max_height": null,
            "max_width": null,
            "min_height": null,
            "min_width": null,
            "object_fit": null,
            "object_position": null,
            "order": null,
            "overflow": null,
            "overflow_x": null,
            "overflow_y": null,
            "padding": null,
            "right": null,
            "top": null,
            "visibility": null,
            "width": null
          }
        },
        "a91336be32304a22a11f1b507bb9f68d": {
          "model_module": "@jupyter-widgets/base",
          "model_name": "LayoutModel",
          "model_module_version": "1.2.0",
          "state": {
            "_model_module": "@jupyter-widgets/base",
            "_model_module_version": "1.2.0",
            "_model_name": "LayoutModel",
            "_view_count": null,
            "_view_module": "@jupyter-widgets/base",
            "_view_module_version": "1.2.0",
            "_view_name": "LayoutView",
            "align_content": null,
            "align_items": null,
            "align_self": null,
            "border": null,
            "bottom": null,
            "display": null,
            "flex": null,
            "flex_flow": null,
            "grid_area": null,
            "grid_auto_columns": null,
            "grid_auto_flow": null,
            "grid_auto_rows": null,
            "grid_column": null,
            "grid_gap": null,
            "grid_row": null,
            "grid_template_areas": null,
            "grid_template_columns": null,
            "grid_template_rows": null,
            "height": null,
            "justify_content": null,
            "justify_items": null,
            "left": null,
            "margin": null,
            "max_height": null,
            "max_width": null,
            "min_height": null,
            "min_width": null,
            "object_fit": null,
            "object_position": null,
            "order": null,
            "overflow": null,
            "overflow_x": null,
            "overflow_y": null,
            "padding": null,
            "right": null,
            "top": null,
            "visibility": null,
            "width": null
          }
        },
        "ee80a267384045d28f09dd9d469eb09d": {
          "model_module": "@jupyter-widgets/controls",
          "model_name": "DescriptionStyleModel",
          "model_module_version": "1.5.0",
          "state": {
            "_model_module": "@jupyter-widgets/controls",
            "_model_module_version": "1.5.0",
            "_model_name": "DescriptionStyleModel",
            "_view_count": null,
            "_view_module": "@jupyter-widgets/base",
            "_view_module_version": "1.2.0",
            "_view_name": "StyleView",
            "description_width": ""
          }
        },
        "f09c45944536496ca10f41d6a664f2d2": {
          "model_module": "@jupyter-widgets/base",
          "model_name": "LayoutModel",
          "model_module_version": "1.2.0",
          "state": {
            "_model_module": "@jupyter-widgets/base",
            "_model_module_version": "1.2.0",
            "_model_name": "LayoutModel",
            "_view_count": null,
            "_view_module": "@jupyter-widgets/base",
            "_view_module_version": "1.2.0",
            "_view_name": "LayoutView",
            "align_content": null,
            "align_items": null,
            "align_self": null,
            "border": null,
            "bottom": null,
            "display": null,
            "flex": null,
            "flex_flow": null,
            "grid_area": null,
            "grid_auto_columns": null,
            "grid_auto_flow": null,
            "grid_auto_rows": null,
            "grid_column": null,
            "grid_gap": null,
            "grid_row": null,
            "grid_template_areas": null,
            "grid_template_columns": null,
            "grid_template_rows": null,
            "height": null,
            "justify_content": null,
            "justify_items": null,
            "left": null,
            "margin": null,
            "max_height": null,
            "max_width": null,
            "min_height": null,
            "min_width": null,
            "object_fit": null,
            "object_position": null,
            "order": null,
            "overflow": null,
            "overflow_x": null,
            "overflow_y": null,
            "padding": null,
            "right": null,
            "top": null,
            "visibility": null,
            "width": null
          }
        },
        "cd5aa89c258d4372960fc3967d8fda58": {
          "model_module": "@jupyter-widgets/controls",
          "model_name": "ProgressStyleModel",
          "model_module_version": "1.5.0",
          "state": {
            "_model_module": "@jupyter-widgets/controls",
            "_model_module_version": "1.5.0",
            "_model_name": "ProgressStyleModel",
            "_view_count": null,
            "_view_module": "@jupyter-widgets/base",
            "_view_module_version": "1.2.0",
            "_view_name": "StyleView",
            "bar_color": null,
            "description_width": ""
          }
        },
        "b227bfb82bd7428ab13d0a8cedeee11e": {
          "model_module": "@jupyter-widgets/base",
          "model_name": "LayoutModel",
          "model_module_version": "1.2.0",
          "state": {
            "_model_module": "@jupyter-widgets/base",
            "_model_module_version": "1.2.0",
            "_model_name": "LayoutModel",
            "_view_count": null,
            "_view_module": "@jupyter-widgets/base",
            "_view_module_version": "1.2.0",
            "_view_name": "LayoutView",
            "align_content": null,
            "align_items": null,
            "align_self": null,
            "border": null,
            "bottom": null,
            "display": null,
            "flex": null,
            "flex_flow": null,
            "grid_area": null,
            "grid_auto_columns": null,
            "grid_auto_flow": null,
            "grid_auto_rows": null,
            "grid_column": null,
            "grid_gap": null,
            "grid_row": null,
            "grid_template_areas": null,
            "grid_template_columns": null,
            "grid_template_rows": null,
            "height": null,
            "justify_content": null,
            "justify_items": null,
            "left": null,
            "margin": null,
            "max_height": null,
            "max_width": null,
            "min_height": null,
            "min_width": null,
            "object_fit": null,
            "object_position": null,
            "order": null,
            "overflow": null,
            "overflow_x": null,
            "overflow_y": null,
            "padding": null,
            "right": null,
            "top": null,
            "visibility": null,
            "width": null
          }
        },
        "78d1f44424bf431a819a28f123db51fe": {
          "model_module": "@jupyter-widgets/controls",
          "model_name": "DescriptionStyleModel",
          "model_module_version": "1.5.0",
          "state": {
            "_model_module": "@jupyter-widgets/controls",
            "_model_module_version": "1.5.0",
            "_model_name": "DescriptionStyleModel",
            "_view_count": null,
            "_view_module": "@jupyter-widgets/base",
            "_view_module_version": "1.2.0",
            "_view_name": "StyleView",
            "description_width": ""
          }
        },
        "5bb2e6f74de742c1a5f32cdabfcbb7b7": {
          "model_module": "@jupyter-widgets/controls",
          "model_name": "HBoxModel",
          "model_module_version": "1.5.0",
          "state": {
            "_dom_classes": [],
            "_model_module": "@jupyter-widgets/controls",
            "_model_module_version": "1.5.0",
            "_model_name": "HBoxModel",
            "_view_count": null,
            "_view_module": "@jupyter-widgets/controls",
            "_view_module_version": "1.5.0",
            "_view_name": "HBoxView",
            "box_style": "",
            "children": [
              "IPY_MODEL_989197cf22c44d4883c6b5a0b7977573",
              "IPY_MODEL_ed050e6ad11c41eaaf86de2fe02562e6",
              "IPY_MODEL_97fd8e0f0fa943aea8ade679f9759fe0"
            ],
            "layout": "IPY_MODEL_8cfdf514304442c78025e316a47492b9"
          }
        },
        "989197cf22c44d4883c6b5a0b7977573": {
          "model_module": "@jupyter-widgets/controls",
          "model_name": "HTMLModel",
          "model_module_version": "1.5.0",
          "state": {
            "_dom_classes": [],
            "_model_module": "@jupyter-widgets/controls",
            "_model_module_version": "1.5.0",
            "_model_name": "HTMLModel",
            "_view_count": null,
            "_view_module": "@jupyter-widgets/controls",
            "_view_module_version": "1.5.0",
            "_view_name": "HTMLView",
            "description": "",
            "description_tooltip": null,
            "layout": "IPY_MODEL_b8b1eac1935148299a4e732e4d886952",
            "placeholder": "​",
            "style": "IPY_MODEL_7b81fb664bcf48e78f321cd819c70a22",
            "value": "Downloading: 100%"
          }
        },
        "ed050e6ad11c41eaaf86de2fe02562e6": {
          "model_module": "@jupyter-widgets/controls",
          "model_name": "FloatProgressModel",
          "model_module_version": "1.5.0",
          "state": {
            "_dom_classes": [],
            "_model_module": "@jupyter-widgets/controls",
            "_model_module_version": "1.5.0",
            "_model_name": "FloatProgressModel",
            "_view_count": null,
            "_view_module": "@jupyter-widgets/controls",
            "_view_module_version": "1.5.0",
            "_view_name": "ProgressView",
            "bar_style": "success",
            "description": "",
            "description_tooltip": null,
            "layout": "IPY_MODEL_3703ca2d4e6a49d4beb8937ba4d44996",
            "max": 648,
            "min": 0,
            "orientation": "horizontal",
            "style": "IPY_MODEL_6acd20f8fa824cc1ad20f9b3c6fc1b9a",
            "value": 648
          }
        },
        "97fd8e0f0fa943aea8ade679f9759fe0": {
          "model_module": "@jupyter-widgets/controls",
          "model_name": "HTMLModel",
          "model_module_version": "1.5.0",
          "state": {
            "_dom_classes": [],
            "_model_module": "@jupyter-widgets/controls",
            "_model_module_version": "1.5.0",
            "_model_name": "HTMLModel",
            "_view_count": null,
            "_view_module": "@jupyter-widgets/controls",
            "_view_module_version": "1.5.0",
            "_view_name": "HTMLView",
            "description": "",
            "description_tooltip": null,
            "layout": "IPY_MODEL_393ca1a6849144e1a099cc6022023ee8",
            "placeholder": "​",
            "style": "IPY_MODEL_188ad161eeb74502b9754c25a6efa118",
            "value": " 648/648 [00:00&lt;00:00, 5.82kB/s]"
          }
        },
        "8cfdf514304442c78025e316a47492b9": {
          "model_module": "@jupyter-widgets/base",
          "model_name": "LayoutModel",
          "model_module_version": "1.2.0",
          "state": {
            "_model_module": "@jupyter-widgets/base",
            "_model_module_version": "1.2.0",
            "_model_name": "LayoutModel",
            "_view_count": null,
            "_view_module": "@jupyter-widgets/base",
            "_view_module_version": "1.2.0",
            "_view_name": "LayoutView",
            "align_content": null,
            "align_items": null,
            "align_self": null,
            "border": null,
            "bottom": null,
            "display": null,
            "flex": null,
            "flex_flow": null,
            "grid_area": null,
            "grid_auto_columns": null,
            "grid_auto_flow": null,
            "grid_auto_rows": null,
            "grid_column": null,
            "grid_gap": null,
            "grid_row": null,
            "grid_template_areas": null,
            "grid_template_columns": null,
            "grid_template_rows": null,
            "height": null,
            "justify_content": null,
            "justify_items": null,
            "left": null,
            "margin": null,
            "max_height": null,
            "max_width": null,
            "min_height": null,
            "min_width": null,
            "object_fit": null,
            "object_position": null,
            "order": null,
            "overflow": null,
            "overflow_x": null,
            "overflow_y": null,
            "padding": null,
            "right": null,
            "top": null,
            "visibility": null,
            "width": null
          }
        },
        "b8b1eac1935148299a4e732e4d886952": {
          "model_module": "@jupyter-widgets/base",
          "model_name": "LayoutModel",
          "model_module_version": "1.2.0",
          "state": {
            "_model_module": "@jupyter-widgets/base",
            "_model_module_version": "1.2.0",
            "_model_name": "LayoutModel",
            "_view_count": null,
            "_view_module": "@jupyter-widgets/base",
            "_view_module_version": "1.2.0",
            "_view_name": "LayoutView",
            "align_content": null,
            "align_items": null,
            "align_self": null,
            "border": null,
            "bottom": null,
            "display": null,
            "flex": null,
            "flex_flow": null,
            "grid_area": null,
            "grid_auto_columns": null,
            "grid_auto_flow": null,
            "grid_auto_rows": null,
            "grid_column": null,
            "grid_gap": null,
            "grid_row": null,
            "grid_template_areas": null,
            "grid_template_columns": null,
            "grid_template_rows": null,
            "height": null,
            "justify_content": null,
            "justify_items": null,
            "left": null,
            "margin": null,
            "max_height": null,
            "max_width": null,
            "min_height": null,
            "min_width": null,
            "object_fit": null,
            "object_position": null,
            "order": null,
            "overflow": null,
            "overflow_x": null,
            "overflow_y": null,
            "padding": null,
            "right": null,
            "top": null,
            "visibility": null,
            "width": null
          }
        },
        "7b81fb664bcf48e78f321cd819c70a22": {
          "model_module": "@jupyter-widgets/controls",
          "model_name": "DescriptionStyleModel",
          "model_module_version": "1.5.0",
          "state": {
            "_model_module": "@jupyter-widgets/controls",
            "_model_module_version": "1.5.0",
            "_model_name": "DescriptionStyleModel",
            "_view_count": null,
            "_view_module": "@jupyter-widgets/base",
            "_view_module_version": "1.2.0",
            "_view_name": "StyleView",
            "description_width": ""
          }
        },
        "3703ca2d4e6a49d4beb8937ba4d44996": {
          "model_module": "@jupyter-widgets/base",
          "model_name": "LayoutModel",
          "model_module_version": "1.2.0",
          "state": {
            "_model_module": "@jupyter-widgets/base",
            "_model_module_version": "1.2.0",
            "_model_name": "LayoutModel",
            "_view_count": null,
            "_view_module": "@jupyter-widgets/base",
            "_view_module_version": "1.2.0",
            "_view_name": "LayoutView",
            "align_content": null,
            "align_items": null,
            "align_self": null,
            "border": null,
            "bottom": null,
            "display": null,
            "flex": null,
            "flex_flow": null,
            "grid_area": null,
            "grid_auto_columns": null,
            "grid_auto_flow": null,
            "grid_auto_rows": null,
            "grid_column": null,
            "grid_gap": null,
            "grid_row": null,
            "grid_template_areas": null,
            "grid_template_columns": null,
            "grid_template_rows": null,
            "height": null,
            "justify_content": null,
            "justify_items": null,
            "left": null,
            "margin": null,
            "max_height": null,
            "max_width": null,
            "min_height": null,
            "min_width": null,
            "object_fit": null,
            "object_position": null,
            "order": null,
            "overflow": null,
            "overflow_x": null,
            "overflow_y": null,
            "padding": null,
            "right": null,
            "top": null,
            "visibility": null,
            "width": null
          }
        },
        "6acd20f8fa824cc1ad20f9b3c6fc1b9a": {
          "model_module": "@jupyter-widgets/controls",
          "model_name": "ProgressStyleModel",
          "model_module_version": "1.5.0",
          "state": {
            "_model_module": "@jupyter-widgets/controls",
            "_model_module_version": "1.5.0",
            "_model_name": "ProgressStyleModel",
            "_view_count": null,
            "_view_module": "@jupyter-widgets/base",
            "_view_module_version": "1.2.0",
            "_view_name": "StyleView",
            "bar_color": null,
            "description_width": ""
          }
        },
        "393ca1a6849144e1a099cc6022023ee8": {
          "model_module": "@jupyter-widgets/base",
          "model_name": "LayoutModel",
          "model_module_version": "1.2.0",
          "state": {
            "_model_module": "@jupyter-widgets/base",
            "_model_module_version": "1.2.0",
            "_model_name": "LayoutModel",
            "_view_count": null,
            "_view_module": "@jupyter-widgets/base",
            "_view_module_version": "1.2.0",
            "_view_name": "LayoutView",
            "align_content": null,
            "align_items": null,
            "align_self": null,
            "border": null,
            "bottom": null,
            "display": null,
            "flex": null,
            "flex_flow": null,
            "grid_area": null,
            "grid_auto_columns": null,
            "grid_auto_flow": null,
            "grid_auto_rows": null,
            "grid_column": null,
            "grid_gap": null,
            "grid_row": null,
            "grid_template_areas": null,
            "grid_template_columns": null,
            "grid_template_rows": null,
            "height": null,
            "justify_content": null,
            "justify_items": null,
            "left": null,
            "margin": null,
            "max_height": null,
            "max_width": null,
            "min_height": null,
            "min_width": null,
            "object_fit": null,
            "object_position": null,
            "order": null,
            "overflow": null,
            "overflow_x": null,
            "overflow_y": null,
            "padding": null,
            "right": null,
            "top": null,
            "visibility": null,
            "width": null
          }
        },
        "188ad161eeb74502b9754c25a6efa118": {
          "model_module": "@jupyter-widgets/controls",
          "model_name": "DescriptionStyleModel",
          "model_module_version": "1.5.0",
          "state": {
            "_model_module": "@jupyter-widgets/controls",
            "_model_module_version": "1.5.0",
            "_model_name": "DescriptionStyleModel",
            "_view_count": null,
            "_view_module": "@jupyter-widgets/base",
            "_view_module_version": "1.2.0",
            "_view_name": "StyleView",
            "description_width": ""
          }
        },
        "b24a1dba95aa4161b9d0ebebfd82b9f0": {
          "model_module": "@jupyter-widgets/controls",
          "model_name": "HBoxModel",
          "model_module_version": "1.5.0",
          "state": {
            "_dom_classes": [],
            "_model_module": "@jupyter-widgets/controls",
            "_model_module_version": "1.5.0",
            "_model_name": "HBoxModel",
            "_view_count": null,
            "_view_module": "@jupyter-widgets/controls",
            "_view_module_version": "1.5.0",
            "_view_name": "HBoxView",
            "box_style": "",
            "children": [
              "IPY_MODEL_8bd2bdac39104559abe48b1f093a1f5d",
              "IPY_MODEL_70313b3fa9664cc28c44809e8efc76ff",
              "IPY_MODEL_8641e05dfb6a4b31a6cf405c9eeeda09"
            ],
            "layout": "IPY_MODEL_a4a1529775aa46c0a28142de8c0f2391"
          }
        },
        "8bd2bdac39104559abe48b1f093a1f5d": {
          "model_module": "@jupyter-widgets/controls",
          "model_name": "HTMLModel",
          "model_module_version": "1.5.0",
          "state": {
            "_dom_classes": [],
            "_model_module": "@jupyter-widgets/controls",
            "_model_module_version": "1.5.0",
            "_model_name": "HTMLModel",
            "_view_count": null,
            "_view_module": "@jupyter-widgets/controls",
            "_view_module_version": "1.5.0",
            "_view_name": "HTMLView",
            "description": "",
            "description_tooltip": null,
            "layout": "IPY_MODEL_632ad8cf9ab44037aedb539dc78e6cd0",
            "placeholder": "​",
            "style": "IPY_MODEL_a39604307ba74a16935da4914a394aa2",
            "value": "Downloading: 100%"
          }
        },
        "70313b3fa9664cc28c44809e8efc76ff": {
          "model_module": "@jupyter-widgets/controls",
          "model_name": "FloatProgressModel",
          "model_module_version": "1.5.0",
          "state": {
            "_dom_classes": [],
            "_model_module": "@jupyter-widgets/controls",
            "_model_module_version": "1.5.0",
            "_model_name": "FloatProgressModel",
            "_view_count": null,
            "_view_module": "@jupyter-widgets/controls",
            "_view_module_version": "1.5.0",
            "_view_name": "ProgressView",
            "bar_style": "success",
            "description": "",
            "description_tooltip": null,
            "layout": "IPY_MODEL_0b06eb67d5f2410480c2a2f962b1257e",
            "max": 209528,
            "min": 0,
            "orientation": "horizontal",
            "style": "IPY_MODEL_a3a98c6ec6a841aea5491333d538a1a7",
            "value": 209528
          }
        },
        "8641e05dfb6a4b31a6cf405c9eeeda09": {
          "model_module": "@jupyter-widgets/controls",
          "model_name": "HTMLModel",
          "model_module_version": "1.5.0",
          "state": {
            "_dom_classes": [],
            "_model_module": "@jupyter-widgets/controls",
            "_model_module_version": "1.5.0",
            "_model_name": "HTMLModel",
            "_view_count": null,
            "_view_module": "@jupyter-widgets/controls",
            "_view_module_version": "1.5.0",
            "_view_name": "HTMLView",
            "description": "",
            "description_tooltip": null,
            "layout": "IPY_MODEL_55eebdab5b2b4900bb9a61c261013c6f",
            "placeholder": "​",
            "style": "IPY_MODEL_1fe536b0b3ad47ebb1fc764977afe2bd",
            "value": " 210k/210k [00:00&lt;00:00, 332kB/s]"
          }
        },
        "a4a1529775aa46c0a28142de8c0f2391": {
          "model_module": "@jupyter-widgets/base",
          "model_name": "LayoutModel",
          "model_module_version": "1.2.0",
          "state": {
            "_model_module": "@jupyter-widgets/base",
            "_model_module_version": "1.2.0",
            "_model_name": "LayoutModel",
            "_view_count": null,
            "_view_module": "@jupyter-widgets/base",
            "_view_module_version": "1.2.0",
            "_view_name": "LayoutView",
            "align_content": null,
            "align_items": null,
            "align_self": null,
            "border": null,
            "bottom": null,
            "display": null,
            "flex": null,
            "flex_flow": null,
            "grid_area": null,
            "grid_auto_columns": null,
            "grid_auto_flow": null,
            "grid_auto_rows": null,
            "grid_column": null,
            "grid_gap": null,
            "grid_row": null,
            "grid_template_areas": null,
            "grid_template_columns": null,
            "grid_template_rows": null,
            "height": null,
            "justify_content": null,
            "justify_items": null,
            "left": null,
            "margin": null,
            "max_height": null,
            "max_width": null,
            "min_height": null,
            "min_width": null,
            "object_fit": null,
            "object_position": null,
            "order": null,
            "overflow": null,
            "overflow_x": null,
            "overflow_y": null,
            "padding": null,
            "right": null,
            "top": null,
            "visibility": null,
            "width": null
          }
        },
        "632ad8cf9ab44037aedb539dc78e6cd0": {
          "model_module": "@jupyter-widgets/base",
          "model_name": "LayoutModel",
          "model_module_version": "1.2.0",
          "state": {
            "_model_module": "@jupyter-widgets/base",
            "_model_module_version": "1.2.0",
            "_model_name": "LayoutModel",
            "_view_count": null,
            "_view_module": "@jupyter-widgets/base",
            "_view_module_version": "1.2.0",
            "_view_name": "LayoutView",
            "align_content": null,
            "align_items": null,
            "align_self": null,
            "border": null,
            "bottom": null,
            "display": null,
            "flex": null,
            "flex_flow": null,
            "grid_area": null,
            "grid_auto_columns": null,
            "grid_auto_flow": null,
            "grid_auto_rows": null,
            "grid_column": null,
            "grid_gap": null,
            "grid_row": null,
            "grid_template_areas": null,
            "grid_template_columns": null,
            "grid_template_rows": null,
            "height": null,
            "justify_content": null,
            "justify_items": null,
            "left": null,
            "margin": null,
            "max_height": null,
            "max_width": null,
            "min_height": null,
            "min_width": null,
            "object_fit": null,
            "object_position": null,
            "order": null,
            "overflow": null,
            "overflow_x": null,
            "overflow_y": null,
            "padding": null,
            "right": null,
            "top": null,
            "visibility": null,
            "width": null
          }
        },
        "a39604307ba74a16935da4914a394aa2": {
          "model_module": "@jupyter-widgets/controls",
          "model_name": "DescriptionStyleModel",
          "model_module_version": "1.5.0",
          "state": {
            "_model_module": "@jupyter-widgets/controls",
            "_model_module_version": "1.5.0",
            "_model_name": "DescriptionStyleModel",
            "_view_count": null,
            "_view_module": "@jupyter-widgets/base",
            "_view_module_version": "1.2.0",
            "_view_name": "StyleView",
            "description_width": ""
          }
        },
        "0b06eb67d5f2410480c2a2f962b1257e": {
          "model_module": "@jupyter-widgets/base",
          "model_name": "LayoutModel",
          "model_module_version": "1.2.0",
          "state": {
            "_model_module": "@jupyter-widgets/base",
            "_model_module_version": "1.2.0",
            "_model_name": "LayoutModel",
            "_view_count": null,
            "_view_module": "@jupyter-widgets/base",
            "_view_module_version": "1.2.0",
            "_view_name": "LayoutView",
            "align_content": null,
            "align_items": null,
            "align_self": null,
            "border": null,
            "bottom": null,
            "display": null,
            "flex": null,
            "flex_flow": null,
            "grid_area": null,
            "grid_auto_columns": null,
            "grid_auto_flow": null,
            "grid_auto_rows": null,
            "grid_column": null,
            "grid_gap": null,
            "grid_row": null,
            "grid_template_areas": null,
            "grid_template_columns": null,
            "grid_template_rows": null,
            "height": null,
            "justify_content": null,
            "justify_items": null,
            "left": null,
            "margin": null,
            "max_height": null,
            "max_width": null,
            "min_height": null,
            "min_width": null,
            "object_fit": null,
            "object_position": null,
            "order": null,
            "overflow": null,
            "overflow_x": null,
            "overflow_y": null,
            "padding": null,
            "right": null,
            "top": null,
            "visibility": null,
            "width": null
          }
        },
        "a3a98c6ec6a841aea5491333d538a1a7": {
          "model_module": "@jupyter-widgets/controls",
          "model_name": "ProgressStyleModel",
          "model_module_version": "1.5.0",
          "state": {
            "_model_module": "@jupyter-widgets/controls",
            "_model_module_version": "1.5.0",
            "_model_name": "ProgressStyleModel",
            "_view_count": null,
            "_view_module": "@jupyter-widgets/base",
            "_view_module_version": "1.2.0",
            "_view_name": "StyleView",
            "bar_color": null,
            "description_width": ""
          }
        },
        "55eebdab5b2b4900bb9a61c261013c6f": {
          "model_module": "@jupyter-widgets/base",
          "model_name": "LayoutModel",
          "model_module_version": "1.2.0",
          "state": {
            "_model_module": "@jupyter-widgets/base",
            "_model_module_version": "1.2.0",
            "_model_name": "LayoutModel",
            "_view_count": null,
            "_view_module": "@jupyter-widgets/base",
            "_view_module_version": "1.2.0",
            "_view_name": "LayoutView",
            "align_content": null,
            "align_items": null,
            "align_self": null,
            "border": null,
            "bottom": null,
            "display": null,
            "flex": null,
            "flex_flow": null,
            "grid_area": null,
            "grid_auto_columns": null,
            "grid_auto_flow": null,
            "grid_auto_rows": null,
            "grid_column": null,
            "grid_gap": null,
            "grid_row": null,
            "grid_template_areas": null,
            "grid_template_columns": null,
            "grid_template_rows": null,
            "height": null,
            "justify_content": null,
            "justify_items": null,
            "left": null,
            "margin": null,
            "max_height": null,
            "max_width": null,
            "min_height": null,
            "min_width": null,
            "object_fit": null,
            "object_position": null,
            "order": null,
            "overflow": null,
            "overflow_x": null,
            "overflow_y": null,
            "padding": null,
            "right": null,
            "top": null,
            "visibility": null,
            "width": null
          }
        },
        "1fe536b0b3ad47ebb1fc764977afe2bd": {
          "model_module": "@jupyter-widgets/controls",
          "model_name": "DescriptionStyleModel",
          "model_module_version": "1.5.0",
          "state": {
            "_model_module": "@jupyter-widgets/controls",
            "_model_module_version": "1.5.0",
            "_model_name": "DescriptionStyleModel",
            "_view_count": null,
            "_view_module": "@jupyter-widgets/base",
            "_view_module_version": "1.2.0",
            "_view_name": "StyleView",
            "description_width": ""
          }
        },
        "964c956fcef84a5b820855369807caa3": {
          "model_module": "@jupyter-widgets/controls",
          "model_name": "HBoxModel",
          "model_module_version": "1.5.0",
          "state": {
            "_dom_classes": [],
            "_model_module": "@jupyter-widgets/controls",
            "_model_module_version": "1.5.0",
            "_model_name": "HBoxModel",
            "_view_count": null,
            "_view_module": "@jupyter-widgets/controls",
            "_view_module_version": "1.5.0",
            "_view_name": "HBoxView",
            "box_style": "",
            "children": [
              "IPY_MODEL_9cc1f8fbf578429abc2d102d0d7424fc",
              "IPY_MODEL_68df31bc429f435abcbe2c5584dbd546",
              "IPY_MODEL_ce83727c939b43ff8d83d57450e50e89"
            ],
            "layout": "IPY_MODEL_6ed37cdb4b304f9ba6abcde815765f10"
          }
        },
        "9cc1f8fbf578429abc2d102d0d7424fc": {
          "model_module": "@jupyter-widgets/controls",
          "model_name": "HTMLModel",
          "model_module_version": "1.5.0",
          "state": {
            "_dom_classes": [],
            "_model_module": "@jupyter-widgets/controls",
            "_model_module_version": "1.5.0",
            "_model_name": "HTMLModel",
            "_view_count": null,
            "_view_module": "@jupyter-widgets/controls",
            "_view_module_version": "1.5.0",
            "_view_name": "HTMLView",
            "description": "",
            "description_tooltip": null,
            "layout": "IPY_MODEL_d4e535c6119949eebaa348052d7e7793",
            "placeholder": "​",
            "style": "IPY_MODEL_632697221a1f44149100cf0a81d42459",
            "value": "Downloading: 100%"
          }
        },
        "68df31bc429f435abcbe2c5584dbd546": {
          "model_module": "@jupyter-widgets/controls",
          "model_name": "FloatProgressModel",
          "model_module_version": "1.5.0",
          "state": {
            "_dom_classes": [],
            "_model_module": "@jupyter-widgets/controls",
            "_model_module_version": "1.5.0",
            "_model_name": "FloatProgressModel",
            "_view_count": null,
            "_view_module": "@jupyter-widgets/controls",
            "_view_module_version": "1.5.0",
            "_view_name": "ProgressView",
            "bar_style": "success",
            "description": "",
            "description_tooltip": null,
            "layout": "IPY_MODEL_539a079733574a1387770fd0408c9735",
            "max": 2,
            "min": 0,
            "orientation": "horizontal",
            "style": "IPY_MODEL_b1a3be71f6cf486e84f1a3c8fcc10f8a",
            "value": 2
          }
        },
        "ce83727c939b43ff8d83d57450e50e89": {
          "model_module": "@jupyter-widgets/controls",
          "model_name": "HTMLModel",
          "model_module_version": "1.5.0",
          "state": {
            "_dom_classes": [],
            "_model_module": "@jupyter-widgets/controls",
            "_model_module_version": "1.5.0",
            "_model_name": "HTMLModel",
            "_view_count": null,
            "_view_module": "@jupyter-widgets/controls",
            "_view_module_version": "1.5.0",
            "_view_name": "HTMLView",
            "description": "",
            "description_tooltip": null,
            "layout": "IPY_MODEL_52c7113bcce94f0aa6ba4c116f69bf89",
            "placeholder": "​",
            "style": "IPY_MODEL_4f672cac3b9749b296e4e386c5475718",
            "value": " 2.00/2.00 [00:00&lt;00:00, 13.2B/s]"
          }
        },
        "6ed37cdb4b304f9ba6abcde815765f10": {
          "model_module": "@jupyter-widgets/base",
          "model_name": "LayoutModel",
          "model_module_version": "1.2.0",
          "state": {
            "_model_module": "@jupyter-widgets/base",
            "_model_module_version": "1.2.0",
            "_model_name": "LayoutModel",
            "_view_count": null,
            "_view_module": "@jupyter-widgets/base",
            "_view_module_version": "1.2.0",
            "_view_name": "LayoutView",
            "align_content": null,
            "align_items": null,
            "align_self": null,
            "border": null,
            "bottom": null,
            "display": null,
            "flex": null,
            "flex_flow": null,
            "grid_area": null,
            "grid_auto_columns": null,
            "grid_auto_flow": null,
            "grid_auto_rows": null,
            "grid_column": null,
            "grid_gap": null,
            "grid_row": null,
            "grid_template_areas": null,
            "grid_template_columns": null,
            "grid_template_rows": null,
            "height": null,
            "justify_content": null,
            "justify_items": null,
            "left": null,
            "margin": null,
            "max_height": null,
            "max_width": null,
            "min_height": null,
            "min_width": null,
            "object_fit": null,
            "object_position": null,
            "order": null,
            "overflow": null,
            "overflow_x": null,
            "overflow_y": null,
            "padding": null,
            "right": null,
            "top": null,
            "visibility": null,
            "width": null
          }
        },
        "d4e535c6119949eebaa348052d7e7793": {
          "model_module": "@jupyter-widgets/base",
          "model_name": "LayoutModel",
          "model_module_version": "1.2.0",
          "state": {
            "_model_module": "@jupyter-widgets/base",
            "_model_module_version": "1.2.0",
            "_model_name": "LayoutModel",
            "_view_count": null,
            "_view_module": "@jupyter-widgets/base",
            "_view_module_version": "1.2.0",
            "_view_name": "LayoutView",
            "align_content": null,
            "align_items": null,
            "align_self": null,
            "border": null,
            "bottom": null,
            "display": null,
            "flex": null,
            "flex_flow": null,
            "grid_area": null,
            "grid_auto_columns": null,
            "grid_auto_flow": null,
            "grid_auto_rows": null,
            "grid_column": null,
            "grid_gap": null,
            "grid_row": null,
            "grid_template_areas": null,
            "grid_template_columns": null,
            "grid_template_rows": null,
            "height": null,
            "justify_content": null,
            "justify_items": null,
            "left": null,
            "margin": null,
            "max_height": null,
            "max_width": null,
            "min_height": null,
            "min_width": null,
            "object_fit": null,
            "object_position": null,
            "order": null,
            "overflow": null,
            "overflow_x": null,
            "overflow_y": null,
            "padding": null,
            "right": null,
            "top": null,
            "visibility": null,
            "width": null
          }
        },
        "632697221a1f44149100cf0a81d42459": {
          "model_module": "@jupyter-widgets/controls",
          "model_name": "DescriptionStyleModel",
          "model_module_version": "1.5.0",
          "state": {
            "_model_module": "@jupyter-widgets/controls",
            "_model_module_version": "1.5.0",
            "_model_name": "DescriptionStyleModel",
            "_view_count": null,
            "_view_module": "@jupyter-widgets/base",
            "_view_module_version": "1.2.0",
            "_view_name": "StyleView",
            "description_width": ""
          }
        },
        "539a079733574a1387770fd0408c9735": {
          "model_module": "@jupyter-widgets/base",
          "model_name": "LayoutModel",
          "model_module_version": "1.2.0",
          "state": {
            "_model_module": "@jupyter-widgets/base",
            "_model_module_version": "1.2.0",
            "_model_name": "LayoutModel",
            "_view_count": null,
            "_view_module": "@jupyter-widgets/base",
            "_view_module_version": "1.2.0",
            "_view_name": "LayoutView",
            "align_content": null,
            "align_items": null,
            "align_self": null,
            "border": null,
            "bottom": null,
            "display": null,
            "flex": null,
            "flex_flow": null,
            "grid_area": null,
            "grid_auto_columns": null,
            "grid_auto_flow": null,
            "grid_auto_rows": null,
            "grid_column": null,
            "grid_gap": null,
            "grid_row": null,
            "grid_template_areas": null,
            "grid_template_columns": null,
            "grid_template_rows": null,
            "height": null,
            "justify_content": null,
            "justify_items": null,
            "left": null,
            "margin": null,
            "max_height": null,
            "max_width": null,
            "min_height": null,
            "min_width": null,
            "object_fit": null,
            "object_position": null,
            "order": null,
            "overflow": null,
            "overflow_x": null,
            "overflow_y": null,
            "padding": null,
            "right": null,
            "top": null,
            "visibility": null,
            "width": null
          }
        },
        "b1a3be71f6cf486e84f1a3c8fcc10f8a": {
          "model_module": "@jupyter-widgets/controls",
          "model_name": "ProgressStyleModel",
          "model_module_version": "1.5.0",
          "state": {
            "_model_module": "@jupyter-widgets/controls",
            "_model_module_version": "1.5.0",
            "_model_name": "ProgressStyleModel",
            "_view_count": null,
            "_view_module": "@jupyter-widgets/base",
            "_view_module_version": "1.2.0",
            "_view_name": "StyleView",
            "bar_color": null,
            "description_width": ""
          }
        },
        "52c7113bcce94f0aa6ba4c116f69bf89": {
          "model_module": "@jupyter-widgets/base",
          "model_name": "LayoutModel",
          "model_module_version": "1.2.0",
          "state": {
            "_model_module": "@jupyter-widgets/base",
            "_model_module_version": "1.2.0",
            "_model_name": "LayoutModel",
            "_view_count": null,
            "_view_module": "@jupyter-widgets/base",
            "_view_module_version": "1.2.0",
            "_view_name": "LayoutView",
            "align_content": null,
            "align_items": null,
            "align_self": null,
            "border": null,
            "bottom": null,
            "display": null,
            "flex": null,
            "flex_flow": null,
            "grid_area": null,
            "grid_auto_columns": null,
            "grid_auto_flow": null,
            "grid_auto_rows": null,
            "grid_column": null,
            "grid_gap": null,
            "grid_row": null,
            "grid_template_areas": null,
            "grid_template_columns": null,
            "grid_template_rows": null,
            "height": null,
            "justify_content": null,
            "justify_items": null,
            "left": null,
            "margin": null,
            "max_height": null,
            "max_width": null,
            "min_height": null,
            "min_width": null,
            "object_fit": null,
            "object_position": null,
            "order": null,
            "overflow": null,
            "overflow_x": null,
            "overflow_y": null,
            "padding": null,
            "right": null,
            "top": null,
            "visibility": null,
            "width": null
          }
        },
        "4f672cac3b9749b296e4e386c5475718": {
          "model_module": "@jupyter-widgets/controls",
          "model_name": "DescriptionStyleModel",
          "model_module_version": "1.5.0",
          "state": {
            "_model_module": "@jupyter-widgets/controls",
            "_model_module_version": "1.5.0",
            "_model_name": "DescriptionStyleModel",
            "_view_count": null,
            "_view_module": "@jupyter-widgets/base",
            "_view_module_version": "1.2.0",
            "_view_name": "StyleView",
            "description_width": ""
          }
        },
        "078556519d7849eeb6ddcbf1948e67f3": {
          "model_module": "@jupyter-widgets/controls",
          "model_name": "HBoxModel",
          "model_module_version": "1.5.0",
          "state": {
            "_dom_classes": [],
            "_model_module": "@jupyter-widgets/controls",
            "_model_module_version": "1.5.0",
            "_model_name": "HBoxModel",
            "_view_count": null,
            "_view_module": "@jupyter-widgets/controls",
            "_view_module_version": "1.5.0",
            "_view_name": "HBoxView",
            "box_style": "",
            "children": [
              "IPY_MODEL_b8e8bdd44cd44503bd7d5dd0957ae6be",
              "IPY_MODEL_15a069f668d34232ab9604201cf71722",
              "IPY_MODEL_5d71b391411b407dae4f4b861af4b22c"
            ],
            "layout": "IPY_MODEL_ebd8e3156f954119b6cd1851336e99e1"
          }
        },
        "b8e8bdd44cd44503bd7d5dd0957ae6be": {
          "model_module": "@jupyter-widgets/controls",
          "model_name": "HTMLModel",
          "model_module_version": "1.5.0",
          "state": {
            "_dom_classes": [],
            "_model_module": "@jupyter-widgets/controls",
            "_model_module_version": "1.5.0",
            "_model_name": "HTMLModel",
            "_view_count": null,
            "_view_module": "@jupyter-widgets/controls",
            "_view_module_version": "1.5.0",
            "_view_name": "HTMLView",
            "description": "",
            "description_tooltip": null,
            "layout": "IPY_MODEL_62057e6216f54abd9a7040e4472c95be",
            "placeholder": "​",
            "style": "IPY_MODEL_82a379af7b7d48ec9a9cd9ff156894b6",
            "value": "Downloading: 100%"
          }
        },
        "15a069f668d34232ab9604201cf71722": {
          "model_module": "@jupyter-widgets/controls",
          "model_name": "FloatProgressModel",
          "model_module_version": "1.5.0",
          "state": {
            "_dom_classes": [],
            "_model_module": "@jupyter-widgets/controls",
            "_model_module_version": "1.5.0",
            "_model_name": "FloatProgressModel",
            "_view_count": null,
            "_view_module": "@jupyter-widgets/controls",
            "_view_module_version": "1.5.0",
            "_view_name": "ProgressView",
            "bar_style": "success",
            "description": "",
            "description_tooltip": null,
            "layout": "IPY_MODEL_bdf78b08af4647d3821691fe83cc3f09",
            "max": 112,
            "min": 0,
            "orientation": "horizontal",
            "style": "IPY_MODEL_35b456d0189840abb455154c21ea5b40",
            "value": 112
          }
        },
        "5d71b391411b407dae4f4b861af4b22c": {
          "model_module": "@jupyter-widgets/controls",
          "model_name": "HTMLModel",
          "model_module_version": "1.5.0",
          "state": {
            "_dom_classes": [],
            "_model_module": "@jupyter-widgets/controls",
            "_model_module_version": "1.5.0",
            "_model_name": "HTMLModel",
            "_view_count": null,
            "_view_module": "@jupyter-widgets/controls",
            "_view_module_version": "1.5.0",
            "_view_name": "HTMLView",
            "description": "",
            "description_tooltip": null,
            "layout": "IPY_MODEL_8b9e6886a1834d93af783ccc52defead",
            "placeholder": "​",
            "style": "IPY_MODEL_cdc24116622f42c7b37f5a9880e601c6",
            "value": " 112/112 [00:00&lt;00:00, 1.49kB/s]"
          }
        },
        "ebd8e3156f954119b6cd1851336e99e1": {
          "model_module": "@jupyter-widgets/base",
          "model_name": "LayoutModel",
          "model_module_version": "1.2.0",
          "state": {
            "_model_module": "@jupyter-widgets/base",
            "_model_module_version": "1.2.0",
            "_model_name": "LayoutModel",
            "_view_count": null,
            "_view_module": "@jupyter-widgets/base",
            "_view_module_version": "1.2.0",
            "_view_name": "LayoutView",
            "align_content": null,
            "align_items": null,
            "align_self": null,
            "border": null,
            "bottom": null,
            "display": null,
            "flex": null,
            "flex_flow": null,
            "grid_area": null,
            "grid_auto_columns": null,
            "grid_auto_flow": null,
            "grid_auto_rows": null,
            "grid_column": null,
            "grid_gap": null,
            "grid_row": null,
            "grid_template_areas": null,
            "grid_template_columns": null,
            "grid_template_rows": null,
            "height": null,
            "justify_content": null,
            "justify_items": null,
            "left": null,
            "margin": null,
            "max_height": null,
            "max_width": null,
            "min_height": null,
            "min_width": null,
            "object_fit": null,
            "object_position": null,
            "order": null,
            "overflow": null,
            "overflow_x": null,
            "overflow_y": null,
            "padding": null,
            "right": null,
            "top": null,
            "visibility": null,
            "width": null
          }
        },
        "62057e6216f54abd9a7040e4472c95be": {
          "model_module": "@jupyter-widgets/base",
          "model_name": "LayoutModel",
          "model_module_version": "1.2.0",
          "state": {
            "_model_module": "@jupyter-widgets/base",
            "_model_module_version": "1.2.0",
            "_model_name": "LayoutModel",
            "_view_count": null,
            "_view_module": "@jupyter-widgets/base",
            "_view_module_version": "1.2.0",
            "_view_name": "LayoutView",
            "align_content": null,
            "align_items": null,
            "align_self": null,
            "border": null,
            "bottom": null,
            "display": null,
            "flex": null,
            "flex_flow": null,
            "grid_area": null,
            "grid_auto_columns": null,
            "grid_auto_flow": null,
            "grid_auto_rows": null,
            "grid_column": null,
            "grid_gap": null,
            "grid_row": null,
            "grid_template_areas": null,
            "grid_template_columns": null,
            "grid_template_rows": null,
            "height": null,
            "justify_content": null,
            "justify_items": null,
            "left": null,
            "margin": null,
            "max_height": null,
            "max_width": null,
            "min_height": null,
            "min_width": null,
            "object_fit": null,
            "object_position": null,
            "order": null,
            "overflow": null,
            "overflow_x": null,
            "overflow_y": null,
            "padding": null,
            "right": null,
            "top": null,
            "visibility": null,
            "width": null
          }
        },
        "82a379af7b7d48ec9a9cd9ff156894b6": {
          "model_module": "@jupyter-widgets/controls",
          "model_name": "DescriptionStyleModel",
          "model_module_version": "1.5.0",
          "state": {
            "_model_module": "@jupyter-widgets/controls",
            "_model_module_version": "1.5.0",
            "_model_name": "DescriptionStyleModel",
            "_view_count": null,
            "_view_module": "@jupyter-widgets/base",
            "_view_module_version": "1.2.0",
            "_view_name": "StyleView",
            "description_width": ""
          }
        },
        "bdf78b08af4647d3821691fe83cc3f09": {
          "model_module": "@jupyter-widgets/base",
          "model_name": "LayoutModel",
          "model_module_version": "1.2.0",
          "state": {
            "_model_module": "@jupyter-widgets/base",
            "_model_module_version": "1.2.0",
            "_model_name": "LayoutModel",
            "_view_count": null,
            "_view_module": "@jupyter-widgets/base",
            "_view_module_version": "1.2.0",
            "_view_name": "LayoutView",
            "align_content": null,
            "align_items": null,
            "align_self": null,
            "border": null,
            "bottom": null,
            "display": null,
            "flex": null,
            "flex_flow": null,
            "grid_area": null,
            "grid_auto_columns": null,
            "grid_auto_flow": null,
            "grid_auto_rows": null,
            "grid_column": null,
            "grid_gap": null,
            "grid_row": null,
            "grid_template_areas": null,
            "grid_template_columns": null,
            "grid_template_rows": null,
            "height": null,
            "justify_content": null,
            "justify_items": null,
            "left": null,
            "margin": null,
            "max_height": null,
            "max_width": null,
            "min_height": null,
            "min_width": null,
            "object_fit": null,
            "object_position": null,
            "order": null,
            "overflow": null,
            "overflow_x": null,
            "overflow_y": null,
            "padding": null,
            "right": null,
            "top": null,
            "visibility": null,
            "width": null
          }
        },
        "35b456d0189840abb455154c21ea5b40": {
          "model_module": "@jupyter-widgets/controls",
          "model_name": "ProgressStyleModel",
          "model_module_version": "1.5.0",
          "state": {
            "_model_module": "@jupyter-widgets/controls",
            "_model_module_version": "1.5.0",
            "_model_name": "ProgressStyleModel",
            "_view_count": null,
            "_view_module": "@jupyter-widgets/base",
            "_view_module_version": "1.2.0",
            "_view_name": "StyleView",
            "bar_color": null,
            "description_width": ""
          }
        },
        "8b9e6886a1834d93af783ccc52defead": {
          "model_module": "@jupyter-widgets/base",
          "model_name": "LayoutModel",
          "model_module_version": "1.2.0",
          "state": {
            "_model_module": "@jupyter-widgets/base",
            "_model_module_version": "1.2.0",
            "_model_name": "LayoutModel",
            "_view_count": null,
            "_view_module": "@jupyter-widgets/base",
            "_view_module_version": "1.2.0",
            "_view_name": "LayoutView",
            "align_content": null,
            "align_items": null,
            "align_self": null,
            "border": null,
            "bottom": null,
            "display": null,
            "flex": null,
            "flex_flow": null,
            "grid_area": null,
            "grid_auto_columns": null,
            "grid_auto_flow": null,
            "grid_auto_rows": null,
            "grid_column": null,
            "grid_gap": null,
            "grid_row": null,
            "grid_template_areas": null,
            "grid_template_columns": null,
            "grid_template_rows": null,
            "height": null,
            "justify_content": null,
            "justify_items": null,
            "left": null,
            "margin": null,
            "max_height": null,
            "max_width": null,
            "min_height": null,
            "min_width": null,
            "object_fit": null,
            "object_position": null,
            "order": null,
            "overflow": null,
            "overflow_x": null,
            "overflow_y": null,
            "padding": null,
            "right": null,
            "top": null,
            "visibility": null,
            "width": null
          }
        },
        "cdc24116622f42c7b37f5a9880e601c6": {
          "model_module": "@jupyter-widgets/controls",
          "model_name": "DescriptionStyleModel",
          "model_module_version": "1.5.0",
          "state": {
            "_model_module": "@jupyter-widgets/controls",
            "_model_module_version": "1.5.0",
            "_model_name": "DescriptionStyleModel",
            "_view_count": null,
            "_view_module": "@jupyter-widgets/base",
            "_view_module_version": "1.2.0",
            "_view_name": "StyleView",
            "description_width": ""
          }
        },
        "1f420bf7462b4095a1bf962cd74bb38e": {
          "model_module": "@jupyter-widgets/controls",
          "model_name": "HBoxModel",
          "model_module_version": "1.5.0",
          "state": {
            "_dom_classes": [],
            "_model_module": "@jupyter-widgets/controls",
            "_model_module_version": "1.5.0",
            "_model_name": "HBoxModel",
            "_view_count": null,
            "_view_module": "@jupyter-widgets/controls",
            "_view_module_version": "1.5.0",
            "_view_name": "HBoxView",
            "box_style": "",
            "children": [
              "IPY_MODEL_08b1b77708984395a4708f544c4fd03f",
              "IPY_MODEL_7fd27362894e4ff9801142a57b187a9f",
              "IPY_MODEL_940e12bb3fe44fa3877a7b5353f52128"
            ],
            "layout": "IPY_MODEL_3f6bf92b107c4147a51b61568f06c559"
          }
        },
        "08b1b77708984395a4708f544c4fd03f": {
          "model_module": "@jupyter-widgets/controls",
          "model_name": "HTMLModel",
          "model_module_version": "1.5.0",
          "state": {
            "_dom_classes": [],
            "_model_module": "@jupyter-widgets/controls",
            "_model_module_version": "1.5.0",
            "_model_name": "HTMLModel",
            "_view_count": null,
            "_view_module": "@jupyter-widgets/controls",
            "_view_module_version": "1.5.0",
            "_view_name": "HTMLView",
            "description": "",
            "description_tooltip": null,
            "layout": "IPY_MODEL_be9bc1adf0f045e7a581c0383748f64b",
            "placeholder": "​",
            "style": "IPY_MODEL_0015360c76dc452ba6bc239b59eabca2",
            "value": "Downloading: 100%"
          }
        },
        "7fd27362894e4ff9801142a57b187a9f": {
          "model_module": "@jupyter-widgets/controls",
          "model_name": "FloatProgressModel",
          "model_module_version": "1.5.0",
          "state": {
            "_dom_classes": [],
            "_model_module": "@jupyter-widgets/controls",
            "_model_module_version": "1.5.0",
            "_model_name": "FloatProgressModel",
            "_view_count": null,
            "_view_module": "@jupyter-widgets/controls",
            "_view_module_version": "1.5.0",
            "_view_name": "ProgressView",
            "bar_style": "success",
            "description": "",
            "description_tooltip": null,
            "layout": "IPY_MODEL_e872fe47cd2c43f4b044a32880d61053",
            "max": 1342014951,
            "min": 0,
            "orientation": "horizontal",
            "style": "IPY_MODEL_ad755ecd5d4c4b3db8ce328cd600bfb9",
            "value": 1342014951
          }
        },
        "940e12bb3fe44fa3877a7b5353f52128": {
          "model_module": "@jupyter-widgets/controls",
          "model_name": "HTMLModel",
          "model_module_version": "1.5.0",
          "state": {
            "_dom_classes": [],
            "_model_module": "@jupyter-widgets/controls",
            "_model_module_version": "1.5.0",
            "_model_name": "HTMLModel",
            "_view_count": null,
            "_view_module": "@jupyter-widgets/controls",
            "_view_module_version": "1.5.0",
            "_view_name": "HTMLView",
            "description": "",
            "description_tooltip": null,
            "layout": "IPY_MODEL_fb13a2e8c52b44e7aea9925c8189da57",
            "placeholder": "​",
            "style": "IPY_MODEL_634f8e2a93134c27830d6951821193fe",
            "value": " 1.34G/1.34G [00:33&lt;00:00, 62.7MB/s]"
          }
        },
        "3f6bf92b107c4147a51b61568f06c559": {
          "model_module": "@jupyter-widgets/base",
          "model_name": "LayoutModel",
          "model_module_version": "1.2.0",
          "state": {
            "_model_module": "@jupyter-widgets/base",
            "_model_module_version": "1.2.0",
            "_model_name": "LayoutModel",
            "_view_count": null,
            "_view_module": "@jupyter-widgets/base",
            "_view_module_version": "1.2.0",
            "_view_name": "LayoutView",
            "align_content": null,
            "align_items": null,
            "align_self": null,
            "border": null,
            "bottom": null,
            "display": null,
            "flex": null,
            "flex_flow": null,
            "grid_area": null,
            "grid_auto_columns": null,
            "grid_auto_flow": null,
            "grid_auto_rows": null,
            "grid_column": null,
            "grid_gap": null,
            "grid_row": null,
            "grid_template_areas": null,
            "grid_template_columns": null,
            "grid_template_rows": null,
            "height": null,
            "justify_content": null,
            "justify_items": null,
            "left": null,
            "margin": null,
            "max_height": null,
            "max_width": null,
            "min_height": null,
            "min_width": null,
            "object_fit": null,
            "object_position": null,
            "order": null,
            "overflow": null,
            "overflow_x": null,
            "overflow_y": null,
            "padding": null,
            "right": null,
            "top": null,
            "visibility": null,
            "width": null
          }
        },
        "be9bc1adf0f045e7a581c0383748f64b": {
          "model_module": "@jupyter-widgets/base",
          "model_name": "LayoutModel",
          "model_module_version": "1.2.0",
          "state": {
            "_model_module": "@jupyter-widgets/base",
            "_model_module_version": "1.2.0",
            "_model_name": "LayoutModel",
            "_view_count": null,
            "_view_module": "@jupyter-widgets/base",
            "_view_module_version": "1.2.0",
            "_view_name": "LayoutView",
            "align_content": null,
            "align_items": null,
            "align_self": null,
            "border": null,
            "bottom": null,
            "display": null,
            "flex": null,
            "flex_flow": null,
            "grid_area": null,
            "grid_auto_columns": null,
            "grid_auto_flow": null,
            "grid_auto_rows": null,
            "grid_column": null,
            "grid_gap": null,
            "grid_row": null,
            "grid_template_areas": null,
            "grid_template_columns": null,
            "grid_template_rows": null,
            "height": null,
            "justify_content": null,
            "justify_items": null,
            "left": null,
            "margin": null,
            "max_height": null,
            "max_width": null,
            "min_height": null,
            "min_width": null,
            "object_fit": null,
            "object_position": null,
            "order": null,
            "overflow": null,
            "overflow_x": null,
            "overflow_y": null,
            "padding": null,
            "right": null,
            "top": null,
            "visibility": null,
            "width": null
          }
        },
        "0015360c76dc452ba6bc239b59eabca2": {
          "model_module": "@jupyter-widgets/controls",
          "model_name": "DescriptionStyleModel",
          "model_module_version": "1.5.0",
          "state": {
            "_model_module": "@jupyter-widgets/controls",
            "_model_module_version": "1.5.0",
            "_model_name": "DescriptionStyleModel",
            "_view_count": null,
            "_view_module": "@jupyter-widgets/base",
            "_view_module_version": "1.2.0",
            "_view_name": "StyleView",
            "description_width": ""
          }
        },
        "e872fe47cd2c43f4b044a32880d61053": {
          "model_module": "@jupyter-widgets/base",
          "model_name": "LayoutModel",
          "model_module_version": "1.2.0",
          "state": {
            "_model_module": "@jupyter-widgets/base",
            "_model_module_version": "1.2.0",
            "_model_name": "LayoutModel",
            "_view_count": null,
            "_view_module": "@jupyter-widgets/base",
            "_view_module_version": "1.2.0",
            "_view_name": "LayoutView",
            "align_content": null,
            "align_items": null,
            "align_self": null,
            "border": null,
            "bottom": null,
            "display": null,
            "flex": null,
            "flex_flow": null,
            "grid_area": null,
            "grid_auto_columns": null,
            "grid_auto_flow": null,
            "grid_auto_rows": null,
            "grid_column": null,
            "grid_gap": null,
            "grid_row": null,
            "grid_template_areas": null,
            "grid_template_columns": null,
            "grid_template_rows": null,
            "height": null,
            "justify_content": null,
            "justify_items": null,
            "left": null,
            "margin": null,
            "max_height": null,
            "max_width": null,
            "min_height": null,
            "min_width": null,
            "object_fit": null,
            "object_position": null,
            "order": null,
            "overflow": null,
            "overflow_x": null,
            "overflow_y": null,
            "padding": null,
            "right": null,
            "top": null,
            "visibility": null,
            "width": null
          }
        },
        "ad755ecd5d4c4b3db8ce328cd600bfb9": {
          "model_module": "@jupyter-widgets/controls",
          "model_name": "ProgressStyleModel",
          "model_module_version": "1.5.0",
          "state": {
            "_model_module": "@jupyter-widgets/controls",
            "_model_module_version": "1.5.0",
            "_model_name": "ProgressStyleModel",
            "_view_count": null,
            "_view_module": "@jupyter-widgets/base",
            "_view_module_version": "1.2.0",
            "_view_name": "StyleView",
            "bar_color": null,
            "description_width": ""
          }
        },
        "fb13a2e8c52b44e7aea9925c8189da57": {
          "model_module": "@jupyter-widgets/base",
          "model_name": "LayoutModel",
          "model_module_version": "1.2.0",
          "state": {
            "_model_module": "@jupyter-widgets/base",
            "_model_module_version": "1.2.0",
            "_model_name": "LayoutModel",
            "_view_count": null,
            "_view_module": "@jupyter-widgets/base",
            "_view_module_version": "1.2.0",
            "_view_name": "LayoutView",
            "align_content": null,
            "align_items": null,
            "align_self": null,
            "border": null,
            "bottom": null,
            "display": null,
            "flex": null,
            "flex_flow": null,
            "grid_area": null,
            "grid_auto_columns": null,
            "grid_auto_flow": null,
            "grid_auto_rows": null,
            "grid_column": null,
            "grid_gap": null,
            "grid_row": null,
            "grid_template_areas": null,
            "grid_template_columns": null,
            "grid_template_rows": null,
            "height": null,
            "justify_content": null,
            "justify_items": null,
            "left": null,
            "margin": null,
            "max_height": null,
            "max_width": null,
            "min_height": null,
            "min_width": null,
            "object_fit": null,
            "object_position": null,
            "order": null,
            "overflow": null,
            "overflow_x": null,
            "overflow_y": null,
            "padding": null,
            "right": null,
            "top": null,
            "visibility": null,
            "width": null
          }
        },
        "634f8e2a93134c27830d6951821193fe": {
          "model_module": "@jupyter-widgets/controls",
          "model_name": "DescriptionStyleModel",
          "model_module_version": "1.5.0",
          "state": {
            "_model_module": "@jupyter-widgets/controls",
            "_model_module_version": "1.5.0",
            "_model_name": "DescriptionStyleModel",
            "_view_count": null,
            "_view_module": "@jupyter-widgets/base",
            "_view_module_version": "1.2.0",
            "_view_name": "StyleView",
            "description_width": ""
          }
        }
      }
    },
    "accelerator": "GPU"
  },
  "cells": [
    {
      "cell_type": "markdown",
      "metadata": {
        "id": "view-in-github",
        "colab_type": "text"
      },
      "source": [
        "<a href=\"https://colab.research.google.com/github/EliseuODaniel/analise_de_sentimentos_eleicao/blob/main/analise_sentimento_com_bert_Tweets_lula.ipynb\" target=\"_parent\"><img src=\"https://colab.research.google.com/assets/colab-badge.svg\" alt=\"Open In Colab\"/></a>"
      ]
    },
    {
      "cell_type": "markdown",
      "metadata": {
        "id": "1GJKpwl_v4b1"
      },
      "source": [
        "# Análise de sentimento com Bert\n",
        "\n",
        "## Projeto integrador"
      ]
    },
    {
      "cell_type": "markdown",
      "metadata": {
        "id": "k244ZRtr2hiZ"
      },
      "source": [
        "## Classificação de Texto\n",
        "\n",
        "utilização da arquitetura BERTimbau, versão em Português do BERT"
      ]
    },
    {
      "cell_type": "code",
      "source": [
        "from google.colab import drive\n",
        "drive.mount('/content/drive')"
      ],
      "metadata": {
        "colab": {
          "base_uri": "https://localhost:8080/"
        },
        "id": "WdH9k8R0gZ_1",
        "outputId": "0e2f3e31-f93d-4ec6-c5b6-ae45199c0824"
      },
      "execution_count": 1,
      "outputs": [
        {
          "output_type": "stream",
          "name": "stdout",
          "text": [
            "Mounted at /content/drive\n"
          ]
        }
      ]
    },
    {
      "cell_type": "code",
      "metadata": {
        "colab": {
          "base_uri": "https://localhost:8080/"
        },
        "id": "dfhiSp9Z3UXR",
        "outputId": "9e30e121-d33b-42dd-d611-9e19d1ca320b"
      },
      "source": [
        "!pip3 install transformers"
      ],
      "execution_count": 2,
      "outputs": [
        {
          "output_type": "stream",
          "name": "stdout",
          "text": [
            "Looking in indexes: https://pypi.org/simple, https://us-python.pkg.dev/colab-wheels/public/simple/\n",
            "Collecting transformers\n",
            "  Downloading transformers-4.24.0-py3-none-any.whl (5.5 MB)\n",
            "\u001b[K     |████████████████████████████████| 5.5 MB 15.6 MB/s \n",
            "\u001b[?25hCollecting tokenizers!=0.11.3,<0.14,>=0.11.1\n",
            "  Downloading tokenizers-0.13.2-cp37-cp37m-manylinux_2_17_x86_64.manylinux2014_x86_64.whl (7.6 MB)\n",
            "\u001b[K     |████████████████████████████████| 7.6 MB 49.3 MB/s \n",
            "\u001b[?25hRequirement already satisfied: filelock in /usr/local/lib/python3.7/dist-packages (from transformers) (3.8.0)\n",
            "Requirement already satisfied: regex!=2019.12.17 in /usr/local/lib/python3.7/dist-packages (from transformers) (2022.6.2)\n",
            "Requirement already satisfied: numpy>=1.17 in /usr/local/lib/python3.7/dist-packages (from transformers) (1.21.6)\n",
            "Requirement already satisfied: requests in /usr/local/lib/python3.7/dist-packages (from transformers) (2.23.0)\n",
            "Requirement already satisfied: packaging>=20.0 in /usr/local/lib/python3.7/dist-packages (from transformers) (21.3)\n",
            "Requirement already satisfied: pyyaml>=5.1 in /usr/local/lib/python3.7/dist-packages (from transformers) (6.0)\n",
            "Collecting huggingface-hub<1.0,>=0.10.0\n",
            "  Downloading huggingface_hub-0.10.1-py3-none-any.whl (163 kB)\n",
            "\u001b[K     |████████████████████████████████| 163 kB 60.6 MB/s \n",
            "\u001b[?25hRequirement already satisfied: tqdm>=4.27 in /usr/local/lib/python3.7/dist-packages (from transformers) (4.64.1)\n",
            "Requirement already satisfied: importlib-metadata in /usr/local/lib/python3.7/dist-packages (from transformers) (4.13.0)\n",
            "Requirement already satisfied: typing-extensions>=3.7.4.3 in /usr/local/lib/python3.7/dist-packages (from huggingface-hub<1.0,>=0.10.0->transformers) (4.1.1)\n",
            "Requirement already satisfied: pyparsing!=3.0.5,>=2.0.2 in /usr/local/lib/python3.7/dist-packages (from packaging>=20.0->transformers) (3.0.9)\n",
            "Requirement already satisfied: zipp>=0.5 in /usr/local/lib/python3.7/dist-packages (from importlib-metadata->transformers) (3.10.0)\n",
            "Requirement already satisfied: certifi>=2017.4.17 in /usr/local/lib/python3.7/dist-packages (from requests->transformers) (2022.9.24)\n",
            "Requirement already satisfied: idna<3,>=2.5 in /usr/local/lib/python3.7/dist-packages (from requests->transformers) (2.10)\n",
            "Requirement already satisfied: urllib3!=1.25.0,!=1.25.1,<1.26,>=1.21.1 in /usr/local/lib/python3.7/dist-packages (from requests->transformers) (1.24.3)\n",
            "Requirement already satisfied: chardet<4,>=3.0.2 in /usr/local/lib/python3.7/dist-packages (from requests->transformers) (3.0.4)\n",
            "Installing collected packages: tokenizers, huggingface-hub, transformers\n",
            "Successfully installed huggingface-hub-0.10.1 tokenizers-0.13.2 transformers-4.24.0\n"
          ]
        }
      ]
    },
    {
      "cell_type": "code",
      "metadata": {
        "id": "yDCgnNlzcCsA"
      },
      "source": [
        "import os\n",
        "import torch\n",
        "import torch.nn as nn\n",
        "from torch import optim\n",
        "from transformers import AutoTokenizer, AutoModelForSequenceClassification\n",
        "from sklearn.metrics import accuracy_score, f1_score, classification_report"
      ],
      "execution_count": 3,
      "outputs": []
    },
    {
      "cell_type": "code",
      "metadata": {
        "colab": {
          "base_uri": "https://localhost:8080/"
        },
        "id": "YyoVuFjJIlkj",
        "outputId": "bc63d420-40d6-45bc-93a2-5bf6e0f932d3"
      },
      "source": [
        "\n",
        "import pandas as pd\n",
        "import csv\n",
        "from random import shuffle\n",
        "import nltk\n",
        "nltk.download('punkt')\n",
        "\n",
        "# Lê o csv e transforma num dataframe\n",
        "\n",
        "full_df = pd.read_csv('/content/drive/MyDrive/Colab Notebooks/tweets_lula_cleaned-categorizado2corrigido.csv', sep=';')"
      ],
      "execution_count": 4,
      "outputs": [
        {
          "output_type": "stream",
          "name": "stderr",
          "text": [
            "[nltk_data] Downloading package punkt to /root/nltk_data...\n",
            "[nltk_data]   Unzipping tokenizers/punkt.zip.\n"
          ]
        }
      ]
    },
    {
      "cell_type": "code",
      "source": [
        "full_df.info()"
      ],
      "metadata": {
        "colab": {
          "base_uri": "https://localhost:8080/"
        },
        "id": "KrfWP0YfgMC_",
        "outputId": "29b94342-50fb-4944-9aa8-339823a55f9f"
      },
      "execution_count": 5,
      "outputs": [
        {
          "output_type": "stream",
          "name": "stdout",
          "text": [
            "<class 'pandas.core.frame.DataFrame'>\n",
            "RangeIndex: 24698 entries, 0 to 24697\n",
            "Data columns (total 4 columns):\n",
            " #   Column   Non-Null Count  Dtype  \n",
            "---  ------   --------------  -----  \n",
            " 0   id       24698 non-null  int64  \n",
            " 1   date     24698 non-null  object \n",
            " 2   content  24695 non-null  object \n",
            " 3   label    836 non-null    float64\n",
            "dtypes: float64(1), int64(1), object(2)\n",
            "memory usage: 771.9+ KB\n"
          ]
        }
      ]
    },
    {
      "cell_type": "code",
      "source": [
        "# Drop rows with any empty cells in collumn 'label'\n",
        "df = full_df.dropna(subset=['label'])"
      ],
      "metadata": {
        "id": "2BE5pynYkESj"
      },
      "execution_count": 6,
      "outputs": []
    },
    {
      "cell_type": "code",
      "source": [
        "df.info()"
      ],
      "metadata": {
        "colab": {
          "base_uri": "https://localhost:8080/"
        },
        "id": "KnygDPTnldEy",
        "outputId": "91d7a79e-35a1-440c-cbe2-fbd9ea13b737"
      },
      "execution_count": 7,
      "outputs": [
        {
          "output_type": "stream",
          "name": "stdout",
          "text": [
            "<class 'pandas.core.frame.DataFrame'>\n",
            "Int64Index: 836 entries, 0 to 23200\n",
            "Data columns (total 4 columns):\n",
            " #   Column   Non-Null Count  Dtype  \n",
            "---  ------   --------------  -----  \n",
            " 0   id       836 non-null    int64  \n",
            " 1   date     836 non-null    object \n",
            " 2   content  836 non-null    object \n",
            " 3   label    836 non-null    float64\n",
            "dtypes: float64(1), int64(1), object(2)\n",
            "memory usage: 32.7+ KB\n"
          ]
        }
      ]
    },
    {
      "cell_type": "code",
      "source": [
        "import matplotlib.pyplot as plt\n",
        "import numpy as np\n",
        "import plotly.express as px\n",
        "\n",
        "#  mostra a proporção de cada label, se não está balanceado, acurácia não é uma boa métrica\n",
        "df['label'].value_counts().plot.pie(autopct='%.2f')"
      ],
      "metadata": {
        "colab": {
          "base_uri": "https://localhost:8080/",
          "height": 266
        },
        "id": "xyZKp6PqpS1E",
        "outputId": "d74ed3c8-f351-4dad-f040-1ba2ff438b0e"
      },
      "execution_count": 8,
      "outputs": [
        {
          "output_type": "execute_result",
          "data": {
            "text/plain": [
              "<matplotlib.axes._subplots.AxesSubplot at 0x7fa882d16410>"
            ]
          },
          "metadata": {},
          "execution_count": 8
        },
        {
          "output_type": "display_data",
          "data": {
            "text/plain": [
              "<Figure size 432x288 with 1 Axes>"
            ],
            "image/png": "[encoded data removed]"
          },
          "metadata": {}
        }
      ]
    },
    {
      "cell_type": "code",
      "source": [
        "# converte dataframe em lista de listas\n",
        "tweets_list = df.values.tolist()"
      ],
      "metadata": {
        "id": "xcEHkdFIlxmE"
      },
      "execution_count": 9,
      "outputs": []
    },
    {
      "cell_type": "code",
      "source": [
        "# cria uma nuvem de palavras\n",
        "\n",
        "\n",
        "import nltk\n",
        "nltk.download('punkt')\n",
        "nltk.download('stopwords')\n",
        "stop_words = nltk.corpus.stopwords.words('portuguese')\n",
        "stop_words = stop_words + list(['lulaoficial','lula',',','.','https', ':','!', '#', '@', '?', '/', 'O', 'vai', '|', '–','pra', 'a', 'e', '-'])\n",
        "\n",
        "def remove_stopwords(x):\n",
        "  word_tokens = nltk.word_tokenize(x)\n",
        "  # print(word_tokens)\n",
        "  filtered_sentence = ' '.join([w for w in word_tokens if not (w in stop_words or len(w)<4)]) \n",
        "  return filtered_sentence\n",
        "\n",
        "tweets_lula = full_df\n",
        "\n",
        "#convert to string and lowercase sentences \n",
        "tweets_lula['content'] = tweets_lula['content'].astype(str).str.lower()\n",
        "\n",
        "\n",
        "tweets_lula['filtered_text'] = tweets_lula['content'].apply(lambda x: remove_stopwords(x))\n",
        "\n",
        "# filter tweets_lula by day - para caso queira mostrar quais palavras foram mais citadas a cada dia\n",
        "# for day in tweets_lula['date'].unique():\n",
        "#     print(\"\\nday: \", day)\n",
        "#     tweets_lula_day = tweets_lula[tweets_lula['date'] == day]\n",
        "#     word_count = pd.Series(' '.join(tweets_lula_day['filtered_text'].str.lower()).split()).value_counts()[:20]\n",
        "#     print(word_count)\n",
        "\n",
        "word_count = pd.Series(' '.join(tweets_lula['filtered_text'].str.lower()).split()).value_counts()[:20]\n",
        "print(word_count)\n",
        "\n",
        "# create a word cloud\n",
        "from wordcloud import WordCloud\n",
        "import matplotlib.pyplot as plt\n",
        "\n",
        "wordcloud = WordCloud(width = 800, height = 800,\n",
        "                background_color ='white',\n",
        "                stopwords = stop_words,\n",
        "                min_font_size = 10).generate(' '.join(tweets_lula['filtered_text']))\n",
        "\n",
        "# plot the WordCloud image\n",
        "plt.figure(figsize = (8, 8), facecolor = None)\n",
        "plt.imshow(wordcloud)\n",
        "plt.axis(\"off\")\n",
        "plt.tight_layout(pad = 0)\n",
        "\n",
        "plt.show()"
      ],
      "metadata": {
        "colab": {
          "base_uri": "https://localhost:8080/",
          "height": 1000
        },
        "id": "b9UM1ph3IzIS",
        "outputId": "203a8192-36ac-45c0-bce4-208e9892d8d0"
      },
      "execution_count": 10,
      "outputs": [
        {
          "output_type": "stream",
          "name": "stderr",
          "text": [
            "[nltk_data] Downloading package punkt to /root/nltk_data...\n",
            "[nltk_data]   Package punkt is already up-to-date!\n",
            "[nltk_data] Downloading package stopwords to /root/nltk_data...\n",
            "[nltk_data]   Unzipping corpora/stopwords.zip.\n"
          ]
        },
        {
          "output_type": "stream",
          "name": "stdout",
          "text": [
            "presidente         1301\n",
            "brasil             1029\n",
            "ladrão              918\n",
            "porque              861\n",
            "agora               743\n",
            "inocente            734\n",
            "simonetebetbr       712\n",
            "thiagoresiste       693\n",
            "votar               670\n",
            "cara                667\n",
            "voto                655\n",
            "povo                639\n",
            "ricardostuckert     609\n",
            "governo             580\n",
            "gente               575\n",
            "turno               534\n",
            "aqui                517\n",
            "ganhar              512\n",
            "anos                498\n",
            "tudo                494\n",
            "dtype: int64\n"
          ]
        },
        {
          "output_type": "display_data",
          "data": {
            "text/plain": [
              "<Figure size 576x576 with 1 Axes>"
            ],
            "image/png": "[encoded data removed]"
          },
          "metadata": {
            "needs_background": "light"
          }
        }
      ]
    },
    {
      "cell_type": "markdown",
      "source": [
        "cria uma lista com dicionarios de reviews e rating"
      ],
      "metadata": {
        "id": "pM7NM0khG75Z"
      }
    },
    {
      "cell_type": "code",
      "source": [
        "#print(tweets_list)"
      ],
      "metadata": {
        "id": "JStdPkEcmZmD"
      },
      "execution_count": 11,
      "outputs": []
    },
    {
      "cell_type": "code",
      "source": [
        "tweets = [str(w[2]) for w in tweets_list]\n",
        "ratings = [int(w[3]) for w in tweets_list]\n",
        "data = [{ 'X': tweets, 'y': rating } for (tweets, rating) in zip(tweets, ratings)]"
      ],
      "metadata": {
        "id": "zyk3u0QFgKqT"
      },
      "execution_count": 12,
      "outputs": []
    },
    {
      "cell_type": "code",
      "source": [
        "#print(data)"
      ],
      "metadata": {
        "id": "afyUgEJ2jyxj"
      },
      "execution_count": 13,
      "outputs": []
    },
    {
      "cell_type": "code",
      "source": [
        "#print(type(data))\n",
        "#print(data)"
      ],
      "metadata": {
        "id": "hlZcWH4JGhM6"
      },
      "execution_count": 14,
      "outputs": []
    },
    {
      "cell_type": "markdown",
      "metadata": {
        "id": "WyleZGdH25Hq"
      },
      "source": [
        "Separando os dados em conjunto de treino e teste"
      ]
    },
    {
      "cell_type": "code",
      "metadata": {
        "colab": {
          "base_uri": "https://localhost:8080/"
        },
        "id": "u1R9CbypJfNO",
        "outputId": "d4c2e3e1-7dc5-48b1-9b5a-ad1e4bd18c04"
      },
      "source": [
        "size = int(len(data) * 0.1)\n",
        "treino = data[2*size:] #  0.2 - 1\n",
        "validacao = data[size:2*size] # 0.1:0.2\n",
        "teste = data[:size]  # 0:0.1\n",
        "\n",
        "len(treino), len(validacao), len(teste)"
      ],
      "execution_count": 15,
      "outputs": [
        {
          "output_type": "execute_result",
          "data": {
            "text/plain": [
              "(670, 83, 83)"
            ]
          },
          "metadata": {},
          "execution_count": 15
        }
      ]
    },
    {
      "cell_type": "markdown",
      "metadata": {
        "id": "dGTxUNNQ3LMK"
      },
      "source": [
        "BERTimbau - documentação [este link](https://github.com/neuralmind-ai/portuguese-bert)."
      ]
    },
    {
      "cell_type": "markdown",
      "metadata": {
        "id": "6OHZj1Ko3nos"
      },
      "source": [
        "Configurando hiper parâmetros"
      ]
    },
    {
      "cell_type": "code",
      "metadata": {
        "id": "icMF0E_R8h9W"
      },
      "source": [
        "device = torch.device('cuda' if torch.cuda.is_available() else 'cpu') # define qual será o acelerador gráfico onde o modelo será processado\n",
        "nclasses = 3  # número de classes/labels que classificam  os tweets (0 = negativo, 1 = indefinido, 2 = positivo)\n",
        "nepochs = 10  # número de épocas (valor inicial: 5)\n",
        "batch_size = 8 # número mínimo de frases que são previstas por vez - recomendação autores bert: Batch size: 16, 32 (maior batch usa menos memória)\n",
        "batch_status = 32  # a cada quantas batches avalia o status - numero menor pra dataset menor\n",
        "learning_rate = 2e-5  # taxa de aprendizado - recomendação autores bert Learning rate (Adam): 5e-5, 3e-5, 2e-5 (1e-5 usa menos memória)\n",
        "early_stop = 2  # critério de parada, quantas epocas sem melhora do f1 para parar o aprendizado\n",
        "\n",
        "max_length = 200 # tamanho maximo de cada frase\n",
        "write_path = 'model'"
      ],
      "execution_count": 16,
      "outputs": []
    },
    {
      "cell_type": "markdown",
      "metadata": {
        "id": "P-fAnBqN3rCv"
      },
      "source": [
        "Separando os dados em batches de treino e teste\n",
        "\n"
      ]
    },
    {
      "cell_type": "code",
      "metadata": {
        "id": "d3P7XcEsLXji"
      },
      "source": [
        "from torch.utils.data import DataLoader\n",
        "\n",
        "traindata = DataLoader(treino, batch_size=batch_size, shuffle=True)\n",
        "validationdata = DataLoader(validacao, batch_size=batch_size, shuffle=True)\n",
        "testdata = DataLoader(teste, batch_size=batch_size, shuffle=True)"
      ],
      "execution_count": 17,
      "outputs": []
    },
    {
      "cell_type": "code",
      "source": [
        "# conteúdo do dataloader\n",
        "for batch_idx, inp in enumerate(traindata):\n",
        "    print(batch_idx) #o índice do batch\n",
        "    print(inp) # os batches, dicionário de X com os textos e Y transformado em tensor com os labels\n",
        "    break"
      ],
      "metadata": {
        "id": "RyzCFibIIscj",
        "outputId": "534e4afd-5832-44ea-94e4-5216080ac089",
        "colab": {
          "base_uri": "https://localhost:8080/"
        }
      },
      "execution_count": 18,
      "outputs": [
        {
          "output_type": "stream",
          "name": "stdout",
          "text": [
            "0\n",
            "{'X': ['MauroDoroche Se vocês querem  ser roubados  votem no Lula quando você for assaltado  ou roubado por um bandido  faça o L ', 'JornalOGlobo Gente isso foi armação daquele pinguço do Lula! Chega até ser engraçado o nível baixo que o PT consegue chegar pra tentar manipular a população. Kkkk', 'CiaVermelho Lula Sem dúvidas 13', 'O Jornal Nacional toda noite passa o dia da campanha dos presidênciaveis:', 'UOL Lula sempre na frente kkkkkk', 'Lula ', ' URGENTE ', 'LibertariosUru1 Merece ganar Lula'], 'y': tensor([0, 0, 2, 1, 2, 1, 1, 2])}\n"
          ]
        }
      ]
    },
    {
      "cell_type": "markdown",
      "metadata": {
        "id": "k8Gl_q253uV9"
      },
      "source": [
        "instanciando tokenizador, modelo, função de erro e otimizador:"
      ]
    },
    {
      "cell_type": "code",
      "metadata": {
        "colab": {
          "base_uri": "https://localhost:8080/",
          "height": 320,
          "referenced_widgets": [
            "210b7be2d5704307811977f6f95e1a2b",
            "8b6854cb4f3b4c479692d0ee808ae70f",
            "be550fb798764b758b8800bde15f6466",
            "06ee8ca526a54d45ab1b8f3180380871",
            "d8806be2e936446897226d2d6f424493",
            "a91336be32304a22a11f1b507bb9f68d",
            "ee80a267384045d28f09dd9d469eb09d",
            "f09c45944536496ca10f41d6a664f2d2",
            "cd5aa89c258d4372960fc3967d8fda58",
            "b227bfb82bd7428ab13d0a8cedeee11e",
            "78d1f44424bf431a819a28f123db51fe",
            "5bb2e6f74de742c1a5f32cdabfcbb7b7",
            "989197cf22c44d4883c6b5a0b7977573",
            "ed050e6ad11c41eaaf86de2fe02562e6",
            "97fd8e0f0fa943aea8ade679f9759fe0",
            "8cfdf514304442c78025e316a47492b9",
            "b8b1eac1935148299a4e732e4d886952",
            "7b81fb664bcf48e78f321cd819c70a22",
            "3703ca2d4e6a49d4beb8937ba4d44996",
            "6acd20f8fa824cc1ad20f9b3c6fc1b9a",
            "393ca1a6849144e1a099cc6022023ee8",
            "188ad161eeb74502b9754c25a6efa118",
            "b24a1dba95aa4161b9d0ebebfd82b9f0",
            "8bd2bdac39104559abe48b1f093a1f5d",
            "70313b3fa9664cc28c44809e8efc76ff",
            "8641e05dfb6a4b31a6cf405c9eeeda09",
            "a4a1529775aa46c0a28142de8c0f2391",
            "632ad8cf9ab44037aedb539dc78e6cd0",
            "a39604307ba74a16935da4914a394aa2",
            "0b06eb67d5f2410480c2a2f962b1257e",
            "a3a98c6ec6a841aea5491333d538a1a7",
            "55eebdab5b2b4900bb9a61c261013c6f",
            "1fe536b0b3ad47ebb1fc764977afe2bd",
            "964c956fcef84a5b820855369807caa3",
            "9cc1f8fbf578429abc2d102d0d7424fc",
            "68df31bc429f435abcbe2c5584dbd546",
            "ce83727c939b43ff8d83d57450e50e89",
            "6ed37cdb4b304f9ba6abcde815765f10",
            "d4e535c6119949eebaa348052d7e7793",
            "632697221a1f44149100cf0a81d42459",
            "539a079733574a1387770fd0408c9735",
            "b1a3be71f6cf486e84f1a3c8fcc10f8a",
            "52c7113bcce94f0aa6ba4c116f69bf89",
            "4f672cac3b9749b296e4e386c5475718",
            "078556519d7849eeb6ddcbf1948e67f3",
            "b8e8bdd44cd44503bd7d5dd0957ae6be",
            "15a069f668d34232ab9604201cf71722",
            "5d71b391411b407dae4f4b861af4b22c",
            "ebd8e3156f954119b6cd1851336e99e1",
            "62057e6216f54abd9a7040e4472c95be",
            "82a379af7b7d48ec9a9cd9ff156894b6",
            "bdf78b08af4647d3821691fe83cc3f09",
            "35b456d0189840abb455154c21ea5b40",
            "8b9e6886a1834d93af783ccc52defead",
            "cdc24116622f42c7b37f5a9880e601c6",
            "1f420bf7462b4095a1bf962cd74bb38e",
            "08b1b77708984395a4708f544c4fd03f",
            "7fd27362894e4ff9801142a57b187a9f",
            "940e12bb3fe44fa3877a7b5353f52128",
            "3f6bf92b107c4147a51b61568f06c559",
            "be9bc1adf0f045e7a581c0383748f64b",
            "0015360c76dc452ba6bc239b59eabca2",
            "e872fe47cd2c43f4b044a32880d61053",
            "ad755ecd5d4c4b3db8ce328cd600bfb9",
            "fb13a2e8c52b44e7aea9925c8189da57",
            "634f8e2a93134c27830d6951821193fe"
          ]
        },
        "id": "7WeMpVR18aPq",
        "outputId": "5ac71615-5b7f-4bed-c3ed-9469c137b108"
      },
      "source": [
        "# instancia o tokenizador\n",
        "tokenizer = AutoTokenizer.from_pretrained('neuralmind/bert-large-portuguese-cased', do_lower_case=False)  # para utilizar o BERTinbal large: 'neuralmind/bert-large-portuguese-cased'\n",
        "#bertinbal menor: 'neuralmind/bert-base-portuguese-cased'\n",
        "#  instancia o modelo\n",
        "model = AutoModelForSequenceClassification.from_pretrained('neuralmind/bert-large-portuguese-cased', num_labels=nclasses).to(device)\n",
        "\n",
        "# seleciona o otimizador \n",
        "optimizer = torch.optim.AdamW(model.parameters(), lr=learning_rate)\n",
        "\n",
        "# congela os pesos do BERT pré-treinado\n",
        "for param in model.base_model.parameters():\n",
        "    param.requires_grad = False"
      ],
      "execution_count": 19,
      "outputs": [
        {
          "output_type": "display_data",
          "data": {
            "text/plain": [
              "Downloading:   0%|          | 0.00/155 [00:00<?, ?B/s]"
            ],
            "application/vnd.jupyter.widget-view+json": {
              "version_major": 2,
              "version_minor": 0,
              "model_id": "210b7be2d5704307811977f6f95e1a2b"
            }
          },
          "metadata": {}
        },
        {
          "output_type": "display_data",
          "data": {
            "text/plain": [
              "Downloading:   0%|          | 0.00/648 [00:00<?, ?B/s]"
            ],
            "application/vnd.jupyter.widget-view+json": {
              "version_major": 2,
              "version_minor": 0,
              "model_id": "5bb2e6f74de742c1a5f32cdabfcbb7b7"
            }
          },
          "metadata": {}
        },
        {
          "output_type": "display_data",
          "data": {
            "text/plain": [
              "Downloading:   0%|          | 0.00/210k [00:00<?, ?B/s]"
            ],
            "application/vnd.jupyter.widget-view+json": {
              "version_major": 2,
              "version_minor": 0,
              "model_id": "b24a1dba95aa4161b9d0ebebfd82b9f0"
            }
          },
          "metadata": {}
        },
        {
          "output_type": "display_data",
          "data": {
            "text/plain": [
              "Downloading:   0%|          | 0.00/2.00 [00:00<?, ?B/s]"
            ],
            "application/vnd.jupyter.widget-view+json": {
              "version_major": 2,
              "version_minor": 0,
              "model_id": "964c956fcef84a5b820855369807caa3"
            }
          },
          "metadata": {}
        },
        {
          "output_type": "display_data",
          "data": {
            "text/plain": [
              "Downloading:   0%|          | 0.00/112 [00:00<?, ?B/s]"
            ],
            "application/vnd.jupyter.widget-view+json": {
              "version_major": 2,
              "version_minor": 0,
              "model_id": "078556519d7849eeb6ddcbf1948e67f3"
            }
          },
          "metadata": {}
        },
        {
          "output_type": "display_data",
          "data": {
            "text/plain": [
              "Downloading:   0%|          | 0.00/1.34G [00:00<?, ?B/s]"
            ],
            "application/vnd.jupyter.widget-view+json": {
              "version_major": 2,
              "version_minor": 0,
              "model_id": "1f420bf7462b4095a1bf962cd74bb38e"
            }
          },
          "metadata": {}
        },
        {
          "output_type": "stream",
          "name": "stderr",
          "text": [
            "Some weights of the model checkpoint at neuralmind/bert-large-portuguese-cased were not used when initializing BertForSequenceClassification: ['cls.seq_relationship.bias', 'cls.predictions.transform.LayerNorm.bias', 'cls.predictions.transform.dense.bias', 'cls.predictions.transform.dense.weight', 'cls.predictions.bias', 'cls.predictions.transform.LayerNorm.weight', 'cls.predictions.decoder.weight', 'cls.seq_relationship.weight']\n",
            "- This IS expected if you are initializing BertForSequenceClassification from the checkpoint of a model trained on another task or with another architecture (e.g. initializing a BertForSequenceClassification model from a BertForPreTraining model).\n",
            "- This IS NOT expected if you are initializing BertForSequenceClassification from the checkpoint of a model that you expect to be exactly identical (initializing a BertForSequenceClassification model from a BertForSequenceClassification model).\n",
            "Some weights of BertForSequenceClassification were not initialized from the model checkpoint at neuralmind/bert-large-portuguese-cased and are newly initialized: ['classifier.bias', 'classifier.weight']\n",
            "You should probably TRAIN this model on a down-stream task to be able to use it for predictions and inference.\n"
          ]
        }
      ]
    },
    {
      "cell_type": "code",
      "source": [
        "import seaborn as sns\n",
        "# verificando a distribuição e o tamanho máximo dos tokens\n",
        "token_lens = []\n",
        "\n",
        "for txt in df.content:\n",
        "  tokens = tokenizer.encode(txt, max_length=512)\n",
        "  token_lens.append(len(tokens))\n",
        "\n",
        "sns.distplot(token_lens)\n",
        "plt.xlim([0, 200]);\n",
        "plt.xlabel('Token count');"
      ],
      "metadata": {
        "id": "8VHuvGBbmxLD",
        "outputId": "ae9c4a91-9f7c-4d86-8cae-dfc64137069d",
        "colab": {
          "base_uri": "https://localhost:8080/",
          "height": 354
        }
      },
      "execution_count": 20,
      "outputs": [
        {
          "output_type": "stream",
          "name": "stderr",
          "text": [
            "Truncation was not explicitly activated but `max_length` is provided a specific value, please use `truncation=True` to explicitly truncate examples to max length. Defaulting to 'longest_first' truncation strategy. If you encode pairs of sequences (GLUE-style) with the tokenizer you can select this strategy more precisely by providing a specific strategy to `truncation`.\n",
            "/usr/local/lib/python3.7/dist-packages/seaborn/distributions.py:2619: FutureWarning: `distplot` is a deprecated function and will be removed in a future version. Please adapt your code to use either `displot` (a figure-level function with similar flexibility) or `histplot` (an axes-level function for histograms).\n",
            "  warnings.warn(msg, FutureWarning)\n"
          ]
        },
        {
          "output_type": "display_data",
          "data": {
            "text/plain": [
              "<Figure size 432x288 with 1 Axes>"
            ],
            "image/png": "[encoded data removed]"
          },
          "metadata": {
            "needs_background": "light"
          }
        }
      ]
    },
    {
      "cell_type": "markdown",
      "source": [
        "Funcionamento do tokenizador"
      ],
      "metadata": {
        "id": "OBmKk7ynfKxT"
      }
    },
    {
      "cell_type": "code",
      "source": [
        "tokens = tokenizer.encode(\"bonito carro\", return_tensors=\"pt\")\n",
        "print(\"frase tokenizada no formato de tensor pytorch:\")\n",
        "tokens[0]\n",
        "# codifiga cada palavra com um token e adiciona o token de CLS (classificação) e de final de frase (SEP)"
      ],
      "metadata": {
        "colab": {
          "base_uri": "https://localhost:8080/"
        },
        "id": "RGesZq_JekdE",
        "outputId": "adc894f2-fbf8-479f-a260-a6970115d87b"
      },
      "execution_count": 21,
      "outputs": [
        {
          "output_type": "stream",
          "name": "stdout",
          "text": [
            "frase tokenizada no formato de tensor pytorch:\n"
          ]
        },
        {
          "output_type": "execute_result",
          "data": {
            "text/plain": [
              "tensor([  101, 22003,  3883,   102])"
            ]
          },
          "metadata": {},
          "execution_count": 21
        }
      ]
    },
    {
      "cell_type": "code",
      "source": [
        "tokens = tokenizer.encode(\"carro bonito\", return_tensors=\"pt\").to(device)\n",
        "print(\"frase tokenizada no formato de tensor pytorch:\")\n",
        "tokens[0]"
      ],
      "metadata": {
        "colab": {
          "base_uri": "https://localhost:8080/"
        },
        "id": "8gOueZhaes39",
        "outputId": "65448bb7-37e4-4008-fb3a-0bcc1458959f"
      },
      "execution_count": 22,
      "outputs": [
        {
          "output_type": "stream",
          "name": "stdout",
          "text": [
            "frase tokenizada no formato de tensor pytorch:\n"
          ]
        },
        {
          "output_type": "execute_result",
          "data": {
            "text/plain": [
              "tensor([  101,  3883, 22003,   102], device='cuda:0')"
            ]
          },
          "metadata": {},
          "execution_count": 22
        }
      ]
    },
    {
      "cell_type": "code",
      "source": [
        "print(\"frase destokenizada:\")\n",
        "tokenizer.decode(tokens[0])"
      ],
      "metadata": {
        "colab": {
          "base_uri": "https://localhost:8080/",
          "height": 54
        },
        "id": "6FePnuDUeRoF",
        "outputId": "be9ca0be-b88c-4520-8d4b-8c516ffceb2a"
      },
      "execution_count": 23,
      "outputs": [
        {
          "output_type": "stream",
          "name": "stdout",
          "text": [
            "frase destokenizada:\n"
          ]
        },
        {
          "output_type": "execute_result",
          "data": {
            "text/plain": [
              "'[CLS] carro bonito [SEP]'"
            ],
            "application/vnd.google.colaboratory.intrinsic+json": {
              "type": "string"
            }
          },
          "metadata": {},
          "execution_count": 23
        }
      ]
    },
    {
      "cell_type": "markdown",
      "source": [
        "funcionamento do modelo"
      ],
      "metadata": {
        "id": "FvJ1QBolfdAu"
      }
    },
    {
      "cell_type": "code",
      "source": [
        "result = model(tokens)\n",
        "result\n",
        "# a saída é uma lista de scores one-hot encoded\n",
        "# como ao ser instanciado o modelo, foi escolhido o número de classes como 3, a saída será de 3 números diferentes\n",
        "# cada posição com um significado diferente, conforme o que for utilizado nos dados de treino\n",
        "# no exemplo a posição 1 (0.0417) é a maior (como o modelo ainda não foi treinado, o significado é aleatório)\n",
        "# caso o modelo for treinado com a classificação 0=ruim, 1=neutro, 2=bom, a posição com número maior irá indicar o sentimento geral da frase\n"
      ],
      "metadata": {
        "colab": {
          "base_uri": "https://localhost:8080/"
        },
        "id": "7kFryBZRffEg",
        "outputId": "6701e591-9505-47dd-f911-fd8c5caa0951"
      },
      "execution_count": 24,
      "outputs": [
        {
          "output_type": "execute_result",
          "data": {
            "text/plain": [
              "SequenceClassifierOutput(loss=None, logits=tensor([[ 0.1912, -0.1027, -0.1654]], device='cuda:0',\n",
              "       grad_fn=<AddmmBackward0>), hidden_states=None, attentions=None)"
            ]
          },
          "metadata": {},
          "execution_count": 24
        }
      ]
    },
    {
      "cell_type": "code",
      "source": [
        "#exemplo do tokenizer em funcionamento\n",
        "# conteúdo do dataloader\n",
        "for batch_idx, inp in enumerate(traindata):\n",
        "    texts, labels = inp['X'], inp['y']\n",
        "\n",
        "    print(texts[0],\"\\n\")\n",
        "    tokens = tokenizer.encode(texts[0], return_tensors=\"pt\")\n",
        "    print(\"frase tokenizada no formato de tensor pytorch:\")\n",
        "    print(tokens[0])\n",
        "    print(\"label da frase tokenizada:\")\n",
        "    print(labels[0],\"\\n\")\n",
        "\n",
        "    # instancia o tokenizador enviando os textos dos comentarios\n",
        "    inputs = tokenizer(texts, return_tensors='pt', padding=True, truncation=True, max_length=max_length).to(device)\n",
        "\n",
        "    print(f\"inputs[0]:\\n {inputs[0]}\\n\")\n",
        "    print(f\"chaves do dicionário inputs:\\n {inputs.keys()}\\n\")\n",
        "    print(f'input_ids (frase tokenizada):\\n {inputs[\"input_ids\"][0]}\\n')\n",
        "    print(f'token_type_ids:\\n {inputs[\"token_type_ids\"][0]}\\n')\n",
        "    print(f'attention_mask:\\n {inputs[\"attention_mask\"][0]}')\n",
        "    \n",
        "\n",
        "    # saída é:\n",
        "    # input_ids = transformações do texto em números, embeddings. onde 101 é token inicial\n",
        "    # attention_mask = tensor que diz quais tokens devem receber atenção pelo modelo\n",
        "    break\n"
      ],
      "metadata": {
        "id": "vUIq7cW2Hor1",
        "outputId": "81111a1d-0651-49cf-f6dc-7cf8923da67f",
        "colab": {
          "base_uri": "https://localhost:8080/"
        }
      },
      "execution_count": 25,
      "outputs": [
        {
          "output_type": "stream",
          "name": "stdout",
          "text": [
            "Lula se esquiva na indicação de possíveis nomes para ministérios  \n",
            "\n",
            "frase tokenizada no formato de tensor pytorch:\n",
            "tensor([  101, 11124,   176,  3686,  1319,   229,  9403,   125,  6809,  3360,\n",
            "          221, 12080, 22281,   102])\n",
            "label da frase tokenizada:\n",
            "tensor(0) \n",
            "\n",
            "inputs[0]:\n",
            " Encoding(num_tokens=38, attributes=[ids, type_ids, tokens, offsets, attention_mask, special_tokens_mask, overflowing])\n",
            "\n",
            "chaves do dicionário inputs:\n",
            " dict_keys(['input_ids', 'token_type_ids', 'attention_mask'])\n",
            "\n",
            "input_ids (frase tokenizada):\n",
            " tensor([  101, 11124,   176,  3686,  1319,   229,  9403,   125,  6809,  3360,\n",
            "          221, 12080, 22281,   102,     0,     0,     0,     0,     0,     0,\n",
            "            0,     0,     0,     0,     0,     0,     0,     0,     0,     0,\n",
            "            0,     0,     0,     0,     0,     0,     0,     0],\n",
            "       device='cuda:0')\n",
            "\n",
            "token_type_ids:\n",
            " tensor([0, 0, 0, 0, 0, 0, 0, 0, 0, 0, 0, 0, 0, 0, 0, 0, 0, 0, 0, 0, 0, 0, 0, 0,\n",
            "        0, 0, 0, 0, 0, 0, 0, 0, 0, 0, 0, 0, 0, 0], device='cuda:0')\n",
            "\n",
            "attention_mask:\n",
            " tensor([1, 1, 1, 1, 1, 1, 1, 1, 1, 1, 1, 1, 1, 1, 0, 0, 0, 0, 0, 0, 0, 0, 0, 0,\n",
            "        0, 0, 0, 0, 0, 0, 0, 0, 0, 0, 0, 0, 0, 0], device='cuda:0')\n"
          ]
        }
      ]
    },
    {
      "cell_type": "code",
      "source": [
        "# funcionamento do modelo\n",
        "with torch.no_grad():\n",
        "    model.eval()\n",
        "    output = model(inputs['input_ids'], inputs['attention_mask'])\n",
        "\n",
        "    #resultado (passa informações no modelo e ele gera uma lista contendo as saídas numa lista de tensores)\n",
        "    #este modelo já tem camadas densas anexadas à saída do encoder que geram uma lista de probabilidades \n",
        "    #o resultado do modelo pre treinado\n",
        "\n",
        "    #formato da saída:\n",
        "    print(output[0][0])\n",
        "\n",
        "    # como definiu-se 3 labels, a saída é um tensor de 3 números para cada label respectiva\n",
        "    # onde o maior número significa a probabilidade de ser aquela label\n",
        "    # 0 = positivo, 1 = indefinido, 2 = positivo\n",
        "    print(output[0].shape) # o shape da saída mostra quantas frases tinha em cada batch (primeiro número) e quantas labels em cada frase(segundo número)\n",
        "\n",
        "\n",
        "    "
      ],
      "metadata": {
        "id": "_h7WF4NHQfWQ",
        "outputId": "b6e4671a-915e-4b5b-8aad-faabebed11f6",
        "colab": {
          "base_uri": "https://localhost:8080/"
        }
      },
      "execution_count": 26,
      "outputs": [
        {
          "output_type": "stream",
          "name": "stdout",
          "text": [
            "tensor([-0.0354,  0.0616, -0.0168], device='cuda:0')\n",
            "torch.Size([8, 3])\n"
          ]
        }
      ]
    },
    {
      "cell_type": "code",
      "source": [
        "# para extrair a informação do resultado:\n",
        "torch.argmax(result.logits)"
      ],
      "metadata": {
        "colab": {
          "base_uri": "https://localhost:8080/"
        },
        "id": "uR3JlK9xgm9Z",
        "outputId": "b3ec269b-3e95-44b6-9220-cf5ceee617e1"
      },
      "execution_count": 27,
      "outputs": [
        {
          "output_type": "execute_result",
          "data": {
            "text/plain": [
              "tensor(0, device='cuda:0')"
            ]
          },
          "metadata": {},
          "execution_count": 27
        }
      ]
    },
    {
      "cell_type": "markdown",
      "metadata": {
        "id": "-4XlMiF43y56"
      },
      "source": [
        "Definindo a função de avaliação do modelo"
      ]
    },
    {
      "cell_type": "code",
      "metadata": {
        "id": "AbiO9x2E81CS"
      },
      "source": [
        "def evaluate(model, validationdata):\n",
        "  \"\"\"\n",
        "  avalia o desempenho do modelo que está sendo treinado baseado nos dados de validacao\n",
        "  \"\"\"\n",
        "  # coloca o modelo no modo de avaliação\n",
        "  model.eval()\n",
        "  y_real, y_pred = [], []\n",
        "  for batch_idx, inp in enumerate(validationdata): # passa por cada batch dos dados de teste, batch_idx é o número da batch, inp contem o texto e o label\n",
        "    texts, labels = inp['X'], inp['y']\n",
        "    \n",
        "    # instancia o tokenizador enviando os textos dos comentarios\n",
        "    inputs = tokenizer(texts, return_tensors='pt', padding=True, truncation=True, max_length=max_length).to(device)\n",
        "    # instancia o modelo enviando os tokens e salvando as classificações preditas\n",
        "    output = model(**inputs)\n",
        "    \n",
        "    # cria um tensor com os labels preditos no output\n",
        "    pred_labels = torch.argmax(output.logits, 1)\n",
        "\n",
        "    # print(f\"texto: {texts}, rótulo correto: {labels}, predito pelo modelo: {pred_labels}\") # imprime a frase, o resultado correto e o predito\n",
        "    \n",
        "    # adiciona cada novo label às listas y_real e y_pred(ito)\n",
        "    y_real.extend(labels.tolist())\n",
        "    y_pred.extend(pred_labels.tolist())\n",
        "    \n",
        "    # a cada certa quantidade de itens preditos, printa a % de progresso e o número de itens preditos\n",
        "    if (batch_idx+1) % batch_status == 0:\n",
        "      print('Progress:', round(batch_idx / len(testdata), 2), batch_idx)\n",
        "  \n",
        "  # chama o classification_report do scikitlearn para calcular o resultado após predizer todas as linhas de teste\n",
        "  print(classification_report(y_real, y_pred, labels=[0, 1, 2], target_names=['Negative', 'Neural', 'Positive'])) # identifica os labels 0, 1 e 2 como negativo, neutro e positivo\n",
        "  # retorna f1 e acurácia\n",
        "  f1 = f1_score(y_real, y_pred, average='weighted')\n",
        "  acc = accuracy_score(y_real, y_pred)\n",
        "  return f1, acc"
      ],
      "execution_count": 28,
      "outputs": []
    },
    {
      "cell_type": "markdown",
      "metadata": {
        "id": "BfoYwmza39MJ"
      },
      "source": [
        "Treinamento"
      ]
    },
    {
      "cell_type": "code",
      "metadata": {
        "id": "rRiZCQnO9hE1",
        "colab": {
          "base_uri": "https://localhost:8080/"
        },
        "outputId": "a40f86e6-0db2-4656-cb8f-7dca79807d52"
      },
      "source": [
        "max_f1, repeat = 0, 0\n",
        "\n",
        "#  passa por todas as épocas de treino\n",
        "for epoch in range(nepochs):\n",
        "  #seleciona o modo de treino do modelo\n",
        "  model.train()\n",
        "  losses = []\n",
        "\n",
        "  for batch_idx, inp in enumerate(traindata): # passa por cada batch dos dados de teste, batch_idx é o número da batch, inp contem o texto e o label\n",
        "    texts, labels = inp['X'], inp['y']\n",
        "\n",
        "    # instancia o tokenizador enviando os textos dos comentarios\n",
        "    inputs = tokenizer(texts, return_tensors='pt', padding=True, truncation=True, max_length=max_length).to(device)\n",
        "    # zera os gradientes acumulados em buffer \n",
        "    optimizer.zero_grad()\n",
        "    # instancia o modelo enviando os tokens e salvando as classificações preditas\n",
        "    output = model(**inputs, labels=labels.to(device))\n",
        "\n",
        "    # calcula a perda\n",
        "    loss = output.loss\n",
        "    losses.append(float(loss))\n",
        "\n",
        "    # faz o Backpropagation no modelo- com o otimizador definido anteriormente (AdamW)\n",
        "    loss.backward()\n",
        "    optimizer.step()\n",
        "\n",
        "    # mostra o andamento do treinamento\n",
        "    if (batch_idx+1) % batch_status == 0:\n",
        "      print('Train Epoch: {} [{}/{} ({:.0f}%)]\\tLoss: {:.6f}\\tTotal Loss: {:.6f}'.format(\\\n",
        "        epoch, # número da época\n",
        "        batch_idx+1, # número do batch\n",
        "        len(traindata), # número total de dados de treino\n",
        "        100. * batch_idx / len(traindata), # % de dados treinados\n",
        "        float(loss), # perda atual\n",
        "        round(sum(losses) / len(losses), 5) # perda acumulada\n",
        "        ))\n",
        "\n",
        "  # se passou a 1a época, descongela os pesos do Bert pretreinado\n",
        "  if epoch == 0: \n",
        "    for param in model.base_model.parameters():\n",
        "        param.requires_grad = True\n",
        "\n",
        "  # ao terminar cada época, avalia o modelo\n",
        "  f1, acc = evaluate(model, validationdata)\n",
        "  print('F1: ', f1, 'Accuracy: ', acc)\n",
        "\n",
        "  # salva o modelo somente se f1 melhorou em relação à epoch anterior\n",
        "  if f1 > max_f1:\n",
        "    model.save_pretrained(os.path.join(write_path, 'model'))\n",
        "    max_f1 = f1\n",
        "    repeat = 0\n",
        "    print('Saving best model...')\n",
        "  else:\n",
        "    repeat += 1\n",
        "  \n",
        "  # se por duas épocas o f1 não melhorou, para de treinar o modelo\n",
        "  if repeat == early_stop:\n",
        "    break"
      ],
      "execution_count": 29,
      "outputs": [
        {
          "output_type": "stream",
          "name": "stdout",
          "text": [
            "Train Epoch: 0 [32/84 (37%)]\tLoss: 1.121814\tTotal Loss: 1.110230\n",
            "Train Epoch: 0 [64/84 (75%)]\tLoss: 1.076346\tTotal Loss: 1.110150\n",
            "              precision    recall  f1-score   support\n",
            "\n",
            "    Negative       0.36      0.42      0.39        31\n",
            "      Neural       0.25      0.11      0.15        18\n",
            "    Positive       0.49      0.56      0.52        34\n",
            "\n",
            "    accuracy                           0.41        83\n",
            "   macro avg       0.37      0.36      0.35        83\n",
            "weighted avg       0.39      0.41      0.39        83\n",
            "\n",
            "F1:  0.39153869460826174 Accuracy:  0.40963855421686746\n",
            "Saving best model...\n",
            "Train Epoch: 1 [32/84 (37%)]\tLoss: 0.945473\tTotal Loss: 1.059380\n",
            "Train Epoch: 1 [64/84 (75%)]\tLoss: 1.165157\tTotal Loss: 1.009480\n",
            "              precision    recall  f1-score   support\n",
            "\n",
            "    Negative       0.57      0.74      0.65        31\n",
            "      Neural       0.67      0.56      0.61        18\n",
            "    Positive       0.64      0.53      0.58        34\n",
            "\n",
            "    accuracy                           0.61        83\n",
            "   macro avg       0.63      0.61      0.61        83\n",
            "weighted avg       0.62      0.61      0.61        83\n",
            "\n",
            "F1:  0.6112714871712698 Accuracy:  0.6144578313253012\n",
            "Saving best model...\n",
            "Train Epoch: 2 [32/84 (37%)]\tLoss: 0.626208\tTotal Loss: 0.664540\n",
            "Train Epoch: 2 [64/84 (75%)]\tLoss: 0.707856\tTotal Loss: 0.647210\n",
            "              precision    recall  f1-score   support\n",
            "\n",
            "    Negative       0.54      0.84      0.66        31\n",
            "      Neural       0.79      0.61      0.69        18\n",
            "    Positive       0.81      0.50      0.62        34\n",
            "\n",
            "    accuracy                           0.65        83\n",
            "   macro avg       0.71      0.65      0.65        83\n",
            "weighted avg       0.70      0.65      0.65        83\n",
            "\n",
            "F1:  0.6481716278231453 Accuracy:  0.6506024096385542\n",
            "Saving best model...\n",
            "Train Epoch: 3 [32/84 (37%)]\tLoss: 0.113540\tTotal Loss: 0.280040\n",
            "Train Epoch: 3 [64/84 (75%)]\tLoss: 0.466587\tTotal Loss: 0.275650\n",
            "              precision    recall  f1-score   support\n",
            "\n",
            "    Negative       0.70      0.52      0.59        31\n",
            "      Neural       0.39      0.72      0.51        18\n",
            "    Positive       0.81      0.65      0.72        34\n",
            "\n",
            "    accuracy                           0.61        83\n",
            "   macro avg       0.63      0.63      0.61        83\n",
            "weighted avg       0.68      0.61      0.63        83\n",
            "\n",
            "F1:  0.6273666400306035 Accuracy:  0.6144578313253012\n",
            "Train Epoch: 4 [32/84 (37%)]\tLoss: 0.499719\tTotal Loss: 0.128430\n",
            "Train Epoch: 4 [64/84 (75%)]\tLoss: 0.040017\tTotal Loss: 0.116500\n",
            "              precision    recall  f1-score   support\n",
            "\n",
            "    Negative       0.58      0.84      0.68        31\n",
            "      Neural       0.73      0.61      0.67        18\n",
            "    Positive       0.87      0.59      0.70        34\n",
            "\n",
            "    accuracy                           0.69        83\n",
            "   macro avg       0.73      0.68      0.68        83\n",
            "weighted avg       0.73      0.69      0.69        83\n",
            "\n",
            "F1:  0.6875924751638132 Accuracy:  0.6867469879518072\n",
            "Saving best model...\n",
            "Train Epoch: 5 [32/84 (37%)]\tLoss: 0.453482\tTotal Loss: 0.122670\n",
            "Train Epoch: 5 [64/84 (75%)]\tLoss: 0.068238\tTotal Loss: 0.090250\n",
            "              precision    recall  f1-score   support\n",
            "\n",
            "    Negative       0.53      0.61      0.57        31\n",
            "      Neural       0.43      0.72      0.54        18\n",
            "    Positive       0.88      0.44      0.59        34\n",
            "\n",
            "    accuracy                           0.57        83\n",
            "   macro avg       0.61      0.59      0.57        83\n",
            "weighted avg       0.65      0.57      0.57        83\n",
            "\n",
            "F1:  0.5702661391836001 Accuracy:  0.5662650602409639\n",
            "Train Epoch: 6 [32/84 (37%)]\tLoss: 0.043760\tTotal Loss: 0.039220\n",
            "Train Epoch: 6 [64/84 (75%)]\tLoss: 0.007539\tTotal Loss: 0.044080\n",
            "              precision    recall  f1-score   support\n",
            "\n",
            "    Negative       0.60      0.77      0.68        31\n",
            "      Neural       0.73      0.61      0.67        18\n",
            "    Positive       0.75      0.62      0.68        34\n",
            "\n",
            "    accuracy                           0.67        83\n",
            "   macro avg       0.69      0.67      0.67        83\n",
            "weighted avg       0.69      0.67      0.67        83\n",
            "\n",
            "F1:  0.674578367992643 Accuracy:  0.6746987951807228\n"
          ]
        }
      ]
    },
    {
      "cell_type": "code",
      "source": [
        "  # avaliação final do modelo nos dados de teste\n",
        "  f1, acc = evaluate(model, testdata)\n",
        "  print('F1: ', f1, 'Accuracy: ', acc)"
      ],
      "metadata": {
        "colab": {
          "base_uri": "https://localhost:8080/"
        },
        "id": "apWRlEDuafo_",
        "outputId": "8e8348b8-1074-418e-eee4-111af9ec8473"
      },
      "execution_count": 30,
      "outputs": [
        {
          "output_type": "stream",
          "name": "stdout",
          "text": [
            "              precision    recall  f1-score   support\n",
            "\n",
            "    Negative       0.70      0.74      0.72        31\n",
            "      Neural       0.70      0.64      0.67        25\n",
            "    Positive       0.78      0.78      0.78        27\n",
            "\n",
            "    accuracy                           0.72        83\n",
            "   macro avg       0.72      0.72      0.72        83\n",
            "weighted avg       0.72      0.72      0.72        83\n",
            "\n",
            "F1:  0.7222640562248995 Accuracy:  0.7228915662650602\n"
          ]
        }
      ]
    },
    {
      "cell_type": "code",
      "source": [
        "texts = \"lula é horrível\"\n",
        "\n",
        "# instancia o tokenizador enviando os textos dos comentarios\n",
        "inputs = tokenizer(texts, return_tensors='pt', padding=True, truncation=True, max_length=max_length).to(device)\n",
        "# instancia o modelo enviando os tokens e salvando as classificações preditas\n",
        "output = model(**inputs)\n",
        "\n",
        "# cria um tensor com os labels preditos no output\n",
        "pred_labels = torch.argmax(output.logits, 1).item()\n",
        "\n",
        "print(f\"texto: {texts}, rótulo predito pelo modelo: {pred_labels}\") # imprime a frase, o resultado correto e o predito"
      ],
      "metadata": {
        "colab": {
          "base_uri": "https://localhost:8080/"
        },
        "id": "hUx4gHm0jt_c",
        "outputId": "42e83684-e19a-4e7b-c3b5-e85eeaa7128b"
      },
      "execution_count": 31,
      "outputs": [
        {
          "output_type": "stream",
          "name": "stdout",
          "text": [
            "texto: lula é horrível, rótulo predito pelo modelo: 0\n"
          ]
        }
      ]
    },
    {
      "cell_type": "code",
      "source": [
        "texts = \"lula é ótimo, votem 13\"\n",
        "\n",
        "# instancia o tokenizador enviando os textos dos comentarios\n",
        "inputs = tokenizer(texts, return_tensors='pt', padding=True, truncation=True, max_length=max_length).to(device)\n",
        "# instancia o modelo enviando os tokens e salvando as classificações preditas\n",
        "output = model(**inputs)\n",
        "\n",
        "# cria um tensor com os labels preditos no output\n",
        "pred_labels = torch.argmax(output.logits, 1).item()\n",
        "\n",
        "print(f\"texto: {texts}, rótulo predito pelo modelo: {pred_labels}\") # imprime a frase, o resultado correto e o predito"
      ],
      "metadata": {
        "colab": {
          "base_uri": "https://localhost:8080/"
        },
        "id": "vN_bY4xtlIHf",
        "outputId": "5974b58f-ff3c-4e1d-fd08-c3f8c725c6d6"
      },
      "execution_count": 32,
      "outputs": [
        {
          "output_type": "stream",
          "name": "stdout",
          "text": [
            "texto: lula é ótimo, votem 13, rótulo predito pelo modelo: 2\n"
          ]
        }
      ]
    },
    {
      "cell_type": "code",
      "source": [
        "texts = \"tweet aleatório sem sentido\"\n",
        "\n",
        "# instancia o tokenizador enviando os textos dos comentarios\n",
        "inputs = tokenizer(texts, return_tensors='pt', padding=True, truncation=True, max_length=max_length).to(device)\n",
        "# instancia o modelo enviando os tokens e salvando as classificações preditas\n",
        "output = model(**inputs)\n",
        "\n",
        "# cria um tensor com os labels preditos no output\n",
        "pred_labels = torch.argmax(output.logits, 1).item()\n",
        "\n",
        "print(f\"texto: {texts}, rótulo predito pelo modelo: {pred_labels}\") # imprime a frase, o resultado correto e o predito"
      ],
      "metadata": {
        "colab": {
          "base_uri": "https://localhost:8080/"
        },
        "id": "YBwGwZurlMok",
        "outputId": "66dcf224-bbf3-4717-d6a5-62a1255df2d7"
      },
      "execution_count": 33,
      "outputs": [
        {
          "output_type": "stream",
          "name": "stdout",
          "text": [
            "texto: tweet aleatório sem sentido, rótulo predito pelo modelo: 1\n"
          ]
        }
      ]
    },
    {
      "cell_type": "code",
      "source": [
        "#reduced_df = full_df.head(10000) # seleciona apenas 5000 linhas para teste\n",
        "reduced_df = full_df"
      ],
      "metadata": {
        "id": "b2Hi-lWBJgBl"
      },
      "execution_count": 34,
      "outputs": []
    },
    {
      "cell_type": "code",
      "source": [
        "\n",
        "# iterates through the dataframe tweets_lula and prints the text of the 'content' column at each iteration\n",
        "for index, row in reduced_df.iterrows():\n",
        "    # instancia o tokenizador enviando os textos dos comentarios\n",
        "    inputs = tokenizer(str(row['content']), return_tensors='pt', padding=True, truncation=True, max_length=max_length).to(device)\n",
        "    # instancia o modelo enviando os tokens e salvando as classificações preditas\n",
        "    output = model(**inputs)\n",
        "    # cria um tensor com os labels preditos no output e extrai a predição do tensor\n",
        "    reduced_df['label'][index] = torch.argmax(output.logits).item()\n",
        "\n",
        "    if index % 2000 == 0:\n",
        "      print(f\"{index}/{len(reduced_df)}\")\n",
        "    #print(reduced_df['label'])\n",
        "    \n"
      ],
      "metadata": {
        "colab": {
          "base_uri": "https://localhost:8080/"
        },
        "id": "bYuwXKsz5RKc",
        "outputId": "f2008a82-8dd0-45ee-8f2b-320f0d092b52"
      },
      "execution_count": 35,
      "outputs": [
        {
          "output_type": "stream",
          "name": "stdout",
          "text": [
            "0/24698\n"
          ]
        },
        {
          "output_type": "stream",
          "name": "stderr",
          "text": [
            "/usr/local/lib/python3.7/dist-packages/ipykernel_launcher.py:8: SettingWithCopyWarning: \n",
            "A value is trying to be set on a copy of a slice from a DataFrame\n",
            "\n",
            "See the caveats in the documentation: https://pandas.pydata.org/pandas-docs/stable/user_guide/indexing.html#returning-a-view-versus-a-copy\n",
            "  \n"
          ]
        },
        {
          "output_type": "stream",
          "name": "stdout",
          "text": [
            "2000/24698\n",
            "4000/24698\n",
            "6000/24698\n",
            "8000/24698\n",
            "10000/24698\n",
            "12000/24698\n",
            "14000/24698\n",
            "16000/24698\n",
            "18000/24698\n",
            "20000/24698\n",
            "22000/24698\n",
            "24000/24698\n"
          ]
        }
      ]
    },
    {
      "cell_type": "code",
      "source": [
        "# nmostra a proporção de labels no resultado final total\n",
        "reduced_df['label'].value_counts().plot.pie(autopct='%.2f')"
      ],
      "metadata": {
        "colab": {
          "base_uri": "https://localhost:8080/",
          "height": 266
        },
        "id": "LkhxhKKqH3S9",
        "outputId": "a749eeb2-eb72-4d14-cbcc-7cf5db26d29b"
      },
      "execution_count": 36,
      "outputs": [
        {
          "output_type": "execute_result",
          "data": {
            "text/plain": [
              "<matplotlib.axes._subplots.AxesSubplot at 0x7fa881a9e9d0>"
            ]
          },
          "metadata": {},
          "execution_count": 36
        },
        {
          "output_type": "display_data",
          "data": {
            "text/plain": [
              "<Figure size 432x288 with 1 Axes>"
            ],
            "image/png": "[encoded data removed]"
          },
          "metadata": {}
        }
      ]
    },
    {
      "cell_type": "code",
      "source": [
        "# transforma a data em time series\n",
        "reduced_df['date'] = pd.to_datetime(full_df['date'])\n"
      ],
      "metadata": {
        "id": "MAcHMqWu6jnJ"
      },
      "execution_count": 37,
      "outputs": []
    },
    {
      "cell_type": "code",
      "source": [
        "# agrupa o total de labels por dia\n",
        "reduced_df_grouped = reduced_df.groupby(['label', pd.Grouper(key='date', freq='D')]).count()"
      ],
      "metadata": {
        "id": "LklHxUMyBXjx"
      },
      "execution_count": 38,
      "outputs": []
    },
    {
      "cell_type": "code",
      "source": [
        "reduced_df_grouped.head(10)"
      ],
      "metadata": {
        "colab": {
          "base_uri": "https://localhost:8080/",
          "height": 394
        },
        "id": "A5pgTDSFG9Sv",
        "outputId": "a424e573-bb82-41b5-bfa5-7b9bd9fddba4"
      },
      "execution_count": 39,
      "outputs": [
        {
          "output_type": "execute_result",
          "data": {
            "text/plain": [
              "                   id  content  filtered_text\n",
              "label date                                   \n",
              "0.0   2022-10-02  304      304            304\n",
              "      2022-10-03  363      363            363\n",
              "      2022-10-04  454      454            454\n",
              "      2022-10-05  431      431            431\n",
              "      2022-10-06  491      491            491\n",
              "      2022-10-07  471      471            471\n",
              "      2022-10-08  415      415            415\n",
              "      2022-10-09  444      444            444\n",
              "      2022-10-10  377      377            377\n",
              "      2022-10-11  430      430            430"
            ],
            "text/html": [
              "\n",
              "  <div id=\"df-322171cb-aa08-4d9d-8627-90e25183779a\">\n",
              "    <div class=\"colab-df-container\">\n",
              "      <div>\n",
              "<style scoped>\n",
              "    .dataframe tbody tr th:only-of-type {\n",
              "        vertical-align: middle;\n",
              "    }\n",
              "\n",
              "    .dataframe tbody tr th {\n",
              "        vertical-align: top;\n",
              "    }\n",
              "\n",
              "    .dataframe thead th {\n",
              "        text-align: right;\n",
              "    }\n",
              "</style>\n",
              "<table border=\"1\" class=\"dataframe\">\n",
              "  <thead>\n",
              "    <tr style=\"text-align: right;\">\n",
              "      <th></th>\n",
              "      <th></th>\n",
              "      <th>id</th>\n",
              "      <th>content</th>\n",
              "      <th>filtered_text</th>\n",
              "    </tr>\n",
              "    <tr>\n",
              "      <th>label</th>\n",
              "      <th>date</th>\n",
              "      <th></th>\n",
              "      <th></th>\n",
              "      <th></th>\n",
              "    </tr>\n",
              "  </thead>\n",
              "  <tbody>\n",
              "    <tr>\n",
              "      <th rowspan=\"10\" valign=\"top\">0.0</th>\n",
              "      <th>2022-10-02</th>\n",
              "      <td>304</td>\n",
              "      <td>304</td>\n",
              "      <td>304</td>\n",
              "    </tr>\n",
              "    <tr>\n",
              "      <th>2022-10-03</th>\n",
              "      <td>363</td>\n",
              "      <td>363</td>\n",
              "      <td>363</td>\n",
              "    </tr>\n",
              "    <tr>\n",
              "      <th>2022-10-04</th>\n",
              "      <td>454</td>\n",
              "      <td>454</td>\n",
              "      <td>454</td>\n",
              "    </tr>\n",
              "    <tr>\n",
              "      <th>2022-10-05</th>\n",
              "      <td>431</td>\n",
              "      <td>431</td>\n",
              "      <td>431</td>\n",
              "    </tr>\n",
              "    <tr>\n",
              "      <th>2022-10-06</th>\n",
              "      <td>491</td>\n",
              "      <td>491</td>\n",
              "      <td>491</td>\n",
              "    </tr>\n",
              "    <tr>\n",
              "      <th>2022-10-07</th>\n",
              "      <td>471</td>\n",
              "      <td>471</td>\n",
              "      <td>471</td>\n",
              "    </tr>\n",
              "    <tr>\n",
              "      <th>2022-10-08</th>\n",
              "      <td>415</td>\n",
              "      <td>415</td>\n",
              "      <td>415</td>\n",
              "    </tr>\n",
              "    <tr>\n",
              "      <th>2022-10-09</th>\n",
              "      <td>444</td>\n",
              "      <td>444</td>\n",
              "      <td>444</td>\n",
              "    </tr>\n",
              "    <tr>\n",
              "      <th>2022-10-10</th>\n",
              "      <td>377</td>\n",
              "      <td>377</td>\n",
              "      <td>377</td>\n",
              "    </tr>\n",
              "    <tr>\n",
              "      <th>2022-10-11</th>\n",
              "      <td>430</td>\n",
              "      <td>430</td>\n",
              "      <td>430</td>\n",
              "    </tr>\n",
              "  </tbody>\n",
              "</table>\n",
              "</div>\n",
              "      <button class=\"colab-df-convert\" onclick=\"convertToInteractive('df-322171cb-aa08-4d9d-8627-90e25183779a')\"\n",
              "              title=\"Convert this dataframe to an interactive table.\"\n",
              "              style=\"display:none;\">\n",
              "        \n",
              "  <svg xmlns=\"http://www.w3.org/2000/svg\" height=\"24px\"viewBox=\"0 0 24 24\"\n",
              "       width=\"24px\">\n",
              "    <path d=\"M0 0h24v24H0V0z\" fill=\"none\"/>\n",
              "    <path d=\"M18.56 5.44l.94 2.06.94-2.06 2.06-.94-2.06-.94-.94-2.06-.94 2.06-2.06.94zm-11 1L8.5 8.5l.94-2.06 2.06-.94-2.06-.94L8.5 2.5l-.94 2.06-2.06.94zm10 10l.94 2.06.94-2.06 2.06-.94-2.06-.94-.94-2.06-.94 2.06-2.06.94z\"/><path d=\"M17.41 7.96l-1.37-1.37c-.4-.4-.92-.59-1.43-.59-.52 0-1.04.2-1.43.59L10.3 9.45l-7.72 7.72c-.78.78-.78 2.05 0 2.83L4 21.41c.39.39.9.59 1.41.59.51 0 1.02-.2 1.41-.59l7.78-7.78 2.81-2.81c.8-.78.8-2.07 0-2.86zM5.41 20L4 18.59l7.72-7.72 1.47 1.35L5.41 20z\"/>\n",
              "  </svg>\n",
              "      </button>\n",
              "      \n",
              "  <style>\n",
              "    .colab-df-container {\n",
              "      display:flex;\n",
              "      flex-wrap:wrap;\n",
              "      gap: 12px;\n",
              "    }\n",
              "\n",
              "    .colab-df-convert {\n",
              "      background-color: #E8F0FE;\n",
              "      border: none;\n",
              "      border-radius: 50%;\n",
              "      cursor: pointer;\n",
              "      display: none;\n",
              "      fill: #1967D2;\n",
              "      height: 32px;\n",
              "      padding: 0 0 0 0;\n",
              "      width: 32px;\n",
              "    }\n",
              "\n",
              "    .colab-df-convert:hover {\n",
              "      background-color: #E2EBFA;\n",
              "      box-shadow: 0px 1px 2px rgba(60, 64, 67, 0.3), 0px 1px 3px 1px rgba(60, 64, 67, 0.15);\n",
              "      fill: #174EA6;\n",
              "    }\n",
              "\n",
              "    [theme=dark] .colab-df-convert {\n",
              "      background-color: #3B4455;\n",
              "      fill: #D2E3FC;\n",
              "    }\n",
              "\n",
              "    [theme=dark] .colab-df-convert:hover {\n",
              "      background-color: #434B5C;\n",
              "      box-shadow: 0px 1px 3px 1px rgba(0, 0, 0, 0.15);\n",
              "      filter: drop-shadow(0px 1px 2px rgba(0, 0, 0, 0.3));\n",
              "      fill: #FFFFFF;\n",
              "    }\n",
              "  </style>\n",
              "\n",
              "      <script>\n",
              "        const buttonEl =\n",
              "          document.querySelector('#df-322171cb-aa08-4d9d-8627-90e25183779a button.colab-df-convert');\n",
              "        buttonEl.style.display =\n",
              "          google.colab.kernel.accessAllowed ? 'block' : 'none';\n",
              "\n",
              "        async function convertToInteractive(key) {\n",
              "          const element = document.querySelector('#df-322171cb-aa08-4d9d-8627-90e25183779a');\n",
              "          const dataTable =\n",
              "            await google.colab.kernel.invokeFunction('convertToInteractive',\n",
              "                                                     [key], {});\n",
              "          if (!dataTable) return;\n",
              "\n",
              "          const docLinkHtml = 'Like what you see? Visit the ' +\n",
              "            '<a target=\"_blank\" href=https://colab.research.google.com/notebooks/data_table.ipynb>data table notebook</a>'\n",
              "            + ' to learn more about interactive tables.';\n",
              "          element.innerHTML = '';\n",
              "          dataTable['output_type'] = 'display_data';\n",
              "          await google.colab.output.renderOutput(dataTable, element);\n",
              "          const docLink = document.createElement('div');\n",
              "          docLink.innerHTML = docLinkHtml;\n",
              "          element.appendChild(docLink);\n",
              "        }\n",
              "      </script>\n",
              "    </div>\n",
              "  </div>\n",
              "  "
            ]
          },
          "metadata": {},
          "execution_count": 39
        }
      ]
    },
    {
      "cell_type": "code",
      "source": [
        "# faz o pivot transformando as linhas de diferente labels em colunas\n",
        "reduced_df_grouped = reduced_df_grouped.pivot_table(index='date', columns='label', values='content')"
      ],
      "metadata": {
        "id": "5H6bwFA_O_4x"
      },
      "execution_count": 40,
      "outputs": []
    },
    {
      "cell_type": "code",
      "source": [
        "#remove coluna com label 1 (indefinidos)\n",
        "reduced_df_grouped = reduced_df_grouped.drop(columns=[1])"
      ],
      "metadata": {
        "id": "zHZ62wtuS5np"
      },
      "execution_count": 41,
      "outputs": []
    },
    {
      "cell_type": "code",
      "source": [
        "#plota o gráfico\n",
        "reduced_df_grouped.plot(kind='bar', stacked=True, figsize=(20,10))"
      ],
      "metadata": {
        "colab": {
          "base_uri": "https://localhost:8080/",
          "height": 719
        },
        "id": "WCX5BIGaPqN4",
        "outputId": "452f8d41-27f1-4d0e-ba37-4a82473318a5"
      },
      "execution_count": 42,
      "outputs": [
        {
          "output_type": "execute_result",
          "data": {
            "text/plain": [
              "<matplotlib.axes._subplots.AxesSubplot at 0x7fa881a9d450>"
            ]
          },
          "metadata": {},
          "execution_count": 42
        },
        {
          "output_type": "display_data",
          "data": {
            "text/plain": [
              "<Figure size 1440x720 with 1 Axes>"
            ],
            "image/png": "[encoded data removed]"
          },
          "metadata": {
            "needs_background": "light"
          }
        }
      ]
    },
    {
      "cell_type": "code",
      "source": [
        "stacked_data = reduced_df_grouped.apply(lambda x: x*100/sum(x), axis=1)\n",
        "stacked_data.plot(kind=\"bar\", stacked=True,  figsize=(20,10))\n",
        "plt.title(\"Variação de sentimento\")\n",
        "plt.xlabel(\"Data\")\n",
        "plt.ylabel(\"Porcentagem de cada Sentimento\")"
      ],
      "metadata": {
        "colab": {
          "base_uri": "https://localhost:8080/",
          "height": 735
        },
        "id": "i-WZyDc4e4X0",
        "outputId": "5263c334-efba-4a82-b677-a245ecda3188"
      },
      "execution_count": 43,
      "outputs": [
        {
          "output_type": "execute_result",
          "data": {
            "text/plain": [
              "Text(0, 0.5, 'Porcentagem de cada Sentimento')"
            ]
          },
          "metadata": {},
          "execution_count": 43
        },
        {
          "output_type": "display_data",
          "data": {
            "text/plain": [
              "<Figure size 1440x720 with 1 Axes>"
            ],
            "image/png": "[encoded data removed]"
          },
          "metadata": {
            "needs_background": "light"
          }
        }
      ]
    }
  ]
}