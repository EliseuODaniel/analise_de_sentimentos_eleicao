{
  "nbformat": 4,
  "nbformat_minor": 0,
  "metadata": {
    "colab": {
      "provenance": [],
      "collapsed_sections": [],
      "include_colab_link": true
    },
    "kernelspec": {
      "name": "python3",
      "display_name": "Python 3"
    },
    "language_info": {
      "name": "python"
    },
    "gpuClass": "standard",
    "widgets": {
      "application/vnd.jupyter.widget-state+json": {
        "472ce37078824143adf4756b5ba3cb0c": {
          "model_module": "@jupyter-widgets/controls",
          "model_name": "HBoxModel",
          "model_module_version": "1.5.0",
          "state": {
            "_dom_classes": [],
            "_model_module": "@jupyter-widgets/controls",
            "_model_module_version": "1.5.0",
            "_model_name": "HBoxModel",
            "_view_count": null,
            "_view_module": "@jupyter-widgets/controls",
            "_view_module_version": "1.5.0",
            "_view_name": "HBoxView",
            "box_style": "",
            "children": [
              "IPY_MODEL_3f9ab91d197a4ef38bdd93932ed65410",
              "IPY_MODEL_103ca3f1dc174f88af15ad53f3350adc",
              "IPY_MODEL_e6cc274eecb440dfa5854b3cad735e20"
            ],
            "layout": "IPY_MODEL_b0348947506448fd916253c5695c8e8d"
          }
        },
        "3f9ab91d197a4ef38bdd93932ed65410": {
          "model_module": "@jupyter-widgets/controls",
          "model_name": "HTMLModel",
          "model_module_version": "1.5.0",
          "state": {
            "_dom_classes": [],
            "_model_module": "@jupyter-widgets/controls",
            "_model_module_version": "1.5.0",
            "_model_name": "HTMLModel",
            "_view_count": null,
            "_view_module": "@jupyter-widgets/controls",
            "_view_module_version": "1.5.0",
            "_view_name": "HTMLView",
            "description": "",
            "description_tooltip": null,
            "layout": "IPY_MODEL_fb51fbf86e744dbab9afee951d10947a",
            "placeholder": "​",
            "style": "IPY_MODEL_13b1df37520140c39c2c8bf30618c342",
            "value": "Downloading: 100%"
          }
        },
        "103ca3f1dc174f88af15ad53f3350adc": {
          "model_module": "@jupyter-widgets/controls",
          "model_name": "FloatProgressModel",
          "model_module_version": "1.5.0",
          "state": {
            "_dom_classes": [],
            "_model_module": "@jupyter-widgets/controls",
            "_model_module_version": "1.5.0",
            "_model_name": "FloatProgressModel",
            "_view_count": null,
            "_view_module": "@jupyter-widgets/controls",
            "_view_module_version": "1.5.0",
            "_view_name": "ProgressView",
            "bar_style": "success",
            "description": "",
            "description_tooltip": null,
            "layout": "IPY_MODEL_804fc22ba60a459ca0c38bd99affe2ce",
            "max": 155,
            "min": 0,
            "orientation": "horizontal",
            "style": "IPY_MODEL_cddaea46a5e449b69546665cc7b15dd3",
            "value": 155
          }
        },
        "e6cc274eecb440dfa5854b3cad735e20": {
          "model_module": "@jupyter-widgets/controls",
          "model_name": "HTMLModel",
          "model_module_version": "1.5.0",
          "state": {
            "_dom_classes": [],
            "_model_module": "@jupyter-widgets/controls",
            "_model_module_version": "1.5.0",
            "_model_name": "HTMLModel",
            "_view_count": null,
            "_view_module": "@jupyter-widgets/controls",
            "_view_module_version": "1.5.0",
            "_view_name": "HTMLView",
            "description": "",
            "description_tooltip": null,
            "layout": "IPY_MODEL_fbc1c8d480854a469867475bcbe8ccc6",
            "placeholder": "​",
            "style": "IPY_MODEL_7c88eef0f63e40439f8c714560fe5460",
            "value": " 155/155 [00:00&lt;00:00, 1.05kB/s]"
          }
        },
        "b0348947506448fd916253c5695c8e8d": {
          "model_module": "@jupyter-widgets/base",
          "model_name": "LayoutModel",
          "model_module_version": "1.2.0",
          "state": {
            "_model_module": "@jupyter-widgets/base",
            "_model_module_version": "1.2.0",
            "_model_name": "LayoutModel",
            "_view_count": null,
            "_view_module": "@jupyter-widgets/base",
            "_view_module_version": "1.2.0",
            "_view_name": "LayoutView",
            "align_content": null,
            "align_items": null,
            "align_self": null,
            "border": null,
            "bottom": null,
            "display": null,
            "flex": null,
            "flex_flow": null,
            "grid_area": null,
            "grid_auto_columns": null,
            "grid_auto_flow": null,
            "grid_auto_rows": null,
            "grid_column": null,
            "grid_gap": null,
            "grid_row": null,
            "grid_template_areas": null,
            "grid_template_columns": null,
            "grid_template_rows": null,
            "height": null,
            "justify_content": null,
            "justify_items": null,
            "left": null,
            "margin": null,
            "max_height": null,
            "max_width": null,
            "min_height": null,
            "min_width": null,
            "object_fit": null,
            "object_position": null,
            "order": null,
            "overflow": null,
            "overflow_x": null,
            "overflow_y": null,
            "padding": null,
            "right": null,
            "top": null,
            "visibility": null,
            "width": null
          }
        },
        "fb51fbf86e744dbab9afee951d10947a": {
          "model_module": "@jupyter-widgets/base",
          "model_name": "LayoutModel",
          "model_module_version": "1.2.0",
          "state": {
            "_model_module": "@jupyter-widgets/base",
            "_model_module_version": "1.2.0",
            "_model_name": "LayoutModel",
            "_view_count": null,
            "_view_module": "@jupyter-widgets/base",
            "_view_module_version": "1.2.0",
            "_view_name": "LayoutView",
            "align_content": null,
            "align_items": null,
            "align_self": null,
            "border": null,
            "bottom": null,
            "display": null,
            "flex": null,
            "flex_flow": null,
            "grid_area": null,
            "grid_auto_columns": null,
            "grid_auto_flow": null,
            "grid_auto_rows": null,
            "grid_column": null,
            "grid_gap": null,
            "grid_row": null,
            "grid_template_areas": null,
            "grid_template_columns": null,
            "grid_template_rows": null,
            "height": null,
            "justify_content": null,
            "justify_items": null,
            "left": null,
            "margin": null,
            "max_height": null,
            "max_width": null,
            "min_height": null,
            "min_width": null,
            "object_fit": null,
            "object_position": null,
            "order": null,
            "overflow": null,
            "overflow_x": null,
            "overflow_y": null,
            "padding": null,
            "right": null,
            "top": null,
            "visibility": null,
            "width": null
          }
        },
        "13b1df37520140c39c2c8bf30618c342": {
          "model_module": "@jupyter-widgets/controls",
          "model_name": "DescriptionStyleModel",
          "model_module_version": "1.5.0",
          "state": {
            "_model_module": "@jupyter-widgets/controls",
            "_model_module_version": "1.5.0",
            "_model_name": "DescriptionStyleModel",
            "_view_count": null,
            "_view_module": "@jupyter-widgets/base",
            "_view_module_version": "1.2.0",
            "_view_name": "StyleView",
            "description_width": ""
          }
        },
        "804fc22ba60a459ca0c38bd99affe2ce": {
          "model_module": "@jupyter-widgets/base",
          "model_name": "LayoutModel",
          "model_module_version": "1.2.0",
          "state": {
            "_model_module": "@jupyter-widgets/base",
            "_model_module_version": "1.2.0",
            "_model_name": "LayoutModel",
            "_view_count": null,
            "_view_module": "@jupyter-widgets/base",
            "_view_module_version": "1.2.0",
            "_view_name": "LayoutView",
            "align_content": null,
            "align_items": null,
            "align_self": null,
            "border": null,
            "bottom": null,
            "display": null,
            "flex": null,
            "flex_flow": null,
            "grid_area": null,
            "grid_auto_columns": null,
            "grid_auto_flow": null,
            "grid_auto_rows": null,
            "grid_column": null,
            "grid_gap": null,
            "grid_row": null,
            "grid_template_areas": null,
            "grid_template_columns": null,
            "grid_template_rows": null,
            "height": null,
            "justify_content": null,
            "justify_items": null,
            "left": null,
            "margin": null,
            "max_height": null,
            "max_width": null,
            "min_height": null,
            "min_width": null,
            "object_fit": null,
            "object_position": null,
            "order": null,
            "overflow": null,
            "overflow_x": null,
            "overflow_y": null,
            "padding": null,
            "right": null,
            "top": null,
            "visibility": null,
            "width": null
          }
        },
        "cddaea46a5e449b69546665cc7b15dd3": {
          "model_module": "@jupyter-widgets/controls",
          "model_name": "ProgressStyleModel",
          "model_module_version": "1.5.0",
          "state": {
            "_model_module": "@jupyter-widgets/controls",
            "_model_module_version": "1.5.0",
            "_model_name": "ProgressStyleModel",
            "_view_count": null,
            "_view_module": "@jupyter-widgets/base",
            "_view_module_version": "1.2.0",
            "_view_name": "StyleView",
            "bar_color": null,
            "description_width": ""
          }
        },
        "fbc1c8d480854a469867475bcbe8ccc6": {
          "model_module": "@jupyter-widgets/base",
          "model_name": "LayoutModel",
          "model_module_version": "1.2.0",
          "state": {
            "_model_module": "@jupyter-widgets/base",
            "_model_module_version": "1.2.0",
            "_model_name": "LayoutModel",
            "_view_count": null,
            "_view_module": "@jupyter-widgets/base",
            "_view_module_version": "1.2.0",
            "_view_name": "LayoutView",
            "align_content": null,
            "align_items": null,
            "align_self": null,
            "border": null,
            "bottom": null,
            "display": null,
            "flex": null,
            "flex_flow": null,
            "grid_area": null,
            "grid_auto_columns": null,
            "grid_auto_flow": null,
            "grid_auto_rows": null,
            "grid_column": null,
            "grid_gap": null,
            "grid_row": null,
            "grid_template_areas": null,
            "grid_template_columns": null,
            "grid_template_rows": null,
            "height": null,
            "justify_content": null,
            "justify_items": null,
            "left": null,
            "margin": null,
            "max_height": null,
            "max_width": null,
            "min_height": null,
            "min_width": null,
            "object_fit": null,
            "object_position": null,
            "order": null,
            "overflow": null,
            "overflow_x": null,
            "overflow_y": null,
            "padding": null,
            "right": null,
            "top": null,
            "visibility": null,
            "width": null
          }
        },
        "7c88eef0f63e40439f8c714560fe5460": {
          "model_module": "@jupyter-widgets/controls",
          "model_name": "DescriptionStyleModel",
          "model_module_version": "1.5.0",
          "state": {
            "_model_module": "@jupyter-widgets/controls",
            "_model_module_version": "1.5.0",
            "_model_name": "DescriptionStyleModel",
            "_view_count": null,
            "_view_module": "@jupyter-widgets/base",
            "_view_module_version": "1.2.0",
            "_view_name": "StyleView",
            "description_width": ""
          }
        },
        "2e5746f8cea64c92ae8095bdf6d0e01f": {
          "model_module": "@jupyter-widgets/controls",
          "model_name": "HBoxModel",
          "model_module_version": "1.5.0",
          "state": {
            "_dom_classes": [],
            "_model_module": "@jupyter-widgets/controls",
            "_model_module_version": "1.5.0",
            "_model_name": "HBoxModel",
            "_view_count": null,
            "_view_module": "@jupyter-widgets/controls",
            "_view_module_version": "1.5.0",
            "_view_name": "HBoxView",
            "box_style": "",
            "children": [
              "IPY_MODEL_6903bfa5202f42b98cabce93e2baa785",
              "IPY_MODEL_43f61c936c904760bec5c2c73908746d",
              "IPY_MODEL_b1cd7f5344d94d84a22cfa84207d6c33"
            ],
            "layout": "IPY_MODEL_0efd5e11737948a89abc474976f8119f"
          }
        },
        "6903bfa5202f42b98cabce93e2baa785": {
          "model_module": "@jupyter-widgets/controls",
          "model_name": "HTMLModel",
          "model_module_version": "1.5.0",
          "state": {
            "_dom_classes": [],
            "_model_module": "@jupyter-widgets/controls",
            "_model_module_version": "1.5.0",
            "_model_name": "HTMLModel",
            "_view_count": null,
            "_view_module": "@jupyter-widgets/controls",
            "_view_module_version": "1.5.0",
            "_view_name": "HTMLView",
            "description": "",
            "description_tooltip": null,
            "layout": "IPY_MODEL_7f91a9960a4b4d94ad832c60d61331e6",
            "placeholder": "​",
            "style": "IPY_MODEL_56882ba8736c42af9bc5d0d4af783396",
            "value": "Downloading: 100%"
          }
        },
        "43f61c936c904760bec5c2c73908746d": {
          "model_module": "@jupyter-widgets/controls",
          "model_name": "FloatProgressModel",
          "model_module_version": "1.5.0",
          "state": {
            "_dom_classes": [],
            "_model_module": "@jupyter-widgets/controls",
            "_model_module_version": "1.5.0",
            "_model_name": "FloatProgressModel",
            "_view_count": null,
            "_view_module": "@jupyter-widgets/controls",
            "_view_module_version": "1.5.0",
            "_view_name": "ProgressView",
            "bar_style": "success",
            "description": "",
            "description_tooltip": null,
            "layout": "IPY_MODEL_e446852d1928405da85c1185ba6fc8a4",
            "max": 648,
            "min": 0,
            "orientation": "horizontal",
            "style": "IPY_MODEL_75fbd5cd454d4b7eabcd0cd0d0bd58e1",
            "value": 648
          }
        },
        "b1cd7f5344d94d84a22cfa84207d6c33": {
          "model_module": "@jupyter-widgets/controls",
          "model_name": "HTMLModel",
          "model_module_version": "1.5.0",
          "state": {
            "_dom_classes": [],
            "_model_module": "@jupyter-widgets/controls",
            "_model_module_version": "1.5.0",
            "_model_name": "HTMLModel",
            "_view_count": null,
            "_view_module": "@jupyter-widgets/controls",
            "_view_module_version": "1.5.0",
            "_view_name": "HTMLView",
            "description": "",
            "description_tooltip": null,
            "layout": "IPY_MODEL_08de285109bd4dbd9381d69c9d40db78",
            "placeholder": "​",
            "style": "IPY_MODEL_0bd6d83774c54a17a49b5c14d635ae34",
            "value": " 648/648 [00:00&lt;00:00, 6.70kB/s]"
          }
        },
        "0efd5e11737948a89abc474976f8119f": {
          "model_module": "@jupyter-widgets/base",
          "model_name": "LayoutModel",
          "model_module_version": "1.2.0",
          "state": {
            "_model_module": "@jupyter-widgets/base",
            "_model_module_version": "1.2.0",
            "_model_name": "LayoutModel",
            "_view_count": null,
            "_view_module": "@jupyter-widgets/base",
            "_view_module_version": "1.2.0",
            "_view_name": "LayoutView",
            "align_content": null,
            "align_items": null,
            "align_self": null,
            "border": null,
            "bottom": null,
            "display": null,
            "flex": null,
            "flex_flow": null,
            "grid_area": null,
            "grid_auto_columns": null,
            "grid_auto_flow": null,
            "grid_auto_rows": null,
            "grid_column": null,
            "grid_gap": null,
            "grid_row": null,
            "grid_template_areas": null,
            "grid_template_columns": null,
            "grid_template_rows": null,
            "height": null,
            "justify_content": null,
            "justify_items": null,
            "left": null,
            "margin": null,
            "max_height": null,
            "max_width": null,
            "min_height": null,
            "min_width": null,
            "object_fit": null,
            "object_position": null,
            "order": null,
            "overflow": null,
            "overflow_x": null,
            "overflow_y": null,
            "padding": null,
            "right": null,
            "top": null,
            "visibility": null,
            "width": null
          }
        },
        "7f91a9960a4b4d94ad832c60d61331e6": {
          "model_module": "@jupyter-widgets/base",
          "model_name": "LayoutModel",
          "model_module_version": "1.2.0",
          "state": {
            "_model_module": "@jupyter-widgets/base",
            "_model_module_version": "1.2.0",
            "_model_name": "LayoutModel",
            "_view_count": null,
            "_view_module": "@jupyter-widgets/base",
            "_view_module_version": "1.2.0",
            "_view_name": "LayoutView",
            "align_content": null,
            "align_items": null,
            "align_self": null,
            "border": null,
            "bottom": null,
            "display": null,
            "flex": null,
            "flex_flow": null,
            "grid_area": null,
            "grid_auto_columns": null,
            "grid_auto_flow": null,
            "grid_auto_rows": null,
            "grid_column": null,
            "grid_gap": null,
            "grid_row": null,
            "grid_template_areas": null,
            "grid_template_columns": null,
            "grid_template_rows": null,
            "height": null,
            "justify_content": null,
            "justify_items": null,
            "left": null,
            "margin": null,
            "max_height": null,
            "max_width": null,
            "min_height": null,
            "min_width": null,
            "object_fit": null,
            "object_position": null,
            "order": null,
            "overflow": null,
            "overflow_x": null,
            "overflow_y": null,
            "padding": null,
            "right": null,
            "top": null,
            "visibility": null,
            "width": null
          }
        },
        "56882ba8736c42af9bc5d0d4af783396": {
          "model_module": "@jupyter-widgets/controls",
          "model_name": "DescriptionStyleModel",
          "model_module_version": "1.5.0",
          "state": {
            "_model_module": "@jupyter-widgets/controls",
            "_model_module_version": "1.5.0",
            "_model_name": "DescriptionStyleModel",
            "_view_count": null,
            "_view_module": "@jupyter-widgets/base",
            "_view_module_version": "1.2.0",
            "_view_name": "StyleView",
            "description_width": ""
          }
        },
        "e446852d1928405da85c1185ba6fc8a4": {
          "model_module": "@jupyter-widgets/base",
          "model_name": "LayoutModel",
          "model_module_version": "1.2.0",
          "state": {
            "_model_module": "@jupyter-widgets/base",
            "_model_module_version": "1.2.0",
            "_model_name": "LayoutModel",
            "_view_count": null,
            "_view_module": "@jupyter-widgets/base",
            "_view_module_version": "1.2.0",
            "_view_name": "LayoutView",
            "align_content": null,
            "align_items": null,
            "align_self": null,
            "border": null,
            "bottom": null,
            "display": null,
            "flex": null,
            "flex_flow": null,
            "grid_area": null,
            "grid_auto_columns": null,
            "grid_auto_flow": null,
            "grid_auto_rows": null,
            "grid_column": null,
            "grid_gap": null,
            "grid_row": null,
            "grid_template_areas": null,
            "grid_template_columns": null,
            "grid_template_rows": null,
            "height": null,
            "justify_content": null,
            "justify_items": null,
            "left": null,
            "margin": null,
            "max_height": null,
            "max_width": null,
            "min_height": null,
            "min_width": null,
            "object_fit": null,
            "object_position": null,
            "order": null,
            "overflow": null,
            "overflow_x": null,
            "overflow_y": null,
            "padding": null,
            "right": null,
            "top": null,
            "visibility": null,
            "width": null
          }
        },
        "75fbd5cd454d4b7eabcd0cd0d0bd58e1": {
          "model_module": "@jupyter-widgets/controls",
          "model_name": "ProgressStyleModel",
          "model_module_version": "1.5.0",
          "state": {
            "_model_module": "@jupyter-widgets/controls",
            "_model_module_version": "1.5.0",
            "_model_name": "ProgressStyleModel",
            "_view_count": null,
            "_view_module": "@jupyter-widgets/base",
            "_view_module_version": "1.2.0",
            "_view_name": "StyleView",
            "bar_color": null,
            "description_width": ""
          }
        },
        "08de285109bd4dbd9381d69c9d40db78": {
          "model_module": "@jupyter-widgets/base",
          "model_name": "LayoutModel",
          "model_module_version": "1.2.0",
          "state": {
            "_model_module": "@jupyter-widgets/base",
            "_model_module_version": "1.2.0",
            "_model_name": "LayoutModel",
            "_view_count": null,
            "_view_module": "@jupyter-widgets/base",
            "_view_module_version": "1.2.0",
            "_view_name": "LayoutView",
            "align_content": null,
            "align_items": null,
            "align_self": null,
            "border": null,
            "bottom": null,
            "display": null,
            "flex": null,
            "flex_flow": null,
            "grid_area": null,
            "grid_auto_columns": null,
            "grid_auto_flow": null,
            "grid_auto_rows": null,
            "grid_column": null,
            "grid_gap": null,
            "grid_row": null,
            "grid_template_areas": null,
            "grid_template_columns": null,
            "grid_template_rows": null,
            "height": null,
            "justify_content": null,
            "justify_items": null,
            "left": null,
            "margin": null,
            "max_height": null,
            "max_width": null,
            "min_height": null,
            "min_width": null,
            "object_fit": null,
            "object_position": null,
            "order": null,
            "overflow": null,
            "overflow_x": null,
            "overflow_y": null,
            "padding": null,
            "right": null,
            "top": null,
            "visibility": null,
            "width": null
          }
        },
        "0bd6d83774c54a17a49b5c14d635ae34": {
          "model_module": "@jupyter-widgets/controls",
          "model_name": "DescriptionStyleModel",
          "model_module_version": "1.5.0",
          "state": {
            "_model_module": "@jupyter-widgets/controls",
            "_model_module_version": "1.5.0",
            "_model_name": "DescriptionStyleModel",
            "_view_count": null,
            "_view_module": "@jupyter-widgets/base",
            "_view_module_version": "1.2.0",
            "_view_name": "StyleView",
            "description_width": ""
          }
        },
        "7cd48a171e9749fd96854b3f51036cfc": {
          "model_module": "@jupyter-widgets/controls",
          "model_name": "HBoxModel",
          "model_module_version": "1.5.0",
          "state": {
            "_dom_classes": [],
            "_model_module": "@jupyter-widgets/controls",
            "_model_module_version": "1.5.0",
            "_model_name": "HBoxModel",
            "_view_count": null,
            "_view_module": "@jupyter-widgets/controls",
            "_view_module_version": "1.5.0",
            "_view_name": "HBoxView",
            "box_style": "",
            "children": [
              "IPY_MODEL_1813b359866146c1af5fb4155b681a03",
              "IPY_MODEL_67b8395ade6e4562a2c1e842f1ef9d95",
              "IPY_MODEL_db30a4bc372147148d85fe063a4ff4ed"
            ],
            "layout": "IPY_MODEL_190fb81d45174d41af4d117a2f38eea4"
          }
        },
        "1813b359866146c1af5fb4155b681a03": {
          "model_module": "@jupyter-widgets/controls",
          "model_name": "HTMLModel",
          "model_module_version": "1.5.0",
          "state": {
            "_dom_classes": [],
            "_model_module": "@jupyter-widgets/controls",
            "_model_module_version": "1.5.0",
            "_model_name": "HTMLModel",
            "_view_count": null,
            "_view_module": "@jupyter-widgets/controls",
            "_view_module_version": "1.5.0",
            "_view_name": "HTMLView",
            "description": "",
            "description_tooltip": null,
            "layout": "IPY_MODEL_1b36a5fb710442189b5a73c32f15cb72",
            "placeholder": "​",
            "style": "IPY_MODEL_1da9f8c5c7d14e589ff1e8abeb20de25",
            "value": "Downloading: 100%"
          }
        },
        "67b8395ade6e4562a2c1e842f1ef9d95": {
          "model_module": "@jupyter-widgets/controls",
          "model_name": "FloatProgressModel",
          "model_module_version": "1.5.0",
          "state": {
            "_dom_classes": [],
            "_model_module": "@jupyter-widgets/controls",
            "_model_module_version": "1.5.0",
            "_model_name": "FloatProgressModel",
            "_view_count": null,
            "_view_module": "@jupyter-widgets/controls",
            "_view_module_version": "1.5.0",
            "_view_name": "ProgressView",
            "bar_style": "success",
            "description": "",
            "description_tooltip": null,
            "layout": "IPY_MODEL_3a2e5611559440e7bafe0971a28d37d1",
            "max": 209528,
            "min": 0,
            "orientation": "horizontal",
            "style": "IPY_MODEL_e064c366c3f94e28954280c26faac559",
            "value": 209528
          }
        },
        "db30a4bc372147148d85fe063a4ff4ed": {
          "model_module": "@jupyter-widgets/controls",
          "model_name": "HTMLModel",
          "model_module_version": "1.5.0",
          "state": {
            "_dom_classes": [],
            "_model_module": "@jupyter-widgets/controls",
            "_model_module_version": "1.5.0",
            "_model_name": "HTMLModel",
            "_view_count": null,
            "_view_module": "@jupyter-widgets/controls",
            "_view_module_version": "1.5.0",
            "_view_name": "HTMLView",
            "description": "",
            "description_tooltip": null,
            "layout": "IPY_MODEL_5ac889ab11de4c4caf96521059a1d981",
            "placeholder": "​",
            "style": "IPY_MODEL_ad43099551c44e8ab18c89ec1b008e82",
            "value": " 210k/210k [00:00&lt;00:00, 434kB/s]"
          }
        },
        "190fb81d45174d41af4d117a2f38eea4": {
          "model_module": "@jupyter-widgets/base",
          "model_name": "LayoutModel",
          "model_module_version": "1.2.0",
          "state": {
            "_model_module": "@jupyter-widgets/base",
            "_model_module_version": "1.2.0",
            "_model_name": "LayoutModel",
            "_view_count": null,
            "_view_module": "@jupyter-widgets/base",
            "_view_module_version": "1.2.0",
            "_view_name": "LayoutView",
            "align_content": null,
            "align_items": null,
            "align_self": null,
            "border": null,
            "bottom": null,
            "display": null,
            "flex": null,
            "flex_flow": null,
            "grid_area": null,
            "grid_auto_columns": null,
            "grid_auto_flow": null,
            "grid_auto_rows": null,
            "grid_column": null,
            "grid_gap": null,
            "grid_row": null,
            "grid_template_areas": null,
            "grid_template_columns": null,
            "grid_template_rows": null,
            "height": null,
            "justify_content": null,
            "justify_items": null,
            "left": null,
            "margin": null,
            "max_height": null,
            "max_width": null,
            "min_height": null,
            "min_width": null,
            "object_fit": null,
            "object_position": null,
            "order": null,
            "overflow": null,
            "overflow_x": null,
            "overflow_y": null,
            "padding": null,
            "right": null,
            "top": null,
            "visibility": null,
            "width": null
          }
        },
        "1b36a5fb710442189b5a73c32f15cb72": {
          "model_module": "@jupyter-widgets/base",
          "model_name": "LayoutModel",
          "model_module_version": "1.2.0",
          "state": {
            "_model_module": "@jupyter-widgets/base",
            "_model_module_version": "1.2.0",
            "_model_name": "LayoutModel",
            "_view_count": null,
            "_view_module": "@jupyter-widgets/base",
            "_view_module_version": "1.2.0",
            "_view_name": "LayoutView",
            "align_content": null,
            "align_items": null,
            "align_self": null,
            "border": null,
            "bottom": null,
            "display": null,
            "flex": null,
            "flex_flow": null,
            "grid_area": null,
            "grid_auto_columns": null,
            "grid_auto_flow": null,
            "grid_auto_rows": null,
            "grid_column": null,
            "grid_gap": null,
            "grid_row": null,
            "grid_template_areas": null,
            "grid_template_columns": null,
            "grid_template_rows": null,
            "height": null,
            "justify_content": null,
            "justify_items": null,
            "left": null,
            "margin": null,
            "max_height": null,
            "max_width": null,
            "min_height": null,
            "min_width": null,
            "object_fit": null,
            "object_position": null,
            "order": null,
            "overflow": null,
            "overflow_x": null,
            "overflow_y": null,
            "padding": null,
            "right": null,
            "top": null,
            "visibility": null,
            "width": null
          }
        },
        "1da9f8c5c7d14e589ff1e8abeb20de25": {
          "model_module": "@jupyter-widgets/controls",
          "model_name": "DescriptionStyleModel",
          "model_module_version": "1.5.0",
          "state": {
            "_model_module": "@jupyter-widgets/controls",
            "_model_module_version": "1.5.0",
            "_model_name": "DescriptionStyleModel",
            "_view_count": null,
            "_view_module": "@jupyter-widgets/base",
            "_view_module_version": "1.2.0",
            "_view_name": "StyleView",
            "description_width": ""
          }
        },
        "3a2e5611559440e7bafe0971a28d37d1": {
          "model_module": "@jupyter-widgets/base",
          "model_name": "LayoutModel",
          "model_module_version": "1.2.0",
          "state": {
            "_model_module": "@jupyter-widgets/base",
            "_model_module_version": "1.2.0",
            "_model_name": "LayoutModel",
            "_view_count": null,
            "_view_module": "@jupyter-widgets/base",
            "_view_module_version": "1.2.0",
            "_view_name": "LayoutView",
            "align_content": null,
            "align_items": null,
            "align_self": null,
            "border": null,
            "bottom": null,
            "display": null,
            "flex": null,
            "flex_flow": null,
            "grid_area": null,
            "grid_auto_columns": null,
            "grid_auto_flow": null,
            "grid_auto_rows": null,
            "grid_column": null,
            "grid_gap": null,
            "grid_row": null,
            "grid_template_areas": null,
            "grid_template_columns": null,
            "grid_template_rows": null,
            "height": null,
            "justify_content": null,
            "justify_items": null,
            "left": null,
            "margin": null,
            "max_height": null,
            "max_width": null,
            "min_height": null,
            "min_width": null,
            "object_fit": null,
            "object_position": null,
            "order": null,
            "overflow": null,
            "overflow_x": null,
            "overflow_y": null,
            "padding": null,
            "right": null,
            "top": null,
            "visibility": null,
            "width": null
          }
        },
        "e064c366c3f94e28954280c26faac559": {
          "model_module": "@jupyter-widgets/controls",
          "model_name": "ProgressStyleModel",
          "model_module_version": "1.5.0",
          "state": {
            "_model_module": "@jupyter-widgets/controls",
            "_model_module_version": "1.5.0",
            "_model_name": "ProgressStyleModel",
            "_view_count": null,
            "_view_module": "@jupyter-widgets/base",
            "_view_module_version": "1.2.0",
            "_view_name": "StyleView",
            "bar_color": null,
            "description_width": ""
          }
        },
        "5ac889ab11de4c4caf96521059a1d981": {
          "model_module": "@jupyter-widgets/base",
          "model_name": "LayoutModel",
          "model_module_version": "1.2.0",
          "state": {
            "_model_module": "@jupyter-widgets/base",
            "_model_module_version": "1.2.0",
            "_model_name": "LayoutModel",
            "_view_count": null,
            "_view_module": "@jupyter-widgets/base",
            "_view_module_version": "1.2.0",
            "_view_name": "LayoutView",
            "align_content": null,
            "align_items": null,
            "align_self": null,
            "border": null,
            "bottom": null,
            "display": null,
            "flex": null,
            "flex_flow": null,
            "grid_area": null,
            "grid_auto_columns": null,
            "grid_auto_flow": null,
            "grid_auto_rows": null,
            "grid_column": null,
            "grid_gap": null,
            "grid_row": null,
            "grid_template_areas": null,
            "grid_template_columns": null,
            "grid_template_rows": null,
            "height": null,
            "justify_content": null,
            "justify_items": null,
            "left": null,
            "margin": null,
            "max_height": null,
            "max_width": null,
            "min_height": null,
            "min_width": null,
            "object_fit": null,
            "object_position": null,
            "order": null,
            "overflow": null,
            "overflow_x": null,
            "overflow_y": null,
            "padding": null,
            "right": null,
            "top": null,
            "visibility": null,
            "width": null
          }
        },
        "ad43099551c44e8ab18c89ec1b008e82": {
          "model_module": "@jupyter-widgets/controls",
          "model_name": "DescriptionStyleModel",
          "model_module_version": "1.5.0",
          "state": {
            "_model_module": "@jupyter-widgets/controls",
            "_model_module_version": "1.5.0",
            "_model_name": "DescriptionStyleModel",
            "_view_count": null,
            "_view_module": "@jupyter-widgets/base",
            "_view_module_version": "1.2.0",
            "_view_name": "StyleView",
            "description_width": ""
          }
        },
        "d9b57fc69ad44f63b941afbd16b8062a": {
          "model_module": "@jupyter-widgets/controls",
          "model_name": "HBoxModel",
          "model_module_version": "1.5.0",
          "state": {
            "_dom_classes": [],
            "_model_module": "@jupyter-widgets/controls",
            "_model_module_version": "1.5.0",
            "_model_name": "HBoxModel",
            "_view_count": null,
            "_view_module": "@jupyter-widgets/controls",
            "_view_module_version": "1.5.0",
            "_view_name": "HBoxView",
            "box_style": "",
            "children": [
              "IPY_MODEL_f942b6954ef447bbb87064f5358b4da0",
              "IPY_MODEL_8e53c64fa41947b9a7be8359fcdb8ad4",
              "IPY_MODEL_18b653735dcc4515ad3f77a98544bc34"
            ],
            "layout": "IPY_MODEL_7af141a725304f1abc9c40d60c62d0af"
          }
        },
        "f942b6954ef447bbb87064f5358b4da0": {
          "model_module": "@jupyter-widgets/controls",
          "model_name": "HTMLModel",
          "model_module_version": "1.5.0",
          "state": {
            "_dom_classes": [],
            "_model_module": "@jupyter-widgets/controls",
            "_model_module_version": "1.5.0",
            "_model_name": "HTMLModel",
            "_view_count": null,
            "_view_module": "@jupyter-widgets/controls",
            "_view_module_version": "1.5.0",
            "_view_name": "HTMLView",
            "description": "",
            "description_tooltip": null,
            "layout": "IPY_MODEL_56f2573ae91e405188bda192dce5c688",
            "placeholder": "​",
            "style": "IPY_MODEL_4939ea368bd94ce8ab78f1430cd0efa6",
            "value": "Downloading: 100%"
          }
        },
        "8e53c64fa41947b9a7be8359fcdb8ad4": {
          "model_module": "@jupyter-widgets/controls",
          "model_name": "FloatProgressModel",
          "model_module_version": "1.5.0",
          "state": {
            "_dom_classes": [],
            "_model_module": "@jupyter-widgets/controls",
            "_model_module_version": "1.5.0",
            "_model_name": "FloatProgressModel",
            "_view_count": null,
            "_view_module": "@jupyter-widgets/controls",
            "_view_module_version": "1.5.0",
            "_view_name": "ProgressView",
            "bar_style": "success",
            "description": "",
            "description_tooltip": null,
            "layout": "IPY_MODEL_b83703e05f2c433ea30fd518de9abbf8",
            "max": 2,
            "min": 0,
            "orientation": "horizontal",
            "style": "IPY_MODEL_e3d84ed887b04c449ecefaada9e97f86",
            "value": 2
          }
        },
        "18b653735dcc4515ad3f77a98544bc34": {
          "model_module": "@jupyter-widgets/controls",
          "model_name": "HTMLModel",
          "model_module_version": "1.5.0",
          "state": {
            "_dom_classes": [],
            "_model_module": "@jupyter-widgets/controls",
            "_model_module_version": "1.5.0",
            "_model_name": "HTMLModel",
            "_view_count": null,
            "_view_module": "@jupyter-widgets/controls",
            "_view_module_version": "1.5.0",
            "_view_name": "HTMLView",
            "description": "",
            "description_tooltip": null,
            "layout": "IPY_MODEL_ebaa86bb3b2540b8bd54ee0357b2178c",
            "placeholder": "​",
            "style": "IPY_MODEL_a9b89e1dd1c045159687bffe0052b211",
            "value": " 2.00/2.00 [00:00&lt;00:00, 25.1B/s]"
          }
        },
        "7af141a725304f1abc9c40d60c62d0af": {
          "model_module": "@jupyter-widgets/base",
          "model_name": "LayoutModel",
          "model_module_version": "1.2.0",
          "state": {
            "_model_module": "@jupyter-widgets/base",
            "_model_module_version": "1.2.0",
            "_model_name": "LayoutModel",
            "_view_count": null,
            "_view_module": "@jupyter-widgets/base",
            "_view_module_version": "1.2.0",
            "_view_name": "LayoutView",
            "align_content": null,
            "align_items": null,
            "align_self": null,
            "border": null,
            "bottom": null,
            "display": null,
            "flex": null,
            "flex_flow": null,
            "grid_area": null,
            "grid_auto_columns": null,
            "grid_auto_flow": null,
            "grid_auto_rows": null,
            "grid_column": null,
            "grid_gap": null,
            "grid_row": null,
            "grid_template_areas": null,
            "grid_template_columns": null,
            "grid_template_rows": null,
            "height": null,
            "justify_content": null,
            "justify_items": null,
            "left": null,
            "margin": null,
            "max_height": null,
            "max_width": null,
            "min_height": null,
            "min_width": null,
            "object_fit": null,
            "object_position": null,
            "order": null,
            "overflow": null,
            "overflow_x": null,
            "overflow_y": null,
            "padding": null,
            "right": null,
            "top": null,
            "visibility": null,
            "width": null
          }
        },
        "56f2573ae91e405188bda192dce5c688": {
          "model_module": "@jupyter-widgets/base",
          "model_name": "LayoutModel",
          "model_module_version": "1.2.0",
          "state": {
            "_model_module": "@jupyter-widgets/base",
            "_model_module_version": "1.2.0",
            "_model_name": "LayoutModel",
            "_view_count": null,
            "_view_module": "@jupyter-widgets/base",
            "_view_module_version": "1.2.0",
            "_view_name": "LayoutView",
            "align_content": null,
            "align_items": null,
            "align_self": null,
            "border": null,
            "bottom": null,
            "display": null,
            "flex": null,
            "flex_flow": null,
            "grid_area": null,
            "grid_auto_columns": null,
            "grid_auto_flow": null,
            "grid_auto_rows": null,
            "grid_column": null,
            "grid_gap": null,
            "grid_row": null,
            "grid_template_areas": null,
            "grid_template_columns": null,
            "grid_template_rows": null,
            "height": null,
            "justify_content": null,
            "justify_items": null,
            "left": null,
            "margin": null,
            "max_height": null,
            "max_width": null,
            "min_height": null,
            "min_width": null,
            "object_fit": null,
            "object_position": null,
            "order": null,
            "overflow": null,
            "overflow_x": null,
            "overflow_y": null,
            "padding": null,
            "right": null,
            "top": null,
            "visibility": null,
            "width": null
          }
        },
        "4939ea368bd94ce8ab78f1430cd0efa6": {
          "model_module": "@jupyter-widgets/controls",
          "model_name": "DescriptionStyleModel",
          "model_module_version": "1.5.0",
          "state": {
            "_model_module": "@jupyter-widgets/controls",
            "_model_module_version": "1.5.0",
            "_model_name": "DescriptionStyleModel",
            "_view_count": null,
            "_view_module": "@jupyter-widgets/base",
            "_view_module_version": "1.2.0",
            "_view_name": "StyleView",
            "description_width": ""
          }
        },
        "b83703e05f2c433ea30fd518de9abbf8": {
          "model_module": "@jupyter-widgets/base",
          "model_name": "LayoutModel",
          "model_module_version": "1.2.0",
          "state": {
            "_model_module": "@jupyter-widgets/base",
            "_model_module_version": "1.2.0",
            "_model_name": "LayoutModel",
            "_view_count": null,
            "_view_module": "@jupyter-widgets/base",
            "_view_module_version": "1.2.0",
            "_view_name": "LayoutView",
            "align_content": null,
            "align_items": null,
            "align_self": null,
            "border": null,
            "bottom": null,
            "display": null,
            "flex": null,
            "flex_flow": null,
            "grid_area": null,
            "grid_auto_columns": null,
            "grid_auto_flow": null,
            "grid_auto_rows": null,
            "grid_column": null,
            "grid_gap": null,
            "grid_row": null,
            "grid_template_areas": null,
            "grid_template_columns": null,
            "grid_template_rows": null,
            "height": null,
            "justify_content": null,
            "justify_items": null,
            "left": null,
            "margin": null,
            "max_height": null,
            "max_width": null,
            "min_height": null,
            "min_width": null,
            "object_fit": null,
            "object_position": null,
            "order": null,
            "overflow": null,
            "overflow_x": null,
            "overflow_y": null,
            "padding": null,
            "right": null,
            "top": null,
            "visibility": null,
            "width": null
          }
        },
        "e3d84ed887b04c449ecefaada9e97f86": {
          "model_module": "@jupyter-widgets/controls",
          "model_name": "ProgressStyleModel",
          "model_module_version": "1.5.0",
          "state": {
            "_model_module": "@jupyter-widgets/controls",
            "_model_module_version": "1.5.0",
            "_model_name": "ProgressStyleModel",
            "_view_count": null,
            "_view_module": "@jupyter-widgets/base",
            "_view_module_version": "1.2.0",
            "_view_name": "StyleView",
            "bar_color": null,
            "description_width": ""
          }
        },
        "ebaa86bb3b2540b8bd54ee0357b2178c": {
          "model_module": "@jupyter-widgets/base",
          "model_name": "LayoutModel",
          "model_module_version": "1.2.0",
          "state": {
            "_model_module": "@jupyter-widgets/base",
            "_model_module_version": "1.2.0",
            "_model_name": "LayoutModel",
            "_view_count": null,
            "_view_module": "@jupyter-widgets/base",
            "_view_module_version": "1.2.0",
            "_view_name": "LayoutView",
            "align_content": null,
            "align_items": null,
            "align_self": null,
            "border": null,
            "bottom": null,
            "display": null,
            "flex": null,
            "flex_flow": null,
            "grid_area": null,
            "grid_auto_columns": null,
            "grid_auto_flow": null,
            "grid_auto_rows": null,
            "grid_column": null,
            "grid_gap": null,
            "grid_row": null,
            "grid_template_areas": null,
            "grid_template_columns": null,
            "grid_template_rows": null,
            "height": null,
            "justify_content": null,
            "justify_items": null,
            "left": null,
            "margin": null,
            "max_height": null,
            "max_width": null,
            "min_height": null,
            "min_width": null,
            "object_fit": null,
            "object_position": null,
            "order": null,
            "overflow": null,
            "overflow_x": null,
            "overflow_y": null,
            "padding": null,
            "right": null,
            "top": null,
            "visibility": null,
            "width": null
          }
        },
        "a9b89e1dd1c045159687bffe0052b211": {
          "model_module": "@jupyter-widgets/controls",
          "model_name": "DescriptionStyleModel",
          "model_module_version": "1.5.0",
          "state": {
            "_model_module": "@jupyter-widgets/controls",
            "_model_module_version": "1.5.0",
            "_model_name": "DescriptionStyleModel",
            "_view_count": null,
            "_view_module": "@jupyter-widgets/base",
            "_view_module_version": "1.2.0",
            "_view_name": "StyleView",
            "description_width": ""
          }
        },
        "d0c3aca15e2040dda735a7e4fd45aacc": {
          "model_module": "@jupyter-widgets/controls",
          "model_name": "HBoxModel",
          "model_module_version": "1.5.0",
          "state": {
            "_dom_classes": [],
            "_model_module": "@jupyter-widgets/controls",
            "_model_module_version": "1.5.0",
            "_model_name": "HBoxModel",
            "_view_count": null,
            "_view_module": "@jupyter-widgets/controls",
            "_view_module_version": "1.5.0",
            "_view_name": "HBoxView",
            "box_style": "",
            "children": [
              "IPY_MODEL_db1c2bca20a14111adc3709cfe1e147a",
              "IPY_MODEL_0f7fb8ad43044ef8bb372bbeeea1f051",
              "IPY_MODEL_505247d61184441e8d066726b35a034f"
            ],
            "layout": "IPY_MODEL_f8acae60d8ec4678a0c68995dc80d6ec"
          }
        },
        "db1c2bca20a14111adc3709cfe1e147a": {
          "model_module": "@jupyter-widgets/controls",
          "model_name": "HTMLModel",
          "model_module_version": "1.5.0",
          "state": {
            "_dom_classes": [],
            "_model_module": "@jupyter-widgets/controls",
            "_model_module_version": "1.5.0",
            "_model_name": "HTMLModel",
            "_view_count": null,
            "_view_module": "@jupyter-widgets/controls",
            "_view_module_version": "1.5.0",
            "_view_name": "HTMLView",
            "description": "",
            "description_tooltip": null,
            "layout": "IPY_MODEL_03f0389ab6f04611866e71f427eeac92",
            "placeholder": "​",
            "style": "IPY_MODEL_59ed7c6c353648dcb0d163f81718104f",
            "value": "Downloading: 100%"
          }
        },
        "0f7fb8ad43044ef8bb372bbeeea1f051": {
          "model_module": "@jupyter-widgets/controls",
          "model_name": "FloatProgressModel",
          "model_module_version": "1.5.0",
          "state": {
            "_dom_classes": [],
            "_model_module": "@jupyter-widgets/controls",
            "_model_module_version": "1.5.0",
            "_model_name": "FloatProgressModel",
            "_view_count": null,
            "_view_module": "@jupyter-widgets/controls",
            "_view_module_version": "1.5.0",
            "_view_name": "ProgressView",
            "bar_style": "success",
            "description": "",
            "description_tooltip": null,
            "layout": "IPY_MODEL_ce0efe425f2040049083a09ff5231e30",
            "max": 112,
            "min": 0,
            "orientation": "horizontal",
            "style": "IPY_MODEL_c2aac043c7b34436bdcef6646c4807e1",
            "value": 112
          }
        },
        "505247d61184441e8d066726b35a034f": {
          "model_module": "@jupyter-widgets/controls",
          "model_name": "HTMLModel",
          "model_module_version": "1.5.0",
          "state": {
            "_dom_classes": [],
            "_model_module": "@jupyter-widgets/controls",
            "_model_module_version": "1.5.0",
            "_model_name": "HTMLModel",
            "_view_count": null,
            "_view_module": "@jupyter-widgets/controls",
            "_view_module_version": "1.5.0",
            "_view_name": "HTMLView",
            "description": "",
            "description_tooltip": null,
            "layout": "IPY_MODEL_cc5e1ee70acb47788ae547ce1c3428e6",
            "placeholder": "​",
            "style": "IPY_MODEL_ee18bc72e11f46dfb3f93c3ba5893158",
            "value": " 112/112 [00:00&lt;00:00, 761B/s]"
          }
        },
        "f8acae60d8ec4678a0c68995dc80d6ec": {
          "model_module": "@jupyter-widgets/base",
          "model_name": "LayoutModel",
          "model_module_version": "1.2.0",
          "state": {
            "_model_module": "@jupyter-widgets/base",
            "_model_module_version": "1.2.0",
            "_model_name": "LayoutModel",
            "_view_count": null,
            "_view_module": "@jupyter-widgets/base",
            "_view_module_version": "1.2.0",
            "_view_name": "LayoutView",
            "align_content": null,
            "align_items": null,
            "align_self": null,
            "border": null,
            "bottom": null,
            "display": null,
            "flex": null,
            "flex_flow": null,
            "grid_area": null,
            "grid_auto_columns": null,
            "grid_auto_flow": null,
            "grid_auto_rows": null,
            "grid_column": null,
            "grid_gap": null,
            "grid_row": null,
            "grid_template_areas": null,
            "grid_template_columns": null,
            "grid_template_rows": null,
            "height": null,
            "justify_content": null,
            "justify_items": null,
            "left": null,
            "margin": null,
            "max_height": null,
            "max_width": null,
            "min_height": null,
            "min_width": null,
            "object_fit": null,
            "object_position": null,
            "order": null,
            "overflow": null,
            "overflow_x": null,
            "overflow_y": null,
            "padding": null,
            "right": null,
            "top": null,
            "visibility": null,
            "width": null
          }
        },
        "03f0389ab6f04611866e71f427eeac92": {
          "model_module": "@jupyter-widgets/base",
          "model_name": "LayoutModel",
          "model_module_version": "1.2.0",
          "state": {
            "_model_module": "@jupyter-widgets/base",
            "_model_module_version": "1.2.0",
            "_model_name": "LayoutModel",
            "_view_count": null,
            "_view_module": "@jupyter-widgets/base",
            "_view_module_version": "1.2.0",
            "_view_name": "LayoutView",
            "align_content": null,
            "align_items": null,
            "align_self": null,
            "border": null,
            "bottom": null,
            "display": null,
            "flex": null,
            "flex_flow": null,
            "grid_area": null,
            "grid_auto_columns": null,
            "grid_auto_flow": null,
            "grid_auto_rows": null,
            "grid_column": null,
            "grid_gap": null,
            "grid_row": null,
            "grid_template_areas": null,
            "grid_template_columns": null,
            "grid_template_rows": null,
            "height": null,
            "justify_content": null,
            "justify_items": null,
            "left": null,
            "margin": null,
            "max_height": null,
            "max_width": null,
            "min_height": null,
            "min_width": null,
            "object_fit": null,
            "object_position": null,
            "order": null,
            "overflow": null,
            "overflow_x": null,
            "overflow_y": null,
            "padding": null,
            "right": null,
            "top": null,
            "visibility": null,
            "width": null
          }
        },
        "59ed7c6c353648dcb0d163f81718104f": {
          "model_module": "@jupyter-widgets/controls",
          "model_name": "DescriptionStyleModel",
          "model_module_version": "1.5.0",
          "state": {
            "_model_module": "@jupyter-widgets/controls",
            "_model_module_version": "1.5.0",
            "_model_name": "DescriptionStyleModel",
            "_view_count": null,
            "_view_module": "@jupyter-widgets/base",
            "_view_module_version": "1.2.0",
            "_view_name": "StyleView",
            "description_width": ""
          }
        },
        "ce0efe425f2040049083a09ff5231e30": {
          "model_module": "@jupyter-widgets/base",
          "model_name": "LayoutModel",
          "model_module_version": "1.2.0",
          "state": {
            "_model_module": "@jupyter-widgets/base",
            "_model_module_version": "1.2.0",
            "_model_name": "LayoutModel",
            "_view_count": null,
            "_view_module": "@jupyter-widgets/base",
            "_view_module_version": "1.2.0",
            "_view_name": "LayoutView",
            "align_content": null,
            "align_items": null,
            "align_self": null,
            "border": null,
            "bottom": null,
            "display": null,
            "flex": null,
            "flex_flow": null,
            "grid_area": null,
            "grid_auto_columns": null,
            "grid_auto_flow": null,
            "grid_auto_rows": null,
            "grid_column": null,
            "grid_gap": null,
            "grid_row": null,
            "grid_template_areas": null,
            "grid_template_columns": null,
            "grid_template_rows": null,
            "height": null,
            "justify_content": null,
            "justify_items": null,
            "left": null,
            "margin": null,
            "max_height": null,
            "max_width": null,
            "min_height": null,
            "min_width": null,
            "object_fit": null,
            "object_position": null,
            "order": null,
            "overflow": null,
            "overflow_x": null,
            "overflow_y": null,
            "padding": null,
            "right": null,
            "top": null,
            "visibility": null,
            "width": null
          }
        },
        "c2aac043c7b34436bdcef6646c4807e1": {
          "model_module": "@jupyter-widgets/controls",
          "model_name": "ProgressStyleModel",
          "model_module_version": "1.5.0",
          "state": {
            "_model_module": "@jupyter-widgets/controls",
            "_model_module_version": "1.5.0",
            "_model_name": "ProgressStyleModel",
            "_view_count": null,
            "_view_module": "@jupyter-widgets/base",
            "_view_module_version": "1.2.0",
            "_view_name": "StyleView",
            "bar_color": null,
            "description_width": ""
          }
        },
        "cc5e1ee70acb47788ae547ce1c3428e6": {
          "model_module": "@jupyter-widgets/base",
          "model_name": "LayoutModel",
          "model_module_version": "1.2.0",
          "state": {
            "_model_module": "@jupyter-widgets/base",
            "_model_module_version": "1.2.0",
            "_model_name": "LayoutModel",
            "_view_count": null,
            "_view_module": "@jupyter-widgets/base",
            "_view_module_version": "1.2.0",
            "_view_name": "LayoutView",
            "align_content": null,
            "align_items": null,
            "align_self": null,
            "border": null,
            "bottom": null,
            "display": null,
            "flex": null,
            "flex_flow": null,
            "grid_area": null,
            "grid_auto_columns": null,
            "grid_auto_flow": null,
            "grid_auto_rows": null,
            "grid_column": null,
            "grid_gap": null,
            "grid_row": null,
            "grid_template_areas": null,
            "grid_template_columns": null,
            "grid_template_rows": null,
            "height": null,
            "justify_content": null,
            "justify_items": null,
            "left": null,
            "margin": null,
            "max_height": null,
            "max_width": null,
            "min_height": null,
            "min_width": null,
            "object_fit": null,
            "object_position": null,
            "order": null,
            "overflow": null,
            "overflow_x": null,
            "overflow_y": null,
            "padding": null,
            "right": null,
            "top": null,
            "visibility": null,
            "width": null
          }
        },
        "ee18bc72e11f46dfb3f93c3ba5893158": {
          "model_module": "@jupyter-widgets/controls",
          "model_name": "DescriptionStyleModel",
          "model_module_version": "1.5.0",
          "state": {
            "_model_module": "@jupyter-widgets/controls",
            "_model_module_version": "1.5.0",
            "_model_name": "DescriptionStyleModel",
            "_view_count": null,
            "_view_module": "@jupyter-widgets/base",
            "_view_module_version": "1.2.0",
            "_view_name": "StyleView",
            "description_width": ""
          }
        },
        "df351e0a444b4ad78420dbacab4bda4a": {
          "model_module": "@jupyter-widgets/controls",
          "model_name": "HBoxModel",
          "model_module_version": "1.5.0",
          "state": {
            "_dom_classes": [],
            "_model_module": "@jupyter-widgets/controls",
            "_model_module_version": "1.5.0",
            "_model_name": "HBoxModel",
            "_view_count": null,
            "_view_module": "@jupyter-widgets/controls",
            "_view_module_version": "1.5.0",
            "_view_name": "HBoxView",
            "box_style": "",
            "children": [
              "IPY_MODEL_75ebe139477e4da8a4e51f7814f749a1",
              "IPY_MODEL_7ce8134125c047a6bf3a0fad57526de4",
              "IPY_MODEL_bad628e037ec4fc08b0313a0d2969fab"
            ],
            "layout": "IPY_MODEL_fe0e5a67725f4895bd6b0c5345da35a4"
          }
        },
        "75ebe139477e4da8a4e51f7814f749a1": {
          "model_module": "@jupyter-widgets/controls",
          "model_name": "HTMLModel",
          "model_module_version": "1.5.0",
          "state": {
            "_dom_classes": [],
            "_model_module": "@jupyter-widgets/controls",
            "_model_module_version": "1.5.0",
            "_model_name": "HTMLModel",
            "_view_count": null,
            "_view_module": "@jupyter-widgets/controls",
            "_view_module_version": "1.5.0",
            "_view_name": "HTMLView",
            "description": "",
            "description_tooltip": null,
            "layout": "IPY_MODEL_dcfa20e3075e47329d80f7694c796d3c",
            "placeholder": "​",
            "style": "IPY_MODEL_925a4571c83e4e6ab0c0ab9db3508654",
            "value": "Downloading: 100%"
          }
        },
        "7ce8134125c047a6bf3a0fad57526de4": {
          "model_module": "@jupyter-widgets/controls",
          "model_name": "FloatProgressModel",
          "model_module_version": "1.5.0",
          "state": {
            "_dom_classes": [],
            "_model_module": "@jupyter-widgets/controls",
            "_model_module_version": "1.5.0",
            "_model_name": "FloatProgressModel",
            "_view_count": null,
            "_view_module": "@jupyter-widgets/controls",
            "_view_module_version": "1.5.0",
            "_view_name": "ProgressView",
            "bar_style": "success",
            "description": "",
            "description_tooltip": null,
            "layout": "IPY_MODEL_71cc3c0fec774bdbaab391bc034efe2e",
            "max": 1342014951,
            "min": 0,
            "orientation": "horizontal",
            "style": "IPY_MODEL_c4c2f5a3aced402a9e3ba1c04a520d9d",
            "value": 1342014951
          }
        },
        "bad628e037ec4fc08b0313a0d2969fab": {
          "model_module": "@jupyter-widgets/controls",
          "model_name": "HTMLModel",
          "model_module_version": "1.5.0",
          "state": {
            "_dom_classes": [],
            "_model_module": "@jupyter-widgets/controls",
            "_model_module_version": "1.5.0",
            "_model_name": "HTMLModel",
            "_view_count": null,
            "_view_module": "@jupyter-widgets/controls",
            "_view_module_version": "1.5.0",
            "_view_name": "HTMLView",
            "description": "",
            "description_tooltip": null,
            "layout": "IPY_MODEL_9eddf5eeccea48aab664ce87b55a5f74",
            "placeholder": "​",
            "style": "IPY_MODEL_6677d7658ed244d693667ac91c7b24ec",
            "value": " 1.34G/1.34G [00:27&lt;00:00, 59.0MB/s]"
          }
        },
        "fe0e5a67725f4895bd6b0c5345da35a4": {
          "model_module": "@jupyter-widgets/base",
          "model_name": "LayoutModel",
          "model_module_version": "1.2.0",
          "state": {
            "_model_module": "@jupyter-widgets/base",
            "_model_module_version": "1.2.0",
            "_model_name": "LayoutModel",
            "_view_count": null,
            "_view_module": "@jupyter-widgets/base",
            "_view_module_version": "1.2.0",
            "_view_name": "LayoutView",
            "align_content": null,
            "align_items": null,
            "align_self": null,
            "border": null,
            "bottom": null,
            "display": null,
            "flex": null,
            "flex_flow": null,
            "grid_area": null,
            "grid_auto_columns": null,
            "grid_auto_flow": null,
            "grid_auto_rows": null,
            "grid_column": null,
            "grid_gap": null,
            "grid_row": null,
            "grid_template_areas": null,
            "grid_template_columns": null,
            "grid_template_rows": null,
            "height": null,
            "justify_content": null,
            "justify_items": null,
            "left": null,
            "margin": null,
            "max_height": null,
            "max_width": null,
            "min_height": null,
            "min_width": null,
            "object_fit": null,
            "object_position": null,
            "order": null,
            "overflow": null,
            "overflow_x": null,
            "overflow_y": null,
            "padding": null,
            "right": null,
            "top": null,
            "visibility": null,
            "width": null
          }
        },
        "dcfa20e3075e47329d80f7694c796d3c": {
          "model_module": "@jupyter-widgets/base",
          "model_name": "LayoutModel",
          "model_module_version": "1.2.0",
          "state": {
            "_model_module": "@jupyter-widgets/base",
            "_model_module_version": "1.2.0",
            "_model_name": "LayoutModel",
            "_view_count": null,
            "_view_module": "@jupyter-widgets/base",
            "_view_module_version": "1.2.0",
            "_view_name": "LayoutView",
            "align_content": null,
            "align_items": null,
            "align_self": null,
            "border": null,
            "bottom": null,
            "display": null,
            "flex": null,
            "flex_flow": null,
            "grid_area": null,
            "grid_auto_columns": null,
            "grid_auto_flow": null,
            "grid_auto_rows": null,
            "grid_column": null,
            "grid_gap": null,
            "grid_row": null,
            "grid_template_areas": null,
            "grid_template_columns": null,
            "grid_template_rows": null,
            "height": null,
            "justify_content": null,
            "justify_items": null,
            "left": null,
            "margin": null,
            "max_height": null,
            "max_width": null,
            "min_height": null,
            "min_width": null,
            "object_fit": null,
            "object_position": null,
            "order": null,
            "overflow": null,
            "overflow_x": null,
            "overflow_y": null,
            "padding": null,
            "right": null,
            "top": null,
            "visibility": null,
            "width": null
          }
        },
        "925a4571c83e4e6ab0c0ab9db3508654": {
          "model_module": "@jupyter-widgets/controls",
          "model_name": "DescriptionStyleModel",
          "model_module_version": "1.5.0",
          "state": {
            "_model_module": "@jupyter-widgets/controls",
            "_model_module_version": "1.5.0",
            "_model_name": "DescriptionStyleModel",
            "_view_count": null,
            "_view_module": "@jupyter-widgets/base",
            "_view_module_version": "1.2.0",
            "_view_name": "StyleView",
            "description_width": ""
          }
        },
        "71cc3c0fec774bdbaab391bc034efe2e": {
          "model_module": "@jupyter-widgets/base",
          "model_name": "LayoutModel",
          "model_module_version": "1.2.0",
          "state": {
            "_model_module": "@jupyter-widgets/base",
            "_model_module_version": "1.2.0",
            "_model_name": "LayoutModel",
            "_view_count": null,
            "_view_module": "@jupyter-widgets/base",
            "_view_module_version": "1.2.0",
            "_view_name": "LayoutView",
            "align_content": null,
            "align_items": null,
            "align_self": null,
            "border": null,
            "bottom": null,
            "display": null,
            "flex": null,
            "flex_flow": null,
            "grid_area": null,
            "grid_auto_columns": null,
            "grid_auto_flow": null,
            "grid_auto_rows": null,
            "grid_column": null,
            "grid_gap": null,
            "grid_row": null,
            "grid_template_areas": null,
            "grid_template_columns": null,
            "grid_template_rows": null,
            "height": null,
            "justify_content": null,
            "justify_items": null,
            "left": null,
            "margin": null,
            "max_height": null,
            "max_width": null,
            "min_height": null,
            "min_width": null,
            "object_fit": null,
            "object_position": null,
            "order": null,
            "overflow": null,
            "overflow_x": null,
            "overflow_y": null,
            "padding": null,
            "right": null,
            "top": null,
            "visibility": null,
            "width": null
          }
        },
        "c4c2f5a3aced402a9e3ba1c04a520d9d": {
          "model_module": "@jupyter-widgets/controls",
          "model_name": "ProgressStyleModel",
          "model_module_version": "1.5.0",
          "state": {
            "_model_module": "@jupyter-widgets/controls",
            "_model_module_version": "1.5.0",
            "_model_name": "ProgressStyleModel",
            "_view_count": null,
            "_view_module": "@jupyter-widgets/base",
            "_view_module_version": "1.2.0",
            "_view_name": "StyleView",
            "bar_color": null,
            "description_width": ""
          }
        },
        "9eddf5eeccea48aab664ce87b55a5f74": {
          "model_module": "@jupyter-widgets/base",
          "model_name": "LayoutModel",
          "model_module_version": "1.2.0",
          "state": {
            "_model_module": "@jupyter-widgets/base",
            "_model_module_version": "1.2.0",
            "_model_name": "LayoutModel",
            "_view_count": null,
            "_view_module": "@jupyter-widgets/base",
            "_view_module_version": "1.2.0",
            "_view_name": "LayoutView",
            "align_content": null,
            "align_items": null,
            "align_self": null,
            "border": null,
            "bottom": null,
            "display": null,
            "flex": null,
            "flex_flow": null,
            "grid_area": null,
            "grid_auto_columns": null,
            "grid_auto_flow": null,
            "grid_auto_rows": null,
            "grid_column": null,
            "grid_gap": null,
            "grid_row": null,
            "grid_template_areas": null,
            "grid_template_columns": null,
            "grid_template_rows": null,
            "height": null,
            "justify_content": null,
            "justify_items": null,
            "left": null,
            "margin": null,
            "max_height": null,
            "max_width": null,
            "min_height": null,
            "min_width": null,
            "object_fit": null,
            "object_position": null,
            "order": null,
            "overflow": null,
            "overflow_x": null,
            "overflow_y": null,
            "padding": null,
            "right": null,
            "top": null,
            "visibility": null,
            "width": null
          }
        },
        "6677d7658ed244d693667ac91c7b24ec": {
          "model_module": "@jupyter-widgets/controls",
          "model_name": "DescriptionStyleModel",
          "model_module_version": "1.5.0",
          "state": {
            "_model_module": "@jupyter-widgets/controls",
            "_model_module_version": "1.5.0",
            "_model_name": "DescriptionStyleModel",
            "_view_count": null,
            "_view_module": "@jupyter-widgets/base",
            "_view_module_version": "1.2.0",
            "_view_name": "StyleView",
            "description_width": ""
          }
        }
      }
    },
    "accelerator": "GPU"
  },
  "cells": [
    {
      "cell_type": "markdown",
      "metadata": {
        "id": "view-in-github",
        "colab_type": "text"
      },
      "source": [
        "<a href=\"https://colab.research.google.com/github/EliseuODaniel/analise_de_sentimentos_eleicao/blob/main/Copy_of_analise_sentimento_com_bert_Tweets_bolsonaroipynb.ipynb\" target=\"_parent\"><img src=\"https://colab.research.google.com/assets/colab-badge.svg\" alt=\"Open In Colab\"/></a>"
      ]
    },
    {
      "cell_type": "markdown",
      "metadata": {
        "id": "1GJKpwl_v4b1"
      },
      "source": [
        "# Análise de sentimento com Bert\n",
        "\n",
        "## Projeto integrador"
      ]
    },
    {
      "cell_type": "markdown",
      "metadata": {
        "id": "k244ZRtr2hiZ"
      },
      "source": [
        "## Classificação de Texto\n",
        "\n",
        "utilização da arquitetura BERTimbau, versão em Português do BERT"
      ]
    },
    {
      "cell_type": "code",
      "source": [
        "from google.colab import drive\n",
        "drive.mount('/content/drive')"
      ],
      "metadata": {
        "colab": {
          "base_uri": "https://localhost:8080/"
        },
        "id": "WdH9k8R0gZ_1",
        "outputId": "87370328-e499-43ca-bb86-1c4f741e4160"
      },
      "execution_count": 2,
      "outputs": [
        {
          "output_type": "stream",
          "name": "stdout",
          "text": [
            "Mounted at /content/drive\n"
          ]
        }
      ]
    },
    {
      "cell_type": "code",
      "metadata": {
        "colab": {
          "base_uri": "https://localhost:8080/"
        },
        "id": "dfhiSp9Z3UXR",
        "outputId": "1417230e-8740-4929-e6f1-6442657a16c0"
      },
      "source": [
        "!pip3 install transformers"
      ],
      "execution_count": 3,
      "outputs": [
        {
          "output_type": "stream",
          "name": "stdout",
          "text": [
            "Looking in indexes: https://pypi.org/simple, https://us-python.pkg.dev/colab-wheels/public/simple/\n",
            "Collecting transformers\n",
            "  Downloading transformers-4.24.0-py3-none-any.whl (5.5 MB)\n",
            "\u001b[K     |████████████████████████████████| 5.5 MB 15.5 MB/s \n",
            "\u001b[?25hRequirement already satisfied: numpy>=1.17 in /usr/local/lib/python3.7/dist-packages (from transformers) (1.21.6)\n",
            "Requirement already satisfied: requests in /usr/local/lib/python3.7/dist-packages (from transformers) (2.23.0)\n",
            "Requirement already satisfied: tqdm>=4.27 in /usr/local/lib/python3.7/dist-packages (from transformers) (4.64.1)\n",
            "Requirement already satisfied: importlib-metadata in /usr/local/lib/python3.7/dist-packages (from transformers) (4.13.0)\n",
            "Collecting huggingface-hub<1.0,>=0.10.0\n",
            "  Downloading huggingface_hub-0.10.1-py3-none-any.whl (163 kB)\n",
            "\u001b[K     |████████████████████████████████| 163 kB 71.1 MB/s \n",
            "\u001b[?25hRequirement already satisfied: regex!=2019.12.17 in /usr/local/lib/python3.7/dist-packages (from transformers) (2022.6.2)\n",
            "Requirement already satisfied: packaging>=20.0 in /usr/local/lib/python3.7/dist-packages (from transformers) (21.3)\n",
            "Requirement already satisfied: pyyaml>=5.1 in /usr/local/lib/python3.7/dist-packages (from transformers) (6.0)\n",
            "Collecting tokenizers!=0.11.3,<0.14,>=0.11.1\n",
            "  Downloading tokenizers-0.13.2-cp37-cp37m-manylinux_2_17_x86_64.manylinux2014_x86_64.whl (7.6 MB)\n",
            "\u001b[K     |████████████████████████████████| 7.6 MB 59.6 MB/s \n",
            "\u001b[?25hRequirement already satisfied: filelock in /usr/local/lib/python3.7/dist-packages (from transformers) (3.8.0)\n",
            "Requirement already satisfied: typing-extensions>=3.7.4.3 in /usr/local/lib/python3.7/dist-packages (from huggingface-hub<1.0,>=0.10.0->transformers) (4.1.1)\n",
            "Requirement already satisfied: pyparsing!=3.0.5,>=2.0.2 in /usr/local/lib/python3.7/dist-packages (from packaging>=20.0->transformers) (3.0.9)\n",
            "Requirement already satisfied: zipp>=0.5 in /usr/local/lib/python3.7/dist-packages (from importlib-metadata->transformers) (3.10.0)\n",
            "Requirement already satisfied: idna<3,>=2.5 in /usr/local/lib/python3.7/dist-packages (from requests->transformers) (2.10)\n",
            "Requirement already satisfied: chardet<4,>=3.0.2 in /usr/local/lib/python3.7/dist-packages (from requests->transformers) (3.0.4)\n",
            "Requirement already satisfied: urllib3!=1.25.0,!=1.25.1,<1.26,>=1.21.1 in /usr/local/lib/python3.7/dist-packages (from requests->transformers) (1.24.3)\n",
            "Requirement already satisfied: certifi>=2017.4.17 in /usr/local/lib/python3.7/dist-packages (from requests->transformers) (2022.9.24)\n",
            "Installing collected packages: tokenizers, huggingface-hub, transformers\n",
            "Successfully installed huggingface-hub-0.10.1 tokenizers-0.13.2 transformers-4.24.0\n"
          ]
        }
      ]
    },
    {
      "cell_type": "code",
      "metadata": {
        "id": "yDCgnNlzcCsA"
      },
      "source": [
        "import os\n",
        "import torch\n",
        "import torch.nn as nn\n",
        "from torch import optim\n",
        "from transformers import AutoTokenizer, AutoModelForSequenceClassification\n",
        "from sklearn.metrics import accuracy_score, f1_score, classification_report"
      ],
      "execution_count": 4,
      "outputs": []
    },
    {
      "cell_type": "code",
      "metadata": {
        "colab": {
          "base_uri": "https://localhost:8080/"
        },
        "id": "YyoVuFjJIlkj",
        "outputId": "88d48a34-296f-44eb-8680-1ae4af79a0cf"
      },
      "source": [
        "\n",
        "import pandas as pd\n",
        "import csv\n",
        "from random import shuffle\n",
        "import nltk\n",
        "nltk.download('punkt')\n",
        "\n",
        "# Lê o csv e transforma num dataframe\n",
        "\n",
        "full_df = pd.read_csv('/content/drive/MyDrive/Colab Notebooks/tweets-bolsonaro_categorizado4.csv', sep=';')"
      ],
      "execution_count": 5,
      "outputs": [
        {
          "output_type": "stream",
          "name": "stderr",
          "text": [
            "[nltk_data] Downloading package punkt to /root/nltk_data...\n",
            "[nltk_data]   Unzipping tokenizers/punkt.zip.\n"
          ]
        }
      ]
    },
    {
      "cell_type": "code",
      "source": [
        "full_df.info()"
      ],
      "metadata": {
        "colab": {
          "base_uri": "https://localhost:8080/"
        },
        "id": "KrfWP0YfgMC_",
        "outputId": "1d029bee-d5e0-45e9-d1e3-30cf19362ff5"
      },
      "execution_count": 6,
      "outputs": [
        {
          "output_type": "stream",
          "name": "stdout",
          "text": [
            "<class 'pandas.core.frame.DataFrame'>\n",
            "RangeIndex: 28029 entries, 0 to 28028\n",
            "Data columns (total 3 columns):\n",
            " #   Column   Non-Null Count  Dtype  \n",
            "---  ------   --------------  -----  \n",
            " 0   date     28029 non-null  object \n",
            " 1   content  28029 non-null  object \n",
            " 2   label    225 non-null    float64\n",
            "dtypes: float64(1), object(2)\n",
            "memory usage: 657.1+ KB\n"
          ]
        }
      ]
    },
    {
      "cell_type": "code",
      "source": [
        "# Drop rows with any empty cells in collumn 'label'\n",
        "df = full_df.dropna(subset=['label'])"
      ],
      "metadata": {
        "id": "2BE5pynYkESj"
      },
      "execution_count": 7,
      "outputs": []
    },
    {
      "cell_type": "code",
      "source": [
        "df.info()"
      ],
      "metadata": {
        "colab": {
          "base_uri": "https://localhost:8080/"
        },
        "id": "KnygDPTnldEy",
        "outputId": "ccf543dd-65be-4e99-85e9-f96d4dff6dfd"
      },
      "execution_count": 8,
      "outputs": [
        {
          "output_type": "stream",
          "name": "stdout",
          "text": [
            "<class 'pandas.core.frame.DataFrame'>\n",
            "Int64Index: 225 entries, 0 to 27977\n",
            "Data columns (total 3 columns):\n",
            " #   Column   Non-Null Count  Dtype  \n",
            "---  ------   --------------  -----  \n",
            " 0   date     225 non-null    object \n",
            " 1   content  225 non-null    object \n",
            " 2   label    225 non-null    float64\n",
            "dtypes: float64(1), object(2)\n",
            "memory usage: 7.0+ KB\n"
          ]
        }
      ]
    },
    {
      "cell_type": "code",
      "source": [
        "import matplotlib.pyplot as plt\n",
        "import numpy as np\n",
        "import plotly.express as px\n",
        "\n",
        "#  mostra a proporção de cada label, se não está balanceado, acurácia não é uma boa métrica\n",
        "df['label'].value_counts().plot.pie(autopct='%.2f')"
      ],
      "metadata": {
        "colab": {
          "base_uri": "https://localhost:8080/",
          "height": 266
        },
        "id": "xyZKp6PqpS1E",
        "outputId": "64e91695-6e16-444c-8609-f64a54b60cdf"
      },
      "execution_count": 9,
      "outputs": [
        {
          "output_type": "execute_result",
          "data": {
            "text/plain": [
              "<matplotlib.axes._subplots.AxesSubplot at 0x7f91d5c32490>"
            ]
          },
          "metadata": {},
          "execution_count": 9
        },
        {
          "output_type": "display_data",
          "data": {
            "text/plain": [
              "<Figure size 432x288 with 1 Axes>"
            ],
            "image/png": "[encoded data removed]"
          },
          "metadata": {}
        }
      ]
    },
    {
      "cell_type": "code",
      "source": [
        "# converte dataframe em lista de listas\n",
        "tweets_list = df.values.tolist()"
      ],
      "metadata": {
        "id": "xcEHkdFIlxmE"
      },
      "execution_count": 10,
      "outputs": []
    },
    {
      "cell_type": "code",
      "source": [
        "# cria uma nuvem de palavras\n",
        "\n",
        "\n",
        "import nltk\n",
        "nltk.download('punkt')\n",
        "nltk.download('stopwords')\n",
        "stop_words = nltk.corpus.stopwords.words('portuguese')\n",
        "stop_words = stop_words + list(['jairbolsonaro','lula','lulaoficial','Lula','inocente','bolsonaro',',','.','https', ':','!', '#', '@', '?', '/', 'O', 'vai', '|', '–','pra', 'a', 'e', '-'])\n",
        "\n",
        "def remove_stopwords(x):\n",
        "  word_tokens = nltk.word_tokenize(x)\n",
        "  # print(word_tokens)\n",
        "  filtered_sentence = ' '.join([w for w in word_tokens if not (w in stop_words or len(w)<4)]) \n",
        "  return filtered_sentence\n",
        "\n",
        "tweets_bolsonaro = full_df\n",
        "\n",
        "#convert to string and lowercase sentences \n",
        "tweets_bolsonaro['content'] = tweets_bolsonaro['content'].astype(str).str.lower()\n",
        "\n",
        "\n",
        "tweets_bolsonaro['filtered_text'] = tweets_bolsonaro['content'].apply(lambda x: remove_stopwords(x))\n",
        "\n",
        "# filter tweets_bolsonaro by day - para caso queira mostrar quais palavras foram mais citadas a cada dia\n",
        "# for day in tweets_bolsonaro['date'].unique():\n",
        "#     print(\"\\nday: \", day)\n",
        "#     tweets_bolsonaro = tweets_bolsonaro[tweets_bolsonaro['date'] == day]\n",
        "#     word_count = pd.Series(' '.join(tweets_bolsonaro_day['filtered_text'].str.lower()).split()).value_counts()[:20]\n",
        "#     print(word_count)\n",
        "\n",
        "word_count = pd.Series(' '.join(tweets_bolsonaro['filtered_text'].str.lower()).split()).value_counts()[:20]\n",
        "print(word_count)\n",
        "\n",
        "# create a word cloud\n",
        "from wordcloud import WordCloud\n",
        "import matplotlib.pyplot as plt\n",
        "\n",
        "wordcloud = WordCloud(width = 800, height = 800,\n",
        "                background_color ='white',\n",
        "                stopwords = stop_words,\n",
        "                min_font_size = 10).generate(' '.join(tweets_bolsonaro['filtered_text']))\n",
        "\n",
        "# plot the WordCloud image\n",
        "plt.figure(figsize = (8, 8), facecolor = None)\n",
        "plt.imshow(wordcloud)\n",
        "plt.axis(\"off\")\n",
        "plt.tight_layout(pad = 0)\n",
        "\n",
        "plt.show()"
      ],
      "metadata": {
        "colab": {
          "base_uri": "https://localhost:8080/",
          "height": 1000
        },
        "id": "b9UM1ph3IzIS",
        "outputId": "f6f38232-bb52-4172-d4fe-754f3011bab8"
      },
      "execution_count": 11,
      "outputs": [
        {
          "output_type": "stream",
          "name": "stderr",
          "text": [
            "[nltk_data] Downloading package punkt to /root/nltk_data...\n",
            "[nltk_data]   Package punkt is already up-to-date!\n",
            "[nltk_data] Downloading package stopwords to /root/nltk_data...\n",
            "[nltk_data]   Unzipping corpora/stopwords.zip.\n"
          ]
        },
        {
          "output_type": "stream",
          "name": "stdout",
          "text": [
            "presidente    1858\n",
            "brasil        1550\n",
            "agora         1073\n",
            "votar          943\n",
            "governo        901\n",
            "voto           893\n",
            "cara           855\n",
            "anos           853\n",
            "janones        844\n",
            "tudo           830\n",
            "turno          805\n",
            "contra         804\n",
            "gente          792\n",
            "povo           789\n",
            "censurou       734\n",
            "ainda          713\n",
            "pode           696\n",
            "todos          696\n",
            "nada           693\n",
            "jair           672\n",
            "dtype: int64\n"
          ]
        },
        {
          "output_type": "display_data",
          "data": {
            "text/plain": [
              "<Figure size 576x576 with 1 Axes>"
            ],
            "image/png": "[encoded data removed]"
          },
          "metadata": {
            "needs_background": "light"
          }
        }
      ]
    },
    {
      "cell_type": "markdown",
      "source": [
        "cria uma lista com dicionarios de reviews e rating"
      ],
      "metadata": {
        "id": "pM7NM0khG75Z"
      }
    },
    {
      "cell_type": "code",
      "source": [
        "#print(tweets_list)"
      ],
      "metadata": {
        "id": "JStdPkEcmZmD"
      },
      "execution_count": 12,
      "outputs": []
    },
    {
      "cell_type": "code",
      "source": [
        "#tweets_list "
      ],
      "metadata": {
        "id": "z6K6cK1O7cXg"
      },
      "execution_count": 13,
      "outputs": []
    },
    {
      "cell_type": "code",
      "source": [
        "tweets = [str(w[1]) for w in tweets_list]\n",
        "ratings = [int(w[2]) for w in tweets_list]\n",
        "data = [{ 'X': tweets, 'y': rating } for (tweets, rating) in zip(tweets, ratings)]"
      ],
      "metadata": {
        "id": "zyk3u0QFgKqT"
      },
      "execution_count": 14,
      "outputs": []
    },
    {
      "cell_type": "code",
      "source": [
        "#print(data)"
      ],
      "metadata": {
        "id": "afyUgEJ2jyxj"
      },
      "execution_count": 15,
      "outputs": []
    },
    {
      "cell_type": "code",
      "source": [
        "#print(type(data))\n",
        "#print(data)"
      ],
      "metadata": {
        "id": "hlZcWH4JGhM6"
      },
      "execution_count": 16,
      "outputs": []
    },
    {
      "cell_type": "markdown",
      "metadata": {
        "id": "WyleZGdH25Hq"
      },
      "source": [
        "Separando os dados em conjunto de treino e teste"
      ]
    },
    {
      "cell_type": "code",
      "metadata": {
        "colab": {
          "base_uri": "https://localhost:8080/"
        },
        "id": "u1R9CbypJfNO",
        "outputId": "7a88794e-729e-4676-a7a6-f9b28fa037e1"
      },
      "source": [
        "size = int(len(data) * 0.1)\n",
        "treino = data[2*size:] #  0.2 - 1\n",
        "validacao = data[size:2*size] # 0.1:0.2\n",
        "teste = data[:size]  # 0:0.1\n",
        "\n",
        "len(treino), len(validacao), len(teste)"
      ],
      "execution_count": 17,
      "outputs": [
        {
          "output_type": "execute_result",
          "data": {
            "text/plain": [
              "(181, 22, 22)"
            ]
          },
          "metadata": {},
          "execution_count": 17
        }
      ]
    },
    {
      "cell_type": "markdown",
      "metadata": {
        "id": "dGTxUNNQ3LMK"
      },
      "source": [
        "BERTimbau - documentação [este link](https://github.com/neuralmind-ai/portuguese-bert)."
      ]
    },
    {
      "cell_type": "markdown",
      "metadata": {
        "id": "6OHZj1Ko3nos"
      },
      "source": [
        "Configurando hiper parâmetros"
      ]
    },
    {
      "cell_type": "code",
      "metadata": {
        "id": "icMF0E_R8h9W"
      },
      "source": [
        "device = torch.device('cuda' if torch.cuda.is_available() else 'cpu') # define qual será o acelerador gráfico onde o modelo será processado\n",
        "nclasses = 3  # número de classes/labels que classificam  os tweets (0 = negativo, 1 = indefinido, 2 = positivo)\n",
        "nepochs = 10  # número de épocas (valor inicial: 5)\n",
        "batch_size = 8 # número mínimo de frases que são previstas por vez - recomendação autores bert: Batch size: 16, 32 (maior batch usa menos memória)\n",
        "batch_status = 32  # a cada quantas batches avalia o status - numero menor pra dataset menor\n",
        "learning_rate = 2e-5  # taxa de aprendizado - recomendação autores bert Learning rate (Adam): 5e-5, 3e-5, 2e-5 (1e-5 usa menos memória)\n",
        "early_stop = 2  # critério de parada, quantas epocas sem melhora do f1 para parar o aprendizado\n",
        "\n",
        "max_length = 200 # tamanho maximo de cada frase\n",
        "write_path = 'model'"
      ],
      "execution_count": 18,
      "outputs": []
    },
    {
      "cell_type": "markdown",
      "metadata": {
        "id": "P-fAnBqN3rCv"
      },
      "source": [
        "Separando os dados em batches de treino e teste\n",
        "\n"
      ]
    },
    {
      "cell_type": "code",
      "metadata": {
        "id": "d3P7XcEsLXji"
      },
      "source": [
        "from torch.utils.data import DataLoader\n",
        "\n",
        "traindata = DataLoader(treino, batch_size=batch_size, shuffle=True)\n",
        "validationdata = DataLoader(validacao, batch_size=batch_size, shuffle=True)\n",
        "testdata = DataLoader(teste, batch_size=batch_size, shuffle=True)"
      ],
      "execution_count": 19,
      "outputs": []
    },
    {
      "cell_type": "code",
      "source": [
        "# conteúdo do dataloader\n",
        "for batch_idx, inp in enumerate(traindata):\n",
        "    print(batch_idx) #o índice do batch\n",
        "    print(inp) # os batches, dicionário de X com os textos e Y transformado em tensor com os labels\n",
        "    break"
      ],
      "metadata": {
        "colab": {
          "base_uri": "https://localhost:8080/"
        },
        "id": "RyzCFibIIscj",
        "outputId": "a50492f9-63fc-437f-87c9-70584941e8bd"
      },
      "execution_count": 20,
      "outputs": [
        {
          "output_type": "stream",
          "name": "stdout",
          "text": [
            "0\n",
            "{'X': ['🇧🇷🇧🇷 BOLSONARO 22 BOLSONARO 22. Você percebe a atitude do Capitão ??  Chamou todos presentes pra dentro da van que é blindada. Capitão pensam no bem de TODOS.    Olha isso São Paulo. 👀#somostodosbolsonaro https://t.co/le9lzXvLRS', 'Será que nossas Forças Armadas aceitariam José Dirceu como Ministro da Defesa caso Lula seja eleito? Existe esse boato na rede. Gedel o homem da mala também contato p Ministro.  #bolsonaro #GloboLixo', '@Helena1Patr BOLSONARO PEDÓFILO 🤮🤮🤮', 'Nordestinos do Brasil inteiro não pode votar no Bozo e seus bozominions. Não nos respeitam e não deverão ter nossos votos. #HaddadGovernadorSP1️⃣3️⃣ #LulaPresidente1⃣3⃣ Em novo ato de xenofobia, Bolsonaro diz que PT usou nordestinos \"para roubar a nação\" https://t.co/Pk8DX3MEDC', '@LulaOficial 13 mentiras.....13 o número da desgraça..... melhor mesmo é 22  na sua cara...aliás nove dedos, recomendo a vc votar 22...seu país agradece', '@YpeOficial Empresa suja, fora bolsonaro, fora fascistas', 'Olha que nojo.                                BOLSONARO NAQUELA ÉPOCA SEMPRE TEVE MORAL , ele pode ter algumas coisas que vc não goste.      Mas no lula eu nao gosto de nada https://t.co/lAzmGvwnuP', '@Nilson_CL Eu sou do Maranhão e não votei no nine fingers não. Desde 2018 que voto no Bolsonaro.'], 'y': tensor([2, 2, 0, 0, 2, 0, 0, 2])}\n"
          ]
        }
      ]
    },
    {
      "cell_type": "markdown",
      "metadata": {
        "id": "k8Gl_q253uV9"
      },
      "source": [
        "instanciando tokenizador, modelo, função de erro e otimizador:"
      ]
    },
    {
      "cell_type": "code",
      "metadata": {
        "colab": {
          "base_uri": "https://localhost:8080/",
          "height": 320,
          "referenced_widgets": [
            "472ce37078824143adf4756b5ba3cb0c",
            "3f9ab91d197a4ef38bdd93932ed65410",
            "103ca3f1dc174f88af15ad53f3350adc",
            "e6cc274eecb440dfa5854b3cad735e20",
            "b0348947506448fd916253c5695c8e8d",
            "fb51fbf86e744dbab9afee951d10947a",
            "13b1df37520140c39c2c8bf30618c342",
            "804fc22ba60a459ca0c38bd99affe2ce",
            "cddaea46a5e449b69546665cc7b15dd3",
            "fbc1c8d480854a469867475bcbe8ccc6",
            "7c88eef0f63e40439f8c714560fe5460",
            "2e5746f8cea64c92ae8095bdf6d0e01f",
            "6903bfa5202f42b98cabce93e2baa785",
            "43f61c936c904760bec5c2c73908746d",
            "b1cd7f5344d94d84a22cfa84207d6c33",
            "0efd5e11737948a89abc474976f8119f",
            "7f91a9960a4b4d94ad832c60d61331e6",
            "56882ba8736c42af9bc5d0d4af783396",
            "e446852d1928405da85c1185ba6fc8a4",
            "75fbd5cd454d4b7eabcd0cd0d0bd58e1",
            "08de285109bd4dbd9381d69c9d40db78",
            "0bd6d83774c54a17a49b5c14d635ae34",
            "7cd48a171e9749fd96854b3f51036cfc",
            "1813b359866146c1af5fb4155b681a03",
            "67b8395ade6e4562a2c1e842f1ef9d95",
            "db30a4bc372147148d85fe063a4ff4ed",
            "190fb81d45174d41af4d117a2f38eea4",
            "1b36a5fb710442189b5a73c32f15cb72",
            "1da9f8c5c7d14e589ff1e8abeb20de25",
            "3a2e5611559440e7bafe0971a28d37d1",
            "e064c366c3f94e28954280c26faac559",
            "5ac889ab11de4c4caf96521059a1d981",
            "ad43099551c44e8ab18c89ec1b008e82",
            "d9b57fc69ad44f63b941afbd16b8062a",
            "f942b6954ef447bbb87064f5358b4da0",
            "8e53c64fa41947b9a7be8359fcdb8ad4",
            "18b653735dcc4515ad3f77a98544bc34",
            "7af141a725304f1abc9c40d60c62d0af",
            "56f2573ae91e405188bda192dce5c688",
            "4939ea368bd94ce8ab78f1430cd0efa6",
            "b83703e05f2c433ea30fd518de9abbf8",
            "e3d84ed887b04c449ecefaada9e97f86",
            "ebaa86bb3b2540b8bd54ee0357b2178c",
            "a9b89e1dd1c045159687bffe0052b211",
            "d0c3aca15e2040dda735a7e4fd45aacc",
            "db1c2bca20a14111adc3709cfe1e147a",
            "0f7fb8ad43044ef8bb372bbeeea1f051",
            "505247d61184441e8d066726b35a034f",
            "f8acae60d8ec4678a0c68995dc80d6ec",
            "03f0389ab6f04611866e71f427eeac92",
            "59ed7c6c353648dcb0d163f81718104f",
            "ce0efe425f2040049083a09ff5231e30",
            "c2aac043c7b34436bdcef6646c4807e1",
            "cc5e1ee70acb47788ae547ce1c3428e6",
            "ee18bc72e11f46dfb3f93c3ba5893158",
            "df351e0a444b4ad78420dbacab4bda4a",
            "75ebe139477e4da8a4e51f7814f749a1",
            "7ce8134125c047a6bf3a0fad57526de4",
            "bad628e037ec4fc08b0313a0d2969fab",
            "fe0e5a67725f4895bd6b0c5345da35a4",
            "dcfa20e3075e47329d80f7694c796d3c",
            "925a4571c83e4e6ab0c0ab9db3508654",
            "71cc3c0fec774bdbaab391bc034efe2e",
            "c4c2f5a3aced402a9e3ba1c04a520d9d",
            "9eddf5eeccea48aab664ce87b55a5f74",
            "6677d7658ed244d693667ac91c7b24ec"
          ]
        },
        "id": "7WeMpVR18aPq",
        "outputId": "becce806-a803-43fb-9b09-8051b59658ad"
      },
      "source": [
        "# instancia o tokenizador\n",
        "tokenizer = AutoTokenizer.from_pretrained('neuralmind/bert-large-portuguese-cased', do_lower_case=False)  # para utilizar o BERTinbal large: 'neuralmind/bert-large-portuguese-cased'\n",
        "#bertinbal menor: 'neuralmind/bert-base-portuguese-cased'\n",
        "#  instancia o modelo\n",
        "model = AutoModelForSequenceClassification.from_pretrained('neuralmind/bert-large-portuguese-cased', num_labels=nclasses).to(device)\n",
        "\n",
        "# seleciona o otimizador \n",
        "optimizer = torch.optim.AdamW(model.parameters(), lr=learning_rate)\n",
        "\n",
        "# congela os pesos do BERT pré-treinado\n",
        "for param in model.base_model.parameters():\n",
        "    param.requires_grad = False"
      ],
      "execution_count": 21,
      "outputs": [
        {
          "output_type": "display_data",
          "data": {
            "text/plain": [
              "Downloading:   0%|          | 0.00/155 [00:00<?, ?B/s]"
            ],
            "application/vnd.jupyter.widget-view+json": {
              "version_major": 2,
              "version_minor": 0,
              "model_id": "472ce37078824143adf4756b5ba3cb0c"
            }
          },
          "metadata": {}
        },
        {
          "output_type": "display_data",
          "data": {
            "text/plain": [
              "Downloading:   0%|          | 0.00/648 [00:00<?, ?B/s]"
            ],
            "application/vnd.jupyter.widget-view+json": {
              "version_major": 2,
              "version_minor": 0,
              "model_id": "2e5746f8cea64c92ae8095bdf6d0e01f"
            }
          },
          "metadata": {}
        },
        {
          "output_type": "display_data",
          "data": {
            "text/plain": [
              "Downloading:   0%|          | 0.00/210k [00:00<?, ?B/s]"
            ],
            "application/vnd.jupyter.widget-view+json": {
              "version_major": 2,
              "version_minor": 0,
              "model_id": "7cd48a171e9749fd96854b3f51036cfc"
            }
          },
          "metadata": {}
        },
        {
          "output_type": "display_data",
          "data": {
            "text/plain": [
              "Downloading:   0%|          | 0.00/2.00 [00:00<?, ?B/s]"
            ],
            "application/vnd.jupyter.widget-view+json": {
              "version_major": 2,
              "version_minor": 0,
              "model_id": "d9b57fc69ad44f63b941afbd16b8062a"
            }
          },
          "metadata": {}
        },
        {
          "output_type": "display_data",
          "data": {
            "text/plain": [
              "Downloading:   0%|          | 0.00/112 [00:00<?, ?B/s]"
            ],
            "application/vnd.jupyter.widget-view+json": {
              "version_major": 2,
              "version_minor": 0,
              "model_id": "d0c3aca15e2040dda735a7e4fd45aacc"
            }
          },
          "metadata": {}
        },
        {
          "output_type": "display_data",
          "data": {
            "text/plain": [
              "Downloading:   0%|          | 0.00/1.34G [00:00<?, ?B/s]"
            ],
            "application/vnd.jupyter.widget-view+json": {
              "version_major": 2,
              "version_minor": 0,
              "model_id": "df351e0a444b4ad78420dbacab4bda4a"
            }
          },
          "metadata": {}
        },
        {
          "output_type": "stream",
          "name": "stderr",
          "text": [
            "Some weights of the model checkpoint at neuralmind/bert-large-portuguese-cased were not used when initializing BertForSequenceClassification: ['cls.predictions.transform.LayerNorm.bias', 'cls.seq_relationship.weight', 'cls.predictions.bias', 'cls.seq_relationship.bias', 'cls.predictions.transform.dense.weight', 'cls.predictions.transform.LayerNorm.weight', 'cls.predictions.decoder.weight', 'cls.predictions.transform.dense.bias']\n",
            "- This IS expected if you are initializing BertForSequenceClassification from the checkpoint of a model trained on another task or with another architecture (e.g. initializing a BertForSequenceClassification model from a BertForPreTraining model).\n",
            "- This IS NOT expected if you are initializing BertForSequenceClassification from the checkpoint of a model that you expect to be exactly identical (initializing a BertForSequenceClassification model from a BertForSequenceClassification model).\n",
            "Some weights of BertForSequenceClassification were not initialized from the model checkpoint at neuralmind/bert-large-portuguese-cased and are newly initialized: ['classifier.weight', 'classifier.bias']\n",
            "You should probably TRAIN this model on a down-stream task to be able to use it for predictions and inference.\n"
          ]
        }
      ]
    },
    {
      "cell_type": "code",
      "source": [
        "import seaborn as sns\n",
        "# verificando a distribuição e o tamanho máximo dos tokens\n",
        "token_lens = []\n",
        "\n",
        "for txt in df.content:\n",
        "  tokens = tokenizer.encode(txt, max_length=512)\n",
        "  token_lens.append(len(tokens))\n",
        "\n",
        "sns.distplot(token_lens)\n",
        "plt.xlim([0, 200]);\n",
        "plt.xlabel('Token count');"
      ],
      "metadata": {
        "id": "8VHuvGBbmxLD",
        "outputId": "ae5530cf-9171-4153-e86a-c9522f80b699",
        "colab": {
          "base_uri": "https://localhost:8080/",
          "height": 354
        }
      },
      "execution_count": 22,
      "outputs": [
        {
          "output_type": "stream",
          "name": "stderr",
          "text": [
            "Truncation was not explicitly activated but `max_length` is provided a specific value, please use `truncation=True` to explicitly truncate examples to max length. Defaulting to 'longest_first' truncation strategy. If you encode pairs of sequences (GLUE-style) with the tokenizer you can select this strategy more precisely by providing a specific strategy to `truncation`.\n",
            "/usr/local/lib/python3.7/dist-packages/seaborn/distributions.py:2619: FutureWarning: `distplot` is a deprecated function and will be removed in a future version. Please adapt your code to use either `displot` (a figure-level function with similar flexibility) or `histplot` (an axes-level function for histograms).\n",
            "  warnings.warn(msg, FutureWarning)\n"
          ]
        },
        {
          "output_type": "display_data",
          "data": {
            "text/plain": [
              "<Figure size 432x288 with 1 Axes>"
            ],
            "image/png": "[encoded data removed]"
          },
          "metadata": {
            "needs_background": "light"
          }
        }
      ]
    },
    {
      "cell_type": "markdown",
      "source": [
        "Funcionamento do tokenizador"
      ],
      "metadata": {
        "id": "OBmKk7ynfKxT"
      }
    },
    {
      "cell_type": "code",
      "source": [
        "tokens = tokenizer.encode(\"bonito carro\", return_tensors=\"pt\")\n",
        "print(\"frase tokenizada no formato de tensor pytorch:\")\n",
        "tokens[0]\n",
        "# codifiga cada palavra com um token e adiciona o token de CLS (classificação) e de final de frase (SEP)"
      ],
      "metadata": {
        "colab": {
          "base_uri": "https://localhost:8080/"
        },
        "id": "RGesZq_JekdE",
        "outputId": "39d2296a-0fb9-4bea-9968-567912d8c25f"
      },
      "execution_count": 23,
      "outputs": [
        {
          "output_type": "stream",
          "name": "stdout",
          "text": [
            "frase tokenizada no formato de tensor pytorch:\n"
          ]
        },
        {
          "output_type": "execute_result",
          "data": {
            "text/plain": [
              "tensor([  101, 22003,  3883,   102])"
            ]
          },
          "metadata": {},
          "execution_count": 23
        }
      ]
    },
    {
      "cell_type": "code",
      "source": [
        "tokens = tokenizer.encode(\"carro bonito\", return_tensors=\"pt\").to(device)\n",
        "print(\"frase tokenizada no formato de tensor pytorch:\")\n",
        "tokens[0]"
      ],
      "metadata": {
        "colab": {
          "base_uri": "https://localhost:8080/"
        },
        "id": "8gOueZhaes39",
        "outputId": "eda2ae56-9db0-44e3-8a92-eb26cfebea0e"
      },
      "execution_count": 24,
      "outputs": [
        {
          "output_type": "stream",
          "name": "stdout",
          "text": [
            "frase tokenizada no formato de tensor pytorch:\n"
          ]
        },
        {
          "output_type": "execute_result",
          "data": {
            "text/plain": [
              "tensor([  101,  3883, 22003,   102], device='cuda:0')"
            ]
          },
          "metadata": {},
          "execution_count": 24
        }
      ]
    },
    {
      "cell_type": "code",
      "source": [
        "print(\"frase destokenizada:\")\n",
        "tokenizer.decode(tokens[0])"
      ],
      "metadata": {
        "colab": {
          "base_uri": "https://localhost:8080/",
          "height": 54
        },
        "id": "6FePnuDUeRoF",
        "outputId": "f1978262-8e00-4424-fa19-14486328d5c1"
      },
      "execution_count": 25,
      "outputs": [
        {
          "output_type": "stream",
          "name": "stdout",
          "text": [
            "frase destokenizada:\n"
          ]
        },
        {
          "output_type": "execute_result",
          "data": {
            "text/plain": [
              "'[CLS] carro bonito [SEP]'"
            ],
            "application/vnd.google.colaboratory.intrinsic+json": {
              "type": "string"
            }
          },
          "metadata": {},
          "execution_count": 25
        }
      ]
    },
    {
      "cell_type": "markdown",
      "source": [
        "funcionamento do modelo"
      ],
      "metadata": {
        "id": "FvJ1QBolfdAu"
      }
    },
    {
      "cell_type": "code",
      "source": [
        "result = model(tokens)\n",
        "result\n",
        "# a saída é uma lista de scores one-hot encoded\n",
        "# como ao ser instanciado o modelo, foi escolhido o número de classes como 3, a saída será de 3 números diferentes\n",
        "# cada posição com um significado diferente, conforme o que for utilizado nos dados de treino\n",
        "# no exemplo a posição 1 (0.0417) é a maior (como o modelo ainda não foi treinado, o significado é aleatório)\n",
        "# caso o modelo for treinado com a classificação 0=ruim, 1=neutro, 2=bom, a posição com número maior irá indicar o sentimento geral da frase\n"
      ],
      "metadata": {
        "colab": {
          "base_uri": "https://localhost:8080/"
        },
        "id": "7kFryBZRffEg",
        "outputId": "1a135e72-8ea9-45c3-8f8c-1f23ba7f5051"
      },
      "execution_count": 26,
      "outputs": [
        {
          "output_type": "execute_result",
          "data": {
            "text/plain": [
              "SequenceClassifierOutput(loss=None, logits=tensor([[-0.3483, -0.1720, -0.0204]], device='cuda:0',\n",
              "       grad_fn=<AddmmBackward0>), hidden_states=None, attentions=None)"
            ]
          },
          "metadata": {},
          "execution_count": 26
        }
      ]
    },
    {
      "cell_type": "code",
      "source": [
        "#exemplo do tokenizer em funcionamento\n",
        "# conteúdo do dataloader\n",
        "for batch_idx, inp in enumerate(traindata):\n",
        "    texts, labels = inp['X'], inp['y']\n",
        "\n",
        "    print(texts[0],\"\\n\")\n",
        "    tokens = tokenizer.encode(texts[0], return_tensors=\"pt\")\n",
        "    print(\"frase tokenizada no formato de tensor pytorch:\")\n",
        "    print(tokens[0])\n",
        "    print(\"label da frase tokenizada:\")\n",
        "    print(labels[0],\"\\n\")\n",
        "\n",
        "    # instancia o tokenizador enviando os textos dos comentarios\n",
        "    inputs = tokenizer(texts, return_tensors='pt', padding=True, truncation=True, max_length=max_length).to(device)\n",
        "\n",
        "    print(f\"inputs[0]:\\n {inputs[0]}\\n\")\n",
        "    print(f\"chaves do dicionário inputs:\\n {inputs.keys()}\\n\")\n",
        "    print(f'input_ids (frase tokenizada):\\n {inputs[\"input_ids\"][0]}\\n')\n",
        "    print(f'token_type_ids:\\n {inputs[\"token_type_ids\"][0]}\\n')\n",
        "    print(f'attention_mask:\\n {inputs[\"attention_mask\"][0]}')\n",
        "    \n",
        "\n",
        "    # saída é:\n",
        "    # input_ids = transformações do texto em números, embeddings. onde 101 é token inicial\n",
        "    # attention_mask = tensor que diz quais tokens devem receber atenção pelo modelo\n",
        "    break\n"
      ],
      "metadata": {
        "colab": {
          "base_uri": "https://localhost:8080/"
        },
        "id": "vUIq7cW2Hor1",
        "outputId": "194a5450-5edd-4a6c-9456-7549744c7c3a"
      },
      "execution_count": 27,
      "outputs": [
        {
          "output_type": "stream",
          "name": "stdout",
          "text": [
            "“Bolsonaro pela economia” -economistas apoiam lula  “Bolsonaro por Deus” -os padres apoiam lula   Na última eleição dava pra “entender” o voto nele, mas agora não. Quem votar é muito, mas muito mal caráter \n",
            "\n",
            "frase tokenizada no formato de tensor pytorch:\n",
            "tensor([  101,  1112, 20354,   716,   157,   412,  3338, 22354,   118, 19232,\n",
            "        22281,  6492, 22287,   599,   266,  1112, 20354,   716,   157,   240,\n",
            "         2538, 22354,   118,   259, 13918,  6492, 22287,   599,   266,   503,\n",
            "         2338,  4451, 10348,  1174,  1112,  9050, 22354,   146,  7509,  8807,\n",
            "          117,   449,  2535,   346,   119, 15807, 15857,   253,   785,   117,\n",
            "          449,   785,  3002,  5571,   102])\n",
            "label da frase tokenizada:\n",
            "tensor(0) \n",
            "\n",
            "inputs[0]:\n",
            " Encoding(num_tokens=87, attributes=[ids, type_ids, tokens, offsets, attention_mask, special_tokens_mask, overflowing])\n",
            "\n",
            "chaves do dicionário inputs:\n",
            " dict_keys(['input_ids', 'token_type_ids', 'attention_mask'])\n",
            "\n",
            "input_ids (frase tokenizada):\n",
            " tensor([  101,  1112, 20354,   716,   157,   412,  3338, 22354,   118, 19232,\n",
            "        22281,  6492, 22287,   599,   266,  1112, 20354,   716,   157,   240,\n",
            "         2538, 22354,   118,   259, 13918,  6492, 22287,   599,   266,   503,\n",
            "         2338,  4451, 10348,  1174,  1112,  9050, 22354,   146,  7509,  8807,\n",
            "          117,   449,  2535,   346,   119, 15807, 15857,   253,   785,   117,\n",
            "          449,   785,  3002,  5571,   102,     0,     0,     0,     0,     0,\n",
            "            0,     0,     0,     0,     0,     0,     0,     0,     0,     0,\n",
            "            0,     0,     0,     0,     0,     0,     0,     0,     0,     0,\n",
            "            0,     0,     0,     0,     0,     0,     0], device='cuda:0')\n",
            "\n",
            "token_type_ids:\n",
            " tensor([0, 0, 0, 0, 0, 0, 0, 0, 0, 0, 0, 0, 0, 0, 0, 0, 0, 0, 0, 0, 0, 0, 0, 0,\n",
            "        0, 0, 0, 0, 0, 0, 0, 0, 0, 0, 0, 0, 0, 0, 0, 0, 0, 0, 0, 0, 0, 0, 0, 0,\n",
            "        0, 0, 0, 0, 0, 0, 0, 0, 0, 0, 0, 0, 0, 0, 0, 0, 0, 0, 0, 0, 0, 0, 0, 0,\n",
            "        0, 0, 0, 0, 0, 0, 0, 0, 0, 0, 0, 0, 0, 0, 0], device='cuda:0')\n",
            "\n",
            "attention_mask:\n",
            " tensor([1, 1, 1, 1, 1, 1, 1, 1, 1, 1, 1, 1, 1, 1, 1, 1, 1, 1, 1, 1, 1, 1, 1, 1,\n",
            "        1, 1, 1, 1, 1, 1, 1, 1, 1, 1, 1, 1, 1, 1, 1, 1, 1, 1, 1, 1, 1, 1, 1, 1,\n",
            "        1, 1, 1, 1, 1, 1, 1, 0, 0, 0, 0, 0, 0, 0, 0, 0, 0, 0, 0, 0, 0, 0, 0, 0,\n",
            "        0, 0, 0, 0, 0, 0, 0, 0, 0, 0, 0, 0, 0, 0, 0], device='cuda:0')\n"
          ]
        }
      ]
    },
    {
      "cell_type": "code",
      "source": [
        "# funcionamento do modelo\n",
        "with torch.no_grad():\n",
        "    model.eval()\n",
        "    output = model(inputs['input_ids'], inputs['attention_mask'])\n",
        "\n",
        "    #resultado (passa informações no modelo e ele gera uma lista contendo as saídas numa lista de tensores)\n",
        "    #este modelo já tem camadas densas anexadas à saída do encoder que geram uma lista de probabilidades \n",
        "    #o resultado do modelo pre treinado\n",
        "\n",
        "    #formato da saída:\n",
        "    print(output[0][0])\n",
        "\n",
        "    # como definiu-se 3 labels, a saída é um tensor de 3 números para cada label respectiva\n",
        "    # onde o maior número significa a probabilidade de ser aquela label\n",
        "    # 0 = positivo, 1 = indefinido, 2 = positivo\n",
        "    print(output[0].shape) # o shape da saída mostra quantas frases tinha em cada batch (primeiro número) e quantas labels em cada frase(segundo número)\n",
        "\n",
        "\n",
        "    "
      ],
      "metadata": {
        "colab": {
          "base_uri": "https://localhost:8080/"
        },
        "id": "_h7WF4NHQfWQ",
        "outputId": "62816071-e4f9-4906-9580-4d001994f8a3"
      },
      "execution_count": 28,
      "outputs": [
        {
          "output_type": "stream",
          "name": "stdout",
          "text": [
            "tensor([-0.2116,  0.0180, -0.1400], device='cuda:0')\n",
            "torch.Size([8, 3])\n"
          ]
        }
      ]
    },
    {
      "cell_type": "code",
      "source": [
        "# para extrair a informação do resultado:\n",
        "torch.argmax(result.logits)"
      ],
      "metadata": {
        "colab": {
          "base_uri": "https://localhost:8080/"
        },
        "id": "uR3JlK9xgm9Z",
        "outputId": "e6e228be-0c2c-4abc-a3b1-254149c8d6e1"
      },
      "execution_count": 29,
      "outputs": [
        {
          "output_type": "execute_result",
          "data": {
            "text/plain": [
              "tensor(2, device='cuda:0')"
            ]
          },
          "metadata": {},
          "execution_count": 29
        }
      ]
    },
    {
      "cell_type": "markdown",
      "metadata": {
        "id": "-4XlMiF43y56"
      },
      "source": [
        "Definindo a função de avaliação do modelo"
      ]
    },
    {
      "cell_type": "code",
      "metadata": {
        "id": "AbiO9x2E81CS"
      },
      "source": [
        "def evaluate(model, validationdata):\n",
        "  \"\"\"\n",
        "  avalia o desempenho do modelo que está sendo treinado baseado nos dados de validacao\n",
        "  \"\"\"\n",
        "  # coloca o modelo no modo de avaliação\n",
        "  model.eval()\n",
        "  y_real, y_pred = [], []\n",
        "  for batch_idx, inp in enumerate(validationdata): # passa por cada batch dos dados de teste, batch_idx é o número da batch, inp contem o texto e o label\n",
        "    texts, labels = inp['X'], inp['y']\n",
        "    \n",
        "    # instancia o tokenizador enviando os textos dos comentarios\n",
        "    inputs = tokenizer(texts, return_tensors='pt', padding=True, truncation=True, max_length=max_length).to(device)\n",
        "    # instancia o modelo enviando os tokens e salvando as classificações preditas\n",
        "    output = model(**inputs)\n",
        "    \n",
        "    # cria um tensor com os labels preditos no output\n",
        "    pred_labels = torch.argmax(output.logits, 1)\n",
        "\n",
        "    # print(f\"texto: {texts}, rótulo correto: {labels}, predito pelo modelo: {pred_labels}\") # imprime a frase, o resultado correto e o predito\n",
        "    \n",
        "    # adiciona cada novo label às listas y_real e y_pred(ito)\n",
        "    y_real.extend(labels.tolist())\n",
        "    y_pred.extend(pred_labels.tolist())\n",
        "    \n",
        "    # a cada certa quantidade de itens preditos, printa a % de progresso e o número de itens preditos\n",
        "    if (batch_idx+1) % batch_status == 0:\n",
        "      print('Progress:', round(batch_idx / len(testdata), 2), batch_idx)\n",
        "  \n",
        "  # chama o classification_report do scikitlearn para calcular o resultado após predizer todas as linhas de teste\n",
        "  print(classification_report(y_real, y_pred, labels=[0, 1, 2], target_names=['Negative', 'Neural', 'Positive'])) # identifica os labels 0, 1 e 2 como negativo, neutro e positivo\n",
        "  # retorna f1 e acurácia\n",
        "  f1 = f1_score(y_real, y_pred, average='weighted')\n",
        "  acc = accuracy_score(y_real, y_pred)\n",
        "  return f1, acc"
      ],
      "execution_count": 30,
      "outputs": []
    },
    {
      "cell_type": "markdown",
      "metadata": {
        "id": "BfoYwmza39MJ"
      },
      "source": [
        "Treinamento"
      ]
    },
    {
      "cell_type": "code",
      "metadata": {
        "id": "rRiZCQnO9hE1",
        "colab": {
          "base_uri": "https://localhost:8080/"
        },
        "outputId": "cca257c0-d60d-4ef2-a977-4a93cea3ae5f"
      },
      "source": [
        "max_f1, repeat = 0, 0\n",
        "\n",
        "#  passa por todas as épocas de treino\n",
        "for epoch in range(nepochs):\n",
        "  #seleciona o modo de treino do modelo\n",
        "  model.train()\n",
        "  losses = []\n",
        "\n",
        "  for batch_idx, inp in enumerate(traindata): # passa por cada batch dos dados de teste, batch_idx é o número da batch, inp contem o texto e o label\n",
        "    texts, labels = inp['X'], inp['y']\n",
        "\n",
        "    # instancia o tokenizador enviando os textos dos comentarios\n",
        "    inputs = tokenizer(texts, return_tensors='pt', padding=True, truncation=True, max_length=max_length).to(device)\n",
        "    # zera os gradientes acumulados em buffer \n",
        "    optimizer.zero_grad()\n",
        "    # instancia o modelo enviando os tokens e salvando as classificações preditas\n",
        "    output = model(**inputs, labels=labels.to(device))\n",
        "\n",
        "    # calcula a perda\n",
        "    loss = output.loss\n",
        "    losses.append(float(loss))\n",
        "\n",
        "    # faz o Backpropagation no modelo- com o otimizador definido anteriormente (AdamW)\n",
        "    loss.backward()\n",
        "    optimizer.step()\n",
        "\n",
        "    # mostra o andamento do treinamento\n",
        "    if (batch_idx+1) % batch_status == 0:\n",
        "      print('Train Epoch: {} [{}/{} ({:.0f}%)]\\tLoss: {:.6f}\\tTotal Loss: {:.6f}'.format(\\\n",
        "        epoch, # número da época\n",
        "        batch_idx+1, # número do batch\n",
        "        len(traindata), # número total de dados de treino\n",
        "        100. * batch_idx / len(traindata), # % de dados treinados\n",
        "        float(loss), # perda atual\n",
        "        round(sum(losses) / len(losses), 5) # perda acumulada\n",
        "        ))\n",
        "\n",
        "  # se passou a 1a época, descongela os pesos do Bert pretreinado\n",
        "  if epoch == 0: \n",
        "    for param in model.base_model.parameters():\n",
        "        param.requires_grad = True\n",
        "\n",
        "  # ao terminar cada época, avalia o modelo\n",
        "  f1, acc = evaluate(model, validationdata)\n",
        "  print('F1: ', f1, 'Accuracy: ', acc)\n",
        "\n",
        "  # salva o modelo somente se f1 melhorou em relação à epoch anterior\n",
        "  if f1 > max_f1:\n",
        "    model.save_pretrained(os.path.join(write_path, 'model'))\n",
        "    max_f1 = f1\n",
        "    repeat = 0\n",
        "    print('Saving best model...')\n",
        "  else:\n",
        "    repeat += 1\n",
        "  \n",
        "  # se por duas épocas o f1 não melhorou, para de treinar o modelo\n",
        "  if repeat == early_stop:\n",
        "    break"
      ],
      "execution_count": 31,
      "outputs": [
        {
          "output_type": "stream",
          "name": "stdout",
          "text": [
            "              precision    recall  f1-score   support\n",
            "\n",
            "    Negative       0.00      0.00      0.00        14\n",
            "      Neural       0.00      0.00      0.00         3\n",
            "    Positive       0.21      0.60      0.32         5\n",
            "\n",
            "    accuracy                           0.14        22\n",
            "   macro avg       0.07      0.20      0.11        22\n",
            "weighted avg       0.05      0.14      0.07        22\n",
            "\n",
            "F1:  0.07177033492822966 Accuracy:  0.13636363636363635\n",
            "Saving best model...\n"
          ]
        },
        {
          "output_type": "stream",
          "name": "stderr",
          "text": [
            "/usr/local/lib/python3.7/dist-packages/sklearn/metrics/_classification.py:1318: UndefinedMetricWarning: Precision and F-score are ill-defined and being set to 0.0 in labels with no predicted samples. Use `zero_division` parameter to control this behavior.\n",
            "  _warn_prf(average, modifier, msg_start, len(result))\n",
            "/usr/local/lib/python3.7/dist-packages/sklearn/metrics/_classification.py:1318: UndefinedMetricWarning: Precision and F-score are ill-defined and being set to 0.0 in labels with no predicted samples. Use `zero_division` parameter to control this behavior.\n",
            "  _warn_prf(average, modifier, msg_start, len(result))\n",
            "/usr/local/lib/python3.7/dist-packages/sklearn/metrics/_classification.py:1318: UndefinedMetricWarning: Precision and F-score are ill-defined and being set to 0.0 in labels with no predicted samples. Use `zero_division` parameter to control this behavior.\n",
            "  _warn_prf(average, modifier, msg_start, len(result))\n"
          ]
        },
        {
          "output_type": "stream",
          "name": "stdout",
          "text": [
            "              precision    recall  f1-score   support\n",
            "\n",
            "    Negative       0.00      0.00      0.00        14\n",
            "      Neural       0.00      0.00      0.00         3\n",
            "    Positive       0.23      1.00      0.37         5\n",
            "\n",
            "    accuracy                           0.23        22\n",
            "   macro avg       0.08      0.33      0.12        22\n",
            "weighted avg       0.05      0.23      0.08        22\n",
            "\n",
            "F1:  0.08417508417508417 Accuracy:  0.22727272727272727\n",
            "Saving best model...\n"
          ]
        },
        {
          "output_type": "stream",
          "name": "stderr",
          "text": [
            "/usr/local/lib/python3.7/dist-packages/sklearn/metrics/_classification.py:1318: UndefinedMetricWarning: Precision and F-score are ill-defined and being set to 0.0 in labels with no predicted samples. Use `zero_division` parameter to control this behavior.\n",
            "  _warn_prf(average, modifier, msg_start, len(result))\n",
            "/usr/local/lib/python3.7/dist-packages/sklearn/metrics/_classification.py:1318: UndefinedMetricWarning: Precision and F-score are ill-defined and being set to 0.0 in labels with no predicted samples. Use `zero_division` parameter to control this behavior.\n",
            "  _warn_prf(average, modifier, msg_start, len(result))\n",
            "/usr/local/lib/python3.7/dist-packages/sklearn/metrics/_classification.py:1318: UndefinedMetricWarning: Precision and F-score are ill-defined and being set to 0.0 in labels with no predicted samples. Use `zero_division` parameter to control this behavior.\n",
            "  _warn_prf(average, modifier, msg_start, len(result))\n"
          ]
        },
        {
          "output_type": "stream",
          "name": "stdout",
          "text": [
            "              precision    recall  f1-score   support\n",
            "\n",
            "    Negative       0.71      0.36      0.48        14\n",
            "      Neural       0.00      0.00      0.00         3\n",
            "    Positive       0.20      0.60      0.30         5\n",
            "\n",
            "    accuracy                           0.36        22\n",
            "   macro avg       0.30      0.32      0.26        22\n",
            "weighted avg       0.50      0.36      0.37        22\n",
            "\n",
            "F1:  0.37121212121212127 Accuracy:  0.36363636363636365\n",
            "Saving best model...\n"
          ]
        },
        {
          "output_type": "stream",
          "name": "stderr",
          "text": [
            "/usr/local/lib/python3.7/dist-packages/sklearn/metrics/_classification.py:1318: UndefinedMetricWarning: Precision and F-score are ill-defined and being set to 0.0 in labels with no predicted samples. Use `zero_division` parameter to control this behavior.\n",
            "  _warn_prf(average, modifier, msg_start, len(result))\n",
            "/usr/local/lib/python3.7/dist-packages/sklearn/metrics/_classification.py:1318: UndefinedMetricWarning: Precision and F-score are ill-defined and being set to 0.0 in labels with no predicted samples. Use `zero_division` parameter to control this behavior.\n",
            "  _warn_prf(average, modifier, msg_start, len(result))\n",
            "/usr/local/lib/python3.7/dist-packages/sklearn/metrics/_classification.py:1318: UndefinedMetricWarning: Precision and F-score are ill-defined and being set to 0.0 in labels with no predicted samples. Use `zero_division` parameter to control this behavior.\n",
            "  _warn_prf(average, modifier, msg_start, len(result))\n"
          ]
        },
        {
          "output_type": "stream",
          "name": "stdout",
          "text": [
            "              precision    recall  f1-score   support\n",
            "\n",
            "    Negative       0.80      0.57      0.67        14\n",
            "      Neural       0.00      0.00      0.00         3\n",
            "    Positive       0.25      0.60      0.35         5\n",
            "\n",
            "    accuracy                           0.50        22\n",
            "   macro avg       0.35      0.39      0.34        22\n",
            "weighted avg       0.57      0.50      0.50        22\n",
            "\n",
            "F1:  0.5044563279857397 Accuracy:  0.5\n",
            "Saving best model...\n",
            "              precision    recall  f1-score   support\n",
            "\n",
            "    Negative       0.92      0.86      0.89        14\n",
            "      Neural       1.00      0.33      0.50         3\n",
            "    Positive       0.50      0.80      0.62         5\n",
            "\n",
            "    accuracy                           0.77        22\n",
            "   macro avg       0.81      0.66      0.67        22\n",
            "weighted avg       0.84      0.77      0.77        22\n",
            "\n",
            "F1:  0.7736985236985238 Accuracy:  0.7727272727272727\n",
            "Saving best model...\n",
            "              precision    recall  f1-score   support\n",
            "\n",
            "    Negative       0.83      0.36      0.50        14\n",
            "      Neural       1.00      0.33      0.50         3\n",
            "    Positive       0.27      0.80      0.40         5\n",
            "\n",
            "    accuracy                           0.45        22\n",
            "   macro avg       0.70      0.50      0.47        22\n",
            "weighted avg       0.73      0.45      0.48        22\n",
            "\n",
            "F1:  0.4772727272727273 Accuracy:  0.45454545454545453\n",
            "              precision    recall  f1-score   support\n",
            "\n",
            "    Negative       0.89      0.57      0.70        14\n",
            "      Neural       1.00      0.33      0.50         3\n",
            "    Positive       0.33      0.80      0.47         5\n",
            "\n",
            "    accuracy                           0.59        22\n",
            "   macro avg       0.74      0.57      0.56        22\n",
            "weighted avg       0.78      0.59      0.62        22\n",
            "\n",
            "F1:  0.6178214368751453 Accuracy:  0.5909090909090909\n"
          ]
        }
      ]
    },
    {
      "cell_type": "code",
      "source": [
        "  # avaliação final do modelo nos dados de teste\n",
        "  f1, acc = evaluate(model, testdata)\n",
        "  print('F1: ', f1, 'Accuracy: ', acc)"
      ],
      "metadata": {
        "colab": {
          "base_uri": "https://localhost:8080/"
        },
        "id": "apWRlEDuafo_",
        "outputId": "440ec847-ae8f-44e2-d91a-5b686a6d5797"
      },
      "execution_count": 32,
      "outputs": [
        {
          "output_type": "stream",
          "name": "stdout",
          "text": [
            "              precision    recall  f1-score   support\n",
            "\n",
            "    Negative       0.38      0.60      0.46         5\n",
            "      Neural       0.50      0.20      0.29         5\n",
            "    Positive       0.75      0.75      0.75        12\n",
            "\n",
            "    accuracy                           0.59        22\n",
            "   macro avg       0.54      0.52      0.50        22\n",
            "weighted avg       0.61      0.59      0.58        22\n",
            "\n",
            "F1:  0.5789210789210789 Accuracy:  0.5909090909090909\n"
          ]
        }
      ]
    },
    {
      "cell_type": "code",
      "source": [
        "texts = \"bolsonaro é horrível\"\n",
        "\n",
        "# instancia o tokenizador enviando os textos dos comentarios\n",
        "inputs = tokenizer(texts, return_tensors='pt', padding=True, truncation=True, max_length=max_length).to(device)\n",
        "# instancia o modelo enviando os tokens e salvando as classificações preditas\n",
        "output = model(**inputs)\n",
        "\n",
        "# cria um tensor com os labels preditos no output\n",
        "pred_labels = torch.argmax(output.logits, 1).item()\n",
        "\n",
        "print(f\"texto: {texts}, rótulo predito pelo modelo: {pred_labels}\") # imprime a frase, o resultado correto e o predito"
      ],
      "metadata": {
        "colab": {
          "base_uri": "https://localhost:8080/"
        },
        "id": "hUx4gHm0jt_c",
        "outputId": "79edd4e5-de0e-47d3-a3be-c000f17aa81f"
      },
      "execution_count": 46,
      "outputs": [
        {
          "output_type": "stream",
          "name": "stdout",
          "text": [
            "texto: bolsonaro é horrível, rótulo predito pelo modelo: 0\n"
          ]
        }
      ]
    },
    {
      "cell_type": "code",
      "source": [
        "texts = \"bolsonaro é ótimo, votem 22\"\n",
        "\n",
        "# instancia o tokenizador enviando os textos dos comentarios\n",
        "inputs = tokenizer(texts, return_tensors='pt', padding=True, truncation=True, max_length=max_length).to(device)\n",
        "# instancia o modelo enviando os tokens e salvando as classificações preditas\n",
        "output = model(**inputs)\n",
        "\n",
        "# cria um tensor com os labels preditos no output\n",
        "pred_labels = torch.argmax(output.logits, 1).item()\n",
        "\n",
        "print(f\"texto: {texts}, rótulo predito pelo modelo: {pred_labels}\") # imprime a frase, o resultado correto e o predito"
      ],
      "metadata": {
        "colab": {
          "base_uri": "https://localhost:8080/"
        },
        "id": "vN_bY4xtlIHf",
        "outputId": "76ec896b-c441-49af-8c34-10015752ca33"
      },
      "execution_count": 47,
      "outputs": [
        {
          "output_type": "stream",
          "name": "stdout",
          "text": [
            "texto: bolsonaro é ótimo, votem 22, rótulo predito pelo modelo: 2\n"
          ]
        }
      ]
    },
    {
      "cell_type": "code",
      "source": [
        "texts = \"tweet aleatório sem sentido\"\n",
        "\n",
        "# instancia o tokenizador enviando os textos dos comentarios\n",
        "inputs = tokenizer(texts, return_tensors='pt', padding=True, truncation=True, max_length=max_length).to(device)\n",
        "# instancia o modelo enviando os tokens e salvando as classificações preditas\n",
        "output = model(**inputs)\n",
        "\n",
        "# cria um tensor com os labels preditos no output\n",
        "pred_labels = torch.argmax(output.logits, 1).item()\n",
        "\n",
        "print(f\"texto: {texts}, rótulo predito pelo modelo: {pred_labels}\") # imprime a frase, o resultado correto e o predito"
      ],
      "metadata": {
        "colab": {
          "base_uri": "https://localhost:8080/"
        },
        "id": "YBwGwZurlMok",
        "outputId": "c14eea28-e28f-4598-8556-02b5f8013f9a"
      },
      "execution_count": 35,
      "outputs": [
        {
          "output_type": "stream",
          "name": "stdout",
          "text": [
            "texto: tweet aleatório sem sentido, rótulo predito pelo modelo: 0\n"
          ]
        }
      ]
    },
    {
      "cell_type": "code",
      "source": [
        "#reduced_df = full_df.head(10000) # seleciona apenas 5000 linhas para teste\n",
        "reduced_df = full_df"
      ],
      "metadata": {
        "id": "b2Hi-lWBJgBl"
      },
      "execution_count": 36,
      "outputs": []
    },
    {
      "cell_type": "code",
      "source": [
        "\n",
        "# iterates through the dataframe tweets_lula and prints the text of the 'content' column at each iteration\n",
        "for index, row in reduced_df.iterrows():\n",
        "    # instancia o tokenizador enviando os textos dos comentarios\n",
        "    inputs = tokenizer(str(row['content']), return_tensors='pt', padding=True, truncation=True, max_length=max_length).to(device)\n",
        "    # instancia o modelo enviando os tokens e salvando as classificações preditas\n",
        "    output = model(**inputs)\n",
        "    # cria um tensor com os labels preditos no output e extrai a predição do tensor\n",
        "    reduced_df['label'][index] = torch.argmax(output.logits).item()\n",
        "\n",
        "    if index % 2000 == 0:\n",
        "      print(f\"{index}/{len(reduced_df)}\")\n",
        "    #print(reduced_df['label'])\n",
        "    \n"
      ],
      "metadata": {
        "colab": {
          "base_uri": "https://localhost:8080/"
        },
        "id": "bYuwXKsz5RKc",
        "outputId": "3f3f9a82-9dc2-4990-c80f-3e32a2e57ffd"
      },
      "execution_count": 37,
      "outputs": [
        {
          "output_type": "stream",
          "name": "stdout",
          "text": [
            "0/28029\n"
          ]
        },
        {
          "output_type": "stream",
          "name": "stderr",
          "text": [
            "/usr/local/lib/python3.7/dist-packages/ipykernel_launcher.py:8: SettingWithCopyWarning: \n",
            "A value is trying to be set on a copy of a slice from a DataFrame\n",
            "\n",
            "See the caveats in the documentation: https://pandas.pydata.org/pandas-docs/stable/user_guide/indexing.html#returning-a-view-versus-a-copy\n",
            "  \n"
          ]
        },
        {
          "output_type": "stream",
          "name": "stdout",
          "text": [
            "2000/28029\n",
            "4000/28029\n",
            "6000/28029\n",
            "8000/28029\n",
            "10000/28029\n",
            "12000/28029\n",
            "14000/28029\n",
            "16000/28029\n",
            "18000/28029\n",
            "20000/28029\n",
            "22000/28029\n",
            "24000/28029\n",
            "26000/28029\n",
            "28000/28029\n"
          ]
        }
      ]
    },
    {
      "cell_type": "code",
      "source": [
        "# nmostra a proporção de labels no resultado final total\n",
        "reduced_df['label'].value_counts().plot.pie(autopct='%.2f')"
      ],
      "metadata": {
        "id": "LkhxhKKqH3S9",
        "colab": {
          "base_uri": "https://localhost:8080/",
          "height": 266
        },
        "outputId": "ba1951ea-9bc6-48bd-ea7c-e3e4ea787d63"
      },
      "execution_count": 38,
      "outputs": [
        {
          "output_type": "execute_result",
          "data": {
            "text/plain": [
              "<matplotlib.axes._subplots.AxesSubplot at 0x7f91d3d52390>"
            ]
          },
          "metadata": {},
          "execution_count": 38
        },
        {
          "output_type": "display_data",
          "data": {
            "text/plain": [
              "<Figure size 432x288 with 1 Axes>"
            ],
            "image/png": "[encoded data removed]"
          },
          "metadata": {}
        }
      ]
    },
    {
      "cell_type": "code",
      "source": [
        "# transforma a data em time series\n",
        "reduced_df['date'] = pd.to_datetime(full_df['date'])\n"
      ],
      "metadata": {
        "id": "MAcHMqWu6jnJ"
      },
      "execution_count": 39,
      "outputs": []
    },
    {
      "cell_type": "code",
      "source": [
        "# agrupa o total de labels por dia\n",
        "reduced_df_grouped = reduced_df.groupby(['label', pd.Grouper(key='date', freq='D')]).count()"
      ],
      "metadata": {
        "id": "LklHxUMyBXjx"
      },
      "execution_count": 40,
      "outputs": []
    },
    {
      "cell_type": "code",
      "source": [
        "reduced_df_grouped.head(10)"
      ],
      "metadata": {
        "id": "A5pgTDSFG9Sv",
        "colab": {
          "base_uri": "https://localhost:8080/",
          "height": 394
        },
        "outputId": "01c6b2a9-c2da-415e-d815-bc88406589a6"
      },
      "execution_count": 41,
      "outputs": [
        {
          "output_type": "execute_result",
          "data": {
            "text/plain": [
              "                  content  filtered_text\n",
              "label date                              \n",
              "0.0   2022-02-10      418            418\n",
              "      2022-03-10      377            377\n",
              "      2022-04-10      373            373\n",
              "      2022-05-10      493            493\n",
              "      2022-06-10      428            428\n",
              "      2022-07-10      385            385\n",
              "      2022-08-10      357            357\n",
              "      2022-09-10      361            361\n",
              "      2022-10-10      410            410\n",
              "      2022-10-13      411            411"
            ],
            "text/html": [
              "\n",
              "  <div id=\"df-742e0292-f909-480f-b918-dadc1bb3d9ca\">\n",
              "    <div class=\"colab-df-container\">\n",
              "      <div>\n",
              "<style scoped>\n",
              "    .dataframe tbody tr th:only-of-type {\n",
              "        vertical-align: middle;\n",
              "    }\n",
              "\n",
              "    .dataframe tbody tr th {\n",
              "        vertical-align: top;\n",
              "    }\n",
              "\n",
              "    .dataframe thead th {\n",
              "        text-align: right;\n",
              "    }\n",
              "</style>\n",
              "<table border=\"1\" class=\"dataframe\">\n",
              "  <thead>\n",
              "    <tr style=\"text-align: right;\">\n",
              "      <th></th>\n",
              "      <th></th>\n",
              "      <th>content</th>\n",
              "      <th>filtered_text</th>\n",
              "    </tr>\n",
              "    <tr>\n",
              "      <th>label</th>\n",
              "      <th>date</th>\n",
              "      <th></th>\n",
              "      <th></th>\n",
              "    </tr>\n",
              "  </thead>\n",
              "  <tbody>\n",
              "    <tr>\n",
              "      <th rowspan=\"10\" valign=\"top\">0.0</th>\n",
              "      <th>2022-02-10</th>\n",
              "      <td>418</td>\n",
              "      <td>418</td>\n",
              "    </tr>\n",
              "    <tr>\n",
              "      <th>2022-03-10</th>\n",
              "      <td>377</td>\n",
              "      <td>377</td>\n",
              "    </tr>\n",
              "    <tr>\n",
              "      <th>2022-04-10</th>\n",
              "      <td>373</td>\n",
              "      <td>373</td>\n",
              "    </tr>\n",
              "    <tr>\n",
              "      <th>2022-05-10</th>\n",
              "      <td>493</td>\n",
              "      <td>493</td>\n",
              "    </tr>\n",
              "    <tr>\n",
              "      <th>2022-06-10</th>\n",
              "      <td>428</td>\n",
              "      <td>428</td>\n",
              "    </tr>\n",
              "    <tr>\n",
              "      <th>2022-07-10</th>\n",
              "      <td>385</td>\n",
              "      <td>385</td>\n",
              "    </tr>\n",
              "    <tr>\n",
              "      <th>2022-08-10</th>\n",
              "      <td>357</td>\n",
              "      <td>357</td>\n",
              "    </tr>\n",
              "    <tr>\n",
              "      <th>2022-09-10</th>\n",
              "      <td>361</td>\n",
              "      <td>361</td>\n",
              "    </tr>\n",
              "    <tr>\n",
              "      <th>2022-10-10</th>\n",
              "      <td>410</td>\n",
              "      <td>410</td>\n",
              "    </tr>\n",
              "    <tr>\n",
              "      <th>2022-10-13</th>\n",
              "      <td>411</td>\n",
              "      <td>411</td>\n",
              "    </tr>\n",
              "  </tbody>\n",
              "</table>\n",
              "</div>\n",
              "      <button class=\"colab-df-convert\" onclick=\"convertToInteractive('df-742e0292-f909-480f-b918-dadc1bb3d9ca')\"\n",
              "              title=\"Convert this dataframe to an interactive table.\"\n",
              "              style=\"display:none;\">\n",
              "        \n",
              "  <svg xmlns=\"http://www.w3.org/2000/svg\" height=\"24px\"viewBox=\"0 0 24 24\"\n",
              "       width=\"24px\">\n",
              "    <path d=\"M0 0h24v24H0V0z\" fill=\"none\"/>\n",
              "    <path d=\"M18.56 5.44l.94 2.06.94-2.06 2.06-.94-2.06-.94-.94-2.06-.94 2.06-2.06.94zm-11 1L8.5 8.5l.94-2.06 2.06-.94-2.06-.94L8.5 2.5l-.94 2.06-2.06.94zm10 10l.94 2.06.94-2.06 2.06-.94-2.06-.94-.94-2.06-.94 2.06-2.06.94z\"/><path d=\"M17.41 7.96l-1.37-1.37c-.4-.4-.92-.59-1.43-.59-.52 0-1.04.2-1.43.59L10.3 9.45l-7.72 7.72c-.78.78-.78 2.05 0 2.83L4 21.41c.39.39.9.59 1.41.59.51 0 1.02-.2 1.41-.59l7.78-7.78 2.81-2.81c.8-.78.8-2.07 0-2.86zM5.41 20L4 18.59l7.72-7.72 1.47 1.35L5.41 20z\"/>\n",
              "  </svg>\n",
              "      </button>\n",
              "      \n",
              "  <style>\n",
              "    .colab-df-container {\n",
              "      display:flex;\n",
              "      flex-wrap:wrap;\n",
              "      gap: 12px;\n",
              "    }\n",
              "\n",
              "    .colab-df-convert {\n",
              "      background-color: #E8F0FE;\n",
              "      border: none;\n",
              "      border-radius: 50%;\n",
              "      cursor: pointer;\n",
              "      display: none;\n",
              "      fill: #1967D2;\n",
              "      height: 32px;\n",
              "      padding: 0 0 0 0;\n",
              "      width: 32px;\n",
              "    }\n",
              "\n",
              "    .colab-df-convert:hover {\n",
              "      background-color: #E2EBFA;\n",
              "      box-shadow: 0px 1px 2px rgba(60, 64, 67, 0.3), 0px 1px 3px 1px rgba(60, 64, 67, 0.15);\n",
              "      fill: #174EA6;\n",
              "    }\n",
              "\n",
              "    [theme=dark] .colab-df-convert {\n",
              "      background-color: #3B4455;\n",
              "      fill: #D2E3FC;\n",
              "    }\n",
              "\n",
              "    [theme=dark] .colab-df-convert:hover {\n",
              "      background-color: #434B5C;\n",
              "      box-shadow: 0px 1px 3px 1px rgba(0, 0, 0, 0.15);\n",
              "      filter: drop-shadow(0px 1px 2px rgba(0, 0, 0, 0.3));\n",
              "      fill: #FFFFFF;\n",
              "    }\n",
              "  </style>\n",
              "\n",
              "      <script>\n",
              "        const buttonEl =\n",
              "          document.querySelector('#df-742e0292-f909-480f-b918-dadc1bb3d9ca button.colab-df-convert');\n",
              "        buttonEl.style.display =\n",
              "          google.colab.kernel.accessAllowed ? 'block' : 'none';\n",
              "\n",
              "        async function convertToInteractive(key) {\n",
              "          const element = document.querySelector('#df-742e0292-f909-480f-b918-dadc1bb3d9ca');\n",
              "          const dataTable =\n",
              "            await google.colab.kernel.invokeFunction('convertToInteractive',\n",
              "                                                     [key], {});\n",
              "          if (!dataTable) return;\n",
              "\n",
              "          const docLinkHtml = 'Like what you see? Visit the ' +\n",
              "            '<a target=\"_blank\" href=https://colab.research.google.com/notebooks/data_table.ipynb>data table notebook</a>'\n",
              "            + ' to learn more about interactive tables.';\n",
              "          element.innerHTML = '';\n",
              "          dataTable['output_type'] = 'display_data';\n",
              "          await google.colab.output.renderOutput(dataTable, element);\n",
              "          const docLink = document.createElement('div');\n",
              "          docLink.innerHTML = docLinkHtml;\n",
              "          element.appendChild(docLink);\n",
              "        }\n",
              "      </script>\n",
              "    </div>\n",
              "  </div>\n",
              "  "
            ]
          },
          "metadata": {},
          "execution_count": 41
        }
      ]
    },
    {
      "cell_type": "code",
      "source": [
        "# faz o pivot transformando as linhas de diferente labels em colunas\n",
        "reduced_df_grouped = reduced_df_grouped.pivot_table(index='date', columns='label', values='content')"
      ],
      "metadata": {
        "id": "5H6bwFA_O_4x"
      },
      "execution_count": 42,
      "outputs": []
    },
    {
      "cell_type": "code",
      "source": [
        "#remove coluna com label 1 (indefinidos)\n",
        "reduced_df_grouped = reduced_df_grouped.drop(columns=[1])"
      ],
      "metadata": {
        "id": "zHZ62wtuS5np"
      },
      "execution_count": 43,
      "outputs": []
    },
    {
      "cell_type": "code",
      "source": [
        "#plota o gráfico\n",
        "reduced_df_grouped.plot(kind='bar', stacked=True, figsize=(20,10))"
      ],
      "metadata": {
        "id": "WCX5BIGaPqN4",
        "colab": {
          "base_uri": "https://localhost:8080/",
          "height": 719
        },
        "outputId": "b6ee7a54-46d3-45e7-8b65-770042875288"
      },
      "execution_count": 44,
      "outputs": [
        {
          "output_type": "execute_result",
          "data": {
            "text/plain": [
              "<matplotlib.axes._subplots.AxesSubplot at 0x7f91d3cf0e50>"
            ]
          },
          "metadata": {},
          "execution_count": 44
        },
        {
          "output_type": "display_data",
          "data": {
            "text/plain": [
              "<Figure size 1440x720 with 1 Axes>"
            ],
            "image/png": "[encoded data removed]"
          },
          "metadata": {
            "needs_background": "light"
          }
        }
      ]
    },
    {
      "cell_type": "code",
      "source": [
        "stacked_data = reduced_df_grouped.apply(lambda x: x*100/sum(x), axis=1)\n",
        "stacked_data.plot(kind=\"bar\", stacked=True,  figsize=(20,10))\n",
        "plt.title(\"Variação de sentimento\")\n",
        "plt.xlabel(\"Data\")\n",
        "plt.ylabel(\"Porcentagem de cada Sentimento\")"
      ],
      "metadata": {
        "id": "i-WZyDc4e4X0",
        "colab": {
          "base_uri": "https://localhost:8080/",
          "height": 735
        },
        "outputId": "a84888a4-e041-45bc-fdf6-6103681ee6b6"
      },
      "execution_count": 45,
      "outputs": [
        {
          "output_type": "execute_result",
          "data": {
            "text/plain": [
              "Text(0, 0.5, 'Porcentagem de cada Sentimento')"
            ]
          },
          "metadata": {},
          "execution_count": 45
        },
        {
          "output_type": "display_data",
          "data": {
            "text/plain": [
              "<Figure size 1440x720 with 1 Axes>"
            ],
            "image/png": "[encoded data removed]"
          },
          "metadata": {
            "needs_background": "light"
          }
        }
      ]
    }
  ]
}